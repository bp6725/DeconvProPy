{
 "cells": [
  {
   "cell_type": "code",
   "execution_count": 1,
   "metadata": {},
   "outputs": [
    {
     "name": "stderr",
     "output_type": "stream",
     "text": [
      "Warning message:\n",
      "\"package 'DEP' was built under R version 3.5.2\"\n",
      "Warning message in fun(libname, pkgname):\n",
      "\"mzR has been built against a different Rcpp version (1.0.0)\n",
      "than is installed on your system (1.0.3). This might lead to errors\n",
      "when loading mzR. If you encounter such issues, please send a report,\n",
      "including the output of sessionInfo() to the Bioc support forum at \n",
      "https://support.bioconductor.org/. For details see also\n",
      "https://github.com/sneumann/mzR/wiki/mzR-Rcpp-compiler-linker-issue.\"\n",
      "Warning message:\n",
      "\"package 'dplyr' was built under R version 3.5.3\"\n",
      "\n",
      "Attaching package: 'dplyr'\n",
      "\n",
      "\n",
      "The following objects are masked from 'package:stats':\n",
      "\n",
      "    filter, lag\n",
      "\n",
      "\n",
      "The following objects are masked from 'package:base':\n",
      "\n",
      "    intersect, setdiff, setequal, union\n",
      "\n",
      "\n"
     ]
    }
   ],
   "source": [
    "library(\"DEP\")\n",
    "library(\"dplyr\")"
   ]
  },
  {
   "cell_type": "code",
   "execution_count": 2,
   "metadata": {},
   "outputs": [],
   "source": [
    "type = \"LFQ\" ; target_path = \"AGG_LFQ_DEP_DE.csv\"\n",
    "# type = \"iBAQ\"; target_path = \"AGG_IBAQ_DEP_DE.csv\"\n",
    "# type = \"Intensity\"; target_path = \"AGG_INTENSITY_DEP_DE.csv\"\n",
    "\n",
    "file <- paste0('../../data//',type,'_profiles_agg_cells.csv')\n",
    "ed_file <-'../../data//profile_agg_experimental_design.csv'\n",
    "\n",
    "data <- read.csv2(file,sep = \",\")\n",
    "# experimental_design <- read.table(ed_file, header=TRUE, sep=\"\\t\", stringsAsFactors = FALSE)\n",
    "experimental_design <- read.table(ed_file, header=TRUE, sep=\";\", stringsAsFactors = FALSE)\n",
    "experimental_design$X <- NULL"
   ]
  },
  {
   "cell_type": "code",
   "execution_count": 3,
   "metadata": {
    "code_folding": [],
    "scrolled": true
   },
   "outputs": [],
   "source": [
    "# ed_file <-'../../data//profile_agg_experimental_design.csv'\n",
    "# cells_list <- colnames(data)[grep(\"._0\", colnames(data))]\n",
    "# label <- cells_list\n",
    "# condition <- sapply(cells_list,function(x)  strsplit(x,\"._0\")[[1]][1])\n",
    "# replicate <- sapply(cells_list,function(x)  strsplit(x,\"._0\")[[1]][2])\n",
    "\n",
    "# experimental_design <- data.frame(label,condition,replicate)"
   ]
  },
  {
   "cell_type": "code",
   "execution_count": 4,
   "metadata": {},
   "outputs": [],
   "source": [
    "data_unique <- make_unique(data,'major_protein_id' ,\"Gene.names\",delim = \" \")\n",
    "\n",
    "LFQ_columns <- grep(\"_0\", colnames(data_unique))\n",
    "data_unique[,LFQ_columns] <- apply(data_unique[,LFQ_columns],2,as.numeric)"
   ]
  },
  {
   "cell_type": "code",
   "execution_count": 5,
   "metadata": {},
   "outputs": [],
   "source": [
    "data_se <- make_se(data_unique, LFQ_columns, experimental_design)\n",
    "\n",
    "data_filt <- filter_missval(data_se, thr = 0)"
   ]
  },
  {
   "cell_type": "code",
   "execution_count": 6,
   "metadata": {
    "scrolled": true
   },
   "outputs": [
    {
     "name": "stderr",
     "output_type": "stream",
     "text": [
      "Loading required package: imputeLCMD\n",
      "\n",
      "Warning message:\n",
      "\"package 'imputeLCMD' was built under R version 3.5.3\"\n",
      "Loading required package: tmvtnorm\n",
      "\n",
      "Warning message:\n",
      "\"package 'tmvtnorm' was built under R version 3.5.3\"\n",
      "Loading required package: mvtnorm\n",
      "\n",
      "Warning message:\n",
      "\"package 'mvtnorm' was built under R version 3.5.3\"\n",
      "Loading required package: Matrix\n",
      "\n",
      "Warning message:\n",
      "\"package 'Matrix' was built under R version 3.5.3\"\n",
      "Loading required package: stats4\n",
      "\n",
      "Loading required package: gmm\n",
      "\n",
      "Warning message:\n",
      "\"package 'gmm' was built under R version 3.5.3\"\n",
      "Loading required package: sandwich\n",
      "\n",
      "Warning message:\n",
      "\"package 'sandwich' was built under R version 3.5.3\"\n",
      "Loading required package: norm\n",
      "\n",
      "Warning message:\n",
      "\"package 'norm' was built under R version 3.5.2\"\n",
      "Loading required package: pcaMethods\n",
      "\n",
      "Loading required package: Biobase\n",
      "\n",
      "Loading required package: BiocGenerics\n",
      "\n",
      "Loading required package: parallel\n",
      "\n",
      "\n",
      "Attaching package: 'BiocGenerics'\n",
      "\n",
      "\n",
      "The following objects are masked from 'package:parallel':\n",
      "\n",
      "    clusterApply, clusterApplyLB, clusterCall, clusterEvalQ,\n",
      "    clusterExport, clusterMap, parApply, parCapply, parLapply,\n",
      "    parLapplyLB, parRapply, parSapply, parSapplyLB\n",
      "\n",
      "\n",
      "The following objects are masked from 'package:Matrix':\n",
      "\n",
      "    colMeans, colSums, rowMeans, rowSums, which\n",
      "\n",
      "\n",
      "The following objects are masked from 'package:dplyr':\n",
      "\n",
      "    combine, intersect, setdiff, union\n",
      "\n",
      "\n",
      "The following objects are masked from 'package:stats':\n",
      "\n",
      "    IQR, mad, sd, var, xtabs\n",
      "\n",
      "\n",
      "The following objects are masked from 'package:base':\n",
      "\n",
      "    anyDuplicated, append, as.data.frame, basename, cbind, colMeans,\n",
      "    colnames, colSums, dirname, do.call, duplicated, eval, evalq,\n",
      "    Filter, Find, get, grep, grepl, intersect, is.unsorted, lapply,\n",
      "    lengths, Map, mapply, match, mget, order, paste, pmax, pmax.int,\n",
      "    pmin, pmin.int, Position, rank, rbind, Reduce, rowMeans, rownames,\n",
      "    rowSums, sapply, setdiff, sort, table, tapply, union, unique,\n",
      "    unsplit, which, which.max, which.min\n",
      "\n",
      "\n",
      "Welcome to Bioconductor\n",
      "\n",
      "    Vignettes contain introductory material; view with\n",
      "    'browseVignettes()'. To cite Bioconductor, see\n",
      "    'citation(\"Biobase\")', and for packages 'citation(\"pkgname\")'.\n",
      "\n",
      "\n",
      "\n",
      "Attaching package: 'pcaMethods'\n",
      "\n",
      "\n",
      "The following object is masked from 'package:stats':\n",
      "\n",
      "    loadings\n",
      "\n",
      "\n",
      "Loading required package: impute\n",
      "\n"
     ]
    },
    {
     "name": "stdout",
     "output_type": "stream",
     "text": [
      "[1] 0.7479245\n"
     ]
    }
   ],
   "source": [
    "data_norm <- normalize_vsn(data_filt)\n",
    "data_imp <- impute(data_norm, fun = \"MinProb\", q = 0.01)"
   ]
  },
  {
   "cell_type": "code",
   "execution_count": 7,
   "metadata": {
    "scrolled": true
   },
   "outputs": [
    {
     "name": "stderr",
     "output_type": "stream",
     "text": [
      "Tested contrasts: B.cells_vs_CD4..effector.memory.T.cell, B.cells_vs_CD4.central.memory.Tcell, B.cells_vs_CD8..effector.memory.T.cell, B.cells_vs_Monocyte, B.cells_vs_Na.ve.CD4.Tcel, B.cells_vs_Na.ve.CD8.Tcel, B.cells_vs_Plasmacytoid.dendritic.cell, CD4..effector.memory.T.cell_vs_CD4.central.memory.Tcell, CD4..effector.memory.T.cell_vs_CD8..effector.memory.T.cell, CD4..effector.memory.T.cell_vs_Monocyte, CD4..effector.memory.T.cell_vs_Na.ve.CD4.Tcel, CD4..effector.memory.T.cell_vs_Na.ve.CD8.Tcel, CD4..effector.memory.T.cell_vs_Plasmacytoid.dendritic.cell, CD4.central.memory.Tcell_vs_CD8..effector.memory.T.cell, CD4.central.memory.Tcell_vs_Monocyte, CD4.central.memory.Tcell_vs_Na.ve.CD4.Tcel, CD4.central.memory.Tcell_vs_Na.ve.CD8.Tcel, CD4.central.memory.Tcell_vs_Plasmacytoid.dendritic.cell, CD8..effector.memory.T.cell_vs_Monocyte, CD8..effector.memory.T.cell_vs_Na.ve.CD4.Tcel, CD8..effector.memory.T.cell_vs_Na.ve.CD8.Tcel, CD8..effector.memory.T.cell_vs_Plasmacytoid.dendritic.cell, Monocyte_vs_Na.ve.CD4.Tcel, Monocyte_vs_Na.ve.CD8.Tcel, Monocyte_vs_Plasmacytoid.dendritic.cell, Na.ve.CD4.Tcel_vs_Na.ve.CD8.Tcel, Na.ve.CD4.Tcel_vs_Plasmacytoid.dendritic.cell, Na.ve.CD8.Tcel_vs_Plasmacytoid.dendritic.cell\n",
      "\n"
     ]
    }
   ],
   "source": [
    "data_diff_all_contrasts <- test_diff(data_imp,  type = \"all\")\n",
    "dep <- add_rejections(data_diff_all_contrasts, alpha = 0.05, lfc = log2(1.5))\n",
    "\n",
    "data_results <- get_results(dep)"
   ]
  },
  {
   "cell_type": "code",
   "execution_count": 9,
   "metadata": {},
   "outputs": [],
   "source": [
    "# write.csv2(data_results,target_path)"
   ]
  },
  {
   "cell_type": "code",
   "execution_count": null,
   "metadata": {},
   "outputs": [],
   "source": []
  }
 ],
 "metadata": {
  "hide_input": false,
  "kernelspec": {
   "display_name": "R",
   "language": "R",
   "name": "ir"
  },
  "language_info": {
   "codemirror_mode": "r",
   "file_extension": ".r",
   "mimetype": "text/x-r-source",
   "name": "R",
   "pygments_lexer": "r",
   "version": "3.5.1"
  },
  "toc": {
   "base_numbering": 1,
   "nav_menu": {},
   "number_sections": true,
   "sideBar": true,
   "skip_h1_title": false,
   "title_cell": "Table of Contents",
   "title_sidebar": "Contents",
   "toc_cell": false,
   "toc_position": {},
   "toc_section_display": true,
   "toc_window_display": false
  }
 },
 "nbformat": 4,
 "nbformat_minor": 2
}
