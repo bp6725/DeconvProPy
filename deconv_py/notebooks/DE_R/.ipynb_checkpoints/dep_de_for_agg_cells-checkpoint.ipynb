{
 "cells": [
  {
   "cell_type": "code",
   "execution_count": 1,
   "metadata": {},
   "outputs": [
    {
     "name": "stderr",
     "output_type": "stream",
     "text": [
      "Warning message:\n",
      "\"package 'DEP' was built under R version 3.5.2\"\n",
      "Warning message in fun(libname, pkgname):\n",
      "\"mzR has been built against a different Rcpp version (1.0.0)\n",
      "than is installed on your system (1.0.3). This might lead to errors\n",
      "when loading mzR. If you encounter such issues, please send a report,\n",
      "including the output of sessionInfo() to the Bioc support forum at \n",
      "https://support.bioconductor.org/. For details see also\n",
      "https://github.com/sneumann/mzR/wiki/mzR-Rcpp-compiler-linker-issue.\"\n",
      "Warning message:\n",
      "\"package 'dplyr' was built under R version 3.5.3\"\n",
      "\n",
      "Attaching package: 'dplyr'\n",
      "\n",
      "\n",
      "The following objects are masked from 'package:stats':\n",
      "\n",
      "    filter, lag\n",
      "\n",
      "\n",
      "The following objects are masked from 'package:base':\n",
      "\n",
      "    intersect, setdiff, setequal, union\n",
      "\n",
      "\n"
     ]
    }
   ],
   "source": [
    "library(\"DEP\")\n",
    "library(\"dplyr\")"
   ]
  },
  {
   "cell_type": "code",
   "execution_count": 2,
   "metadata": {},
   "outputs": [],
   "source": [
    "# type = \"LFQ.intensity.NOT_\" ; target_path = \"LFQ_DEP_DE.csv\"\n",
    "# type = \"iBAQ.NOT_\"; target_path = \"IBAQ_DEP_DE.csv\"\n",
    "type = \"Intensity.NOT_\"; target_path = \"INTENSITY_DEP_DE.csv\"\n",
    "\n",
    "file <- '../../data//20150718_Cerberus_proteinGroups.txt'\n",
    "ed_file <-'../../data//profile_experimental_design.csv'\n",
    "\n",
    "data <- read.csv(file, sep = \"\\t\", stringsAsFactors = FALSE)\n",
    "experimental_design <- read.table(ed_file, header=TRUE, sep=\"\\t\", stringsAsFactors = FALSE)\n",
    "experimental_design <- read.table(ed_file, header=TRUE, sep=\";\", stringsAsFactors = FALSE)\n",
    "experimental_design$X <- NULL"
   ]
  },
  {
   "cell_type": "code",
   "execution_count": 3,
   "metadata": {},
   "outputs": [],
   "source": [
    "experimental_design$label <- sapply(experimental_design$label,function(x) paste0(type,strsplit(x,\"NOT_\",fixed = T)[[1]][2]))"
   ]
  },
  {
   "cell_type": "code",
   "execution_count": 4,
   "metadata": {},
   "outputs": [],
   "source": [
    "data <- filter(data, Reverse != \"+\", Potential.contaminant != \"+\")\n",
    "data_unique <- make_unique(data,\"Majority.protein.IDs\" ,\"Gene.names\",delim = \" \")"
   ]
  },
  {
   "cell_type": "code",
   "execution_count": 5,
   "metadata": {},
   "outputs": [],
   "source": [
    "LFQ_columns <- grep(type, colnames(data_unique))\n",
    "data_se <- make_se(data_unique, LFQ_columns, experimental_design)\n",
    "\n",
    "data_filt <- filter_missval(data_se, thr = 0)"
   ]
  },
  {
   "cell_type": "code",
   "execution_count": 6,
   "metadata": {
    "scrolled": true
   },
   "outputs": [
    {
     "name": "stderr",
     "output_type": "stream",
     "text": [
      "Loading required package: imputeLCMD\n",
      "\n",
      "Warning message:\n",
      "\"package 'imputeLCMD' was built under R version 3.5.3\"\n",
      "Loading required package: tmvtnorm\n",
      "\n",
      "Warning message:\n",
      "\"package 'tmvtnorm' was built under R version 3.5.3\"\n",
      "Loading required package: mvtnorm\n",
      "\n",
      "Warning message:\n",
      "\"package 'mvtnorm' was built under R version 3.5.3\"\n",
      "Loading required package: Matrix\n",
      "\n",
      "Warning message:\n",
      "\"package 'Matrix' was built under R version 3.5.3\"\n",
      "Loading required package: stats4\n",
      "\n",
      "Loading required package: gmm\n",
      "\n",
      "Warning message:\n",
      "\"package 'gmm' was built under R version 3.5.3\"\n",
      "Loading required package: sandwich\n",
      "\n",
      "Warning message:\n",
      "\"package 'sandwich' was built under R version 3.5.3\"\n",
      "Loading required package: norm\n",
      "\n",
      "Warning message:\n",
      "\"package 'norm' was built under R version 3.5.2\"\n",
      "Loading required package: pcaMethods\n",
      "\n",
      "Loading required package: Biobase\n",
      "\n",
      "Loading required package: BiocGenerics\n",
      "\n",
      "Loading required package: parallel\n",
      "\n",
      "\n",
      "Attaching package: 'BiocGenerics'\n",
      "\n",
      "\n",
      "The following objects are masked from 'package:parallel':\n",
      "\n",
      "    clusterApply, clusterApplyLB, clusterCall, clusterEvalQ,\n",
      "    clusterExport, clusterMap, parApply, parCapply, parLapply,\n",
      "    parLapplyLB, parRapply, parSapply, parSapplyLB\n",
      "\n",
      "\n",
      "The following objects are masked from 'package:Matrix':\n",
      "\n",
      "    colMeans, colSums, rowMeans, rowSums, which\n",
      "\n",
      "\n",
      "The following objects are masked from 'package:dplyr':\n",
      "\n",
      "    combine, intersect, setdiff, union\n",
      "\n",
      "\n",
      "The following objects are masked from 'package:stats':\n",
      "\n",
      "    IQR, mad, sd, var, xtabs\n",
      "\n",
      "\n",
      "The following objects are masked from 'package:base':\n",
      "\n",
      "    anyDuplicated, append, as.data.frame, basename, cbind, colMeans,\n",
      "    colnames, colSums, dirname, do.call, duplicated, eval, evalq,\n",
      "    Filter, Find, get, grep, grepl, intersect, is.unsorted, lapply,\n",
      "    lengths, Map, mapply, match, mget, order, paste, pmax, pmax.int,\n",
      "    pmin, pmin.int, Position, rank, rbind, Reduce, rowMeans, rownames,\n",
      "    rowSums, sapply, setdiff, sort, table, tapply, union, unique,\n",
      "    unsplit, which, which.max, which.min\n",
      "\n",
      "\n",
      "Welcome to Bioconductor\n",
      "\n",
      "    Vignettes contain introductory material; view with\n",
      "    'browseVignettes()'. To cite Bioconductor, see\n",
      "    'citation(\"Biobase\")', and for packages 'citation(\"pkgname\")'.\n",
      "\n",
      "\n",
      "\n",
      "Attaching package: 'pcaMethods'\n",
      "\n",
      "\n",
      "The following object is masked from 'package:stats':\n",
      "\n",
      "    loadings\n",
      "\n",
      "\n",
      "Loading required package: impute\n",
      "\n"
     ]
    },
    {
     "name": "stdout",
     "output_type": "stream",
     "text": [
      "[1] 1.389606\n"
     ]
    }
   ],
   "source": [
    "data_norm <- normalize_vsn(data_filt)\n",
    "data_imp <- impute(data_norm, fun = \"MinProb\", q = 0.01)"
   ]
  },
  {
   "cell_type": "code",
   "execution_count": 7,
   "metadata": {
    "scrolled": true
   },
   "outputs": [
    {
     "name": "stderr",
     "output_type": "stream",
     "text": [
      "Tested contrasts: BCellmemory_vs_BCellnaive, BCellmemory_vs_BCellplasma, BCellmemory_vs_CD4TCellmTregs, BCellmemory_vs_CD4TCellnaive, BCellmemory_vs_CD4TCellnTregs, BCellmemory_vs_CD4TCellTcm, BCellmemory_vs_CD4TCellTem, BCellmemory_vs_CD4TCellTemra, BCellmemory_vs_CD4TCellTh1, BCellmemory_vs_CD4TCellTh17, BCellmemory_vs_CD4TCellTh2, BCellmemory_vs_CD8TCellnaive, BCellmemory_vs_CD8TCellTcm, BCellmemory_vs_CD8TCellTem, BCellmemory_vs_CD8TCellTemra, BCellmemory_vs_DendriticCD1c, BCellmemory_vs_DendriticCD304, BCellmemory_vs_GranulocytesBasophil, BCellmemory_vs_Granulocyteseosinophils, BCellmemory_vs_Granulocytesneutrophils, BCellmemory_vs_Monocytesclassical, BCellmemory_vs_Monocytesintermediate, BCellmemory_vs_Monocytesnonclassical, BCellmemory_vs_NKCellsCD56bright, BCellmemory_vs_NKCellsCD56dim, BCellmemory_vs_Erythrocytes, BCellmemory_vs_Thrombocytes, BCellnaive_vs_BCellplasma, BCellnaive_vs_CD4TCellmTregs, BCellnaive_vs_CD4TCellnaive, BCellnaive_vs_CD4TCellnTregs, BCellnaive_vs_CD4TCellTcm, BCellnaive_vs_CD4TCellTem, BCellnaive_vs_CD4TCellTemra, BCellnaive_vs_CD4TCellTh1, BCellnaive_vs_CD4TCellTh17, BCellnaive_vs_CD4TCellTh2, BCellnaive_vs_CD8TCellnaive, BCellnaive_vs_CD8TCellTcm, BCellnaive_vs_CD8TCellTem, BCellnaive_vs_CD8TCellTemra, BCellnaive_vs_DendriticCD1c, BCellnaive_vs_DendriticCD304, BCellnaive_vs_GranulocytesBasophil, BCellnaive_vs_Granulocyteseosinophils, BCellnaive_vs_Granulocytesneutrophils, BCellnaive_vs_Monocytesclassical, BCellnaive_vs_Monocytesintermediate, BCellnaive_vs_Monocytesnonclassical, BCellnaive_vs_NKCellsCD56bright, BCellnaive_vs_NKCellsCD56dim, BCellnaive_vs_Erythrocytes, BCellnaive_vs_Thrombocytes, BCellplasma_vs_CD4TCellmTregs, BCellplasma_vs_CD4TCellnaive, BCellplasma_vs_CD4TCellnTregs, BCellplasma_vs_CD4TCellTcm, BCellplasma_vs_CD4TCellTem, BCellplasma_vs_CD4TCellTemra, BCellplasma_vs_CD4TCellTh1, BCellplasma_vs_CD4TCellTh17, BCellplasma_vs_CD4TCellTh2, BCellplasma_vs_CD8TCellnaive, BCellplasma_vs_CD8TCellTcm, BCellplasma_vs_CD8TCellTem, BCellplasma_vs_CD8TCellTemra, BCellplasma_vs_DendriticCD1c, BCellplasma_vs_DendriticCD304, BCellplasma_vs_GranulocytesBasophil, BCellplasma_vs_Granulocyteseosinophils, BCellplasma_vs_Granulocytesneutrophils, BCellplasma_vs_Monocytesclassical, BCellplasma_vs_Monocytesintermediate, BCellplasma_vs_Monocytesnonclassical, BCellplasma_vs_NKCellsCD56bright, BCellplasma_vs_NKCellsCD56dim, BCellplasma_vs_Erythrocytes, BCellplasma_vs_Thrombocytes, CD4TCellmTregs_vs_CD4TCellnaive, CD4TCellmTregs_vs_CD4TCellnTregs, CD4TCellmTregs_vs_CD4TCellTcm, CD4TCellmTregs_vs_CD4TCellTem, CD4TCellmTregs_vs_CD4TCellTemra, CD4TCellmTregs_vs_CD4TCellTh1, CD4TCellmTregs_vs_CD4TCellTh17, CD4TCellmTregs_vs_CD4TCellTh2, CD4TCellmTregs_vs_CD8TCellnaive, CD4TCellmTregs_vs_CD8TCellTcm, CD4TCellmTregs_vs_CD8TCellTem, CD4TCellmTregs_vs_CD8TCellTemra, CD4TCellmTregs_vs_DendriticCD1c, CD4TCellmTregs_vs_DendriticCD304, CD4TCellmTregs_vs_GranulocytesBasophil, CD4TCellmTregs_vs_Granulocyteseosinophils, CD4TCellmTregs_vs_Granulocytesneutrophils, CD4TCellmTregs_vs_Monocytesclassical, CD4TCellmTregs_vs_Monocytesintermediate, CD4TCellmTregs_vs_Monocytesnonclassical, CD4TCellmTregs_vs_NKCellsCD56bright, CD4TCellmTregs_vs_NKCellsCD56dim, CD4TCellmTregs_vs_Erythrocytes, CD4TCellmTregs_vs_Thrombocytes, CD4TCellnaive_vs_CD4TCellnTregs, CD4TCellnaive_vs_CD4TCellTcm, CD4TCellnaive_vs_CD4TCellTem, CD4TCellnaive_vs_CD4TCellTemra, CD4TCellnaive_vs_CD4TCellTh1, CD4TCellnaive_vs_CD4TCellTh17, CD4TCellnaive_vs_CD4TCellTh2, CD4TCellnaive_vs_CD8TCellnaive, CD4TCellnaive_vs_CD8TCellTcm, CD4TCellnaive_vs_CD8TCellTem, CD4TCellnaive_vs_CD8TCellTemra, CD4TCellnaive_vs_DendriticCD1c, CD4TCellnaive_vs_DendriticCD304, CD4TCellnaive_vs_GranulocytesBasophil, CD4TCellnaive_vs_Granulocyteseosinophils, CD4TCellnaive_vs_Granulocytesneutrophils, CD4TCellnaive_vs_Monocytesclassical, CD4TCellnaive_vs_Monocytesintermediate, CD4TCellnaive_vs_Monocytesnonclassical, CD4TCellnaive_vs_NKCellsCD56bright, CD4TCellnaive_vs_NKCellsCD56dim, CD4TCellnaive_vs_Erythrocytes, CD4TCellnaive_vs_Thrombocytes, CD4TCellnTregs_vs_CD4TCellTcm, CD4TCellnTregs_vs_CD4TCellTem, CD4TCellnTregs_vs_CD4TCellTemra, CD4TCellnTregs_vs_CD4TCellTh1, CD4TCellnTregs_vs_CD4TCellTh17, CD4TCellnTregs_vs_CD4TCellTh2, CD4TCellnTregs_vs_CD8TCellnaive, CD4TCellnTregs_vs_CD8TCellTcm, CD4TCellnTregs_vs_CD8TCellTem, CD4TCellnTregs_vs_CD8TCellTemra, CD4TCellnTregs_vs_DendriticCD1c, CD4TCellnTregs_vs_DendriticCD304, CD4TCellnTregs_vs_GranulocytesBasophil, CD4TCellnTregs_vs_Granulocyteseosinophils, CD4TCellnTregs_vs_Granulocytesneutrophils, CD4TCellnTregs_vs_Monocytesclassical, CD4TCellnTregs_vs_Monocytesintermediate, CD4TCellnTregs_vs_Monocytesnonclassical, CD4TCellnTregs_vs_NKCellsCD56bright, CD4TCellnTregs_vs_NKCellsCD56dim, CD4TCellnTregs_vs_Erythrocytes, CD4TCellnTregs_vs_Thrombocytes, CD4TCellTcm_vs_CD4TCellTem, CD4TCellTcm_vs_CD4TCellTemra, CD4TCellTcm_vs_CD4TCellTh1, CD4TCellTcm_vs_CD4TCellTh17, CD4TCellTcm_vs_CD4TCellTh2, CD4TCellTcm_vs_CD8TCellnaive, CD4TCellTcm_vs_CD8TCellTcm, CD4TCellTcm_vs_CD8TCellTem, CD4TCellTcm_vs_CD8TCellTemra, CD4TCellTcm_vs_DendriticCD1c, CD4TCellTcm_vs_DendriticCD304, CD4TCellTcm_vs_GranulocytesBasophil, CD4TCellTcm_vs_Granulocyteseosinophils, CD4TCellTcm_vs_Granulocytesneutrophils, CD4TCellTcm_vs_Monocytesclassical, CD4TCellTcm_vs_Monocytesintermediate, CD4TCellTcm_vs_Monocytesnonclassical, CD4TCellTcm_vs_NKCellsCD56bright, CD4TCellTcm_vs_NKCellsCD56dim, CD4TCellTcm_vs_Erythrocytes, CD4TCellTcm_vs_Thrombocytes, CD4TCellTem_vs_CD4TCellTemra, CD4TCellTem_vs_CD4TCellTh1, CD4TCellTem_vs_CD4TCellTh17, CD4TCellTem_vs_CD4TCellTh2, CD4TCellTem_vs_CD8TCellnaive, CD4TCellTem_vs_CD8TCellTcm, CD4TCellTem_vs_CD8TCellTem, CD4TCellTem_vs_CD8TCellTemra, CD4TCellTem_vs_DendriticCD1c, CD4TCellTem_vs_DendriticCD304, CD4TCellTem_vs_GranulocytesBasophil, CD4TCellTem_vs_Granulocyteseosinophils, CD4TCellTem_vs_Granulocytesneutrophils, CD4TCellTem_vs_Monocytesclassical, CD4TCellTem_vs_Monocytesintermediate, CD4TCellTem_vs_Monocytesnonclassical, CD4TCellTem_vs_NKCellsCD56bright, CD4TCellTem_vs_NKCellsCD56dim, CD4TCellTem_vs_Erythrocytes, CD4TCellTem_vs_Thrombocytes, CD4TCellTemra_vs_CD4TCellTh1, CD4TCellTemra_vs_CD4TCellTh17, CD4TCellTemra_vs_CD4TCellTh2, CD4TCellTemra_vs_CD8TCellnaive, CD4TCellTemra_vs_CD8TCellTcm, CD4TCellTemra_vs_CD8TCellTem, CD4TCellTemra_vs_CD8TCellTemra, CD4TCellTemra_vs_DendriticCD1c, CD4TCellTemra_vs_DendriticCD304, CD4TCellTemra_vs_GranulocytesBasophil, CD4TCellTemra_vs_Granulocyteseosinophils, CD4TCellTemra_vs_Granulocytesneutrophils, CD4TCellTemra_vs_Monocytesclassical, CD4TCellTemra_vs_Monocytesintermediate, CD4TCellTemra_vs_Monocytesnonclassical, CD4TCellTemra_vs_NKCellsCD56bright, CD4TCellTemra_vs_NKCellsCD56dim, CD4TCellTemra_vs_Erythrocytes, CD4TCellTemra_vs_Thrombocytes, CD4TCellTh1_vs_CD4TCellTh17, CD4TCellTh1_vs_CD4TCellTh2, CD4TCellTh1_vs_CD8TCellnaive, CD4TCellTh1_vs_CD8TCellTcm, CD4TCellTh1_vs_CD8TCellTem, CD4TCellTh1_vs_CD8TCellTemra, CD4TCellTh1_vs_DendriticCD1c, CD4TCellTh1_vs_DendriticCD304, CD4TCellTh1_vs_GranulocytesBasophil, CD4TCellTh1_vs_Granulocyteseosinophils, CD4TCellTh1_vs_Granulocytesneutrophils, CD4TCellTh1_vs_Monocytesclassical, CD4TCellTh1_vs_Monocytesintermediate, CD4TCellTh1_vs_Monocytesnonclassical, CD4TCellTh1_vs_NKCellsCD56bright, CD4TCellTh1_vs_NKCellsCD56dim, CD4TCellTh1_vs_Erythrocytes, CD4TCellTh1_vs_Thrombocytes, CD4TCellTh17_vs_CD4TCellTh2, CD4TCellTh17_vs_CD8TCellnaive, CD4TCellTh17_vs_CD8TCellTcm, CD4TCellTh17_vs_CD8TCellTem, CD4TCellTh17_vs_CD8TCellTemra, CD4TCellTh17_vs_DendriticCD1c, CD4TCellTh17_vs_DendriticCD304, CD4TCellTh17_vs_GranulocytesBasophil, CD4TCellTh17_vs_Granulocyteseosinophils, CD4TCellTh17_vs_Granulocytesneutrophils, CD4TCellTh17_vs_Monocytesclassical, CD4TCellTh17_vs_Monocytesintermediate, CD4TCellTh17_vs_Monocytesnonclassical, CD4TCellTh17_vs_NKCellsCD56bright, CD4TCellTh17_vs_NKCellsCD56dim, CD4TCellTh17_vs_Erythrocytes, CD4TCellTh17_vs_Thrombocytes, CD4TCellTh2_vs_CD8TCellnaive, CD4TCellTh2_vs_CD8TCellTcm, CD4TCellTh2_vs_CD8TCellTem, CD4TCellTh2_vs_CD8TCellTemra, CD4TCellTh2_vs_DendriticCD1c, CD4TCellTh2_vs_DendriticCD304, CD4TCellTh2_vs_GranulocytesBasophil, CD4TCellTh2_vs_Granulocyteseosinophils, CD4TCellTh2_vs_Granulocytesneutrophils, CD4TCellTh2_vs_Monocytesclassical, CD4TCellTh2_vs_Monocytesintermediate, CD4TCellTh2_vs_Monocytesnonclassical, CD4TCellTh2_vs_NKCellsCD56bright, CD4TCellTh2_vs_NKCellsCD56dim, CD4TCellTh2_vs_Erythrocytes, CD4TCellTh2_vs_Thrombocytes, CD8TCellnaive_vs_CD8TCellTcm, CD8TCellnaive_vs_CD8TCellTem, CD8TCellnaive_vs_CD8TCellTemra, CD8TCellnaive_vs_DendriticCD1c, CD8TCellnaive_vs_DendriticCD304, CD8TCellnaive_vs_GranulocytesBasophil, CD8TCellnaive_vs_Granulocyteseosinophils, CD8TCellnaive_vs_Granulocytesneutrophils, CD8TCellnaive_vs_Monocytesclassical, CD8TCellnaive_vs_Monocytesintermediate, CD8TCellnaive_vs_Monocytesnonclassical, CD8TCellnaive_vs_NKCellsCD56bright, CD8TCellnaive_vs_NKCellsCD56dim, CD8TCellnaive_vs_Erythrocytes, CD8TCellnaive_vs_Thrombocytes, CD8TCellTcm_vs_CD8TCellTem, CD8TCellTcm_vs_CD8TCellTemra, CD8TCellTcm_vs_DendriticCD1c, CD8TCellTcm_vs_DendriticCD304, CD8TCellTcm_vs_GranulocytesBasophil, CD8TCellTcm_vs_Granulocyteseosinophils, CD8TCellTcm_vs_Granulocytesneutrophils, CD8TCellTcm_vs_Monocytesclassical, CD8TCellTcm_vs_Monocytesintermediate, CD8TCellTcm_vs_Monocytesnonclassical, CD8TCellTcm_vs_NKCellsCD56bright, CD8TCellTcm_vs_NKCellsCD56dim, CD8TCellTcm_vs_Erythrocytes, CD8TCellTcm_vs_Thrombocytes, CD8TCellTem_vs_CD8TCellTemra, CD8TCellTem_vs_DendriticCD1c, CD8TCellTem_vs_DendriticCD304, CD8TCellTem_vs_GranulocytesBasophil, CD8TCellTem_vs_Granulocyteseosinophils, CD8TCellTem_vs_Granulocytesneutrophils, CD8TCellTem_vs_Monocytesclassical, CD8TCellTem_vs_Monocytesintermediate, CD8TCellTem_vs_Monocytesnonclassical, CD8TCellTem_vs_NKCellsCD56bright, CD8TCellTem_vs_NKCellsCD56dim, CD8TCellTem_vs_Erythrocytes, CD8TCellTem_vs_Thrombocytes, CD8TCellTemra_vs_DendriticCD1c, CD8TCellTemra_vs_DendriticCD304, CD8TCellTemra_vs_GranulocytesBasophil, CD8TCellTemra_vs_Granulocyteseosinophils, CD8TCellTemra_vs_Granulocytesneutrophils, CD8TCellTemra_vs_Monocytesclassical, CD8TCellTemra_vs_Monocytesintermediate, CD8TCellTemra_vs_Monocytesnonclassical, CD8TCellTemra_vs_NKCellsCD56bright, CD8TCellTemra_vs_NKCellsCD56dim, CD8TCellTemra_vs_Erythrocytes, CD8TCellTemra_vs_Thrombocytes, DendriticCD1c_vs_DendriticCD304, DendriticCD1c_vs_GranulocytesBasophil, DendriticCD1c_vs_Granulocyteseosinophils, DendriticCD1c_vs_Granulocytesneutrophils, DendriticCD1c_vs_Monocytesclassical, DendriticCD1c_vs_Monocytesintermediate, DendriticCD1c_vs_Monocytesnonclassical, DendriticCD1c_vs_NKCellsCD56bright, DendriticCD1c_vs_NKCellsCD56dim, DendriticCD1c_vs_Erythrocytes, DendriticCD1c_vs_Thrombocytes, DendriticCD304_vs_GranulocytesBasophil, DendriticCD304_vs_Granulocyteseosinophils, DendriticCD304_vs_Granulocytesneutrophils, DendriticCD304_vs_Monocytesclassical, DendriticCD304_vs_Monocytesintermediate, DendriticCD304_vs_Monocytesnonclassical, DendriticCD304_vs_NKCellsCD56bright, DendriticCD304_vs_NKCellsCD56dim, DendriticCD304_vs_Erythrocytes, DendriticCD304_vs_Thrombocytes, GranulocytesBasophil_vs_Granulocyteseosinophils, GranulocytesBasophil_vs_Granulocytesneutrophils, GranulocytesBasophil_vs_Monocytesclassical, GranulocytesBasophil_vs_Monocytesintermediate, GranulocytesBasophil_vs_Monocytesnonclassical, GranulocytesBasophil_vs_NKCellsCD56bright, GranulocytesBasophil_vs_NKCellsCD56dim, GranulocytesBasophil_vs_Erythrocytes, GranulocytesBasophil_vs_Thrombocytes, Granulocyteseosinophils_vs_Granulocytesneutrophils, Granulocyteseosinophils_vs_Monocytesclassical, Granulocyteseosinophils_vs_Monocytesintermediate, Granulocyteseosinophils_vs_Monocytesnonclassical, Granulocyteseosinophils_vs_NKCellsCD56bright, Granulocyteseosinophils_vs_NKCellsCD56dim, Granulocyteseosinophils_vs_Erythrocytes, Granulocyteseosinophils_vs_Thrombocytes, Granulocytesneutrophils_vs_Monocytesclassical, Granulocytesneutrophils_vs_Monocytesintermediate, Granulocytesneutrophils_vs_Monocytesnonclassical, Granulocytesneutrophils_vs_NKCellsCD56bright, Granulocytesneutrophils_vs_NKCellsCD56dim, Granulocytesneutrophils_vs_Erythrocytes, Granulocytesneutrophils_vs_Thrombocytes, Monocytesclassical_vs_Monocytesintermediate, Monocytesclassical_vs_Monocytesnonclassical, Monocytesclassical_vs_NKCellsCD56bright, Monocytesclassical_vs_NKCellsCD56dim, Monocytesclassical_vs_Erythrocytes, Monocytesclassical_vs_Thrombocytes, Monocytesintermediate_vs_Monocytesnonclassical, Monocytesintermediate_vs_NKCellsCD56bright, Monocytesintermediate_vs_NKCellsCD56dim, Monocytesintermediate_vs_Erythrocytes, Monocytesintermediate_vs_Thrombocytes, Monocytesnonclassical_vs_NKCellsCD56bright, Monocytesnonclassical_vs_NKCellsCD56dim, Monocytesnonclassical_vs_Erythrocytes, Monocytesnonclassical_vs_Thrombocytes, NKCellsCD56bright_vs_NKCellsCD56dim, NKCellsCD56bright_vs_Erythrocytes, NKCellsCD56bright_vs_Thrombocytes, NKCellsCD56dim_vs_Erythrocytes, NKCellsCD56dim_vs_Thrombocytes, Erythrocytes_vs_Thrombocytes\n",
      "\n"
     ]
    }
   ],
   "source": [
    "data_diff_all_contrasts <- test_diff(data_imp,  type = \"all\")\n",
    "dep <- add_rejections(data_diff_all_contrasts, alpha = 0.05, lfc = log2(1.5))\n",
    "\n",
    "data_results <- get_results(dep)"
   ]
  },
  {
   "cell_type": "code",
   "execution_count": 8,
   "metadata": {},
   "outputs": [],
   "source": [
    "write.csv2(data_results,target_path)"
   ]
  },
  {
   "cell_type": "code",
   "execution_count": null,
   "metadata": {},
   "outputs": [],
   "source": []
  }
 ],
 "metadata": {
  "hide_input": false,
  "kernelspec": {
   "display_name": "R",
   "language": "R",
   "name": "ir"
  },
  "language_info": {
   "codemirror_mode": "r",
   "file_extension": ".r",
   "mimetype": "text/x-r-source",
   "name": "R",
   "pygments_lexer": "r",
   "version": "3.5.1"
  },
  "toc": {
   "base_numbering": 1,
   "nav_menu": {},
   "number_sections": true,
   "sideBar": true,
   "skip_h1_title": false,
   "title_cell": "Table of Contents",
   "title_sidebar": "Contents",
   "toc_cell": false,
   "toc_position": {},
   "toc_section_display": true,
   "toc_window_display": false
  }
 },
 "nbformat": 4,
 "nbformat_minor": 2
}
