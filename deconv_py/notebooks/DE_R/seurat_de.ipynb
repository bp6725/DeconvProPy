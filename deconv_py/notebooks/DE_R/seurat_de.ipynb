{
 "cells": [
  {
   "cell_type": "code",
   "execution_count": 1,
   "metadata": {
    "scrolled": true
   },
   "outputs": [
    {
     "name": "stderr",
     "output_type": "stream",
     "text": [
      "Warning message:\n",
      "\"package 'Seurat' was built under R version 3.5.3\"\n",
      "Warning message:\n",
      "\"package 'ggplot2' was built under R version 3.5.3\"\n",
      "Warning message:\n",
      "\"package 'DEP' was built under R version 3.5.2\"\n",
      "Warning message in fun(libname, pkgname):\n",
      "\"mzR has been built against a different Rcpp version (1.0.0)\n",
      "than is installed on your system (1.0.3). This might lead to errors\n",
      "when loading mzR. If you encounter such issues, please send a report,\n",
      "including the output of sessionInfo() to the Bioc support forum at \n",
      "https://support.bioconductor.org/. For details see also\n",
      "https://github.com/sneumann/mzR/wiki/mzR-Rcpp-compiler-linker-issue.\"\n",
      "Warning message:\n",
      "\"package 'dplyr' was built under R version 3.5.3\"\n",
      "\n",
      "Attaching package: 'dplyr'\n",
      "\n",
      "\n",
      "The following objects are masked from 'package:stats':\n",
      "\n",
      "    filter, lag\n",
      "\n",
      "\n",
      "The following objects are masked from 'package:base':\n",
      "\n",
      "    intersect, setdiff, setequal, union\n",
      "\n",
      "\n"
     ]
    }
   ],
   "source": [
    "rm(list = ls())\n",
    "options(stringsAsFactors = FALSE)\n",
    "library('Seurat')\n",
    "library('ggplot2')\n",
    "library(\"DEP\")\n",
    "library(\"dplyr\")"
   ]
  },
  {
   "cell_type": "code",
   "execution_count": 2,
   "metadata": {},
   "outputs": [],
   "source": [
    "file <- '../../data//20150718_Cerberus_proteinGroups.txt'\n",
    "ed_file <-'../../data//profile_experimental_design.csv'\n",
    "\n",
    "data <- read.csv(file, sep = \"\\t\", stringsAsFactors = FALSE)\n",
    "experimental_design <- read.table(ed_file, header=TRUE, sep=\"\\t\", stringsAsFactors = FALSE)\n",
    "experimental_design <- read.table(ed_file, header=TRUE, sep=\";\", stringsAsFactors = FALSE)\n",
    "experimental_design$X <- NULL"
   ]
  },
  {
   "cell_type": "code",
   "execution_count": 3,
   "metadata": {},
   "outputs": [],
   "source": [
    "data <- filter(data, Reverse != \"+\", Potential.contaminant != \"+\")\n",
    "data_unique <- make_unique(data,\"Majority.protein.IDs\" ,\"Gene.names\",delim = \" \")"
   ]
  },
  {
   "cell_type": "code",
   "execution_count": 6,
   "metadata": {},
   "outputs": [],
   "source": [
    "type = \"Intensity.NOT_\"\n",
    "LFQ_columns <- grep(type, colnames(data_unique))\n",
    "data_se <- make_se(data_unique, LFQ_columns, experimental_design)\n",
    "\n",
    "data_filt <- filter_missval(data_se, thr = 0)"
   ]
  },
  {
   "cell_type": "code",
   "execution_count": 7,
   "metadata": {
    "scrolled": true
   },
   "outputs": [
    {
     "name": "stderr",
     "output_type": "stream",
     "text": [
      "Loading required package: imputeLCMD\n",
      "\n",
      "Warning message:\n",
      "\"package 'imputeLCMD' was built under R version 3.5.3\"\n",
      "Loading required package: tmvtnorm\n",
      "\n",
      "Warning message:\n",
      "\"package 'tmvtnorm' was built under R version 3.5.3\"\n",
      "Loading required package: mvtnorm\n",
      "\n",
      "Warning message:\n",
      "\"package 'mvtnorm' was built under R version 3.5.3\"\n",
      "Loading required package: Matrix\n",
      "\n",
      "Warning message:\n",
      "\"package 'Matrix' was built under R version 3.5.3\"\n",
      "Loading required package: stats4\n",
      "\n",
      "Loading required package: gmm\n",
      "\n",
      "Warning message:\n",
      "\"package 'gmm' was built under R version 3.5.3\"\n",
      "Loading required package: sandwich\n",
      "\n",
      "Warning message:\n",
      "\"package 'sandwich' was built under R version 3.5.3\"\n",
      "Loading required package: norm\n",
      "\n",
      "Warning message:\n",
      "\"package 'norm' was built under R version 3.5.2\"\n",
      "Loading required package: pcaMethods\n",
      "\n",
      "Loading required package: Biobase\n",
      "\n",
      "Loading required package: BiocGenerics\n",
      "\n",
      "Loading required package: parallel\n",
      "\n",
      "\n",
      "Attaching package: 'BiocGenerics'\n",
      "\n",
      "\n",
      "The following objects are masked from 'package:parallel':\n",
      "\n",
      "    clusterApply, clusterApplyLB, clusterCall, clusterEvalQ,\n",
      "    clusterExport, clusterMap, parApply, parCapply, parLapply,\n",
      "    parLapplyLB, parRapply, parSapply, parSapplyLB\n",
      "\n",
      "\n",
      "The following objects are masked from 'package:Matrix':\n",
      "\n",
      "    colMeans, colSums, rowMeans, rowSums, which\n",
      "\n",
      "\n",
      "The following objects are masked from 'package:dplyr':\n",
      "\n",
      "    combine, intersect, setdiff, union\n",
      "\n",
      "\n",
      "The following objects are masked from 'package:stats':\n",
      "\n",
      "    IQR, mad, sd, var, xtabs\n",
      "\n",
      "\n",
      "The following objects are masked from 'package:base':\n",
      "\n",
      "    anyDuplicated, append, as.data.frame, basename, cbind, colMeans,\n",
      "    colnames, colSums, dirname, do.call, duplicated, eval, evalq,\n",
      "    Filter, Find, get, grep, grepl, intersect, is.unsorted, lapply,\n",
      "    lengths, Map, mapply, match, mget, order, paste, pmax, pmax.int,\n",
      "    pmin, pmin.int, Position, rank, rbind, Reduce, rowMeans, rownames,\n",
      "    rowSums, sapply, setdiff, sort, table, tapply, union, unique,\n",
      "    unsplit, which, which.max, which.min\n",
      "\n",
      "\n",
      "Welcome to Bioconductor\n",
      "\n",
      "    Vignettes contain introductory material; view with\n",
      "    'browseVignettes()'. To cite Bioconductor, see\n",
      "    'citation(\"Biobase\")', and for packages 'citation(\"pkgname\")'.\n",
      "\n",
      "\n",
      "\n",
      "Attaching package: 'pcaMethods'\n",
      "\n",
      "\n",
      "The following object is masked from 'package:stats':\n",
      "\n",
      "    loadings\n",
      "\n",
      "\n",
      "Loading required package: impute\n",
      "\n"
     ]
    },
    {
     "name": "stdout",
     "output_type": "stream",
     "text": [
      "[1] 1.389606\n"
     ]
    }
   ],
   "source": [
    "data_norm <- normalize_vsn(data_filt)\n",
    "data_imp <- impute(data_norm, fun = \"MinProb\", q = 0.01)"
   ]
  },
  {
   "cell_type": "code",
   "execution_count": 14,
   "metadata": {},
   "outputs": [],
   "source": [
    "data_as_table <- data_imp@colData"
   ]
  },
  {
   "cell_type": "code",
   "execution_count": 18,
   "metadata": {},
   "outputs": [
    {
     "name": "stderr",
     "output_type": "stream",
     "text": [
      "Warning message in storage.mode(from) <- \"double\":\n",
      "\"NAs introduced by coercion\"\n",
      "Warning message:\n",
      "\"Feature names cannot have underscores ('_'), replacing with dashes ('-')\"\n"
     ]
    }
   ],
   "source": [
    "pbmc <- CreateSeuratObject(data_as_table)"
   ]
  },
  {
   "cell_type": "code",
   "execution_count": null,
   "metadata": {},
   "outputs": [],
   "source": [
    "pbmc[[\"percent.mt\"]] <- PercentageFeatureSet(object = pbmc, pattern = \"^MT-\")\n",
    "VlnPlot(object = pbmc, features = c(\"nFeature_RNA\", \"nCount_RNA\", \"percent.mt\"), ncol = 3)\n",
    "plot1 <- FeatureScatter(object = pbmc, feature1 = \"nCount_RNA\", feature2 = \"percent.mt\")\n",
    "plot2 <- FeatureScatter(object = pbmc, feature1 = \"nCount_RNA\", feature2 = \"nFeature_RNA\")\n",
    "CombinePlots(plots = list(plot1, plot2))\n",
    "pbmc <- subset(x = pbmc, subset = nFeature_RNA > 200 & nFeature_RNA < 10000 & percent.mt < 5)\n",
    "pbmc <- NormalizeData(object = pbmc, normalization.method = \"LogNormalize\", scale.factor = 10000)\n",
    "pbmc <- FindVariableFeatures(object = pbmc, selection.method = \"vst\", nfeatures = 2000)\n",
    "all.genes <- rownames(x = pbmc)\n",
    "pbmc <- ScaleData(object = pbmc, features = all.genes)\n",
    "pbmc <- RunPCA(object = pbmc, features = VariableFeatures(object = pbmc))\n",
    "pbmc <- FindNeighbors(object = pbmc, dims = 1:10)\n",
    "pbmc <- FindClusters(object = pbmc, resolution = 0.5)\n",
    "head(x = Idents(object = pbmc), 5)\n"
   ]
  },
  {
   "cell_type": "code",
   "execution_count": 19,
   "metadata": {},
   "outputs": [
    {
     "ename": "ERROR",
     "evalue": "Error in WhichCells.Seurat(object = object, idents = ident.1): Cannot find the following identities in the object: 1\n",
     "output_type": "error",
     "traceback": [
      "Error in WhichCells.Seurat(object = object, idents = ident.1): Cannot find the following identities in the object: 1\nTraceback:\n",
      "1. FindMarkers(data_as_so, ident.1 = 1, min.pct = 0.25)",
      "2. FindMarkers.Seurat(data_as_so, ident.1 = 1, min.pct = 0.25)",
      "3. WhichCells(object = object, idents = ident.1)",
      "4. WhichCells.Seurat(object = object, idents = ident.1)",
      "5. stop(\"Cannot find the following identities in the object: \", \n .     paste(idents[!idents %in% levels(x = Idents(object = object))], \n .         sep = \", \"))"
     ]
    }
   ],
   "source": [
    "FindMarkers(data_as_so, ident.1 = 1, min.pct = 0.25)"
   ]
  },
  {
   "cell_type": "code",
   "execution_count": null,
   "metadata": {},
   "outputs": [],
   "source": []
  },
  {
   "cell_type": "code",
   "execution_count": null,
   "metadata": {},
   "outputs": [],
   "source": []
  },
  {
   "cell_type": "code",
   "execution_count": null,
   "metadata": {},
   "outputs": [],
   "source": []
  },
  {
   "cell_type": "code",
   "execution_count": null,
   "metadata": {},
   "outputs": [],
   "source": []
  },
  {
   "cell_type": "code",
   "execution_count": null,
   "metadata": {},
   "outputs": [],
   "source": []
  },
  {
   "cell_type": "code",
   "execution_count": 4,
   "metadata": {},
   "outputs": [
    {
     "ename": "ERROR",
     "evalue": "Error in eval(expr, envir, enclos): object 'raw_counts' not found\n",
     "output_type": "error",
     "traceback": [
      "Error in eval(expr, envir, enclos): object 'raw_counts' not found\nTraceback:\n"
     ]
    }
   ],
   "source": [
    "rownames(raw_counts)<-raw_counts[,1]\n",
    "raw_counts<-raw_counts[,-1]\n",
    "colnames(raw_counts)<-raw_counts[1,]\n",
    "raw_counts<-raw_counts[-1,]\n",
    "pbmc <- CreateSeuratObject(raw_counts, min.cells = 3, min.features = 200, project = \"mydata_scRNAseq\")\n",
    "pbmc[[\"percent.mt\"]] <- PercentageFeatureSet(object = pbmc, pattern = \"^MT-\")\n",
    "VlnPlot(object = pbmc, features = c(\"nFeature_RNA\", \"nCount_RNA\", \"percent.mt\"), ncol = 3)\n",
    "plot1 <- FeatureScatter(object = pbmc, feature1 = \"nCount_RNA\", feature2 = \"percent.mt\")\n",
    "plot2 <- FeatureScatter(object = pbmc, feature1 = \"nCount_RNA\", feature2 = \"nFeature_RNA\")\n",
    "CombinePlots(plots = list(plot1, plot2))\n",
    "pbmc <- subset(x = pbmc, subset = nFeature_RNA > 200 & nFeature_RNA < 10000 & percent.mt < 5)\n",
    "pbmc <- NormalizeData(object = pbmc, normalization.method = \"LogNormalize\", scale.factor = 10000)\n",
    "pbmc <- FindVariableFeatures(object = pbmc, selection.method = \"vst\", nfeatures = 2000)\n",
    "all.genes <- rownames(x = pbmc)\n",
    "pbmc <- ScaleData(object = pbmc, features = all.genes)\n",
    "pbmc <- RunPCA(object = pbmc, features = VariableFeatures(object = pbmc))\n",
    "pbmc <- FindNeighbors(object = pbmc, dims = 1:10)\n",
    "pbmc <- FindClusters(object = pbmc, resolution = 0.5)\n",
    "head(x = Idents(object = pbmc), 5)\n",
    "pbmc <- RunUMAP(object = pbmc, dims = 1:10)\n",
    "new.cluster.ids <- c(\"CD8T\",\"1\",\"2\",\"3\",\"4\",\"5\", \"6\", \"7\", \"8\",\"9\",\"CD8T\",\"11\",\"12\",\"13\")\n",
    "names(x = new.cluster.ids) <- levels(x = pbmc)\n",
    "pbmc <- RenameIdents(object = pbmc, new.cluster.ids)\n",
    "DimPlot(object = pbmc, reduction = \"tsne\", label = TRUE, pt.size = 0.5) + NoLegend()\n",
    "table(Idents(object = pbmc))\n",
    "pbmc<-subset(x = pbmc, idents = c(\"CD8T\"))\n",
    "cluster0.markers <- FindMarkers(object = pbmc, ident.1 = 0, min.pct = 0.25)\n",
    "head(x = cluster0.markers, n = 20)\n",
    "cluster_cols<-cluster_cols<-c(\"CD69\",\"SELL\",\"CD3E\",\"PTPRC\",\"CCR7\",\"CD28\",\"IL7R\",\"B3GAT1\",\"CD8A\",\"CD27\",\"IL2RA\")\n",
    "pbmc <- RunPCA(object = pbmc, features = cluster_cols)\n",
    "pbmc <- FindNeighbors(object = pbmc, dims = 1:10)\n",
    "pbmc <- FindClusters(object = pbmc, resolution = 0.1)\n",
    "pbmc <- RunUMAP(object = pbmc, dims = NULL,features = cluster_cols)\n",
    "DimPlot(object = pbmc, reduction = \"umap\", label = TRUE, pt.size = 0.5) + NoLegend()"
   ]
  }
 ],
 "metadata": {
  "hide_input": false,
  "kernelspec": {
   "display_name": "R",
   "language": "R",
   "name": "ir"
  },
  "language_info": {
   "codemirror_mode": "r",
   "file_extension": ".r",
   "mimetype": "text/x-r-source",
   "name": "R",
   "pygments_lexer": "r",
   "version": "3.5.1"
  },
  "toc": {
   "base_numbering": 1,
   "nav_menu": {},
   "number_sections": true,
   "sideBar": true,
   "skip_h1_title": false,
   "title_cell": "Table of Contents",
   "title_sidebar": "Contents",
   "toc_cell": false,
   "toc_position": {},
   "toc_section_display": true,
   "toc_window_display": false
  }
 },
 "nbformat": 4,
 "nbformat_minor": 2
}
