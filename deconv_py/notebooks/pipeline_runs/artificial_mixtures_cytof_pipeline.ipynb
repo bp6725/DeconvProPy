{
 "cells": [
  {
   "cell_type": "markdown",
   "metadata": {},
   "source": [
    "#  INIT"
   ]
  },
  {
   "cell_type": "code",
   "execution_count": 1,
   "metadata": {},
   "outputs": [],
   "source": [
    "import sys\n",
    "sys.path.append('../../../')\n",
    "sys.path.append('../../infras/cellMix/')\n",
    "sys.path.append('../../infras/cytof_data/')\n",
    "sys.path.append('../../infras/')\n",
    "sys.path.append('../../infras/dashboards/')\n",
    "sys.path.append('../../experiments/')\n",
    "sys.path.append('../../experiments/pipeline/')\n",
    "sys.path.append('../../preprocess/intra_variance/')\n",
    "sys.path.append('../../models/cell_proportions/')\n",
    "sys.path.append('../../measures/cell_proportions_measures/')\n",
    "sys.path.append('../../preprocess/cell_specifics/')\n"
   ]
  },
  {
   "cell_type": "code",
   "execution_count": 2,
   "metadata": {},
   "outputs": [
    {
     "name": "stdout",
     "output_type": "stream",
     "text": [
      "{\n",
      "  \"shell_port\": 52619,\n",
      "  \"iopub_port\": 52620,\n",
      "  \"stdin_port\": 52621,\n",
      "  \"control_port\": 52622,\n",
      "  \"hb_port\": 52623,\n",
      "  \"ip\": \"127.0.0.1\",\n",
      "  \"key\": \"41ab6b27-43822c5282cdf939af7e79ff\",\n",
      "  \"transport\": \"tcp\",\n",
      "  \"signature_scheme\": \"hmac-sha256\",\n",
      "  \"kernel_name\": \"\"\n",
      "}\n",
      "\n",
      "Paste the above JSON into a file, and connect with:\n",
      "    $> jupyter <app> --existing <file>\n",
      "or, if you are local, you can connect with just:\n",
      "    $> jupyter <app> --existing kernel-cb62c8e4-e57f-4de4-b287-45424cf104b7.json\n",
      "or even just:\n",
      "    $> jupyter <app> --existing\n",
      "if this is the most recent Jupyter kernel you have started.\n"
     ]
    }
   ],
   "source": [
    "from data_factory import DataFactory\n",
    "from global_utils import GlobalUtils\n",
    "from cytof_cell_count_infra import CytofCellCountInfra\n",
    "from cell_proportions_experiments import  CellProportionsExperiments\n",
    "import exploration_cytof_plots as cytof_plots\n",
    "from basic import BasicDeconv\n",
    "from pp_entropy_based import PpEntropyBased\n",
    "from pp_dep_de_based import  PpDepDeBased\n",
    "from cell_proportions_measure import CellProportionsMeasure\n",
    "from pp_clean_high_intra_var import PpCleanHighIntraVar\n",
    "from pp_clean_irrelevant_proteins import PpCleanIrrelevantProteins\n",
    "from pp_empty import PpEmpty\n",
    "from pp_entropy_based_only_largest import PpEntropyBasedOnlyLargest\n",
    "from aggregate_intra_variance import AggregateIntraVariance\n",
    "from pipeline_deconv import PipelineDeconv\n",
    "from deconv_py.preprocess.base import BasePreprocess as PP_base\n",
    "from deconv_py.preprocess.cell_specific import CellSpecific as PP_proteins\n",
    "from deconv_py.preprocess.cell_specifics.pp_svm_signature import PpSvmSignature\n",
    "from deconv_py.preprocess.cell_specifics.pp_entropy_based_totel_sum import PpEntropyBasedTotelSum\n",
    "from deconv_py.preprocess.cell_specifics.pp_floor_under_quantile import PpFloorUnderQuantile\n",
    "\n",
    "\n",
    "\n",
    "from pp_keep_specific_cells  import  PpKeepSpecificCells\n",
    "from pp_agg_to_specific_cells import PpAggToSpecificCells\n",
    "\n",
    "# from deconv_py.infras.data_factory import DataFactory\n",
    "from deconv_py.infras.data_loader import DataLoader\n",
    "from deconv_py.models.base import Base as Models_base\n",
    "from deconv_py.models.cell_proportions_models import CellProportions\n",
    "from deconv_py.models.cell_specific_models import CellSpecificPerPermutation\n",
    "from deconv_py.experiments.cell_specific import CellSpecificMetricsPlot\n",
    "from cellMix_coordinator import CellMixCoordinator\n",
    "\n",
    "import pandas as pd\n",
    "import numpy as np\n",
    "from functools import partial\n",
    "import multiprocessing\n",
    "from sklearn import pipeline\n",
    "import itertools\n",
    "from scipy.optimize import least_squares\n",
    "from sklearn.metrics import mean_squared_error\n",
    "from functools import partial\n",
    "from scipy.optimize import minimize\n",
    "import scipy.optimize\n",
    "from itertools import combinations\n",
    "import matplotlib.pyplot as plt\n",
    "import seaborn as sns\n",
    "import pprint\n",
    "import os\n",
    "import pickle as pkl \n",
    "from sklearn.decomposition import PCA\n",
    "from IPython.display import display, HTML\n",
    "\n",
    "\n",
    "%connect_info"
   ]
  },
  {
   "cell_type": "markdown",
   "metadata": {},
   "source": [
    "# read and build any data"
   ]
  },
  {
   "cell_type": "code",
   "execution_count": 3,
   "metadata": {},
   "outputs": [
    {
     "name": "stderr",
     "output_type": "stream",
     "text": [
      "C:\\ProgramData\\Anaconda3\\lib\\site-packages\\IPython\\kernel\\__main__.py:2: DtypeWarning: Columns (5,6,2764,2765,2773,2774,2775,2776) have mixed types. Specify dtype option on import or set low_memory=False.\n",
      "  from ipykernel import kernelapp as app\n",
      "C:\\ProgramData\\Anaconda3\\lib\\site-packages\\IPython\\kernel\\__main__.py:3: DtypeWarning: Columns (5,6,2764,2765,2773,2774,2775,2776) have mixed types. Specify dtype option on import or set low_memory=False.\n",
      "  app.launch_new_instance()\n"
     ]
    }
   ],
   "source": [
    "data_factory = DataFactory()\n",
    "A_all_vs,_ = data_factory.load_IBD_all_vs(\"Intensity\",index_func=lambda x:x.split(\";\")[0],log2_transformation=True)\n",
    "_,B_am,X = data_factory.load_simple_artificial_profile(\"Intensity\",index_func=lambda x:x.split(\";\")[0],log2_transformation=True)"
   ]
  },
  {
   "cell_type": "markdown",
   "metadata": {},
   "source": [
    "# run meta analysis"
   ]
  },
  {
   "cell_type": "markdown",
   "metadata": {},
   "source": [
    "## configuration"
   ]
  },
  {
   "cell_type": "code",
   "execution_count": 4,
   "metadata": {
    "code_folding": []
   },
   "outputs": [],
   "source": [
    "spec_cells,agg_spec_cells = PpKeepSpecificCells(),PpAggToSpecificCells()\n",
    "agg_iv,pp_irl_prot  = AggregateIntraVariance(),PpCleanIrrelevantProteins()\n",
    "pp_chiv = PpCleanHighIntraVar()\n",
    "pp_entropy_only_largest, pp_entropy, pp_empty,pp_dep = PpEntropyBasedOnlyLargest(), PpEntropyBased(), PpEmpty(),PpDepDeBased()\n",
    "pp_svm_signature,pp_totel_sum = PpSvmSignature(),PpEntropyBasedTotelSum()\n",
    "pp_floor_quantile = PpFloorUnderQuantile()\n",
    "\n",
    "bd = BasicDeconv()\n",
    "cpm = CellProportionsMeasure(how=\"groups\")\n",
    "\n",
    "hyper_configuration = [{\"step_name\": \"floor\",\n",
    "                         \"steps\": [\n",
    "                             {\"function_name\": \"floor_quantile\", \"function\": pp_floor_quantile,\n",
    "                              \"params\": {}},\n",
    "                             {\"function_name\": \"PpEmpty_floor\", \"function\": pp_empty,\n",
    "                              \"params\": {}}\n",
    "                         ]},\n",
    "#                        -----------------------------------\n",
    "                       {\"step_name\": \"per_cells_filter\",\n",
    "                                \"steps\": [\n",
    "                                    {\"function_name\": \"kepp_specific_cells\", \"function\": spec_cells,\n",
    "                                     \"params\": {\"cells_list\":[['Intensity NOT_CD4TCellTcm','Intensity NOT_BCellmemory','Intensity NOT_Monocytesnonclassical']]}}\n",
    "                                ]},\n",
    "                        # -------------------------------\n",
    "                        {\"step_name\": \"cleanHighIntraVariance\",\n",
    "                        \"steps\": [\n",
    "                            {\"function_name\": \"PpCleanHighIntraVar\", \"function\": pp_chiv,\n",
    "                             \"params\": {\"how\": [\"std\"],\"std_trh\":[1,2]}},\n",
    "                        {\"function_name\": \"PpEmpty_clean_iv\", \"function\": pp_empty,\n",
    "                             \"params\": {}}]},\n",
    "                        # -------------------------------\n",
    "                        {\"step_name\": \"AggregateIntraVariance\",\n",
    "                        \"steps\": [\n",
    "                            {\"function_name\": \"AggregateIntraVariance\", \"function\": agg_iv,\n",
    "                             \"params\": {\"how\": [\"mean\", \"median\",\"max\"]}}]},\n",
    "#                                 \"params\": {\"how\": [\"mean\"]}}]},\n",
    "                       # --------------------------------\n",
    "                       {\"step_name\": \"cleen_irrelevant_proteins\",\n",
    "                        \"steps\": [\n",
    "                            {\"function_name\": \"CleanIrrelevantProteins\", \"function\": pp_irl_prot,\n",
    "                             \"params\": {}}]},\n",
    "                       # --------------------------------\n",
    "                       {\"step_name\": \"Cytof_X_Building\",\n",
    "                        \"steps\": [\n",
    "                            {\"function_name\": \"Cytof_X_Building\", \"function\": pp_empty,\n",
    "                             \"params\": {\"keep_labels\":[True],\"with_label_prop\":[False]}}]},\n",
    "                       # --------------------------------\n",
    "                       {\"step_name\": \"preprocess\",\n",
    "                        \"steps\": [\n",
    "                            {\"function_name\": \"pp_totel_sum\", \"function\": pp_totel_sum,\n",
    "                    \"params\": {\"totel_sum_percentage\": [0.001, 0.0001],\"with_norm\": [True,False],\"number_of_bins\" :[0,20] ,\n",
    "#                             \"params\": {\"totel_sum_percentage\": [0.001, 0.0001],\"with_norm\": [False],\"number_of_bins\" :[0,20] ,\n",
    "                               \"only_largest\":[True,False]}},\n",
    "                            {\"function_name\": \"PpEntropyBased\", \"function\": pp_entropy,\n",
    "                             \"params\": {\"n_genes_per_cell\": [20,100], \"gene_entropy_trh\": [1,3],\"number_of_bins\" :[0,20] ,\n",
    "                                        \"with_norm\": [True,False]}},\n",
    "                            {\"function_name\": \"PpEntropyBasedOnlyLargest\", \"function\": pp_entropy_only_largest,\n",
    "                             \"params\": {\"n_genes_per_cell\": [20,80],\"number_of_bins\" :[0,20] ,\"with_norm\": [True, False]}},\n",
    "                            {\"function_name\": \"PpDepDeBased\", \"function\": pp_dep,\n",
    "                              \"params\": {\"n_of_genes\": [20,80] ,\"is_agg_cells\":[True,False]}},\n",
    "                            {\"function_name\": \"PpSvm\", \"function\": pp_svm_signature,\n",
    "                  \"params\": {\"n_features\": [20,80], \"with_norm\": [ False]}},\n",
    "                            {\"function_name\": \"PpEmpty_prepro\", \"function\": pp_empty,\n",
    "                             \"params\": {}}\n",
    "                        ]},\n",
    "                       # --------------------------------\n",
    "                       {\"step_name\": \"deconv\",\n",
    "                        \"steps\": [\n",
    "                            {\"function_name\": \"BasicDeconv\", \"function\": bd,\n",
    "                             \"params\": {\"normalize\": [True], \"cellMix\": [ False]}}]}]\n",
    "\n",
    "hyper_measure_configuration = [\n",
    "    {\"step_name\": \"measure\",\n",
    "     \"steps\": [\n",
    "         {\"function_name\": \"CellProportionsMeasure\", \"function\": cpm,\n",
    "#           \"params\": {\"how\": [\"correlation\",\"RMSE\",\"MI\"],\"with_pvalue\":[True],\"with_iso_test\":[False]}}]}]\n",
    "          \"params\": {\"how\": [\"correlation\",\"entropy\"],\"with_pvalue\":[True],\"with_iso_test\":[False],\"correlation_method\":[\"spearman\"]}}]}]\n",
    "\n",
    "_pipe = PipelineDeconv(hyper_configuration=hyper_configuration,\n",
    "                                 hyper_measure_configuration=hyper_measure_configuration)"
   ]
  },
  {
   "cell_type": "markdown",
   "metadata": {},
   "source": [
    "## run"
   ]
  },
  {
   "cell_type": "code",
   "execution_count": 5,
   "metadata": {
    "scrolled": true
   },
   "outputs": [
    {
     "name": "stderr",
     "output_type": "stream",
     "text": [
      "  0%|                                                                                          | 0/846 [00:00<?, ?it/s]C:\\Users\\Shenorr\\AppData\\Roaming\\Python\\Python36\\site-packages\\sklearn\\base.py:197: FutureWarning: From version 0.24, get_params will raise an AttributeError if a parameter cannot be retrieved as an instance attribute. Previously it would return None.\n",
      "  FutureWarning)\n",
      "  7%|██████                                                                           | 63/846 [03:37<44:09,  3.38s/it]C:\\Users\\Shenorr\\AppData\\Roaming\\Python\\Python36\\site-packages\\sklearn\\base.py:197: FutureWarning: From version 0.24, get_params will raise an AttributeError if a parameter cannot be retrieved as an instance attribute. Previously it would return None.\n",
      "  FutureWarning)\n",
      " 13%|██████████▍                                                                     | 110/846 [06:25<45:40,  3.72s/it]C:\\Users\\Shenorr\\AppData\\Roaming\\Python\\Python36\\site-packages\\sklearn\\base.py:197: FutureWarning: From version 0.24, get_params will raise an AttributeError if a parameter cannot be retrieved as an instance attribute. Previously it would return None.\n",
      "  FutureWarning)\n",
      " 19%|██████████████▊                                                                 | 157/846 [09:10<37:35,  3.27s/it]C:\\Users\\Shenorr\\AppData\\Roaming\\Python\\Python36\\site-packages\\sklearn\\base.py:197: FutureWarning: From version 0.24, get_params will raise an AttributeError if a parameter cannot be retrieved as an instance attribute. Previously it would return None.\n",
      "  FutureWarning)\n",
      " 24%|███████████████████▎                                                            | 204/846 [11:52<35:33,  3.32s/it]C:\\Users\\Shenorr\\AppData\\Roaming\\Python\\Python36\\site-packages\\sklearn\\base.py:197: FutureWarning: From version 0.24, get_params will raise an AttributeError if a parameter cannot be retrieved as an instance attribute. Previously it would return None.\n",
      "  FutureWarning)\n",
      " 30%|███████████████████████▋                                                        | 251/846 [15:00<35:45,  3.61s/it]C:\\Users\\Shenorr\\AppData\\Roaming\\Python\\Python36\\site-packages\\sklearn\\base.py:197: FutureWarning: From version 0.24, get_params will raise an AttributeError if a parameter cannot be retrieved as an instance attribute. Previously it would return None.\n",
      "  FutureWarning)\n",
      " 35%|████████████████████████████▏                                                   | 298/846 [17:12<11:11,  1.23s/it]C:\\Users\\Shenorr\\AppData\\Roaming\\Python\\Python36\\site-packages\\sklearn\\base.py:197: FutureWarning: From version 0.24, get_params will raise an AttributeError if a parameter cannot be retrieved as an instance attribute. Previously it would return None.\n",
      "  FutureWarning)\n",
      " 41%|████████████████████████████████▌                                               | 345/846 [18:19<09:37,  1.15s/it]C:\\Users\\Shenorr\\AppData\\Roaming\\Python\\Python36\\site-packages\\sklearn\\base.py:197: FutureWarning: From version 0.24, get_params will raise an AttributeError if a parameter cannot be retrieved as an instance attribute. Previously it would return None.\n",
      "  FutureWarning)\n",
      " 46%|█████████████████████████████████████                                           | 392/846 [19:33<11:01,  1.46s/it]C:\\Users\\Shenorr\\AppData\\Roaming\\Python\\Python36\\site-packages\\sklearn\\base.py:197: FutureWarning: From version 0.24, get_params will raise an AttributeError if a parameter cannot be retrieved as an instance attribute. Previously it would return None.\n",
      "  FutureWarning)\n",
      " 52%|█████████████████████████████████████████▌                                      | 439/846 [21:16<21:08,  3.12s/it]C:\\Users\\Shenorr\\AppData\\Roaming\\Python\\Python36\\site-packages\\sklearn\\base.py:197: FutureWarning: From version 0.24, get_params will raise an AttributeError if a parameter cannot be retrieved as an instance attribute. Previously it would return None.\n",
      "  FutureWarning)\n",
      " 57%|█████████████████████████████████████████████▉                                  | 486/846 [23:54<18:35,  3.10s/it]C:\\Users\\Shenorr\\AppData\\Roaming\\Python\\Python36\\site-packages\\sklearn\\base.py:197: FutureWarning: From version 0.24, get_params will raise an AttributeError if a parameter cannot be retrieved as an instance attribute. Previously it would return None.\n",
      "  FutureWarning)\n",
      " 63%|██████████████████████████████████████████████████▍                             | 533/846 [26:30<15:56,  3.06s/it]C:\\Users\\Shenorr\\AppData\\Roaming\\Python\\Python36\\site-packages\\sklearn\\base.py:197: FutureWarning: From version 0.24, get_params will raise an AttributeError if a parameter cannot be retrieved as an instance attribute. Previously it would return None.\n",
      "  FutureWarning)\n",
      " 69%|██████████████████████████████████████████████████████▊                         | 580/846 [29:08<13:21,  3.01s/it]C:\\Users\\Shenorr\\AppData\\Roaming\\Python\\Python36\\site-packages\\sklearn\\base.py:197: FutureWarning: From version 0.24, get_params will raise an AttributeError if a parameter cannot be retrieved as an instance attribute. Previously it would return None.\n",
      "  FutureWarning)\n",
      " 74%|███████████████████████████████████████████████████████████▎                    | 627/846 [31:48<11:48,  3.24s/it]C:\\Users\\Shenorr\\AppData\\Roaming\\Python\\Python36\\site-packages\\sklearn\\base.py:197: FutureWarning: From version 0.24, get_params will raise an AttributeError if a parameter cannot be retrieved as an instance attribute. Previously it would return None.\n",
      "  FutureWarning)\n",
      " 80%|███████████████████████████████████████████████████████████████▋                | 674/846 [34:28<09:01,  3.15s/it]C:\\Users\\Shenorr\\AppData\\Roaming\\Python\\Python36\\site-packages\\sklearn\\base.py:197: FutureWarning: From version 0.24, get_params will raise an AttributeError if a parameter cannot be retrieved as an instance attribute. Previously it would return None.\n",
      "  FutureWarning)\n",
      " 85%|████████████████████████████████████████████████████████████████████▏           | 721/846 [36:49<02:32,  1.22s/it]C:\\Users\\Shenorr\\AppData\\Roaming\\Python\\Python36\\site-packages\\sklearn\\base.py:197: FutureWarning: From version 0.24, get_params will raise an AttributeError if a parameter cannot be retrieved as an instance attribute. Previously it would return None.\n",
      "  FutureWarning)\n",
      " 91%|████████████████████████████████████████████████████████████████████████▌       | 768/846 [38:08<02:03,  1.59s/it]C:\\Users\\Shenorr\\AppData\\Roaming\\Python\\Python36\\site-packages\\sklearn\\base.py:197: FutureWarning: From version 0.24, get_params will raise an AttributeError if a parameter cannot be retrieved as an instance attribute. Previously it would return None.\n",
      "  FutureWarning)\n",
      " 96%|█████████████████████████████████████████████████████████████████████████████   | 815/846 [39:25<00:45,  1.46s/it]C:\\Users\\Shenorr\\AppData\\Roaming\\Python\\Python36\\site-packages\\sklearn\\base.py:197: FutureWarning: From version 0.24, get_params will raise an AttributeError if a parameter cannot be retrieved as an instance attribute. Previously it would return None.\n",
      "  FutureWarning)\n",
      "100%|████████████████████████████████████████████████████████████████████████████████| 846/846 [40:14<00:00,  2.85s/it]\n"
     ]
    }
   ],
   "source": [
    "meta_results = _pipe.run_pipeline(A_all_vs, B_am,X)"
   ]
  },
  {
   "cell_type": "code",
   "execution_count": 6,
   "metadata": {},
   "outputs": [
    {
     "data": {
      "text/html": [
       "<div>\n",
       "<style scoped>\n",
       "    .dataframe tbody tr th:only-of-type {\n",
       "        vertical-align: middle;\n",
       "    }\n",
       "\n",
       "    .dataframe tbody tr th {\n",
       "        vertical-align: top;\n",
       "    }\n",
       "\n",
       "    .dataframe thead th {\n",
       "        text-align: right;\n",
       "    }\n",
       "</style>\n",
       "<table border=\"1\" class=\"dataframe\">\n",
       "  <thead>\n",
       "    <tr style=\"text-align: right;\">\n",
       "      <th></th>\n",
       "      <th>corrMean</th>\n",
       "      <th>uuid</th>\n",
       "    </tr>\n",
       "  </thead>\n",
       "  <tbody>\n",
       "    <tr>\n",
       "      <td>774</td>\n",
       "      <td>0.514</td>\n",
       "      <td>1323294128</td>\n",
       "    </tr>\n",
       "    <tr>\n",
       "      <td>781</td>\n",
       "      <td>0.495</td>\n",
       "      <td>1420934528</td>\n",
       "    </tr>\n",
       "    <tr>\n",
       "      <td>766</td>\n",
       "      <td>0.495</td>\n",
       "      <td>1206315432</td>\n",
       "    </tr>\n",
       "    <tr>\n",
       "      <td>560</td>\n",
       "      <td>0.495</td>\n",
       "      <td>3983582274</td>\n",
       "    </tr>\n",
       "    <tr>\n",
       "      <td>650</td>\n",
       "      <td>0.495</td>\n",
       "      <td>2894243300</td>\n",
       "    </tr>\n",
       "    <tr>\n",
       "      <td>...</td>\n",
       "      <td>...</td>\n",
       "      <td>...</td>\n",
       "    </tr>\n",
       "    <tr>\n",
       "      <td>330</td>\n",
       "      <td>-0.622</td>\n",
       "      <td>1645428072</td>\n",
       "    </tr>\n",
       "    <tr>\n",
       "      <td>326</td>\n",
       "      <td>-0.622</td>\n",
       "      <td>1599545598</td>\n",
       "    </tr>\n",
       "    <tr>\n",
       "      <td>405</td>\n",
       "      <td>-0.622</td>\n",
       "      <td>2936910344</td>\n",
       "    </tr>\n",
       "    <tr>\n",
       "      <td>79</td>\n",
       "      <td>-0.638</td>\n",
       "      <td>2080392358</td>\n",
       "    </tr>\n",
       "    <tr>\n",
       "      <td>63</td>\n",
       "      <td>-0.638</td>\n",
       "      <td>1502420726</td>\n",
       "    </tr>\n",
       "  </tbody>\n",
       "</table>\n",
       "<p>810 rows × 2 columns</p>\n",
       "</div>"
      ],
      "text/plain": [
       "     corrMean        uuid\n",
       "774     0.514  1323294128\n",
       "781     0.495  1420934528\n",
       "766     0.495  1206315432\n",
       "560     0.495  3983582274\n",
       "650     0.495  2894243300\n",
       "..        ...         ...\n",
       "330    -0.622  1645428072\n",
       "326    -0.622  1599545598\n",
       "405    -0.622  2936910344\n",
       "79     -0.638  2080392358\n",
       "63     -0.638  1502420726\n",
       "\n",
       "[810 rows x 2 columns]"
      ]
     },
     "execution_count": 6,
     "metadata": {},
     "output_type": "execute_result"
    }
   ],
   "source": [
    "meta_results.sort_values(by=\"corrMean\",ascending=False)[['corrMean',\"uuid\"]]"
   ]
  },
  {
   "cell_type": "code",
   "execution_count": 7,
   "metadata": {
    "code_folding": []
   },
   "outputs": [
    {
     "name": "stdout",
     "output_type": "stream",
     "text": [
      "params : \n"
     ]
    },
    {
     "data": {
      "text/html": [
       "<table border=\"1\" class=\"dataframe\">\n",
       "  <thead>\n",
       "    <tr style=\"text-align: right;\">\n",
       "      <th></th>\n",
       "    </tr>\n",
       "  </thead>\n",
       "  <tbody>\n",
       "    <tr>\n",
       "      <th>entropy</th>\n",
       "    </tr>\n",
       "    <tr>\n",
       "      <th>corrMean</th>\n",
       "    </tr>\n",
       "    <tr>\n",
       "      <th>corrPval</th>\n",
       "    </tr>\n",
       "    <tr>\n",
       "      <th>PpFloorUnderQuantile_quantile</th>\n",
       "    </tr>\n",
       "    <tr>\n",
       "      <th>PpKeepSpecificCells_cells_list</th>\n",
       "    </tr>\n",
       "    <tr>\n",
       "      <th>PpCleanHighIntraVar_how</th>\n",
       "    </tr>\n",
       "    <tr>\n",
       "      <th>PpCleanHighIntraVar_std_trh</th>\n",
       "    </tr>\n",
       "    <tr>\n",
       "      <th>PpCleanHighIntraVar_range_trh</th>\n",
       "    </tr>\n",
       "    <tr>\n",
       "      <th>PpCleanHighIntraVar_number_of_zeros</th>\n",
       "    </tr>\n",
       "    <tr>\n",
       "      <th>AggregateIntraVariance_how</th>\n",
       "    </tr>\n",
       "    <tr>\n",
       "      <th>PpEmpty_with_label_prop</th>\n",
       "    </tr>\n",
       "    <tr>\n",
       "      <th>PpEntropyBasedTotelSum_totel_sum_percentage</th>\n",
       "    </tr>\n",
       "    <tr>\n",
       "      <th>PpEntropyBasedTotelSum_with_norm</th>\n",
       "    </tr>\n",
       "    <tr>\n",
       "      <th>PpEntropyBasedTotelSum_low_intra_var_trh</th>\n",
       "    </tr>\n",
       "    <tr>\n",
       "      <th>PpEntropyBasedTotelSum_only_largest</th>\n",
       "    </tr>\n",
       "    <tr>\n",
       "      <th>PpEntropyBasedTotelSum_number_of_bins</th>\n",
       "    </tr>\n",
       "    <tr>\n",
       "      <th>BasicDeconv_normalize</th>\n",
       "    </tr>\n",
       "    <tr>\n",
       "      <th>BasicDeconv_cellMix</th>\n",
       "    </tr>\n",
       "    <tr>\n",
       "      <th>uuid</th>\n",
       "    </tr>\n",
       "    <tr>\n",
       "      <th>PpEntropyBased_n_genes_per_cell</th>\n",
       "    </tr>\n",
       "    <tr>\n",
       "      <th>PpEntropyBased_gene_entropy_trh</th>\n",
       "    </tr>\n",
       "    <tr>\n",
       "      <th>PpEntropyBased_with_norm</th>\n",
       "    </tr>\n",
       "    <tr>\n",
       "      <th>PpEntropyBased_number_of_bins</th>\n",
       "    </tr>\n",
       "    <tr>\n",
       "      <th>PpEntropyBasedOnlyLargest_n_genes_per_cell</th>\n",
       "    </tr>\n",
       "    <tr>\n",
       "      <th>PpEntropyBasedOnlyLargest_with_norm</th>\n",
       "    </tr>\n",
       "    <tr>\n",
       "      <th>PpEntropyBasedOnlyLargest_low_intra_var_trh</th>\n",
       "    </tr>\n",
       "    <tr>\n",
       "      <th>PpEntropyBasedOnlyLargest_number_of_bins</th>\n",
       "    </tr>\n",
       "    <tr>\n",
       "      <th>PpDepDeBased_n_genes_per_cell</th>\n",
       "    </tr>\n",
       "    <tr>\n",
       "      <th>PpDepDeBased_intansity_type</th>\n",
       "    </tr>\n",
       "    <tr>\n",
       "      <th>PpDepDeBased_is_agg_cells</th>\n",
       "    </tr>\n",
       "    <tr>\n",
       "      <th>PpDepDeBased_n_of_genes</th>\n",
       "    </tr>\n",
       "    <tr>\n",
       "      <th>PpSvmSignature_n_features</th>\n",
       "    </tr>\n",
       "    <tr>\n",
       "      <th>PpSvmSignature_with_norm</th>\n",
       "    </tr>\n",
       "  </tbody>\n",
       "</table>"
      ],
      "text/plain": [
       "<IPython.core.display.HTML object>"
      ]
     },
     "metadata": {},
     "output_type": "display_data"
    },
    {
     "name": "stdout",
     "output_type": "stream",
     "text": [
      "mixtures : \n"
     ]
    },
    {
     "data": {
      "text/html": [
       "<table border=\"1\" class=\"dataframe\">\n",
       "  <thead>\n",
       "    <tr style=\"text-align: right;\">\n",
       "      <th></th>\n",
       "      <th>mixture1</th>\n",
       "      <th>mixture2</th>\n",
       "      <th>mixture3</th>\n",
       "      <th>mixture4</th>\n",
       "      <th>mixture5</th>\n",
       "      <th>mixture6</th>\n",
       "      <th>mixture7</th>\n",
       "      <th>mixture8</th>\n",
       "    </tr>\n",
       "    <tr>\n",
       "      <th>cell</th>\n",
       "      <th></th>\n",
       "      <th></th>\n",
       "      <th></th>\n",
       "      <th></th>\n",
       "      <th></th>\n",
       "      <th></th>\n",
       "      <th></th>\n",
       "      <th></th>\n",
       "    </tr>\n",
       "  </thead>\n",
       "  <tbody>\n",
       "    <tr>\n",
       "      <th>Intensity NOT_BCellmemory</th>\n",
       "      <td>0.2</td>\n",
       "      <td>0.2</td>\n",
       "      <td>NaN</td>\n",
       "      <td>0.27</td>\n",
       "      <td>0.27</td>\n",
       "      <td>1.0</td>\n",
       "      <td>0.27</td>\n",
       "      <td>0.2</td>\n",
       "    </tr>\n",
       "    <tr>\n",
       "      <th>Intensity NOT_CD4TCellTcm</th>\n",
       "      <td>0.8</td>\n",
       "      <td>0.8</td>\n",
       "      <td>NaN</td>\n",
       "      <td>0.73</td>\n",
       "      <td>0.73</td>\n",
       "      <td>0.0</td>\n",
       "      <td>0.73</td>\n",
       "      <td>0.8</td>\n",
       "    </tr>\n",
       "    <tr>\n",
       "      <th>Intensity NOT_Monocytesnonclassical</th>\n",
       "      <td>0.0</td>\n",
       "      <td>0.0</td>\n",
       "      <td>NaN</td>\n",
       "      <td>0.00</td>\n",
       "      <td>0.00</td>\n",
       "      <td>0.0</td>\n",
       "      <td>0.00</td>\n",
       "      <td>0.0</td>\n",
       "    </tr>\n",
       "  </tbody>\n",
       "</table>"
      ],
      "text/plain": [
       "<IPython.core.display.HTML object>"
      ]
     },
     "metadata": {},
     "output_type": "display_data"
    },
    {
     "name": "stdout",
     "output_type": "stream",
     "text": [
      "mixtures details :\n"
     ]
    },
    {
     "data": {
      "text/html": [
       "<table border=\"1\" class=\"dataframe\">\n",
       "  <thead>\n",
       "    <tr style=\"text-align: right;\">\n",
       "      <th></th>\n",
       "      <th>0</th>\n",
       "    </tr>\n",
       "  </thead>\n",
       "  <tbody>\n",
       "    <tr>\n",
       "      <th>count</th>\n",
       "      <td>6.000000</td>\n",
       "    </tr>\n",
       "    <tr>\n",
       "      <th>mean</th>\n",
       "      <td>0.455342</td>\n",
       "    </tr>\n",
       "    <tr>\n",
       "      <th>std</th>\n",
       "      <td>0.742426</td>\n",
       "    </tr>\n",
       "    <tr>\n",
       "      <th>min</th>\n",
       "      <td>-0.866025</td>\n",
       "    </tr>\n",
       "    <tr>\n",
       "      <th>25%</th>\n",
       "      <td>0.216506</td>\n",
       "    </tr>\n",
       "    <tr>\n",
       "      <th>50%</th>\n",
       "      <td>0.866025</td>\n",
       "    </tr>\n",
       "    <tr>\n",
       "      <th>75%</th>\n",
       "      <td>0.866025</td>\n",
       "    </tr>\n",
       "    <tr>\n",
       "      <th>max</th>\n",
       "      <td>1.000000</td>\n",
       "    </tr>\n",
       "  </tbody>\n",
       "</table>"
      ],
      "text/plain": [
       "<IPython.core.display.HTML object>"
      ]
     },
     "metadata": {},
     "output_type": "display_data"
    },
    {
     "data": {
      "image/png": "[encoded data removed]",
      "text/plain": [
       "<Figure size 1440x720 with 2 Axes>"
      ]
     },
     "metadata": {},
     "output_type": "display_data"
    }
   ],
   "source": [
    "def describe_results(uuids,with_per_mixture_plot = False,with_mixtures_pca = False) : \n",
    "    if type(uuids) is str : \n",
    "        uuids = [uuids]\n",
    "    \n",
    "    for uuid in uuids : \n",
    "        params = meta_results[meta_results[\"uuid\"] == int(uuid)].T.copy(deep=True).dropna()\n",
    "        print(\"params : \")\n",
    "        display(HTML(params.to_html()))\n",
    "\n",
    "\n",
    "        best_results_and_known = _pipe.load_results_from_archive(uuid)\n",
    "        best_results=best_results_and_known[\"result\"]\n",
    "        best_known=best_results_and_known[\"known\"]\n",
    "        mapping = GlobalUtils.get_corospanding_cell_map_from_lists(best_known.index,best_results.index)\n",
    "        best_known = best_known.rename(index=mapping)\n",
    "\n",
    "        mutual_col = best_known.columns.intersection(best_results.columns)\n",
    "        best_results = best_results[mutual_col]\n",
    "        best_known = best_known[mutual_col]/100\n",
    "\n",
    "        print(\"mixtures : \")\n",
    "        display(HTML(best_results.to_html()))\n",
    "\n",
    "        print(\"mixtures details :\")\n",
    "        display(HTML(best_results.corrwith(best_known,method=\"spearman\").describe().to_frame().to_html()))\n",
    "\n",
    "        cytof_plots.plot_mass_to_cytof_scatter_all_on_one(best_results,best_known,best_results)\n",
    "        if with_per_mixture_plot : \n",
    "            cytof_plots.plot_mass_to_cytof_scatter(best_results,best_known,best_results)\n",
    "        if with_mixtures_pca : \n",
    "            plot_results_vs_known_pca(best_results,best_known)\n",
    "describe_results('995566674')"
   ]
  },
  {
   "cell_type": "markdown",
   "metadata": {},
   "source": [
    "# test"
   ]
  },
  {
   "cell_type": "code",
   "execution_count": 8,
   "metadata": {},
   "outputs": [],
   "source": [
    "a = pd.DataFrame(index=range(3),columns=range(8),data=np.random.rand(3,8))\n",
    "b = pd.DataFrame(index=[3,1,2],columns=range(8),data=np.random.rand(3,8))"
   ]
  },
  {
   "cell_type": "code",
   "execution_count": 9,
   "metadata": {},
   "outputs": [
    {
     "data": {
      "text/plain": [
       "0    1.0\n",
       "1   -1.0\n",
       "2   -1.0\n",
       "3    1.0\n",
       "4    1.0\n",
       "5   -1.0\n",
       "6    1.0\n",
       "7   -1.0\n",
       "dtype: float64"
      ]
     },
     "execution_count": 9,
     "metadata": {},
     "output_type": "execute_result"
    }
   ],
   "source": [
    "met = lambda x,y : x.corrwith(y, axis=0, method=\"spearman\")\n",
    "\n",
    "met(a,b)\n"
   ]
  },
  {
   "cell_type": "code",
   "execution_count": 10,
   "metadata": {},
   "outputs": [
    {
     "data": {
      "text/plain": [
       "(3, 8)"
      ]
     },
     "execution_count": 10,
     "metadata": {},
     "output_type": "execute_result"
    }
   ],
   "source": [
    "b.shape"
   ]
  }
 ],
 "metadata": {
  "hide_input": false,
  "kernelspec": {
   "display_name": "Python 3",
   "language": "python",
   "name": "python3"
  },
  "language_info": {
   "codemirror_mode": {
    "name": "ipython",
    "version": 3
   },
   "file_extension": ".py",
   "mimetype": "text/x-python",
   "name": "python",
   "nbconvert_exporter": "python",
   "pygments_lexer": "ipython3",
   "version": "3.6.5"
  },
  "toc": {
   "base_numbering": 1,
   "nav_menu": {},
   "number_sections": true,
   "sideBar": true,
   "skip_h1_title": false,
   "title_cell": "Table of Contents",
   "title_sidebar": "Contents",
   "toc_cell": false,
   "toc_position": {},
   "toc_section_display": true,
   "toc_window_display": false
  }
 },
 "nbformat": 4,
 "nbformat_minor": 2
}
