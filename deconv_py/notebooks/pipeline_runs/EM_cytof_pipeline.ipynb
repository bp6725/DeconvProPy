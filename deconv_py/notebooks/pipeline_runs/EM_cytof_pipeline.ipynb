{
 "cells": [
  {
   "cell_type": "markdown",
   "metadata": {
    "heading_collapsed": true
   },
   "source": [
    "#  INIT"
   ]
  },
  {
   "cell_type": "code",
   "execution_count": 1,
   "metadata": {
    "hidden": true
   },
   "outputs": [],
   "source": [
    "import sys\n",
    "sys.path.append('../../../deconv_py/')\n",
    "sys.path.append('../../infras/cellMix/')\n",
    "sys.path.append('../../infras/cytof_data/')\n",
    "sys.path.append('../../infras/ctpnet/')\n",
    "sys.path.append('../../infras/')\n",
    "sys.path.append('../../infras/dashboards/')\n",
    "sys.path.append('../../experiments/')\n",
    "sys.path.append('../../experiments/pipeline/')\n",
    "sys.path.append('../../preprocess/intra_variance/')\n",
    "sys.path.append('../../models/cell_proportions/')\n",
    "sys.path.append('../../measures/cell_proportions_measures/')\n",
    "sys.path.append('../../preprocess/cell_specifics/')\n",
    "sys.path.append('../../preprocess/data_sets/')\n"
   ]
  },
  {
   "cell_type": "code",
   "execution_count": 2,
   "metadata": {
    "hidden": true
   },
   "outputs": [
    {
     "name": "stdout",
     "output_type": "stream",
     "text": [
      "{\n",
      "  \"shell_port\": 62533,\n",
      "  \"iopub_port\": 62534,\n",
      "  \"stdin_port\": 62535,\n",
      "  \"control_port\": 62536,\n",
      "  \"hb_port\": 62537,\n",
      "  \"ip\": \"127.0.0.1\",\n",
      "  \"key\": \"6c049e15-cf68e41cca36f6ea3cc821ac\",\n",
      "  \"transport\": \"tcp\",\n",
      "  \"signature_scheme\": \"hmac-sha256\",\n",
      "  \"kernel_name\": \"\"\n",
      "}\n",
      "\n",
      "Paste the above JSON into a file, and connect with:\n",
      "    $> jupyter <app> --existing <file>\n",
      "or, if you are local, you can connect with just:\n",
      "    $> jupyter <app> --existing kernel-5d7a27bb-1b43-4091-8e09-8654beefdc62.json\n",
      "or even just:\n",
      "    $> jupyter <app> --existing\n",
      "if this is the most recent Jupyter kernel you have started.\n"
     ]
    }
   ],
   "source": [
    "from data_factory import DataFactory\n",
    "from global_utils import GlobalUtils\n",
    "from cytof_cell_count_infra import CytofCellCountInfra\n",
    "from cell_proportions_experiments import  CellProportionsExperiments\n",
    "import exploration_cytof_plots as cytof_plots\n",
    "\n",
    "from pp_entropy_based import PpEntropyBased\n",
    "from pp_dep_de_based import  PpDepDeBased\n",
    "from cell_proportions_measure import CellProportionsMeasure\n",
    "from pp_clean_high_intra_var import PpCleanHighIntraVar\n",
    "from pp_clean_irrelevant_proteins import PpCleanIrrelevantProteins\n",
    "from pp_empty import PpEmpty\n",
    "from pp_entropy_based_only_largest import PpEntropyBasedOnlyLargest\n",
    "from aggregate_intra_variance import AggregateIntraVariance\n",
    "from pipeline_deconv import PipelineDeconv\n",
    "from deconv_py.preprocess.base import BasePreprocess as PP_base\n",
    "from deconv_py.preprocess.cell_specific import CellSpecific as PP_proteins\n",
    "from deconv_py.preprocess.cell_specifics.pp_svm_signature import PpSvmSignature\n",
    "from deconv_py.preprocess.cell_specifics.pp_entropy_based_totel_sum import PpEntropyBasedTotelSum\n",
    "from deconv_py.preprocess.cell_specifics.pp_floor_under_quantile import PpFloorUnderQuantile\n",
    "from pick_data_set import PickDataSet\n",
    "# from deconvolution_results_plots import DeconvolutionResultsPlots\n",
    "\n",
    "from basic import BasicDeconv\n",
    "from regression import RegressionDeconv\n",
    "from generalized_estimating_equations import GeneralizedEstimatingEquations\n",
    "from robust_linear_model import RobustLinearModel\n",
    "\n",
    "\n",
    "from pp_keep_specific_cells  import  PpKeepSpecificCells\n",
    "from pp_agg_to_specific_cells import PpAggToSpecificCells\n",
    "\n",
    "# from deconv_py.infras.data_factory import DataFactory\n",
    "from deconv_py.infras.data_loader import DataLoader\n",
    "from deconv_py.models.base import Base as Models_base\n",
    "from deconv_py.models.cell_proportions_models import CellProportions\n",
    "from deconv_py.models.cell_specific_models import CellSpecificPerPermutation\n",
    "from deconv_py.experiments.cell_specific import CellSpecificMetricsPlot\n",
    "from cellMix_coordinator import CellMixCoordinator\n",
    "\n",
    "import pandas as pd\n",
    "import numpy as np\n",
    "from functools import partial\n",
    "import multiprocessing\n",
    "from sklearn import pipeline\n",
    "import itertools\n",
    "from scipy.optimize import least_squares\n",
    "from sklearn.metrics import mean_squared_error\n",
    "from functools import partial\n",
    "from scipy.optimize import minimize\n",
    "import scipy.optimize\n",
    "from itertools import combinations\n",
    "import matplotlib.pyplot as plt\n",
    "import seaborn as sns\n",
    "import pprint\n",
    "import os\n",
    "import pickle as pkl \n",
    "from sklearn.decomposition import PCA\n",
    "from IPython.display import display, HTML\n",
    "\n",
    "\n",
    "%connect_info"
   ]
  },
  {
   "cell_type": "markdown",
   "metadata": {},
   "source": [
    "# read and build any data"
   ]
  },
  {
   "cell_type": "code",
   "execution_count": 3,
   "metadata": {},
   "outputs": [
    {
     "name": "stderr",
     "output_type": "stream",
     "text": [
      "C:\\ProgramData\\Anaconda3\\lib\\site-packages\\ipykernel_launcher.py:3: DtypeWarning: Columns (5,6,2764,2765,2773,2774,2775,2776) have mixed types. Specify dtype option on import or set low_memory=False.\n",
      "  This is separate from the ipykernel package so we can avoid doing imports until\n"
     ]
    }
   ],
   "source": [
    "data_factory = DataFactory()\n",
    "A_all_vs, B_all_vs = data_factory.load_IBD_all_vs(\"Intensity\", index_func=lambda x: x.split(\";\")[0],\n",
    "                                                          log2_transformation=True)\n",
    "# A_all_vs_not_impu,B_all_vs_not_impu = data_factory.load_no_imputation_IBD_all_vs(\"Intensity\",index_func=lambda x:x.split(\";\")[0],log2_transformation=False)\n"
   ]
  },
  {
   "cell_type": "markdown",
   "metadata": {
    "heading_collapsed": true
   },
   "source": [
    "# run meta analysis"
   ]
  },
  {
   "cell_type": "code",
   "execution_count": null,
   "metadata": {
    "hidden": true
   },
   "outputs": [],
   "source": [
    "# A_all_vs.to_csv(\"../../profile.csv\")\n",
    "# B_all_vs.to_csv(\"../../mixtures.csv\")"
   ]
  },
  {
   "cell_type": "markdown",
   "metadata": {
    "heading_collapsed": true,
    "hidden": true
   },
   "source": [
    "## configuration"
   ]
  },
  {
   "cell_type": "code",
   "execution_count": null,
   "metadata": {
    "code_folding": [
     1,
     13,
     80
    ],
    "hidden": true
   },
   "outputs": [],
   "source": [
    "data_factory = DataFactory()\n",
    "A_all_vs, B_all_vs = data_factory.load_IBD_all_vs(\"Intensity\", index_func=lambda x: x.split(\";\")[0],\n",
    "                                                  log2_transformation=True)\n",
    "\n",
    "spec_cells, agg_spec_cells = PpKeepSpecificCells(), PpAggToSpecificCells()\n",
    "agg_iv, pp_irl_prot = AggregateIntraVariance(), PpCleanIrrelevantProteins()\n",
    "pp_entropy_only_largest, pp_entropy, pp_empty, pp_dep = PpEntropyBasedOnlyLargest(), PpEntropyBased(), PpEmpty(), PpDepDeBased()\n",
    "pp_svm_signature, pp_totel_sum = PpSvmSignature(), PpEntropyBasedTotelSum()\n",
    "\n",
    "bd,rd,rlm,gee = BasicDeconv(),RegressionDeconv(),RobustLinearModel(),GeneralizedEstimatingEquations()\n",
    "cpm = CellProportionsMeasure(how=\"groups\")\n",
    "\n",
    "\n",
    "hyper_configuration = [\n",
    "    {\"step_name\": \"floor\",\n",
    "     \"steps\": [\n",
    "         {\"function_name\": \"PpEmpty_floor\", \"function\": pp_empty,\n",
    "          \"params\": {}}\n",
    "     ]},\n",
    "    #                        -----------------------------------\n",
    "    {\"step_name\": \"per_cells_filter\",\n",
    "     \"steps\": [\n",
    "         {\"function_name\": \"kepp_specific_cells\", \"function\": spec_cells,\n",
    "          \"params\": {}},\n",
    "         # {\"function_name\": \"agg_to_specific_cells\", \"function\": agg_spec_cells,\n",
    "         #  \"params\": {}},\n",
    "         {\"function_name\": \"PpEmpty_cells_filt\", \"function\": pp_empty,\n",
    "          \"params\": {}}\n",
    "     ]},\n",
    "    # -------------------------------\n",
    "    {\"step_name\": \"cleanHighIntraVariance\",\n",
    "     \"steps\": [\n",
    "         {\"function_name\": \"PpEmpty_clean_iv\", \"function\": pp_empty,\n",
    "          \"params\": {}}\n",
    "     ]},\n",
    "    # -------------------------------\n",
    "    {\"step_name\": \"AggregateIntraVariance\",\n",
    "     \"steps\": [\n",
    "         {\"function_name\": \"AggregateIntraVariance\", \"function\": agg_iv,\n",
    "          #                              \"params\": {\"how\": [\"mean\", \"median\",\"max\"]}}]},\n",
    "          \"params\": {\"how\": [\"mean\",\"median\",\"max\"]}}]},\n",
    "    # --------------------------------\n",
    "    {\"step_name\": \"cleen_irrelevant_proteins\",\n",
    "     \"steps\": [\n",
    "         {\"function_name\": \"CleanIrrelevantProteins\", \"function\": pp_irl_prot,\n",
    "          \"params\": {}}]},\n",
    "    # --------------------------------\n",
    "    {\"step_name\": \"Cytof_X_Building\",\n",
    "     \"steps\": [\n",
    "         {\"function_name\": \"Cytof_X_Building\", \"function\": pp_empty,\n",
    "          \"params\": {\"keep_labels\": [True], \"with_label_prop\": [False]}}]},\n",
    "    # --------------------------------\n",
    "    {\"step_name\": \"preprocess\",\n",
    "     \"steps\": [\n",
    "         {\"function_name\": \"pp_totel_sum\", \"function\": pp_totel_sum,\n",
    "          \"params\": {\"totel_sum_percentage\": [0.01, 0.001], \"with_norm\": [False, True],\n",
    "                     \"number_of_bins\": [0, 20],\n",
    "                     \"only_largest\": [True, False]}},\n",
    "         {\"function_name\": \"PpEntropyBased\", \"function\": pp_entropy,\n",
    "          #                              \"params\": {\"n_genes_per_cell\": [20,100], \"gene_entropy_trh\": [1,3],\"number_of_bins\" :[0,10,20] ,\n",
    "          \"params\": {\"n_genes_per_cell\": [40,100], \"gene_entropy_trh\": [1,3], \"number_of_bins\": [0,20],\n",
    "                     \"with_norm\": [False,True]}},\n",
    "         {\"function_name\": \"PpSvm\", \"function\": pp_svm_signature,\n",
    "          \"params\": {\"n_features\": [40,100], \"with_norm\": [False,True]}},\n",
    "         {\"function_name\": \"PpEmpty_prepro\", \"function\": pp_empty,\n",
    "          \"params\": {}}\n",
    "     ]},\n",
    "    # --------------------------------\n",
    "    {\"step_name\": \"deconv\",\n",
    "     \"steps\": [\n",
    "        {\"function_name\": \"BasicDeconv\", \"function\": bd,\n",
    "        \"params\": {'em_optimisation':[True,False],\"weight_sp\":[True,False]}},\n",
    "        {\"function_name\": \"RegressionDeconv\", \"function\": rd,\n",
    "         \"params\": {'em_optimisation': [True,False], \"weight_sp\": [True,False]}},\n",
    "        {\"function_name\": \"RobustLinearDeconv\", \"function\": rlm,\n",
    "         \"params\": {'em_optimisation': [True,False], \"weight_sp\": [True,False]}},\n",
    "         # {\"function_name\": \"GeneralizedEstimatingDeconv\", \"function\": gee,\n",
    "         #  \"params\": {'em_optimisation': [True,False], \"weight_sp\": [True,False]}},\n",
    "     ]}]\n",
    "\n",
    "hyper_measure_configuration = [\n",
    "    {\"step_name\": \"measure\",\n",
    "     \"steps\": [\n",
    "         {\"function_name\": \"CellProportionsMeasure\", \"function\": cpm,\n",
    "          #           \"params\": {\"how\": [\"correlation\",\"RMSE\",\"MI\"],\"with_pvalue\":[True],\"with_iso_test\":[False]}}]}]\n",
    "          \"params\": {\"how\": [\"correlation\", \"entropy\"], \"with_pvalue\": [False],\n",
    "                     \"correlation_method\": [\"pearson\"],\n",
    "                     \"with_iso_test\": [False]}}]}]\n",
    "\n",
    "\n",
    "_pipe = PipelineDeconv(hyper_configuration=hyper_configuration,\n",
    "                       hyper_measure_configuration=hyper_measure_configuration)\n",
    "\n"
   ]
  },
  {
   "cell_type": "markdown",
   "metadata": {
    "heading_collapsed": true,
    "hidden": true
   },
   "source": [
    "## run"
   ]
  },
  {
   "cell_type": "code",
   "execution_count": null,
   "metadata": {
    "hidden": true,
    "scrolled": true
   },
   "outputs": [],
   "source": [
    "meta_results_original_data = _pipe.run_cytof_pipeline(A_all_vs, B_all_vs,with_cache=True,cache_specific_signature=\"with_em_with_A_imputation\")\n",
    "meta_results_original_data[\"corrMean\"] = meta_results_original_data[\"corrMean\"].fillna(-1)"
   ]
  },
  {
   "cell_type": "code",
   "execution_count": null,
   "metadata": {
    "hidden": true
   },
   "outputs": [],
   "source": [
    "meta_results = meta_results_original_data"
   ]
  },
  {
   "cell_type": "markdown",
   "metadata": {
    "hidden": true
   },
   "source": [
    "## result"
   ]
  },
  {
   "cell_type": "markdown",
   "metadata": {
    "hidden": true
   },
   "source": [
    "### corr hist EM vs non EM"
   ]
  },
  {
   "cell_type": "code",
   "execution_count": null,
   "metadata": {
    "hidden": true
   },
   "outputs": [],
   "source": [
    "deconv_columns = [col for col in meta_results.columns if \"em_\" in col]\n",
    "non_em_idxs = (meta_results[deconv_columns] == \"False\").any(axis=1)\n",
    "em_idxs = (meta_results[deconv_columns] == \"True\").any(axis=1)"
   ]
  },
  {
   "cell_type": "code",
   "execution_count": null,
   "metadata": {
    "hidden": true
   },
   "outputs": [],
   "source": [
    "meta_results.loc[non_em_idxs][\"corrMean\"].hist()\n",
    "meta_results.loc[em_idxs][\"corrMean\"].hist()"
   ]
  },
  {
   "cell_type": "code",
   "execution_count": null,
   "metadata": {
    "hidden": true
   },
   "outputs": [],
   "source": [
    "meta_results.loc[em_idxs][\"corrMean\"].hist()"
   ]
  },
  {
   "cell_type": "markdown",
   "metadata": {
    "hidden": true
   },
   "source": [
    "### line plot EM vs non EM (with duplicates removal)"
   ]
  },
  {
   "cell_type": "code",
   "execution_count": null,
   "metadata": {
    "hidden": true
   },
   "outputs": [],
   "source": [
    "all_results = meta_results.copy(deep=True).fillna(\"None\")\n",
    "non_uniqe_columns = ['entropy', 'corrMean','uuid']\n",
    "distingish_feature = [col for col in all_results.columns if \"_em_optimisation\" in col] \n",
    "\n",
    "all_results[\"is_distingish_feature\"] = (all_results[distingish_feature] == \"True\").any(axis=1)\n",
    "all_results = all_results.drop(columns=distingish_feature)\n",
    "\n",
    "feature_df = all_results[all_results[\"is_distingish_feature\"]]\n",
    "non_feature_df = all_results[~all_results[\"is_distingish_feature\"]]\n",
    "\n",
    "feature_df = feature_df.set_index(feature_df.columns.difference(non_uniqe_columns +[\"is_distingish_feature\"]).to_list())\n",
    "non_feature_df = non_feature_df.set_index(non_feature_df.columns.difference(non_uniqe_columns+[\"is_distingish_feature\"]).to_list())\n",
    "\n",
    "pivoted_table = feature_df.merge(non_feature_df,left_index=True,right_index=True,suffixes=(\"_feature_True\",\"_feature_False\"))"
   ]
  },
  {
   "cell_type": "code",
   "execution_count": null,
   "metadata": {
    "hidden": true
   },
   "outputs": [],
   "source": [
    "pivoted_table = pivoted_table.drop_duplicates([\"corrMean_feature_False\",\"entropy_feature_False\"])"
   ]
  },
  {
   "cell_type": "code",
   "execution_count": null,
   "metadata": {
    "hidden": true
   },
   "outputs": [],
   "source": [
    "pivoted_table[\"range_idx\"] = range(pivoted_table.shape[0])\n",
    "pivoted_table.plot(x=\"range_idx\",y=[\"corrMean_feature_True\",\"corrMean_feature_False\"])"
   ]
  },
  {
   "cell_type": "markdown",
   "metadata": {},
   "source": [
    "# meta analysis - per cell measure"
   ]
  },
  {
   "cell_type": "markdown",
   "metadata": {
    "heading_collapsed": true
   },
   "source": [
    "## configuration"
   ]
  },
  {
   "cell_type": "code",
   "execution_count": null,
   "metadata": {
    "code_folding": [
     13,
     80
    ],
    "hidden": true
   },
   "outputs": [],
   "source": [
    "data_factory = DataFactory()\n",
    "A_all_vs, B_all_vs = data_factory.load_IBD_all_vs(\"Intensity\", index_func=lambda x: x.split(\";\")[0],\n",
    "                                                  log2_transformation=True)\n",
    "\n",
    "spec_cells, agg_spec_cells = PpKeepSpecificCells(), PpAggToSpecificCells()\n",
    "agg_iv, pp_irl_prot = AggregateIntraVariance(), PpCleanIrrelevantProteins()\n",
    "pp_entropy_only_largest, pp_entropy, pp_empty, pp_dep = PpEntropyBasedOnlyLargest(), PpEntropyBased(), PpEmpty(), PpDepDeBased()\n",
    "pp_svm_signature, pp_totel_sum = PpSvmSignature(), PpEntropyBasedTotelSum()\n",
    "\n",
    "bd,rd,rlm,gee = BasicDeconv(),RegressionDeconv(),RobustLinearModel(),GeneralizedEstimatingEquations()\n",
    "cpm = CellProportionsMeasure(how=\"groups\")\n",
    "\n",
    "\n",
    "hyper_configuration = [\n",
    "    {\"step_name\": \"floor\",\n",
    "     \"steps\": [\n",
    "         {\"function_name\": \"PpEmpty_floor\", \"function\": pp_empty,\n",
    "          \"params\": {}}\n",
    "     ]},\n",
    "    #                        -----------------------------------\n",
    "    {\"step_name\": \"per_cells_filter\",\n",
    "     \"steps\": [\n",
    "         {\"function_name\": \"kepp_specific_cells\", \"function\": spec_cells,\n",
    "          \"params\": {}},\n",
    "         # {\"function_name\": \"agg_to_specific_cells\", \"function\": agg_spec_cells,\n",
    "         #  \"params\": {}},\n",
    "         {\"function_name\": \"PpEmpty_cells_filt\", \"function\": pp_empty,\n",
    "          \"params\": {}}\n",
    "     ]},\n",
    "    # -------------------------------\n",
    "    {\"step_name\": \"cleanHighIntraVariance\",\n",
    "     \"steps\": [\n",
    "         {\"function_name\": \"PpEmpty_clean_iv\", \"function\": pp_empty,\n",
    "          \"params\": {}}\n",
    "     ]},\n",
    "    # -------------------------------\n",
    "    {\"step_name\": \"AggregateIntraVariance\",\n",
    "     \"steps\": [\n",
    "         {\"function_name\": \"AggregateIntraVariance\", \"function\": agg_iv,\n",
    "          #                              \"params\": {\"how\": [\"mean\", \"median\",\"max\"]}}]},\n",
    "          \"params\": {\"how\": [\"mean\",\"median\",\"max\"]}}]},\n",
    "    # --------------------------------\n",
    "    {\"step_name\": \"cleen_irrelevant_proteins\",\n",
    "     \"steps\": [\n",
    "         {\"function_name\": \"CleanIrrelevantProteins\", \"function\": pp_irl_prot,\n",
    "          \"params\": {}}]},\n",
    "    # --------------------------------\n",
    "    {\"step_name\": \"Cytof_X_Building\",\n",
    "     \"steps\": [\n",
    "         {\"function_name\": \"Cytof_X_Building\", \"function\": pp_empty,\n",
    "          \"params\": {\"keep_labels\": [True], \"with_label_prop\": [False]}}]},\n",
    "    # --------------------------------\n",
    "    {\"step_name\": \"preprocess\",\n",
    "     \"steps\": [\n",
    "         {\"function_name\": \"pp_totel_sum\", \"function\": pp_totel_sum,\n",
    "          \"params\": {\"totel_sum_percentage\": [0.01, 0.001], \"with_norm\": [False, True],\n",
    "                     \"number_of_bins\": [0, 20],\n",
    "                     \"only_largest\": [True, False]}},\n",
    "         {\"function_name\": \"PpEntropyBased\", \"function\": pp_entropy,\n",
    "          #                              \"params\": {\"n_genes_per_cell\": [20,100], \"gene_entropy_trh\": [1,3],\"number_of_bins\" :[0,10,20] ,\n",
    "          \"params\": {\"n_genes_per_cell\": [40,100], \"gene_entropy_trh\": [1,3], \"number_of_bins\": [0,20],\n",
    "                     \"with_norm\": [False,True]}},\n",
    "         {\"function_name\": \"PpSvm\", \"function\": pp_svm_signature,\n",
    "          \"params\": {\"n_features\": [40,100], \"with_norm\": [False,True]}},\n",
    "         {\"function_name\": \"PpEmpty_prepro\", \"function\": pp_empty,\n",
    "          \"params\": {}}\n",
    "     ]},\n",
    "    # --------------------------------\n",
    "    {\"step_name\": \"deconv\",\n",
    "     \"steps\": [\n",
    "        {\"function_name\": \"BasicDeconv\", \"function\": bd,\n",
    "        \"params\": {'em_optimisation':[True,False],\"weight_sp\":[True,False]}},\n",
    "        {\"function_name\": \"RegressionDeconv\", \"function\": rd,\n",
    "         \"params\": {'em_optimisation': [True,False], \"weight_sp\": [True,False]}},\n",
    "        {\"function_name\": \"RobustLinearDeconv\", \"function\": rlm,\n",
    "         \"params\": {'em_optimisation': [True,False], \"weight_sp\": [True,False]}},\n",
    "         # {\"function_name\": \"GeneralizedEstimatingDeconv\", \"function\": gee,\n",
    "         #  \"params\": {'em_optimisation': [True,False], \"weight_sp\": [True,False]}},\n",
    "     ]}]\n",
    "\n",
    "hyper_measure_configuration = [\n",
    "    {\"step_name\": \"measure\",\n",
    "     \"steps\": [\n",
    "         {\"function_name\": \"CellProportionsMeasure\", \"function\": cpm,\n",
    "          #           \"params\": {\"how\": [\"correlation\",\"RMSE\",\"MI\"],\"with_pvalue\":[True],\"with_iso_test\":[False]}}]}]\n",
    "          \"params\": {\"how\": [\"correlation\", \"entropy\"], \"with_pvalue\": [False],\n",
    "                     \"correlation_method\": [\"pearson\"],\n",
    "                     \"with_iso_test\": [False]}}]}]\n",
    "\n",
    "\n",
    "_pipe = PipelineDeconv(hyper_configuration=hyper_configuration,\n",
    "                       hyper_measure_configuration=hyper_measure_configuration)\n",
    "\n",
    "\n"
   ]
  },
  {
   "cell_type": "markdown",
   "metadata": {
    "heading_collapsed": true
   },
   "source": [
    "## run"
   ]
  },
  {
   "cell_type": "code",
   "execution_count": null,
   "metadata": {
    "hidden": true
   },
   "outputs": [],
   "source": [
    "meta_results_original_data_per_cell = _pipe.run_cytof_pipeline(A_all_vs, B_all_vs,per_cell_analysis=True,with_cache=True,cache_specific_signature=\"with_em_with_A_imputation\")"
   ]
  },
  {
   "cell_type": "markdown",
   "metadata": {
    "heading_collapsed": true
   },
   "source": [
    "## results"
   ]
  },
  {
   "cell_type": "code",
   "execution_count": null,
   "metadata": {
    "hidden": true
   },
   "outputs": [],
   "source": [
    "meta_results_original_data_per_cell.iloc[20]"
   ]
  },
  {
   "cell_type": "code",
   "execution_count": null,
   "metadata": {
    "hidden": true,
    "scrolled": true
   },
   "outputs": [],
   "source": [
    "deconv_columns = [col for col in meta_results_original_data_per_cell.columns if \"em_\" in col]\n",
    "non_em_idxs = (meta_results_original_data_per_cell[deconv_columns] == \"False\").any(axis=1)\n",
    "em_idxs = (meta_results_original_data_per_cell[deconv_columns] == \"True\").any(axis=1)\n",
    "\n",
    "cell_corr_cols = [col for col in meta_results_original_data_per_cell.columns if \"cellcorr\" in col] + [\"corrMean\"]\n",
    "\n",
    "for cell_cor in cell_corr_cols : \n",
    "    print(cell_cor)\n",
    "    meta_results_original_data_per_cell.loc[non_em_idxs][cell_cor].hist()\n",
    "    plt.show()\n",
    "    meta_results_original_data_per_cell.loc[em_idxs][cell_cor].hist()\n",
    "    plt.show()\n"
   ]
  },
  {
   "cell_type": "markdown",
   "metadata": {
    "heading_collapsed": true
   },
   "source": [
    "# best result per cell : \"2532624358\"\n",
    "# with EM : 2532035938"
   ]
  },
  {
   "cell_type": "code",
   "execution_count": null,
   "metadata": {
    "hidden": true
   },
   "outputs": [],
   "source": [
    "describe_results(\"2532624358\")"
   ]
  },
  {
   "cell_type": "code",
   "execution_count": null,
   "metadata": {
    "hidden": true
   },
   "outputs": [],
   "source": [
    "describe_results(\"2532035938\")"
   ]
  },
  {
   "cell_type": "markdown",
   "metadata": {
    "heading_collapsed": true
   },
   "source": [
    "# best results - \"2459332972\"/\"2773962496\" i think are the best\n",
    "## best results are not EM"
   ]
  },
  {
   "cell_type": "code",
   "execution_count": null,
   "metadata": {
    "hidden": true
   },
   "outputs": [],
   "source": [
    "# meta_results[meta_results[\"uuid\"] == 1365931718].iloc[0].dropna()"
   ]
  },
  {
   "cell_type": "code",
   "execution_count": null,
   "metadata": {
    "hidden": true,
    "scrolled": true
   },
   "outputs": [],
   "source": [
    "meta_results[meta_results[\"uuid\"] == 2459332972].iloc[0].dropna()"
   ]
  },
  {
   "cell_type": "code",
   "execution_count": null,
   "metadata": {
    "hidden": true
   },
   "outputs": [],
   "source": [
    "meta_results.loc[non_em_idxs][meta_results.loc[non_em_idxs][\"RobustLinearModel_normalize\"] == \"True\"][\"corrMean\"].hist()\n",
    "meta_results.loc[em_idxs][meta_results.loc[em_idxs][\"RobustLinearModel_normalize\"] == \"True\"][\"corrMean\"].hist()"
   ]
  },
  {
   "cell_type": "markdown",
   "metadata": {
    "hidden": true
   },
   "source": [
    "## get best results"
   ]
  },
  {
   "cell_type": "code",
   "execution_count": null,
   "metadata": {
    "code_folding": [
     0,
     36,
     43,
     70,
     77,
     79
    ],
    "hidden": true,
    "scrolled": false
   },
   "outputs": [],
   "source": [
    "def build_distance_matrix() :\n",
    "    uuid_to_results = {}\n",
    "    for uuid in meta_results[\"uuid\"] : \n",
    "        params = meta_results[meta_results[\"uuid\"] == int(uuid)].T.copy(deep=True).dropna()\n",
    "        \n",
    "        best_results_and_known = _pipe.load_results_from_archive(uuid)\n",
    "        best_results=best_results_and_known[\"result\"]\n",
    "        res_values = best_results.sort_index(axis=0).sort_index(axis=1).values\n",
    "        \n",
    "        uuid_to_results[uuid] = res_values\n",
    "    \n",
    "    results = {}\n",
    "    looked_uuids = {}\n",
    "    for uuid,res in uuid_to_results.items():\n",
    "        if uuid in looked_uuids.keys():\n",
    "            continue\n",
    "            \n",
    "        neighbors = [] \n",
    "        for sec_uuid,sec_res in uuid_to_results.items():\n",
    "            if (res == sec_res).all() :\n",
    "                neighbors.append(sec_uuid)\n",
    "                looked_uuids[sec_uuid] = sec_uuid\n",
    "        if len(neighbors) > 1 :\n",
    "            results[uuid] = neighbors\n",
    "    \n",
    "    clusters = [] \n",
    "    for _,cluster in  results.items():\n",
    "        uuids = [] \n",
    "        for uuid in cluster : \n",
    "            params = meta_results[meta_results[\"uuid\"] == int(uuid)].T.copy(deep=True).dropna()\n",
    "            uuids.append(params)\n",
    "        clusters.append(pd.concat(uuids,axis=1))\n",
    "        \n",
    "    \n",
    "    return clusters\n",
    "      \n",
    "def plot_correlation_per_cell(uuids) : \n",
    "    if type(uuids) is str : \n",
    "        uuids = [uuids]\n",
    "    \n",
    "    max_corr_per_cell = {}\n",
    "    best_param_per_cell = {}\n",
    "    \n",
    "    for uuid in meta_results[\"uuid\"] : \n",
    "        params = meta_results[meta_results[\"uuid\"] == int(uuid)].T.copy(deep=True).dropna()\n",
    "        \n",
    "        best_results_and_known = _pipe.load_results_from_archive(uuid)\n",
    "        best_results=best_results_and_known[\"result\"]\n",
    "        best_known=best_results_and_known[\"known\"]\n",
    "        mapping = GlobalUtils.get_corospanding_mixtures_map(best_known,best_results)\n",
    "        best_known = best_known.rename(columns=mapping)\n",
    "        best_known = best_known[[col for col in mapping.values()]]\n",
    "\n",
    "        mutual_col = best_known.columns.intersection(best_results.columns)\n",
    "        best_results = best_results[mutual_col]\n",
    "        best_known = best_known[mutual_col]\n",
    "\n",
    "        corr_per_cell =  best_results.T.corrwith(best_known.T,method=\"spearman\")\n",
    "        \n",
    "        for cell in corr_per_cell.index : \n",
    "            if cell in max_corr_per_cell.keys() : \n",
    "                if corr_per_cell[cell] > max_corr_per_cell[cell] :\n",
    "                    max_corr_per_cell[cell] = corr_per_cell[cell]\n",
    "                    best_param_per_cell[cell] = params\n",
    "            else : \n",
    "                max_corr_per_cell[cell] = corr_per_cell[cell]\n",
    "                best_param_per_cell[cell] = params\n",
    "    \n",
    "    return max_corr_per_cell,best_param_per_cell\n",
    "\n",
    "def plot_results_vs_known_pca(best_results,best_known):\n",
    "    pca = PCA(n_components=2)\n",
    "    pca.fit(pd.concat([best_results,best_known],axis=1).T)\n",
    "\n",
    "    deconv_principalcomp = pca.transform(best_results.T)\n",
    "    known_principalcomp = pca.transform(best_known.T)\n",
    "\n",
    "    deconv_principalDf =pd.DataFrame(data = deconv_principalcomp\n",
    "                 , columns = ['principal component 1', 'principal component 2'],index = best_results.columns)\n",
    "    known_principalDf = pd.DataFrame(data = known_principalcomp\n",
    "                 , columns = ['principal component 1', 'principal component 2'],index = best_known.columns)\n",
    "\n",
    "    deconv_principalDf[\"color\"] = \"b\"\n",
    "    known_principalDf[\"color\"] = \"r\"\n",
    "\n",
    "    principalDf = deconv_principalDf.append(known_principalDf)\n",
    "    fig = plt.figure(figsize = (25,15))\n",
    "    ax = fig.add_subplot(1,1,1) \n",
    "    ax.set_xlabel('Principal Component 1', fontsize = 15)\n",
    "    ax.set_ylabel('Principal Component 2', fontsize = 15)\n",
    "    ax.set_title('blue - deconvolution result,red -  known proportions', fontsize = 20)\n",
    "\n",
    "    ax.scatter(principalDf['principal component 1'], principalDf['principal component 2'],c=principalDf['color'], s = 50)\n",
    "\n",
    "    for mixture in range(deconv_principalcomp.shape[0]):\n",
    "        deconv_point = deconv_principalcomp[mixture,:]\n",
    "        known_point = known_principalcomp[mixture,:]\n",
    "        plt.plot([deconv_point[0],known_point[0]],[deconv_point[1],known_point[1]], ':')\n",
    "\n",
    "    for i, txt in enumerate(principalDf.index):\n",
    "        ax.annotate(txt, (principalDf['principal component 1'].iloc[i], principalDf['principal component 2'].iloc[i]))\n",
    "\n",
    "def describe_results(uuids,with_per_mixture_plot = False,with_mixtures_pca = False,meta_results = None) : \n",
    "    if type(uuids) is str : \n",
    "        uuids = [uuids]\n",
    "    \n",
    "    for uuid in uuids : \n",
    "        if meta_results is not None : \n",
    "            params = meta_results[meta_results[\"uuid\"] == int(uuid)].T.copy(deep=True).dropna()\n",
    "            print(\"params : \")\n",
    "            display(HTML(params.to_html()))\n",
    "\n",
    "\n",
    "        best_results_and_known = _pipe.load_results_from_archive(uuid)\n",
    "        best_results=best_results_and_known[\"result\"]\n",
    "        best_known=best_results_and_known[\"known\"]\n",
    "        mapping = GlobalUtils.get_corospanding_mixtures_map(best_known,best_results)\n",
    "        best_known = best_known.rename(columns=mapping)\n",
    "        best_known = best_known[[col for col in mapping.values()]]\n",
    "\n",
    "        mutual_col = best_known.columns.intersection(best_results.columns)\n",
    "        best_results = best_results[mutual_col]\n",
    "        best_known = best_known[mutual_col]\n",
    "\n",
    "        print(\"mixtures : \")\n",
    "        display(HTML(best_results.to_html()))\n",
    "\n",
    "        print(\"mixtures details :\")\n",
    "        display(HTML(best_results.corrwith(best_known,method=\"spearman\").describe().to_frame().to_html()))\n",
    "\n",
    "        cytof_plots.plot_mass_to_cytof_scatter_all_on_one(best_results,best_known,best_results)\n",
    "        if with_per_mixture_plot : \n",
    "            cytof_plots.plot_mass_to_cytof_scatter(best_results,best_known,best_results)\n",
    "        if with_mixtures_pca : \n",
    "            plot_results_vs_known_pca(best_results,best_known)"
   ]
  },
  {
   "cell_type": "code",
   "execution_count": null,
   "metadata": {
    "hidden": true,
    "scrolled": true
   },
   "outputs": [],
   "source": [
    "describe_results([\"1642041316\",\n",
    " \"1642390376\",\n",
    " \"1643048646\",\n",
    " \"1643268050\",\n",
    " \"1644026008\",\n",
    " \"1644305254\",\n",
    " \"1644963486\",\n",
    " \"1645152988\",\n",
    " \"1645940900\",\n",
    " \"1646210164\",\n",
    " \"1646988078\",\n",
    " \"1647187558\",\n",
    " \"1774736354\",\n",
    " \"1775833390\",\n",
    " \"1776032860\"])"
   ]
  },
  {
   "cell_type": "markdown",
   "metadata": {},
   "source": [
    "# test"
   ]
  },
  {
   "cell_type": "code",
   "execution_count": null,
   "metadata": {
    "scrolled": true
   },
   "outputs": [],
   "source": [
    "describe_results(\"1354641922\",True)"
   ]
  },
  {
   "cell_type": "code",
   "execution_count": null,
   "metadata": {},
   "outputs": [],
   "source": []
  }
 ],
 "metadata": {
  "hide_input": false,
  "kernelspec": {
   "display_name": "Python 3",
   "language": "python",
   "name": "python3"
  },
  "language_info": {
   "codemirror_mode": {
    "name": "ipython",
    "version": 3
   },
   "file_extension": ".py",
   "mimetype": "text/x-python",
   "name": "python",
   "nbconvert_exporter": "python",
   "pygments_lexer": "ipython3",
   "version": "3.6.5"
  },
  "toc": {
   "base_numbering": 1,
   "nav_menu": {},
   "number_sections": true,
   "sideBar": true,
   "skip_h1_title": false,
   "title_cell": "Table of Contents",
   "title_sidebar": "Contents",
   "toc_cell": false,
   "toc_position": {},
   "toc_section_display": true,
   "toc_window_display": false
  }
 },
 "nbformat": 4,
 "nbformat_minor": 2
}
