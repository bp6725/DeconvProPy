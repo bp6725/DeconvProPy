{
 "cells": [
  {
   "cell_type": "markdown",
   "metadata": {},
   "source": [
    "#  INIT"
   ]
  },
  {
   "cell_type": "code",
   "execution_count": 1,
   "metadata": {},
   "outputs": [],
   "source": [
    "import sys\n",
    "sys.path.append('../../../')\n",
    "sys.path.append('../../infras/cellMix/')\n",
    "sys.path.append('../../infras/cytof_data/')\n",
    "sys.path.append('../../infras/')\n",
    "sys.path.append('../../infras/dashboards/')\n",
    "sys.path.append('../../experiments/')\n",
    "sys.path.append('../../experiments/pipeline/')\n",
    "sys.path.append('../../preprocess/intra_variance/')\n",
    "sys.path.append('../../models/cell_proportions/')\n",
    "sys.path.append('../../measures/cell_proportions_measures/')\n",
    "sys.path.append('../../preprocess/cell_specifics/')\n",
    "sys.path.append('../../preprocess/data_sets/')\n"
   ]
  },
  {
   "cell_type": "code",
   "execution_count": 2,
   "metadata": {},
   "outputs": [
    {
     "name": "stdout",
     "output_type": "stream",
     "text": [
      "{\n",
      "  \"shell_port\": 63534,\n",
      "  \"iopub_port\": 63535,\n",
      "  \"stdin_port\": 63536,\n",
      "  \"control_port\": 63537,\n",
      "  \"hb_port\": 63538,\n",
      "  \"ip\": \"127.0.0.1\",\n",
      "  \"key\": \"920e6d62-fee106acbb5bbf71ce9b42e4\",\n",
      "  \"transport\": \"tcp\",\n",
      "  \"signature_scheme\": \"hmac-sha256\",\n",
      "  \"kernel_name\": \"\"\n",
      "}\n",
      "\n",
      "Paste the above JSON into a file, and connect with:\n",
      "    $> jupyter <app> --existing <file>\n",
      "or, if you are local, you can connect with just:\n",
      "    $> jupyter <app> --existing kernel-7d0fa404-f647-459b-9811-5e3033ee6ad6.json\n",
      "or even just:\n",
      "    $> jupyter <app> --existing\n",
      "if this is the most recent Jupyter kernel you have started.\n"
     ]
    }
   ],
   "source": [
    "from data_factory import DataFactory\n",
    "from global_utils import GlobalUtils\n",
    "from cytof_cell_count_infra import CytofCellCountInfra\n",
    "from cell_proportions_experiments import  CellProportionsExperiments\n",
    "import exploration_cytof_plots as cytof_plots\n",
    "from basic import BasicDeconv\n",
    "from pp_entropy_based import PpEntropyBased\n",
    "from pp_dep_de_based import  PpDepDeBased\n",
    "from cell_proportions_measure import CellProportionsMeasure\n",
    "from pp_clean_high_intra_var import PpCleanHighIntraVar\n",
    "from pp_clean_irrelevant_proteins import PpCleanIrrelevantProteins\n",
    "from pp_empty import PpEmpty\n",
    "from pp_entropy_based_only_largest import PpEntropyBasedOnlyLargest\n",
    "from aggregate_intra_variance import AggregateIntraVariance\n",
    "from pipeline_deconv import PipelineDeconv\n",
    "from deconv_py.preprocess.base import BasePreprocess as PP_base\n",
    "from deconv_py.preprocess.cell_specific import CellSpecific as PP_proteins\n",
    "from deconv_py.preprocess.cell_specifics.pp_svm_signature import PpSvmSignature\n",
    "from deconv_py.preprocess.cell_specifics.pp_entropy_based_totel_sum import PpEntropyBasedTotelSum\n",
    "from deconv_py.preprocess.cell_specifics.pp_floor_under_quantile import PpFloorUnderQuantile\n",
    "from pick_data_set import PickDataSet\n",
    "# from deconvolution_results_plots import DeconvolutionResultsPlots\n",
    "\n",
    "\n",
    "\n",
    "from pp_keep_specific_cells  import  PpKeepSpecificCells\n",
    "from pp_agg_to_specific_cells import PpAggToSpecificCells\n",
    "\n",
    "# from deconv_py.infras.data_factory import DataFactory\n",
    "from deconv_py.infras.data_loader import DataLoader\n",
    "from deconv_py.models.base import Base as Models_base\n",
    "from deconv_py.models.cell_proportions_models import CellProportions\n",
    "from deconv_py.models.cell_specific_models import CellSpecificPerPermutation\n",
    "from deconv_py.experiments.cell_specific import CellSpecificMetricsPlot\n",
    "from cellMix_coordinator import CellMixCoordinator\n",
    "\n",
    "import pandas as pd\n",
    "import numpy as np\n",
    "from functools import partial\n",
    "import multiprocessing\n",
    "from sklearn import pipeline\n",
    "import itertools\n",
    "from scipy.optimize import least_squares\n",
    "from sklearn.metrics import mean_squared_error\n",
    "from functools import partial\n",
    "from scipy.optimize import minimize\n",
    "import scipy.optimize\n",
    "from itertools import combinations\n",
    "import matplotlib.pyplot as plt\n",
    "import seaborn as sns\n",
    "import pprint\n",
    "import os\n",
    "import pickle as pkl \n",
    "from sklearn.decomposition import PCA\n",
    "from IPython.display import display, HTML\n",
    "\n",
    "\n",
    "%connect_info"
   ]
  },
  {
   "cell_type": "markdown",
   "metadata": {},
   "source": [
    "# read and build any data"
   ]
  },
  {
   "cell_type": "code",
   "execution_count": 3,
   "metadata": {},
   "outputs": [
    {
     "name": "stderr",
     "output_type": "stream",
     "text": [
      "C:\\ProgramData\\Anaconda3\\lib\\site-packages\\IPython\\kernel\\__main__.py:2: DtypeWarning: Columns (5,6,2764,2765,2773,2774,2775,2776) have mixed types. Specify dtype option on import or set low_memory=False.\n",
      "  from ipykernel import kernelapp as app\n",
      "C:\\ProgramData\\Anaconda3\\lib\\site-packages\\IPython\\kernel\\__main__.py:3: DtypeWarning: Columns (5,6,2764,2765,2773,2774,2775,2776) have mixed types. Specify dtype option on import or set low_memory=False.\n",
      "  app.launch_new_instance()\n"
     ]
    }
   ],
   "source": [
    "data_factory = DataFactory()\n",
    "A_all_vs,B_all_vs = data_factory.load_IBD_all_vs(\"Intensity\",index_func=lambda x:x.split(\";\")[0],log2_transformation=True)\n",
    "A_all_vs_not_impu,B_all_vs_not_impu = data_factory.load_no_imputation_IBD_all_vs(\"Intensity\",index_func=lambda x:x.split(\";\")[0],log2_transformation=False)\n"
   ]
  },
  {
   "cell_type": "markdown",
   "metadata": {},
   "source": [
    "# run meta analysis"
   ]
  },
  {
   "cell_type": "code",
   "execution_count": 4,
   "metadata": {},
   "outputs": [],
   "source": [
    "# A_all_vs.to_csv(\"../../profile.csv\")\n",
    "# B_all_vs.to_csv(\"../../mixtures.csv\")"
   ]
  },
  {
   "cell_type": "markdown",
   "metadata": {},
   "source": [
    "## configuration"
   ]
  },
  {
   "cell_type": "code",
   "execution_count": 5,
   "metadata": {
    "code_folding": []
   },
   "outputs": [],
   "source": [
    "pick_set = PickDataSet()\n",
    "spec_cells,agg_spec_cells = PpKeepSpecificCells(),PpAggToSpecificCells()\n",
    "agg_iv,pp_irl_prot  = AggregateIntraVariance(),PpCleanIrrelevantProteins()\n",
    "pp_chiv = PpCleanHighIntraVar()\n",
    "pp_entropy_only_largest, pp_entropy, pp_empty,pp_dep = PpEntropyBasedOnlyLargest(), PpEntropyBased(), PpEmpty(),PpDepDeBased()\n",
    "pp_svm_signature,pp_totel_sum = PpSvmSignature(),PpEntropyBasedTotelSum()\n",
    "pp_floor_quantile = PpFloorUnderQuantile()\n",
    "\n",
    "bd = BasicDeconv()\n",
    "cpm = CellProportionsMeasure(how=\"groups\")\n",
    "\n",
    "hyper_configuration = [ \n",
    "                         {\"step_name\": \"floor\",\n",
    "                         \"steps\": [\n",
    "                             {\"function_name\": \"floor_quantile\", \"function\": pp_floor_quantile,\n",
    "                              \"params\": {}},\n",
    "                             {\"function_name\": \"PpEmpty_floor\", \"function\": pp_empty,\n",
    "                              \"params\": {}}\n",
    "                         ]},\n",
    "#                        -----------------------------------\n",
    "                        {\"step_name\": \"per_cells_filter\",\n",
    "                         \"steps\": [\n",
    "                            {\"function_name\": \"kepp_specific_cells\", \"function\": spec_cells,\n",
    "                                  \"params\": {}},\n",
    "                            {\"function_name\": \"agg_to_specific_cells\", \"function\": agg_spec_cells,\n",
    "                                  \"params\": {}},\n",
    "#                          {\"function_name\": \"PpEmpty_cells_filt\", \"function\": pp_empty,\n",
    "#                              \"params\": {}}\n",
    "                         ]},\n",
    "                        # -------------------------------\n",
    "                        {\"step_name\": \"cleanHighIntraVariance\",\n",
    "                        \"steps\": [\n",
    "                            {\"function_name\": \"PpCleanHighIntraVar\", \"function\": pp_chiv,\n",
    "#                              \"params\": {\"how\": [\"std\"],\"std_trh\":[1,2]}},\n",
    "                            \"params\": {\"how\": [\"std\"],\"std_trh\":[1]}},\n",
    "                        {\"function_name\": \"PpEmpty_clean_iv\", \"function\": pp_empty,\n",
    "                             \"params\": {}}]},\n",
    "                        # -------------------------------\n",
    "                        {\"step_name\": \"AggregateIntraVariance\",\n",
    "                        \"steps\": [\n",
    "                            {\"function_name\": \"AggregateIntraVariance\", \"function\": agg_iv,\n",
    "#                              \"params\": {\"how\": [\"mean\", \"median\",\"max\"]}}]},\n",
    "                                \"params\": {\"how\": [\"mean\", \"median\"]}}]},\n",
    "                       # --------------------------------\n",
    "                       {\"step_name\": \"cleen_irrelevant_proteins\",\n",
    "                        \"steps\": [\n",
    "                            {\"function_name\": \"CleanIrrelevantProteins\", \"function\": pp_irl_prot,\n",
    "                             \"params\": {}}]},\n",
    "                       # --------------------------------\n",
    "                       {\"step_name\": \"Cytof_X_Building\",\n",
    "                        \"steps\": [\n",
    "                            {\"function_name\": \"Cytof_X_Building\", \"function\": pp_empty,\n",
    "                             \"params\": {\"keep_labels\":[True],\"with_label_prop\":[False]}}]},\n",
    "                       # --------------------------------\n",
    "                       {\"step_name\": \"preprocess\",\n",
    "                        \"steps\": [\n",
    "                            {\"function_name\": \"pp_totel_sum\", \"function\": pp_totel_sum,\n",
    "#                     \"params\": {\"totel_sum_percentage\": [0.001, 0.0001],\"with_norm\": [True,False],\"number_of_bins\" :[0,10,20] ,\n",
    "                            \"params\": {\"totel_sum_percentage\": [0.001, 0.0001],\"with_norm\": [False],\"number_of_bins\" :[0,20] ,\n",
    "                               \"only_largest\":[True,False]}},\n",
    "                            {\"function_name\": \"PpEntropyBased\", \"function\": pp_entropy,\n",
    "#                              \"params\": {\"n_genes_per_cell\": [20,100], \"gene_entropy_trh\": [1,3],\"number_of_bins\" :[0,10,20] ,\n",
    "                             \"params\": {\"n_genes_per_cell\": [20,100], \"gene_entropy_trh\": [1,3],\"number_of_bins\" :[0,20] ,\n",
    "                                        \"with_norm\": [True,False]}},\n",
    "                            {\"function_name\": \"PpEntropyBasedOnlyLargest\", \"function\": pp_entropy_only_largest,\n",
    "#                              \"params\": {\"n_genes_per_cell\": [20,80],\"number_of_bins\" :[0,10,20] ,\"with_norm\": [True, False]}},\n",
    "                            \"params\": {\"n_genes_per_cell\": [20,80],\"number_of_bins\" :[0,20] ,\"with_norm\": [True, False]}},\n",
    "                            {\"function_name\": \"PpDepDeBased\", \"function\": pp_dep,\n",
    "                              \"params\": {\"n_of_genes\": [20,80] ,\"is_agg_cells\":[True,False]}},\n",
    "                            {\"function_name\": \"PpSvm\", \"function\": pp_svm_signature,\n",
    "                  \"params\": {\"n_features\": [20,80], \"with_norm\": [ False]}},\n",
    "                            {\"function_name\": \"PpEmpty_prepro\", \"function\": pp_empty,\n",
    "                             \"params\": {}}\n",
    "                        ]},\n",
    "                       # --------------------------------\n",
    "                       {\"step_name\": \"deconv\",\n",
    "                        \"steps\": [\n",
    "                            {\"function_name\": \"BasicDeconv\", \"function\": bd,\n",
    "                             \"params\": {\"normalize\": [True], \"cellMix\": [ False]}}]}]\n",
    "\n",
    "hyper_measure_configuration = [\n",
    "    {\"step_name\": \"measure\",\n",
    "     \"steps\": [\n",
    "         {\"function_name\": \"CellProportionsMeasure\", \"function\": cpm,\n",
    "#           \"params\": {\"how\": [\"correlation\",\"RMSE\",\"MI\"],\"with_pvalue\":[True],\"with_iso_test\":[False]}}]}]\n",
    "          \"params\": {\"how\": [\"correlation\",\"MI\",\"entropy\"],\"with_pvalue\":[True],\"with_iso_test\":[True]}}]}]\n",
    "\n",
    "_pipe = PipelineDeconv(hyper_configuration=hyper_configuration,\n",
    "                                 hyper_measure_configuration=hyper_measure_configuration)"
   ]
  },
  {
   "cell_type": "markdown",
   "metadata": {},
   "source": [
    "## run"
   ]
  },
  {
   "cell_type": "code",
   "execution_count": 6,
   "metadata": {
    "scrolled": true
   },
   "outputs": [
    {
     "name": "stderr",
     "output_type": "stream",
     "text": [
      "  0%|                                                                                          | 0/624 [00:00<?, ?it/s]C:\\Users\\Shenorr\\AppData\\Roaming\\Python\\Python36\\site-packages\\sklearn\\base.py:197: FutureWarning: From version 0.24, get_params will raise an AttributeError if a parameter cannot be retrieved as an instance attribute. Previously it would return None.\n",
      "  FutureWarning)\n",
      " 29%|██████████████████████▎                                                       | 178/624 [12:55<4:20:46, 35.08s/it]C:\\ProgramData\\Anaconda3\\lib\\site-packages\\scipy\\stats\\stats.py:3508: PearsonRConstantInputWarning: An input array is constant; the correlation coefficent is not defined.\n",
      "  warnings.warn(PearsonRConstantInputWarning())\n",
      " 30%|███████████████████████▌                                                      | 188/624 [18:29<4:00:19, 33.07s/it]"
     ]
    },
    {
     "name": "stdout",
     "output_type": "stream",
     "text": [
      "pipeline is : Pipeline(memory=None,\n",
      "         steps=[('floor_quantile', PpFloorUnderQuantile(quantile=0.1)),\n",
      "                ('agg_to_specific_cells',\n",
      "                 PpAggToSpecificCells(cells_mapping={'NOT_BCellmemory': 'B '\n",
      "                                                                        'cells ',\n",
      "                                                     'NOT_BCellnaive': 'B '\n",
      "                                                                       'cells ',\n",
      "                                                     'NOT_BCellplasma': 'B '\n",
      "                                                                        'cells ',\n",
      "                                                     'NOT_CD4TCellTem': 'CD4+ '\n",
      "                                                                        'effector '\n",
      "                                                                        'memory '\n",
      "                                                                        'T '\n",
      "                                                                        'cells',\n",
      "                                                     'NOT_CD4TCellTemra': 'CD4+ '\n",
      "                                                                          'effector '\n",
      "                                                                          'memory '\n",
      "                                                                          'T '\n",
      "                                                                          'cells',\n",
      "                                                     'NOT_CD4TCell...\n",
      "                ('AggregateIntraVariance', AggregateIntraVariance(how='mean')),\n",
      "                ('CleanIrrelevantProteins', PpCleanIrrelevantProteins()),\n",
      "                ('Cytof_X_Building',\n",
      "                 PpEmpty(keep_labels=True, with_label_prop=False)),\n",
      "                ('PpDepDeBased',\n",
      "                 PpDepDeBased(intansity_type='Intensity', is_agg_cells=True,\n",
      "                              n_of_genes=20)),\n",
      "                ('BasicDeconv', BasicDeconv(cellMix=False, normalize=True))],\n",
      "         verbose=False)\n"
     ]
    },
    {
     "name": "stderr",
     "output_type": "stream",
     "text": [
      " 30%|████████████████████████                                                        | 188/624 [18:35<43:06,  5.93s/it]\n"
     ]
    },
    {
     "ename": "KeyError",
     "evalue": "'NK'",
     "output_type": "error",
     "traceback": [
      "\u001b[1;31m---------------------------------------------------------------------------\u001b[0m",
      "\u001b[1;31mKeyError\u001b[0m                                  Traceback (most recent call last)",
      "\u001b[1;32mC:\\Repos\\deconv_py\\deconv_py\\experiments\\pipeline\\pipeline_deconv.py\u001b[0m in \u001b[0;36m_run_pipe_predict\u001b[1;34m(self, A, B, pip)\u001b[0m\n\u001b[0;32m    326\u001b[0m         \u001b[1;32mtry\u001b[0m\u001b[1;33m:\u001b[0m\u001b[1;33m\u001b[0m\u001b[0m\n\u001b[1;32m--> 327\u001b[1;33m             \u001b[0mresult\u001b[0m \u001b[1;33m=\u001b[0m \u001b[0mpip\u001b[0m\u001b[1;33m.\u001b[0m\u001b[0mpredict\u001b[0m\u001b[1;33m(\u001b[0m\u001b[1;33m[\u001b[0m\u001b[0mA\u001b[0m\u001b[1;33m,\u001b[0m \u001b[0mB\u001b[0m\u001b[1;33m]\u001b[0m\u001b[1;33m)\u001b[0m\u001b[1;33m\u001b[0m\u001b[0m\n\u001b[0m\u001b[0;32m    328\u001b[0m         \u001b[1;32mexcept\u001b[0m \u001b[0mException\u001b[0m \u001b[1;32mas\u001b[0m \u001b[0me\u001b[0m\u001b[1;33m:\u001b[0m\u001b[1;33m\u001b[0m\u001b[0m\n",
      "\u001b[1;32m~\\AppData\\Roaming\\Python\\Python36\\site-packages\\sklearn\\utils\\metaestimators.py\u001b[0m in \u001b[0;36m<lambda>\u001b[1;34m(*args, **kwargs)\u001b[0m\n\u001b[0;32m    115\u001b[0m         \u001b[1;31m# lambda, but not partial, allows help() to work with update_wrapper\u001b[0m\u001b[1;33m\u001b[0m\u001b[1;33m\u001b[0m\u001b[0m\n\u001b[1;32m--> 116\u001b[1;33m         \u001b[0mout\u001b[0m \u001b[1;33m=\u001b[0m \u001b[1;32mlambda\u001b[0m \u001b[1;33m*\u001b[0m\u001b[0margs\u001b[0m\u001b[1;33m,\u001b[0m \u001b[1;33m**\u001b[0m\u001b[0mkwargs\u001b[0m\u001b[1;33m:\u001b[0m \u001b[0mself\u001b[0m\u001b[1;33m.\u001b[0m\u001b[0mfn\u001b[0m\u001b[1;33m(\u001b[0m\u001b[0mobj\u001b[0m\u001b[1;33m,\u001b[0m \u001b[1;33m*\u001b[0m\u001b[0margs\u001b[0m\u001b[1;33m,\u001b[0m \u001b[1;33m**\u001b[0m\u001b[0mkwargs\u001b[0m\u001b[1;33m)\u001b[0m\u001b[1;33m\u001b[0m\u001b[0m\n\u001b[0m\u001b[0;32m    117\u001b[0m         \u001b[1;31m# update the docstring of the returned function\u001b[0m\u001b[1;33m\u001b[0m\u001b[1;33m\u001b[0m\u001b[0m\n",
      "\u001b[1;32m~\\AppData\\Roaming\\Python\\Python36\\site-packages\\sklearn\\pipeline.py\u001b[0m in \u001b[0;36mpredict\u001b[1;34m(self, X, **predict_params)\u001b[0m\n\u001b[0;32m    418\u001b[0m         \u001b[1;32mfor\u001b[0m \u001b[0m_\u001b[0m\u001b[1;33m,\u001b[0m \u001b[0mname\u001b[0m\u001b[1;33m,\u001b[0m \u001b[0mtransform\u001b[0m \u001b[1;32min\u001b[0m \u001b[0mself\u001b[0m\u001b[1;33m.\u001b[0m\u001b[0m_iter\u001b[0m\u001b[1;33m(\u001b[0m\u001b[0mwith_final\u001b[0m\u001b[1;33m=\u001b[0m\u001b[1;32mFalse\u001b[0m\u001b[1;33m)\u001b[0m\u001b[1;33m:\u001b[0m\u001b[1;33m\u001b[0m\u001b[0m\n\u001b[1;32m--> 419\u001b[1;33m             \u001b[0mXt\u001b[0m \u001b[1;33m=\u001b[0m \u001b[0mtransform\u001b[0m\u001b[1;33m.\u001b[0m\u001b[0mtransform\u001b[0m\u001b[1;33m(\u001b[0m\u001b[0mXt\u001b[0m\u001b[1;33m)\u001b[0m\u001b[1;33m\u001b[0m\u001b[0m\n\u001b[0m\u001b[0;32m    420\u001b[0m         \u001b[1;32mreturn\u001b[0m \u001b[0mself\u001b[0m\u001b[1;33m.\u001b[0m\u001b[0msteps\u001b[0m\u001b[1;33m[\u001b[0m\u001b[1;33m-\u001b[0m\u001b[1;36m1\u001b[0m\u001b[1;33m]\u001b[0m\u001b[1;33m[\u001b[0m\u001b[1;33m-\u001b[0m\u001b[1;36m1\u001b[0m\u001b[1;33m]\u001b[0m\u001b[1;33m.\u001b[0m\u001b[0mpredict\u001b[0m\u001b[1;33m(\u001b[0m\u001b[0mXt\u001b[0m\u001b[1;33m,\u001b[0m \u001b[1;33m**\u001b[0m\u001b[0mpredict_params\u001b[0m\u001b[1;33m)\u001b[0m\u001b[1;33m\u001b[0m\u001b[0m\n",
      "\u001b[1;32mC:\\Repos\\deconv_py\\deconv_py\\preprocess\\cell_specifics\\pp_dep_de_based.py\u001b[0m in \u001b[0;36mtransform\u001b[1;34m(self, data, *_)\u001b[0m\n\u001b[0;32m     32\u001b[0m         \u001b[0mmapping\u001b[0m \u001b[1;33m=\u001b[0m \u001b[0mGlobalUtils\u001b[0m\u001b[1;33m.\u001b[0m\u001b[0mget_corospanding_cell_map_from_lists\u001b[0m\u001b[1;33m(\u001b[0m\u001b[0mlist_of_cells\u001b[0m\u001b[1;33m,\u001b[0m \u001b[0mper_cell_de\u001b[0m\u001b[1;33m.\u001b[0m\u001b[0mkeys\u001b[0m\u001b[1;33m(\u001b[0m\u001b[1;33m)\u001b[0m\u001b[1;33m)\u001b[0m\u001b[1;33m\u001b[0m\u001b[0m\n\u001b[1;32m---> 33\u001b[1;33m         \u001b[0mlist_of_cells\u001b[0m \u001b[1;33m=\u001b[0m \u001b[1;33m[\u001b[0m\u001b[0mmapping\u001b[0m\u001b[1;33m[\u001b[0m\u001b[0mc\u001b[0m\u001b[1;33m]\u001b[0m \u001b[1;32mfor\u001b[0m \u001b[0mc\u001b[0m \u001b[1;32min\u001b[0m \u001b[0mlist_of_cells\u001b[0m\u001b[1;33m]\u001b[0m\u001b[1;33m\u001b[0m\u001b[0m\n\u001b[0m\u001b[0;32m     34\u001b[0m         \u001b[0mA_rank\u001b[0m \u001b[1;33m=\u001b[0m \u001b[0m_A\u001b[0m\u001b[1;33m.\u001b[0m\u001b[0mrank\u001b[0m\u001b[1;33m(\u001b[0m\u001b[0maxis\u001b[0m\u001b[1;33m=\u001b[0m\u001b[1;36m1\u001b[0m\u001b[1;33m)\u001b[0m\u001b[1;33m.\u001b[0m\u001b[0mcopy\u001b[0m\u001b[1;33m(\u001b[0m\u001b[0mdeep\u001b[0m\u001b[1;33m=\u001b[0m\u001b[1;32mTrue\u001b[0m\u001b[1;33m)\u001b[0m\u001b[1;33m.\u001b[0m\u001b[0mrename\u001b[0m\u001b[1;33m(\u001b[0m\u001b[0mcolumns\u001b[0m \u001b[1;33m=\u001b[0m \u001b[1;33m{\u001b[0m\u001b[0mcell\u001b[0m\u001b[1;33m:\u001b[0m\u001b[0mmapping\u001b[0m\u001b[1;33m[\u001b[0m\u001b[0mcell\u001b[0m\u001b[1;33m.\u001b[0m\u001b[0mreplace\u001b[0m\u001b[1;33m(\u001b[0m\u001b[1;34m\" \"\u001b[0m\u001b[1;33m,\u001b[0m\u001b[1;34m\".\"\u001b[0m\u001b[1;33m)\u001b[0m\u001b[1;33m.\u001b[0m\u001b[0mreplace\u001b[0m\u001b[1;33m(\u001b[0m\u001b[1;34m\"+\"\u001b[0m\u001b[1;33m,\u001b[0m\u001b[1;34m\".\"\u001b[0m\u001b[1;33m)\u001b[0m\u001b[1;33m.\u001b[0m\u001b[0mreplace\u001b[0m\u001b[1;33m(\u001b[0m\u001b[1;34m\"?\"\u001b[0m\u001b[1;33m,\u001b[0m\u001b[1;34m\".\"\u001b[0m\u001b[1;33m)\u001b[0m\u001b[1;33m]\u001b[0m \u001b[1;32mfor\u001b[0m \u001b[0mcell\u001b[0m \u001b[1;32min\u001b[0m \u001b[0m_A\u001b[0m\u001b[1;33m.\u001b[0m\u001b[0mcolumns\u001b[0m\u001b[1;33m}\u001b[0m\u001b[1;33m)\u001b[0m\u001b[1;33m\u001b[0m\u001b[0m\n",
      "\u001b[1;32mC:\\Repos\\deconv_py\\deconv_py\\preprocess\\cell_specifics\\pp_dep_de_based.py\u001b[0m in \u001b[0;36m<listcomp>\u001b[1;34m(.0)\u001b[0m\n\u001b[0;32m     32\u001b[0m         \u001b[0mmapping\u001b[0m \u001b[1;33m=\u001b[0m \u001b[0mGlobalUtils\u001b[0m\u001b[1;33m.\u001b[0m\u001b[0mget_corospanding_cell_map_from_lists\u001b[0m\u001b[1;33m(\u001b[0m\u001b[0mlist_of_cells\u001b[0m\u001b[1;33m,\u001b[0m \u001b[0mper_cell_de\u001b[0m\u001b[1;33m.\u001b[0m\u001b[0mkeys\u001b[0m\u001b[1;33m(\u001b[0m\u001b[1;33m)\u001b[0m\u001b[1;33m)\u001b[0m\u001b[1;33m\u001b[0m\u001b[0m\n\u001b[1;32m---> 33\u001b[1;33m         \u001b[0mlist_of_cells\u001b[0m \u001b[1;33m=\u001b[0m \u001b[1;33m[\u001b[0m\u001b[0mmapping\u001b[0m\u001b[1;33m[\u001b[0m\u001b[0mc\u001b[0m\u001b[1;33m]\u001b[0m \u001b[1;32mfor\u001b[0m \u001b[0mc\u001b[0m \u001b[1;32min\u001b[0m \u001b[0mlist_of_cells\u001b[0m\u001b[1;33m]\u001b[0m\u001b[1;33m\u001b[0m\u001b[0m\n\u001b[0m\u001b[0;32m     34\u001b[0m         \u001b[0mA_rank\u001b[0m \u001b[1;33m=\u001b[0m \u001b[0m_A\u001b[0m\u001b[1;33m.\u001b[0m\u001b[0mrank\u001b[0m\u001b[1;33m(\u001b[0m\u001b[0maxis\u001b[0m\u001b[1;33m=\u001b[0m\u001b[1;36m1\u001b[0m\u001b[1;33m)\u001b[0m\u001b[1;33m.\u001b[0m\u001b[0mcopy\u001b[0m\u001b[1;33m(\u001b[0m\u001b[0mdeep\u001b[0m\u001b[1;33m=\u001b[0m\u001b[1;32mTrue\u001b[0m\u001b[1;33m)\u001b[0m\u001b[1;33m.\u001b[0m\u001b[0mrename\u001b[0m\u001b[1;33m(\u001b[0m\u001b[0mcolumns\u001b[0m \u001b[1;33m=\u001b[0m \u001b[1;33m{\u001b[0m\u001b[0mcell\u001b[0m\u001b[1;33m:\u001b[0m\u001b[0mmapping\u001b[0m\u001b[1;33m[\u001b[0m\u001b[0mcell\u001b[0m\u001b[1;33m.\u001b[0m\u001b[0mreplace\u001b[0m\u001b[1;33m(\u001b[0m\u001b[1;34m\" \"\u001b[0m\u001b[1;33m,\u001b[0m\u001b[1;34m\".\"\u001b[0m\u001b[1;33m)\u001b[0m\u001b[1;33m.\u001b[0m\u001b[0mreplace\u001b[0m\u001b[1;33m(\u001b[0m\u001b[1;34m\"+\"\u001b[0m\u001b[1;33m,\u001b[0m\u001b[1;34m\".\"\u001b[0m\u001b[1;33m)\u001b[0m\u001b[1;33m.\u001b[0m\u001b[0mreplace\u001b[0m\u001b[1;33m(\u001b[0m\u001b[1;34m\"?\"\u001b[0m\u001b[1;33m,\u001b[0m\u001b[1;34m\".\"\u001b[0m\u001b[1;33m)\u001b[0m\u001b[1;33m]\u001b[0m \u001b[1;32mfor\u001b[0m \u001b[0mcell\u001b[0m \u001b[1;32min\u001b[0m \u001b[0m_A\u001b[0m\u001b[1;33m.\u001b[0m\u001b[0mcolumns\u001b[0m\u001b[1;33m}\u001b[0m\u001b[1;33m)\u001b[0m\u001b[1;33m\u001b[0m\u001b[0m\n",
      "\u001b[1;31mKeyError\u001b[0m: 'NK'",
      "\nDuring handling of the above exception, another exception occurred:\n",
      "\u001b[1;31mKeyError\u001b[0m                                  Traceback (most recent call last)",
      "\u001b[1;32m<ipython-input-6-df79fc96b1b0>\u001b[0m in \u001b[0;36m<module>\u001b[1;34m()\u001b[0m\n\u001b[1;32m----> 1\u001b[1;33m \u001b[0mmeta_results_original_data\u001b[0m \u001b[1;33m=\u001b[0m \u001b[0m_pipe\u001b[0m\u001b[1;33m.\u001b[0m\u001b[0mrun_cytof_pipeline\u001b[0m\u001b[1;33m(\u001b[0m\u001b[0mA_all_vs\u001b[0m\u001b[1;33m,\u001b[0m \u001b[0mB_all_vs\u001b[0m\u001b[1;33m,\u001b[0m\u001b[0mper_cell_analysis\u001b[0m \u001b[1;33m=\u001b[0m \u001b[1;32mFalse\u001b[0m\u001b[1;33m)\u001b[0m\u001b[1;33m\u001b[0m\u001b[0m\n\u001b[0m\u001b[0;32m      2\u001b[0m \u001b[0mmeta_results_not_imputed\u001b[0m \u001b[1;33m=\u001b[0m \u001b[0m_pipe\u001b[0m\u001b[1;33m.\u001b[0m\u001b[0mrun_cytof_pipeline\u001b[0m\u001b[1;33m(\u001b[0m\u001b[0mA_all_vs_not_impu\u001b[0m\u001b[1;33m,\u001b[0m \u001b[0mB_all_vs_not_impu\u001b[0m\u001b[1;33m,\u001b[0m\u001b[0mper_cell_analysis\u001b[0m \u001b[1;33m=\u001b[0m \u001b[1;32mFalse\u001b[0m\u001b[1;33m)\u001b[0m\u001b[1;33m\u001b[0m\u001b[0m\n",
      "\u001b[1;32mC:\\Repos\\deconv_py\\deconv_py\\experiments\\pipeline\\pipeline_deconv.py\u001b[0m in \u001b[0;36mrun_cytof_pipeline\u001b[1;34m(self, A, B, per_cell_analysis, with_cache, cache_specific_signature)\u001b[0m\n\u001b[0;32m     97\u001b[0m                 \u001b[0mpip_step_str\u001b[0m \u001b[1;33m=\u001b[0m \u001b[1;34m\"_\"\u001b[0m\u001b[1;33m.\u001b[0m\u001b[0mjoin\u001b[0m\u001b[1;33m(\u001b[0m\u001b[1;33m[\u001b[0m\u001b[0mstr\u001b[0m\u001b[1;33m(\u001b[0m\u001b[0ms\u001b[0m\u001b[1;33m)\u001b[0m \u001b[1;32mfor\u001b[0m \u001b[0ms\u001b[0m \u001b[1;32min\u001b[0m \u001b[0mpip\u001b[0m\u001b[1;33m.\u001b[0m\u001b[0msteps\u001b[0m\u001b[1;33m]\u001b[0m\u001b[1;33m)\u001b[0m\u001b[1;33m\u001b[0m\u001b[0m\n\u001b[0;32m     98\u001b[0m                 \u001b[0m_func\u001b[0m \u001b[1;33m=\u001b[0m \u001b[0mpartial\u001b[0m\u001b[1;33m(\u001b[0m\u001b[0mself\u001b[0m\u001b[1;33m.\u001b[0m\u001b[0m_run_pipe_predict\u001b[0m\u001b[1;33m,\u001b[0m\u001b[0mA\u001b[0m\u001b[1;33m,\u001b[0m\u001b[0mB\u001b[0m\u001b[1;33m,\u001b[0m\u001b[0mpip\u001b[0m\u001b[1;33m)\u001b[0m\u001b[1;33m\u001b[0m\u001b[0m\n\u001b[1;32m---> 99\u001b[1;33m                 \u001b[0mresult\u001b[0m\u001b[1;33m,\u001b[0m \u001b[0mX\u001b[0m \u001b[1;33m=\u001b[0m \u001b[0mself\u001b[0m\u001b[1;33m.\u001b[0m\u001b[0m_run_or_load\u001b[0m\u001b[1;33m(\u001b[0m\u001b[0mpip_step_str\u001b[0m\u001b[1;33m,\u001b[0m\u001b[0m_func\u001b[0m\u001b[1;33m,\u001b[0m\u001b[0mwith_cache\u001b[0m\u001b[1;33m,\u001b[0m\u001b[0mcache_specific_signature\u001b[0m\u001b[1;33m=\u001b[0m\u001b[0mcache_specific_signature\u001b[0m\u001b[1;33m)\u001b[0m\u001b[1;33m\u001b[0m\u001b[0m\n\u001b[0m\u001b[0;32m    100\u001b[0m \u001b[1;33m\u001b[0m\u001b[0m\n\u001b[0;32m    101\u001b[0m                 \u001b[1;32mif\u001b[0m \u001b[0mresult\u001b[0m \u001b[1;32mis\u001b[0m \u001b[1;32mNone\u001b[0m \u001b[1;33m:\u001b[0m\u001b[1;33m\u001b[0m\u001b[0m\n",
      "\u001b[1;32mC:\\Repos\\deconv_py\\deconv_py\\experiments\\pipeline\\pipeline_deconv.py\u001b[0m in \u001b[0;36m_run_or_load\u001b[1;34m(self, name_str, function, with_cache, cache_specific_signature)\u001b[0m\n\u001b[0;32m    288\u001b[0m                 \u001b[0mres\u001b[0m \u001b[1;33m=\u001b[0m \u001b[0mpickle\u001b[0m\u001b[1;33m.\u001b[0m\u001b[0mload\u001b[0m\u001b[1;33m(\u001b[0m\u001b[0mf\u001b[0m\u001b[1;33m)\u001b[0m\u001b[1;33m\u001b[0m\u001b[0m\n\u001b[0;32m    289\u001b[0m         \u001b[1;32melse\u001b[0m\u001b[1;33m:\u001b[0m\u001b[1;33m\u001b[0m\u001b[0m\n\u001b[1;32m--> 290\u001b[1;33m             \u001b[0mres\u001b[0m \u001b[1;33m=\u001b[0m \u001b[0mfunction\u001b[0m\u001b[1;33m(\u001b[0m\u001b[1;33m)\u001b[0m\u001b[1;33m\u001b[0m\u001b[0m\n\u001b[0m\u001b[0;32m    291\u001b[0m \u001b[1;33m\u001b[0m\u001b[0m\n\u001b[0;32m    292\u001b[0m             \u001b[1;32mif\u001b[0m \u001b[0mwith_cache\u001b[0m \u001b[1;33m:\u001b[0m\u001b[1;33m\u001b[0m\u001b[0m\n",
      "\u001b[1;32mC:\\Repos\\deconv_py\\deconv_py\\experiments\\pipeline\\pipeline_deconv.py\u001b[0m in \u001b[0;36m_run_pipe_predict\u001b[1;34m(self, A, B, pip)\u001b[0m\n\u001b[0;32m    328\u001b[0m         \u001b[1;32mexcept\u001b[0m \u001b[0mException\u001b[0m \u001b[1;32mas\u001b[0m \u001b[0me\u001b[0m\u001b[1;33m:\u001b[0m\u001b[1;33m\u001b[0m\u001b[0m\n\u001b[0;32m    329\u001b[0m             \u001b[0mprint\u001b[0m\u001b[1;33m(\u001b[0m\u001b[1;34mf\"pipeline is : {pip}\"\u001b[0m\u001b[1;33m)\u001b[0m\u001b[1;33m\u001b[0m\u001b[0m\n\u001b[1;32m--> 330\u001b[1;33m             \u001b[0mresult\u001b[0m \u001b[1;33m=\u001b[0m \u001b[0mpip\u001b[0m\u001b[1;33m.\u001b[0m\u001b[0mpredict\u001b[0m\u001b[1;33m(\u001b[0m\u001b[1;33m[\u001b[0m\u001b[0mA\u001b[0m\u001b[1;33m,\u001b[0m \u001b[0mB\u001b[0m\u001b[1;33m]\u001b[0m\u001b[1;33m)\u001b[0m\u001b[1;33m\u001b[0m\u001b[0m\n\u001b[0m\u001b[0;32m    331\u001b[0m             \u001b[1;32mraise\u001b[0m \u001b[0mException\u001b[0m\u001b[1;33m(\u001b[0m\u001b[0me\u001b[0m\u001b[1;33m)\u001b[0m\u001b[1;33m\u001b[0m\u001b[0m\n\u001b[0;32m    332\u001b[0m \u001b[1;33m\u001b[0m\u001b[0m\n",
      "\u001b[1;32m~\\AppData\\Roaming\\Python\\Python36\\site-packages\\sklearn\\utils\\metaestimators.py\u001b[0m in \u001b[0;36m<lambda>\u001b[1;34m(*args, **kwargs)\u001b[0m\n\u001b[0;32m    114\u001b[0m \u001b[1;33m\u001b[0m\u001b[0m\n\u001b[0;32m    115\u001b[0m         \u001b[1;31m# lambda, but not partial, allows help() to work with update_wrapper\u001b[0m\u001b[1;33m\u001b[0m\u001b[1;33m\u001b[0m\u001b[0m\n\u001b[1;32m--> 116\u001b[1;33m         \u001b[0mout\u001b[0m \u001b[1;33m=\u001b[0m \u001b[1;32mlambda\u001b[0m \u001b[1;33m*\u001b[0m\u001b[0margs\u001b[0m\u001b[1;33m,\u001b[0m \u001b[1;33m**\u001b[0m\u001b[0mkwargs\u001b[0m\u001b[1;33m:\u001b[0m \u001b[0mself\u001b[0m\u001b[1;33m.\u001b[0m\u001b[0mfn\u001b[0m\u001b[1;33m(\u001b[0m\u001b[0mobj\u001b[0m\u001b[1;33m,\u001b[0m \u001b[1;33m*\u001b[0m\u001b[0margs\u001b[0m\u001b[1;33m,\u001b[0m \u001b[1;33m**\u001b[0m\u001b[0mkwargs\u001b[0m\u001b[1;33m)\u001b[0m\u001b[1;33m\u001b[0m\u001b[0m\n\u001b[0m\u001b[0;32m    117\u001b[0m         \u001b[1;31m# update the docstring of the returned function\u001b[0m\u001b[1;33m\u001b[0m\u001b[1;33m\u001b[0m\u001b[0m\n\u001b[0;32m    118\u001b[0m         \u001b[0mupdate_wrapper\u001b[0m\u001b[1;33m(\u001b[0m\u001b[0mout\u001b[0m\u001b[1;33m,\u001b[0m \u001b[0mself\u001b[0m\u001b[1;33m.\u001b[0m\u001b[0mfn\u001b[0m\u001b[1;33m)\u001b[0m\u001b[1;33m\u001b[0m\u001b[0m\n",
      "\u001b[1;32m~\\AppData\\Roaming\\Python\\Python36\\site-packages\\sklearn\\pipeline.py\u001b[0m in \u001b[0;36mpredict\u001b[1;34m(self, X, **predict_params)\u001b[0m\n\u001b[0;32m    417\u001b[0m         \u001b[0mXt\u001b[0m \u001b[1;33m=\u001b[0m \u001b[0mX\u001b[0m\u001b[1;33m\u001b[0m\u001b[0m\n\u001b[0;32m    418\u001b[0m         \u001b[1;32mfor\u001b[0m \u001b[0m_\u001b[0m\u001b[1;33m,\u001b[0m \u001b[0mname\u001b[0m\u001b[1;33m,\u001b[0m \u001b[0mtransform\u001b[0m \u001b[1;32min\u001b[0m \u001b[0mself\u001b[0m\u001b[1;33m.\u001b[0m\u001b[0m_iter\u001b[0m\u001b[1;33m(\u001b[0m\u001b[0mwith_final\u001b[0m\u001b[1;33m=\u001b[0m\u001b[1;32mFalse\u001b[0m\u001b[1;33m)\u001b[0m\u001b[1;33m:\u001b[0m\u001b[1;33m\u001b[0m\u001b[0m\n\u001b[1;32m--> 419\u001b[1;33m             \u001b[0mXt\u001b[0m \u001b[1;33m=\u001b[0m \u001b[0mtransform\u001b[0m\u001b[1;33m.\u001b[0m\u001b[0mtransform\u001b[0m\u001b[1;33m(\u001b[0m\u001b[0mXt\u001b[0m\u001b[1;33m)\u001b[0m\u001b[1;33m\u001b[0m\u001b[0m\n\u001b[0m\u001b[0;32m    420\u001b[0m         \u001b[1;32mreturn\u001b[0m \u001b[0mself\u001b[0m\u001b[1;33m.\u001b[0m\u001b[0msteps\u001b[0m\u001b[1;33m[\u001b[0m\u001b[1;33m-\u001b[0m\u001b[1;36m1\u001b[0m\u001b[1;33m]\u001b[0m\u001b[1;33m[\u001b[0m\u001b[1;33m-\u001b[0m\u001b[1;36m1\u001b[0m\u001b[1;33m]\u001b[0m\u001b[1;33m.\u001b[0m\u001b[0mpredict\u001b[0m\u001b[1;33m(\u001b[0m\u001b[0mXt\u001b[0m\u001b[1;33m,\u001b[0m \u001b[1;33m**\u001b[0m\u001b[0mpredict_params\u001b[0m\u001b[1;33m)\u001b[0m\u001b[1;33m\u001b[0m\u001b[0m\n\u001b[0;32m    421\u001b[0m \u001b[1;33m\u001b[0m\u001b[0m\n",
      "\u001b[1;32mC:\\Repos\\deconv_py\\deconv_py\\preprocess\\cell_specifics\\pp_dep_de_based.py\u001b[0m in \u001b[0;36mtransform\u001b[1;34m(self, data, *_)\u001b[0m\n\u001b[0;32m     31\u001b[0m         \u001b[0mlist_of_cells\u001b[0m \u001b[1;33m=\u001b[0m \u001b[0m_A\u001b[0m\u001b[1;33m.\u001b[0m\u001b[0mcolumns\u001b[0m\u001b[1;33m.\u001b[0m\u001b[0mmap\u001b[0m\u001b[1;33m(\u001b[0m\u001b[1;32mlambda\u001b[0m \u001b[0mx\u001b[0m\u001b[1;33m:\u001b[0m\u001b[0mx\u001b[0m\u001b[1;33m.\u001b[0m\u001b[0mreplace\u001b[0m\u001b[1;33m(\u001b[0m\u001b[1;34m\" \"\u001b[0m\u001b[1;33m,\u001b[0m\u001b[1;34m\".\"\u001b[0m\u001b[1;33m)\u001b[0m\u001b[1;33m.\u001b[0m\u001b[0mreplace\u001b[0m\u001b[1;33m(\u001b[0m\u001b[1;34m\"+\"\u001b[0m\u001b[1;33m,\u001b[0m\u001b[1;34m\".\"\u001b[0m\u001b[1;33m)\u001b[0m\u001b[1;33m.\u001b[0m\u001b[0mreplace\u001b[0m\u001b[1;33m(\u001b[0m\u001b[1;34m\"?\"\u001b[0m\u001b[1;33m,\u001b[0m\u001b[1;34m\".\"\u001b[0m\u001b[1;33m)\u001b[0m\u001b[1;33m)\u001b[0m\u001b[1;33m\u001b[0m\u001b[0m\n\u001b[0;32m     32\u001b[0m         \u001b[0mmapping\u001b[0m \u001b[1;33m=\u001b[0m \u001b[0mGlobalUtils\u001b[0m\u001b[1;33m.\u001b[0m\u001b[0mget_corospanding_cell_map_from_lists\u001b[0m\u001b[1;33m(\u001b[0m\u001b[0mlist_of_cells\u001b[0m\u001b[1;33m,\u001b[0m \u001b[0mper_cell_de\u001b[0m\u001b[1;33m.\u001b[0m\u001b[0mkeys\u001b[0m\u001b[1;33m(\u001b[0m\u001b[1;33m)\u001b[0m\u001b[1;33m)\u001b[0m\u001b[1;33m\u001b[0m\u001b[0m\n\u001b[1;32m---> 33\u001b[1;33m         \u001b[0mlist_of_cells\u001b[0m \u001b[1;33m=\u001b[0m \u001b[1;33m[\u001b[0m\u001b[0mmapping\u001b[0m\u001b[1;33m[\u001b[0m\u001b[0mc\u001b[0m\u001b[1;33m]\u001b[0m \u001b[1;32mfor\u001b[0m \u001b[0mc\u001b[0m \u001b[1;32min\u001b[0m \u001b[0mlist_of_cells\u001b[0m\u001b[1;33m]\u001b[0m\u001b[1;33m\u001b[0m\u001b[0m\n\u001b[0m\u001b[0;32m     34\u001b[0m         \u001b[0mA_rank\u001b[0m \u001b[1;33m=\u001b[0m \u001b[0m_A\u001b[0m\u001b[1;33m.\u001b[0m\u001b[0mrank\u001b[0m\u001b[1;33m(\u001b[0m\u001b[0maxis\u001b[0m\u001b[1;33m=\u001b[0m\u001b[1;36m1\u001b[0m\u001b[1;33m)\u001b[0m\u001b[1;33m.\u001b[0m\u001b[0mcopy\u001b[0m\u001b[1;33m(\u001b[0m\u001b[0mdeep\u001b[0m\u001b[1;33m=\u001b[0m\u001b[1;32mTrue\u001b[0m\u001b[1;33m)\u001b[0m\u001b[1;33m.\u001b[0m\u001b[0mrename\u001b[0m\u001b[1;33m(\u001b[0m\u001b[0mcolumns\u001b[0m \u001b[1;33m=\u001b[0m \u001b[1;33m{\u001b[0m\u001b[0mcell\u001b[0m\u001b[1;33m:\u001b[0m\u001b[0mmapping\u001b[0m\u001b[1;33m[\u001b[0m\u001b[0mcell\u001b[0m\u001b[1;33m.\u001b[0m\u001b[0mreplace\u001b[0m\u001b[1;33m(\u001b[0m\u001b[1;34m\" \"\u001b[0m\u001b[1;33m,\u001b[0m\u001b[1;34m\".\"\u001b[0m\u001b[1;33m)\u001b[0m\u001b[1;33m.\u001b[0m\u001b[0mreplace\u001b[0m\u001b[1;33m(\u001b[0m\u001b[1;34m\"+\"\u001b[0m\u001b[1;33m,\u001b[0m\u001b[1;34m\".\"\u001b[0m\u001b[1;33m)\u001b[0m\u001b[1;33m.\u001b[0m\u001b[0mreplace\u001b[0m\u001b[1;33m(\u001b[0m\u001b[1;34m\"?\"\u001b[0m\u001b[1;33m,\u001b[0m\u001b[1;34m\".\"\u001b[0m\u001b[1;33m)\u001b[0m\u001b[1;33m]\u001b[0m \u001b[1;32mfor\u001b[0m \u001b[0mcell\u001b[0m \u001b[1;32min\u001b[0m \u001b[0m_A\u001b[0m\u001b[1;33m.\u001b[0m\u001b[0mcolumns\u001b[0m\u001b[1;33m}\u001b[0m\u001b[1;33m)\u001b[0m\u001b[1;33m\u001b[0m\u001b[0m\n\u001b[0;32m     35\u001b[0m \u001b[1;33m\u001b[0m\u001b[0m\n",
      "\u001b[1;32mC:\\Repos\\deconv_py\\deconv_py\\preprocess\\cell_specifics\\pp_dep_de_based.py\u001b[0m in \u001b[0;36m<listcomp>\u001b[1;34m(.0)\u001b[0m\n\u001b[0;32m     31\u001b[0m         \u001b[0mlist_of_cells\u001b[0m \u001b[1;33m=\u001b[0m \u001b[0m_A\u001b[0m\u001b[1;33m.\u001b[0m\u001b[0mcolumns\u001b[0m\u001b[1;33m.\u001b[0m\u001b[0mmap\u001b[0m\u001b[1;33m(\u001b[0m\u001b[1;32mlambda\u001b[0m \u001b[0mx\u001b[0m\u001b[1;33m:\u001b[0m\u001b[0mx\u001b[0m\u001b[1;33m.\u001b[0m\u001b[0mreplace\u001b[0m\u001b[1;33m(\u001b[0m\u001b[1;34m\" \"\u001b[0m\u001b[1;33m,\u001b[0m\u001b[1;34m\".\"\u001b[0m\u001b[1;33m)\u001b[0m\u001b[1;33m.\u001b[0m\u001b[0mreplace\u001b[0m\u001b[1;33m(\u001b[0m\u001b[1;34m\"+\"\u001b[0m\u001b[1;33m,\u001b[0m\u001b[1;34m\".\"\u001b[0m\u001b[1;33m)\u001b[0m\u001b[1;33m.\u001b[0m\u001b[0mreplace\u001b[0m\u001b[1;33m(\u001b[0m\u001b[1;34m\"?\"\u001b[0m\u001b[1;33m,\u001b[0m\u001b[1;34m\".\"\u001b[0m\u001b[1;33m)\u001b[0m\u001b[1;33m)\u001b[0m\u001b[1;33m\u001b[0m\u001b[0m\n\u001b[0;32m     32\u001b[0m         \u001b[0mmapping\u001b[0m \u001b[1;33m=\u001b[0m \u001b[0mGlobalUtils\u001b[0m\u001b[1;33m.\u001b[0m\u001b[0mget_corospanding_cell_map_from_lists\u001b[0m\u001b[1;33m(\u001b[0m\u001b[0mlist_of_cells\u001b[0m\u001b[1;33m,\u001b[0m \u001b[0mper_cell_de\u001b[0m\u001b[1;33m.\u001b[0m\u001b[0mkeys\u001b[0m\u001b[1;33m(\u001b[0m\u001b[1;33m)\u001b[0m\u001b[1;33m)\u001b[0m\u001b[1;33m\u001b[0m\u001b[0m\n\u001b[1;32m---> 33\u001b[1;33m         \u001b[0mlist_of_cells\u001b[0m \u001b[1;33m=\u001b[0m \u001b[1;33m[\u001b[0m\u001b[0mmapping\u001b[0m\u001b[1;33m[\u001b[0m\u001b[0mc\u001b[0m\u001b[1;33m]\u001b[0m \u001b[1;32mfor\u001b[0m \u001b[0mc\u001b[0m \u001b[1;32min\u001b[0m \u001b[0mlist_of_cells\u001b[0m\u001b[1;33m]\u001b[0m\u001b[1;33m\u001b[0m\u001b[0m\n\u001b[0m\u001b[0;32m     34\u001b[0m         \u001b[0mA_rank\u001b[0m \u001b[1;33m=\u001b[0m \u001b[0m_A\u001b[0m\u001b[1;33m.\u001b[0m\u001b[0mrank\u001b[0m\u001b[1;33m(\u001b[0m\u001b[0maxis\u001b[0m\u001b[1;33m=\u001b[0m\u001b[1;36m1\u001b[0m\u001b[1;33m)\u001b[0m\u001b[1;33m.\u001b[0m\u001b[0mcopy\u001b[0m\u001b[1;33m(\u001b[0m\u001b[0mdeep\u001b[0m\u001b[1;33m=\u001b[0m\u001b[1;32mTrue\u001b[0m\u001b[1;33m)\u001b[0m\u001b[1;33m.\u001b[0m\u001b[0mrename\u001b[0m\u001b[1;33m(\u001b[0m\u001b[0mcolumns\u001b[0m \u001b[1;33m=\u001b[0m \u001b[1;33m{\u001b[0m\u001b[0mcell\u001b[0m\u001b[1;33m:\u001b[0m\u001b[0mmapping\u001b[0m\u001b[1;33m[\u001b[0m\u001b[0mcell\u001b[0m\u001b[1;33m.\u001b[0m\u001b[0mreplace\u001b[0m\u001b[1;33m(\u001b[0m\u001b[1;34m\" \"\u001b[0m\u001b[1;33m,\u001b[0m\u001b[1;34m\".\"\u001b[0m\u001b[1;33m)\u001b[0m\u001b[1;33m.\u001b[0m\u001b[0mreplace\u001b[0m\u001b[1;33m(\u001b[0m\u001b[1;34m\"+\"\u001b[0m\u001b[1;33m,\u001b[0m\u001b[1;34m\".\"\u001b[0m\u001b[1;33m)\u001b[0m\u001b[1;33m.\u001b[0m\u001b[0mreplace\u001b[0m\u001b[1;33m(\u001b[0m\u001b[1;34m\"?\"\u001b[0m\u001b[1;33m,\u001b[0m\u001b[1;34m\".\"\u001b[0m\u001b[1;33m)\u001b[0m\u001b[1;33m]\u001b[0m \u001b[1;32mfor\u001b[0m \u001b[0mcell\u001b[0m \u001b[1;32min\u001b[0m \u001b[0m_A\u001b[0m\u001b[1;33m.\u001b[0m\u001b[0mcolumns\u001b[0m\u001b[1;33m}\u001b[0m\u001b[1;33m)\u001b[0m\u001b[1;33m\u001b[0m\u001b[0m\n\u001b[0;32m     35\u001b[0m \u001b[1;33m\u001b[0m\u001b[0m\n",
      "\u001b[1;31mKeyError\u001b[0m: 'NK'"
     ]
    }
   ],
   "source": [
    "meta_results_original_data = _pipe.run_cytof_pipeline(A_all_vs, B_all_vs,per_cell_analysis = False)\n",
    "meta_results_not_imputed = _pipe.run_cytof_pipeline(A_all_vs_not_impu, B_all_vs_not_impu,per_cell_analysis = False)"
   ]
  },
  {
   "cell_type": "code",
   "execution_count": null,
   "metadata": {},
   "outputs": [],
   "source": [
    "raise"
   ]
  },
  {
   "cell_type": "code",
   "execution_count": null,
   "metadata": {},
   "outputs": [],
   "source": [
    "meta_results.sort_values(\"corrIso\",ascending=False)"
   ]
  },
  {
   "cell_type": "code",
   "execution_count": null,
   "metadata": {},
   "outputs": [],
   "source": [
    "# with open(\"../cache/meta_result_example.pkl\",'rb') as f :\n",
    "#     meta_results = pkl.load(f)\n",
    "    "
   ]
  },
  {
   "cell_type": "code",
   "execution_count": null,
   "metadata": {},
   "outputs": [],
   "source": [
    "valid_corr = meta_results[[col for col in meta_results.columns if \"cellcorr\" in col]].dropna(axis=0).index\n",
    "valid_meta = meta_results.loc[valid_corr]\n",
    "# _res = valid_meta[(valid_meta[\"corrPval\"] < 0.15)].sort_values(by=\"corrMean\",ascending=False)\n",
    "# _res = _res.drop_duplicates(subset=[\"corrMean\",\"entropy\"])\n",
    "# _res.head()[\"uuid\"]\n",
    "\n",
    "valid_meta.loc[valid_meta[[col for col in meta_results.columns if \"cellcorr\" in col]].idxmax()][[\"uuid\"]+[col for col in meta_results.columns if \"cellcorr\" in col]]"
   ]
  },
  {
   "cell_type": "code",
   "execution_count": null,
   "metadata": {},
   "outputs": [],
   "source": [
    "valid_meta[[col for col in meta_results.columns if \"cellcorr\" in col]].max()"
   ]
  },
  {
   "cell_type": "code",
   "execution_count": null,
   "metadata": {
    "scrolled": false
   },
   "outputs": [],
   "source": [
    "describe_results(str(1773278244),with_mixtures_pca = True)"
   ]
  },
  {
   "cell_type": "code",
   "execution_count": null,
   "metadata": {},
   "outputs": [],
   "source": [
    "cpm = CellProportionsMeasure(how=\"correlation\", return_dict_measure_statas=True, with_pvalue=True)\n",
    "multi_result = _pipe.run_multi_signature_pipeline(A_all_vs,B_all_vs,meta_results,cpm)\n",
    "multi_result"
   ]
  },
  {
   "cell_type": "code",
   "execution_count": null,
   "metadata": {},
   "outputs": [],
   "source": [
    "# meta_results[~meta_results[\"PpEntropyBasedTotelSum_with_norm\"].isna()][[\"corrMean\",\"corrPval\",\"entropy\",\"uuid\"]]"
   ]
  },
  {
   "cell_type": "markdown",
   "metadata": {},
   "source": [
    "## result"
   ]
  },
  {
   "cell_type": "code",
   "execution_count": null,
   "metadata": {
    "scrolled": false
   },
   "outputs": [],
   "source": [
    "_res = meta_results[(meta_results[\"corrPval\"] < 0.15)].sort_values(by=\"corrMean\",ascending=False)\n",
    "_res = _res.drop_duplicates(subset=[\"corrMean\",\"entropy\"])\n",
    "_res.head()"
   ]
  },
  {
   "cell_type": "code",
   "execution_count": null,
   "metadata": {
    "scrolled": true
   },
   "outputs": [],
   "source": [
    "_res = meta_results.sort_values(by=\"corrMean\",ascending=False)[[\"corrMean\",\"corrPval\",\"entropy\",\"uuid\"]]\n",
    "_res[(_res[\"corrMean\"] > 0.5)&(_res[\"entropy\"] > 0.5)&(_res[\"corrPval\"] < 0.05)].sort_values(by=\"entropy\")"
   ]
  },
  {
   "cell_type": "code",
   "execution_count": null,
   "metadata": {},
   "outputs": [],
   "source": [
    "# meta_results[(meta_results[\"rmsePval\"] < 0.15)&(meta_results[\"corrPval\"] < 0.15)].sort_values(by=\"corrMean\",ascending=False).head(10)"
   ]
  },
  {
   "cell_type": "markdown",
   "metadata": {},
   "source": [
    "# best results - \"1773278244\" i think are the best"
   ]
  },
  {
   "cell_type": "markdown",
   "metadata": {},
   "source": [
    "## get best results"
   ]
  },
  {
   "cell_type": "code",
   "execution_count": null,
   "metadata": {
    "code_folding": [
     0,
     36,
     43,
     70,
     77,
     79,
     102
    ],
    "scrolled": false
   },
   "outputs": [],
   "source": [
    "def build_distance_matrix() :\n",
    "    uuid_to_results = {}\n",
    "    for uuid in meta_results[\"uuid\"] : \n",
    "        params = meta_results[meta_results[\"uuid\"] == int(uuid)].T.copy(deep=True).dropna()\n",
    "        \n",
    "        best_results_and_known = _pipe.load_results_from_archive(uuid)\n",
    "        best_results=best_results_and_known[\"result\"]\n",
    "        res_values = best_results.sort_index(axis=0).sort_index(axis=1).values\n",
    "        \n",
    "        uuid_to_results[uuid] = res_values\n",
    "    \n",
    "    results = {}\n",
    "    looked_uuids = {}\n",
    "    for uuid,res in uuid_to_results.items():\n",
    "        if uuid in looked_uuids.keys():\n",
    "            continue\n",
    "            \n",
    "        neighbors = [] \n",
    "        for sec_uuid,sec_res in uuid_to_results.items():\n",
    "            if (res == sec_res).all() :\n",
    "                neighbors.append(sec_uuid)\n",
    "                looked_uuids[sec_uuid] = sec_uuid\n",
    "        if len(neighbors) > 1 :\n",
    "            results[uuid] = neighbors\n",
    "    \n",
    "    clusters = [] \n",
    "    for _,cluster in  results.items():\n",
    "        uuids = [] \n",
    "        for uuid in cluster : \n",
    "            params = meta_results[meta_results[\"uuid\"] == int(uuid)].T.copy(deep=True).dropna()\n",
    "            uuids.append(params)\n",
    "        clusters.append(pd.concat(uuids,axis=1))\n",
    "        \n",
    "    \n",
    "    return clusters\n",
    "      \n",
    "def plot_correlation_per_cell(uuids) : \n",
    "    if type(uuids) is str : \n",
    "        uuids = [uuids]\n",
    "    \n",
    "    max_corr_per_cell = {}\n",
    "    best_param_per_cell = {}\n",
    "    \n",
    "    for uuid in meta_results[\"uuid\"] : \n",
    "        params = meta_results[meta_results[\"uuid\"] == int(uuid)].T.copy(deep=True).dropna()\n",
    "        \n",
    "        best_results_and_known = _pipe.load_results_from_archive(uuid)\n",
    "        best_results=best_results_and_known[\"result\"]\n",
    "        best_known=best_results_and_known[\"known\"]\n",
    "        mapping = GlobalUtils.get_corospanding_mixtures_map(best_known,best_results)\n",
    "        best_known = best_known.rename(columns=mapping)\n",
    "        best_known = best_known[[col for col in mapping.values()]]\n",
    "\n",
    "        mutual_col = best_known.columns.intersection(best_results.columns)\n",
    "        best_results = best_results[mutual_col]\n",
    "        best_known = best_known[mutual_col]\n",
    "\n",
    "        corr_per_cell =  best_results.T.corrwith(best_known.T,method=\"spearman\")\n",
    "        \n",
    "        for cell in corr_per_cell.index : \n",
    "            if cell in max_corr_per_cell.keys() : \n",
    "                if corr_per_cell[cell] > max_corr_per_cell[cell] :\n",
    "                    max_corr_per_cell[cell] = corr_per_cell[cell]\n",
    "                    best_param_per_cell[cell] = params\n",
    "            else : \n",
    "                max_corr_per_cell[cell] = corr_per_cell[cell]\n",
    "                best_param_per_cell[cell] = params\n",
    "    \n",
    "    return max_corr_per_cell,best_param_per_cell\n",
    "\n",
    "def plot_results_vs_known_pca(best_results,best_known):\n",
    "    pca = PCA(n_components=2)\n",
    "    pca.fit(pd.concat([best_results,best_known],axis=1).T)\n",
    "\n",
    "    deconv_principalcomp = pca.transform(best_results.T)\n",
    "    known_principalcomp = pca.transform(best_known.T)\n",
    "\n",
    "    deconv_principalDf =pd.DataFrame(data = deconv_principalcomp\n",
    "                 , columns = ['principal component 1', 'principal component 2'],index = best_results.columns)\n",
    "    known_principalDf = pd.DataFrame(data = known_principalcomp\n",
    "                 , columns = ['principal component 1', 'principal component 2'],index = best_known.columns)\n",
    "\n",
    "    deconv_principalDf[\"color\"] = \"b\"\n",
    "    known_principalDf[\"color\"] = \"r\"\n",
    "\n",
    "    principalDf = deconv_principalDf.append(known_principalDf)\n",
    "    fig = plt.figure(figsize = (25,15))\n",
    "    ax = fig.add_subplot(1,1,1) \n",
    "    ax.set_xlabel('Principal Component 1', fontsize = 15)\n",
    "    ax.set_ylabel('Principal Component 2', fontsize = 15)\n",
    "    ax.set_title('blue - deconvolution result,red -  known proportions', fontsize = 20)\n",
    "\n",
    "    ax.scatter(principalDf['principal component 1'], principalDf['principal component 2'],c=principalDf['color'], s = 50)\n",
    "\n",
    "    for mixture in range(deconv_principalcomp.shape[0]):\n",
    "        deconv_point = deconv_principalcomp[mixture,:]\n",
    "        known_point = known_principalcomp[mixture,:]\n",
    "        plt.plot([deconv_point[0],known_point[0]],[deconv_point[1],known_point[1]], ':')\n",
    "\n",
    "    for i, txt in enumerate(principalDf.index):\n",
    "        ax.annotate(txt, (principalDf['principal component 1'].iloc[i], principalDf['principal component 2'].iloc[i]))\n",
    "\n",
    "def describe_results(uuids,with_per_mixture_plot = False,with_mixtures_pca = False,meta_results = None) : \n",
    "    if type(uuids) is str : \n",
    "        uuids = [uuids]\n",
    "    \n",
    "    for uuid in uuids : \n",
    "        if meta_results is not None : \n",
    "            params = meta_results[meta_results[\"uuid\"] == int(uuid)].T.copy(deep=True).dropna()\n",
    "            print(\"params : \")\n",
    "            display(HTML(params.to_html()))\n",
    "\n",
    "\n",
    "        best_results_and_known = _pipe.load_results_from_archive(uuid)\n",
    "        best_results=best_results_and_known[\"result\"]\n",
    "        best_known=best_results_and_known[\"known\"]\n",
    "        mapping = GlobalUtils.get_corospanding_mixtures_map(best_known,best_results)\n",
    "        best_known = best_known.rename(columns=mapping)\n",
    "        best_known = best_known[[col for col in mapping.values()]]\n",
    "\n",
    "        mutual_col = best_known.columns.intersection(best_results.columns)\n",
    "        best_results = best_results[mutual_col]\n",
    "        best_known = best_known[mutual_col]\n",
    "\n",
    "        print(\"mixtures : \")\n",
    "        display(HTML(best_results.to_html()))\n",
    "\n",
    "        print(\"mixtures details :\")\n",
    "        display(HTML(best_results.corrwith(best_known,method=\"spearman\").describe().to_frame().to_html()))\n",
    "\n",
    "        cytof_plots.plot_mass_to_cytof_scatter_all_on_one(best_results,best_known,best_results)\n",
    "        if with_per_mixture_plot : \n",
    "            cytof_plots.plot_mass_to_cytof_scatter(best_results,best_known,best_results)\n",
    "        if with_mixtures_pca : \n",
    "            plot_results_vs_known_pca(best_results,best_known)"
   ]
  },
  {
   "cell_type": "code",
   "execution_count": null,
   "metadata": {
    "scrolled": false
   },
   "outputs": [],
   "source": [
    "describe_results(\"1773278244\",True)"
   ]
  },
  {
   "cell_type": "markdown",
   "metadata": {},
   "source": [
    "# test"
   ]
  },
  {
   "cell_type": "code",
   "execution_count": null,
   "metadata": {
    "scrolled": false
   },
   "outputs": [],
   "source": [
    "describe_results(\"1773278244\",True)"
   ]
  }
 ],
 "metadata": {
  "hide_input": false,
  "kernelspec": {
   "display_name": "Python 3",
   "language": "python",
   "name": "python3"
  },
  "language_info": {
   "codemirror_mode": {
    "name": "ipython",
    "version": 3
   },
   "file_extension": ".py",
   "mimetype": "text/x-python",
   "name": "python",
   "nbconvert_exporter": "python",
   "pygments_lexer": "ipython3",
   "version": "3.6.5"
  },
  "toc": {
   "base_numbering": 1,
   "nav_menu": {},
   "number_sections": true,
   "sideBar": true,
   "skip_h1_title": false,
   "title_cell": "Table of Contents",
   "title_sidebar": "Contents",
   "toc_cell": false,
   "toc_position": {},
   "toc_section_display": true,
   "toc_window_display": false
  }
 },
 "nbformat": 4,
 "nbformat_minor": 2
}
