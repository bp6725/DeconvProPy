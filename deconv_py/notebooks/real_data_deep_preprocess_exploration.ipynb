{
 "cells": [
  {
   "cell_type": "markdown",
   "metadata": {},
   "source": [
    "#  INIT"
   ]
  },
  {
   "cell_type": "code",
   "execution_count": 1,
   "metadata": {},
   "outputs": [],
   "source": [
    "import sys\n",
    "sys.path.append('../../')\n",
    "sys.path.append('../infras/cellMix/')\n",
    "sys.path.append('../infras/cytof_data/')\n",
    "sys.path.append('../experiments/')\n",
    "sys.path.append('../infras/dashboards')"
   ]
  },
  {
   "cell_type": "code",
   "execution_count": 2,
   "metadata": {},
   "outputs": [],
   "source": [
    "import exploration_cytof_plots as cytof_plots"
   ]
  },
  {
   "cell_type": "code",
   "execution_count": 3,
   "metadata": {},
   "outputs": [],
   "source": [
    "from cytof_cell_count_infra import CytofCellCountInfra\n",
    "from cell_proportions_experiments import  CellProportionsExperiments\n",
    "\n",
    "ccc= CytofCellCountInfra()"
   ]
  },
  {
   "cell_type": "code",
   "execution_count": 4,
   "metadata": {},
   "outputs": [],
   "source": [
    "import pandas as pd\n",
    "import numpy as np\n",
    "from functools import partial\n",
    "import multiprocessing\n",
    "\n",
    "from scipy.optimize import least_squares\n",
    "from sklearn.metrics import mean_squared_error\n",
    "from functools import partial\n",
    "from scipy.optimize import minimize\n",
    "import scipy.optimize\n",
    "from itertools import combinations\n",
    "import matplotlib.pyplot as plt\n",
    "import matplotlib.colors as mcolors\n",
    "\n",
    "import seaborn as sns\n",
    "\n",
    "import os"
   ]
  },
  {
   "cell_type": "code",
   "execution_count": 5,
   "metadata": {},
   "outputs": [],
   "source": [
    "from deconv_py.preprocess.base import BasePreprocess as PP_base\n",
    "from deconv_py.preprocess.cell_specific import CellSpecific as PP_proteins\n",
    "\n",
    "from deconv_py.infras.data_factory import DataFactory\n",
    "from deconv_py.infras.data_loader import DataLoader\n",
    "\n",
    "from deconv_py.models.base import Base as Models_base\n",
    "from deconv_py.models.cell_proportions_models import CellProportions\n",
    "from deconv_py.models.cell_specific_models import CellSpecificPerPermutation\n",
    "\n",
    "from deconv_py.experiments.cell_specific import CellSpecificMetricsPlot\n",
    "\n",
    "from cellMix_coordinator import CellMixCoordinator\n",
    "\n",
    "from scipy.stats import entropy\n",
    "from functools import reduce"
   ]
  },
  {
   "cell_type": "markdown",
   "metadata": {
    "heading_collapsed": true
   },
   "source": [
    "# calc cell proportions - intensities"
   ]
  },
  {
   "cell_type": "markdown",
   "metadata": {
    "heading_collapsed": true,
    "hidden": true
   },
   "source": [
    "## mixture & cell specific & proportions data"
   ]
  },
  {
   "cell_type": "code",
   "execution_count": 6,
   "metadata": {
    "hidden": true
   },
   "outputs": [
    {
     "name": "stderr",
     "output_type": "stream",
     "text": [
      "C:\\ProgramData\\Anaconda3\\lib\\site-packages\\IPython\\core\\interactiveshell.py:2963: DtypeWarning: Columns (5,6,2764,2765,2773,2774,2775,2776) have mixed types. Specify dtype option on import or set low_memory=False.\n",
      "  exec(code_obj, self.user_global_ns, self.user_ns)\n"
     ]
    }
   ],
   "source": [
    "relvent_data = ['Intensity NOT_BCellmemory_01', 'Intensity NOT_BCellnaive_01', 'Intensity NOT_BCellplasma_01', 'Intensity NOT_CD4TCellmTregs_01',\n",
    " 'Intensity NOT_CD4TCellnaive_01', 'Intensity NOT_CD4TCellnTregs_01', 'Intensity NOT_CD4TCellTcm_01', 'Intensity NOT_CD4TCellTem_01',\n",
    " 'Intensity NOT_CD4TCellTemra_01', 'Intensity NOT_CD4TCellTh1_01', 'Intensity NOT_CD4TCellTh17_01', 'Intensity NOT_CD4TCellTh2_01',\n",
    " 'Intensity NOT_CD8TCellnaive_01', 'Intensity NOT_CD8TCellTcm_01', 'Intensity NOT_CD8TCellTem_01', 'Intensity NOT_CD8TCellTemra_01',\n",
    " 'Intensity NOT_DendriticCD1c_01', 'Intensity NOT_DendriticCD304_01', 'Intensity NOT_Erythrocytes_01', 'Intensity NOT_GranulocytesBasophil_01',\n",
    " 'Intensity NOT_Granulocyteseosinophils_01', 'Intensity NOT_Granulocytesneutrophils_01', 'Intensity NOT_Monocytesclassical_01', 'Intensity NOT_Monocytesintermediate_01',\n",
    " 'Intensity NOT_Monocytesnonclassical_01', 'Intensity NOT_NKCellsCD56bright_01', 'Intensity NOT_NKCellsCD56dim_01', 'Intensity NOT_Thrombocytes_01']\n",
    "\n",
    "data_loader = DataLoader(mass_spec_path=os.path.abspath('../data/20190801_filtered_imputed_data.csv'),\n",
    "                         protein_profile_path = os.path.abspath('../data/20150718_Cerberus_proteinGroups.txt'),as_csv = True)\n",
    "ms = data_loader.get_mass_spec_data()\n",
    "\n",
    "data_factory = DataFactory(data_loader)\n",
    "profile_data,profile_data_relvent_data = data_factory.build_cell_specific_profile(auto_filter_by=False,relvent_data=relvent_data,relvent_columns=[\"Majority protein IDs\"])\n",
    "mixtures,mixtures_relvent_data = data_factory.build_mixture_data(relvent_data=[pb for pb in ms.columns if \"_v\" in pb],relvent_columns=[\"Majority protein IDs\"],auto_filter_by=False,log2_transformation=True)\n",
    "\n",
    "cell_proportions_df = pd.DataFrame(index = ['Intensity NOT_CD4TCellTcm_01','Intensity NOT_BCellmemory_01','Intensity NOT_Monocytesnonclassical_01'],\n",
    "                                   columns = list(range(1,9)),\n",
    "                                   data =np.array(((100,0,0),(0,100,0),(0,0,100),(33,33,33),(25,25,50),(25,50,25),(50,25,25),(47.5,47.5,5.0))).T)"
   ]
  },
  {
   "cell_type": "markdown",
   "metadata": {
    "heading_collapsed": true,
    "hidden": true
   },
   "source": [
    "## build A ,X and B "
   ]
  },
  {
   "cell_type": "code",
   "execution_count": 7,
   "metadata": {
    "hidden": true
   },
   "outputs": [],
   "source": [
    "index_func = lambda x:x.split(';')[0]\n",
    "index_func = lambda x:x\n",
    "_profile_data,_mixtures = PP_base.return_mutual_proteins_by_index(profile_data,mixtures,index_func=index_func)\n",
    "A = _profile_data[profile_data_relvent_data]\n",
    "B = _mixtures[mixtures_relvent_data]\n",
    "\n",
    "X = cell_proportions_df\n",
    "\n",
    "A = A.rename({f:f.split('Intensity ')[1] for f in A.columns},axis=1)"
   ]
  },
  {
   "cell_type": "markdown",
   "metadata": {},
   "source": [
    "# models"
   ]
  },
  {
   "cell_type": "markdown",
   "metadata": {},
   "source": [
    "### entropy base"
   ]
  },
  {
   "cell_type": "code",
   "execution_count": null,
   "metadata": {},
   "outputs": [],
   "source": [
    "cell_prop_exp = CellProportionsExperiments()"
   ]
  },
  {
   "cell_type": "code",
   "execution_count": 9,
   "metadata": {
    "scrolled": false
   },
   "outputs": [
    {
     "ename": "RuntimeError",
     "evalue": "No active exception to reraise",
     "output_type": "error",
     "traceback": [
      "\u001b[1;31m---------------------------------------------------------------------------\u001b[0m",
      "\u001b[1;31mRuntimeError\u001b[0m                              Traceback (most recent call last)",
      "\u001b[1;32m<ipython-input-9-6ac85b1a3bef>\u001b[0m in \u001b[0;36m<module>\u001b[1;34m()\u001b[0m\n\u001b[0;32m      3\u001b[0m \u001b[0m_A_norm\u001b[0m \u001b[1;33m=\u001b[0m \u001b[0m_A\u001b[0m\u001b[1;33m.\u001b[0m\u001b[0mdiv\u001b[0m\u001b[1;33m(\u001b[0m\u001b[0m_A\u001b[0m\u001b[1;33m.\u001b[0m\u001b[0msum\u001b[0m\u001b[1;33m(\u001b[0m\u001b[0maxis\u001b[0m\u001b[1;33m=\u001b[0m\u001b[1;36m1\u001b[0m\u001b[1;33m)\u001b[0m\u001b[1;33m,\u001b[0m \u001b[0maxis\u001b[0m\u001b[1;33m=\u001b[0m\u001b[1;36m0\u001b[0m\u001b[1;33m)\u001b[0m\u001b[1;33m\u001b[0m\u001b[0m\n\u001b[0;32m      4\u001b[0m \u001b[0mgene_entropy\u001b[0m \u001b[1;33m=\u001b[0m \u001b[0m_A_norm\u001b[0m\u001b[1;33m.\u001b[0m\u001b[0mapply\u001b[0m\u001b[1;33m(\u001b[0m\u001b[1;32mlambda\u001b[0m \u001b[0mgene_dis\u001b[0m\u001b[1;33m:\u001b[0m \u001b[0mentropy\u001b[0m\u001b[1;33m(\u001b[0m\u001b[0mgene_dis\u001b[0m\u001b[1;33m)\u001b[0m\u001b[1;33m,\u001b[0m \u001b[0maxis\u001b[0m\u001b[1;33m=\u001b[0m\u001b[1;36m1\u001b[0m\u001b[1;33m)\u001b[0m\u001b[1;33m\u001b[0m\u001b[0m\n\u001b[1;32m----> 5\u001b[1;33m \u001b[1;32mraise\u001b[0m\u001b[1;33m\u001b[0m\u001b[0m\n\u001b[0m\u001b[0;32m      6\u001b[0m \u001b[0mgene_entropy_trh\u001b[0m \u001b[1;33m=\u001b[0m \u001b[1;36m0.001\u001b[0m\u001b[1;33m\u001b[0m\u001b[0m\n\u001b[0;32m      7\u001b[0m \u001b[1;33m\u001b[0m\u001b[0m\n",
      "\u001b[1;31mRuntimeError\u001b[0m: No active exception to reraise"
     ]
    }
   ],
   "source": [
    "_A, _B = PP_proteins.pp_clean_irrelevant_proteins(A.copy(deep=True), B.copy(deep=True))\n",
    "\n",
    "_A_norm = _A.div(_A.sum(axis=1), axis=0)\n",
    "gene_entropy = _A_norm.apply(lambda gene_dis: entropy(gene_dis), axis=1)\n",
    "\n",
    "gene_entropy_trh = 0.001\n",
    "\n",
    "cell_to_list_of_max_genes = {}\n",
    "for protein,cell in  _A.idxmax(axis=1).to_dict().items() : \n",
    "    if cell in cell_to_list_of_max_genes.keys():\n",
    "        cell_to_list_of_max_genes[cell].append(protein)\n",
    "    else : \n",
    "        cell_to_list_of_max_genes[cell] = [] \n",
    "\n",
    "list_of_genes_list = []\n",
    "\n",
    "for cell in _A.columns:\n",
    "    n_genes_per_cell = 20\n",
    "    cell_relvent_gene_entropy = gene_entropy[_A_norm[_A_norm[cell] > 0].index]\n",
    "#     cell_relvent_gene_entropy = cell_relvent_gene_entropy.loc[cell_to_list_of_max_genes[cell]].dropna()\n",
    "    #takse genes with zero entropy and the largest values\n",
    "    zero_entropy_genes = _A[cell].loc[cell_relvent_gene_entropy[cell_relvent_gene_entropy == 0].index]\n",
    "    best_zero_entropy_genes = zero_entropy_genes.nlargest(n_genes_per_cell).index\n",
    "    \n",
    "    best_genes_idx = best_zero_entropy_genes\n",
    "    #how much genes we still need - \n",
    "    n_genes_per_cell = n_genes_per_cell - best_zero_entropy_genes.shape[0]\n",
    "    trh = gene_entropy_trh\n",
    "    while best_genes_idx.shape[0] <  n_genes_per_cell  :\n",
    "        low_quantile_entropy_genes = _A[cell].loc[cell_relvent_gene_entropy[(cell_relvent_gene_entropy < cell_relvent_gene_entropy.quantile(trh)) & (cell_relvent_gene_entropy >0)].index]\n",
    "        best_quantile_entropy_genes = low_quantile_entropy_genes.nlargest(n_genes_per_cell).index\n",
    "        best_genes_idx = best_genes_idx.union(best_quantile_entropy_genes)\n",
    "        trh=trh+gene_entropy_trh\n",
    "        if trh > 1 :\n",
    "            print(cell)\n",
    "            break\n",
    "\n",
    "    list_of_genes_list.append(best_genes_idx)\n",
    "     \n",
    "    list_of_genes_list.append(best_genes_idx)\n",
    "\n",
    "genes_list_idx = reduce(lambda x, y: x.union(y), list_of_genes_list)\n",
    "\n",
    "filt_A = _A.copy(deep=True).loc[genes_list_idx]\n",
    "filt_B = _B.copy(deep=True).loc[genes_list_idx]\n",
    "\n",
    "norm_filt_A = filt_A.div(filt_A.max(axis=1), axis=0)\n",
    "norm_filt_B = filt_B.div(filt_A.max(axis=1), axis=0)"
   ]
  },
  {
   "cell_type": "code",
   "execution_count": 13,
   "metadata": {},
   "outputs": [
    {
     "data": {
      "text/html": [
       "<div>\n",
       "<style scoped>\n",
       "    .dataframe tbody tr th:only-of-type {\n",
       "        vertical-align: middle;\n",
       "    }\n",
       "\n",
       "    .dataframe tbody tr th {\n",
       "        vertical-align: top;\n",
       "    }\n",
       "\n",
       "    .dataframe thead th {\n",
       "        text-align: right;\n",
       "    }\n",
       "</style>\n",
       "<table border=\"1\" class=\"dataframe\">\n",
       "  <thead>\n",
       "    <tr style=\"text-align: right;\">\n",
       "      <th></th>\n",
       "      <th>NOT_BCellmemory_01</th>\n",
       "      <th>NOT_BCellnaive_01</th>\n",
       "      <th>NOT_BCellplasma_01</th>\n",
       "      <th>NOT_CD4TCellmTregs_01</th>\n",
       "      <th>NOT_CD4TCellnaive_01</th>\n",
       "      <th>NOT_CD4TCellnTregs_01</th>\n",
       "      <th>NOT_CD4TCellTcm_01</th>\n",
       "      <th>NOT_CD4TCellTem_01</th>\n",
       "      <th>NOT_CD4TCellTemra_01</th>\n",
       "      <th>NOT_CD4TCellTh1_01</th>\n",
       "      <th>...</th>\n",
       "      <th>NOT_GranulocytesBasophil_01</th>\n",
       "      <th>NOT_Granulocyteseosinophils_01</th>\n",
       "      <th>NOT_Granulocytesneutrophils_01</th>\n",
       "      <th>NOT_Monocytesclassical_01</th>\n",
       "      <th>NOT_Monocytesintermediate_01</th>\n",
       "      <th>NOT_Monocytesnonclassical_01</th>\n",
       "      <th>NOT_NKCellsCD56bright_01</th>\n",
       "      <th>NOT_NKCellsCD56dim_01</th>\n",
       "      <th>NOT_Thrombocytes_01</th>\n",
       "      <th>0</th>\n",
       "    </tr>\n",
       "    <tr>\n",
       "      <th>major_protein_id</th>\n",
       "      <th></th>\n",
       "      <th></th>\n",
       "      <th></th>\n",
       "      <th></th>\n",
       "      <th></th>\n",
       "      <th></th>\n",
       "      <th></th>\n",
       "      <th></th>\n",
       "      <th></th>\n",
       "      <th></th>\n",
       "      <th></th>\n",
       "      <th></th>\n",
       "      <th></th>\n",
       "      <th></th>\n",
       "      <th></th>\n",
       "      <th></th>\n",
       "      <th></th>\n",
       "      <th></th>\n",
       "      <th></th>\n",
       "      <th></th>\n",
       "      <th></th>\n",
       "    </tr>\n",
       "  </thead>\n",
       "  <tbody>\n",
       "    <tr>\n",
       "      <td>A0A024RAC6;Q14241</td>\n",
       "      <td>316220000</td>\n",
       "      <td>39935000</td>\n",
       "      <td>6934100</td>\n",
       "      <td>244930000</td>\n",
       "      <td>210230000</td>\n",
       "      <td>73332000</td>\n",
       "      <td>247440000</td>\n",
       "      <td>214900000</td>\n",
       "      <td>191040000</td>\n",
       "      <td>40995000</td>\n",
       "      <td>...</td>\n",
       "      <td>133620000</td>\n",
       "      <td>66382000</td>\n",
       "      <td>53412000</td>\n",
       "      <td>63457000</td>\n",
       "      <td>180260000</td>\n",
       "      <td>165890000</td>\n",
       "      <td>285580000</td>\n",
       "      <td>6652400</td>\n",
       "      <td>0</td>\n",
       "      <td>3.006355</td>\n",
       "    </tr>\n",
       "    <tr>\n",
       "      <td>A0A087WVK0</td>\n",
       "      <td>0</td>\n",
       "      <td>0</td>\n",
       "      <td>0</td>\n",
       "      <td>0</td>\n",
       "      <td>0</td>\n",
       "      <td>0</td>\n",
       "      <td>0</td>\n",
       "      <td>0</td>\n",
       "      <td>0</td>\n",
       "      <td>0</td>\n",
       "      <td>...</td>\n",
       "      <td>83759000</td>\n",
       "      <td>0</td>\n",
       "      <td>0</td>\n",
       "      <td>27694000</td>\n",
       "      <td>42579000</td>\n",
       "      <td>0</td>\n",
       "      <td>0</td>\n",
       "      <td>0</td>\n",
       "      <td>0</td>\n",
       "      <td>1.173573</td>\n",
       "    </tr>\n",
       "    <tr>\n",
       "      <td>A0A087WXL6</td>\n",
       "      <td>700680000</td>\n",
       "      <td>219440000</td>\n",
       "      <td>0</td>\n",
       "      <td>889190000</td>\n",
       "      <td>973750000</td>\n",
       "      <td>309960000</td>\n",
       "      <td>1333900000</td>\n",
       "      <td>1891400000</td>\n",
       "      <td>924830000</td>\n",
       "      <td>248580000</td>\n",
       "      <td>...</td>\n",
       "      <td>1074200000</td>\n",
       "      <td>1675200000</td>\n",
       "      <td>288820000</td>\n",
       "      <td>465960000</td>\n",
       "      <td>2001100000</td>\n",
       "      <td>1290400000</td>\n",
       "      <td>1093200000</td>\n",
       "      <td>490430000</td>\n",
       "      <td>37127000</td>\n",
       "      <td>3.076460</td>\n",
       "    </tr>\n",
       "    <tr>\n",
       "      <td>A0A087WXP0</td>\n",
       "      <td>0</td>\n",
       "      <td>0</td>\n",
       "      <td>0</td>\n",
       "      <td>0</td>\n",
       "      <td>0</td>\n",
       "      <td>0</td>\n",
       "      <td>7085500</td>\n",
       "      <td>0</td>\n",
       "      <td>0</td>\n",
       "      <td>0</td>\n",
       "      <td>...</td>\n",
       "      <td>0</td>\n",
       "      <td>0</td>\n",
       "      <td>0</td>\n",
       "      <td>0</td>\n",
       "      <td>0</td>\n",
       "      <td>0</td>\n",
       "      <td>0</td>\n",
       "      <td>0</td>\n",
       "      <td>0</td>\n",
       "      <td>0.000000</td>\n",
       "    </tr>\n",
       "    <tr>\n",
       "      <td>A0A087X0D5;P09668</td>\n",
       "      <td>433090000</td>\n",
       "      <td>468200000</td>\n",
       "      <td>50700000</td>\n",
       "      <td>501710000</td>\n",
       "      <td>59384000</td>\n",
       "      <td>58169000</td>\n",
       "      <td>448760000</td>\n",
       "      <td>444360000</td>\n",
       "      <td>321620000</td>\n",
       "      <td>319110000</td>\n",
       "      <td>...</td>\n",
       "      <td>2348300</td>\n",
       "      <td>13203000</td>\n",
       "      <td>158760000</td>\n",
       "      <td>1852300000</td>\n",
       "      <td>2903500000</td>\n",
       "      <td>1560300000</td>\n",
       "      <td>66009000</td>\n",
       "      <td>44738000</td>\n",
       "      <td>0</td>\n",
       "      <td>2.640603</td>\n",
       "    </tr>\n",
       "    <tr>\n",
       "      <td>...</td>\n",
       "      <td>...</td>\n",
       "      <td>...</td>\n",
       "      <td>...</td>\n",
       "      <td>...</td>\n",
       "      <td>...</td>\n",
       "      <td>...</td>\n",
       "      <td>...</td>\n",
       "      <td>...</td>\n",
       "      <td>...</td>\n",
       "      <td>...</td>\n",
       "      <td>...</td>\n",
       "      <td>...</td>\n",
       "      <td>...</td>\n",
       "      <td>...</td>\n",
       "      <td>...</td>\n",
       "      <td>...</td>\n",
       "      <td>...</td>\n",
       "      <td>...</td>\n",
       "      <td>...</td>\n",
       "      <td>...</td>\n",
       "      <td>...</td>\n",
       "    </tr>\n",
       "    <tr>\n",
       "      <td>Q9Y6X9;Q9Y6X9-2</td>\n",
       "      <td>109810000</td>\n",
       "      <td>8948900</td>\n",
       "      <td>4393100</td>\n",
       "      <td>79992000</td>\n",
       "      <td>231430000</td>\n",
       "      <td>37313000</td>\n",
       "      <td>177280000</td>\n",
       "      <td>346390000</td>\n",
       "      <td>78257000</td>\n",
       "      <td>48580000</td>\n",
       "      <td>...</td>\n",
       "      <td>25757000</td>\n",
       "      <td>59749000</td>\n",
       "      <td>0</td>\n",
       "      <td>0</td>\n",
       "      <td>34256000</td>\n",
       "      <td>123280000</td>\n",
       "      <td>206560000</td>\n",
       "      <td>5721700</td>\n",
       "      <td>0</td>\n",
       "      <td>2.828573</td>\n",
       "    </tr>\n",
       "    <tr>\n",
       "      <td>Q9Y6Y0</td>\n",
       "      <td>14113000</td>\n",
       "      <td>32325000</td>\n",
       "      <td>6346500</td>\n",
       "      <td>48008000</td>\n",
       "      <td>40203000</td>\n",
       "      <td>35063000</td>\n",
       "      <td>116420000</td>\n",
       "      <td>189060000</td>\n",
       "      <td>78766000</td>\n",
       "      <td>55101000</td>\n",
       "      <td>...</td>\n",
       "      <td>0</td>\n",
       "      <td>52280000</td>\n",
       "      <td>10449000</td>\n",
       "      <td>176480000</td>\n",
       "      <td>68608000</td>\n",
       "      <td>166830000</td>\n",
       "      <td>201110000</td>\n",
       "      <td>346610000</td>\n",
       "      <td>0</td>\n",
       "      <td>2.940080</td>\n",
       "    </tr>\n",
       "    <tr>\n",
       "      <td>Q9Y6Y9</td>\n",
       "      <td>0</td>\n",
       "      <td>0</td>\n",
       "      <td>0</td>\n",
       "      <td>0</td>\n",
       "      <td>0</td>\n",
       "      <td>0</td>\n",
       "      <td>0</td>\n",
       "      <td>0</td>\n",
       "      <td>0</td>\n",
       "      <td>0</td>\n",
       "      <td>...</td>\n",
       "      <td>0</td>\n",
       "      <td>0</td>\n",
       "      <td>0</td>\n",
       "      <td>2786000</td>\n",
       "      <td>21975000</td>\n",
       "      <td>88671000</td>\n",
       "      <td>0</td>\n",
       "      <td>0</td>\n",
       "      <td>0</td>\n",
       "      <td>0.601516</td>\n",
       "    </tr>\n",
       "    <tr>\n",
       "      <td>R4GMX3</td>\n",
       "      <td>368930000</td>\n",
       "      <td>270560000</td>\n",
       "      <td>4354600</td>\n",
       "      <td>662810000</td>\n",
       "      <td>389520000</td>\n",
       "      <td>582890000</td>\n",
       "      <td>862130000</td>\n",
       "      <td>1386200000</td>\n",
       "      <td>487270000</td>\n",
       "      <td>162960000</td>\n",
       "      <td>...</td>\n",
       "      <td>604640000</td>\n",
       "      <td>397330000</td>\n",
       "      <td>76798000</td>\n",
       "      <td>591140000</td>\n",
       "      <td>1362900000</td>\n",
       "      <td>1137400000</td>\n",
       "      <td>567530000</td>\n",
       "      <td>205160000</td>\n",
       "      <td>8907400</td>\n",
       "      <td>3.082184</td>\n",
       "    </tr>\n",
       "    <tr>\n",
       "      <td>V9GZ54</td>\n",
       "      <td>13401000</td>\n",
       "      <td>0</td>\n",
       "      <td>0</td>\n",
       "      <td>0</td>\n",
       "      <td>0</td>\n",
       "      <td>0</td>\n",
       "      <td>0</td>\n",
       "      <td>0</td>\n",
       "      <td>13395000</td>\n",
       "      <td>0</td>\n",
       "      <td>...</td>\n",
       "      <td>249260000</td>\n",
       "      <td>0</td>\n",
       "      <td>227470000</td>\n",
       "      <td>56459000</td>\n",
       "      <td>95125000</td>\n",
       "      <td>205310000</td>\n",
       "      <td>0</td>\n",
       "      <td>0</td>\n",
       "      <td>0</td>\n",
       "      <td>1.788048</td>\n",
       "    </tr>\n",
       "  </tbody>\n",
       "</table>\n",
       "<p>2238 rows × 29 columns</p>\n",
       "</div>"
      ],
      "text/plain": [
       "                   NOT_BCellmemory_01  NOT_BCellnaive_01  NOT_BCellplasma_01  \\\n",
       "major_protein_id                                                               \n",
       "A0A024RAC6;Q14241           316220000           39935000             6934100   \n",
       "A0A087WVK0                          0                  0                   0   \n",
       "A0A087WXL6                  700680000          219440000                   0   \n",
       "A0A087WXP0                          0                  0                   0   \n",
       "A0A087X0D5;P09668           433090000          468200000            50700000   \n",
       "...                               ...                ...                 ...   \n",
       "Q9Y6X9;Q9Y6X9-2             109810000            8948900             4393100   \n",
       "Q9Y6Y0                       14113000           32325000             6346500   \n",
       "Q9Y6Y9                              0                  0                   0   \n",
       "R4GMX3                      368930000          270560000             4354600   \n",
       "V9GZ54                       13401000                  0                   0   \n",
       "\n",
       "                   NOT_CD4TCellmTregs_01  NOT_CD4TCellnaive_01  \\\n",
       "major_protein_id                                                 \n",
       "A0A024RAC6;Q14241              244930000             210230000   \n",
       "A0A087WVK0                             0                     0   \n",
       "A0A087WXL6                     889190000             973750000   \n",
       "A0A087WXP0                             0                     0   \n",
       "A0A087X0D5;P09668              501710000              59384000   \n",
       "...                                  ...                   ...   \n",
       "Q9Y6X9;Q9Y6X9-2                 79992000             231430000   \n",
       "Q9Y6Y0                          48008000              40203000   \n",
       "Q9Y6Y9                                 0                     0   \n",
       "R4GMX3                         662810000             389520000   \n",
       "V9GZ54                                 0                     0   \n",
       "\n",
       "                   NOT_CD4TCellnTregs_01  NOT_CD4TCellTcm_01  \\\n",
       "major_protein_id                                               \n",
       "A0A024RAC6;Q14241               73332000           247440000   \n",
       "A0A087WVK0                             0                   0   \n",
       "A0A087WXL6                     309960000          1333900000   \n",
       "A0A087WXP0                             0             7085500   \n",
       "A0A087X0D5;P09668               58169000           448760000   \n",
       "...                                  ...                 ...   \n",
       "Q9Y6X9;Q9Y6X9-2                 37313000           177280000   \n",
       "Q9Y6Y0                          35063000           116420000   \n",
       "Q9Y6Y9                                 0                   0   \n",
       "R4GMX3                         582890000           862130000   \n",
       "V9GZ54                                 0                   0   \n",
       "\n",
       "                   NOT_CD4TCellTem_01  NOT_CD4TCellTemra_01  \\\n",
       "major_protein_id                                              \n",
       "A0A024RAC6;Q14241           214900000             191040000   \n",
       "A0A087WVK0                          0                     0   \n",
       "A0A087WXL6                 1891400000             924830000   \n",
       "A0A087WXP0                          0                     0   \n",
       "A0A087X0D5;P09668           444360000             321620000   \n",
       "...                               ...                   ...   \n",
       "Q9Y6X9;Q9Y6X9-2             346390000              78257000   \n",
       "Q9Y6Y0                      189060000              78766000   \n",
       "Q9Y6Y9                              0                     0   \n",
       "R4GMX3                     1386200000             487270000   \n",
       "V9GZ54                              0              13395000   \n",
       "\n",
       "                   NOT_CD4TCellTh1_01  ...  NOT_GranulocytesBasophil_01  \\\n",
       "major_protein_id                       ...                                \n",
       "A0A024RAC6;Q14241            40995000  ...                    133620000   \n",
       "A0A087WVK0                          0  ...                     83759000   \n",
       "A0A087WXL6                  248580000  ...                   1074200000   \n",
       "A0A087WXP0                          0  ...                            0   \n",
       "A0A087X0D5;P09668           319110000  ...                      2348300   \n",
       "...                               ...  ...                          ...   \n",
       "Q9Y6X9;Q9Y6X9-2              48580000  ...                     25757000   \n",
       "Q9Y6Y0                       55101000  ...                            0   \n",
       "Q9Y6Y9                              0  ...                            0   \n",
       "R4GMX3                      162960000  ...                    604640000   \n",
       "V9GZ54                              0  ...                    249260000   \n",
       "\n",
       "                   NOT_Granulocyteseosinophils_01  \\\n",
       "major_protein_id                                    \n",
       "A0A024RAC6;Q14241                        66382000   \n",
       "A0A087WVK0                                      0   \n",
       "A0A087WXL6                             1675200000   \n",
       "A0A087WXP0                                      0   \n",
       "A0A087X0D5;P09668                        13203000   \n",
       "...                                           ...   \n",
       "Q9Y6X9;Q9Y6X9-2                          59749000   \n",
       "Q9Y6Y0                                   52280000   \n",
       "Q9Y6Y9                                          0   \n",
       "R4GMX3                                  397330000   \n",
       "V9GZ54                                          0   \n",
       "\n",
       "                   NOT_Granulocytesneutrophils_01  NOT_Monocytesclassical_01  \\\n",
       "major_protein_id                                                               \n",
       "A0A024RAC6;Q14241                        53412000                   63457000   \n",
       "A0A087WVK0                                      0                   27694000   \n",
       "A0A087WXL6                              288820000                  465960000   \n",
       "A0A087WXP0                                      0                          0   \n",
       "A0A087X0D5;P09668                       158760000                 1852300000   \n",
       "...                                           ...                        ...   \n",
       "Q9Y6X9;Q9Y6X9-2                                 0                          0   \n",
       "Q9Y6Y0                                   10449000                  176480000   \n",
       "Q9Y6Y9                                          0                    2786000   \n",
       "R4GMX3                                   76798000                  591140000   \n",
       "V9GZ54                                  227470000                   56459000   \n",
       "\n",
       "                   NOT_Monocytesintermediate_01  NOT_Monocytesnonclassical_01  \\\n",
       "major_protein_id                                                                \n",
       "A0A024RAC6;Q14241                     180260000                     165890000   \n",
       "A0A087WVK0                             42579000                             0   \n",
       "A0A087WXL6                           2001100000                    1290400000   \n",
       "A0A087WXP0                                    0                             0   \n",
       "A0A087X0D5;P09668                    2903500000                    1560300000   \n",
       "...                                         ...                           ...   \n",
       "Q9Y6X9;Q9Y6X9-2                        34256000                     123280000   \n",
       "Q9Y6Y0                                 68608000                     166830000   \n",
       "Q9Y6Y9                                 21975000                      88671000   \n",
       "R4GMX3                               1362900000                    1137400000   \n",
       "V9GZ54                                 95125000                     205310000   \n",
       "\n",
       "                   NOT_NKCellsCD56bright_01  NOT_NKCellsCD56dim_01  \\\n",
       "major_protein_id                                                     \n",
       "A0A024RAC6;Q14241                 285580000                6652400   \n",
       "A0A087WVK0                                0                      0   \n",
       "A0A087WXL6                       1093200000              490430000   \n",
       "A0A087WXP0                                0                      0   \n",
       "A0A087X0D5;P09668                  66009000               44738000   \n",
       "...                                     ...                    ...   \n",
       "Q9Y6X9;Q9Y6X9-2                   206560000                5721700   \n",
       "Q9Y6Y0                            201110000              346610000   \n",
       "Q9Y6Y9                                    0                      0   \n",
       "R4GMX3                            567530000              205160000   \n",
       "V9GZ54                                    0                      0   \n",
       "\n",
       "                   NOT_Thrombocytes_01         0  \n",
       "major_protein_id                                  \n",
       "A0A024RAC6;Q14241                    0  3.006355  \n",
       "A0A087WVK0                           0  1.173573  \n",
       "A0A087WXL6                    37127000  3.076460  \n",
       "A0A087WXP0                           0  0.000000  \n",
       "A0A087X0D5;P09668                    0  2.640603  \n",
       "...                                ...       ...  \n",
       "Q9Y6X9;Q9Y6X9-2                      0  2.828573  \n",
       "Q9Y6Y0                               0  2.940080  \n",
       "Q9Y6Y9                               0  0.601516  \n",
       "R4GMX3                         8907400  3.082184  \n",
       "V9GZ54                               0  1.788048  \n",
       "\n",
       "[2238 rows x 29 columns]"
      ]
     },
     "execution_count": 13,
     "metadata": {},
     "output_type": "execute_result"
    }
   ],
   "source": [
    "# _A.merge(gene_entropy.to_frame(),left_index=True,right_index=True)"
   ]
  },
  {
   "cell_type": "code",
   "execution_count": 37,
   "metadata": {},
   "outputs": [],
   "source": [
    "first_entropy = _A_norm.apply(lambda x:entropy(np.histogram(x,bins=15)[0]),axis=1) \n",
    "second_entropy = _A.apply(lambda x:entropy(np.histogram(x,bins=15)[0]),axis=1) "
   ]
  },
  {
   "cell_type": "code",
   "execution_count": 38,
   "metadata": {},
   "outputs": [
    {
     "name": "stdout",
     "output_type": "stream",
     "text": [
      "1.0\n",
      "0.9999999999999998\n"
     ]
    }
   ],
   "source": [
    "print(first_entropy.corr(second_entropy))\n",
    "print(first_entropy.corr(second_entropy,method=\"spearman\"))"
   ]
  },
  {
   "cell_type": "markdown",
   "metadata": {},
   "source": [
    "#### signature heatmap"
   ]
  },
  {
   "cell_type": "code",
   "execution_count": null,
   "metadata": {},
   "outputs": [],
   "source": [
    "fig,(ax1,ax2) = plt.subplots(2,1,figsize=(18, 9))\n",
    "plt.subplots_adjust(hspace=1)\n",
    "sns.heatmap(norm_filt_A,ax=ax1)\n",
    "sns.heatmap(norm_filt_B,ax=ax2)\n",
    "plt.show()\n",
    "norm_filt_A.describe()\n",
    "# norm_filt_A[[col for col in norm_filt_A.columns if \"8\" in col]].describe()\n",
    "\n",
    "# _B.loc[\"P13473\"]/_A.loc[\"P13473\"][\"NOT_Monocytesclassical_01\"]"
   ]
  },
  {
   "cell_type": "markdown",
   "metadata": {},
   "source": [
    "#### results heatmap"
   ]
  },
  {
   "cell_type": "code",
   "execution_count": null,
   "metadata": {
    "scrolled": false
   },
   "outputs": [],
   "source": [
    "res_as_cytof,sample_over_cytof_count,mass_res = cell_prop_exp._calc_and_display_with_cellmix(norm_filt_A,norm_filt_B,None,True,True,True)\n",
    "mass_results_not_none_df,cytof_not_none_count_df = ccc.return_mass_and_cytof_not_none_cells_counts(mass_res)"
   ]
  },
  {
   "cell_type": "markdown",
   "metadata": {},
   "source": [
    "#### results scatters"
   ]
  },
  {
   "cell_type": "code",
   "execution_count": null,
   "metadata": {
    "scrolled": false
   },
   "outputs": [],
   "source": [
    "cytof_plots.plot_mass_to_cytof_scatter_all_on_one(res_as_cytof,sample_over_cytof_count,mass_results_not_none_df)"
   ]
  },
  {
   "cell_type": "markdown",
   "metadata": {},
   "source": [
    "#### scatter per cell"
   ]
  },
  {
   "cell_type": "code",
   "execution_count": null,
   "metadata": {},
   "outputs": [],
   "source": [
    "cytof_plots.plot_mass_to_cytof_scatter_per_cell(res_as_cytof,sample_over_cytof_count,mass_results_not_none_df)\n"
   ]
  },
  {
   "cell_type": "markdown",
   "metadata": {
    "heading_collapsed": true
   },
   "source": [
    "### entropy base - only largest among all cells"
   ]
  },
  {
   "cell_type": "code",
   "execution_count": null,
   "metadata": {
    "code_folding": [
     8
    ],
    "hidden": true,
    "scrolled": true
   },
   "outputs": [],
   "source": [
    "def pp_entropy_largest_among_cells(A,B,n_genes_per_cell = 20,gene_entropy_trh=0.001,with_norm=True) : \n",
    "    _A_norm = _A.div(_A.sum(axis=1), axis=0)\n",
    "    gene_entropy = _A_norm.apply(lambda gene_dis: entropy(gene_dis), axis=1)\n",
    "\n",
    "    cell_to_list_of_max_genes = {}\n",
    "    for protein,cell in  _A.idxmax(axis=1).to_dict().items() : \n",
    "        if cell in cell_to_list_of_max_genes.keys():\n",
    "            cell_to_list_of_max_genes[cell].append(protein)\n",
    "        else : \n",
    "            cell_to_list_of_max_genes[cell] = [] \n",
    "\n",
    "    list_of_genes_list = []\n",
    "\n",
    "    for cell in _A.columns:\n",
    "        _n_genes_per_cell = n_genes_per_cell\n",
    "        cell_relvent_gene_entropy = gene_entropy[_A_norm[_A_norm[cell] > 0].index]\n",
    "        cell_relvent_gene_entropy = cell_relvent_gene_entropy.loc[cell_to_list_of_max_genes[cell]].dropna()\n",
    "        #takse genes with zero entropy and the largest values\n",
    "        zero_entropy_genes = _A[cell].loc[cell_relvent_gene_entropy[cell_relvent_gene_entropy == 0].index]\n",
    "        best_zero_entropy_genes = zero_entropy_genes.nlargest(_n_genes_per_cell).index\n",
    "\n",
    "        best_genes_idx = best_zero_entropy_genes\n",
    "        #how much genes we still need - \n",
    "        _n_genes_per_cell = _n_genes_per_cell - best_zero_entropy_genes.shape[0]\n",
    "        trh = gene_entropy_trh\n",
    "        \n",
    "        while best_genes_idx.shape[0] <  _n_genes_per_cell  :\n",
    "            low_quantile_entropy_genes = _A[cell].loc[cell_relvent_gene_entropy[(cell_relvent_gene_entropy < cell_relvent_gene_entropy.quantile(trh)) & (cell_relvent_gene_entropy >0)].index]\n",
    "            best_quantile_entropy_genes = low_quantile_entropy_genes.nlargest(_n_genes_per_cell).index\n",
    "            best_genes_idx = best_genes_idx.union(best_quantile_entropy_genes)\n",
    "            trh=trh+gene_entropy_trh\n",
    "            if trh > 1 :\n",
    "                print(cell)\n",
    "                break\n",
    "        \n",
    "        trh = gene_entropy_trh\n",
    "        cell_relvent_gene_entropy = gene_entropy[_A_norm[_A_norm[cell] > 0].index]\n",
    "        while best_genes_idx.shape[0] <  _n_genes_per_cell  :\n",
    "            low_quantile_entropy_genes = _A[cell].loc[cell_relvent_gene_entropy[(cell_relvent_gene_entropy < cell_relvent_gene_entropy.quantile(trh)) & (cell_relvent_gene_entropy >0)].index]\n",
    "            best_quantile_entropy_genes = low_quantile_entropy_genes.nlargest(_n_genes_per_cell).index\n",
    "            best_genes_idx = best_genes_idx.union(best_quantile_entropy_genes)\n",
    "            trh=trh+gene_entropy_trh\n",
    "            if trh > 1 :\n",
    "                print(cell)\n",
    "                break\n",
    "\n",
    "                \n",
    "        list_of_genes_list.append(best_genes_idx)\n",
    "\n",
    "    genes_list_idx = reduce(lambda x, y: x.union(y), list_of_genes_list)\n",
    "\n",
    "    filt_A = _A.copy(deep=True).loc[genes_list_idx]\n",
    "    filt_B = _B.copy(deep=True).loc[genes_list_idx]\n",
    "    \n",
    "    if not with_norm : \n",
    "        return filt_A,filt_B\n",
    "    else : \n",
    "        norm_filt_A = filt_A.div(filt_A.max(axis=1), axis=0)\n",
    "        norm_filt_B = filt_B.div(filt_A.max(axis=1), axis=0)\n",
    "    return norm_filt_A,norm_filt_B\n",
    "\n",
    "filt_A = A.copy(deep=True)\n",
    "filt_A = filt_A[filt_A >filt_A.quantile(0.7)].fillna(0)\n",
    "_A, _B = PP_proteins.pp_clean_irrelevant_proteins(A.copy(deep=True), B.copy(deep=True))\n",
    "norm_filt_A,norm_filt_B = pp_entropy_largest_among_cells(filt_A, _B)"
   ]
  },
  {
   "cell_type": "markdown",
   "metadata": {
    "hidden": true
   },
   "source": [
    "#### signature heatmap"
   ]
  },
  {
   "cell_type": "code",
   "execution_count": null,
   "metadata": {
    "hidden": true
   },
   "outputs": [],
   "source": [
    "fig,(ax1,ax2) = plt.subplots(2,1,figsize=(18, 9))\n",
    "plt.subplots_adjust(hspace=1)\n",
    "sns.heatmap(norm_filt_A,ax=ax1)\n",
    "sns.heatmap(norm_filt_B,ax=ax2)\n",
    "plt.show()\n",
    "norm_filt_A.describe()\n",
    "pd.set_option('display.max_columns', None)\n",
    "\n",
    "# norm_filt_A[[col for col in norm_filt_A.columns if \"8\" in col]].describe()\n",
    "\n",
    "# _B.loc[\"P13473\"]/_A.loc[\"P13473\"][\"NOT_Monocytesclassical_01\"]"
   ]
  },
  {
   "cell_type": "markdown",
   "metadata": {
    "hidden": true
   },
   "source": [
    "#### results heatmap"
   ]
  },
  {
   "cell_type": "code",
   "execution_count": null,
   "metadata": {
    "hidden": true,
    "scrolled": false
   },
   "outputs": [],
   "source": [
    "res_as_cytof,sample_over_cytof_count,mass_res = cell_prop_exp._calc_and_display_with_cellmix(norm_filt_A,norm_filt_B,None,True,True,True)\n",
    "mass_results_not_none_df,cytof_not_none_count_df = ccc.return_mass_and_cytof_not_none_cells_counts(mass_res)"
   ]
  },
  {
   "cell_type": "markdown",
   "metadata": {
    "hidden": true
   },
   "source": [
    "#### results scatters"
   ]
  },
  {
   "cell_type": "code",
   "execution_count": null,
   "metadata": {
    "hidden": true,
    "scrolled": false
   },
   "outputs": [],
   "source": [
    "cytof_plots.plot_mass_to_cytof_scatter_all_on_one(res_as_cytof,sample_over_cytof_count,mass_results_not_none_df)"
   ]
  },
  {
   "cell_type": "markdown",
   "metadata": {
    "hidden": true
   },
   "source": [
    "#### scatter per cell"
   ]
  },
  {
   "cell_type": "code",
   "execution_count": null,
   "metadata": {
    "hidden": true
   },
   "outputs": [],
   "source": [
    "cytof_plots.plot_mass_to_cytof_scatter_per_cell(res_as_cytof,sample_over_cytof_count,mass_results_not_none_df)\n"
   ]
  },
  {
   "cell_type": "markdown",
   "metadata": {
    "heading_collapsed": true
   },
   "source": [
    "###  svm"
   ]
  },
  {
   "cell_type": "code",
   "execution_count": null,
   "metadata": {
    "hidden": true
   },
   "outputs": [],
   "source": [
    "data_factory = DataFactory()\n",
    "A_all_vs,B_all_vs = data_factory.load_IBD_all_vs(\"Intensity\",index_func=lambda x:x.split(\";\")[0],log2_transformation=True)"
   ]
  },
  {
   "cell_type": "code",
   "execution_count": null,
   "metadata": {
    "hidden": true
   },
   "outputs": [],
   "source": [
    "cell_prop_exp = CellProportionsExperiments()"
   ]
  },
  {
   "cell_type": "code",
   "execution_count": null,
   "metadata": {
    "hidden": true
   },
   "outputs": [],
   "source": [
    "from sklearn.svm import LinearSVC\n",
    "clf = LinearSVC(multi_class=\"crammer_singer\")"
   ]
  },
  {
   "cell_type": "code",
   "execution_count": null,
   "metadata": {
    "hidden": true
   },
   "outputs": [],
   "source": [
    "samples = _A.copy().T"
   ]
  },
  {
   "cell_type": "code",
   "execution_count": null,
   "metadata": {
    "hidden": true,
    "scrolled": false
   },
   "outputs": [],
   "source": [
    "_A, _B = PP_proteins.pp_clean_irrelevant_proteins(A_all_vs.copy(deep=True), B_all_vs.copy(deep=True))\n",
    "\n",
    "list_of_genes_list = []\n",
    "\n",
    "n_features = 20\n",
    "samples = _A.copy().T\n",
    "\n",
    "clf.fit(samples,[s.split(\"_0\")[0] for s in samples.index])\n",
    "# for cell in set(samples.index.map(lambda x:x.split(\"_0\")[0])) :\n",
    "#     y = pd.Series(index = samples.index,data = 0 )\n",
    "#     y.loc[y.index.map(lambda x:cell in x)] = 1\n",
    "\n",
    "#     model_res = clf.fit(samples,y)\n",
    "#     list_of_genes_list.append(pd.Series(abs(model_res.coef_[0]), index=samples.columns).nlargest(n_features).index)\n",
    "\n",
    "# genes_list_idx = reduce(lambda x, y: x.union(y), list_of_genes_list)\n",
    "\n",
    "# filt_A = _A.copy(deep=True).loc[genes_list_idx]\n",
    "# filt_B = _B.copy(deep=True).loc[genes_list_idx]\n",
    "\n",
    "# norm_filt_A = filt_A.div(filt_A.max(axis=1), axis=0)\n",
    "# norm_filt_B = filt_B.div(filt_A.max(axis=1), axis=0)"
   ]
  },
  {
   "cell_type": "code",
   "execution_count": null,
   "metadata": {
    "hidden": true
   },
   "outputs": [],
   "source": [
    "clf.coef_.shape"
   ]
  },
  {
   "cell_type": "code",
   "execution_count": null,
   "metadata": {
    "hidden": true
   },
   "outputs": [],
   "source": [
    "len(samples.index.to_list())"
   ]
  },
  {
   "cell_type": "code",
   "execution_count": null,
   "metadata": {
    "hidden": true
   },
   "outputs": [],
   "source": [
    "norm_filt_A"
   ]
  },
  {
   "cell_type": "markdown",
   "metadata": {
    "heading_collapsed": true,
    "hidden": true
   },
   "source": [
    "#### signature heatmap"
   ]
  },
  {
   "cell_type": "code",
   "execution_count": null,
   "metadata": {
    "hidden": true
   },
   "outputs": [],
   "source": [
    "fig,(ax1,ax2) = plt.subplots(2,1,figsize=(18, 9))\n",
    "plt.subplots_adjust(hspace=1)\n",
    "sns.heatmap(norm_filt_A,ax=ax1)\n",
    "sns.heatmap(norm_filt_B,ax=ax2)\n",
    "plt.show()\n",
    "norm_filt_A.describe()\n",
    "# norm_filt_A[[col for col in norm_filt_A.columns if \"8\" in col]].describe()\n",
    "\n",
    "# _B.loc[\"P13473\"]/_A.loc[\"P13473\"][\"NOT_Monocytesclassical_01\"]"
   ]
  },
  {
   "cell_type": "markdown",
   "metadata": {
    "heading_collapsed": true,
    "hidden": true
   },
   "source": [
    "#### results heatmap"
   ]
  },
  {
   "cell_type": "code",
   "execution_count": null,
   "metadata": {
    "hidden": true
   },
   "outputs": [],
   "source": [
    "res_as_cytof,sample_over_cytof_count,mass_res = cell_prop_exp._calc_and_display_with_cellmix(norm_filt_A,norm_filt_B,None,True,True,True)\n",
    "mass_results_not_none_df,_ = ccc.return_mass_and_cytof_not_none_cells_counts(mass_res)"
   ]
  },
  {
   "cell_type": "markdown",
   "metadata": {
    "heading_collapsed": true,
    "hidden": true
   },
   "source": [
    "#### results scatters"
   ]
  },
  {
   "cell_type": "code",
   "execution_count": null,
   "metadata": {
    "hidden": true,
    "scrolled": false
   },
   "outputs": [],
   "source": [
    "cytof_plots.plot_mass_to_cytof_scatter_all_on_one(res_as_cytof,sample_over_cytof_count,mass_results_not_none_df)"
   ]
  },
  {
   "cell_type": "markdown",
   "metadata": {
    "hidden": true
   },
   "source": [
    "#### scatter per cell"
   ]
  },
  {
   "cell_type": "code",
   "execution_count": null,
   "metadata": {
    "hidden": true,
    "scrolled": true
   },
   "outputs": [],
   "source": [
    "cytof_plots.plot_mass_to_cytof_scatter_per_cell(res_as_cytof,sample_over_cytof_count,mass_results_not_none_df)\n"
   ]
  },
  {
   "cell_type": "markdown",
   "metadata": {
    "heading_collapsed": true
   },
   "source": [
    "### both"
   ]
  },
  {
   "cell_type": "code",
   "execution_count": null,
   "metadata": {
    "code_folding": [],
    "hidden": true
   },
   "outputs": [],
   "source": [
    "_A, _B = PP_proteins.pp_clean_irrelevant_proteins(A.copy(deep=True), B.copy(deep=True))\n",
    "\n",
    "_A_norm = _A.div(_A.sum(axis=1), axis=0)\n",
    "gene_entropy = _A_norm.apply(lambda gene_dis: entropy(gene_dis), axis=1)\n",
    "\n",
    "gene_entropy_trh = 0.001\n",
    "\n",
    "list_of_genes_list = []\n",
    "\n",
    "for cell in _A.columns:\n",
    "    n_genes_per_cell = 150\n",
    "    cell_relvent_gene_entropy = gene_entropy[_A_norm[_A_norm[cell] > 0].index]\n",
    "    #takse genes with zero entropy and the largest values\n",
    "    zero_entropy_genes = _A[cell].loc[cell_relvent_gene_entropy[cell_relvent_gene_entropy == 0].index]\n",
    "    best_zero_entropy_genes = zero_entropy_genes.nlargest(n_genes_per_cell).index\n",
    "    \n",
    "    best_genes_idx = best_zero_entropy_genes\n",
    "    #how much genes we still need - \n",
    "    n_genes_per_cell = n_genes_per_cell - best_zero_entropy_genes.shape[0]\n",
    "    trh = gene_entropy_trh\n",
    "    while best_genes_idx.shape[0] <  n_genes_per_cell  :\n",
    "        low_quantile_entropy_genes = _A[cell].loc[cell_relvent_gene_entropy[(cell_relvent_gene_entropy < cell_relvent_gene_entropy.quantile(trh)) & (cell_relvent_gene_entropy >0)].index]\n",
    "        best_quantile_entropy_genes = low_quantile_entropy_genes.nlargest(n_genes_per_cell).index\n",
    "        best_genes_idx = best_genes_idx.union(best_quantile_entropy_genes)\n",
    "        trh=trh+gene_entropy_trh\n",
    "\n",
    "    list_of_genes_list.append(best_genes_idx)\n",
    "     \n",
    "    list_of_genes_list.append(best_genes_idx)\n",
    "\n",
    "genes_list_idx = reduce(lambda x, y: x.union(y), list_of_genes_list)\n",
    "\n",
    "_A, _B = _A.loc[genes_list_idx],_B.loc[genes_list_idx]\n",
    "\n",
    "list_of_genes_list = []\n",
    "\n",
    "n_features = 20\n",
    "samples = _A.copy().T\n",
    "for cell in samples.index:\n",
    "    y = pd.Series(index = samples.index,data =0 )\n",
    "    y.loc[cell] = 1\n",
    "    \n",
    "    model_res = clf.fit(samples,y)\n",
    "    list_of_genes_list.append(pd.Series(abs(model_res.coef_[0]), index=samples.columns).nlargest(n_features).index)\n",
    "\n",
    "genes_list_idx = reduce(lambda x, y: x.union(y), list_of_genes_list)\n",
    "\n",
    "filt_A = _A.copy(deep=True).loc[genes_list_idx]\n",
    "filt_B = _B.copy(deep=True).loc[genes_list_idx]\n",
    "\n",
    "norm_filt_A = filt_A.div(filt_A.max(axis=1), axis=0)\n",
    "norm_filt_B = filt_B.div(filt_A.max(axis=1), axis=0)\n"
   ]
  },
  {
   "cell_type": "markdown",
   "metadata": {
    "hidden": true
   },
   "source": [
    "#### signature heatmap"
   ]
  },
  {
   "cell_type": "code",
   "execution_count": null,
   "metadata": {
    "hidden": true
   },
   "outputs": [],
   "source": [
    "fig,(ax1,ax2) = plt.subplots(2,1,figsize=(18, 9))\n",
    "plt.subplots_adjust(hspace=1)\n",
    "sns.heatmap(norm_filt_A,ax=ax1)\n",
    "sns.heatmap(norm_filt_B,ax=ax2)\n",
    "plt.show()\n",
    "norm_filt_A.describe()\n",
    "# norm_filt_A[[col for col in norm_filt_A.columns if \"8\" in col]].describe()\n",
    "\n",
    "# _B.loc[\"P13473\"]/_A.loc[\"P13473\"][\"NOT_Monocytesclassical_01\"]"
   ]
  },
  {
   "cell_type": "markdown",
   "metadata": {
    "heading_collapsed": true,
    "hidden": true
   },
   "source": [
    "#### results heatmap"
   ]
  },
  {
   "cell_type": "code",
   "execution_count": null,
   "metadata": {
    "hidden": true
   },
   "outputs": [],
   "source": [
    "res_as_cytof,sample_over_cytof_count,mass_res = cell_prop_exp._calc_and_display_with_cellmix(norm_filt_A,norm_filt_B,None,True,True,True)\n",
    "mass_results_not_none_df,_ = ccc.return_mass_and_cytof_not_none_cells_counts(mass_res)"
   ]
  },
  {
   "cell_type": "markdown",
   "metadata": {
    "hidden": true
   },
   "source": [
    "#### results scatters"
   ]
  },
  {
   "cell_type": "code",
   "execution_count": null,
   "metadata": {
    "hidden": true
   },
   "outputs": [],
   "source": [
    "cytof_plots.plot_mass_to_cytof_scatter_all_on_one(res_as_cytof,sample_over_cytof_count,mass_results_not_none_df)"
   ]
  },
  {
   "cell_type": "markdown",
   "metadata": {
    "hidden": true
   },
   "source": [
    "#### scatter per cell"
   ]
  },
  {
   "cell_type": "code",
   "execution_count": null,
   "metadata": {
    "hidden": true
   },
   "outputs": [],
   "source": [
    "cytof_plots.plot_mass_to_cytof_scatter_per_cell(res_as_cytof,sample_over_cytof_count,mass_results_not_none_df)\n"
   ]
  },
  {
   "cell_type": "markdown",
   "metadata": {
    "heading_collapsed": true
   },
   "source": [
    "### entropy with const sum per cell   "
   ]
  },
  {
   "cell_type": "code",
   "execution_count": null,
   "metadata": {
    "hidden": true,
    "scrolled": false
   },
   "outputs": [],
   "source": [
    "_A, _B = PP_proteins.pp_clean_irrelevant_proteins(A.copy(deep=True), B.copy(deep=True))\n",
    "\n",
    "_A_norm = _A.div(_A.sum(axis=1), axis=0)\n",
    "gene_entropy = _A_norm.apply(lambda gene_dis: entropy(gene_dis), axis=1)\n",
    "\n",
    "gene_entropy_trh = 0.01\n",
    "\n",
    "list_of_genes_list = []\n",
    "\n",
    "percentage_of_amplitude = 0.0001\n",
    "a_required_amplitude = percentage_of_amplitude * _A.sum().mean()\n",
    "b_required_amplitude = percentage_of_amplitude * _B.sum().mean()\n",
    "    \n",
    "for cell in _A.columns:\n",
    "    cell_relvent_gene_entropy = gene_entropy[_A_norm[_A_norm[cell] > 0].index]\n",
    "    #takse genes with zero entropy and the largest values\n",
    "    zero_entropy_genes = _A[cell].loc[cell_relvent_gene_entropy[cell_relvent_gene_entropy == 0].index]\n",
    "    best_zero_entropy_genes = zero_entropy_genes.index\n",
    "    \n",
    "    best_genes_idx = best_zero_entropy_genes\n",
    "    #how much genes we still need - \n",
    "\n",
    "    trh = gene_entropy_trh\n",
    "    while ((_B.loc[best_genes_idx].sum().mean() <  b_required_amplitude) & (_A[cell].loc[best_genes_idx].sum() <  a_required_amplitude))  :\n",
    "        low_quantile_entropy_genes = _A[cell].loc[cell_relvent_gene_entropy[(cell_relvent_gene_entropy < cell_relvent_gene_entropy.quantile(trh)) & (cell_relvent_gene_entropy >0)].index]\n",
    "        best_quantile_entropy_genes = low_quantile_entropy_genes.index\n",
    "        best_genes_idx = best_genes_idx.union(best_quantile_entropy_genes)\n",
    "        trh=trh+gene_entropy_trh\n",
    "    list_of_genes_list.append(best_genes_idx)\n",
    "\n",
    "genes_list_idx = reduce(lambda x, y: x.union(y), list_of_genes_list)\n",
    "\n",
    "filt_A = _A.copy(deep=True).loc[genes_list_idx]\n",
    "filt_B = _B.copy(deep=True).loc[genes_list_idx]\n",
    "\n",
    "norm_filt_A = filt_A.div(filt_A.max(axis=1), axis=0)\n",
    "norm_filt_B = filt_B.div(filt_A.max(axis=1), axis=0)"
   ]
  },
  {
   "cell_type": "markdown",
   "metadata": {
    "hidden": true
   },
   "source": [
    "#### signature heatmap"
   ]
  },
  {
   "cell_type": "code",
   "execution_count": null,
   "metadata": {
    "hidden": true
   },
   "outputs": [],
   "source": [
    "fig,(ax1,ax2) = plt.subplots(2,1,figsize=(18, 9))\n",
    "plt.subplots_adjust(hspace=1)\n",
    "sns.heatmap(norm_filt_A,ax=ax1)\n",
    "sns.heatmap(norm_filt_B,ax=ax2)\n",
    "plt.show()\n",
    "norm_filt_A.describe()\n",
    "# norm_filt_A[[col for col in norm_filt_A.columns if \"8\" in col]].describe()\n",
    "\n",
    "# _B.loc[\"P13473\"]/_A.loc[\"P13473\"][\"NOT_Monocytesclassical_01\"]"
   ]
  },
  {
   "cell_type": "markdown",
   "metadata": {
    "hidden": true
   },
   "source": [
    "#### results heatmap"
   ]
  },
  {
   "cell_type": "code",
   "execution_count": null,
   "metadata": {
    "hidden": true,
    "scrolled": false
   },
   "outputs": [],
   "source": [
    "res_as_cytof,sample_over_cytof_count,mass_res = cell_prop_exp._calc_and_display_with_cellmix(norm_filt_A,norm_filt_B,None,True,True,True)\n",
    "mass_results_not_none_df,cytof_not_none_count_df = ccc.return_mass_and_cytof_not_none_cells_counts(mass_res)"
   ]
  },
  {
   "cell_type": "markdown",
   "metadata": {
    "hidden": true
   },
   "source": [
    "#### results scatters"
   ]
  },
  {
   "cell_type": "code",
   "execution_count": null,
   "metadata": {
    "hidden": true,
    "scrolled": false
   },
   "outputs": [],
   "source": [
    "cytof_plots.plot_mass_to_cytof_scatter_all_on_one(res_as_cytof,sample_over_cytof_count,mass_results_not_none_df)"
   ]
  },
  {
   "cell_type": "markdown",
   "metadata": {
    "hidden": true
   },
   "source": [
    "#### scatter per cell"
   ]
  },
  {
   "cell_type": "code",
   "execution_count": null,
   "metadata": {
    "hidden": true
   },
   "outputs": [],
   "source": [
    "cytof_plots.plot_mass_to_cytof_scatter_per_cell(res_as_cytof,sample_over_cytof_count,mass_results_not_none_df)\n"
   ]
  },
  {
   "cell_type": "markdown",
   "metadata": {},
   "source": [
    "### only zero entropy"
   ]
  },
  {
   "cell_type": "code",
   "execution_count": null,
   "metadata": {},
   "outputs": [],
   "source": [
    "_A, _B = PP_proteins.pp_clean_irrelevant_proteins(A.copy(deep=True), B.copy(deep=True))\n",
    "_A_norm = _A.div(_A.sum(axis=1),axis=0)\n",
    "\n",
    "only_zero_entropy = _A[_A_norm.apply(lambda gene_dis:entropy(gene_dis),axis=1)==0]\n",
    "\n",
    "_filt_A = _A.loc[only_zero_entropy.index]\n",
    "_filt_B =_B.loc[only_zero_entropy.index]\n",
    "\n",
    "# non_zero_cells = _filt_A.loc[:, (_filt_A != 0).any(axis=0)].columns\n",
    "# _filt_A = _filt_A[non_zero_cells.tolist()]"
   ]
  },
  {
   "cell_type": "markdown",
   "metadata": {
    "heading_collapsed": true
   },
   "source": [
    "#### signature heatmap"
   ]
  },
  {
   "cell_type": "code",
   "execution_count": null,
   "metadata": {
    "hidden": true
   },
   "outputs": [],
   "source": [
    "fig,(ax1,ax2) = plt.subplots(2,1,figsize=(18, 9))\n",
    "plt.subplots_adjust(hspace=1)\n",
    "sns.heatmap(_filt_A.loc[:, (_filt_A != 0).any(axis=0)],ax=ax1)\n",
    "sns.heatmap(_filt_B,ax=ax2)\n",
    "plt.show()\n",
    "_filt_A.loc[:, (_filt_A != 0).any(axis=0)].describe()\n",
    "\n",
    "\n",
    "# norm_filt_A[[col for col in norm_filt_A.columns if \"8\" in col]].describe()\n",
    "\n",
    "# _B.loc[\"P13473\"]/_A.loc[\"P13473\"][\"NOT_Monocytesclassical_01\"]"
   ]
  },
  {
   "cell_type": "markdown",
   "metadata": {},
   "source": [
    "#### results heatmap"
   ]
  },
  {
   "cell_type": "code",
   "execution_count": null,
   "metadata": {
    "scrolled": false
   },
   "outputs": [],
   "source": [
    "res_as_cytof,sample_over_cytof_count,mass_res = cell_prop_exp._calc_and_display_with_cellmix(_filt_A,_filt_B,None,True,True,True,normalize = True)\n",
    "mass_results_not_none_df,cytof_not_none_count_df = ccc.return_mass_and_cytof_not_none_cells_counts(mass_res)"
   ]
  },
  {
   "cell_type": "markdown",
   "metadata": {},
   "source": [
    "#### results scatters"
   ]
  },
  {
   "cell_type": "code",
   "execution_count": null,
   "metadata": {
    "scrolled": false
   },
   "outputs": [],
   "source": [
    "cytof_plots.plot_mass_to_cytof_scatter_all_on_one(res_as_cytof,sample_over_cytof_count,mass_results_not_none_df)"
   ]
  },
  {
   "cell_type": "markdown",
   "metadata": {},
   "source": [
    "#### scatter per cell"
   ]
  },
  {
   "cell_type": "code",
   "execution_count": null,
   "metadata": {},
   "outputs": [],
   "source": [
    "cytof_plots.plot_mass_to_cytof_scatter_per_cell(res_as_cytof,sample_over_cytof_count,mass_results_not_none_df)"
   ]
  }
 ],
 "metadata": {
  "hide_input": false,
  "kernelspec": {
   "display_name": "Python 3",
   "language": "python",
   "name": "python3"
  },
  "language_info": {
   "codemirror_mode": {
    "name": "ipython",
    "version": 3
   },
   "file_extension": ".py",
   "mimetype": "text/x-python",
   "name": "python",
   "nbconvert_exporter": "python",
   "pygments_lexer": "ipython3",
   "version": "3.6.5"
  },
  "toc": {
   "base_numbering": 1,
   "nav_menu": {},
   "number_sections": true,
   "sideBar": true,
   "skip_h1_title": false,
   "title_cell": "Table of Contents",
   "title_sidebar": "Contents",
   "toc_cell": false,
   "toc_position": {},
   "toc_section_display": true,
   "toc_window_display": false
  }
 },
 "nbformat": 4,
 "nbformat_minor": 2
}
