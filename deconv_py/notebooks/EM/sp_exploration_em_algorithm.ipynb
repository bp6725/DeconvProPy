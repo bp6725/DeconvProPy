{
 "cells": [
  {
   "cell_type": "markdown",
   "metadata": {},
   "source": [
    "# INIT"
   ]
  },
  {
   "cell_type": "code",
   "execution_count": 1,
   "metadata": {},
   "outputs": [],
   "source": [
    "import sys\n",
    "sys.path.append('../../deconv_py/')\n",
    "sys.path.append('../infras/cellMix/')\n",
    "sys.path.append('../infras/cytof_data/')\n",
    "sys.path.append('../infras/ctpnet/')\n",
    "sys.path.append('../infras/')\n",
    "sys.path.append('../infras/dashboards/')\n",
    "sys.path.append('../experiments/')\n",
    "sys.path.append('../experiments/pipeline/')\n",
    "sys.path.append('../preprocess/intra_variance/')\n",
    "sys.path.append('../models/cell_proportions/')\n",
    "sys.path.append('../measures/cell_proportions_measures/')\n",
    "sys.path.append('../preprocess/cell_specifics/')\n",
    "sys.path.append('../preprocess/data_sets/')\n"
   ]
  },
  {
   "cell_type": "code",
   "execution_count": 15,
   "metadata": {},
   "outputs": [
    {
     "name": "stdout",
     "output_type": "stream",
     "text": [
      "{\n",
      "  \"shell_port\": 64442,\n",
      "  \"iopub_port\": 64443,\n",
      "  \"stdin_port\": 64444,\n",
      "  \"control_port\": 64445,\n",
      "  \"hb_port\": 64446,\n",
      "  \"ip\": \"127.0.0.1\",\n",
      "  \"key\": \"19fbd0c4-1a8d884f19609c05bb6bd385\",\n",
      "  \"transport\": \"tcp\",\n",
      "  \"signature_scheme\": \"hmac-sha256\",\n",
      "  \"kernel_name\": \"\"\n",
      "}\n",
      "\n",
      "Paste the above JSON into a file, and connect with:\n",
      "    $> jupyter <app> --existing <file>\n",
      "or, if you are local, you can connect with just:\n",
      "    $> jupyter <app> --existing kernel-4172cf43-8047-40c8-97e3-814cacd997e9.json\n",
      "or even just:\n",
      "    $> jupyter <app> --existing\n",
      "if this is the most recent Jupyter kernel you have started.\n"
     ]
    }
   ],
   "source": [
    "from data_factory import DataFactory\n",
    "from global_utils import GlobalUtils\n",
    "from cytof_cell_count_infra import CytofCellCountInfra\n",
    "from cell_proportions_experiments import  CellProportionsExperiments\n",
    "import exploration_cytof_plots as cytof_plots\n",
    "\n",
    "from pp_entropy_based import PpEntropyBased\n",
    "from pp_dep_de_based import  PpDepDeBased\n",
    "from cell_proportions_measure import CellProportionsMeasure\n",
    "from pp_clean_high_intra_var import PpCleanHighIntraVar\n",
    "from pp_clean_irrelevant_proteins import PpCleanIrrelevantProteins\n",
    "from pp_empty import PpEmpty\n",
    "from pp_entropy_based_only_largest import PpEntropyBasedOnlyLargest\n",
    "from aggregate_intra_variance import AggregateIntraVariance\n",
    "from pipeline_deconv import PipelineDeconv\n",
    "from deconv_py.preprocess.base import BasePreprocess as PP_base\n",
    "from deconv_py.preprocess.cell_specific import CellSpecific as PP_proteins\n",
    "from deconv_py.preprocess.cell_specifics.pp_svm_signature import PpSvmSignature\n",
    "from deconv_py.preprocess.cell_specifics.pp_entropy_based_totel_sum import PpEntropyBasedTotelSum\n",
    "from deconv_py.preprocess.cell_specifics.pp_floor_under_quantile import PpFloorUnderQuantile\n",
    "from pick_data_set import PickDataSet\n",
    "# from deconvolution_results_plots import DeconvolutionResultsPlots\n",
    "\n",
    "from basic import BasicDeconv\n",
    "from regression import RegressionDeconv\n",
    "from generalized_estimating_equations import GeneralizedEstimatingEquations\n",
    "from robust_linear_model import RobustLinearModel\n",
    "\n",
    "\n",
    "from pp_keep_specific_cells  import  PpKeepSpecificCells\n",
    "from pp_agg_to_specific_cells import PpAggToSpecificCells\n",
    "\n",
    "# from deconv_py.infras.data_factory import DataFactory\n",
    "from deconv_py.infras.data_loader import DataLoader\n",
    "from deconv_py.models.base import Base as Models_base\n",
    "from deconv_py.models.cell_proportions_models import CellProportions\n",
    "from deconv_py.models.cell_specific_models import CellSpecificPerPermutation\n",
    "from deconv_py.experiments.cell_specific import CellSpecificMetricsPlot\n",
    "from cellMix_coordinator import CellMixCoordinator\n",
    "\n",
    "from infras.ctpnet.ctpnet_coordinator import CtpNetCoordinator\n",
    "\n",
    "\n",
    "import pandas as pd\n",
    "import numpy as np\n",
    "from functools import partial\n",
    "import multiprocessing\n",
    "from sklearn import pipeline\n",
    "import itertools\n",
    "from scipy.optimize import least_squares\n",
    "from sklearn.metrics import mean_squared_error\n",
    "from functools import partial\n",
    "from scipy.optimize import minimize\n",
    "import scipy.optimize\n",
    "from itertools import combinations\n",
    "import matplotlib.pyplot as plt\n",
    "import seaborn as sns\n",
    "import pprint\n",
    "import os\n",
    "import pickle as pkl \n",
    "from sklearn.decomposition import PCA\n",
    "from IPython.display import display, HTML\n",
    "import statsmodels.api as sm\n",
    "from scipy.cluster.hierarchy import linkage, fcluster\n",
    "from scipy.spatial.distance import squareform\n",
    "\n",
    "\n",
    "%connect_info"
   ]
  },
  {
   "cell_type": "code",
   "execution_count": 43,
   "metadata": {},
   "outputs": [],
   "source": [
    "import snakeviz\n",
    "%load_ext snakeviz\n"
   ]
  },
  {
   "cell_type": "markdown",
   "metadata": {},
   "source": [
    "# build data for test"
   ]
  },
  {
   "cell_type": "markdown",
   "metadata": {},
   "source": [
    "## signature"
   ]
  },
  {
   "cell_type": "code",
   "execution_count": 16,
   "metadata": {},
   "outputs": [
    {
     "name": "stderr",
     "output_type": "stream",
     "text": [
      "C:\\ProgramData\\Anaconda3\\lib\\site-packages\\ipykernel_launcher.py:2: DtypeWarning: Columns (5,6,2764,2765,2773,2774,2775,2776) have mixed types. Specify dtype option on import or set low_memory=False.\n",
      "  \n"
     ]
    }
   ],
   "source": [
    "data_factory = DataFactory()\n",
    "A_all_vs,B_all_vs = data_factory.load_IBD_all_vs(\"Intensity\",index_func=lambda x:x.split(\";\")[0],log2_transformation=True)\n"
   ]
  },
  {
   "cell_type": "code",
   "execution_count": 17,
   "metadata": {},
   "outputs": [],
   "source": [
    "spec_cells = PpKeepSpecificCells()\n",
    "agg_iv,pp_irl_prot  = AggregateIntraVariance(),PpCleanIrrelevantProteins()\n",
    "pp_chiv = PpCleanHighIntraVar()\n",
    "\n",
    "steps_all_cells = [(\"kepp_specific_cells\",spec_cells),(\"cleanHighIntraVariance\",pp_chiv),\n",
    "                  (\"AggregateIntraVariance\",agg_iv),(\"cleen_irrelevant_proteins\",pp_irl_prot)]\n",
    "\n",
    "_params = {\"cleanHighIntraVariance__how\":\"std\",\"cleanHighIntraVariance__std_trh\":4,\n",
    "                   \"AggregateIntraVariance__how\":\"median\"}\n",
    "\n",
    "\n",
    "pip_all_cells = pipeline.Pipeline(steps=steps_all_cells)\n",
    "pip_all_cells.set_params(**_params)\n",
    "_A,_ = pip_all_cells.transform([A_all_vs,A_all_vs])"
   ]
  },
  {
   "cell_type": "code",
   "execution_count": 5,
   "metadata": {},
   "outputs": [
    {
     "name": "stderr",
     "output_type": "stream",
     "text": [
      "C:\\ProgramData\\Anaconda3\\lib\\site-packages\\ipykernel_launcher.py:3: FutureWarning: \n",
      "Passing list-likes to .loc or [] with any missing label will raise\n",
      "KeyError in the future, you can use .reindex() as an alternative.\n",
      "\n",
      "See the documentation here:\n",
      "https://pandas.pydata.org/pandas-docs/stable/user_guide/indexing.html#deprecate-loc-reindex-listlike\n",
      "  This is separate from the ipykernel package so we can avoid doing imports until\n"
     ]
    }
   ],
   "source": [
    "signature_df = pd.read_csv(\"targeted_proteins.csv\").set_index([\"protein\",\"gene\"])\n",
    "signature_genes = signature_df.index\n",
    "A_for_test = _A.loc[signature_genes].copy(deep=True).dropna(how=\"all\")\n",
    "B_for_test = B_all_vs.dropna()\n",
    "\n",
    "mutual_genes = A_for_test.index.intersection(B_for_test.index)\n",
    "A_for_test = A_for_test.loc[mutual_genes]\n",
    "B_for_test = B_for_test.loc[mutual_genes]\n",
    "\n"
   ]
  },
  {
   "cell_type": "markdown",
   "metadata": {},
   "source": [
    "# deconvolution"
   ]
  },
  {
   "cell_type": "markdown",
   "metadata": {},
   "source": [
    "## naive - first step"
   ]
  },
  {
   "cell_type": "code",
   "execution_count": 6,
   "metadata": {},
   "outputs": [],
   "source": [
    "mixture_id = 15\n",
    "cell_specific,mass_spec_mixture = A_for_test,B_for_test[B_for_test.columns[mixture_id]]"
   ]
  },
  {
   "cell_type": "code",
   "execution_count": 7,
   "metadata": {},
   "outputs": [],
   "source": [
    "cell_specific = cell_specific/cell_specific.sum().mean()\n",
    "mass_spec_mixture = mass_spec_mixture/mass_spec_mixture.sum()"
   ]
  },
  {
   "cell_type": "code",
   "execution_count": 18,
   "metadata": {
    "code_folding": [
     25,
     40,
     57,
     62,
     68
    ]
   },
   "outputs": [],
   "source": [
    "genes_corr_df = B_for_test.T.corr()\n",
    "dissimilarity = 1 - (genes_corr_df)\n",
    "hierarchy = linkage(squareform(dissimilarity), method='average')\n",
    "labels = fcluster(hierarchy, 0.5, criterion='distance')\n",
    "idx_to_group = {idx: lab for lab, idx in zip(labels, genes_corr_df.index)}\n",
    "groups_list = [idx_to_group[g] for g in mass_spec_mixture.index]\n",
    "\n",
    "# def _deconvolution(mass_spec_mixture, cell_specific,weights=None):\n",
    "#     if weights is not None : \n",
    "#         weights_vector = np.array([weights[gene] for gene in mass_spec_mixture.index.get_level_values(1)])\n",
    "#         model = sm.GEE(mass_spec_mixture, cell_specific,groups=groups_list,weights=weights_vector)\n",
    "#     else :\n",
    "#         model = sm.GEE(mass_spec_mixture, cell_specific,groups=groups_list)\n",
    "        \n",
    "#     result = model.fit()\n",
    "#     cell_abundance = result.params\n",
    "#     cell_abundance[cell_abundance<0] = 0 \n",
    "#     cell_abundance_df = pd.DataFrame(data=cell_abundance, index=cell_specific.columns, columns=[B_for_test.columns[mixture_id]])\n",
    "#     return cell_abundance_df/cell_abundance_df.sum()\n",
    "\n",
    "#     rlm_model = sm.RLM(mass_spec_mixture, cell_specific, M=sm.robust.norms.HuberT())\n",
    "#             rlm_results = rlm_model.fit()\n",
    "#             cell_abundance = rlm_results.params\n",
    "#             cell_abundance[cell_abundance < 0] = 0\n",
    "\n",
    "def _deconvolution(mass_spec_mixture, cell_specific,weights=None):\n",
    "    mass_spec_mixture, cell_specific=mass_spec_mixture.copy(deep=True), cell_specific.copy(deep=True)\n",
    "    if weights is not None : \n",
    "        \n",
    "        for protein,gene in mass_spec_mixture.index : \n",
    "            mass_spec_mixture.loc[(protein,gene)] = mass_spec_mixture.loc[(protein,gene)]*weights[gene]\n",
    "            cell_specific.loc[(protein,gene)] = cell_specific.loc[(protein,gene)]*weights[gene]\n",
    "        \n",
    "        cell_abundance = scipy.optimize.nnls(cell_specific, mass_spec_mixture)[0]\n",
    "    else :\n",
    "        cell_abundance = scipy.optimize.nnls(cell_specific, mass_spec_mixture)[0]\n",
    "        \n",
    "    cell_abundance_df = pd.DataFrame(data=cell_abundance, index=cell_specific.columns, columns=[\"samples\"])\n",
    "    return cell_abundance_df/cell_abundance_df.sum()\n",
    "\n",
    "def calculate_weights_for_genes(all_mixture_genes,surface_proteins_genes,sum_ratio = 1) :\n",
    "    surface_proteins_genes_in_mixtures = [gene for gene in surface_proteins_genes if gene in all_mixture_genes]\n",
    "    \n",
    "    common_genes_count = len(all_mixture_genes) - len(surface_proteins_genes_in_mixtures)\n",
    "    special_gene_count = len(surface_proteins_genes_in_mixtures)\n",
    "    normalization_factor = 2*common_genes_count*special_gene_count\n",
    "    \n",
    "    common_weigth = special_gene_count/normalization_factor\n",
    "    special_weight = common_genes_count/normalization_factor\n",
    "    \n",
    "    gene_to_weigth = {}\n",
    "    for gene in all_mixture_genes : \n",
    "        weight = special_weight if (gene in surface_proteins_genes_in_mixtures) else common_weigth\n",
    "        gene_to_weigth[gene] = weight\n",
    "    \n",
    "    return gene_to_weigth\n",
    "    \n",
    "def _build_expected_sp(reconstructed_proportions,sp_profile,genes_in_signature ):\n",
    "    expected_surface_proteins = sp_profile.dot(reconstructed_proportions.loc[sp_profile.columns])\n",
    "    mutual_genes = expected_surface_proteins[expected_surface_proteins.index.isin(genes_in_signature)].index\n",
    "    return expected_surface_proteins.loc[mutual_genes]\n",
    "\n",
    "def change_mixture_surface_proteins_based_on_expected_order(expected_surface_proteins,mass_spec_mixture_surface_proteins):\n",
    "    _expected_surface_proteins = expected_surface_proteins.sort_values(by=expected_surface_proteins.columns[0])\n",
    "    new_mass_spec_mixture_surface_proteins = pd.Series(index=_expected_surface_proteins.index,name = _expected_surface_proteins.columns[0],\n",
    "                                                  data = np.sort(mass_spec_mixture_surface_proteins.values))\n",
    "    return new_mass_spec_mixture_surface_proteins\n",
    "\n",
    "def update_mixture_data(mass_spec_mixture,new_mass_spec_mixture):\n",
    "    mass_spec_mixture = mass_spec_mixture.copy(deep=True)\n",
    "    # tmp.replace(new_mass_spec_mixture_surface_proteins.index,new_mass_spec_mixture_surface_proteins.values)\n",
    "    # new_mass_spec_mixture_surface_proteins.dtype\n",
    "    for protein,new_val in new_mass_spec_mixture.items() : \n",
    "        mass_spec_mixture[mass_spec_mixture.index.get_level_values(1) == protein] = new_val\n",
    "    return mass_spec_mixture\n",
    "\n"
   ]
  },
  {
   "cell_type": "code",
   "execution_count": 19,
   "metadata": {},
   "outputs": [
    {
     "data": {
      "text/html": [
       "<div>\n",
       "<style scoped>\n",
       "    .dataframe tbody tr th:only-of-type {\n",
       "        vertical-align: middle;\n",
       "    }\n",
       "\n",
       "    .dataframe tbody tr th {\n",
       "        vertical-align: top;\n",
       "    }\n",
       "\n",
       "    .dataframe thead th {\n",
       "        text-align: right;\n",
       "    }\n",
       "</style>\n",
       "<table border=\"1\" class=\"dataframe\">\n",
       "  <thead>\n",
       "    <tr style=\"text-align: right;\">\n",
       "      <th></th>\n",
       "      <th>samples</th>\n",
       "    </tr>\n",
       "    <tr>\n",
       "      <th>cell</th>\n",
       "      <th></th>\n",
       "    </tr>\n",
       "  </thead>\n",
       "  <tbody>\n",
       "    <tr>\n",
       "      <td>Intensity NOT_BCellmemory</td>\n",
       "      <td>0.000000</td>\n",
       "    </tr>\n",
       "    <tr>\n",
       "      <td>Intensity NOT_BCellnaive</td>\n",
       "      <td>0.000000</td>\n",
       "    </tr>\n",
       "    <tr>\n",
       "      <td>Intensity NOT_BCellplasma</td>\n",
       "      <td>0.000000</td>\n",
       "    </tr>\n",
       "    <tr>\n",
       "      <td>Intensity NOT_CD4TCellTcm</td>\n",
       "      <td>0.000000</td>\n",
       "    </tr>\n",
       "    <tr>\n",
       "      <td>Intensity NOT_CD4TCellTem</td>\n",
       "      <td>0.000000</td>\n",
       "    </tr>\n",
       "    <tr>\n",
       "      <td>Intensity NOT_CD4TCellTemra</td>\n",
       "      <td>0.000000</td>\n",
       "    </tr>\n",
       "    <tr>\n",
       "      <td>Intensity NOT_CD4TCellnTregs</td>\n",
       "      <td>0.000000</td>\n",
       "    </tr>\n",
       "    <tr>\n",
       "      <td>Intensity NOT_CD4TCellnaive</td>\n",
       "      <td>0.000000</td>\n",
       "    </tr>\n",
       "    <tr>\n",
       "      <td>Intensity NOT_CD8TCellTem</td>\n",
       "      <td>0.000000</td>\n",
       "    </tr>\n",
       "    <tr>\n",
       "      <td>Intensity NOT_CD8TCellTemra</td>\n",
       "      <td>0.000000</td>\n",
       "    </tr>\n",
       "    <tr>\n",
       "      <td>Intensity NOT_CD8TCellnaive</td>\n",
       "      <td>0.000000</td>\n",
       "    </tr>\n",
       "    <tr>\n",
       "      <td>Intensity NOT_DendriticCD1c</td>\n",
       "      <td>0.000000</td>\n",
       "    </tr>\n",
       "    <tr>\n",
       "      <td>Intensity NOT_DendriticCD304</td>\n",
       "      <td>0.000000</td>\n",
       "    </tr>\n",
       "    <tr>\n",
       "      <td>Intensity NOT_Monocytesclassical</td>\n",
       "      <td>0.311518</td>\n",
       "    </tr>\n",
       "    <tr>\n",
       "      <td>Intensity NOT_Monocytesintermediate</td>\n",
       "      <td>0.688482</td>\n",
       "    </tr>\n",
       "    <tr>\n",
       "      <td>Intensity NOT_Monocytesnonclassical</td>\n",
       "      <td>0.000000</td>\n",
       "    </tr>\n",
       "    <tr>\n",
       "      <td>Intensity NOT_NKCellsCD56bright</td>\n",
       "      <td>0.000000</td>\n",
       "    </tr>\n",
       "    <tr>\n",
       "      <td>Intensity NOT_NKCellsCD56dim</td>\n",
       "      <td>0.000000</td>\n",
       "    </tr>\n",
       "  </tbody>\n",
       "</table>\n",
       "</div>"
      ],
      "text/plain": [
       "                                      samples\n",
       "cell                                         \n",
       "Intensity NOT_BCellmemory            0.000000\n",
       "Intensity NOT_BCellnaive             0.000000\n",
       "Intensity NOT_BCellplasma            0.000000\n",
       "Intensity NOT_CD4TCellTcm            0.000000\n",
       "Intensity NOT_CD4TCellTem            0.000000\n",
       "Intensity NOT_CD4TCellTemra          0.000000\n",
       "Intensity NOT_CD4TCellnTregs         0.000000\n",
       "Intensity NOT_CD4TCellnaive          0.000000\n",
       "Intensity NOT_CD8TCellTem            0.000000\n",
       "Intensity NOT_CD8TCellTemra          0.000000\n",
       "Intensity NOT_CD8TCellnaive          0.000000\n",
       "Intensity NOT_DendriticCD1c          0.000000\n",
       "Intensity NOT_DendriticCD304         0.000000\n",
       "Intensity NOT_Monocytesclassical     0.311518\n",
       "Intensity NOT_Monocytesintermediate  0.688482\n",
       "Intensity NOT_Monocytesnonclassical  0.000000\n",
       "Intensity NOT_NKCellsCD56bright      0.000000\n",
       "Intensity NOT_NKCellsCD56dim         0.000000"
      ]
     },
     "execution_count": 19,
     "metadata": {},
     "output_type": "execute_result"
    }
   ],
   "source": [
    "cell_abundance_df = _deconvolution(mass_spec_mixture, cell_specific)\n",
    "cell_abundance_df"
   ]
  },
  {
   "cell_type": "code",
   "execution_count": 23,
   "metadata": {},
   "outputs": [
    {
     "data": {
      "text/plain": [
       "cell\n",
       "Intensity NOT_BCellmemory              0.000000\n",
       "Intensity NOT_BCellnaive               0.000000\n",
       "Intensity NOT_BCellplasma              0.000000\n",
       "Intensity NOT_CD4TCellTcm              0.000000\n",
       "Intensity NOT_CD4TCellTem              0.000000\n",
       "Intensity NOT_CD4TCellTemra            0.000000\n",
       "Intensity NOT_CD4TCellnTregs           0.000000\n",
       "Intensity NOT_CD4TCellnaive            0.000000\n",
       "Intensity NOT_CD8TCellTem              0.000000\n",
       "Intensity NOT_CD8TCellTemra            0.000000\n",
       "Intensity NOT_CD8TCellnaive            0.000000\n",
       "Intensity NOT_DendriticCD1c            0.000000\n",
       "Intensity NOT_DendriticCD304           0.000000\n",
       "Intensity NOT_Monocytesclassical       0.138136\n",
       "Intensity NOT_Monocytesintermediate    0.305292\n",
       "Intensity NOT_Monocytesnonclassical    0.000000\n",
       "Intensity NOT_NKCellsCD56bright        0.000000\n",
       "Intensity NOT_NKCellsCD56dim           0.000000\n",
       "Name: 30_v1, dtype: float64"
      ]
     },
     "execution_count": 23,
     "metadata": {},
     "output_type": "execute_result"
    }
   ],
   "source": [
    "cell_abundance_df = _deconvolution(mass_spec_mixture, cell_specific)\n",
    "cell_abundance_df"
   ]
  },
  {
   "cell_type": "markdown",
   "metadata": {},
   "source": [
    "## expected_mixture"
   ]
  },
  {
   "cell_type": "code",
   "execution_count": 24,
   "metadata": {},
   "outputs": [],
   "source": [
    "expected_mixture = cell_specific.dot(cell_abundance_df)"
   ]
  },
  {
   "cell_type": "code",
   "execution_count": 27,
   "metadata": {
    "scrolled": true
   },
   "outputs": [
    {
     "ename": "AttributeError",
     "evalue": "'Series' object has no attribute 'corrwith'",
     "output_type": "error",
     "traceback": [
      "\u001b[1;31m---------------------------------------------------------------------------\u001b[0m",
      "\u001b[1;31mAttributeError\u001b[0m                            Traceback (most recent call last)",
      "\u001b[1;32m<ipython-input-27-ff985df2d0d0>\u001b[0m in \u001b[0;36m<module>\u001b[1;34m()\u001b[0m\n\u001b[0;32m      1\u001b[0m \u001b[0mfig\u001b[0m\u001b[1;33m,\u001b[0m \u001b[0max\u001b[0m \u001b[1;33m=\u001b[0m \u001b[0mplt\u001b[0m\u001b[1;33m.\u001b[0m\u001b[0msubplots\u001b[0m\u001b[1;33m(\u001b[0m\u001b[1;36m1\u001b[0m\u001b[1;33m,\u001b[0m\u001b[0mfigsize\u001b[0m\u001b[1;33m=\u001b[0m\u001b[1;33m(\u001b[0m\u001b[1;36m5\u001b[0m\u001b[1;33m,\u001b[0m\u001b[1;36m5\u001b[0m\u001b[1;33m)\u001b[0m\u001b[1;33m)\u001b[0m\u001b[1;33m\u001b[0m\u001b[0m\n\u001b[1;32m----> 2\u001b[1;33m \u001b[0mprint\u001b[0m\u001b[1;33m(\u001b[0m\u001b[0mexpected_mixture\u001b[0m\u001b[1;33m.\u001b[0m\u001b[0mcorrwith\u001b[0m\u001b[1;33m(\u001b[0m\u001b[0mmass_spec_mixture\u001b[0m\u001b[1;33m)\u001b[0m\u001b[1;33m)\u001b[0m\u001b[1;33m\u001b[0m\u001b[0m\n\u001b[0m\u001b[0;32m      3\u001b[0m \u001b[0mprint\u001b[0m\u001b[1;33m(\u001b[0m\u001b[0mexpected_mixture\u001b[0m\u001b[1;33m.\u001b[0m\u001b[0mcorrwith\u001b[0m\u001b[1;33m(\u001b[0m\u001b[0mmass_spec_mixture\u001b[0m\u001b[1;33m,\u001b[0m\u001b[0mmethod\u001b[0m\u001b[1;33m=\u001b[0m\u001b[1;34m\"spearman\"\u001b[0m\u001b[1;33m)\u001b[0m\u001b[1;33m)\u001b[0m\u001b[1;33m\u001b[0m\u001b[0m\n\u001b[0;32m      4\u001b[0m \u001b[0max\u001b[0m\u001b[1;33m.\u001b[0m\u001b[0mscatter\u001b[0m\u001b[1;33m(\u001b[0m \u001b[0mexpected_mixture\u001b[0m\u001b[1;33m.\u001b[0m\u001b[0mrank\u001b[0m\u001b[1;33m(\u001b[0m\u001b[1;33m)\u001b[0m\u001b[1;33m,\u001b[0m  \u001b[0mmass_spec_mixture\u001b[0m\u001b[1;33m.\u001b[0m\u001b[0mrank\u001b[0m\u001b[1;33m(\u001b[0m\u001b[1;33m)\u001b[0m\u001b[1;33m)\u001b[0m\u001b[1;33m\u001b[0m\u001b[0m\n",
      "\u001b[1;32m~\\AppData\\Roaming\\Python\\Python36\\site-packages\\pandas\\core\\generic.py\u001b[0m in \u001b[0;36m__getattr__\u001b[1;34m(self, name)\u001b[0m\n\u001b[0;32m   5177\u001b[0m             \u001b[1;32mif\u001b[0m \u001b[0mself\u001b[0m\u001b[1;33m.\u001b[0m\u001b[0m_info_axis\u001b[0m\u001b[1;33m.\u001b[0m\u001b[0m_can_hold_identifiers_and_holds_name\u001b[0m\u001b[1;33m(\u001b[0m\u001b[0mname\u001b[0m\u001b[1;33m)\u001b[0m\u001b[1;33m:\u001b[0m\u001b[1;33m\u001b[0m\u001b[0m\n\u001b[0;32m   5178\u001b[0m                 \u001b[1;32mreturn\u001b[0m \u001b[0mself\u001b[0m\u001b[1;33m[\u001b[0m\u001b[0mname\u001b[0m\u001b[1;33m]\u001b[0m\u001b[1;33m\u001b[0m\u001b[0m\n\u001b[1;32m-> 5179\u001b[1;33m             \u001b[1;32mreturn\u001b[0m \u001b[0mobject\u001b[0m\u001b[1;33m.\u001b[0m\u001b[0m__getattribute__\u001b[0m\u001b[1;33m(\u001b[0m\u001b[0mself\u001b[0m\u001b[1;33m,\u001b[0m \u001b[0mname\u001b[0m\u001b[1;33m)\u001b[0m\u001b[1;33m\u001b[0m\u001b[0m\n\u001b[0m\u001b[0;32m   5180\u001b[0m \u001b[1;33m\u001b[0m\u001b[0m\n\u001b[0;32m   5181\u001b[0m     \u001b[1;32mdef\u001b[0m \u001b[0m__setattr__\u001b[0m\u001b[1;33m(\u001b[0m\u001b[0mself\u001b[0m\u001b[1;33m,\u001b[0m \u001b[0mname\u001b[0m\u001b[1;33m,\u001b[0m \u001b[0mvalue\u001b[0m\u001b[1;33m)\u001b[0m\u001b[1;33m:\u001b[0m\u001b[1;33m\u001b[0m\u001b[0m\n",
      "\u001b[1;31mAttributeError\u001b[0m: 'Series' object has no attribute 'corrwith'"
     ]
    },
    {
     "data": {
      "image/png": "[encoded data removed]",
      "text/plain": [
       "<Figure size 360x360 with 1 Axes>"
      ]
     },
     "metadata": {
      "needs_background": "light"
     },
     "output_type": "display_data"
    }
   ],
   "source": [
    "fig, ax = plt.subplots(1,figsize=(5,5))\n",
    "print(expected_mixture.corrwith(mass_spec_mixture))\n",
    "print(expected_mixture.corrwith(mass_spec_mixture,method=\"spearman\"))\n",
    "ax.scatter( expected_mixture.rank(),  mass_spec_mixture.rank())"
   ]
  },
  {
   "cell_type": "markdown",
   "metadata": {},
   "source": [
    "## surface proteins"
   ]
  },
  {
   "cell_type": "code",
   "execution_count": 28,
   "metadata": {},
   "outputs": [],
   "source": [
    "ctnc = CtpNetCoordinator()\n",
    "sp_profile = ctnc.return_imputed_proteins_for_cells(cell_abundance_df.index.to_list())"
   ]
  },
  {
   "cell_type": "code",
   "execution_count": 29,
   "metadata": {},
   "outputs": [],
   "source": [
    "expected_mixture_surface_proteins = expected_mixture.reindex(sp_profile.index,level=1).dropna()\n",
    "expected_surface_proteins = sp_profile.dot(cell_abundance_df.loc[sp_profile.columns]).loc[expected_mixture_surface_proteins.index.get_level_values(1)]\n",
    "mass_spec_mixture_surface_proteins = mass_spec_mixture.reindex(sp_profile.index,level=1).dropna()"
   ]
  },
  {
   "cell_type": "code",
   "execution_count": 30,
   "metadata": {},
   "outputs": [
    {
     "data": {
      "image/png": "[encoded data removed]",
      "text/plain": [
       "<Figure size 1080x1080 with 6 Axes>"
      ]
     },
     "metadata": {
      "needs_background": "light"
     },
     "output_type": "display_data"
    }
   ],
   "source": [
    "fig, axs = plt.subplots(3,2,figsize=(15,15))\n",
    "axs[0][0].scatter( expected_mixture_surface_proteins, expected_surface_proteins)\n",
    "axs[0][0].set_xlabel(\"surface proteins in the expected mixture\")\n",
    "axs[0][0].set_ylabel(\"the expected surface proteins mRNA * proportions \")\n",
    "axs[0][1].scatter( expected_mixture_surface_proteins.rank(), expected_surface_proteins.rank())\n",
    "axs[0][1].set_xlabel(\"surface proteins in the expected mixture\")\n",
    "axs[0][1].set_ylabel(\"the expected surface proteins mRNA * proportions \")\n",
    "\n",
    "axs[1][0].scatter( expected_mixture_surface_proteins,  mass_spec_mixture_surface_proteins)\n",
    "axs[1][0].set_xlabel(\"surface proteins in the expected mixture\")\n",
    "axs[1][0].set_ylabel(\"surface proteins in original mixture\")\n",
    "axs[1][1].scatter( expected_mixture_surface_proteins.rank(), mass_spec_mixture_surface_proteins.rank())\n",
    "axs[1][1].set_xlabel(\"surface proteins in the expected mixture\")\n",
    "axs[1][1].set_ylabel(\"surface proteins in original mixture\")\n",
    "\n",
    "axs[2][0].scatter( mass_spec_mixture_surface_proteins,  expected_surface_proteins)\n",
    "axs[2][0].set_xlabel(\"surface proteins in original mixture\")\n",
    "axs[2][0].set_ylabel(\"the expected surface proteins mRNA * proportions \")\n",
    "axs[2][1].scatter( mass_spec_mixture_surface_proteins.rank(), expected_surface_proteins.rank())\n",
    "axs[2][1].set_xlabel(\"surface proteins in original mixture\")\n",
    "axs[2][1].set_ylabel(\"the expected surface proteins mRNA * proportions \")\n",
    "\n",
    "plt.subplots_adjust(wspace=2,hspace=2)"
   ]
  },
  {
   "cell_type": "markdown",
   "metadata": {},
   "source": [
    "## combined EM"
   ]
  },
  {
   "cell_type": "code",
   "execution_count": 31,
   "metadata": {},
   "outputs": [],
   "source": [
    "mixture_id = 6\n",
    "cell_specific,mass_spec_mixture = A_for_test,B_for_test[B_for_test.columns[mixture_id]]\n",
    "\n",
    "cell_specific = cell_specific/cell_specific.sum().mean()\n",
    "mass_spec_mixture = mass_spec_mixture/mass_spec_mixture.sum()"
   ]
  },
  {
   "cell_type": "code",
   "execution_count": 32,
   "metadata": {},
   "outputs": [],
   "source": [
    "genes_weights = calculate_weights_for_genes(mass_spec_mixture.index.get_level_values(1).to_list(),\n",
    "                                           sp_profile.index.to_list())"
   ]
  },
  {
   "cell_type": "code",
   "execution_count": 33,
   "metadata": {
    "code_folding": [
     0
    ]
   },
   "outputs": [],
   "source": [
    "def display_scatter(first_series,second_series):\n",
    "    first_series,second_series = first_series.copy(deep=True),second_series.copy(deep=True)\n",
    "    if type(first_series.index) is  pd.MultiIndex  : \n",
    "        first_series = first_series.droplevel(0)\n",
    "    \n",
    "    if type(second_series.index) is  pd.MultiIndex  : \n",
    "        second_series = second_series.droplevel(0)\n",
    "    \n",
    "    if type(first_series) is pd.Series:\n",
    "        first_series = first_series.rename(f\"{first_series.name}_1\")\n",
    "    else : \n",
    "        first_series = first_series.rename(columns = {first_series.columns[0]:f\"{first_series.columns[0]}_1\"})\n",
    "    \n",
    "    \n",
    "#     display(pd.concat([first_series,second_series],axis=1))\n",
    "    pd.concat([first_series,second_series],axis=1).plot.scatter(0,1)\n",
    "    plt.show()"
   ]
  },
  {
   "cell_type": "code",
   "execution_count": 34,
   "metadata": {
    "code_folding": [
     2
    ],
    "scrolled": true
   },
   "outputs": [
    {
     "name": "stderr",
     "output_type": "stream",
     "text": [
      "C:\\ProgramData\\Anaconda3\\lib\\site-packages\\ipykernel_launcher.py:16: FutureWarning: Sorting because non-concatenation axis is not aligned. A future version\n",
      "of pandas will change to not sort by default.\n",
      "\n",
      "To accept the future behavior, pass 'sort=False'.\n",
      "\n",
      "To retain the current behavior and silence the warning, pass 'sort=True'.\n",
      "\n",
      "  app.launch_new_instance()\n"
     ]
    },
    {
     "data": {
      "image/png": "[encoded data removed]",
      "text/plain": [
       "<Figure size 432x288 with 1 Axes>"
      ]
     },
     "metadata": {
      "needs_background": "light"
     },
     "output_type": "display_data"
    },
    {
     "data": {
      "image/png": "[encoded data removed]",
      "text/plain": [
       "<Figure size 432x288 with 1 Axes>"
      ]
     },
     "metadata": {
      "needs_background": "light"
     },
     "output_type": "display_data"
    },
    {
     "ename": "AttributeError",
     "evalue": "'Series' object has no attribute 'columns'",
     "output_type": "error",
     "traceback": [
      "\u001b[1;31m---------------------------------------------------------------------------\u001b[0m",
      "\u001b[1;31mAttributeError\u001b[0m                            Traceback (most recent call last)",
      "\u001b[1;32m<ipython-input-34-a9409a02a6dd>\u001b[0m in \u001b[0;36m<module>\u001b[1;34m()\u001b[0m\n\u001b[0;32m     14\u001b[0m \u001b[1;33m\u001b[0m\u001b[0m\n\u001b[0;32m     15\u001b[0m     \u001b[0mupdated_mixture\u001b[0m \u001b[1;33m=\u001b[0m \u001b[0mupdate_mixture_data\u001b[0m\u001b[1;33m(\u001b[0m\u001b[0mupdated_mixture\u001b[0m\u001b[1;33m,\u001b[0m\u001b[0mnew_surface_protein_mixture_values\u001b[0m\u001b[1;33m)\u001b[0m\u001b[1;33m\u001b[0m\u001b[0m\n\u001b[1;32m---> 16\u001b[1;33m     \u001b[0mreconstructed_list\u001b[0m\u001b[1;33m.\u001b[0m\u001b[0mappend\u001b[0m\u001b[1;33m(\u001b[0m\u001b[0mreconstructed_proportions\u001b[0m\u001b[1;33m.\u001b[0m\u001b[0mrename\u001b[0m\u001b[1;33m(\u001b[0m\u001b[0mcolumns\u001b[0m\u001b[1;33m=\u001b[0m\u001b[1;33m{\u001b[0m\u001b[0mreconstructed_proportions\u001b[0m\u001b[1;33m.\u001b[0m\u001b[0mcolumns\u001b[0m\u001b[1;33m[\u001b[0m\u001b[1;36m0\u001b[0m\u001b[1;33m]\u001b[0m\u001b[1;33m:\u001b[0m\u001b[1;34mf\"{reconstructed_proportions.columns[0]}_{i}\"\u001b[0m\u001b[1;33m}\u001b[0m\u001b[1;33m)\u001b[0m\u001b[1;33m)\u001b[0m\u001b[1;33m\u001b[0m\u001b[0m\n\u001b[0m\u001b[0;32m     17\u001b[0m \u001b[1;33m\u001b[0m\u001b[0m\n\u001b[0;32m     18\u001b[0m     \u001b[0mprint\u001b[0m\u001b[1;33m(\u001b[0m\u001b[1;34m\"----\"\u001b[0m\u001b[1;33m)\u001b[0m\u001b[1;33m\u001b[0m\u001b[0m\n",
      "\u001b[1;32m~\\AppData\\Roaming\\Python\\Python36\\site-packages\\pandas\\core\\generic.py\u001b[0m in \u001b[0;36m__getattr__\u001b[1;34m(self, name)\u001b[0m\n\u001b[0;32m   5173\u001b[0m             \u001b[1;32mor\u001b[0m \u001b[0mname\u001b[0m \u001b[1;32min\u001b[0m \u001b[0mself\u001b[0m\u001b[1;33m.\u001b[0m\u001b[0m_accessors\u001b[0m\u001b[1;33m\u001b[0m\u001b[0m\n\u001b[0;32m   5174\u001b[0m         ):\n\u001b[1;32m-> 5175\u001b[1;33m             \u001b[1;32mreturn\u001b[0m \u001b[0mobject\u001b[0m\u001b[1;33m.\u001b[0m\u001b[0m__getattribute__\u001b[0m\u001b[1;33m(\u001b[0m\u001b[0mself\u001b[0m\u001b[1;33m,\u001b[0m \u001b[0mname\u001b[0m\u001b[1;33m)\u001b[0m\u001b[1;33m\u001b[0m\u001b[0m\n\u001b[0m\u001b[0;32m   5176\u001b[0m         \u001b[1;32melse\u001b[0m\u001b[1;33m:\u001b[0m\u001b[1;33m\u001b[0m\u001b[0m\n\u001b[0;32m   5177\u001b[0m             \u001b[1;32mif\u001b[0m \u001b[0mself\u001b[0m\u001b[1;33m.\u001b[0m\u001b[0m_info_axis\u001b[0m\u001b[1;33m.\u001b[0m\u001b[0m_can_hold_identifiers_and_holds_name\u001b[0m\u001b[1;33m(\u001b[0m\u001b[0mname\u001b[0m\u001b[1;33m)\u001b[0m\u001b[1;33m:\u001b[0m\u001b[1;33m\u001b[0m\u001b[0m\n",
      "\u001b[1;31mAttributeError\u001b[0m: 'Series' object has no attribute 'columns'"
     ]
    }
   ],
   "source": [
    "updated_mixture = mass_spec_mixture.copy(deep=True)\n",
    "reconstructed_list = [] \n",
    "for i in range(4) : \n",
    "    reconstructed_proportions = _deconvolution(updated_mixture, cell_specific,genes_weights)\n",
    "    expected_surface_proteins = _build_expected_sp(reconstructed_proportions,sp_profile,mass_spec_mixture.index.get_level_values(1))\n",
    "    \n",
    "    surface_proteins_of_mixture = updated_mixture.loc[updated_mixture.index.get_level_values(1).isin(expected_surface_proteins.index)]\n",
    "    \n",
    "    display_scatter(surface_proteins_of_mixture,expected_surface_proteins)\n",
    "    display_scatter(surface_proteins_of_mixture.rank(),expected_surface_proteins.rank())\n",
    "    \n",
    "    new_surface_protein_mixture_values = change_mixture_surface_proteins_based_on_expected_order(\n",
    "        expected_surface_proteins,surface_proteins_of_mixture)\n",
    "    \n",
    "    updated_mixture = update_mixture_data(updated_mixture,new_surface_protein_mixture_values)\n",
    "    reconstructed_list.append(reconstructed_proportions.rename(columns={reconstructed_proportions.columns[0]:f\"{reconstructed_proportions.columns[0]}_{i}\"}))\n",
    "\n",
    "    print(\"----\")\n",
    "    \n",
    "pd.concat(reconstructed_list,axis=1)\n",
    "    "
   ]
  },
  {
   "cell_type": "markdown",
   "metadata": {},
   "source": [
    "# speed test"
   ]
  },
  {
   "cell_type": "code",
   "execution_count": null,
   "metadata": {},
   "outputs": [],
   "source": [
    "def _deconvolution(mass_spec_mixture, cell_specific, weights=None):\n",
    "    mass_spec_mixture, cell_specific = mass_spec_mixture.copy(deep=True), cell_specific.copy(deep=True)\n",
    "\n",
    "    if weights is not None:\n",
    "        for protein, gene in mass_spec_mixture.index:\n",
    "            mass_spec_mixture.loc[(protein, gene)] = mass_spec_mixture.loc[(protein, gene)] * np.sqrt(weights[gene])\n",
    "            cell_specific.loc[(protein, gene)] = cell_specific.loc[(protein, gene)] * np.sqrt(weights[gene])\n",
    "\n",
    "        cell_abundance = scipy.optimize.nnls(cell_specific, mass_spec_mixture)[0]\n",
    "    else:\n",
    "        cell_abundance = scipy.optimize.nnls(cell_specific, mass_spec_mixture)[0]\n",
    "\n",
    "    cell_abundance = pd.Series(data=cell_abundance, index=cell_specific.columns,name=mass_spec_mixture.name)\n",
    "    return cell_abundance\n",
    "\n",
    "    # region private\n",
    "\n",
    "def em_deconvolution(mass_spec_mixture, cell_specific, sp_profile, genes_weights=None):\n",
    "    updated_mixture = mass_spec_mixture.copy(deep=True)\n",
    "\n",
    "    for i in range(4):\n",
    "        reconstructed_proportions = _deconvolution(updated_mixture, cell_specific, genes_weights)\n",
    "        expected_surface_proteins = _build_expected_sp(reconstructed_proportions, sp_profile,\n",
    "                                                            mass_spec_mixture.index.get_level_values(1))\n",
    "\n",
    "        surface_proteins_of_mixture = updated_mixture.loc[\n",
    "            updated_mixture.index.get_level_values(1).isin(expected_surface_proteins.index)]\n",
    "\n",
    "        new_surface_protein_mixture_values = change_mixture_surface_proteins_based_on_expected_order(\n",
    "            expected_surface_proteins, surface_proteins_of_mixture)\n",
    "\n",
    "        updated_mixture = update_mixture_data(updated_mixture, new_surface_protein_mixture_values)\n",
    "\n",
    "    return reconstructed_proportions"
   ]
  },
  {
   "cell_type": "code",
   "execution_count": 71,
   "metadata": {
    "code_folding": [
     33,
     40,
     48
    ]
   },
   "outputs": [],
   "source": [
    "def __calculate_weights_for_genes(all_mixture_genes, surface_proteins_genes, sum_ratio=1):\n",
    "    surface_proteins_genes_in_mixtures = [gene for gene in surface_proteins_genes if gene in all_mixture_genes]\n",
    "\n",
    "    common_genes_count = len(all_mixture_genes) - len(surface_proteins_genes_in_mixtures)\n",
    "    special_gene_count = len(surface_proteins_genes_in_mixtures)\n",
    "    normalization_factor = 2 * common_genes_count * special_gene_count\n",
    "\n",
    "    common_weigth = special_gene_count / normalization_factor\n",
    "    special_weight = common_genes_count / normalization_factor\n",
    "\n",
    "    gene_to_weigth = {}\n",
    "    for gene in all_mixture_genes:\n",
    "        weight = special_weight if (gene in surface_proteins_genes_in_mixtures) else common_weigth\n",
    "        gene_to_weigth[gene] = weight\n",
    "\n",
    "    return gene_to_weigth\n",
    "\n",
    "def _get_gene_weights(cell_specific, predicted_sp_genes):\n",
    "    gene_weights = __calculate_weights_for_genes(cell_specific.index.get_level_values(1).to_list(),\n",
    "                                                      predicted_sp_genes.index.to_list())\n",
    "    return gene_weights\n",
    "\n",
    "def _update_mixtures_by_weight(mass_spec_mixture,cell_specific,weights) :\n",
    "    mass_spec_mixture, cell_specific = mass_spec_mixture.copy(deep=True), cell_specific.copy(deep=True)\n",
    "\n",
    "    tmp_mass_spec_as_list = []\n",
    "    tmp_cell_specific_as_list = []\n",
    "\n",
    "    for protein, gene in mass_spec_mixture.index:\n",
    "        tmp_mass_spec_as_list.append([protein, gene,mass_spec_mixture.loc[(protein, gene)] * np.sqrt(weights[gene])])\n",
    "        tmp_cell_specific_as_list.append([protein, gene]+(cell_specific.loc[(protein, gene)] * np.sqrt(weights[gene])).to_list())\n",
    "#             mass_spec_mixture.loc[(protein, gene)] = mass_spec_mixture.loc[(protein, gene)] * np.sqrt(weights[gene])\n",
    "#             cell_specific.loc[(protein, gene)] = cell_specific.loc[(protein, gene)] * np.sqrt(weights[gene])\n",
    "\n",
    "    _mass_spec_mixture = pd.DataFrame(columns=[\"protein\",\"gene\",mass_spec_mixture.name],data=tmp_mass_spec_as_list)\n",
    "    mass_spec_mixture = _mass_spec_mixture.set_index([\"protein\",\"gene\"])[mass_spec_mixture.name]\n",
    "    _cell_specific = pd.DataFrame(columns = [\"protein\",\"gene\"] + cell_specific.columns.to_list(),data=tmp_cell_specific_as_list)\n",
    "    cell_specific = _cell_specific.set_index([\"protein\",\"gene\"])\n",
    "    \n",
    "    return mass_spec_mixture,cell_specific\n",
    "\n",
    "    \n",
    "\n",
    "def _deconvolution(mass_spec_mixture, cell_specific,genes_weights=None):\n",
    "    cell_abundance = scipy.optimize.nnls(cell_specific, mass_spec_mixture)[0]\n",
    "    cell_abundance = pd.Series(data=cell_abundance, index=cell_specific.columns,name=mass_spec_mixture.name)\n",
    "    return cell_abundance\n",
    "\n",
    "def em_deconvolution(mass_spec_mixture, cell_specific, sp_profile, genes_weights=None):\n",
    "    updated_mixture = mass_spec_mixture.copy(deep=True)\n",
    "\n",
    "    for i in range(4):\n",
    "        reconstructed_proportions = _deconvolution(updated_mixture, cell_specific, genes_weights)\n",
    "        expected_surface_proteins = _build_expected_sp(reconstructed_proportions, sp_profile,\n",
    "                                                            mass_spec_mixture.index.get_level_values(1))\n",
    "\n",
    "        surface_proteins_of_mixture = updated_mixture.loc[\n",
    "            updated_mixture.index.get_level_values(1).isin(expected_surface_proteins.index)]\n",
    "\n",
    "        new_surface_protein_mixture_values = change_mixture_surface_proteins_based_on_expected_order(\n",
    "            expected_surface_proteins, surface_proteins_of_mixture)\n",
    "\n",
    "        updated_mixture = update_mixture_data(updated_mixture, new_surface_protein_mixture_values)\n",
    "\n",
    "    return reconstructed_proportions\n",
    "\n",
    "def _build_expected_sp(reconstructed_proportions, sp_profile, genes_in_signature):\n",
    "    expected_surface_proteins = sp_profile.dot(reconstructed_proportions.loc[sp_profile.columns])\n",
    "    mutual_genes = expected_surface_proteins[expected_surface_proteins.index.isin(genes_in_signature)].index\n",
    "    expected_surface_proteins = expected_surface_proteins._set_name(reconstructed_proportions.name)\n",
    "\n",
    "    return expected_surface_proteins.loc[mutual_genes]\n",
    "\n",
    "def change_mixture_surface_proteins_based_on_expected_order(expected_surface_proteins,\n",
    "                                                            mass_spec_mixture_surface_proteins):\n",
    "    _expected_surface_proteins = expected_surface_proteins.sort_values()\n",
    "    new_mass_spec_mixture_surface_proteins = pd.Series(index=_expected_surface_proteins.index,\n",
    "                                                       name=_expected_surface_proteins.name,\n",
    "                                                       data=np.sort(mass_spec_mixture_surface_proteins.values))\n",
    "    return new_mass_spec_mixture_surface_proteins\n",
    "\n",
    "def update_mixture_data(mass_spec_mixture, new_mass_spec_mixture):\n",
    "    mass_spec_mixture = mass_spec_mixture.copy(deep=True)\n",
    "\n",
    "    for protein, new_val in new_mass_spec_mixture.items():\n",
    "        mass_spec_mixture[mass_spec_mixture.index.get_level_values(1) == protein] = new_val\n",
    "    return mass_spec_mixture\n"
   ]
  },
  {
   "cell_type": "code",
   "execution_count": 76,
   "metadata": {},
   "outputs": [
    {
     "name": "stdout",
     "output_type": "stream",
     "text": [
      "36.8 s ± 2.82 s per loop (mean ± std. dev. of 7 runs, 1 loop each)\n"
     ]
    }
   ],
   "source": [
    "%%timeit\n",
    "genes_weights = _get_gene_weights(cell_specific,sp_profile)\n",
    "\n",
    "for mixture_id in range(B_for_test.shape[1]) : \n",
    "    mass_spec_mixture = B_for_test[B_for_test.columns[mixture_id]]\n",
    "    mass_spec_mixture = mass_spec_mixture/mass_spec_mixture.sum()\n",
    "    \n",
    "    _mass_spec_mixture,_cell_specific = _update_mixtures_by_weight(mass_spec_mixture,cell_specific,genes_weights)\n",
    "    em_deconvolution(_mass_spec_mixture,_cell_specific,sp_profile,genes_weights)\n",
    "#     em_deconvolution(mass_spec_mixture,cell_specific,sp_profile,None)"
   ]
  },
  {
   "cell_type": "code",
   "execution_count": 77,
   "metadata": {},
   "outputs": [],
   "source": [
    "def _update_mixtures_by_weight_v1(mass_spec_mixture,cell_specific,weights) :\n",
    "    mass_spec_mixture, cell_specific = mass_spec_mixture.copy(deep=True), cell_specific.copy(deep=True)\n",
    "\n",
    "    tmp_mass_spec_as_list = []\n",
    "    tmp_cell_specific_as_list = []\n",
    "\n",
    "    for protein, gene in mass_spec_mixture.index:\n",
    "        tmp_mass_spec_as_list.append([protein, gene,mass_spec_mixture.loc[(protein, gene)] * np.sqrt(weights[gene])])\n",
    "        tmp_cell_specific_as_list.append([protein, gene]+(cell_specific.loc[(protein, gene)] * np.sqrt(weights[gene])).to_list())\n",
    "\n",
    "    _mass_spec_mixture = pd.DataFrame(columns=[\"protein\",\"gene\",mass_spec_mixture.name],data=tmp_mass_spec_as_list)\n",
    "    mass_spec_mixture = _mass_spec_mixture.set_index([\"protein\",\"gene\"])[mass_spec_mixture.name]\n",
    "    _cell_specific = pd.DataFrame(columns = [\"protein\",\"gene\"] + cell_specific.columns.to_list(),data=tmp_cell_specific_as_list)\n",
    "    cell_specific = _cell_specific.set_index([\"protein\",\"gene\"])\n",
    "    \n",
    "    return mass_spec_mixture,cell_specific\n",
    "\n",
    "def _update_mixtures_by_weight_v2(mass_spec_mixture,cell_specific,weights) :\n",
    "    mass_spec_mixture, cell_specific = mass_spec_mixture.copy(deep=True), cell_specific.copy(deep=True)\n",
    "\n",
    "    tmp_mass_spec_as_list = []\n",
    "    tmp_cell_specific_as_list = []\n",
    "\n",
    "    for protein, gene in mass_spec_mixture.index:\n",
    "#         tmp_mass_spec_as_list.append([protein, gene,mass_spec_mixture.loc[(protein, gene)] * np.sqrt(weights[gene])])\n",
    "#         tmp_cell_specific_as_list.append([protein, gene]+(cell_specific.loc[(protein, gene)] * np.sqrt(weights[gene])).to_list())\n",
    "        mass_spec_mixture.loc[(protein, gene)] = mass_spec_mixture.loc[(protein, gene)] * np.sqrt(weights[gene])\n",
    "        cell_specific.loc[(protein, gene)] = cell_specific.loc[(protein, gene)] * np.sqrt(weights[gene])\n",
    "\n",
    "#     _mass_spec_mixture = pd.DataFrame(columns=[\"protein\",\"gene\",mass_spec_mixture.name],data=tmp_mass_spec_as_list)\n",
    "#     mass_spec_mixture = _mass_spec_mixture.set_index([\"protein\",\"gene\"])[mass_spec_mixture.name]\n",
    "#     _cell_specific = pd.DataFrame(columns = [\"protein\",\"gene\"] + cell_specific.columns.to_list(),data=tmp_cell_specific_as_list)\n",
    "#     cell_specific = _cell_specific.set_index([\"protein\",\"gene\"])\n",
    "    \n",
    "    return mass_spec_mixture,cell_specific"
   ]
  },
  {
   "cell_type": "code",
   "execution_count": 90,
   "metadata": {},
   "outputs": [],
   "source": [
    "def _update_mixtures_by_weight(mass_spec_mixture,cell_specific,weights) :\n",
    "    mass_spec_mixture, cell_specific = mass_spec_mixture.copy(deep=True), cell_specific.copy(deep=True)\n",
    "\n",
    "    tmp_mass_spec_as_list = []\n",
    "    tmp_cell_specific_as_list = []\n",
    "\n",
    "    for protein, gene in mass_spec_mixture.index:\n",
    "        tmp_mass_spec_as_list.append([protein, gene]+(mass_spec_mixture.loc[(protein, gene)] * np.sqrt(weights[gene])).to_list())\n",
    "        tmp_cell_specific_as_list.append([protein, gene]+(cell_specific.loc[(protein, gene)] * np.sqrt(weights[gene])).to_list())\n",
    "\n",
    "    _mass_spec_mixture = pd.DataFrame(columns=[\"protein\",\"gene\"]+mass_spec_mixture.columns.to_list(),data=tmp_mass_spec_as_list)\n",
    "    mass_spec_mixture = _mass_spec_mixture.set_index([\"protein\",\"gene\"])\n",
    "    _cell_specific = pd.DataFrame(columns = [\"protein\",\"gene\"] + cell_specific.columns.to_list(),data=tmp_cell_specific_as_list)\n",
    "    cell_specific = _cell_specific.set_index([\"protein\",\"gene\"])\n",
    "    \n",
    "    return mass_spec_mixture,cell_specific"
   ]
  },
  {
   "cell_type": "code",
   "execution_count": 97,
   "metadata": {},
   "outputs": [],
   "source": [
    "\n",
    "new_ms,new_cp=_update_mixtures_by_weight_v3(B_for_test,cell_specific,genes_weights)"
   ]
  },
  {
   "cell_type": "code",
   "execution_count": 105,
   "metadata": {
    "scrolled": true
   },
   "outputs": [
    {
     "name": "stdout",
     "output_type": "stream",
     "text": [
      "4.14 s ± 76.6 ms per loop (mean ± std. dev. of 7 runs, 1 loop each)\n"
     ]
    }
   ],
   "source": [
    "%%timeit\n",
    "genes_weights = _get_gene_weights(cell_specific,sp_profile)\n",
    "new_ms,new_cp=_update_mixtures_by_weight_v3(B_for_test,cell_specific,genes_weights)\n",
    "\n",
    "for mixture_id in range(B_for_test.shape[1]) : \n",
    "    mass_spec_mixture = new_ms[new_ms.columns[mixture_id]]\n",
    "    mass_spec_mixture = mass_spec_mixture/mass_spec_mixture.sum()\n",
    "    \n",
    "    em_deconvolution(mass_spec_mixture,new_cp,sp_profile,None)\n"
   ]
  },
  {
   "cell_type": "code",
   "execution_count": 101,
   "metadata": {},
   "outputs": [
    {
     "data": {
      "text/plain": [
       "True"
      ]
     },
     "execution_count": 101,
     "metadata": {},
     "output_type": "execute_result"
    }
   ],
   "source": []
  }
 ],
 "metadata": {
  "hide_input": false,
  "kernelspec": {
   "display_name": "Python 3",
   "language": "python",
   "name": "python3"
  },
  "language_info": {
   "codemirror_mode": {
    "name": "ipython",
    "version": 3
   },
   "file_extension": ".py",
   "mimetype": "text/x-python",
   "name": "python",
   "nbconvert_exporter": "python",
   "pygments_lexer": "ipython3",
   "version": "3.6.5"
  },
  "toc": {
   "base_numbering": 1,
   "nav_menu": {},
   "number_sections": true,
   "sideBar": true,
   "skip_h1_title": false,
   "title_cell": "Table of Contents",
   "title_sidebar": "Contents",
   "toc_cell": false,
   "toc_position": {},
   "toc_section_display": true,
   "toc_window_display": false
  }
 },
 "nbformat": 4,
 "nbformat_minor": 2
}
