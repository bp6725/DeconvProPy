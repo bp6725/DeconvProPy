{
 "cells": [
  {
   "cell_type": "markdown",
   "metadata": {},
   "source": [
    "#  INIT"
   ]
  },
  {
   "cell_type": "code",
   "execution_count": 1,
   "metadata": {},
   "outputs": [],
   "source": [
    "import sys\n",
    "sys.path.append('../../')\n",
    "sys.path.append('../infras/cellMix/')\n",
    "sys.path.append('../infras/dashboards/')\n",
    "sys.path.append('../infras/cytof_data/')\n",
    "sys.path.append('../experiments/')\n",
    "sys.path.append('../preprocess/cell_specifics/')"
   ]
  },
  {
   "cell_type": "code",
   "execution_count": 2,
   "metadata": {},
   "outputs": [],
   "source": [
    "from cellMix_coordinator import CellMixCoordinator\n",
    "from cytof_cell_count_infra import CytofCellCountInfra\n",
    "from cell_proportions_experiments import  CellProportionsExperiments\n",
    "from pp_clean_irrelevant_proteins import PpCleanIrrelevantProteins\n",
    "\n",
    "ccc= CytofCellCountInfra()"
   ]
  },
  {
   "cell_type": "code",
   "execution_count": 3,
   "metadata": {},
   "outputs": [],
   "source": [
    "import exploration_plots\n",
    "import dashs"
   ]
  },
  {
   "cell_type": "code",
   "execution_count": 4,
   "metadata": {},
   "outputs": [],
   "source": [
    "import pandas as pd\n",
    "import numpy as np\n",
    "from functools import partial\n",
    "import multiprocessing\n",
    "\n",
    "from scipy.optimize import least_squares\n",
    "from sklearn.metrics import mean_squared_error\n",
    "from functools import partial\n",
    "from scipy.optimize import minimize\n",
    "import scipy.optimize\n",
    "import scipy.stats\n",
    "from itertools import combinations\n",
    "import matplotlib.pyplot as plt\n",
    "import seaborn as sns\n",
    "import pickle as pkl\n",
    "\n",
    "import os\n",
    "\n",
    "import random"
   ]
  },
  {
   "cell_type": "code",
   "execution_count": 5,
   "metadata": {},
   "outputs": [],
   "source": [
    "from deconv_py.preprocess.base import BasePreprocess as PP_base\n",
    "from deconv_py.preprocess.cell_specific import CellSpecific as PP_proteins\n",
    "\n",
    "from deconv_py.infras.data_factory import DataFactory\n",
    "from deconv_py.infras.data_loader import DataLoader\n",
    "\n",
    "from deconv_py.models.base import Base as Models_base\n",
    "from deconv_py.models.cell_proportions_models import CellProportions\n",
    "from deconv_py.models.cell_specific_models import CellSpecificPerPermutation\n",
    "\n",
    "from deconv_py.experiments.cell_specific import CellSpecificMetricsPlot\n",
    "\n",
    "from scipy.stats import entropy\n",
    "from functools import reduce\n",
    "\n",
    "# from deconv_py.infras.cellMix.cellMix_coordinator import CellMixCoordinator"
   ]
  },
  {
   "cell_type": "code",
   "execution_count": 6,
   "metadata": {
    "code_folding": [
     2
    ]
   },
   "outputs": [
    {
     "name": "stderr",
     "output_type": "stream",
     "text": [
      "C:\\ProgramData\\Anaconda3\\lib\\site-packages\\IPython\\core\\interactiveshell.py:2963: DtypeWarning: Columns (5,6,2764,2765,2773,2774,2775,2776) have mixed types. Specify dtype option on import or set low_memory=False.\n",
      "  exec(code_obj, self.user_global_ns, self.user_ns)\n"
     ]
    }
   ],
   "source": [
    "data_loader = DataLoader(mass_spec_path=os.path.abspath('../data/20190801_filtered_imputed_data.csv'),\n",
    "                         protein_profile_path = os.path.abspath('../data/20150718_Cerberus_proteinGroups.txt'),as_csv = True)\n",
    "data_factory = DataFactory(data_loader)\n",
    "ms = data_loader.get_mass_spec_data()"
   ]
  },
  {
   "cell_type": "code",
   "execution_count": 7,
   "metadata": {
    "code_folding": [
     0
    ]
   },
   "outputs": [],
   "source": [
    "def pick_random_value_from_intra_range(profile):\n",
    "    if os.path.exists(\"cache/random_value_from_intra_range_df.pkl\") :\n",
    "        random_value_from_intra_range_df = pd.read_pickle(\"cache/random_value_from_intra_range_df.pkl\") \n",
    "        return random_value_from_intra_range_df\n",
    "            \n",
    "    gene_to_profile_data = profile.copy(deep=True).T\n",
    "    gene_to_profile_data[\"cell\"]=gene_to_profile_data.index.map(lambda x:x.split('_0')[0])\n",
    "\n",
    "    min_gene_to_profile_data = gene_to_profile_data.groupby(\"cell\").min().T\n",
    "    max_gene_to_profile_data = gene_to_profile_data.groupby(\"cell\").max().T\n",
    "\n",
    "    random_profile = pd.DataFrame(index=min_gene_to_profile_data.index,columns = min_gene_to_profile_data.columns)\n",
    "    for index, cell_data in min_gene_to_profile_data.iterrows(): \n",
    "        for cell in cell_data.index :\n",
    "            min_val = min_gene_to_profile_data.loc[index,cell]\n",
    "            max_val = max_gene_to_profile_data.loc[index,cell]\n",
    "\n",
    "            if max_val == 0 :\n",
    "                continue\n",
    "\n",
    "            random_profile.loc[index,cell] = random.randrange(min_val,max_val)\n",
    "    random_profile = random_profile.fillna(0)\n",
    "    random_profile.to_pickle(\"cache/random_value_from_intra_range_df.pkl\")\n",
    "    return random_profile"
   ]
  },
  {
   "cell_type": "code",
   "execution_count": 8,
   "metadata": {},
   "outputs": [],
   "source": [
    "relvent_data_intensity = data_factory._build_relvent_data( DataFactory.IBD_A_RELVENT_DATA_all_vs,\"Intensity\")\n",
    "profile_data_intensity,profile_data_relvent_data_intensity = data_factory.build_cell_specific_profile(auto_filter_by=False,relvent_data=relvent_data_intensity,relvent_columns=[\"Majority protein IDs\",\"Gene names\"])\n",
    "mixtures,mixtures_relvent_data = data_factory.build_mixture_data(relvent_data= ms.columns.tolist() ,relvent_columns=[\"Majority protein IDs\",\"Gene.names\"],auto_filter_by=False,log2_transformation=True)"
   ]
  },
  {
   "cell_type": "code",
   "execution_count": 9,
   "metadata": {},
   "outputs": [],
   "source": [
    "protein_gene_map = profile_data_intensity[[\"Majority protein IDs\",\"Gene names\"]].set_index(\"Majority protein IDs\").to_dict()['Gene names']"
   ]
  },
  {
   "cell_type": "markdown",
   "metadata": {},
   "source": [
    "# explore noise distribution"
   ]
  },
  {
   "cell_type": "markdown",
   "metadata": {},
   "source": [
    "## mean vs var"
   ]
  },
  {
   "cell_type": "code",
   "execution_count": 10,
   "metadata": {},
   "outputs": [
    {
     "name": "stderr",
     "output_type": "stream",
     "text": [
      "C:\\ProgramData\\Anaconda3\\lib\\site-packages\\IPython\\kernel\\__main__.py:2: DtypeWarning: Columns (5,6,2764,2765,2773,2774,2775,2776) have mixed types. Specify dtype option on import or set low_memory=False.\n",
      "  from ipykernel import kernelapp as app\n"
     ]
    }
   ],
   "source": [
    "ppclean = PpCleanIrrelevantProteins()\n",
    "A_all_vs,_ = data_factory.load_IBD_all_vs(\"Intensity\",index_func=lambda x:x,log2_transformation=True)\n",
    "A_all_vs,_ = ppclean.transform([A_all_vs,_])"
   ]
  },
  {
   "cell_type": "code",
   "execution_count": 11,
   "metadata": {},
   "outputs": [
    {
     "name": "stderr",
     "output_type": "stream",
     "text": [
      "C:\\Users\\Shenorr\\AppData\\Roaming\\Python\\Python36\\site-packages\\pandas\\core\\generic.py:3946: PerformanceWarning: dropping on a non-lexsorted multi-index without a level parameter may impact performance.\n",
      "  new_axis = axis.drop(labels, errors=errors)\n"
     ]
    }
   ],
   "source": [
    "full_profile_data = A_all_vs.copy(deep=True).T\n",
    "full_profile_data[\"cell_for_gb\"] = full_profile_data .index.map(lambda x: x.split('_0')[0])\n",
    "\n",
    "full_profile_data_var = full_profile_data.groupby(\"cell_for_gb\").std()#/full_profile_data.groupby(\"cell_for_gb\").mean()\n",
    "full_profile_data_mean = full_profile_data.groupby(\"cell_for_gb\").mean()"
   ]
  },
  {
   "cell_type": "code",
   "execution_count": 12,
   "metadata": {},
   "outputs": [
    {
     "data": {
      "text/plain": [
       "<matplotlib.collections.PathCollection at 0x1b05ee12160>"
      ]
     },
     "execution_count": 12,
     "metadata": {},
     "output_type": "execute_result"
    },
    {
     "data": {
      "image/png": "[encoded data removed]",
      "text/plain": [
       "<Figure size 432x288 with 1 Axes>"
      ]
     },
     "metadata": {},
     "output_type": "display_data"
    }
   ],
   "source": [
    "var =  full_profile_data_var.reset_index().melt([\"cell_for_gb\"]).set_index(['cell_for_gb', 'Gene names', 'major_protein_id'])\n",
    "mean = full_profile_data_mean.reset_index().melt([\"cell_for_gb\"]).set_index(['cell_for_gb', 'Gene names', 'major_protein_id'])\n",
    "\n",
    "\n",
    "mean_var = mean.merge(var,left_index=True,right_index=True,suffixes=([\"_mean\",\"_var\"]))\n",
    "mean_var = mean_var.sort_values(by=\"value_mean\")\n",
    "# plt.scatter(np.log(mean_var[\"value_mean\"]),np.log(mean_var[\"value_var\"]))\n",
    "plt.scatter((mean_var[\"value_mean\"]),(mean_var[\"value_var\"]))\n"
   ]
  },
  {
   "cell_type": "markdown",
   "metadata": {},
   "source": [
    "# build data"
   ]
  },
  {
   "cell_type": "markdown",
   "metadata": {
    "heading_collapsed": true
   },
   "source": [
    "## A_intensity,B,random_profile,A_all_vs,B_all_vs"
   ]
  },
  {
   "cell_type": "code",
   "execution_count": null,
   "metadata": {
    "hidden": true
   },
   "outputs": [],
   "source": [
    "index_func = lambda x:x\n",
    "_profile_data_intensity,_mixtures = PP_base.return_mutual_proteins_by_index(profile_data_intensity,mixtures,index_func=index_func)\n",
    "A_all_vs = _profile_data_intensity[profile_data_relvent_data_intensity].copy(deep=True)\n",
    "B_all_vs = _mixtures[mixtures_relvent_data].copy(deep=True)"
   ]
  },
  {
   "cell_type": "code",
   "execution_count": null,
   "metadata": {
    "hidden": true
   },
   "outputs": [],
   "source": [
    "A_intensity = A_all_vs.copy(deep=True)[[col for col in A_all_vs.columns if \"01\" in col]]\n",
    "B = B_all_vs[[col for col in B_all_vs.columns if \"v1\" in col]]\n",
    "\n",
    "A_intensity,B = PP_proteins.pp_clean_irrelevant_proteins(A_intensity,B)\n",
    "A_all_vs = A_all_vs.merge(_profile_data_intensity[\"Gene names\"].to_frame(),left_index=True,right_index=True).set_index([\"Gene names\"],append=True)\n",
    "\n",
    "A = A_intensity.rename({f:f.split('Intensity NOT_')[1] for f in A_intensity.columns},axis=1)\n",
    "\n",
    "simulated_profile = pick_random_value_from_intra_range(A_all_vs.copy())\n",
    "simulated_profile = simulated_profile.rename({f:f.split('Intensity NOT_')[1] for f in simulated_profile.columns},axis=1)"
   ]
  },
  {
   "cell_type": "markdown",
   "metadata": {},
   "source": [
    "## simulated_mixtures,simulated_X"
   ]
  },
  {
   "cell_type": "markdown",
   "metadata": {},
   "source": [
    "### simulated_X"
   ]
  },
  {
   "cell_type": "code",
   "execution_count": null,
   "metadata": {
    "code_folding": [
     3
    ]
   },
   "outputs": [],
   "source": [
    "cell_ref_freq = pd.read_csv('../data/cell_references_frequency.csv')\n",
    "cell_to_freq_map = cell_ref_freq[[\"mass_name\",\"range_srt\"]].set_index(\"mass_name\").to_dict()[\"range_srt\"]\n",
    "\n",
    "def my_distribution(min_val, max_val, mean, std):\n",
    "    scale = max_val - min_val\n",
    "    location = min_val\n",
    "    # Mean and standard deviation of the unscaled beta distribution\n",
    "    unscaled_mean = (mean - min_val) / scale\n",
    "    unscaled_var = (std / scale) ** 2\n",
    "    # Computation of alpha and beta can be derived from mean and variance formulas\n",
    "    t = unscaled_mean / (1 - unscaled_mean)\n",
    "    beta = ((t / unscaled_var) - (t * t) - (2 * t) - 1) / ((t * t * t) + (3 * t * t) + (3 * t) + 1)\n",
    "    alpha = beta * t\n",
    "    # Not all parameters may produce a valid distribution\n",
    "    if alpha <= 0 or beta <= 0:\n",
    "        raise ValueError('Cannot create distribution for the given parameters.')\n",
    "    # Make scaled beta distribution with computed parameters\n",
    "    return scipy.stats.beta(alpha, beta, scale=scale, loc=location)\n",
    "\n",
    "def build_random_proportions(A,cell_to_freq_map,number_of_mixtures = 50):    \n",
    "    all_cells = A.columns.tolist()\n",
    "    cells_dist_params = {}\n",
    "    for cell,params in cell_to_freq_map.items():\n",
    "        params_list = [float(params.split(\"min:\")[1][:4]),float(params.split(\"avg:\")[1][:4]),float(params.split(\"max:\")[1][:4])]\n",
    "        cells_dist_params[cell] = params_list\n",
    "        all_cells.remove(cell)\n",
    "\n",
    "    noise_ratio = np.round(30/len(all_cells),2)\n",
    "    for cell in all_cells:\n",
    "        cells_dist_params[cell] = [0,noise_ratio,2*noise_ratio]\n",
    "\n",
    "    X = pd.DataFrame(columns=range(number_of_mixtures))\n",
    "    for cell,params in cells_dist_params.items():\n",
    "        dist=my_distribution(params[0],params[2],params[1],params[1]/4)\n",
    "        cell_name = cell.split(\"_0\")[0]\n",
    "        X.loc[cell_name] = dist.rvs(number_of_mixtures)\n",
    "    return X/X.sum()\n",
    "\n",
    "simulated_X = build_random_proportions(A,cell_to_freq_map)"
   ]
  },
  {
   "cell_type": "markdown",
   "metadata": {},
   "source": [
    "### simulated_mixtures"
   ]
  },
  {
   "cell_type": "code",
   "execution_count": null,
   "metadata": {},
   "outputs": [],
   "source": [
    "def is_zero_noise(chance,percantage_to_zero = 0.1):\n",
    "    if np.random.random() < chance :\n",
    "        return np.random.random() < percantage_to_zero\n",
    "    return False\n",
    "        \n",
    "#add zeros :\n",
    "\n",
    "quantile_normalization_salt_noise = 0.8\n",
    "percantage_to_zero = 0.1\n",
    "chance_to_be_zero = 1- simulated_mixtures/simulated_mixtures.quantile(quantile_normalization_salt_noise).mean()\n",
    "noise_location = chance_to_be_zero.applymap(lambda x:is_zero_noise(x,percantage_to_zero))\n",
    "simulated_mixtures[noise_location] = 0"
   ]
  },
  {
   "cell_type": "markdown",
   "metadata": {},
   "source": [
    "# models results"
   ]
  },
  {
   "cell_type": "code",
   "execution_count": null,
   "metadata": {},
   "outputs": [],
   "source": [
    "cell_prop_exp = CellProportionsExperiments()"
   ]
  },
  {
   "cell_type": "code",
   "execution_count": null,
   "metadata": {},
   "outputs": [],
   "source": [
    "_A, _B = PP_proteins.pp_clean_irrelevant_proteins(simulated_profile.copy(deep=True), simulated_mixtures.reset_index(\"Gene names\",drop=True).copy(deep=True))\n",
    "_A_norm = _A.div(_A.sum(axis=1), axis=0)\n",
    "gene_entropy = _A_norm.apply(lambda gene_dis: entropy(gene_dis), axis=1)\n",
    "\n",
    "gene_entropy_trh = 0.001"
   ]
  },
  {
   "cell_type": "code",
   "execution_count": null,
   "metadata": {},
   "outputs": [],
   "source": [
    "cell_to_list_of_max_genes = {}\n",
    "for protein,cell in  _A.idxmax(axis=1).to_dict().items() : \n",
    "    if cell in cell_to_list_of_max_genes.keys():\n",
    "        cell_to_list_of_max_genes[cell].append(protein)\n",
    "    else : \n",
    "        cell_to_list_of_max_genes[cell] = [] \n",
    "\n",
    "list_of_genes_list = []\n",
    "\n",
    "for cell in _A.columns:\n",
    "    n_genes_per_cell = 20\n",
    "    cell_relvent_gene_entropy = gene_entropy[_A_norm[_A_norm[cell] > 0].index]\n",
    "#     cell_relvent_gene_entropy = cell_relvent_gene_entropy.loc[cell_to_list_of_max_genes[cell]].dropna()\n",
    "    #takse genes with zero entropy and the largest values\n",
    "    zero_entropy_genes = _A[cell].loc[cell_relvent_gene_entropy[cell_relvent_gene_entropy == 0].index]\n",
    "    best_zero_entropy_genes = zero_entropy_genes.nlargest(n_genes_per_cell).index\n",
    "    \n",
    "    best_genes_idx = best_zero_entropy_genes\n",
    "    #how much genes we still need - \n",
    "    n_genes_per_cell = n_genes_per_cell - best_zero_entropy_genes.shape[0]\n",
    "    trh = gene_entropy_trh\n",
    "    while best_genes_idx.shape[0] <  n_genes_per_cell  :\n",
    "        low_quantile_entropy_genes = _A[cell].loc[cell_relvent_gene_entropy[(cell_relvent_gene_entropy < cell_relvent_gene_entropy.quantile(trh)) & (cell_relvent_gene_entropy >0)].index]\n",
    "        best_quantile_entropy_genes = low_quantile_entropy_genes.nlargest(n_genes_per_cell).index\n",
    "        best_genes_idx = best_genes_idx.union(best_quantile_entropy_genes)\n",
    "        trh=trh+gene_entropy_trh\n",
    "        if trh > 1 :\n",
    "            print(cell)\n",
    "            break\n",
    "\n",
    "    list_of_genes_list.append(best_genes_idx)\n",
    "     \n",
    "    list_of_genes_list.append(best_genes_idx)\n",
    "\n",
    "genes_list_idx = reduce(lambda x, y: x.union(y), list_of_genes_list)\n",
    "\n",
    "filt_A = _A.copy(deep=True).loc[genes_list_idx]\n",
    "filt_B = _B.copy(deep=True).loc[genes_list_idx]\n",
    "\n",
    "norm_filt_A = filt_A.div(filt_A.max(axis=1), axis=0)\n",
    "norm_filt_B = filt_B.div(filt_A.max(axis=1), axis=0)\n",
    "\n"
   ]
  },
  {
   "cell_type": "code",
   "execution_count": null,
   "metadata": {},
   "outputs": [],
   "source": [
    "cmc = CellMixCoordinator()\n",
    "def calc_with_cellmix(_a,_b,X,with_cellMix = False,as_heatmap = False) : \n",
    "    if _a.empty :\n",
    "        raise Exception(\"A is empty\")\n",
    "    if _b.empty :\n",
    "        raise Exception(\"B is empty\")\n",
    "    \n",
    "    cell_abundance_over_samples = CellProportions.fit_as_df(_a,_b)\n",
    "    cellMax_cell_abundance_over_samples = cmc.cell_prop_with_bash(_b,_a).rename({\"Unnamed: 0\":\"cells\"},axis=1).set_index(\"cells\")\n",
    "    \n",
    "    return cell_abundance_over_samples,cellMax_cell_abundance_over_samples\n",
    "    "
   ]
  },
  {
   "cell_type": "code",
   "execution_count": null,
   "metadata": {},
   "outputs": [],
   "source": [
    "cell_abundance_over_samples,cellMax_cell_abundance_over_samples = calc_with_cellmix(filt_A,filt_B,simulated_X,True)"
   ]
  },
  {
   "cell_type": "code",
   "execution_count": null,
   "metadata": {
    "scrolled": false
   },
   "outputs": [],
   "source": [
    "for cell_namse,prop in cellMax_cell_abundance_over_samples.iterrows() :\n",
    "    cell  = cell_namse.split(\"_0\")[0]\n",
    "    x_prop = simulated_X.loc[cell]\n",
    "    plt.scatter(prop,x_prop)\n",
    "    plt.title(cell)\n",
    "    plt.show()"
   ]
  },
  {
   "cell_type": "code",
   "execution_count": null,
   "metadata": {},
   "outputs": [],
   "source": [
    "filt_B"
   ]
  }
 ],
 "metadata": {
  "hide_input": false,
  "kernelspec": {
   "display_name": "Python 3",
   "language": "python",
   "name": "python3"
  },
  "language_info": {
   "codemirror_mode": {
    "name": "ipython",
    "version": 3
   },
   "file_extension": ".py",
   "mimetype": "text/x-python",
   "name": "python",
   "nbconvert_exporter": "python",
   "pygments_lexer": "ipython3",
   "version": "3.6.5"
  },
  "toc": {
   "base_numbering": 1,
   "nav_menu": {},
   "number_sections": true,
   "sideBar": true,
   "skip_h1_title": false,
   "title_cell": "Table of Contents",
   "title_sidebar": "Contents",
   "toc_cell": false,
   "toc_position": {},
   "toc_section_display": true,
   "toc_window_display": false
  }
 },
 "nbformat": 4,
 "nbformat_minor": 2
}
