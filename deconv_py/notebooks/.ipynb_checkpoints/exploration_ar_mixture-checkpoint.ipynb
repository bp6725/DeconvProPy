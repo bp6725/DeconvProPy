{
 "cells": [
  {
   "cell_type": "markdown",
   "metadata": {},
   "source": [
    "#  INIT"
   ]
  },
  {
   "cell_type": "code",
   "execution_count": 1,
   "metadata": {},
   "outputs": [],
   "source": [
    "import sys\n",
    "sys.path.append('../../')\n",
    "sys.path.append('../infras/cellMix/')\n",
    "sys.path.append('../infras/dashboards/')"
   ]
  },
  {
   "cell_type": "code",
   "execution_count": 2,
   "metadata": {},
   "outputs": [],
   "source": [
    "from cellMix_coordinator import CellMixCoordinator"
   ]
  },
  {
   "cell_type": "code",
   "execution_count": 3,
   "metadata": {},
   "outputs": [],
   "source": [
    "import exploration_plots\n",
    "import dashs"
   ]
  },
  {
   "cell_type": "code",
   "execution_count": 4,
   "metadata": {},
   "outputs": [],
   "source": [
    "import pandas as pd\n",
    "import numpy as np\n",
    "from functools import partial\n",
    "import multiprocessing\n",
    "\n",
    "from scipy.optimize import least_squares\n",
    "from sklearn.metrics import mean_squared_error\n",
    "from functools import partial\n",
    "from scipy.optimize import minimize\n",
    "import scipy.optimize\n",
    "from itertools import combinations\n",
    "import matplotlib.pyplot as plt\n",
    "import seaborn as sns\n",
    "\n",
    "import os"
   ]
  },
  {
   "cell_type": "code",
   "execution_count": 5,
   "metadata": {},
   "outputs": [],
   "source": [
    "from deconv_py.preprocess.base import BasePreprocess as PP_base\n",
    "from deconv_py.preprocess.cell_specific import CellSpecific as PP_proteins\n",
    "\n",
    "from deconv_py.infras.data_factory import DataFactory\n",
    "from deconv_py.infras.data_loader import DataLoader\n",
    "\n",
    "from deconv_py.models.base import Base as Models_base\n",
    "from deconv_py.models.cell_proportions_models import CellProportions\n",
    "from deconv_py.models.cell_specific_models import CellSpecificPerPermutation\n",
    "\n",
    "from deconv_py.experiments.cell_specific import CellSpecificMetricsPlot\n",
    "\n",
    "# from deconv_py.infras.cellMix.cellMix_coordinator import CellMixCoordinator"
   ]
  },
  {
   "cell_type": "code",
   "execution_count": 6,
   "metadata": {
    "code_folding": [
     2
    ]
   },
   "outputs": [
    {
     "name": "stderr",
     "output_type": "stream",
     "text": [
      "C:\\ProgramData\\Anaconda3\\lib\\site-packages\\IPython\\core\\interactiveshell.py:2963: DtypeWarning: Columns (5,6,2764,2765,2773,2774,2775,2776) have mixed types. Specify dtype option on import or set low_memory=False.\n",
      "  exec(code_obj, self.user_global_ns, self.user_ns)\n"
     ]
    }
   ],
   "source": [
    "data_loader = DataLoader(mass_spec_path=os.path.abspath('../data/20150208_mixture_proteinGroups.xls'),\n",
    "                         protein_profile_path = os.path.abspath('../data/20150718_Cerberus_proteinGroups.txt'))\n"
   ]
  },
  {
   "cell_type": "code",
   "execution_count": 7,
   "metadata": {},
   "outputs": [],
   "source": [
    "cmc = CellMixCoordinator()\n",
    "def _calc_and_display_with_cellmix(_a,_b,X,with_cellMix = False) : \n",
    "    cell_abundance_over_samples = CellProportions.fit(_a,_b.values)\n",
    "    \n",
    "    if with_cellMix : \n",
    "        cellMax_cell_abundance_over_samples = cmc.cell_prop_with_bash(_b,_a)\n",
    "        display(cellMax_cell_abundance_over_samples)\n",
    "        \n",
    "    display(cell_abundance_over_samples)\n",
    "    display(X)\n",
    "    "
   ]
  },
  {
   "cell_type": "markdown",
   "metadata": {},
   "source": [
    "# exploration - intensities"
   ]
  },
  {
   "cell_type": "markdown",
   "metadata": {},
   "source": [
    "## read data - intensities"
   ]
  },
  {
   "cell_type": "markdown",
   "metadata": {},
   "source": [
    "### mixture & cell specific data"
   ]
  },
  {
   "cell_type": "code",
   "execution_count": 8,
   "metadata": {},
   "outputs": [],
   "source": [
    "data_factory = DataFactory(data_loader)\n",
    "profile_data,profile_data_relvent_data = data_factory.build_cell_specific_profile(intensity_type='Intensity')\n",
    "mixtures,mixtures_relvent_data = data_factory.build_mixture_data(intensity_type='Intensity')"
   ]
  },
  {
   "cell_type": "markdown",
   "metadata": {},
   "source": [
    "### cell proportions"
   ]
  },
  {
   "cell_type": "code",
   "execution_count": 9,
   "metadata": {},
   "outputs": [],
   "source": [
    "cell_proportions_df = pd.DataFrame(index = ['Intensity NOT_CD4TCellTcm_01','Intensity NOT_BCellmemory_01','Intensity NOT_Monocytesnonclassical_01'],\n",
    "                                   columns = list(range(1,9)),\n",
    "                                   data =np.array(((100,0,0),(0,100,0),(0,0,100),(33,33,33),(25,25,50),(25,50,25),(50,25,25),(47.5,47.5,5.0))).T)"
   ]
  },
  {
   "cell_type": "markdown",
   "metadata": {},
   "source": [
    "## build A ,X and B "
   ]
  },
  {
   "cell_type": "markdown",
   "metadata": {},
   "source": [
    "### set unique index"
   ]
  },
  {
   "cell_type": "code",
   "execution_count": 10,
   "metadata": {},
   "outputs": [],
   "source": [
    "index_func = lambda x:x.split(';')[0]\n",
    "_profile_data,_mixtures = PP_base.return_mutual_proteins_by_index(profile_data,mixtures,index_func=index_func)\n",
    "A = _profile_data[profile_data_relvent_data]\n",
    "B = _mixtures[mixtures_relvent_data]\n",
    "X = cell_proportions_df"
   ]
  },
  {
   "cell_type": "code",
   "execution_count": 11,
   "metadata": {},
   "outputs": [],
   "source": [
    "B=B.rename({f:f.split('Intensity ')[1] for f in B.columns},axis=1)\n",
    "\n",
    "X = X.rename({f:f.split('Intensity ')[1] for f in X.index},axis=0)\n",
    "X = X.rename({f:'mixture'+str(f) for f in X.columns},axis=1)\n",
    "\n",
    "A = A.rename({f:f.split('Intensity ')[1] for f in A.columns},axis=1)"
   ]
  },
  {
   "cell_type": "markdown",
   "metadata": {},
   "source": [
    "## intensities analysis"
   ]
  },
  {
   "cell_type": "markdown",
   "metadata": {},
   "source": [
    "### distributions\n",
    "#### first - cell profiles vs cell known proportions vs cell mixtures\n",
    "#### second - histogram per cell profile "
   ]
  },
  {
   "cell_type": "code",
   "execution_count": null,
   "metadata": {
    "code_folding": []
   },
   "outputs": [],
   "source": [
    "import scipy.cluster.hierarchy as sch\n",
    "\n",
    "def cells_profiles(A,cell_proportions_df = None,B = None):\n",
    "    n_var = len([1 for i in locals().values() if i is not None])\n",
    "\n",
    "    res= (A.T/A.mean(axis=1)).T\n",
    "    res[A==0]=0\n",
    "\n",
    "    d = sch.distance.pdist(res) \n",
    "    L = sch.linkage(res, method='complete')\n",
    "    ind = sch.fcluster(L, 0.5*d.max(), 'distance')\n",
    "    indexes = [res.index.tolist()[i] for i in list((np.argsort(ind)))]\n",
    "    df = res.reindex_axis(indexes, axis=0)\n",
    "\n",
    "    args = plt.subplots(1, n_var)\n",
    "    args[0].set_figheight(10)\n",
    "    args[0].set_figwidth(10)\n",
    "\n",
    "    sns.heatmap(df,ax=args[1][0])\n",
    "\n",
    "    if cell_proportions_df is not None : \n",
    "        sns.heatmap(cell_proportions_df,ax=args[1][1])\n",
    "\n",
    "    if B is not None:\n",
    "        B_ordered = B.copy(deep=True).T/B.mean(axis=1) \n",
    "        B_ordered[B.T==0] = 0\n",
    "        B_ordered = B_ordered.T.reindex_axis(indexes)\n",
    "        sns.heatmap(B_ordered,ax=args[1][2])\n",
    "    plt.subplots_adjust(wspace = 2)\n",
    "\n",
    "cells_profiles(A,cell_proportions_df,B)\n"
   ]
  },
  {
   "cell_type": "code",
   "execution_count": null,
   "metadata": {},
   "outputs": [],
   "source": [
    "def values_histogram_per_cell_profile(A):\n",
    "    fig = plt.figure(figsize = (15,20))\n",
    "    ax = fig.gca()\n",
    "    np.log2(A+1).hist(bins=100,ax=ax)\n",
    "values_histogram_per_cell_profile(A)"
   ]
  },
  {
   "cell_type": "markdown",
   "metadata": {},
   "source": [
    "### correlation mixture vs expcted_mixture - pearson"
   ]
  },
  {
   "cell_type": "code",
   "execution_count": null,
   "metadata": {
    "code_folding": []
   },
   "outputs": [],
   "source": [
    "def corr_expcted_vs_mixture(expcted_b,B,method  = \"pearson\"):\n",
    "    corr_per_mixture_df = pd.DataFrame(index= B.columns)\n",
    "\n",
    "    for i in np.linspace(0.05,0.95,19) :\n",
    "        trh = round(i,2)\n",
    "\n",
    "        for mixture_idx in B:\n",
    "            mixture =np.log2(B[mixture_idx])\n",
    "            mixture = B[mixture_idx]\n",
    "            mixture[B[mixture_idx] == 0] = 0\n",
    "            mixture_trh = mixture.quantile(trh)\n",
    "            relevant_proteins = mixture[mixture>mixture_trh].index\n",
    "\n",
    "            _expcted_b = np.log2(expcted_b[mixture_idx])\n",
    "            _expcted_b = expcted_b[mixture_idx]\n",
    "            _expcted_b[expcted_b[mixture_idx] ==0] = 0\n",
    "            corr = _expcted_b.loc[relevant_proteins].corr(mixture.loc[relevant_proteins],method = method)\n",
    "            corr_per_mixture_df.ix[mixture_idx,trh] = corr\n",
    "    corr_per_mixture_df.T.plot(title=f\"correlation mixture vs expcted_mixture - {method}\")"
   ]
  },
  {
   "cell_type": "code",
   "execution_count": null,
   "metadata": {},
   "outputs": [],
   "source": [
    "expcted_b = A.dot(X)\n",
    "corr_expcted_vs_mixture(expcted_b,B)"
   ]
  },
  {
   "cell_type": "markdown",
   "metadata": {
    "heading_collapsed": true
   },
   "source": [
    "### correlation mixture vs expcted_mixture - speraman"
   ]
  },
  {
   "cell_type": "code",
   "execution_count": null,
   "metadata": {
    "hidden": true
   },
   "outputs": [],
   "source": [
    "corr_expcted_vs_mixture(expcted_b,B,\"spearman\")"
   ]
  },
  {
   "cell_type": "markdown",
   "metadata": {
    "heading_collapsed": true
   },
   "source": [
    "### number of unexpcted zeros - not zero in the profile but zero in the mixture\n",
    "#### x axis  - the number of mixtures where the gene is zero (but not in the profile)"
   ]
  },
  {
   "cell_type": "code",
   "execution_count": null,
   "metadata": {
    "code_folding": [],
    "hidden": true
   },
   "outputs": [],
   "source": [
    "def unexpcted_zeros_per_mixture(expcted_b,B) : \n",
    "    number_of_unexpcted_zeros = ((expcted_b != 0)&(B==0)).sum(axis=1)\n",
    "    display((number_of_unexpcted_zeros >0).sum())\n",
    "    display(number_of_unexpcted_zeros.hist())\n",
    "    plt.title(\"number of mixtures where the gene is zero (but not in the profile)\")\n",
    "unexpcted_zeros_per_mixture(expcted_b,B)"
   ]
  },
  {
   "cell_type": "markdown",
   "metadata": {
    "heading_collapsed": true
   },
   "source": [
    "### scatter mixture vs expcted_mixture"
   ]
  },
  {
   "cell_type": "code",
   "execution_count": null,
   "metadata": {
    "hidden": true,
    "scrolled": true
   },
   "outputs": [],
   "source": [
    "def scatter_mixture_vs_expcted_mixture(expcted_mixture,B):\n",
    "    for i,mixture_idx in enumerate(B):\n",
    "        mixture =np.log2(1+B[mixture_idx])\n",
    "        expcted_mixture = np.log2(expcted_b[mixture_idx])\n",
    "\n",
    "        sns.regplot(mixture,expcted_mixture)\n",
    "        plt.title(mixture_idx)\n",
    "        plt.xlabel( \"mixture log2\")\n",
    "        plt.ylabel (\"expected mixture log2\")\n",
    "        plt.show()\n",
    "scatter_mixture_vs_expcted_mixture(expcted_b,B)"
   ]
  },
  {
   "cell_type": "markdown",
   "metadata": {},
   "source": [
    "### histogram of - the expected values of  where we have unexpected zeros(in the mixture) vs all expected values"
   ]
  },
  {
   "cell_type": "code",
   "execution_count": null,
   "metadata": {
    "code_folding": [
     1
    ],
    "scrolled": false
   },
   "outputs": [],
   "source": [
    "def expected_values_of_unexpected_zeros(expcted_b,B):\n",
    "    for mixture_idx in B:\n",
    "        zeros = np.log2(1+expcted_b[mixture_idx][((expcted_b[mixture_idx] != 0)&(B[mixture_idx]==0))])\n",
    "        all_data = np.log2(1+B[mixture_idx][B[mixture_idx] != 0])\n",
    "\n",
    "        plt.hist(zeros, 100, alpha=0.5, label=\"expected values of unexpected zeros\")\n",
    "        plt.hist(all_data, 100, alpha=0.5, label=\"expected values\")\n",
    "        plt.title(mixture_idx)\n",
    "        plt.xlabel(\"log2 values\")\n",
    "        plt.legend(loc = \"upper right\")\n",
    "        plt.show()\n",
    "expected_values_of_unexpected_zeros(expcted_b,B)"
   ]
  }
 ],
 "metadata": {
  "hide_input": false,
  "kernelspec": {
   "display_name": "Python 3",
   "language": "python",
   "name": "python3"
  },
  "language_info": {
   "codemirror_mode": {
    "name": "ipython",
    "version": 3
   },
   "file_extension": ".py",
   "mimetype": "text/x-python",
   "name": "python",
   "nbconvert_exporter": "python",
   "pygments_lexer": "ipython3",
   "version": "3.6.5"
  },
  "toc": {
   "base_numbering": 1,
   "nav_menu": {},
   "number_sections": true,
   "sideBar": true,
   "skip_h1_title": false,
   "title_cell": "Table of Contents",
   "title_sidebar": "Contents",
   "toc_cell": false,
   "toc_position": {},
   "toc_section_display": true,
   "toc_window_display": false
  }
 },
 "nbformat": 4,
 "nbformat_minor": 2
}
