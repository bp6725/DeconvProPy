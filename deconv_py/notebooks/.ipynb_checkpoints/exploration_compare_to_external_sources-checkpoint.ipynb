{
 "cells": [
  {
   "cell_type": "markdown",
   "metadata": {},
   "source": [
    "#  INIT"
   ]
  },
  {
   "cell_type": "code",
   "execution_count": 1,
   "metadata": {},
   "outputs": [],
   "source": [
    "import sys\n",
    "sys.path.append('../../')\n",
    "sys.path.append('../infras/cellMix/')\n",
    "sys.path.append('../infras/dashboards/')\n",
    "\n",
    "from cellMix_coordinator import CellMixCoordinator\n",
    "\n",
    "import exploration_plots\n",
    "import dashs"
   ]
  },
  {
   "cell_type": "code",
   "execution_count": 2,
   "metadata": {},
   "outputs": [],
   "source": [
    "import pandas as pd\n",
    "import numpy as np\n",
    "from functools import partial\n",
    "import multiprocessing\n",
    "\n",
    "from itertools import chain\n",
    "from scipy.optimize import least_squares\n",
    "from sklearn.metrics import mean_squared_error\n",
    "from functools import partial\n",
    "from scipy.optimize import minimize\n",
    "import scipy.optimize\n",
    "from itertools import combinations\n",
    "import matplotlib.pyplot as plt\n",
    "import seaborn as sns\n",
    "from scipy.stats import gaussian_kde\n",
    "\n",
    "from scipy.stats import entropy\n",
    "from functools import reduce\n",
    "import matplotlib.patches as patches\n",
    "\n",
    "\n",
    "import os"
   ]
  },
  {
   "cell_type": "code",
   "execution_count": 3,
   "metadata": {},
   "outputs": [],
   "source": [
    "from deconv_py.preprocess.base import BasePreprocess as PP_base\n",
    "from deconv_py.preprocess.cell_specific import CellSpecific as PP_proteins\n",
    "\n",
    "from deconv_py.infras.data_factory import DataFactory\n",
    "from deconv_py.infras.data_loader import DataLoader\n",
    "\n",
    "from deconv_py.models.base import Base as Models_base\n",
    "from deconv_py.models.cell_proportions_models import CellProportions\n",
    "from deconv_py.models.cell_specific_models import CellSpecificPerPermutation\n",
    "\n",
    "from deconv_py.experiments.cell_specific import CellSpecificMetricsPlot\n",
    "\n",
    "# from deconv_py.infras.cellMix.cellMix_coordinator import CellMixCoordinator"
   ]
  },
  {
   "cell_type": "code",
   "execution_count": 4,
   "metadata": {},
   "outputs": [
    {
     "name": "stderr",
     "output_type": "stream",
     "text": [
      "C:\\ProgramData\\Anaconda3\\lib\\site-packages\\IPython\\core\\interactiveshell.py:2963: DtypeWarning: Columns (5,6,2764,2765,2773,2774,2775,2776) have mixed types. Specify dtype option on import or set low_memory=False.\n",
      "  exec(code_obj, self.user_global_ns, self.user_ns)\n"
     ]
    }
   ],
   "source": [
    "data_loader = DataLoader(mass_spec_path=os.path.abspath('../data/20190801_filtered_imputed_data.csv'),\n",
    "                         protein_profile_path = os.path.abspath('../data/20150718_Cerberus_proteinGroups.txt'),as_csv = True)\n",
    "data_factory = DataFactory(data_loader)\n",
    "ms = data_loader.get_mass_spec_data()"
   ]
  },
  {
   "cell_type": "code",
   "execution_count": 5,
   "metadata": {},
   "outputs": [],
   "source": [
    "from deconv_py.preprocess.cell_specifics.pp_clean_irrelevant_proteins import PpCleanIrrelevantProteins\n",
    "from deconv_py.preprocess.cell_specifics.pp_entropy_based import PpEntropyBased\n",
    "from deconv_py.models.cell_proportions.basic import BasicDeconv"
   ]
  },
  {
   "cell_type": "markdown",
   "metadata": {},
   "source": [
    "## read data - intensities"
   ]
  },
  {
   "cell_type": "markdown",
   "metadata": {},
   "source": [
    "### mixture & cell specific data"
   ]
  },
  {
   "cell_type": "markdown",
   "metadata": {},
   "source": [
    "**LFQ:** rel. quantification – for same protein across different samples\n",
    "\n",
    "**iBAQ:** orthogonal comparison – for different proteins in the same sample"
   ]
  },
  {
   "cell_type": "code",
   "execution_count": 6,
   "metadata": {
    "code_folding": []
   },
   "outputs": [],
   "source": [
    "relvent_data_iBAQ = data_factory._build_relvent_data( DataFactory.IBD_A_RELVENT_DATA,\"iBAQ\")\n",
    "profile_data_iBAQ,profile_data_relvent_data_iBAQ = data_factory.build_cell_specific_profile(auto_filter_by=False,relvent_data=relvent_data_iBAQ,relvent_columns=[\"Majority protein IDs\",\"Gene names\"])\n",
    "mixtures,mixtures_relvent_data = data_factory.build_mixture_data(relvent_data= ms.columns.tolist() ,relvent_columns=[\"Majority protein IDs\",\"Gene.names\"],auto_filter_by=False,log2_transformation=True)"
   ]
  },
  {
   "cell_type": "markdown",
   "metadata": {},
   "source": [
    "## build A ,X and B "
   ]
  },
  {
   "cell_type": "code",
   "execution_count": 7,
   "metadata": {},
   "outputs": [],
   "source": [
    "index_func = lambda x:x\n",
    "_profile_data_iBAQ,_mixtures = PP_base.return_mutual_proteins_by_index(profile_data_iBAQ,mixtures,index_func=index_func)\n",
    "A_iBAQ = _profile_data_iBAQ[profile_data_relvent_data_iBAQ]\n",
    "B = _mixtures[mixtures_relvent_data]\n",
    "# X = cell_proportions_df"
   ]
  },
  {
   "cell_type": "code",
   "execution_count": 8,
   "metadata": {},
   "outputs": [],
   "source": [
    "# B=B.rename({f:f.split('Intensity ')[1] for f in B.columns},axis=1)\n",
    "\n",
    "# X = X.rename({f:f.split('Intensity ')[1] for f in X.index},axis=0)\n",
    "# X = X.rename({f:'mixture'+str(f) for f in X.columns},axis=1)\n",
    "\n",
    "A_iBAQ = A_iBAQ.rename({f:f.split('iBAQ ')[1] for f in A_iBAQ.columns},axis=1)"
   ]
  },
  {
   "cell_type": "markdown",
   "metadata": {
    "heading_collapsed": true
   },
   "source": [
    "# Comparisons"
   ]
  },
  {
   "cell_type": "markdown",
   "metadata": {
    "hidden": true
   },
   "source": [
    "## DICE"
   ]
  },
  {
   "cell_type": "code",
   "execution_count": null,
   "metadata": {
    "code_folding": [
     0
    ],
    "hidden": true,
    "scrolled": true
   },
   "outputs": [],
   "source": [
    "mass_cell_to_gene_cell_map = {'NOT_BCellmemory_01': None,\n",
    "                                  'NOT_BCellnaive_01':'B_CELL_NAIVE',\n",
    "                                  'NOT_BCellplasma_01':None,\n",
    "                                  'NOT_CD4TCellmTregs_01':'T cell, CD4, memory TREG',\n",
    "                                  'NOT_CD4TCellnaive_01':'T cell, CD4, naive' ,\n",
    "                                  'NOT_CD4TCellnTregs_01':'T cell, CD4, naive TREG',\n",
    "                                  'NOT_CD4TCellTcm_01':None ,\n",
    "                                  'NOT_CD4TCellTem_01': None,\n",
    "                                  'NOT_CD4TCellTemra_01':None,\n",
    "                                  'NOT_CD4TCellTh1_01':'T cell, CD4, TH1' ,\n",
    "                                  'NOT_CD4TCellTh17_01':'T cell, CD4, TH17',\n",
    "                                  'NOT_CD4TCellTh2_01':'T cell, CD4, TH2' ,\n",
    "                                  'NOT_CD8TCellnaive_01':'T cell, CD8, naive',\n",
    "                                  'NOT_CD8TCellTcm_01': None,\n",
    "                                  'NOT_CD8TCellTem_01':None ,\n",
    "                                  'NOT_CD8TCellTemra_01':None,\n",
    "                                  'NOT_DendriticCD1c_01':None,\n",
    "                                  'NOT_DendriticCD304_01':None,\n",
    "                                  'NOT_Erythrocytes_01': None,\n",
    "                                  'NOT_Monocytesclassical_01':'MONOCYTES' ,\n",
    "                                  'NOT_Monocytesintermediate_01':None,\n",
    "                                  'NOT_Monocytesnonclassical_01':'MONOCYTES_NON_CLASSICAL',\n",
    "                                  'NOT_NKCellsCD56bright_01': None,\n",
    "                                  'NOT_NKCellsCD56dim_01':'NK cell, CD56dim CD16+' ,\n",
    "                                  'NOT_Thrombocytes_01': None,\n",
    "                                  'NOT_Granulocyteseosinophils_01':None,\n",
    "                                  'NOT_GranulocytesBasophil_01':None\n",
    "                               }\n",
    "mass_cell_to_gene_cell_map = {('iBAQ '+k):v for k,v in mass_cell_to_gene_cell_map.items()}\n",
    "gene_expression = pd.read_csv(\"../data/gene_expression_per_cell.csv\").rename(columns={v:k for k,v in mass_cell_to_gene_cell_map.items()})\n",
    "gene_expression = gene_expression.set_index(\"Gene name\")\n",
    "\n",
    "relvent_with_genes =  profile_data_relvent_data_iBAQ + [\"Gene names\"]\n",
    "_A_with_gene_iBAQ = profile_data_iBAQ[relvent_with_genes].set_index(\"Gene names\")"
   ]
  },
  {
   "cell_type": "code",
   "execution_count": null,
   "metadata": {
    "hidden": true
   },
   "outputs": [],
   "source": [
    "cell_ref_freq = pd.read_csv('../data/cell_references_frequency.csv')\n",
    "cell_to_freq_map = cell_ref_freq[[\"mass_name\",\"range_srt\"]].set_index(\"mass_name\").to_dict()[\"range_srt\"]"
   ]
  },
  {
   "cell_type": "code",
   "execution_count": null,
   "metadata": {
    "code_folding": [
     1,
     10
    ],
    "hidden": true,
    "scrolled": false
   },
   "outputs": [],
   "source": [
    "results = {}\n",
    "for _cell in _A_with_gene_iBAQ.columns :\n",
    "    if _cell in gene_expression.columns:\n",
    "        merged_df = _A_with_gene_iBAQ[_cell].to_frame().merge(gene_expression[_cell].to_frame(),left_index = True,right_index = True)\n",
    "        merged_df = merged_df.dropna(how=\"any\")\n",
    "        cell_name = _cell.split('iBAQ NOT_')[1]\n",
    "        results[cell_name] = merged_df\n",
    "\n",
    "fig,axs = plt.subplots(int(np.ceil(len(results)/3)),3,figsize=(15,15))\n",
    "\n",
    "for (cell_name,df),ax in zip(results.items(),axs.reshape(-1)) : \n",
    "    ax.scatter(np.log2(1+ df[df.columns[0]]),np.log2(1 + df[df.columns[1]]))\n",
    "    ax.set_title(f\"{cell_name}\\n{cell_to_freq_map[cell_name]}\")\n",
    "    ax.set_xlabel(\"massSpec\")\n",
    "    ax.set_ylabel(\"gene expression\")\n",
    "plt.subplots_adjust(hspace = 0.6)"
   ]
  },
  {
   "cell_type": "markdown",
   "metadata": {
    "hidden": true
   },
   "source": [
    "## human proteins atlas "
   ]
  },
  {
   "cell_type": "markdown",
   "metadata": {
    "hidden": true
   },
   "source": [
    "**Transcript expression levels summarized per gene in 18 blood cell types and total PBMC** \n",
    "\n",
    "\n",
    "**protein-coding transcripts per million (\"pTPM\"):** \n",
    "fraction of transcripts per million of total transcripts from protein-coding genes - The pTPM values can be used to investigate the abundance of a particular gene, gene family, or gene class relative to all other transcripts in a particular cell, tissue, or organ. \n",
    "\n",
    "**normalized expression (\"NX\"):**\n",
    "The objective of using the NX value is to facilitate the\n",
    "analysis of differences in expression of genes\n",
    "between cells, tissues, and organs and to allow for a specificity classification based on the\n",
    "genome-wide expression of all genes across the\n",
    "human blood cells, tissues, and organs.\n",
    "\n",
    "***The data is based on The Human Protein Atlas version 19.1 and Ensembl version 92.38.\n"
   ]
  },
  {
   "cell_type": "code",
   "execution_count": null,
   "metadata": {
    "hidden": true
   },
   "outputs": [],
   "source": [
    "rna_blood_cell_df = pd.read_csv(\"../data/gene_expression/human atlas/rna_blood_cell.tsv\",sep=\"\\t\")\n",
    "rna_blood_cell_df =rna_blood_cell_df.loc[~rna_blood_cell_df[[\"Gene name\",\"Blood cell\"]].duplicated()]\n",
    "ptmp_rna_cell_df = rna_blood_cell_df.pivot(index = \"Gene name\",columns=\"Blood cell\",values=\"pTPM\")\n",
    "nx_rna_cell_df = rna_blood_cell_df.pivot(index = \"Gene name\",columns=\"Blood cell\",values=\"NX\")\n"
   ]
  },
  {
   "cell_type": "code",
   "execution_count": null,
   "metadata": {
    "hidden": true
   },
   "outputs": [],
   "source": [
    "iBAQ_profile = profile_data_iBAQ[[\"Gene names\"] + profile_data_relvent_data_iBAQ].set_index(\"Gene names\")"
   ]
  },
  {
   "cell_type": "code",
   "execution_count": null,
   "metadata": {
    "code_folding": [
     0,
     41
    ],
    "hidden": true
   },
   "outputs": [],
   "source": [
    "mass_cell_to_gene_cell_map = {'NOT_BCellmemory_01': 'memory B-cell',\n",
    "                                  'NOT_BCellnaive_01' : 'naive B-cell',\n",
    "                                  'NOT_BCellplasma_01' : None,\n",
    "                                  'NOT_CD4TCellmTregs_01' : 'T-reg',\n",
    "                                  'NOT_CD4TCellnaive_01':'naive CD4 T-cell',\n",
    "                                  'NOT_CD4TCellnTregs_01':'T-reg',\n",
    "                                  'NOT_CD4TCellTcm_01' : 'memory CD4 T-cell' ,\n",
    "                                  'NOT_CD4TCellTem_01' : None,\n",
    "                                  'NOT_CD4TCellTemra_01' :None,\n",
    "                                  'NOT_CD4TCellTh1_01':None,\n",
    "                                  'NOT_CD4TCellTh17_01':None,\n",
    "                                  'NOT_CD4TCellTh2_01':None,\n",
    "                                  'NOT_CD8TCellnaive_01':'naive CD8 T-cell',\n",
    "                                  'NOT_CD8TCellTcm_01' : 'memory CD8 T-cell',\n",
    "                                  'NOT_CD8TCellTem_01' : None ,\n",
    "                                  'NOT_CD8TCellTemra_01' : None,\n",
    "                                  'NOT_DendriticCD1c_01' : None,\n",
    "                                  'NOT_DendriticCD304_01' : None,\n",
    "                                  'NOT_Erythrocytes_01' : None,\n",
    "                                  'NOT_Monocytesclassical_01': 'classical monocyte' ,\n",
    "                                  'NOT_Monocytesintermediate_01' : 'intermediate monocyte',\n",
    "                                  'NOT_Monocytesnonclassical_01': 'non-classical monocyte',\n",
    "                                  'NOT_NKCellsCD56bright_01' : 'NK-cell',\n",
    "                                  'NOT_NKCellsCD56dim_01': 'NK-cell',\n",
    "                                  'NOT_Thrombocytes_01' : None,\n",
    "                                  'NOT_Granulocyteseosinophils_01' : \"eosinophil\",\n",
    "                                  'NOT_GranulocytesBasophil_01' : \"basophil\"}\n",
    "mass_cell_to_gene_cell_map = {('iBAQ '+k):v for k,v in mass_cell_to_gene_cell_map.items()}\n",
    "\n",
    "def return_corosponding_profiles(home_profile,out_profile,mass_cell_to_gene_cell_map) : \n",
    "    def get_home_cor_gene(out_gene,mut_genes_multiple,mut_genes):\n",
    "        if out_gene in mut_genes : \n",
    "            return out_gene\n",
    "        if out_gene in mut_genes_multiple.keys():\n",
    "            return mut_genes_multiple[out_gene]\n",
    "\n",
    "    out_genes = nx_rna_cell_df.index.dropna().drop_duplicates()\n",
    "    home_genes = home_profile.index.dropna().drop_duplicates()\n",
    "\n",
    "    home_genes_multiple = [genes for genes in home_genes if \";\" in genes] \n",
    "    mut_genes_multiple = {}\n",
    "    for out_gene in out_genes : \n",
    "        for home_gene in home_genes_multiple:\n",
    "            if out_gene in home_gene:\n",
    "                mut_genes_multiple[out_gene] = home_gene\n",
    "\n",
    "    mut_genes = out_genes.intersection(home_genes)\n",
    "    \n",
    "    filt_out_profile = out_profile.copy(deep=True).loc[mut_genes.union(pd.Index(mut_genes_multiple.keys()))]\n",
    "    filt_out_profile[\"home_cor_gene\"] = filt_out_profile.index.map(lambda out_gene:get_home_cor_gene(out_gene,mut_genes_multiple,mut_genes))\n",
    "    #mean the duplicates : \n",
    "    filt_out_profile = filt_out_profile.groupby(\"home_cor_gene\").mean()\n",
    "    filt_home_profile = home_profile.loc[filt_out_profile.index]\n",
    "    \n",
    "    only_mut_cells_home_profile = filt_home_profile.rename(columns = mass_cell_to_gene_cell_map)[[col for col in mass_cell_to_gene_cell_map.values() if col is not 'None']]\n",
    "    only_mut_cells_home_profile = only_mut_cells_home_profile.groupby(lambda x:x,axis=1).sum()\n",
    "    only_mut_cells_out_df = filt_out_profile[only_mut_cells_home_profile.columns]\n",
    "    return  only_mut_cells_home_profile,only_mut_cells_out_df\n",
    "\n",
    "filt_iBAQ_profile,filt_ptmp_rna_cell_df = return_corosponding_profiles(iBAQ_profile,ptmp_rna_cell_df,mass_cell_to_gene_cell_map)"
   ]
  },
  {
   "cell_type": "markdown",
   "metadata": {
    "hidden": true
   },
   "source": [
    "### all atlas"
   ]
  },
  {
   "cell_type": "code",
   "execution_count": null,
   "metadata": {
    "code_folding": [
     0
    ],
    "hidden": true,
    "scrolled": true
   },
   "outputs": [],
   "source": [
    "def plot_results(mass_profile,gene_profile):\n",
    "    results = {}\n",
    "    for _cell in mass_profile.columns : \n",
    "        if _cell in gene_profile.columns:\n",
    "            merged_df = mass_profile[_cell].to_frame().merge(gene_profile[_cell].to_frame(),left_index = True,right_index = True)\n",
    "            merged_df = merged_df.dropna(how=\"any\")\n",
    "            cell_name =_cell\n",
    "            results[cell_name] = merged_df\n",
    "\n",
    "    fig,axs = plt.subplots(int(np.ceil(len(results)/3)),3,figsize=(15,15))\n",
    "\n",
    "    for (cell_name,df),ax in zip(results.items(),axs.reshape(-1)) : \n",
    "        x = np.log2(1+ df[df.columns[0]])\n",
    "        y = np.log2(1 + df[df.columns[1]])\n",
    "\n",
    "        xy = np.vstack([x,y])\n",
    "        z = gaussian_kde(xy)(xy)\n",
    "\n",
    "        ax.scatter(x, y, c=z,s=100, edgecolor='')\n",
    "        ax.set_title(f\"{cell_name}\")\n",
    "        ax.set_xlabel(\"massSpec\")\n",
    "        ax.set_ylabel(\"gene expression\")\n",
    "    plt.subplots_adjust(hspace = 0.6)\n",
    "\n",
    "plot_results(filt_iBAQ_profile,filt_ptmp_rna_cell_df)"
   ]
  },
  {
   "cell_type": "markdown",
   "metadata": {
    "hidden": true
   },
   "source": [
    "### signature - !!! this is comment out because the signature and the map are calculated only later !!! "
   ]
  },
  {
   "cell_type": "code",
   "execution_count": null,
   "metadata": {
    "hidden": true
   },
   "outputs": [],
   "source": [
    "signature_filt_iBAQ_profile = filt_iBAQ_profile.loc[long_possible_protein_list.map(lambda protein :protein_gene_map[protein]).dropna()]\n",
    "signature_filt_ptmp_rna_cell_df=filt_ptmp_rna_cell_df.loc[long_possible_protein_list.map(lambda protein :protein_gene_map[protein]).dropna()]\n",
    "# plot_results(signature_filt_iBAQ_profile,signature_filt_ptmp_rna_cell_df)"
   ]
  },
  {
   "cell_type": "markdown",
   "metadata": {
    "heading_collapsed": true
   },
   "source": [
    "# Jan data cross MRna variability"
   ]
  },
  {
   "cell_type": "code",
   "execution_count": null,
   "metadata": {
    "hidden": true
   },
   "outputs": [],
   "source": [
    "relvent_data_intensity = data_factory._build_relvent_data( DataFactory.IBD_A_RELVENT_DATA_all_vs,\"Intensity\")\n",
    "profile_data_intensity,profile_data_relvent_data_intensity = data_factory.build_cell_specific_profile(auto_filter_by=False,relvent_data=relvent_data_intensity,relvent_columns=[\"Majority protein IDs\",\"Gene names\"])\n",
    "mixtures,mixtures_relvent_data = data_factory.build_mixture_data(relvent_data= ms.columns.tolist() ,relvent_columns=[\"Majority protein IDs\",\"Gene.names\"],auto_filter_by=False,log2_transformation=True)"
   ]
  },
  {
   "cell_type": "code",
   "execution_count": null,
   "metadata": {
    "hidden": true
   },
   "outputs": [],
   "source": [
    "index_func = lambda x:x\n",
    "_profile_data_intensity,_mixtures = PP_base.return_mutual_proteins_by_index(profile_data_intensity,mixtures,index_func=index_func)\n",
    "A_all_vs = _profile_data_intensity[profile_data_relvent_data_intensity].copy(deep=True)\n",
    "B_all_vs = _mixtures[mixtures_relvent_data].copy(deep=True)\n"
   ]
  },
  {
   "cell_type": "code",
   "execution_count": null,
   "metadata": {
    "code_folding": [
     0
    ],
    "hidden": true
   },
   "outputs": [],
   "source": [
    "def get_gene_to_var(profile):\n",
    "    gene_to_intra_var_profile_data = profile.copy(deep=True).T\n",
    "    gene_to_intra_var_profile_data[\"cell\"]=gene_to_intra_var_profile_data.index.map(lambda x:x.split('_0')[0])\n",
    "    gene_to_intra_var_profile_data = (gene_to_intra_var_profile_data.groupby(\"cell\").std()/gene_to_intra_var_profile_data.groupby(\"cell\").mean()).T\n",
    "    gene_to_inter_var_profile_data =  profile.T.std() /profile.T.mean()\n",
    "\n",
    "    gene_to_var = gene_to_intra_var_profile_data\n",
    "    gene_to_var[\"inter\"] = gene_to_inter_var_profile_data\n",
    "\n",
    "    return gene_to_var[~gene_to_var[\"inter\"].isna()]\n",
    "\n",
    "def plot_inter_intra_cell_scatter(gene_to_var,gene_list = None,protein_list = None):\n",
    "    fig, axs = plt.subplots(14,2,figsize=(15,45))\n",
    "    \n",
    "    if gene_list is not None : \n",
    "        gene_to_var = gene_to_var[gene_to_var.index.get_level_values(\"Gene names\").isin(gene_list)]\n",
    "    \n",
    "    if protein_list is not None : \n",
    "        gene_to_var = gene_to_var[gene_to_var.index.get_level_values(\"major_protein_id\").isin(protein_list)]\n",
    "        \n",
    "    for cell,ax in zip(gene_to_var.columns,axs.reshape(-1)) : \n",
    "        if cell == \"inter\" : \n",
    "            continue\n",
    "\n",
    "        single_gene = gene_to_var[[cell,\"inter\"]].dropna()\n",
    "\n",
    "        x = single_gene[single_gene.columns[0]]\n",
    "        y = single_gene[\"inter\"]\n",
    "        \n",
    "        xy = np.vstack([x,y])\n",
    "        z = gaussian_kde(xy)(xy)\n",
    "\n",
    "        ax.scatter(x, y, c=z,s=100, edgecolor='')\n",
    "        ax.set_title(cell)\n",
    "        ax.set_xlabel(\"intra cell\")\n",
    "        ax.set_ylabel(\"inter cell\")\n",
    "        ax.set_xlim([-0.1,2.1])\n",
    "        ax.set_ylim([-1,15])\n",
    "    plt.subplots_adjust(hspace=0.5)  "
   ]
  },
  {
   "cell_type": "code",
   "execution_count": null,
   "metadata": {
    "hidden": true
   },
   "outputs": [],
   "source": [
    "gene_to_var = get_gene_to_var(A_all_vs)"
   ]
  },
  {
   "cell_type": "markdown",
   "metadata": {
    "hidden": true
   },
   "source": [
    "## variability over protein signature"
   ]
  },
  {
   "cell_type": "code",
   "execution_count": null,
   "metadata": {
    "hidden": true
   },
   "outputs": [],
   "source": [
    "A_intensity = A_all_vs.copy(deep=True)[[col for col in A_all_vs.columns if \"01\" in col]]\n",
    "B = B_all_vs[[col for col in B_all_vs.columns if \"v1\" in col]]\n",
    "\n",
    "A_intensity,B = PP_proteins.pp_clean_irrelevant_proteins(A_intensity,B)"
   ]
  },
  {
   "cell_type": "code",
   "execution_count": null,
   "metadata": {
    "hidden": true
   },
   "outputs": [],
   "source": [
    "A_all_vs = A_all_vs.merge(_profile_data_intensity[\"Gene names\"].to_frame(),left_index=True,right_index=True).set_index([\"Gene names\"],append=True)"
   ]
  },
  {
   "cell_type": "code",
   "execution_count": null,
   "metadata": {
    "hidden": true,
    "scrolled": true
   },
   "outputs": [],
   "source": [
    "long_possible_protein_list=PP_proteins.pp_entropy_largest_among_cells(A_intensity,B,n_genes_per_cell=10,only_signature=True)\n",
    "plot_inter_intra_cell_scatter(gene_to_var.copy(deep=True),protein_list =long_possible_protein_list)"
   ]
  },
  {
   "cell_type": "markdown",
   "metadata": {
    "hidden": true
   },
   "source": [
    "## variability over Mrna signature"
   ]
  },
  {
   "cell_type": "code",
   "execution_count": null,
   "metadata": {
    "code_folding": [
     3
    ],
    "hidden": true,
    "scrolled": true
   },
   "outputs": [],
   "source": [
    "# get mutual genes with human atlas\n",
    "intensity_profile = profile_data_intensity[[\"Gene names\"] + profile_data_relvent_data_intensity].set_index(\"Gene names\")\n",
    "\n",
    "mass_cell_to_gene_cell_map = {'NOT_BCellmemory_01': 'memory B-cell',\n",
    "                                  'NOT_BCellnaive_01' : 'naive B-cell',\n",
    "                                  'NOT_BCellplasma_01' : None,\n",
    "                                  'NOT_CD4TCellmTregs_01' : 'T-reg',\n",
    "                                  'NOT_CD4TCellnaive_01':'naive CD4 T-cell',\n",
    "                                  'NOT_CD4TCellnTregs_01':'T-reg',\n",
    "                                  'NOT_CD4TCellTcm_01' : 'memory CD4 T-cell' ,\n",
    "                                  'NOT_CD4TCellTem_01' : None,\n",
    "                                  'NOT_CD4TCellTemra_01' :None,\n",
    "                                  'NOT_CD4TCellTh1_01':None,\n",
    "                                  'NOT_CD4TCellTh17_01':None,\n",
    "                                  'NOT_CD4TCellTh2_01':None,\n",
    "                                  'NOT_CD8TCellnaive_01':'naive CD8 T-cell',\n",
    "                                  'NOT_CD8TCellTcm_01' : 'memory CD8 T-cell',\n",
    "                                  'NOT_CD8TCellTem_01' : None ,\n",
    "                                  'NOT_CD8TCellTemra_01' : None,\n",
    "                                  'NOT_DendriticCD1c_01' : None,\n",
    "                                  'NOT_DendriticCD304_01' : None,\n",
    "                                  'NOT_Erythrocytes_01' : None,\n",
    "                                  'NOT_Monocytesclassical_01': 'classical monocyte' ,\n",
    "                                  'NOT_Monocytesintermediate_01' : 'intermediate monocyte',\n",
    "                                  'NOT_Monocytesnonclassical_01': 'non-classical monocyte',\n",
    "                                  'NOT_NKCellsCD56bright_01' : 'NK-cell',\n",
    "                                  'NOT_NKCellsCD56dim_01': 'NK-cell',\n",
    "                                  'NOT_Thrombocytes_01' : None,\n",
    "                                  'NOT_Granulocyteseosinophils_01' : \"eosinophil\",\n",
    "                                  'NOT_GranulocytesBasophil_01' : \"basophil\"}\n",
    "mass_cell_to_gene_cell_map = {('Intensity '+k):v for k,v in mass_cell_to_gene_cell_map.items()}\n",
    "\n",
    "filt_intensity_profile,filt_nx_rna_cell_df = return_corosponding_profiles(intensity_profile,nx_rna_cell_df,mass_cell_to_gene_cell_map)"
   ]
  },
  {
   "cell_type": "code",
   "execution_count": null,
   "metadata": {
    "hidden": true,
    "scrolled": true
   },
   "outputs": [],
   "source": [
    "#we need to take from the HA only the ones that should pass \"pp_clean_irrelevant_proteins\"\n",
    "protein_gene_map = {tup[0]:tup[1] for tup in  A_all_vs.index.tolist()}\n",
    "clean_genes_from_B_index =  B.index.map(lambda protein:protein_gene_map[protein]).dropna()\n",
    "clean_filt_nx_rna_cell_df = filt_nx_rna_cell_df.loc[clean_genes_from_B_index].dropna().drop_duplicates()\n",
    "\n",
    "long_possible_gene_list_from_HA=PP_proteins.pp_entropy_largest_among_cells(clean_filt_nx_rna_cell_df,B,n_genes_per_cell=10,only_signature=True)\n",
    "plot_inter_intra_cell_scatter(gene_to_var.copy(deep=True),gene_list=long_possible_gene_list_from_HA)"
   ]
  },
  {
   "cell_type": "markdown",
   "metadata": {
    "hidden": true
   },
   "source": [
    "## mutual protein and Mrna"
   ]
  },
  {
   "cell_type": "code",
   "execution_count": null,
   "metadata": {
    "hidden": true,
    "scrolled": true
   },
   "outputs": [],
   "source": [
    "mutual_genes = long_possible_protein_list.map(lambda protein : protein_gene_map[protein]).intersection(long_possible_protein_list_from_HA)\n",
    "plot_inter_intra_cell_scatter(gene_to_var.copy(deep=True),gene_list=mutual_genes)"
   ]
  },
  {
   "cell_type": "markdown",
   "metadata": {
    "heading_collapsed": true
   },
   "source": [
    "# inter-cell variability proteins vs genes"
   ]
  },
  {
   "cell_type": "code",
   "execution_count": null,
   "metadata": {
    "hidden": true,
    "scrolled": false
   },
   "outputs": [],
   "source": [
    "from scipy.stats import zscore\n",
    "\n",
    "\n",
    "z_score_clean_filt_nx_rna_cell_df = filt_nx_rna_cell_df.groupby(filt_nx_rna_cell_df.index).first().apply(zscore,axis=1).loc[clean_genes_from_B_index].dropna(how=\"all\")\n",
    "z_score_clean_filt_intensity_profile = filt_intensity_profile.groupby(filt_intensity_profile.index).first().apply(zscore,axis=1).loc[clean_genes_from_B_index].dropna(how=\"all\")\n",
    "\n",
    "fig, axs = plt.subplots(7,2,figsize=(15,45))\n",
    "for cell,ax in zip(z_score_clean_filt_intensity_profile.columns,axs.reshape(-1)) :\n",
    "    x = z_score_clean_filt_nx_rna_cell_df[cell].dropna()\n",
    "    y = z_score_clean_filt_intensity_profile[cell].dropna()\n",
    "    \n",
    "    x = x.groupby(x.index).first()\n",
    "    y = y.groupby(y.index).first()\n",
    "    \n",
    "    mut_index = x.index.intersection(y.index)\n",
    "#     print(mut_index)\n",
    "    \n",
    "    x = x[mut_index]\n",
    "    y = y[mut_index]\n",
    "    \n",
    "\n",
    "    xy = np.vstack([x,y])\n",
    "    z = gaussian_kde(xy)(xy)\n",
    "\n",
    "    ax.scatter(x, y, c=z,s=100, edgecolor='')\n",
    "    ax.set_title(cell)\n",
    "    ax.set_xlabel(\"Mrna zscore\")\n",
    "    ax.set_ylabel(\"massSpec zscore\")\n",
    "    ax.set_xlim([-2,4])\n",
    "    ax.set_ylim([-2,4])\n",
    "\n",
    "    rect_red = patches.Rectangle((2,2),2,2,linewidth=1,edgecolor='r',facecolor='none')\n",
    "    rect_blue = patches.Rectangle((2,2),-4,2,linewidth=1,edgecolor='b',facecolor='none')\n",
    "    ax.add_patch(rect_red)\n",
    "    ax.add_patch(rect_blue)\n",
    "plt.subplots_adjust(hspace=0.5)  \n",
    "    "
   ]
  },
  {
   "cell_type": "code",
   "execution_count": null,
   "metadata": {
    "hidden": true
   },
   "outputs": [],
   "source": [
    "ax = plt.subplot()\n",
    "ax.set_title(\"hist of correlation between Mrna and massSpec across genes\")\n",
    "filt_nx_rna_cell_df.corrwith(filt_intensity_profile,axis=1).hist(ax=ax)\n",
    "plt.show()\n"
   ]
  }
 ],
 "metadata": {
  "hide_input": false,
  "kernelspec": {
   "display_name": "Python 3",
   "language": "python",
   "name": "python3"
  },
  "language_info": {
   "codemirror_mode": {
    "name": "ipython",
    "version": 3
   },
   "file_extension": ".py",
   "mimetype": "text/x-python",
   "name": "python",
   "nbconvert_exporter": "python",
   "pygments_lexer": "ipython3",
   "version": "3.6.5"
  },
  "toc": {
   "base_numbering": 1,
   "nav_menu": {},
   "number_sections": true,
   "sideBar": true,
   "skip_h1_title": false,
   "title_cell": "Table of Contents",
   "title_sidebar": "Contents",
   "toc_cell": false,
   "toc_position": {},
   "toc_section_display": true,
   "toc_window_display": false
  }
 },
 "nbformat": 4,
 "nbformat_minor": 2
}
