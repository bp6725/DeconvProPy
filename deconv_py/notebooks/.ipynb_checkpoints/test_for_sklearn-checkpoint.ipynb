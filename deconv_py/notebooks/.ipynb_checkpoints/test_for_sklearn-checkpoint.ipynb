{
 "cells": [
  {
   "cell_type": "markdown",
   "metadata": {
    "heading_collapsed": true
   },
   "source": [
    "#  INIT"
   ]
  },
  {
   "cell_type": "code",
   "execution_count": 1,
   "metadata": {
    "hidden": true
   },
   "outputs": [],
   "source": [
    "import sys\n",
    "sys.path.append('../../')\n",
    "sys.path.append('../infras/cellMix/')\n",
    "sys.path.append('../infras/cytof_data/')\n",
    "sys.path.append('../infras/')\n",
    "sys.path.append('../experiments/')\n",
    "sys.path.append('../preprocess/cell_specifics/')\n",
    "sys.path.append('../preprocess/intra_variance/')\n",
    "sys.path.append('../models/cell_proportions/')\n",
    "sys.path.append('../measures/cell_proportions_measures/')"
   ]
  },
  {
   "cell_type": "code",
   "execution_count": 2,
   "metadata": {
    "hidden": true
   },
   "outputs": [],
   "source": [
    "from data_factory import DataFactory\n",
    "\n",
    "from cytof_cell_count_infra import CytofCellCountInfra\n",
    "from cell_proportions_experiments import  CellProportionsExperiments\n",
    "\n",
    "from basic import BasicDeconv\n",
    "from pp_entropy_based import PpEntropyBased\n",
    "from cell_proportions_measure import CellProportionsMeasure\n",
    "from pp_clean_high_intra_var import PpCleanHighIntraVar\n",
    "from pp_clean_irrelevant_proteins import PpCleanIrrelevantProteins\n",
    "from pp_empty import PpEmpty\n",
    "from pp_entropy_based_only_largest import PpEntropyBasedOnlyLargest\n",
    "from aggregate_intra_variance import AggregateIntraVariance"
   ]
  },
  {
   "cell_type": "code",
   "execution_count": 3,
   "metadata": {
    "hidden": true
   },
   "outputs": [],
   "source": [
    "import pandas as pd\n",
    "import numpy as np\n",
    "from functools import partial\n",
    "import multiprocessing\n",
    "from sklearn import pipeline\n",
    "import itertools\n",
    "\n",
    "from scipy.optimize import least_squares\n",
    "from sklearn.metrics import mean_squared_error\n",
    "from functools import partial\n",
    "from scipy.optimize import minimize\n",
    "import scipy.optimize\n",
    "from itertools import combinations\n",
    "import matplotlib.pyplot as plt\n",
    "import seaborn as sns\n",
    "\n",
    "import os"
   ]
  },
  {
   "cell_type": "code",
   "execution_count": 4,
   "metadata": {
    "hidden": true
   },
   "outputs": [],
   "source": [
    "from deconv_py.preprocess.base import BasePreprocess as PP_base\n",
    "from deconv_py.preprocess.cell_specific import CellSpecific as PP_proteins\n",
    "\n",
    "# from deconv_py.infras.data_factory import DataFactory\n",
    "from deconv_py.infras.data_loader import DataLoader\n",
    "\n",
    "from deconv_py.models.base import Base as Models_base\n",
    "from deconv_py.models.cell_proportions_models import CellProportions\n",
    "from deconv_py.models.cell_specific_models import CellSpecificPerPermutation\n",
    "\n",
    "from deconv_py.experiments.cell_specific import CellSpecificMetricsPlot\n",
    "\n",
    "from cellMix_coordinator import CellMixCoordinator"
   ]
  },
  {
   "cell_type": "code",
   "execution_count": 5,
   "metadata": {
    "hidden": true,
    "scrolled": true
   },
   "outputs": [
    {
     "name": "stdout",
     "output_type": "stream",
     "text": [
      "{\n",
      "  \"shell_port\": 53571,\n",
      "  \"iopub_port\": 53572,\n",
      "  \"stdin_port\": 53573,\n",
      "  \"control_port\": 53574,\n",
      "  \"hb_port\": 53575,\n",
      "  \"ip\": \"127.0.0.1\",\n",
      "  \"key\": \"462be63b-f7749990c8c291098e6d39d3\",\n",
      "  \"transport\": \"tcp\",\n",
      "  \"signature_scheme\": \"hmac-sha256\",\n",
      "  \"kernel_name\": \"\"\n",
      "}\n",
      "\n",
      "Paste the above JSON into a file, and connect with:\n",
      "    $> jupyter <app> --existing <file>\n",
      "or, if you are local, you can connect with just:\n",
      "    $> jupyter <app> --existing kernel-1ab47c54-97b2-4449-9585-f8283d315b72.json\n",
      "or even just:\n",
      "    $> jupyter <app> --existing\n",
      "if this is the most recent Jupyter kernel you have started.\n"
     ]
    }
   ],
   "source": [
    "%connect_info"
   ]
  },
  {
   "cell_type": "markdown",
   "metadata": {},
   "source": [
    "# read and build any data"
   ]
  },
  {
   "cell_type": "markdown",
   "metadata": {},
   "source": [
    "## simple artificial "
   ]
  },
  {
   "cell_type": "code",
   "execution_count": 6,
   "metadata": {},
   "outputs": [],
   "source": [
    "data_factory = DataFactory()\n",
    "# A_all_ar,B_ar,X_ar = data_factory.load_simple_artificial_profile(\"Intensity\",index_func=lambda x:x,sample_to_pick=\"all\")"
   ]
  },
  {
   "cell_type": "markdown",
   "metadata": {},
   "source": [
    "## simple IBD"
   ]
  },
  {
   "cell_type": "code",
   "execution_count": 7,
   "metadata": {},
   "outputs": [],
   "source": [
    "# A,B = data_factory.load_simple_IBD_profile(\"Intensity\",index_func=lambda x:x,log2_transformation=True)"
   ]
  },
  {
   "cell_type": "markdown",
   "metadata": {},
   "source": [
    "## IBD with A/B_all_vs"
   ]
  },
  {
   "cell_type": "code",
   "execution_count": 8,
   "metadata": {},
   "outputs": [
    {
     "name": "stderr",
     "output_type": "stream",
     "text": [
      "C:\\ProgramData\\Anaconda3\\lib\\site-packages\\IPython\\kernel\\__main__.py:1: DtypeWarning: Columns (5,6,2764,2765,2773,2774,2775,2776) have mixed types. Specify dtype option on import or set low_memory=False.\n",
      "  if __name__ == '__main__':\n"
     ]
    }
   ],
   "source": [
    "A_all_vs,_ = data_factory.load_IBD_all_vs(\"Intensity\",index_func=lambda x:x,log2_transformation=True)\n",
    "# A_all_vs,B_all_vs = data_factory.load_IBD_all_vs(\"Intensity\",index_func=lambda x:x,log2_transformation=True)"
   ]
  },
  {
   "cell_type": "markdown",
   "metadata": {},
   "source": [
    "## IBD with A/B_all_vs with A_Intensity"
   ]
  },
  {
   "cell_type": "code",
   "execution_count": 9,
   "metadata": {},
   "outputs": [],
   "source": [
    "# A_all_vs, B_all_vs ,A_intensity, B_intensity = data_factory.load_IBD_vs_A_and_B_intensity(\"Intensity\",index_func=lambda x:x,log2_transformation=True)"
   ]
  },
  {
   "cell_type": "markdown",
   "metadata": {},
   "source": [
    "## simulated_data"
   ]
  },
  {
   "cell_type": "code",
   "execution_count": 10,
   "metadata": {},
   "outputs": [],
   "source": [
    "# A,X,B = data_factory.build_simulated_data()\n",
    "_,X,B = data_factory.build_simulated_data()"
   ]
  },
  {
   "cell_type": "markdown",
   "metadata": {},
   "source": [
    "## cytof data"
   ]
  },
  {
   "cell_type": "code",
   "execution_count": null,
   "metadata": {},
   "outputs": [],
   "source": []
  },
  {
   "cell_type": "markdown",
   "metadata": {
    "heading_collapsed": true
   },
   "source": [
    "# visualize data"
   ]
  },
  {
   "cell_type": "code",
   "execution_count": null,
   "metadata": {
    "hidden": true
   },
   "outputs": [],
   "source": []
  },
  {
   "cell_type": "markdown",
   "metadata": {
    "heading_collapsed": true
   },
   "source": [
    "# preprocess with model result - no cytof"
   ]
  },
  {
   "cell_type": "code",
   "execution_count": 11,
   "metadata": {
    "hidden": true
   },
   "outputs": [],
   "source": [
    "# pp_eb = PpEntropyBased()\n",
    "# bd=BasicDeconv()\n",
    "# cpm = CellProportionsMeasure()\n",
    "\n",
    "# steps = [(\"deconv_py\",pp_eb),(\"BasicDeconv\",bd)]\n",
    "# ppline = pipeline.Pipeline(steps)\n",
    "# result = ppline.predict([A,B])\n",
    "# corr = cpm.correlation_measure(result,X)"
   ]
  },
  {
   "cell_type": "code",
   "execution_count": 12,
   "metadata": {
    "hidden": true
   },
   "outputs": [],
   "source": [
    "# raise"
   ]
  },
  {
   "cell_type": "markdown",
   "metadata": {
    "heading_collapsed": true
   },
   "source": [
    "# preprocess with model results - with cytof"
   ]
  },
  {
   "cell_type": "code",
   "execution_count": null,
   "metadata": {
    "hidden": true
   },
   "outputs": [],
   "source": []
  },
  {
   "cell_type": "markdown",
   "metadata": {
    "heading_collapsed": true
   },
   "source": [
    "# preprocess with model results - with intra variance "
   ]
  },
  {
   "cell_type": "code",
   "execution_count": 13,
   "metadata": {
    "hidden": true
   },
   "outputs": [],
   "source": [
    "# pp_eb = PpEntropyBased()\n",
    "# bd=BasicDeconv()\n",
    "# cpm = CellProportionsMeasure()\n",
    "# chiv = PpCleanHighIntraVar()\n",
    "\n",
    "# steps = [(\"high_intra_var\",chiv),(\"entropy_base\",pp_eb),(\"BasicDeconv\",bd)]\n",
    "# ppline = pipeline.Pipeline(steps)\n",
    "# result = ppline.predict([A,B])\n",
    "# corr = cpm.correlation_measure(result,X)"
   ]
  },
  {
   "cell_type": "markdown",
   "metadata": {
    "heading_collapsed": true
   },
   "source": [
    "# run model - with and without cell mix"
   ]
  },
  {
   "cell_type": "code",
   "execution_count": 14,
   "metadata": {
    "hidden": true,
    "scrolled": true
   },
   "outputs": [],
   "source": [
    "# bd = BasicDeconv(cellMix=True)\n",
    "# bd.predict([A,B])\n"
   ]
  },
  {
   "cell_type": "markdown",
   "metadata": {},
   "source": [
    "# build the meta pipeline"
   ]
  },
  {
   "cell_type": "code",
   "execution_count": 15,
   "metadata": {
    "code_folding": [
     0
    ]
   },
   "outputs": [],
   "source": [
    "def build_static_configurations(hyper_configuration):\n",
    "    static_configuration = {}\n",
    "    \n",
    "    step_configuration = []\n",
    "    for step in hyper_configuration :\n",
    "        functions_combs = []\n",
    "        for s in step[\"steps\"] : \n",
    "            func_name = s[\"function_name\"]\n",
    "            func = s[\"function\"]\n",
    "            params = s[\"params\"]\n",
    "            all_params_comb = list(itertools.product(*[[(k,vv) for vv in v] for k,v in params.items()]))\n",
    "            for params_comb in all_params_comb:\n",
    "                functions_comb = [func_name,func,params_comb]\n",
    "                functions_combs.append(functions_comb)\n",
    "\n",
    "        step_configuration.append(functions_combs)\n",
    "#         static_configuration[step[\"step_name\"]] =  functions_combs\n",
    "    return  [list(zip([s[\"step_name\"] for s in hyper_configuration],config)) for config in  itertools.product(*step_configuration)]\n",
    "\n",
    "def build_pipelines(static_configurations):\n",
    "    for static_conf in static_configurations : \n",
    "        pipeline_steps = []\n",
    "        params_sklearn_set = {}\n",
    "        for step in static_conf :\n",
    "            function_name = step[1][0]\n",
    "            function_inst = step[1][1]\n",
    "            function_param = step[1][2]\n",
    "\n",
    "            pipeline_steps.append((function_name,function_inst))\n",
    "            params_sklearn_set.update({f\"{function_name}__{p[0]}\":p[1] for p in function_param})\n",
    "\n",
    "        curr_ppline = pipeline.Pipeline(pipeline_steps)\n",
    "        curr_ppline.set_params(**params_sklearn_set)\n",
    "        yield curr_ppline\n"
   ]
  },
  {
   "cell_type": "code",
   "execution_count": 16,
   "metadata": {},
   "outputs": [],
   "source": [
    "# agg\n",
    "agg_iv = AggregateIntraVariance()\n",
    "#cleen irrelevant\n",
    "pp_irl_prot = PpCleanIrrelevantProteins()\n",
    "\n",
    "#possible pre process\n",
    "pp_entropy = PpEntropyBased()\n",
    "pp_empty = PpEmpty()\n",
    "pp_entropy_only_largest = PpEntropyBasedOnlyLargest()\n",
    "\n",
    "# deconv\n",
    "bd = BasicDeconv()\n",
    "\n",
    "# measure\n",
    "cpm = CellProportionsMeasure()\n",
    "\n",
    "hyper_configuration = [{\"step_name\":\"AggregateIntraVariance\",\n",
    "                       \"steps\":[\n",
    "                           {\"function_name\":\"AggregateIntraVariance\",\"function\":agg_iv,\n",
    "                            \"params\" :{\"how\" : [\"mean\",\"median\",\"first\"]} }]},\n",
    "                       #--------------------------------\n",
    "                        {\"step_name\":\"cleen_irrelevant_proteins\",\n",
    "                       \"steps\":[\n",
    "                           {\"function_name\":\"CleanIrrelevantProteins\",\"function\":pp_irl_prot,\n",
    "                            \"params\" :{} }]},\n",
    "                       #--------------------------------\n",
    "                        {\"step_name\":\"preprocess\",\n",
    "                       \"steps\":[\n",
    "                           {\"function_name\":\"PpEntropyBased\",\"function\":pp_entropy,\n",
    "                            \"params\" :{\"n_genes_per_cell\":[5,15],\"gene_entropy_trh\":[0.0001],\"with_norm\" : [False]}},\n",
    "                           {\"function_name\":\"PpEntropyBasedOnlyLargest\",\"function\":pp_entropy_only_largest,\n",
    "                            \"params\" :{\"n_genes_per_cell\":[5,15],\"gene_entropy_trh\":[0.0001],\"with_norm\" : [True,False]} },\n",
    "                       {\"function_name\":\"PpEmpty\",\"function\":pp_empty,\n",
    "                            \"params\" :{} }]},\n",
    "                       #--------------------------------\n",
    "                       {\"step_name\":\"deconv\",\n",
    "                       \"steps\":[\n",
    "                           {\"function_name\":\"BasicDeconv\",\"function\":bd,\n",
    "                            \"params\" :{\"normalize\":[True],\"cellMix\":[True,False]}}]} ]\n",
    "\n",
    "\n",
    "# hyper_measure_configuration = [{\"step_name\":\"X\",\n",
    "#                        \"steps\":[\n",
    "#                            {\"function_name\":\"PreKnownProp\",\"function\":pre_known_prop,\n",
    "#                             \"params\" :{\"known_prop\" : [X]} }]},\n",
    "#                         #--------------------------------\n",
    "#                         {\"step_name\":\"measure\",\n",
    "#                        \"steps\":[\n",
    "#                            {\"function_name\":\"CellProportionsMeasure\",\"function\":cpm,\n",
    "#                             \"params\" :{\"how\":[\"correlation\"] } }]}]"
   ]
  },
  {
   "cell_type": "code",
   "execution_count": 17,
   "metadata": {
    "scrolled": false
   },
   "outputs": [],
   "source": [
    "static_configurations =  build_static_configurations(hyper_configuration)\n",
    "pipeline_gen = build_pipelines(static_configurations) "
   ]
  },
  {
   "cell_type": "code",
   "execution_count": 18,
   "metadata": {
    "scrolled": true
   },
   "outputs": [
    {
     "name": "stdout",
     "output_type": "stream",
     "text": [
      "[AggregateIntraVariance(how='mean'), PpCleanIrrelevantProteins(), PpEntropyBased(gene_entropy_trh=0.0001, n_genes_per_cell=5,\n",
      "        only_signature=None, with_norm=False), BasicDeconv(cellMix=True, normalize=True)]\n",
      "nan\n",
      "-----new-----\n",
      "[AggregateIntraVariance(how='mean'), PpCleanIrrelevantProteins(), PpEntropyBased(gene_entropy_trh=0.0001, n_genes_per_cell=5,\n",
      "        only_signature=None, with_norm=False), BasicDeconv(cellMix=False, normalize=True)]\n",
      "nan\n",
      "-----new-----\n",
      "[AggregateIntraVariance(how='mean'), PpCleanIrrelevantProteins(), PpEntropyBased(gene_entropy_trh=0.0001, n_genes_per_cell=15,\n",
      "        only_signature=None, with_norm=False), BasicDeconv(cellMix=True, normalize=True)]\n",
      "nan\n",
      "-----new-----\n",
      "[AggregateIntraVariance(how='mean'), PpCleanIrrelevantProteins(), PpEntropyBased(gene_entropy_trh=0.0001, n_genes_per_cell=15,\n",
      "        only_signature=None, with_norm=False), BasicDeconv(cellMix=False, normalize=True)]\n",
      "nan\n",
      "-----new-----\n",
      "[AggregateIntraVariance(how='mean'), PpCleanIrrelevantProteins(), PpEntropyBasedOnlyLargest(gene_entropy_trh=0.0001, n_genes_per_cell=5,\n",
      "             only_signature=None, with_norm=True), BasicDeconv(cellMix=True, normalize=True)]\n",
      "Intensity NOT_BCellnaive\n",
      "Intensity NOT_Erythrocytes\n",
      "nan\n",
      "-----new-----\n",
      "[AggregateIntraVariance(how='mean'), PpCleanIrrelevantProteins(), PpEntropyBasedOnlyLargest(gene_entropy_trh=0.0001, n_genes_per_cell=5,\n",
      "             only_signature=None, with_norm=True), BasicDeconv(cellMix=False, normalize=True)]\n",
      "Intensity NOT_BCellnaive\n",
      "Intensity NOT_Erythrocytes\n",
      "nan\n",
      "-----new-----\n",
      "[AggregateIntraVariance(how='mean'), PpCleanIrrelevantProteins(), PpEntropyBasedOnlyLargest(gene_entropy_trh=0.0001, n_genes_per_cell=5,\n",
      "             only_signature=None, with_norm=False), BasicDeconv(cellMix=True, normalize=True)]\n",
      "Intensity NOT_BCellnaive\n",
      "Intensity NOT_Erythrocytes\n",
      "nan\n",
      "-----new-----\n",
      "[AggregateIntraVariance(how='mean'), PpCleanIrrelevantProteins(), PpEntropyBasedOnlyLargest(gene_entropy_trh=0.0001, n_genes_per_cell=5,\n",
      "             only_signature=None, with_norm=False), BasicDeconv(cellMix=False, normalize=True)]\n",
      "Intensity NOT_BCellnaive\n",
      "Intensity NOT_Erythrocytes\n",
      "nan\n",
      "-----new-----\n",
      "[AggregateIntraVariance(how='mean'), PpCleanIrrelevantProteins(), PpEntropyBasedOnlyLargest(gene_entropy_trh=0.0001, n_genes_per_cell=15,\n",
      "             only_signature=None, with_norm=True), BasicDeconv(cellMix=True, normalize=True)]\n",
      "Intensity NOT_BCellnaive\n",
      "Intensity NOT_BCellplasma\n",
      "Intensity NOT_CD4TCellTh1\n",
      "Intensity NOT_CD8TCellTem\n",
      "Intensity NOT_Erythrocytes\n",
      "Intensity NOT_Monocytesclassical\n",
      "nan\n",
      "-----new-----\n",
      "[AggregateIntraVariance(how='mean'), PpCleanIrrelevantProteins(), PpEntropyBasedOnlyLargest(gene_entropy_trh=0.0001, n_genes_per_cell=15,\n",
      "             only_signature=None, with_norm=True), BasicDeconv(cellMix=False, normalize=True)]\n",
      "Intensity NOT_BCellnaive\n",
      "Intensity NOT_BCellplasma\n",
      "Intensity NOT_CD4TCellTh1\n",
      "Intensity NOT_CD8TCellTem\n",
      "Intensity NOT_Erythrocytes\n",
      "Intensity NOT_Monocytesclassical\n",
      "nan\n",
      "-----new-----\n",
      "[AggregateIntraVariance(how='mean'), PpCleanIrrelevantProteins(), PpEntropyBasedOnlyLargest(gene_entropy_trh=0.0001, n_genes_per_cell=15,\n",
      "             only_signature=None, with_norm=False), BasicDeconv(cellMix=True, normalize=True)]\n",
      "Intensity NOT_BCellnaive\n",
      "Intensity NOT_BCellplasma\n",
      "Intensity NOT_CD4TCellTh1\n",
      "Intensity NOT_CD8TCellTem\n",
      "Intensity NOT_Erythrocytes\n",
      "Intensity NOT_Monocytesclassical\n",
      "nan\n",
      "-----new-----\n",
      "[AggregateIntraVariance(how='mean'), PpCleanIrrelevantProteins(), PpEntropyBasedOnlyLargest(gene_entropy_trh=0.0001, n_genes_per_cell=15,\n",
      "             only_signature=None, with_norm=False), BasicDeconv(cellMix=False, normalize=True)]\n",
      "Intensity NOT_BCellnaive\n",
      "Intensity NOT_BCellplasma\n",
      "Intensity NOT_CD4TCellTh1\n",
      "Intensity NOT_CD8TCellTem\n",
      "Intensity NOT_Erythrocytes\n",
      "Intensity NOT_Monocytesclassical\n",
      "nan\n",
      "-----new-----\n",
      "[AggregateIntraVariance(how='mean'), PpCleanIrrelevantProteins(), PpEmpty(), BasicDeconv(cellMix=True, normalize=True)]\n",
      "nan\n",
      "-----new-----\n",
      "[AggregateIntraVariance(how='mean'), PpCleanIrrelevantProteins(), PpEmpty(), BasicDeconv(cellMix=False, normalize=True)]\n",
      "nan\n",
      "-----new-----\n",
      "[AggregateIntraVariance(how='median'), PpCleanIrrelevantProteins(), PpEntropyBased(gene_entropy_trh=0.0001, n_genes_per_cell=5,\n",
      "        only_signature=None, with_norm=False), BasicDeconv(cellMix=True, normalize=True)]\n",
      "nan\n",
      "-----new-----\n",
      "[AggregateIntraVariance(how='median'), PpCleanIrrelevantProteins(), PpEntropyBased(gene_entropy_trh=0.0001, n_genes_per_cell=5,\n",
      "        only_signature=None, with_norm=False), BasicDeconv(cellMix=False, normalize=True)]\n",
      "nan\n",
      "-----new-----\n",
      "[AggregateIntraVariance(how='median'), PpCleanIrrelevantProteins(), PpEntropyBased(gene_entropy_trh=0.0001, n_genes_per_cell=15,\n",
      "        only_signature=None, with_norm=False), BasicDeconv(cellMix=True, normalize=True)]\n",
      "nan\n",
      "-----new-----\n",
      "[AggregateIntraVariance(how='median'), PpCleanIrrelevantProteins(), PpEntropyBased(gene_entropy_trh=0.0001, n_genes_per_cell=15,\n",
      "        only_signature=None, with_norm=False), BasicDeconv(cellMix=False, normalize=True)]\n",
      "nan\n",
      "-----new-----\n",
      "[AggregateIntraVariance(how='median'), PpCleanIrrelevantProteins(), PpEntropyBasedOnlyLargest(gene_entropy_trh=0.0001, n_genes_per_cell=5,\n",
      "             only_signature=None, with_norm=True), BasicDeconv(cellMix=True, normalize=True)]\n",
      "Intensity NOT_BCellnaive\n",
      "Intensity NOT_Erythrocytes\n",
      "nan\n",
      "-----new-----\n",
      "[AggregateIntraVariance(how='median'), PpCleanIrrelevantProteins(), PpEntropyBasedOnlyLargest(gene_entropy_trh=0.0001, n_genes_per_cell=5,\n",
      "             only_signature=None, with_norm=True), BasicDeconv(cellMix=False, normalize=True)]\n",
      "Intensity NOT_BCellnaive\n",
      "Intensity NOT_Erythrocytes\n"
     ]
    },
    {
     "ename": "KeyboardInterrupt",
     "evalue": "",
     "output_type": "error",
     "traceback": [
      "\u001b[1;31m---------------------------------------------------------------------------\u001b[0m",
      "\u001b[1;31mKeyboardInterrupt\u001b[0m                         Traceback (most recent call last)",
      "\u001b[1;32m<ipython-input-18-8dd7f8cf29d9>\u001b[0m in \u001b[0;36m<module>\u001b[1;34m()\u001b[0m\n\u001b[0;32m      6\u001b[0m \u001b[1;32mfor\u001b[0m \u001b[0mpip\u001b[0m \u001b[1;32min\u001b[0m \u001b[0mpipeline_gen\u001b[0m \u001b[1;33m:\u001b[0m\u001b[1;33m\u001b[0m\u001b[0m\n\u001b[0;32m      7\u001b[0m     \u001b[0mprint\u001b[0m\u001b[1;33m(\u001b[0m\u001b[1;33m[\u001b[0m\u001b[0mi\u001b[0m \u001b[1;32mfor\u001b[0m \u001b[0m_\u001b[0m\u001b[1;33m,\u001b[0m\u001b[0mi\u001b[0m \u001b[1;32min\u001b[0m \u001b[0mpip\u001b[0m\u001b[1;33m.\u001b[0m\u001b[0msteps\u001b[0m\u001b[1;33m]\u001b[0m\u001b[1;33m)\u001b[0m\u001b[1;33m\u001b[0m\u001b[0m\n\u001b[1;32m----> 8\u001b[1;33m     \u001b[0mresult\u001b[0m \u001b[1;33m=\u001b[0m \u001b[0mpip\u001b[0m\u001b[1;33m.\u001b[0m\u001b[0mpredict\u001b[0m\u001b[1;33m(\u001b[0m\u001b[1;33m[\u001b[0m\u001b[0mA_all_vs\u001b[0m\u001b[1;33m,\u001b[0m\u001b[0mB\u001b[0m\u001b[1;33m]\u001b[0m\u001b[1;33m)\u001b[0m\u001b[1;33m\u001b[0m\u001b[0m\n\u001b[0m\u001b[0;32m      9\u001b[0m     \u001b[0mcorr\u001b[0m \u001b[1;33m=\u001b[0m \u001b[0mcpm\u001b[0m\u001b[1;33m.\u001b[0m\u001b[0mcorrelation_measure\u001b[0m\u001b[1;33m(\u001b[0m\u001b[0mresult\u001b[0m\u001b[1;33m,\u001b[0m\u001b[0mX\u001b[0m\u001b[1;33m)\u001b[0m\u001b[1;33m\u001b[0m\u001b[0m\n\u001b[0;32m     10\u001b[0m     \u001b[0m_mean\u001b[0m \u001b[1;33m=\u001b[0m \u001b[0mnp\u001b[0m\u001b[1;33m.\u001b[0m\u001b[0mround\u001b[0m\u001b[1;33m(\u001b[0m\u001b[0mcorr\u001b[0m\u001b[1;33m.\u001b[0m\u001b[0mmean\u001b[0m\u001b[1;33m(\u001b[0m\u001b[1;33m)\u001b[0m\u001b[1;33m,\u001b[0m\u001b[1;36m3\u001b[0m\u001b[1;33m)\u001b[0m\u001b[1;33m\u001b[0m\u001b[0m\n",
      "\u001b[1;32mC:\\ProgramData\\Anaconda3\\lib\\site-packages\\sklearn\\utils\\metaestimators.py\u001b[0m in \u001b[0;36m<lambda>\u001b[1;34m(*args, **kwargs)\u001b[0m\n\u001b[0;32m    113\u001b[0m \u001b[1;33m\u001b[0m\u001b[0m\n\u001b[0;32m    114\u001b[0m         \u001b[1;31m# lambda, but not partial, allows help() to work with update_wrapper\u001b[0m\u001b[1;33m\u001b[0m\u001b[1;33m\u001b[0m\u001b[0m\n\u001b[1;32m--> 115\u001b[1;33m         \u001b[0mout\u001b[0m \u001b[1;33m=\u001b[0m \u001b[1;32mlambda\u001b[0m \u001b[1;33m*\u001b[0m\u001b[0margs\u001b[0m\u001b[1;33m,\u001b[0m \u001b[1;33m**\u001b[0m\u001b[0mkwargs\u001b[0m\u001b[1;33m:\u001b[0m \u001b[0mself\u001b[0m\u001b[1;33m.\u001b[0m\u001b[0mfn\u001b[0m\u001b[1;33m(\u001b[0m\u001b[0mobj\u001b[0m\u001b[1;33m,\u001b[0m \u001b[1;33m*\u001b[0m\u001b[0margs\u001b[0m\u001b[1;33m,\u001b[0m \u001b[1;33m**\u001b[0m\u001b[0mkwargs\u001b[0m\u001b[1;33m)\u001b[0m\u001b[1;33m\u001b[0m\u001b[0m\n\u001b[0m\u001b[0;32m    116\u001b[0m         \u001b[1;31m# update the docstring of the returned function\u001b[0m\u001b[1;33m\u001b[0m\u001b[1;33m\u001b[0m\u001b[0m\n\u001b[0;32m    117\u001b[0m         \u001b[0mupdate_wrapper\u001b[0m\u001b[1;33m(\u001b[0m\u001b[0mout\u001b[0m\u001b[1;33m,\u001b[0m \u001b[0mself\u001b[0m\u001b[1;33m.\u001b[0m\u001b[0mfn\u001b[0m\u001b[1;33m)\u001b[0m\u001b[1;33m\u001b[0m\u001b[0m\n",
      "\u001b[1;32mC:\\ProgramData\\Anaconda3\\lib\\site-packages\\sklearn\\pipeline.py\u001b[0m in \u001b[0;36mpredict\u001b[1;34m(self, X)\u001b[0m\n\u001b[0;32m    304\u001b[0m         \u001b[1;32mfor\u001b[0m \u001b[0mname\u001b[0m\u001b[1;33m,\u001b[0m \u001b[0mtransform\u001b[0m \u001b[1;32min\u001b[0m \u001b[0mself\u001b[0m\u001b[1;33m.\u001b[0m\u001b[0msteps\u001b[0m\u001b[1;33m[\u001b[0m\u001b[1;33m:\u001b[0m\u001b[1;33m-\u001b[0m\u001b[1;36m1\u001b[0m\u001b[1;33m]\u001b[0m\u001b[1;33m:\u001b[0m\u001b[1;33m\u001b[0m\u001b[0m\n\u001b[0;32m    305\u001b[0m             \u001b[1;32mif\u001b[0m \u001b[0mtransform\u001b[0m \u001b[1;32mis\u001b[0m \u001b[1;32mnot\u001b[0m \u001b[1;32mNone\u001b[0m\u001b[1;33m:\u001b[0m\u001b[1;33m\u001b[0m\u001b[0m\n\u001b[1;32m--> 306\u001b[1;33m                 \u001b[0mXt\u001b[0m \u001b[1;33m=\u001b[0m \u001b[0mtransform\u001b[0m\u001b[1;33m.\u001b[0m\u001b[0mtransform\u001b[0m\u001b[1;33m(\u001b[0m\u001b[0mXt\u001b[0m\u001b[1;33m)\u001b[0m\u001b[1;33m\u001b[0m\u001b[0m\n\u001b[0m\u001b[0;32m    307\u001b[0m         \u001b[1;32mreturn\u001b[0m \u001b[0mself\u001b[0m\u001b[1;33m.\u001b[0m\u001b[0msteps\u001b[0m\u001b[1;33m[\u001b[0m\u001b[1;33m-\u001b[0m\u001b[1;36m1\u001b[0m\u001b[1;33m]\u001b[0m\u001b[1;33m[\u001b[0m\u001b[1;33m-\u001b[0m\u001b[1;36m1\u001b[0m\u001b[1;33m]\u001b[0m\u001b[1;33m.\u001b[0m\u001b[0mpredict\u001b[0m\u001b[1;33m(\u001b[0m\u001b[0mXt\u001b[0m\u001b[1;33m)\u001b[0m\u001b[1;33m\u001b[0m\u001b[0m\n\u001b[0;32m    308\u001b[0m \u001b[1;33m\u001b[0m\u001b[0m\n",
      "\u001b[1;32mC:\\Repos\\deconv_py\\deconv_py\\preprocess\\cell_specifics\\pp_entropy_based_only_largest.py\u001b[0m in \u001b[0;36mtransform\u001b[1;34m(self, data, *_)\u001b[0m\n\u001b[0;32m     43\u001b[0m             \u001b[1;32mwhile\u001b[0m \u001b[0mbest_genes_idx\u001b[0m\u001b[1;33m.\u001b[0m\u001b[0mshape\u001b[0m\u001b[1;33m[\u001b[0m\u001b[1;36m0\u001b[0m\u001b[1;33m]\u001b[0m \u001b[1;33m<\u001b[0m \u001b[0m_n_genes_per_cell\u001b[0m\u001b[1;33m:\u001b[0m\u001b[1;33m\u001b[0m\u001b[0m\n\u001b[0;32m     44\u001b[0m                 low_quantile_entropy_genes = _A[cell].loc[cell_relvent_gene_entropy[\n\u001b[1;32m---> 45\u001b[1;33m                     (cell_relvent_gene_entropy < cell_relvent_gene_entropy.quantile(trh)) & (\n\u001b[0m\u001b[0;32m     46\u001b[0m                                 cell_relvent_gene_entropy > 0)].index]\n\u001b[0;32m     47\u001b[0m                 \u001b[0mbest_quantile_entropy_genes\u001b[0m \u001b[1;33m=\u001b[0m \u001b[0mlow_quantile_entropy_genes\u001b[0m\u001b[1;33m.\u001b[0m\u001b[0mnlargest\u001b[0m\u001b[1;33m(\u001b[0m\u001b[0m_n_genes_per_cell\u001b[0m\u001b[1;33m)\u001b[0m\u001b[1;33m.\u001b[0m\u001b[0mindex\u001b[0m\u001b[1;33m\u001b[0m\u001b[0m\n",
      "\u001b[1;32m~\\AppData\\Roaming\\Python\\Python36\\site-packages\\pandas\\core\\series.py\u001b[0m in \u001b[0;36mquantile\u001b[1;34m(self, q, interpolation)\u001b[0m\n\u001b[0;32m   2397\u001b[0m         \u001b[0mdf\u001b[0m \u001b[1;33m=\u001b[0m \u001b[0mself\u001b[0m\u001b[1;33m.\u001b[0m\u001b[0mto_frame\u001b[0m\u001b[1;33m(\u001b[0m\u001b[1;33m)\u001b[0m\u001b[1;33m\u001b[0m\u001b[0m\n\u001b[0;32m   2398\u001b[0m \u001b[1;33m\u001b[0m\u001b[0m\n\u001b[1;32m-> 2399\u001b[1;33m         \u001b[0mresult\u001b[0m \u001b[1;33m=\u001b[0m \u001b[0mdf\u001b[0m\u001b[1;33m.\u001b[0m\u001b[0mquantile\u001b[0m\u001b[1;33m(\u001b[0m\u001b[0mq\u001b[0m\u001b[1;33m=\u001b[0m\u001b[0mq\u001b[0m\u001b[1;33m,\u001b[0m \u001b[0minterpolation\u001b[0m\u001b[1;33m=\u001b[0m\u001b[0minterpolation\u001b[0m\u001b[1;33m,\u001b[0m \u001b[0mnumeric_only\u001b[0m\u001b[1;33m=\u001b[0m\u001b[1;32mFalse\u001b[0m\u001b[1;33m)\u001b[0m\u001b[1;33m\u001b[0m\u001b[0m\n\u001b[0m\u001b[0;32m   2400\u001b[0m         \u001b[1;32mif\u001b[0m \u001b[0mresult\u001b[0m\u001b[1;33m.\u001b[0m\u001b[0mndim\u001b[0m \u001b[1;33m==\u001b[0m \u001b[1;36m2\u001b[0m\u001b[1;33m:\u001b[0m\u001b[1;33m\u001b[0m\u001b[0m\n\u001b[0;32m   2401\u001b[0m             \u001b[0mresult\u001b[0m \u001b[1;33m=\u001b[0m \u001b[0mresult\u001b[0m\u001b[1;33m.\u001b[0m\u001b[0miloc\u001b[0m\u001b[1;33m[\u001b[0m\u001b[1;33m:\u001b[0m\u001b[1;33m,\u001b[0m \u001b[1;36m0\u001b[0m\u001b[1;33m]\u001b[0m\u001b[1;33m\u001b[0m\u001b[0m\n",
      "\u001b[1;32m~\\AppData\\Roaming\\Python\\Python36\\site-packages\\pandas\\core\\frame.py\u001b[0m in \u001b[0;36mquantile\u001b[1;34m(self, q, axis, numeric_only, interpolation)\u001b[0m\n\u001b[0;32m   8279\u001b[0m \u001b[1;33m\u001b[0m\u001b[0m\n\u001b[0;32m   8280\u001b[0m         result = data._data.quantile(\n\u001b[1;32m-> 8281\u001b[1;33m             \u001b[0mqs\u001b[0m\u001b[1;33m=\u001b[0m\u001b[0mq\u001b[0m\u001b[1;33m,\u001b[0m \u001b[0maxis\u001b[0m\u001b[1;33m=\u001b[0m\u001b[1;36m1\u001b[0m\u001b[1;33m,\u001b[0m \u001b[0minterpolation\u001b[0m\u001b[1;33m=\u001b[0m\u001b[0minterpolation\u001b[0m\u001b[1;33m,\u001b[0m \u001b[0mtransposed\u001b[0m\u001b[1;33m=\u001b[0m\u001b[0mis_transposed\u001b[0m\u001b[1;33m\u001b[0m\u001b[0m\n\u001b[0m\u001b[0;32m   8282\u001b[0m         )\n\u001b[0;32m   8283\u001b[0m \u001b[1;33m\u001b[0m\u001b[0m\n",
      "\u001b[1;32m~\\AppData\\Roaming\\Python\\Python36\\site-packages\\pandas\\core\\internals\\managers.py\u001b[0m in \u001b[0;36mquantile\u001b[1;34m(self, axis, consolidate, transposed, interpolation, qs, numeric_only)\u001b[0m\n\u001b[0;32m    497\u001b[0m         \u001b[0maxes\u001b[0m\u001b[1;33m,\u001b[0m \u001b[0mblocks\u001b[0m \u001b[1;33m=\u001b[0m \u001b[1;33m[\u001b[0m\u001b[1;33m]\u001b[0m\u001b[1;33m,\u001b[0m \u001b[1;33m[\u001b[0m\u001b[1;33m]\u001b[0m\u001b[1;33m\u001b[0m\u001b[0m\n\u001b[0;32m    498\u001b[0m         \u001b[1;32mfor\u001b[0m \u001b[0mb\u001b[0m \u001b[1;32min\u001b[0m \u001b[0mself\u001b[0m\u001b[1;33m.\u001b[0m\u001b[0mblocks\u001b[0m\u001b[1;33m:\u001b[0m\u001b[1;33m\u001b[0m\u001b[0m\n\u001b[1;32m--> 499\u001b[1;33m             \u001b[0mblock\u001b[0m \u001b[1;33m=\u001b[0m \u001b[0mb\u001b[0m\u001b[1;33m.\u001b[0m\u001b[0mquantile\u001b[0m\u001b[1;33m(\u001b[0m\u001b[0maxis\u001b[0m\u001b[1;33m=\u001b[0m\u001b[0maxis\u001b[0m\u001b[1;33m,\u001b[0m \u001b[0mqs\u001b[0m\u001b[1;33m=\u001b[0m\u001b[0mqs\u001b[0m\u001b[1;33m,\u001b[0m \u001b[0minterpolation\u001b[0m\u001b[1;33m=\u001b[0m\u001b[0minterpolation\u001b[0m\u001b[1;33m)\u001b[0m\u001b[1;33m\u001b[0m\u001b[0m\n\u001b[0m\u001b[0;32m    500\u001b[0m \u001b[1;33m\u001b[0m\u001b[0m\n\u001b[0;32m    501\u001b[0m             \u001b[0maxe\u001b[0m \u001b[1;33m=\u001b[0m \u001b[0mget_axe\u001b[0m\u001b[1;33m(\u001b[0m\u001b[0mb\u001b[0m\u001b[1;33m,\u001b[0m \u001b[0mqs\u001b[0m\u001b[1;33m,\u001b[0m \u001b[0maxes\u001b[0m\u001b[1;33m=\u001b[0m\u001b[0mself\u001b[0m\u001b[1;33m.\u001b[0m\u001b[0maxes\u001b[0m\u001b[1;33m)\u001b[0m\u001b[1;33m\u001b[0m\u001b[0m\n",
      "\u001b[1;32m~\\AppData\\Roaming\\Python\\Python36\\site-packages\\pandas\\core\\internals\\blocks.py\u001b[0m in \u001b[0;36mquantile\u001b[1;34m(self, qs, interpolation, axis)\u001b[0m\n\u001b[0;32m   1563\u001b[0m                 \u001b[0mmask\u001b[0m\u001b[1;33m=\u001b[0m\u001b[0mmask\u001b[0m\u001b[1;33m,\u001b[0m\u001b[1;33m\u001b[0m\u001b[0m\n\u001b[0;32m   1564\u001b[0m                 \u001b[0mndim\u001b[0m\u001b[1;33m=\u001b[0m\u001b[0mself\u001b[0m\u001b[1;33m.\u001b[0m\u001b[0mndim\u001b[0m\u001b[1;33m,\u001b[0m\u001b[1;33m\u001b[0m\u001b[0m\n\u001b[1;32m-> 1565\u001b[1;33m                 \u001b[0minterpolation\u001b[0m\u001b[1;33m=\u001b[0m\u001b[0minterpolation\u001b[0m\u001b[1;33m,\u001b[0m\u001b[1;33m\u001b[0m\u001b[0m\n\u001b[0m\u001b[0;32m   1566\u001b[0m             )\n\u001b[0;32m   1567\u001b[0m \u001b[1;33m\u001b[0m\u001b[0m\n",
      "\u001b[1;32m~\\AppData\\Roaming\\Python\\Python36\\site-packages\\pandas\\core\\nanops.py\u001b[0m in \u001b[0;36mnanpercentile\u001b[1;34m(values, q, axis, na_value, mask, ndim, interpolation)\u001b[0m\n\u001b[0;32m   1413\u001b[0m             \u001b[1;32mreturn\u001b[0m \u001b[0mresult\u001b[0m\u001b[1;33m\u001b[0m\u001b[0m\n\u001b[0;32m   1414\u001b[0m     \u001b[1;32melse\u001b[0m\u001b[1;33m:\u001b[0m\u001b[1;33m\u001b[0m\u001b[0m\n\u001b[1;32m-> 1415\u001b[1;33m         \u001b[1;32mreturn\u001b[0m \u001b[0mnp\u001b[0m\u001b[1;33m.\u001b[0m\u001b[0mpercentile\u001b[0m\u001b[1;33m(\u001b[0m\u001b[0mvalues\u001b[0m\u001b[1;33m,\u001b[0m \u001b[0mq\u001b[0m\u001b[1;33m,\u001b[0m \u001b[0maxis\u001b[0m\u001b[1;33m=\u001b[0m\u001b[0maxis\u001b[0m\u001b[1;33m,\u001b[0m \u001b[0minterpolation\u001b[0m\u001b[1;33m=\u001b[0m\u001b[0minterpolation\u001b[0m\u001b[1;33m)\u001b[0m\u001b[1;33m\u001b[0m\u001b[0m\n\u001b[0m",
      "\u001b[1;32m<__array_function__ internals>\u001b[0m in \u001b[0;36mpercentile\u001b[1;34m(*args, **kwargs)\u001b[0m\n",
      "\u001b[1;32m~\\AppData\\Roaming\\Python\\Python36\\site-packages\\numpy\\lib\\function_base.py\u001b[0m in \u001b[0;36mpercentile\u001b[1;34m(a, q, axis, out, overwrite_input, interpolation, keepdims)\u001b[0m\n\u001b[0;32m   3711\u001b[0m         \u001b[1;32mraise\u001b[0m \u001b[0mValueError\u001b[0m\u001b[1;33m(\u001b[0m\u001b[1;34m\"Percentiles must be in the range [0, 100]\"\u001b[0m\u001b[1;33m)\u001b[0m\u001b[1;33m\u001b[0m\u001b[0m\n\u001b[0;32m   3712\u001b[0m     return _quantile_unchecked(\n\u001b[1;32m-> 3713\u001b[1;33m         a, q, axis, out, overwrite_input, interpolation, keepdims)\n\u001b[0m\u001b[0;32m   3714\u001b[0m \u001b[1;33m\u001b[0m\u001b[0m\n\u001b[0;32m   3715\u001b[0m \u001b[1;33m\u001b[0m\u001b[0m\n",
      "\u001b[1;32m~\\AppData\\Roaming\\Python\\Python36\\site-packages\\numpy\\lib\\function_base.py\u001b[0m in \u001b[0;36m_quantile_unchecked\u001b[1;34m(a, q, axis, out, overwrite_input, interpolation, keepdims)\u001b[0m\n\u001b[0;32m   3831\u001b[0m     r, k = _ureduce(a, func=_quantile_ureduce_func, q=q, axis=axis, out=out,\n\u001b[0;32m   3832\u001b[0m                     \u001b[0moverwrite_input\u001b[0m\u001b[1;33m=\u001b[0m\u001b[0moverwrite_input\u001b[0m\u001b[1;33m,\u001b[0m\u001b[1;33m\u001b[0m\u001b[0m\n\u001b[1;32m-> 3833\u001b[1;33m                     interpolation=interpolation)\n\u001b[0m\u001b[0;32m   3834\u001b[0m     \u001b[1;32mif\u001b[0m \u001b[0mkeepdims\u001b[0m\u001b[1;33m:\u001b[0m\u001b[1;33m\u001b[0m\u001b[0m\n\u001b[0;32m   3835\u001b[0m         \u001b[1;32mreturn\u001b[0m \u001b[0mr\u001b[0m\u001b[1;33m.\u001b[0m\u001b[0mreshape\u001b[0m\u001b[1;33m(\u001b[0m\u001b[0mq\u001b[0m\u001b[1;33m.\u001b[0m\u001b[0mshape\u001b[0m \u001b[1;33m+\u001b[0m \u001b[0mk\u001b[0m\u001b[1;33m)\u001b[0m\u001b[1;33m\u001b[0m\u001b[0m\n",
      "\u001b[1;32m~\\AppData\\Roaming\\Python\\Python36\\site-packages\\numpy\\lib\\function_base.py\u001b[0m in \u001b[0;36m_ureduce\u001b[1;34m(a, func, **kwargs)\u001b[0m\n\u001b[0;32m   3408\u001b[0m         \u001b[0mkeepdim\u001b[0m \u001b[1;33m=\u001b[0m \u001b[1;33m(\u001b[0m\u001b[1;36m1\u001b[0m\u001b[1;33m,\u001b[0m\u001b[1;33m)\u001b[0m \u001b[1;33m*\u001b[0m \u001b[0ma\u001b[0m\u001b[1;33m.\u001b[0m\u001b[0mndim\u001b[0m\u001b[1;33m\u001b[0m\u001b[0m\n\u001b[0;32m   3409\u001b[0m \u001b[1;33m\u001b[0m\u001b[0m\n\u001b[1;32m-> 3410\u001b[1;33m     \u001b[0mr\u001b[0m \u001b[1;33m=\u001b[0m \u001b[0mfunc\u001b[0m\u001b[1;33m(\u001b[0m\u001b[0ma\u001b[0m\u001b[1;33m,\u001b[0m \u001b[1;33m**\u001b[0m\u001b[0mkwargs\u001b[0m\u001b[1;33m)\u001b[0m\u001b[1;33m\u001b[0m\u001b[0m\n\u001b[0m\u001b[0;32m   3411\u001b[0m     \u001b[1;32mreturn\u001b[0m \u001b[0mr\u001b[0m\u001b[1;33m,\u001b[0m \u001b[0mkeepdim\u001b[0m\u001b[1;33m\u001b[0m\u001b[0m\n\u001b[0;32m   3412\u001b[0m \u001b[1;33m\u001b[0m\u001b[0m\n",
      "\u001b[1;32m~\\AppData\\Roaming\\Python\\Python36\\site-packages\\numpy\\lib\\function_base.py\u001b[0m in \u001b[0;36m_quantile_ureduce_func\u001b[1;34m(a, q, axis, out, overwrite_input, interpolation, keepdims)\u001b[0m\n\u001b[0;32m   3933\u001b[0m         \u001b[0mweights_above\u001b[0m\u001b[1;33m.\u001b[0m\u001b[0mshape\u001b[0m \u001b[1;33m=\u001b[0m \u001b[0mweights_shape\u001b[0m\u001b[1;33m\u001b[0m\u001b[0m\n\u001b[0;32m   3934\u001b[0m \u001b[1;33m\u001b[0m\u001b[0m\n\u001b[1;32m-> 3935\u001b[1;33m         \u001b[0map\u001b[0m\u001b[1;33m.\u001b[0m\u001b[0mpartition\u001b[0m\u001b[1;33m(\u001b[0m\u001b[0mconcatenate\u001b[0m\u001b[1;33m(\u001b[0m\u001b[1;33m(\u001b[0m\u001b[0mindices_below\u001b[0m\u001b[1;33m,\u001b[0m \u001b[0mindices_above\u001b[0m\u001b[1;33m)\u001b[0m\u001b[1;33m)\u001b[0m\u001b[1;33m,\u001b[0m \u001b[0maxis\u001b[0m\u001b[1;33m=\u001b[0m\u001b[0maxis\u001b[0m\u001b[1;33m)\u001b[0m\u001b[1;33m\u001b[0m\u001b[0m\n\u001b[0m\u001b[0;32m   3936\u001b[0m \u001b[1;33m\u001b[0m\u001b[0m\n\u001b[0;32m   3937\u001b[0m         \u001b[1;31m# ensure axis with q-th is first\u001b[0m\u001b[1;33m\u001b[0m\u001b[1;33m\u001b[0m\u001b[0m\n",
      "\u001b[1;31mKeyboardInterrupt\u001b[0m: "
     ]
    }
   ],
   "source": [
    "static_configurations =  build_static_configurations(hyper_configuration)\n",
    "pipeline_gen = build_pipelines(static_configurations) \n",
    "\n",
    "best_params = [] \n",
    "best_mean = 0 \n",
    "for pip in pipeline_gen : \n",
    "    print([i for _,i in pip.steps])\n",
    "    result = pip.predict([A_all_vs,B])\n",
    "    corr = cpm.correlation_measure(result,X)\n",
    "    _mean = np.round(corr.mean(),3)\n",
    "    \n",
    "    if _mean == best_mean :\n",
    "        best_params.append(pip)\n",
    "        \n",
    "    if _mean > best_mean :\n",
    "        best_mean = _mean\n",
    "        best_params = [pip]\n",
    "    \n",
    "    print(_mean)\n",
    "#     print((corr.std()))\n",
    "    print(\"-----new-----\")\n",
    "    "
   ]
  },
  {
   "cell_type": "code",
   "execution_count": null,
   "metadata": {},
   "outputs": [],
   "source": []
  },
  {
   "cell_type": "markdown",
   "metadata": {},
   "source": [
    "# plot experiment params summary "
   ]
  },
  {
   "cell_type": "markdown",
   "metadata": {},
   "source": [
    "# visualization of results"
   ]
  }
 ],
 "metadata": {
  "hide_input": false,
  "kernelspec": {
   "display_name": "Python 3",
   "language": "python",
   "name": "python3"
  },
  "language_info": {
   "codemirror_mode": {
    "name": "ipython",
    "version": 3
   },
   "file_extension": ".py",
   "mimetype": "text/x-python",
   "name": "python",
   "nbconvert_exporter": "python",
   "pygments_lexer": "ipython3",
   "version": "3.6.5"
  },
  "toc": {
   "base_numbering": 1,
   "nav_menu": {},
   "number_sections": true,
   "sideBar": true,
   "skip_h1_title": false,
   "title_cell": "Table of Contents",
   "title_sidebar": "Contents",
   "toc_cell": false,
   "toc_position": {},
   "toc_section_display": true,
   "toc_window_display": false
  }
 },
 "nbformat": 4,
 "nbformat_minor": 2
}
