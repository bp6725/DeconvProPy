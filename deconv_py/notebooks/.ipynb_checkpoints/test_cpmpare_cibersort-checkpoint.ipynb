{
 "cells": [
  {
   "cell_type": "code",
   "execution_count": 1,
   "metadata": {},
   "outputs": [],
   "source": [
    "import sys\n",
    "sys.path.append('../../')\n",
    "sys.path.append('../infras/cellMix/')"
   ]
  },
  {
   "cell_type": "code",
   "execution_count": 2,
   "metadata": {},
   "outputs": [],
   "source": [
    "import pandas as pd\n",
    "import numpy as np\n",
    "from functools import partial\n",
    "import multiprocessing\n",
    "\n",
    "from scipy.optimize import least_squares\n",
    "from sklearn.metrics import mean_squared_error\n",
    "from functools import partial\n",
    "from scipy.optimize import minimize\n",
    "import scipy.optimize\n",
    "from itertools import combinations\n",
    "import matplotlib.pyplot as plt\n",
    "\n",
    "import os"
   ]
  },
  {
   "cell_type": "code",
   "execution_count": 3,
   "metadata": {},
   "outputs": [],
   "source": [
    "from deconv_py.preprocess.base import BasePreprocess as PP_base\n",
    "from deconv_py.preprocess.cell_specific import CellSpecific as PP_proteins\n",
    "\n",
    "from deconv_py.infras.data_factory import DataFactory\n",
    "from deconv_py.infras.data_loader import DataLoader\n",
    "\n",
    "from deconv_py.models.base import Base as Models_base\n",
    "from deconv_py.models.cell_proportions_models import CellProportions\n",
    "from deconv_py.models.cell_specific_models import CellSpecificPerPermutation\n",
    "\n",
    "from deconv_py.experiments.cell_specific import CellSpecificMetricsPlot\n",
    "\n",
    "from deconv_py.infras.cellMix.cellMix_coordinator import CellMixCoordinator"
   ]
  },
  {
   "cell_type": "markdown",
   "metadata": {},
   "source": [
    "# Calc cell specific - LFQ"
   ]
  },
  {
   "cell_type": "markdown",
   "metadata": {},
   "source": [
    "## read data"
   ]
  },
  {
   "cell_type": "markdown",
   "metadata": {},
   "source": [
    "### mixture & cell specific data"
   ]
  },
  {
   "cell_type": "code",
   "execution_count": 4,
   "metadata": {
    "code_folding": [
     2
    ]
   },
   "outputs": [
    {
     "name": "stderr",
     "output_type": "stream",
     "text": [
      "C:\\ProgramData\\Anaconda3\\lib\\site-packages\\IPython\\core\\interactiveshell.py:2903: DtypeWarning: Columns (5,6,2764,2765,2773,2774,2775,2776) have mixed types. Specify dtype option on import or set low_memory=False.\n",
      "  if self.run_code(code, result):\n"
     ]
    }
   ],
   "source": [
    "data_loader = DataLoader(mass_spec_path=os.path.abspath('../data/20150208_mixture_proteinGroups.xls'),\n",
    "                         protein_profile_path = os.path.abspath('../data/20150718_Cerberus_proteinGroups.txt'))\n",
    "data_factory = DataFactory(data_loader)\n",
    "profile_data,profile_data_relvent_data = data_factory.build_cell_specific_profile()\n",
    "mixtures,mixtures_relvent_data = data_factory.build_mixture_data()"
   ]
  },
  {
   "cell_type": "markdown",
   "metadata": {},
   "source": [
    "### cell_proportions"
   ]
  },
  {
   "cell_type": "code",
   "execution_count": 5,
   "metadata": {
    "code_folding": []
   },
   "outputs": [],
   "source": [
    "cell_proportions_df = pd.DataFrame(index = ['LFQ intensity NOT_CD4TCellTcm_01','LFQ intensity NOT_BCellmemory_01','LFQ intensity NOT_Monocytesnonclassical_01'],\n",
    "                                   columns = list(range(1,9)),\n",
    "                                   data =np.array(((100,0,0),(0,100,0),(0,0,100),(33,33,33),(25,25,50),(25,50,25),(50,25,25),(47.5,47.5,5.0))).T)"
   ]
  },
  {
   "cell_type": "markdown",
   "metadata": {},
   "source": [
    "## build A ,X and B "
   ]
  },
  {
   "cell_type": "markdown",
   "metadata": {},
   "source": [
    "### set unique index"
   ]
  },
  {
   "cell_type": "code",
   "execution_count": 6,
   "metadata": {},
   "outputs": [],
   "source": [
    "index_func = lambda x:x.split(';')[0]\n",
    "_profile_data,_mixtures = PP_base.return_mutual_proteins_by_index(profile_data,mixtures,index_func=index_func)\n",
    "A = _profile_data[profile_data_relvent_data]\n",
    "B = _mixtures[mixtures_relvent_data]\n",
    "\n",
    "X = cell_proportions_df"
   ]
  },
  {
   "cell_type": "code",
   "execution_count": 7,
   "metadata": {},
   "outputs": [],
   "source": [
    "B=B.rename({f:f.split('LFQ intensity ')[1] for f in B.columns},axis=1)\n",
    "\n",
    "X = X.rename({f:f.split('LFQ intensity ')[1] for f in X.index},axis=0)\n",
    "X = X.rename({f:'mixture'+str(f) for f in X.columns},axis=1)\n",
    "\n",
    "A = A.rename({f:f.split('LFQ intensity ')[1] for f in A.columns},axis=1)"
   ]
  },
  {
   "cell_type": "markdown",
   "metadata": {},
   "source": [
    "## models"
   ]
  },
  {
   "cell_type": "code",
   "execution_count": 8,
   "metadata": {},
   "outputs": [],
   "source": [
    "cmc = CellMixCoordinator()\n",
    "def _calc_and_display_with_cellmix(_a,_b,X,with_cellMix = False) : \n",
    "    cell_abundance_over_samples = CellProportions.fit(_a,_b.values)\n",
    "    \n",
    "    if with_cellMix : \n",
    "        cellMax_cell_abundance_over_samples = cmc.cell_prop_with_bashop_with_bash(_b,_a)\n",
    "        display(cellMax_cell_abundance_over_samples)\n",
    "        \n",
    "    display(cell_abundance_over_samples)\n",
    "    display(X)\n",
    "    "
   ]
  },
  {
   "cell_type": "markdown",
   "metadata": {},
   "source": [
    "### with negtive"
   ]
  },
  {
   "cell_type": "code",
   "execution_count": 9,
   "metadata": {
    "code_folding": [],
    "scrolled": true
   },
   "outputs": [],
   "source": [
    "#  cell_specific_per_permutation = CellSpecificPerPermutation.fit(X.T,B.T)"
   ]
  },
  {
   "cell_type": "code",
   "execution_count": 10,
   "metadata": {
    "code_folding": []
   },
   "outputs": [],
   "source": [
    "# with dfs\n",
    "# cell_specific_per_permutation_dfs =CellSpecificPerPermutation.fit_as_df(X.T,B.T)"
   ]
  },
  {
   "cell_type": "markdown",
   "metadata": {},
   "source": [
    "### no negtive"
   ]
  },
  {
   "cell_type": "code",
   "execution_count": 11,
   "metadata": {},
   "outputs": [],
   "source": [
    "# cell_specific_per_permutation_nn = CellSpecificPerPermutation.nn_fit(X.T,B.T)\n",
    "cell_specific_per_permutation_nn_dfs,permuts = CellSpecificPerPermutation.nn_fit_as_df(X.T,B.T)"
   ]
  },
  {
   "cell_type": "markdown",
   "metadata": {},
   "source": [
    "# calc cell proportions - iBAQ"
   ]
  },
  {
   "cell_type": "markdown",
   "metadata": {},
   "source": [
    "## read data - iBAQ"
   ]
  },
  {
   "cell_type": "markdown",
   "metadata": {},
   "source": [
    "### mixture & cell specific data"
   ]
  },
  {
   "cell_type": "code",
   "execution_count": 12,
   "metadata": {},
   "outputs": [],
   "source": [
    "data_factory = DataFactory(data_loader)\n",
    "profile_data,profile_data_relvent_data = data_factory.build_cell_specific_profile(intensity_type='iBAQ')\n",
    "mixtures,mixtures_relvent_data = data_factory.build_mixture_data(intensity_type='iBAQ')"
   ]
  },
  {
   "cell_type": "markdown",
   "metadata": {},
   "source": [
    "### cell proportions"
   ]
  },
  {
   "cell_type": "code",
   "execution_count": 13,
   "metadata": {},
   "outputs": [],
   "source": [
    "cell_proportions_df = pd.DataFrame(index = ['iBAQ NOT_CD4TCellTcm_01','iBAQ NOT_BCellmemory_01','iBAQ NOT_Monocytesnonclassical_01'],\n",
    "                                   columns = list(range(1,9)),\n",
    "                                   data =np.array(((100,0,0),(0,100,0),(0,0,100),(33,33,33),(25,25,50),(25,50,25),(50,25,25),(47.5,47.5,5.0))).T)"
   ]
  },
  {
   "cell_type": "markdown",
   "metadata": {},
   "source": [
    "## build A ,X and B "
   ]
  },
  {
   "cell_type": "markdown",
   "metadata": {},
   "source": [
    "### set unique index"
   ]
  },
  {
   "cell_type": "code",
   "execution_count": 14,
   "metadata": {},
   "outputs": [],
   "source": [
    "index_func = lambda x:x.split(';')[0]\n",
    "_profile_data,_mixtures = PP_base.return_mutual_proteins_by_index(profile_data,mixtures,index_func=index_func)\n",
    "A = _profile_data[profile_data_relvent_data]\n",
    "B = _mixtures[mixtures_relvent_data]\n",
    "\n",
    "X = cell_proportions_df"
   ]
  },
  {
   "cell_type": "code",
   "execution_count": 15,
   "metadata": {},
   "outputs": [],
   "source": [
    "B=B.rename({f:f.split('iBAQ ')[1] for f in B.columns},axis=1)\n",
    "\n",
    "X = X.rename({f:f.split('iBAQ ')[1] for f in X.index},axis=0)\n",
    "X = X.rename({f:'mixture'+str(f) for f in X.columns},axis=1)\n",
    "\n",
    "A = A.rename({f:f.split('iBAQ ')[1] for f in A.columns},axis=1)"
   ]
  },
  {
   "cell_type": "markdown",
   "metadata": {},
   "source": [
    "## models"
   ]
  },
  {
   "cell_type": "markdown",
   "metadata": {},
   "source": [
    "### naive"
   ]
  },
  {
   "cell_type": "code",
   "execution_count": 16,
   "metadata": {},
   "outputs": [
    {
     "data": {
      "text/plain": [
       "array([[0.76, 0.19, 0.05],\n",
       "       [0.42, 0.58, 0.  ],\n",
       "       [0.29, 0.  , 0.71],\n",
       "       [0.63, 0.22, 0.14],\n",
       "       [0.44, 0.39, 0.18],\n",
       "       [0.73, 0.  , 0.27],\n",
       "       [0.59, 0.32, 0.1 ],\n",
       "       [0.37, 0.58, 0.05]])"
      ]
     },
     "metadata": {},
     "output_type": "display_data"
    },
    {
     "data": {
      "text/html": [
       "<div>\n",
       "<style scoped>\n",
       "    .dataframe tbody tr th:only-of-type {\n",
       "        vertical-align: middle;\n",
       "    }\n",
       "\n",
       "    .dataframe tbody tr th {\n",
       "        vertical-align: top;\n",
       "    }\n",
       "\n",
       "    .dataframe thead th {\n",
       "        text-align: right;\n",
       "    }\n",
       "</style>\n",
       "<table border=\"1\" class=\"dataframe\">\n",
       "  <thead>\n",
       "    <tr style=\"text-align: right;\">\n",
       "      <th></th>\n",
       "      <th>Unnamed: 0</th>\n",
       "      <th>mixture1</th>\n",
       "      <th>mixture2</th>\n",
       "      <th>mixture3</th>\n",
       "      <th>mixture4</th>\n",
       "      <th>mixture5</th>\n",
       "      <th>mixture6</th>\n",
       "      <th>mixture7</th>\n",
       "      <th>mixture8</th>\n",
       "    </tr>\n",
       "  </thead>\n",
       "  <tbody>\n",
       "    <tr>\n",
       "      <th>0</th>\n",
       "      <td>NOT_CD4TCellTcm_01</td>\n",
       "      <td>0.763596</td>\n",
       "      <td>0.423652</td>\n",
       "      <td>0.294335</td>\n",
       "      <td>0.634969</td>\n",
       "      <td>0.435925</td>\n",
       "      <td>0.733819</td>\n",
       "      <td>0.587157</td>\n",
       "      <td>0.366978</td>\n",
       "    </tr>\n",
       "    <tr>\n",
       "      <th>1</th>\n",
       "      <td>NOT_BCellmemory_01</td>\n",
       "      <td>0.188030</td>\n",
       "      <td>0.576348</td>\n",
       "      <td>0.000000</td>\n",
       "      <td>0.224542</td>\n",
       "      <td>0.385447</td>\n",
       "      <td>0.000000</td>\n",
       "      <td>0.315142</td>\n",
       "      <td>0.580757</td>\n",
       "    </tr>\n",
       "    <tr>\n",
       "      <th>2</th>\n",
       "      <td>NOT_Monocytesnonclassical_01</td>\n",
       "      <td>0.048374</td>\n",
       "      <td>0.000000</td>\n",
       "      <td>0.705665</td>\n",
       "      <td>0.140489</td>\n",
       "      <td>0.178628</td>\n",
       "      <td>0.266181</td>\n",
       "      <td>0.097701</td>\n",
       "      <td>0.052265</td>\n",
       "    </tr>\n",
       "  </tbody>\n",
       "</table>\n",
       "</div>"
      ],
      "text/plain": [
       "                     Unnamed: 0  mixture1  mixture2  mixture3  mixture4  \\\n",
       "0            NOT_CD4TCellTcm_01  0.763596  0.423652  0.294335  0.634969   \n",
       "1            NOT_BCellmemory_01  0.188030  0.576348  0.000000  0.224542   \n",
       "2  NOT_Monocytesnonclassical_01  0.048374  0.000000  0.705665  0.140489   \n",
       "\n",
       "   mixture5  mixture6  mixture7  mixture8  \n",
       "0  0.435925  0.733819  0.587157  0.366978  \n",
       "1  0.385447  0.000000  0.315142  0.580757  \n",
       "2  0.178628  0.266181  0.097701  0.052265  "
      ]
     },
     "metadata": {},
     "output_type": "display_data"
    },
    {
     "data": {
      "text/html": [
       "<div>\n",
       "<style scoped>\n",
       "    .dataframe tbody tr th:only-of-type {\n",
       "        vertical-align: middle;\n",
       "    }\n",
       "\n",
       "    .dataframe tbody tr th {\n",
       "        vertical-align: top;\n",
       "    }\n",
       "\n",
       "    .dataframe thead th {\n",
       "        text-align: right;\n",
       "    }\n",
       "</style>\n",
       "<table border=\"1\" class=\"dataframe\">\n",
       "  <thead>\n",
       "    <tr style=\"text-align: right;\">\n",
       "      <th></th>\n",
       "      <th>mixture1</th>\n",
       "      <th>mixture2</th>\n",
       "      <th>mixture3</th>\n",
       "      <th>mixture4</th>\n",
       "      <th>mixture5</th>\n",
       "      <th>mixture6</th>\n",
       "      <th>mixture7</th>\n",
       "      <th>mixture8</th>\n",
       "    </tr>\n",
       "  </thead>\n",
       "  <tbody>\n",
       "    <tr>\n",
       "      <th>NOT_CD4TCellTcm_01</th>\n",
       "      <td>100.0</td>\n",
       "      <td>0.0</td>\n",
       "      <td>0.0</td>\n",
       "      <td>33.0</td>\n",
       "      <td>25.0</td>\n",
       "      <td>25.0</td>\n",
       "      <td>50.0</td>\n",
       "      <td>47.5</td>\n",
       "    </tr>\n",
       "    <tr>\n",
       "      <th>NOT_BCellmemory_01</th>\n",
       "      <td>0.0</td>\n",
       "      <td>100.0</td>\n",
       "      <td>0.0</td>\n",
       "      <td>33.0</td>\n",
       "      <td>25.0</td>\n",
       "      <td>50.0</td>\n",
       "      <td>25.0</td>\n",
       "      <td>47.5</td>\n",
       "    </tr>\n",
       "    <tr>\n",
       "      <th>NOT_Monocytesnonclassical_01</th>\n",
       "      <td>0.0</td>\n",
       "      <td>0.0</td>\n",
       "      <td>100.0</td>\n",
       "      <td>33.0</td>\n",
       "      <td>50.0</td>\n",
       "      <td>25.0</td>\n",
       "      <td>25.0</td>\n",
       "      <td>5.0</td>\n",
       "    </tr>\n",
       "  </tbody>\n",
       "</table>\n",
       "</div>"
      ],
      "text/plain": [
       "                              mixture1  mixture2  mixture3  mixture4  \\\n",
       "NOT_CD4TCellTcm_01               100.0       0.0       0.0      33.0   \n",
       "NOT_BCellmemory_01                 0.0     100.0       0.0      33.0   \n",
       "NOT_Monocytesnonclassical_01       0.0       0.0     100.0      33.0   \n",
       "\n",
       "                              mixture5  mixture6  mixture7  mixture8  \n",
       "NOT_CD4TCellTcm_01                25.0      25.0      50.0      47.5  \n",
       "NOT_BCellmemory_01                25.0      50.0      25.0      47.5  \n",
       "NOT_Monocytesnonclassical_01      50.0      25.0      25.0       5.0  "
      ]
     },
     "metadata": {},
     "output_type": "display_data"
    }
   ],
   "source": [
    "_calc_and_display_with_cellmix(A,B,X)"
   ]
  },
  {
   "cell_type": "markdown",
   "metadata": {},
   "source": [
    "### with preprocess"
   ]
  },
  {
   "cell_type": "markdown",
   "metadata": {},
   "source": [
    "#### naive discriminative"
   ]
  },
  {
   "cell_type": "code",
   "execution_count": 17,
   "metadata": {
    "scrolled": false
   },
   "outputs": [
    {
     "data": {
      "text/plain": [
       "array([[0.89, 0.11, 0.  ],\n",
       "       [0.  , 1.  , 0.  ],\n",
       "       [0.  , 0.  , 1.  ],\n",
       "       [0.3 , 0.5 , 0.2 ],\n",
       "       [0.08, 0.68, 0.24],\n",
       "       [0.46, 0.02, 0.52],\n",
       "       [0.41, 0.44, 0.15],\n",
       "       [0.27, 0.71, 0.01]])"
      ]
     },
     "metadata": {},
     "output_type": "display_data"
    },
    {
     "data": {
      "text/html": [
       "<div>\n",
       "<style scoped>\n",
       "    .dataframe tbody tr th:only-of-type {\n",
       "        vertical-align: middle;\n",
       "    }\n",
       "\n",
       "    .dataframe tbody tr th {\n",
       "        vertical-align: top;\n",
       "    }\n",
       "\n",
       "    .dataframe thead th {\n",
       "        text-align: right;\n",
       "    }\n",
       "</style>\n",
       "<table border=\"1\" class=\"dataframe\">\n",
       "  <thead>\n",
       "    <tr style=\"text-align: right;\">\n",
       "      <th></th>\n",
       "      <th>Unnamed: 0</th>\n",
       "      <th>mixture1</th>\n",
       "      <th>mixture2</th>\n",
       "      <th>mixture3</th>\n",
       "      <th>mixture4</th>\n",
       "      <th>mixture5</th>\n",
       "      <th>mixture6</th>\n",
       "      <th>mixture7</th>\n",
       "      <th>mixture8</th>\n",
       "    </tr>\n",
       "  </thead>\n",
       "  <tbody>\n",
       "    <tr>\n",
       "      <th>0</th>\n",
       "      <td>NOT_CD4TCellTcm_01</td>\n",
       "      <td>0.889542</td>\n",
       "      <td>0.000000</td>\n",
       "      <td>0</td>\n",
       "      <td>0.295997</td>\n",
       "      <td>0.081861</td>\n",
       "      <td>0.461521</td>\n",
       "      <td>0.414880</td>\n",
       "      <td>0.272538</td>\n",
       "    </tr>\n",
       "    <tr>\n",
       "      <th>1</th>\n",
       "      <td>NOT_BCellmemory_01</td>\n",
       "      <td>0.110458</td>\n",
       "      <td>0.995714</td>\n",
       "      <td>0</td>\n",
       "      <td>0.503660</td>\n",
       "      <td>0.679006</td>\n",
       "      <td>0.019773</td>\n",
       "      <td>0.438832</td>\n",
       "      <td>0.713898</td>\n",
       "    </tr>\n",
       "    <tr>\n",
       "      <th>2</th>\n",
       "      <td>NOT_Monocytesnonclassical_01</td>\n",
       "      <td>0.000000</td>\n",
       "      <td>0.004286</td>\n",
       "      <td>1</td>\n",
       "      <td>0.200343</td>\n",
       "      <td>0.239133</td>\n",
       "      <td>0.518706</td>\n",
       "      <td>0.146289</td>\n",
       "      <td>0.013565</td>\n",
       "    </tr>\n",
       "  </tbody>\n",
       "</table>\n",
       "</div>"
      ],
      "text/plain": [
       "                     Unnamed: 0  mixture1  mixture2  mixture3  mixture4  \\\n",
       "0            NOT_CD4TCellTcm_01  0.889542  0.000000         0  0.295997   \n",
       "1            NOT_BCellmemory_01  0.110458  0.995714         0  0.503660   \n",
       "2  NOT_Monocytesnonclassical_01  0.000000  0.004286         1  0.200343   \n",
       "\n",
       "   mixture5  mixture6  mixture7  mixture8  \n",
       "0  0.081861  0.461521  0.414880  0.272538  \n",
       "1  0.679006  0.019773  0.438832  0.713898  \n",
       "2  0.239133  0.518706  0.146289  0.013565  "
      ]
     },
     "metadata": {},
     "output_type": "display_data"
    },
    {
     "data": {
      "text/html": [
       "<div>\n",
       "<style scoped>\n",
       "    .dataframe tbody tr th:only-of-type {\n",
       "        vertical-align: middle;\n",
       "    }\n",
       "\n",
       "    .dataframe tbody tr th {\n",
       "        vertical-align: top;\n",
       "    }\n",
       "\n",
       "    .dataframe thead th {\n",
       "        text-align: right;\n",
       "    }\n",
       "</style>\n",
       "<table border=\"1\" class=\"dataframe\">\n",
       "  <thead>\n",
       "    <tr style=\"text-align: right;\">\n",
       "      <th></th>\n",
       "      <th>mixture1</th>\n",
       "      <th>mixture2</th>\n",
       "      <th>mixture3</th>\n",
       "      <th>mixture4</th>\n",
       "      <th>mixture5</th>\n",
       "      <th>mixture6</th>\n",
       "      <th>mixture7</th>\n",
       "      <th>mixture8</th>\n",
       "    </tr>\n",
       "  </thead>\n",
       "  <tbody>\n",
       "    <tr>\n",
       "      <th>NOT_CD4TCellTcm_01</th>\n",
       "      <td>100.0</td>\n",
       "      <td>0.0</td>\n",
       "      <td>0.0</td>\n",
       "      <td>33.0</td>\n",
       "      <td>25.0</td>\n",
       "      <td>25.0</td>\n",
       "      <td>50.0</td>\n",
       "      <td>47.5</td>\n",
       "    </tr>\n",
       "    <tr>\n",
       "      <th>NOT_BCellmemory_01</th>\n",
       "      <td>0.0</td>\n",
       "      <td>100.0</td>\n",
       "      <td>0.0</td>\n",
       "      <td>33.0</td>\n",
       "      <td>25.0</td>\n",
       "      <td>50.0</td>\n",
       "      <td>25.0</td>\n",
       "      <td>47.5</td>\n",
       "    </tr>\n",
       "    <tr>\n",
       "      <th>NOT_Monocytesnonclassical_01</th>\n",
       "      <td>0.0</td>\n",
       "      <td>0.0</td>\n",
       "      <td>100.0</td>\n",
       "      <td>33.0</td>\n",
       "      <td>50.0</td>\n",
       "      <td>25.0</td>\n",
       "      <td>25.0</td>\n",
       "      <td>5.0</td>\n",
       "    </tr>\n",
       "  </tbody>\n",
       "</table>\n",
       "</div>"
      ],
      "text/plain": [
       "                              mixture1  mixture2  mixture3  mixture4  \\\n",
       "NOT_CD4TCellTcm_01               100.0       0.0       0.0      33.0   \n",
       "NOT_BCellmemory_01                 0.0     100.0       0.0      33.0   \n",
       "NOT_Monocytesnonclassical_01       0.0       0.0     100.0      33.0   \n",
       "\n",
       "                              mixture5  mixture6  mixture7  mixture8  \n",
       "NOT_CD4TCellTcm_01                25.0      25.0      50.0      47.5  \n",
       "NOT_BCellmemory_01                25.0      50.0      25.0      47.5  \n",
       "NOT_Monocytesnonclassical_01      50.0      25.0      25.0       5.0  "
      ]
     },
     "metadata": {},
     "output_type": "display_data"
    }
   ],
   "source": [
    "_A,_B = PP_proteins.pp_clean_irrelevant_proteins(A,B)\n",
    "_A,_B = PP_proteins.pp_naive_discriminative_proteins(_A,_B)\n",
    "\n",
    "_calc_and_display_with_cellmix(_A,_B,X)"
   ]
  },
  {
   "cell_type": "markdown",
   "metadata": {},
   "source": [
    "#### binary occurrence"
   ]
  },
  {
   "cell_type": "code",
   "execution_count": 18,
   "metadata": {},
   "outputs": [
    {
     "ename": "Exception",
     "evalue": "Error in lm.fit(x, y, offset = offset, singular.ok = singular.ok, ...): 0 (non-NA) cases\n\n",
     "output_type": "error",
     "traceback": [
      "\u001b[1;31m---------------------------------------------------------------------------\u001b[0m",
      "\u001b[1;31mException\u001b[0m                                 Traceback (most recent call last)",
      "\u001b[1;32m<ipython-input-18-07a4b0f8201c>\u001b[0m in \u001b[0;36m<module>\u001b[1;34m()\u001b[0m\n\u001b[0;32m      2\u001b[0m \u001b[0m_A\u001b[0m\u001b[1;33m,\u001b[0m\u001b[0m_B\u001b[0m \u001b[1;33m=\u001b[0m \u001b[0mPP_proteins\u001b[0m\u001b[1;33m.\u001b[0m\u001b[0mpp_binary_occurrence\u001b[0m\u001b[1;33m(\u001b[0m\u001b[0m_A\u001b[0m\u001b[1;33m,\u001b[0m\u001b[0m_B\u001b[0m\u001b[1;33m)\u001b[0m\u001b[1;33m\u001b[0m\u001b[0m\n\u001b[0;32m      3\u001b[0m \u001b[1;33m\u001b[0m\u001b[0m\n\u001b[1;32m----> 4\u001b[1;33m \u001b[0m_calc_and_display_with_cellmix\u001b[0m\u001b[1;33m(\u001b[0m\u001b[0m_A\u001b[0m\u001b[1;33m,\u001b[0m\u001b[0m_B\u001b[0m\u001b[1;33m,\u001b[0m\u001b[0mX\u001b[0m\u001b[1;33m)\u001b[0m\u001b[1;33m\u001b[0m\u001b[0m\n\u001b[0m",
      "\u001b[1;32m<ipython-input-8-94644c28b8e8>\u001b[0m in \u001b[0;36m_calc_and_display_with_cellmix\u001b[1;34m(_a, _b, X)\u001b[0m\n\u001b[0;32m      2\u001b[0m \u001b[1;32mdef\u001b[0m \u001b[0m_calc_and_display_with_cellmix\u001b[0m\u001b[1;33m(\u001b[0m\u001b[0m_a\u001b[0m\u001b[1;33m,\u001b[0m\u001b[0m_b\u001b[0m\u001b[1;33m,\u001b[0m\u001b[0mX\u001b[0m\u001b[1;33m)\u001b[0m \u001b[1;33m:\u001b[0m\u001b[1;33m\u001b[0m\u001b[0m\n\u001b[0;32m      3\u001b[0m     \u001b[0mcell_abundance_over_samples\u001b[0m \u001b[1;33m=\u001b[0m \u001b[0mCellProportions\u001b[0m\u001b[1;33m.\u001b[0m\u001b[0mfit\u001b[0m\u001b[1;33m(\u001b[0m\u001b[0m_a\u001b[0m\u001b[1;33m,\u001b[0m\u001b[0m_b\u001b[0m\u001b[1;33m.\u001b[0m\u001b[0mvalues\u001b[0m\u001b[1;33m)\u001b[0m\u001b[1;33m\u001b[0m\u001b[0m\n\u001b[1;32m----> 4\u001b[1;33m     \u001b[0mcellMax_cell_abundance_over_samples\u001b[0m \u001b[1;33m=\u001b[0m \u001b[0mcmc\u001b[0m\u001b[1;33m.\u001b[0m\u001b[0mcell_prop_with_bash\u001b[0m\u001b[1;33m(\u001b[0m\u001b[0m_b\u001b[0m\u001b[1;33m,\u001b[0m\u001b[0m_a\u001b[0m\u001b[1;33m)\u001b[0m\u001b[1;33m\u001b[0m\u001b[0m\n\u001b[0m\u001b[0;32m      5\u001b[0m \u001b[1;33m\u001b[0m\u001b[0m\n\u001b[0;32m      6\u001b[0m     \u001b[0mdisplay\u001b[0m\u001b[1;33m(\u001b[0m\u001b[0mcell_abundance_over_samples\u001b[0m\u001b[1;33m)\u001b[0m\u001b[1;33m\u001b[0m\u001b[0m\n",
      "\u001b[1;32mC:\\Repos\\deconv_py\\deconv_py\\infras\\cellMix\\cellMix_coordinator.py\u001b[0m in \u001b[0;36mcell_prop_with_bash\u001b[1;34m(self, B, A, wd_path, bash_file_name)\u001b[0m\n\u001b[0;32m     21\u001b[0m         \u001b[0mself\u001b[0m\u001b[1;33m.\u001b[0m\u001b[0m_exacute_bash\u001b[0m\u001b[1;33m(\u001b[0m\u001b[0mbash_path\u001b[0m\u001b[1;33m)\u001b[0m\u001b[1;33m\u001b[0m\u001b[0m\n\u001b[0;32m     22\u001b[0m \u001b[1;33m\u001b[0m\u001b[0m\n\u001b[1;32m---> 23\u001b[1;33m         \u001b[1;32mwhile\u001b[0m \u001b[1;33m(\u001b[0m\u001b[1;32mnot\u001b[0m \u001b[0mself\u001b[0m\u001b[1;33m.\u001b[0m\u001b[0m_is_bash_finish\u001b[0m\u001b[1;33m(\u001b[0m\u001b[0mtmp_folder_path\u001b[0m\u001b[1;33m)\u001b[0m\u001b[1;33m)\u001b[0m \u001b[1;33m:\u001b[0m\u001b[1;33m\u001b[0m\u001b[0m\n\u001b[0m\u001b[0;32m     24\u001b[0m             \u001b[0mtime\u001b[0m\u001b[1;33m.\u001b[0m\u001b[0msleep\u001b[0m\u001b[1;33m(\u001b[0m\u001b[1;36m1\u001b[0m\u001b[1;33m)\u001b[0m\u001b[1;33m\u001b[0m\u001b[0m\n\u001b[0;32m     25\u001b[0m \u001b[1;33m\u001b[0m\u001b[0m\n",
      "\u001b[1;32mC:\\Repos\\deconv_py\\deconv_py\\infras\\cellMix\\cellMix_coordinator.py\u001b[0m in \u001b[0;36m_is_bash_finish\u001b[1;34m(self, folder_path)\u001b[0m\n\u001b[0;32m     58\u001b[0m             \u001b[1;32mwith\u001b[0m \u001b[0mopen\u001b[0m\u001b[1;33m(\u001b[0m\u001b[0m_failed_finish_file_indc_path\u001b[0m\u001b[1;33m,\u001b[0m\u001b[1;34m'r'\u001b[0m\u001b[1;33m)\u001b[0m \u001b[1;32mas\u001b[0m \u001b[0mf\u001b[0m\u001b[1;33m:\u001b[0m\u001b[1;33m\u001b[0m\u001b[0m\n\u001b[0;32m     59\u001b[0m                 \u001b[0merr\u001b[0m \u001b[1;33m=\u001b[0m \u001b[0mf\u001b[0m\u001b[1;33m.\u001b[0m\u001b[0mread\u001b[0m\u001b[1;33m(\u001b[0m\u001b[1;33m)\u001b[0m\u001b[1;33m\u001b[0m\u001b[0m\n\u001b[1;32m---> 60\u001b[1;33m             \u001b[1;32mraise\u001b[0m \u001b[0mException\u001b[0m\u001b[1;33m(\u001b[0m\u001b[0merr\u001b[0m\u001b[1;33m)\u001b[0m\u001b[1;33m\u001b[0m\u001b[0m\n\u001b[0m\u001b[0;32m     61\u001b[0m         \u001b[1;32mreturn\u001b[0m \u001b[0mos\u001b[0m\u001b[1;33m.\u001b[0m\u001b[0mpath\u001b[0m\u001b[1;33m.\u001b[0m\u001b[0mexists\u001b[0m\u001b[1;33m(\u001b[0m\u001b[0m_sucsess_finish_file_indc_path\u001b[0m\u001b[1;33m)\u001b[0m\u001b[1;33m\u001b[0m\u001b[0m\n\u001b[0;32m     62\u001b[0m \u001b[1;33m\u001b[0m\u001b[0m\n",
      "\u001b[1;31mException\u001b[0m: Error in lm.fit(x, y, offset = offset, singular.ok = singular.ok, ...): 0 (non-NA) cases\n\n"
     ]
    }
   ],
   "source": [
    "_A,_B = PP_proteins.pp_clean_irrelevant_proteins(A,B)\n",
    "_A,_B = PP_proteins.pp_binary_occurrence(_A,_B)\n",
    "\n",
    "_calc_and_display_with_cellmix(_A,_B,X)"
   ]
  },
  {
   "cell_type": "markdown",
   "metadata": {},
   "source": [
    "#### TopMergin"
   ]
  },
  {
   "cell_type": "code",
   "execution_count": 22,
   "metadata": {},
   "outputs": [
    {
     "data": {
      "text/plain": [
       "array([[0.77, 0.18, 0.05],\n",
       "       [0.43, 0.57, 0.  ],\n",
       "       [0.3 , 0.  , 0.7 ],\n",
       "       [0.64, 0.21, 0.14],\n",
       "       [0.44, 0.37, 0.18],\n",
       "       [0.73, 0.  , 0.27],\n",
       "       [0.59, 0.31, 0.1 ],\n",
       "       [0.37, 0.58, 0.05]])"
      ]
     },
     "metadata": {},
     "output_type": "display_data"
    },
    {
     "data": {
      "text/html": [
       "<div>\n",
       "<style scoped>\n",
       "    .dataframe tbody tr th:only-of-type {\n",
       "        vertical-align: middle;\n",
       "    }\n",
       "\n",
       "    .dataframe tbody tr th {\n",
       "        vertical-align: top;\n",
       "    }\n",
       "\n",
       "    .dataframe thead th {\n",
       "        text-align: right;\n",
       "    }\n",
       "</style>\n",
       "<table border=\"1\" class=\"dataframe\">\n",
       "  <thead>\n",
       "    <tr style=\"text-align: right;\">\n",
       "      <th></th>\n",
       "      <th>Unnamed: 0</th>\n",
       "      <th>mixture1</th>\n",
       "      <th>mixture2</th>\n",
       "      <th>mixture3</th>\n",
       "      <th>mixture4</th>\n",
       "      <th>mixture5</th>\n",
       "      <th>mixture6</th>\n",
       "      <th>mixture7</th>\n",
       "      <th>mixture8</th>\n",
       "    </tr>\n",
       "  </thead>\n",
       "  <tbody>\n",
       "    <tr>\n",
       "      <th>0</th>\n",
       "      <td>NOT_CD4TCellTcm_01</td>\n",
       "      <td>0.770550</td>\n",
       "      <td>0.429671</td>\n",
       "      <td>0.295269</td>\n",
       "      <td>0.644214</td>\n",
       "      <td>0.444104</td>\n",
       "      <td>0.734059</td>\n",
       "      <td>0.594403</td>\n",
       "      <td>0.370674</td>\n",
       "    </tr>\n",
       "    <tr>\n",
       "      <th>1</th>\n",
       "      <td>NOT_BCellmemory_01</td>\n",
       "      <td>0.180191</td>\n",
       "      <td>0.570329</td>\n",
       "      <td>0.000000</td>\n",
       "      <td>0.213370</td>\n",
       "      <td>0.374703</td>\n",
       "      <td>0.000000</td>\n",
       "      <td>0.306613</td>\n",
       "      <td>0.576275</td>\n",
       "    </tr>\n",
       "    <tr>\n",
       "      <th>2</th>\n",
       "      <td>NOT_Monocytesnonclassical_01</td>\n",
       "      <td>0.049259</td>\n",
       "      <td>0.000000</td>\n",
       "      <td>0.704731</td>\n",
       "      <td>0.142417</td>\n",
       "      <td>0.181193</td>\n",
       "      <td>0.265941</td>\n",
       "      <td>0.098984</td>\n",
       "      <td>0.053051</td>\n",
       "    </tr>\n",
       "  </tbody>\n",
       "</table>\n",
       "</div>"
      ],
      "text/plain": [
       "                     Unnamed: 0  mixture1  mixture2  mixture3  mixture4  \\\n",
       "0            NOT_CD4TCellTcm_01  0.770550  0.429671  0.295269  0.644214   \n",
       "1            NOT_BCellmemory_01  0.180191  0.570329  0.000000  0.213370   \n",
       "2  NOT_Monocytesnonclassical_01  0.049259  0.000000  0.704731  0.142417   \n",
       "\n",
       "   mixture5  mixture6  mixture7  mixture8  \n",
       "0  0.444104  0.734059  0.594403  0.370674  \n",
       "1  0.374703  0.000000  0.306613  0.576275  \n",
       "2  0.181193  0.265941  0.098984  0.053051  "
      ]
     },
     "metadata": {},
     "output_type": "display_data"
    },
    {
     "data": {
      "text/html": [
       "<div>\n",
       "<style scoped>\n",
       "    .dataframe tbody tr th:only-of-type {\n",
       "        vertical-align: middle;\n",
       "    }\n",
       "\n",
       "    .dataframe tbody tr th {\n",
       "        vertical-align: top;\n",
       "    }\n",
       "\n",
       "    .dataframe thead th {\n",
       "        text-align: right;\n",
       "    }\n",
       "</style>\n",
       "<table border=\"1\" class=\"dataframe\">\n",
       "  <thead>\n",
       "    <tr style=\"text-align: right;\">\n",
       "      <th></th>\n",
       "      <th>mixture1</th>\n",
       "      <th>mixture2</th>\n",
       "      <th>mixture3</th>\n",
       "      <th>mixture4</th>\n",
       "      <th>mixture5</th>\n",
       "      <th>mixture6</th>\n",
       "      <th>mixture7</th>\n",
       "      <th>mixture8</th>\n",
       "    </tr>\n",
       "  </thead>\n",
       "  <tbody>\n",
       "    <tr>\n",
       "      <th>NOT_CD4TCellTcm_01</th>\n",
       "      <td>100.0</td>\n",
       "      <td>0.0</td>\n",
       "      <td>0.0</td>\n",
       "      <td>33.0</td>\n",
       "      <td>25.0</td>\n",
       "      <td>25.0</td>\n",
       "      <td>50.0</td>\n",
       "      <td>47.5</td>\n",
       "    </tr>\n",
       "    <tr>\n",
       "      <th>NOT_BCellmemory_01</th>\n",
       "      <td>0.0</td>\n",
       "      <td>100.0</td>\n",
       "      <td>0.0</td>\n",
       "      <td>33.0</td>\n",
       "      <td>25.0</td>\n",
       "      <td>50.0</td>\n",
       "      <td>25.0</td>\n",
       "      <td>47.5</td>\n",
       "    </tr>\n",
       "    <tr>\n",
       "      <th>NOT_Monocytesnonclassical_01</th>\n",
       "      <td>0.0</td>\n",
       "      <td>0.0</td>\n",
       "      <td>100.0</td>\n",
       "      <td>33.0</td>\n",
       "      <td>50.0</td>\n",
       "      <td>25.0</td>\n",
       "      <td>25.0</td>\n",
       "      <td>5.0</td>\n",
       "    </tr>\n",
       "  </tbody>\n",
       "</table>\n",
       "</div>"
      ],
      "text/plain": [
       "                              mixture1  mixture2  mixture3  mixture4  \\\n",
       "NOT_CD4TCellTcm_01               100.0       0.0       0.0      33.0   \n",
       "NOT_BCellmemory_01                 0.0     100.0       0.0      33.0   \n",
       "NOT_Monocytesnonclassical_01       0.0       0.0     100.0      33.0   \n",
       "\n",
       "                              mixture5  mixture6  mixture7  mixture8  \n",
       "NOT_CD4TCellTcm_01                25.0      25.0      50.0      47.5  \n",
       "NOT_BCellmemory_01                25.0      50.0      25.0      47.5  \n",
       "NOT_Monocytesnonclassical_01      50.0      25.0      25.0       5.0  "
      ]
     },
     "metadata": {},
     "output_type": "display_data"
    }
   ],
   "source": [
    "_A,_B = PP_proteins.pp_clean_irrelevant_proteins(A,B)\n",
    "_A,_B = PP_proteins.pp_margin_quantile(_A,_B)\n",
    "\n",
    "_calc_and_display_with_cellmix(_A,_B,X)"
   ]
  },
  {
   "cell_type": "markdown",
   "metadata": {},
   "source": [
    "#### under quantile "
   ]
  },
  {
   "cell_type": "code",
   "execution_count": 23,
   "metadata": {
    "scrolled": true
   },
   "outputs": [
    {
     "data": {
      "text/plain": [
       "array([[0.65, 0.35, 0.  ],\n",
       "       [0.19, 0.8 , 0.02],\n",
       "       [0.07, 0.27, 0.66],\n",
       "       [0.37, 0.53, 0.1 ],\n",
       "       [0.23, 0.67, 0.11],\n",
       "       [0.44, 0.34, 0.22],\n",
       "       [0.4 , 0.53, 0.07],\n",
       "       [0.36, 0.63, 0.01]])"
      ]
     },
     "metadata": {},
     "output_type": "display_data"
    },
    {
     "data": {
      "text/html": [
       "<div>\n",
       "<style scoped>\n",
       "    .dataframe tbody tr th:only-of-type {\n",
       "        vertical-align: middle;\n",
       "    }\n",
       "\n",
       "    .dataframe tbody tr th {\n",
       "        vertical-align: top;\n",
       "    }\n",
       "\n",
       "    .dataframe thead th {\n",
       "        text-align: right;\n",
       "    }\n",
       "</style>\n",
       "<table border=\"1\" class=\"dataframe\">\n",
       "  <thead>\n",
       "    <tr style=\"text-align: right;\">\n",
       "      <th></th>\n",
       "      <th>Unnamed: 0</th>\n",
       "      <th>mixture1</th>\n",
       "      <th>mixture2</th>\n",
       "      <th>mixture3</th>\n",
       "      <th>mixture4</th>\n",
       "      <th>mixture5</th>\n",
       "      <th>mixture6</th>\n",
       "      <th>mixture7</th>\n",
       "      <th>mixture8</th>\n",
       "    </tr>\n",
       "  </thead>\n",
       "  <tbody>\n",
       "    <tr>\n",
       "      <th>0</th>\n",
       "      <td>NOT_CD4TCellTcm_01</td>\n",
       "      <td>0.645109</td>\n",
       "      <td>0.185666</td>\n",
       "      <td>0.070559</td>\n",
       "      <td>0.366191</td>\n",
       "      <td>0.226082</td>\n",
       "      <td>0.440234</td>\n",
       "      <td>0.396027</td>\n",
       "      <td>0.360395</td>\n",
       "    </tr>\n",
       "    <tr>\n",
       "      <th>1</th>\n",
       "      <td>NOT_BCellmemory_01</td>\n",
       "      <td>0.351032</td>\n",
       "      <td>0.797093</td>\n",
       "      <td>0.267529</td>\n",
       "      <td>0.529373</td>\n",
       "      <td>0.666119</td>\n",
       "      <td>0.336887</td>\n",
       "      <td>0.529219</td>\n",
       "      <td>0.626288</td>\n",
       "    </tr>\n",
       "    <tr>\n",
       "      <th>2</th>\n",
       "      <td>NOT_Monocytesnonclassical_01</td>\n",
       "      <td>0.003859</td>\n",
       "      <td>0.017240</td>\n",
       "      <td>0.661912</td>\n",
       "      <td>0.104436</td>\n",
       "      <td>0.107799</td>\n",
       "      <td>0.222879</td>\n",
       "      <td>0.074754</td>\n",
       "      <td>0.013318</td>\n",
       "    </tr>\n",
       "  </tbody>\n",
       "</table>\n",
       "</div>"
      ],
      "text/plain": [
       "                     Unnamed: 0  mixture1  mixture2  mixture3  mixture4  \\\n",
       "0            NOT_CD4TCellTcm_01  0.645109  0.185666  0.070559  0.366191   \n",
       "1            NOT_BCellmemory_01  0.351032  0.797093  0.267529  0.529373   \n",
       "2  NOT_Monocytesnonclassical_01  0.003859  0.017240  0.661912  0.104436   \n",
       "\n",
       "   mixture5  mixture6  mixture7  mixture8  \n",
       "0  0.226082  0.440234  0.396027  0.360395  \n",
       "1  0.666119  0.336887  0.529219  0.626288  \n",
       "2  0.107799  0.222879  0.074754  0.013318  "
      ]
     },
     "metadata": {},
     "output_type": "display_data"
    },
    {
     "data": {
      "text/html": [
       "<div>\n",
       "<style scoped>\n",
       "    .dataframe tbody tr th:only-of-type {\n",
       "        vertical-align: middle;\n",
       "    }\n",
       "\n",
       "    .dataframe tbody tr th {\n",
       "        vertical-align: top;\n",
       "    }\n",
       "\n",
       "    .dataframe thead th {\n",
       "        text-align: right;\n",
       "    }\n",
       "</style>\n",
       "<table border=\"1\" class=\"dataframe\">\n",
       "  <thead>\n",
       "    <tr style=\"text-align: right;\">\n",
       "      <th></th>\n",
       "      <th>mixture1</th>\n",
       "      <th>mixture2</th>\n",
       "      <th>mixture3</th>\n",
       "      <th>mixture4</th>\n",
       "      <th>mixture5</th>\n",
       "      <th>mixture6</th>\n",
       "      <th>mixture7</th>\n",
       "      <th>mixture8</th>\n",
       "    </tr>\n",
       "  </thead>\n",
       "  <tbody>\n",
       "    <tr>\n",
       "      <th>NOT_CD4TCellTcm_01</th>\n",
       "      <td>100.0</td>\n",
       "      <td>0.0</td>\n",
       "      <td>0.0</td>\n",
       "      <td>33.0</td>\n",
       "      <td>25.0</td>\n",
       "      <td>25.0</td>\n",
       "      <td>50.0</td>\n",
       "      <td>47.5</td>\n",
       "    </tr>\n",
       "    <tr>\n",
       "      <th>NOT_BCellmemory_01</th>\n",
       "      <td>0.0</td>\n",
       "      <td>100.0</td>\n",
       "      <td>0.0</td>\n",
       "      <td>33.0</td>\n",
       "      <td>25.0</td>\n",
       "      <td>50.0</td>\n",
       "      <td>25.0</td>\n",
       "      <td>47.5</td>\n",
       "    </tr>\n",
       "    <tr>\n",
       "      <th>NOT_Monocytesnonclassical_01</th>\n",
       "      <td>0.0</td>\n",
       "      <td>0.0</td>\n",
       "      <td>100.0</td>\n",
       "      <td>33.0</td>\n",
       "      <td>50.0</td>\n",
       "      <td>25.0</td>\n",
       "      <td>25.0</td>\n",
       "      <td>5.0</td>\n",
       "    </tr>\n",
       "  </tbody>\n",
       "</table>\n",
       "</div>"
      ],
      "text/plain": [
       "                              mixture1  mixture2  mixture3  mixture4  \\\n",
       "NOT_CD4TCellTcm_01               100.0       0.0       0.0      33.0   \n",
       "NOT_BCellmemory_01                 0.0     100.0       0.0      33.0   \n",
       "NOT_Monocytesnonclassical_01       0.0       0.0     100.0      33.0   \n",
       "\n",
       "                              mixture5  mixture6  mixture7  mixture8  \n",
       "NOT_CD4TCellTcm_01                25.0      25.0      50.0      47.5  \n",
       "NOT_BCellmemory_01                25.0      50.0      25.0      47.5  \n",
       "NOT_Monocytesnonclassical_01      50.0      25.0      25.0       5.0  "
      ]
     },
     "metadata": {},
     "output_type": "display_data"
    }
   ],
   "source": [
    "_A,_B = PP_proteins.pp_clean_irrelevant_proteins(A,B)\n",
    "_A,_B = PP_proteins.pp_under_quantile(_A,_B)\n",
    "\n",
    "_calc_and_display_with_cellmix(_A,_B,X)"
   ]
  },
  {
   "cell_type": "markdown",
   "metadata": {},
   "source": [
    "# calc cell proportions - intensities"
   ]
  },
  {
   "cell_type": "markdown",
   "metadata": {
    "heading_collapsed": true
   },
   "source": [
    "## read data - intensities"
   ]
  },
  {
   "cell_type": "markdown",
   "metadata": {
    "hidden": true
   },
   "source": [
    "### mixture & cell specific data"
   ]
  },
  {
   "cell_type": "code",
   "execution_count": null,
   "metadata": {
    "hidden": true
   },
   "outputs": [],
   "source": [
    "data_factory = DataFactory(data_loader)\n",
    "profile_data,profile_data_relvent_data = data_factory.build_cell_specific_profile(intensity_type='Intensity')\n",
    "mixtures,mixtures_relvent_data = data_factory.build_mixture_data(intensity_type='Intensity')"
   ]
  },
  {
   "cell_type": "markdown",
   "metadata": {
    "hidden": true
   },
   "source": [
    "### cell proportions"
   ]
  },
  {
   "cell_type": "code",
   "execution_count": null,
   "metadata": {
    "hidden": true
   },
   "outputs": [],
   "source": [
    "cell_proportions_df = pd.DataFrame(index = ['Intensity NOT_CD4TCellTcm_01','Intensity NOT_BCellmemory_01','Intensity NOT_Monocytesnonclassical_01'],\n",
    "                                   columns = list(range(1,9)),\n",
    "                                   data =np.array(((100,0,0),(0,100,0),(0,0,100),(33,33,33),(25,25,50),(25,50,25),(50,25,25),(47.5,47.5,5.0))).T)"
   ]
  },
  {
   "cell_type": "markdown",
   "metadata": {},
   "source": [
    "## build A ,X and B "
   ]
  },
  {
   "cell_type": "markdown",
   "metadata": {},
   "source": [
    "### set unique index"
   ]
  },
  {
   "cell_type": "code",
   "execution_count": null,
   "metadata": {},
   "outputs": [],
   "source": [
    "index_func = lambda x:x.split(';')[0]\n",
    "_profile_data,_mixtures = PP_base.return_mutual_proteins_by_index(profile_data,mixtures,index_func=index_func)\n",
    "A = _profile_data[profile_data_relvent_data]\n",
    "B = _mixtures[mixtures_relvent_data]\n",
    "\n",
    "X = cell_proportions_df"
   ]
  },
  {
   "cell_type": "code",
   "execution_count": null,
   "metadata": {},
   "outputs": [],
   "source": [
    "B=B.rename({f:f.split('Intensity ')[1] for f in B.columns},axis=1)\n",
    "\n",
    "X = X.rename({f:f.split('Intensity ')[1] for f in X.index},axis=0)\n",
    "X = X.rename({f:'mixture'+str(f) for f in X.columns},axis=1)\n",
    "\n",
    "A = A.rename({f:f.split('Intensity ')[1] for f in A.columns},axis=1)"
   ]
  },
  {
   "cell_type": "markdown",
   "metadata": {},
   "source": [
    "## models"
   ]
  },
  {
   "cell_type": "markdown",
   "metadata": {},
   "source": [
    "### naive"
   ]
  },
  {
   "cell_type": "code",
   "execution_count": null,
   "metadata": {},
   "outputs": [],
   "source": [
    "_calc_and_display_with_cellmix(A,B,X)"
   ]
  },
  {
   "cell_type": "markdown",
   "metadata": {},
   "source": [
    "### with preprocess"
   ]
  },
  {
   "cell_type": "markdown",
   "metadata": {},
   "source": [
    "#### naive discriminative"
   ]
  },
  {
   "cell_type": "code",
   "execution_count": null,
   "metadata": {
    "scrolled": true
   },
   "outputs": [],
   "source": [
    "_A,_B = PP_proteins.pp_clean_irrelevant_proteins(A,B)\n",
    "_A,_B = PP_proteins.pp_naive_discriminative_proteins(_A,_B)\n",
    "\n",
    "_calc_and_display_with_cellmix(_A,_B,X)"
   ]
  },
  {
   "cell_type": "markdown",
   "metadata": {},
   "source": [
    "#### binary occurrence"
   ]
  },
  {
   "cell_type": "code",
   "execution_count": null,
   "metadata": {},
   "outputs": [],
   "source": [
    "_A,_B = PP_proteins.pp_clean_irrelevant_proteins(A,B)\n",
    "_A,_B = PP_proteins.pp_binary_occurrence(_A,_B)\n",
    "\n",
    "_calc_and_display_with_cellmix(_A,_B,X)"
   ]
  },
  {
   "cell_type": "markdown",
   "metadata": {},
   "source": [
    "#### TopMergin"
   ]
  },
  {
   "cell_type": "code",
   "execution_count": null,
   "metadata": {},
   "outputs": [],
   "source": [
    "_A,_B = PP_proteins.pp_clean_irrelevant_proteins(A,B)\n",
    "_A,_B = PP_proteins.pp_margin_quantile(_A,_B)\n",
    "\n",
    "_calc_and_display_with_cellmix(_A,_B,X)"
   ]
  },
  {
   "cell_type": "markdown",
   "metadata": {},
   "source": [
    "#### under quantile "
   ]
  },
  {
   "cell_type": "code",
   "execution_count": null,
   "metadata": {
    "scrolled": true
   },
   "outputs": [],
   "source": [
    "_A,_B = PP_proteins.pp_clean_irrelevant_proteins(A,B)\n",
    "_A,_B = PP_proteins.pp_under_quantile(_A,_B)\n",
    "\n",
    "_calc_and_display_with_cellmix(_A,_B,X)"
   ]
  },
  {
   "cell_type": "markdown",
   "metadata": {},
   "source": [
    "# most important proteins from genes "
   ]
  },
  {
   "cell_type": "markdown",
   "metadata": {},
   "source": [
    "### read gene data"
   ]
  },
  {
   "cell_type": "code",
   "execution_count": null,
   "metadata": {
    "scrolled": true
   },
   "outputs": [],
   "source": [
    "raw_gene_abundance = pd.read_excel('../../../data/ni.3693-S7.xlsx')\n",
    "raw_gene_abundance.set_index('Gene name',inplace=True)\n",
    "gene_abundance_over_cells = raw_gene_abundance[['Bmemory_not_2', 'MOclassical_not_3', 'T4cm_not_5']]\n",
    "\n",
    "wrong_indexs = pd.Index([g for g in gene_abundance_over_cells.index if type(g) != str])\n",
    "clean_indexs = gene_abundance_over_cells.index.difference(wrong_indexs)\n",
    "gene_abundance_over_cells = gene_abundance_over_cells.loc[clean_indexs]\n",
    "gene_abundance_over_cells = gene_abundance_over_cells.dropna()"
   ]
  },
  {
   "cell_type": "markdown",
   "metadata": {},
   "source": [
    "#### take high std and binary differentiate genes "
   ]
  },
  {
   "cell_type": "code",
   "execution_count": null,
   "metadata": {},
   "outputs": [],
   "source": [
    "high_std_gene_abundance_idx = gene_abundance_over_cells[gene_abundance_over_cells.std(axis=1) > gene_abundance_over_cells.std(axis=1).quantile(0.99)].index\n",
    "gene_binary_filtering_idx = gene_abundance_over_cells[abs(gene_abundance_over_cells)<abs(gene_abundance_over_cells).quantile(0.01)].dropna(how='all').index\n",
    "\n",
    "genes_to_take = high_std_gene_abundance_idx.union(gene_binary_filtering_idx)\n",
    "gene_to_major_protein_dict = mixtures[['major_protein_id','Gene names']].set_index('Gene names').to_dict()['major_protein_id']\n",
    "proteins_to_take = [gene_to_major_protein_dict[gene] for gene in genes_to_take if gene in gene_to_major_protein_dict.keys()]"
   ]
  },
  {
   "cell_type": "code",
   "execution_count": null,
   "metadata": {},
   "outputs": [],
   "source": [
    "_A,_B = (A.loc[proteins_to_take],B.loc[proteins_to_take])\n",
    "_A,_B = PP_proteins.pp_under_quantile(_A,_B)\n",
    "\n",
    "_calc_and_display_with_cellmix(_A,_B,X)"
   ]
  },
  {
   "cell_type": "code",
   "execution_count": null,
   "metadata": {},
   "outputs": [],
   "source": [
    "from sklearn.decomposition.pca  import PCA "
   ]
  },
  {
   "cell_type": "raw",
   "metadata": {},
   "source": [
    "from mpl_toolkits.mplot3d import Axes3D\n",
    "plt.figure(figsize=(240, 240))\n",
    "\n",
    "\n",
    "# Run The PCA\n",
    "pca = PCA(n_components=3)\n",
    "pca.fit(B.T)\n",
    " \n",
    "# Store results of PCA in a data frame\n",
    "result=pd.DataFrame(pca.transform(B.T), columns=['PCA%i' % i for i in range(3)], index=range(8))\n",
    " \n",
    "# Plot initialisation\n",
    "fig = plt.figure()\n",
    "ax = fig.add_subplot(111, projection='3d')\n",
    "ax.scatter(result['PCA0'], result['PCA1'], result['PCA2'], cmap=\"Set2_r\", s=60)\n",
    " \n",
    "# make simple, bare axis lines through space:\n",
    "xAxisLine = ((min(result['PCA0']), max(result['PCA0'])), (0, 0), (0,0))\n",
    "ax.plot(xAxisLine[0], xAxisLine[1], xAxisLine[2], 'r')\n",
    "yAxisLine = ((0, 0), (min(result['PCA1']), max(result['PCA1'])), (0,0))\n",
    "ax.plot(yAxisLine[0], yAxisLine[1], yAxisLine[2], 'r')\n",
    "zAxisLine = ((0, 0), (0,0), (min(result['PCA2']), max(result['PCA2'])))\n",
    "ax.plot(zAxisLine[0], zAxisLine[1], zAxisLine[2], 'r')\n",
    " \n",
    "# label the axes\n",
    "ax.set_xlabel(\"PC1\")\n",
    "ax.set_ylabel(\"PC2\")\n",
    "ax.set_zlabel(\"PC3\")\n",
    "plt.show()"
   ]
  }
 ],
 "metadata": {
  "hide_input": false,
  "kernelspec": {
   "display_name": "Python 3",
   "language": "python",
   "name": "python3"
  },
  "language_info": {
   "codemirror_mode": {
    "name": "ipython",
    "version": 3
   },
   "file_extension": ".py",
   "mimetype": "text/x-python",
   "name": "python",
   "nbconvert_exporter": "python",
   "pygments_lexer": "ipython3",
   "version": "3.6.5"
  },
  "toc": {
   "base_numbering": 1,
   "nav_menu": {},
   "number_sections": true,
   "sideBar": true,
   "skip_h1_title": false,
   "title_cell": "Table of Contents",
   "title_sidebar": "Contents",
   "toc_cell": false,
   "toc_position": {},
   "toc_section_display": true,
   "toc_window_display": false
  }
 },
 "nbformat": 4,
 "nbformat_minor": 2
}
