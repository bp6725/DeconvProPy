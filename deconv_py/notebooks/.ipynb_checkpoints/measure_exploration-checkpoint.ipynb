{
 "cells": [
  {
   "cell_type": "markdown",
   "metadata": {},
   "source": [
    "# INIT"
   ]
  },
  {
   "cell_type": "code",
   "execution_count": 1,
   "metadata": {},
   "outputs": [],
   "source": [
    "import sys\n",
    "sys.path.append('../../')\n",
    "sys.path.append('../infras/cellMix/')\n",
    "sys.path.append('../infras/cytof_data/')"
   ]
  },
  {
   "cell_type": "code",
   "execution_count": 2,
   "metadata": {},
   "outputs": [],
   "source": [
    "from cytof_cell_count_infra import CytofCellCountInfra"
   ]
  },
  {
   "cell_type": "code",
   "execution_count": 3,
   "metadata": {},
   "outputs": [],
   "source": [
    "import pandas as pd\n",
    "import numpy as np\n",
    "from functools import partial\n",
    "import multiprocessing\n",
    "\n",
    "from scipy.optimize import least_squares\n",
    "from sklearn.metrics import mean_squared_error\n",
    "from functools import partial\n",
    "from scipy.optimize import minimize\n",
    "import scipy.optimize\n",
    "from itertools import combinations\n",
    "import matplotlib.pyplot as plt\n",
    "import seaborn as sns\n",
    "\n",
    "import os"
   ]
  },
  {
   "cell_type": "code",
   "execution_count": 4,
   "metadata": {},
   "outputs": [],
   "source": [
    "from deconv_py.preprocess.base import BasePreprocess as PP_base\n",
    "from deconv_py.preprocess.cell_specific import CellSpecific as PP_proteins\n",
    "\n",
    "from deconv_py.infras.data_factory import DataFactory\n",
    "from deconv_py.infras.data_loader import DataLoader\n",
    "\n",
    "from deconv_py.models.base import Base as Models_base\n",
    "from deconv_py.models.cell_proportions_models import CellProportions\n",
    "from deconv_py.models.cell_specific_models import CellSpecificPerPermutation\n",
    "\n",
    "from deconv_py.experiments.cell_specific import CellSpecificMetricsPlot\n",
    "\n",
    "from cellMix_coordinator import CellMixCoordinator"
   ]
  },
  {
   "cell_type": "code",
   "execution_count": 5,
   "metadata": {
    "code_folding": [
     0,
     7
    ]
   },
   "outputs": [
    {
     "name": "stderr",
     "output_type": "stream",
     "text": [
      "C:\\ProgramData\\Anaconda3\\lib\\site-packages\\IPython\\core\\interactiveshell.py:2963: DtypeWarning: Columns (5,6,2764,2765,2773,2774,2775,2776) have mixed types. Specify dtype option on import or set low_memory=False.\n",
      "  exec(code_obj, self.user_global_ns, self.user_ns)\n"
     ]
    }
   ],
   "source": [
    "relvent_data = ['Intensity NOT_BCellmemory_01', 'Intensity NOT_BCellnaive_01', 'Intensity NOT_BCellplasma_01', 'Intensity NOT_CD4TCellmTregs_01',\n",
    " 'Intensity NOT_CD4TCellnaive_01', 'Intensity NOT_CD4TCellnTregs_01', 'Intensity NOT_CD4TCellTcm_01', 'Intensity NOT_CD4TCellTem_01',\n",
    " 'Intensity NOT_CD4TCellTemra_01', 'Intensity NOT_CD4TCellTh1_01', 'Intensity NOT_CD4TCellTh17_01', 'Intensity NOT_CD4TCellTh2_01',\n",
    " 'Intensity NOT_CD8TCellnaive_01', 'Intensity NOT_CD8TCellTcm_01', 'Intensity NOT_CD8TCellTem_01', 'Intensity NOT_CD8TCellTemra_01',\n",
    " 'Intensity NOT_DendriticCD1c_01', 'Intensity NOT_DendriticCD304_01', 'Intensity NOT_Erythrocytes_01', 'Intensity NOT_GranulocytesBasophil_01',\n",
    " 'Intensity NOT_Granulocyteseosinophils_01', 'Intensity NOT_Granulocytesneutrophils_01', 'Intensity NOT_Monocytesclassical_01', 'Intensity NOT_Monocytesintermediate_01',\n",
    " 'Intensity NOT_Monocytesnonclassical_01', 'Intensity NOT_NKCellsCD56bright_01', 'Intensity NOT_NKCellsCD56dim_01', 'Intensity NOT_Thrombocytes_01']\n",
    "data_loader = DataLoader(mass_spec_path=os.path.abspath('../data/20190801_filtered_imputed_data.csv'),\n",
    "                         protein_profile_path = os.path.abspath('../data/20150718_Cerberus_proteinGroups.txt'),as_csv = True)\n",
    "ms = data_loader.get_mass_spec_data()\n",
    "\n",
    "data_factory = DataFactory(data_loader)\n",
    "profile_data,profile_data_relvent_data = data_factory.build_cell_specific_profile(auto_filter_by=False,relvent_data=relvent_data,relvent_columns=[\"Majority protein IDs\"])\n",
    "mixtures,mixtures_relvent_data = data_factory.build_mixture_data(relvent_data=[pb for pb in ms.columns if \"_v1\" in pb],relvent_columns=[\"Majority protein IDs\"],auto_filter_by=False,log2_transformation=True)"
   ]
  },
  {
   "cell_type": "code",
   "execution_count": 6,
   "metadata": {
    "code_folding": []
   },
   "outputs": [],
   "source": [
    "cell_proportions_df = pd.DataFrame(index = ['Intensity NOT_CD4TCellTcm_01','Intensity NOT_BCellmemory_01','Intensity NOT_Monocytesnonclassical_01'],\n",
    "                                   columns = list(range(1,9)),\n",
    "                                   data =np.array(((100,0,0),(0,100,0),(0,0,100),(33,33,33),(25,25,50),(25,50,25),(50,25,25),(47.5,47.5,5.0))).T)"
   ]
  },
  {
   "cell_type": "code",
   "execution_count": 7,
   "metadata": {},
   "outputs": [],
   "source": [
    "index_func = lambda x:x.split(';')[0]\n",
    "_profile_data,_mixtures = PP_base.return_mutual_proteins_by_index(profile_data,mixtures,index_func=index_func)\n",
    "A = _profile_data[profile_data_relvent_data]\n",
    "B = _mixtures[mixtures_relvent_data]\n",
    "\n",
    "X = cell_proportions_df\n",
    "\n",
    "A = A.rename({f:f.split('Intensity ')[1] for f in A.columns},axis=1)"
   ]
  },
  {
   "cell_type": "markdown",
   "metadata": {},
   "source": [
    "# INIT_CYTOF"
   ]
  },
  {
   "cell_type": "code",
   "execution_count": 8,
   "metadata": {
    "code_folding": [],
    "scrolled": false
   },
   "outputs": [
    {
     "name": "stderr",
     "output_type": "stream",
     "text": [
      "../infras/cytof_data\\cytof_cell_count_infra.py:56: SettingWithCopyWarning: \n",
      "A value is trying to be set on a copy of a slice from a DataFrame.\n",
      "Try using .loc[row_indexer,col_indexer] = value instead\n",
      "\n",
      "See the caveats in the documentation: http://pandas.pydata.org/pandas-docs/stable/user_guide/indexing.html#returning-a-view-versus-a-copy\n",
      "  cytof_cluster_no_antigens[\"featureID\"] = cytof_cluster_no_antigens[\"featureID\"].str.slice(3)\n"
     ]
    },
    {
     "ename": "KeyError",
     "evalue": "'A0A024R4E5'",
     "output_type": "error",
     "traceback": [
      "\u001b[1;31m---------------------------------------------------------------------------\u001b[0m",
      "\u001b[1;31mKeyError\u001b[0m                                  Traceback (most recent call last)",
      "\u001b[1;32m~\\AppData\\Roaming\\Python\\Python36\\site-packages\\pandas\\core\\indexes\\base.py\u001b[0m in \u001b[0;36mget_loc\u001b[1;34m(self, key, method, tolerance)\u001b[0m\n\u001b[0;32m   2896\u001b[0m             \u001b[1;32mtry\u001b[0m\u001b[1;33m:\u001b[0m\u001b[1;33m\u001b[0m\u001b[0m\n\u001b[1;32m-> 2897\u001b[1;33m                 \u001b[1;32mreturn\u001b[0m \u001b[0mself\u001b[0m\u001b[1;33m.\u001b[0m\u001b[0m_engine\u001b[0m\u001b[1;33m.\u001b[0m\u001b[0mget_loc\u001b[0m\u001b[1;33m(\u001b[0m\u001b[0mkey\u001b[0m\u001b[1;33m)\u001b[0m\u001b[1;33m\u001b[0m\u001b[0m\n\u001b[0m\u001b[0;32m   2898\u001b[0m             \u001b[1;32mexcept\u001b[0m \u001b[0mKeyError\u001b[0m\u001b[1;33m:\u001b[0m\u001b[1;33m\u001b[0m\u001b[0m\n",
      "\u001b[1;32mpandas\\_libs\\index.pyx\u001b[0m in \u001b[0;36mpandas._libs.index.IndexEngine.get_loc\u001b[1;34m()\u001b[0m\n",
      "\u001b[1;32mpandas\\_libs\\index.pyx\u001b[0m in \u001b[0;36mpandas._libs.index.IndexEngine.get_loc\u001b[1;34m()\u001b[0m\n",
      "\u001b[1;32mpandas\\_libs\\hashtable_class_helper.pxi\u001b[0m in \u001b[0;36mpandas._libs.hashtable.PyObjectHashTable.get_item\u001b[1;34m()\u001b[0m\n",
      "\u001b[1;32mpandas\\_libs\\hashtable_class_helper.pxi\u001b[0m in \u001b[0;36mpandas._libs.hashtable.PyObjectHashTable.get_item\u001b[1;34m()\u001b[0m\n",
      "\u001b[1;31mKeyError\u001b[0m: 'A0A024R4E5'",
      "\nDuring handling of the above exception, another exception occurred:\n",
      "\u001b[1;31mKeyError\u001b[0m                                  Traceback (most recent call last)",
      "\u001b[1;32m<ipython-input-8-0a129eb58102>\u001b[0m in \u001b[0;36m<module>\u001b[1;34m()\u001b[0m\n\u001b[0;32m      1\u001b[0m \u001b[0mcci\u001b[0m \u001b[1;33m=\u001b[0m \u001b[0mCytofCellCountInfra\u001b[0m\u001b[1;33m(\u001b[0m\u001b[1;33m)\u001b[0m\u001b[1;33m\u001b[0m\u001b[0m\n\u001b[1;32m----> 2\u001b[1;33m \u001b[0mfull_profilte_to_cytof_cell_map\u001b[0m \u001b[1;33m=\u001b[0m \u001b[0mcci\u001b[0m\u001b[1;33m.\u001b[0m\u001b[0mcytof_label_propagation\u001b[0m\u001b[1;33m(\u001b[0m\u001b[0mA\u001b[0m\u001b[1;33m.\u001b[0m\u001b[0mT\u001b[0m\u001b[1;33m.\u001b[0m\u001b[0mcopy\u001b[0m\u001b[1;33m(\u001b[0m\u001b[0mdeep\u001b[0m\u001b[1;33m=\u001b[0m\u001b[1;32mTrue\u001b[0m\u001b[1;33m)\u001b[0m\u001b[1;33m)\u001b[0m\u001b[1;33m\u001b[0m\u001b[0m\n\u001b[0m\u001b[0;32m      3\u001b[0m \u001b[0msample_over_cytof_count\u001b[0m \u001b[1;33m=\u001b[0m  \u001b[0mcci\u001b[0m\u001b[1;33m.\u001b[0m\u001b[0mget_cytof_count_per_sample\u001b[0m\u001b[1;33m(\u001b[0m\u001b[1;33m)\u001b[0m\u001b[1;33m\u001b[0m\u001b[0m\n",
      "\u001b[1;32mC:\\Repos\\deconv_py\\deconv_py\\infras\\cytof_data\\cytof_cell_count_infra.py\u001b[0m in \u001b[0;36mcytof_label_propagation\u001b[1;34m(self, profile_df, profilte_to_cytof_cell_map, method)\u001b[0m\n\u001b[0;32m    103\u001b[0m                 \u001b[1;32mif\u001b[0m \u001b[0mlabel\u001b[0m\u001b[1;33m:\u001b[0m\u001b[1;33m\u001b[0m\u001b[0m\n\u001b[0;32m    104\u001b[0m                     \u001b[1;32mcontinue\u001b[0m\u001b[1;33m\u001b[0m\u001b[0m\n\u001b[1;32m--> 105\u001b[1;33m                 \u001b[0mnew_label\u001b[0m \u001b[1;33m=\u001b[0m \u001b[0mfind_label_of_neighbour_cell\u001b[0m\u001b[1;33m(\u001b[0m\u001b[0mcell\u001b[0m\u001b[1;33m,\u001b[0m \u001b[1;36m0\u001b[0m\u001b[1;33m,\u001b[0m\u001b[0mdistance_df\u001b[0m\u001b[1;33m.\u001b[0m\u001b[0mcopy\u001b[0m\u001b[1;33m(\u001b[0m\u001b[1;33m)\u001b[0m\u001b[1;33m)\u001b[0m\u001b[1;33m\u001b[0m\u001b[0m\n\u001b[0m\u001b[0;32m    106\u001b[0m                 \u001b[0mnew_profilte_to_cytof_cell_map\u001b[0m\u001b[1;33m[\u001b[0m\u001b[0mcell\u001b[0m\u001b[1;33m]\u001b[0m \u001b[1;33m=\u001b[0m \u001b[0mnew_label\u001b[0m\u001b[1;33m\u001b[0m\u001b[0m\n\u001b[0;32m    107\u001b[0m \u001b[1;33m\u001b[0m\u001b[0m\n",
      "\u001b[1;32mC:\\Repos\\deconv_py\\deconv_py\\infras\\cytof_data\\cytof_cell_count_infra.py\u001b[0m in \u001b[0;36mfind_label_of_neighbour_cell\u001b[1;34m(cell, neighbour_number, distance_df)\u001b[0m\n\u001b[0;32m     65\u001b[0m \u001b[1;33m\u001b[0m\u001b[0m\n\u001b[0;32m     66\u001b[0m         \u001b[1;32mdef\u001b[0m \u001b[0mfind_label_of_neighbour_cell\u001b[0m\u001b[1;33m(\u001b[0m\u001b[0mcell\u001b[0m\u001b[1;33m,\u001b[0m \u001b[0mneighbour_number\u001b[0m\u001b[1;33m,\u001b[0m\u001b[0mdistance_df\u001b[0m\u001b[1;33m)\u001b[0m\u001b[1;33m:\u001b[0m\u001b[1;33m\u001b[0m\u001b[0m\n\u001b[1;32m---> 67\u001b[1;33m             \u001b[0mneighbour\u001b[0m \u001b[1;33m=\u001b[0m \u001b[0mdistance_df\u001b[0m\u001b[1;33m.\u001b[0m\u001b[0mloc\u001b[0m\u001b[1;33m[\u001b[0m\u001b[0mcell\u001b[0m\u001b[1;33m]\u001b[0m\u001b[1;33m.\u001b[0m\u001b[0msort_values\u001b[0m\u001b[1;33m(\u001b[0m\u001b[1;33m)\u001b[0m\u001b[1;33m.\u001b[0m\u001b[0mindex\u001b[0m\u001b[1;33m[\u001b[0m\u001b[0mneighbour_number\u001b[0m\u001b[1;33m]\u001b[0m\u001b[1;33m\u001b[0m\u001b[0m\n\u001b[0m\u001b[0;32m     68\u001b[0m \u001b[1;33m\u001b[0m\u001b[0m\n\u001b[0;32m     69\u001b[0m             \u001b[1;32mif\u001b[0m \u001b[0mneighbour\u001b[0m \u001b[1;32min\u001b[0m \u001b[0mprofilte_to_cytof_cell_map\u001b[0m\u001b[1;33m.\u001b[0m\u001b[0mkeys\u001b[0m\u001b[1;33m(\u001b[0m\u001b[1;33m)\u001b[0m\u001b[1;33m:\u001b[0m\u001b[1;33m\u001b[0m\u001b[0m\n",
      "\u001b[1;32m~\\AppData\\Roaming\\Python\\Python36\\site-packages\\pandas\\core\\indexing.py\u001b[0m in \u001b[0;36m__getitem__\u001b[1;34m(self, key)\u001b[0m\n\u001b[0;32m   1422\u001b[0m \u001b[1;33m\u001b[0m\u001b[0m\n\u001b[0;32m   1423\u001b[0m             \u001b[0mmaybe_callable\u001b[0m \u001b[1;33m=\u001b[0m \u001b[0mcom\u001b[0m\u001b[1;33m.\u001b[0m\u001b[0mapply_if_callable\u001b[0m\u001b[1;33m(\u001b[0m\u001b[0mkey\u001b[0m\u001b[1;33m,\u001b[0m \u001b[0mself\u001b[0m\u001b[1;33m.\u001b[0m\u001b[0mobj\u001b[0m\u001b[1;33m)\u001b[0m\u001b[1;33m\u001b[0m\u001b[0m\n\u001b[1;32m-> 1424\u001b[1;33m             \u001b[1;32mreturn\u001b[0m \u001b[0mself\u001b[0m\u001b[1;33m.\u001b[0m\u001b[0m_getitem_axis\u001b[0m\u001b[1;33m(\u001b[0m\u001b[0mmaybe_callable\u001b[0m\u001b[1;33m,\u001b[0m \u001b[0maxis\u001b[0m\u001b[1;33m=\u001b[0m\u001b[0maxis\u001b[0m\u001b[1;33m)\u001b[0m\u001b[1;33m\u001b[0m\u001b[0m\n\u001b[0m\u001b[0;32m   1425\u001b[0m \u001b[1;33m\u001b[0m\u001b[0m\n\u001b[0;32m   1426\u001b[0m     \u001b[1;32mdef\u001b[0m \u001b[0m_is_scalar_access\u001b[0m\u001b[1;33m(\u001b[0m\u001b[0mself\u001b[0m\u001b[1;33m,\u001b[0m \u001b[0mkey\u001b[0m\u001b[1;33m:\u001b[0m \u001b[0mTuple\u001b[0m\u001b[1;33m)\u001b[0m\u001b[1;33m:\u001b[0m\u001b[1;33m\u001b[0m\u001b[0m\n",
      "\u001b[1;32m~\\AppData\\Roaming\\Python\\Python36\\site-packages\\pandas\\core\\indexing.py\u001b[0m in \u001b[0;36m_getitem_axis\u001b[1;34m(self, key, axis)\u001b[0m\n\u001b[0;32m   1848\u001b[0m         \u001b[1;31m# fall thru to straight lookup\u001b[0m\u001b[1;33m\u001b[0m\u001b[1;33m\u001b[0m\u001b[0m\n\u001b[0;32m   1849\u001b[0m         \u001b[0mself\u001b[0m\u001b[1;33m.\u001b[0m\u001b[0m_validate_key\u001b[0m\u001b[1;33m(\u001b[0m\u001b[0mkey\u001b[0m\u001b[1;33m,\u001b[0m \u001b[0maxis\u001b[0m\u001b[1;33m)\u001b[0m\u001b[1;33m\u001b[0m\u001b[0m\n\u001b[1;32m-> 1850\u001b[1;33m         \u001b[1;32mreturn\u001b[0m \u001b[0mself\u001b[0m\u001b[1;33m.\u001b[0m\u001b[0m_get_label\u001b[0m\u001b[1;33m(\u001b[0m\u001b[0mkey\u001b[0m\u001b[1;33m,\u001b[0m \u001b[0maxis\u001b[0m\u001b[1;33m=\u001b[0m\u001b[0maxis\u001b[0m\u001b[1;33m)\u001b[0m\u001b[1;33m\u001b[0m\u001b[0m\n\u001b[0m\u001b[0;32m   1851\u001b[0m \u001b[1;33m\u001b[0m\u001b[0m\n\u001b[0;32m   1852\u001b[0m \u001b[1;33m\u001b[0m\u001b[0m\n",
      "\u001b[1;32m~\\AppData\\Roaming\\Python\\Python36\\site-packages\\pandas\\core\\indexing.py\u001b[0m in \u001b[0;36m_get_label\u001b[1;34m(self, label, axis)\u001b[0m\n\u001b[0;32m    158\u001b[0m             \u001b[1;32mraise\u001b[0m \u001b[0mIndexingError\u001b[0m\u001b[1;33m(\u001b[0m\u001b[1;34m\"no slices here, handle elsewhere\"\u001b[0m\u001b[1;33m)\u001b[0m\u001b[1;33m\u001b[0m\u001b[0m\n\u001b[0;32m    159\u001b[0m \u001b[1;33m\u001b[0m\u001b[0m\n\u001b[1;32m--> 160\u001b[1;33m         \u001b[1;32mreturn\u001b[0m \u001b[0mself\u001b[0m\u001b[1;33m.\u001b[0m\u001b[0mobj\u001b[0m\u001b[1;33m.\u001b[0m\u001b[0m_xs\u001b[0m\u001b[1;33m(\u001b[0m\u001b[0mlabel\u001b[0m\u001b[1;33m,\u001b[0m \u001b[0maxis\u001b[0m\u001b[1;33m=\u001b[0m\u001b[0maxis\u001b[0m\u001b[1;33m)\u001b[0m\u001b[1;33m\u001b[0m\u001b[0m\n\u001b[0m\u001b[0;32m    161\u001b[0m \u001b[1;33m\u001b[0m\u001b[0m\n\u001b[0;32m    162\u001b[0m     \u001b[1;32mdef\u001b[0m \u001b[0m_get_loc\u001b[0m\u001b[1;33m(\u001b[0m\u001b[0mself\u001b[0m\u001b[1;33m,\u001b[0m \u001b[0mkey\u001b[0m\u001b[1;33m:\u001b[0m \u001b[0mint\u001b[0m\u001b[1;33m,\u001b[0m \u001b[0maxis\u001b[0m\u001b[1;33m:\u001b[0m \u001b[0mint\u001b[0m\u001b[1;33m)\u001b[0m\u001b[1;33m:\u001b[0m\u001b[1;33m\u001b[0m\u001b[0m\n",
      "\u001b[1;32m~\\AppData\\Roaming\\Python\\Python36\\site-packages\\pandas\\core\\generic.py\u001b[0m in \u001b[0;36mxs\u001b[1;34m(self, key, axis, level, drop_level)\u001b[0m\n\u001b[0;32m   3735\u001b[0m             \u001b[0mloc\u001b[0m\u001b[1;33m,\u001b[0m \u001b[0mnew_index\u001b[0m \u001b[1;33m=\u001b[0m \u001b[0mself\u001b[0m\u001b[1;33m.\u001b[0m\u001b[0mindex\u001b[0m\u001b[1;33m.\u001b[0m\u001b[0mget_loc_level\u001b[0m\u001b[1;33m(\u001b[0m\u001b[0mkey\u001b[0m\u001b[1;33m,\u001b[0m \u001b[0mdrop_level\u001b[0m\u001b[1;33m=\u001b[0m\u001b[0mdrop_level\u001b[0m\u001b[1;33m)\u001b[0m\u001b[1;33m\u001b[0m\u001b[0m\n\u001b[0;32m   3736\u001b[0m         \u001b[1;32melse\u001b[0m\u001b[1;33m:\u001b[0m\u001b[1;33m\u001b[0m\u001b[0m\n\u001b[1;32m-> 3737\u001b[1;33m             \u001b[0mloc\u001b[0m \u001b[1;33m=\u001b[0m \u001b[0mself\u001b[0m\u001b[1;33m.\u001b[0m\u001b[0mindex\u001b[0m\u001b[1;33m.\u001b[0m\u001b[0mget_loc\u001b[0m\u001b[1;33m(\u001b[0m\u001b[0mkey\u001b[0m\u001b[1;33m)\u001b[0m\u001b[1;33m\u001b[0m\u001b[0m\n\u001b[0m\u001b[0;32m   3738\u001b[0m \u001b[1;33m\u001b[0m\u001b[0m\n\u001b[0;32m   3739\u001b[0m             \u001b[1;32mif\u001b[0m \u001b[0misinstance\u001b[0m\u001b[1;33m(\u001b[0m\u001b[0mloc\u001b[0m\u001b[1;33m,\u001b[0m \u001b[0mnp\u001b[0m\u001b[1;33m.\u001b[0m\u001b[0mndarray\u001b[0m\u001b[1;33m)\u001b[0m\u001b[1;33m:\u001b[0m\u001b[1;33m\u001b[0m\u001b[0m\n",
      "\u001b[1;32m~\\AppData\\Roaming\\Python\\Python36\\site-packages\\pandas\\core\\indexes\\base.py\u001b[0m in \u001b[0;36mget_loc\u001b[1;34m(self, key, method, tolerance)\u001b[0m\n\u001b[0;32m   2897\u001b[0m                 \u001b[1;32mreturn\u001b[0m \u001b[0mself\u001b[0m\u001b[1;33m.\u001b[0m\u001b[0m_engine\u001b[0m\u001b[1;33m.\u001b[0m\u001b[0mget_loc\u001b[0m\u001b[1;33m(\u001b[0m\u001b[0mkey\u001b[0m\u001b[1;33m)\u001b[0m\u001b[1;33m\u001b[0m\u001b[0m\n\u001b[0;32m   2898\u001b[0m             \u001b[1;32mexcept\u001b[0m \u001b[0mKeyError\u001b[0m\u001b[1;33m:\u001b[0m\u001b[1;33m\u001b[0m\u001b[0m\n\u001b[1;32m-> 2899\u001b[1;33m                 \u001b[1;32mreturn\u001b[0m \u001b[0mself\u001b[0m\u001b[1;33m.\u001b[0m\u001b[0m_engine\u001b[0m\u001b[1;33m.\u001b[0m\u001b[0mget_loc\u001b[0m\u001b[1;33m(\u001b[0m\u001b[0mself\u001b[0m\u001b[1;33m.\u001b[0m\u001b[0m_maybe_cast_indexer\u001b[0m\u001b[1;33m(\u001b[0m\u001b[0mkey\u001b[0m\u001b[1;33m)\u001b[0m\u001b[1;33m)\u001b[0m\u001b[1;33m\u001b[0m\u001b[0m\n\u001b[0m\u001b[0;32m   2900\u001b[0m         \u001b[0mindexer\u001b[0m \u001b[1;33m=\u001b[0m \u001b[0mself\u001b[0m\u001b[1;33m.\u001b[0m\u001b[0mget_indexer\u001b[0m\u001b[1;33m(\u001b[0m\u001b[1;33m[\u001b[0m\u001b[0mkey\u001b[0m\u001b[1;33m]\u001b[0m\u001b[1;33m,\u001b[0m \u001b[0mmethod\u001b[0m\u001b[1;33m=\u001b[0m\u001b[0mmethod\u001b[0m\u001b[1;33m,\u001b[0m \u001b[0mtolerance\u001b[0m\u001b[1;33m=\u001b[0m\u001b[0mtolerance\u001b[0m\u001b[1;33m)\u001b[0m\u001b[1;33m\u001b[0m\u001b[0m\n\u001b[0;32m   2901\u001b[0m         \u001b[1;32mif\u001b[0m \u001b[0mindexer\u001b[0m\u001b[1;33m.\u001b[0m\u001b[0mndim\u001b[0m \u001b[1;33m>\u001b[0m \u001b[1;36m1\u001b[0m \u001b[1;32mor\u001b[0m \u001b[0mindexer\u001b[0m\u001b[1;33m.\u001b[0m\u001b[0msize\u001b[0m \u001b[1;33m>\u001b[0m \u001b[1;36m1\u001b[0m\u001b[1;33m:\u001b[0m\u001b[1;33m\u001b[0m\u001b[0m\n",
      "\u001b[1;32mpandas\\_libs\\index.pyx\u001b[0m in \u001b[0;36mpandas._libs.index.IndexEngine.get_loc\u001b[1;34m()\u001b[0m\n",
      "\u001b[1;32mpandas\\_libs\\index.pyx\u001b[0m in \u001b[0;36mpandas._libs.index.IndexEngine.get_loc\u001b[1;34m()\u001b[0m\n",
      "\u001b[1;32mpandas\\_libs\\hashtable_class_helper.pxi\u001b[0m in \u001b[0;36mpandas._libs.hashtable.PyObjectHashTable.get_item\u001b[1;34m()\u001b[0m\n",
      "\u001b[1;32mpandas\\_libs\\hashtable_class_helper.pxi\u001b[0m in \u001b[0;36mpandas._libs.hashtable.PyObjectHashTable.get_item\u001b[1;34m()\u001b[0m\n",
      "\u001b[1;31mKeyError\u001b[0m: 'A0A024R4E5'"
     ]
    }
   ],
   "source": [
    "cci = CytofCellCountInfra()\n",
    "full_profilte_to_cytof_cell_map = cci.cytof_label_propagation(A.T.copy(deep=True))\n",
    "sample_over_cytof_count =  cci.get_cytof_count_per_sample() "
   ]
  },
  {
   "cell_type": "code",
   "execution_count": null,
   "metadata": {
    "code_folding": []
   },
   "outputs": [],
   "source": [
    "sns.heatmap(sample_over_cytof_count)"
   ]
  },
  {
   "cell_type": "markdown",
   "metadata": {},
   "source": [
    "# (mixture with cytof proportions) vs real mixtures"
   ]
  },
  {
   "cell_type": "code",
   "execution_count": null,
   "metadata": {
    "code_folding": [
     1
    ]
   },
   "outputs": [],
   "source": [
    "#take only cells with known tags\n",
    "_profilte_to_cytof_cell_map = {'NOT_BCellmemory_01': 'B cells ',\n",
    "                                  'NOT_BCellnaive_01': 'B cells ',\n",
    "                                  'NOT_BCellplasma_01': 'B cells ',\n",
    "                                  'NOT_CD4TCellmTregs_01': None,\n",
    "                                  'NOT_CD4TCellnaive_01': 'Na?ve CD4 Tcell',\n",
    "                                  'NOT_CD4TCellnTregs_01': None,\n",
    "                                  'NOT_CD4TCellTcm_01': 'CD4+central memory Tcells',\n",
    "                                  'NOT_CD4TCellTem_01': 'CD4+ effector memory T cells',\n",
    "                                  'NOT_CD4TCellTemra_01': None,\n",
    "                                  'NOT_CD4TCellTh1_01': None,\n",
    "                                  'NOT_CD4TCellTh17_01': None,\n",
    "                                  'NOT_CD4TCellTh2_01': None,\n",
    "                                  'NOT_CD8TCellnaive_01': 'Na?ve CD8 Tcell',\n",
    "                                  'NOT_CD8TCellTcm_01': None,\n",
    "                                  'NOT_CD8TCellTem_01': 'CD8+ effector memory T cells',\n",
    "                                  'NOT_CD8TCellTemra_01': None,\n",
    "                                  'NOT_DendriticCD1c_01': 'Plasmacytoid dendritic cells',\n",
    "                                  'NOT_DendriticCD304_01': 'Plasmacytoid dendritic cells',\n",
    "                                  'NOT_Erythrocytes_01': None,\n",
    "                                  'NOT_Monocytesclassical_01': 'Monocytes',\n",
    "                                  'NOT_Monocytesintermediate_01': 'Monocytes',\n",
    "                                  'NOT_Monocytesnonclassical_01': 'Monocytes',\n",
    "                                  'NOT_NKCellsCD56bright_01': None,\n",
    "                                  'NOT_NKCellsCD56dim_01': None,\n",
    "                                  'NOT_Thrombocytes_01': None}\n",
    "only_cytof_labeld_cells = [cell for cell,cytof in _profilte_to_cytof_cell_map.items() if cytof is not None]\n",
    "cells_without_label = [cell for cell,cytof in _profilte_to_cytof_cell_map.items() if cytof is None] "
   ]
  },
  {
   "cell_type": "code",
   "execution_count": null,
   "metadata": {},
   "outputs": [],
   "source": [
    "#kepp only genes without unlabeld cells\n",
    "_A, _B = PP_proteins.pp_clean_irrelevant_proteins(A.copy(deep=True), B.copy(deep=True))\n",
    "labeld_A = _A.loc[_A[cells_without_label].sum(axis=1)==0]\n",
    "labeld_A = labeld_A[only_cytof_labeld_cells]\n",
    "labeld_B = _B.loc[labeld_A.index]"
   ]
  },
  {
   "cell_type": "code",
   "execution_count": null,
   "metadata": {},
   "outputs": [],
   "source": [
    "A_for_cytof_mixture_test = labeld_A.T.copy(deep=True)\n",
    "A_for_cytof_mixture_test[\"cytof_cell\"] = A_for_cytof_mixture_test.index.map(lambda x:_profilte_to_cytof_cell_map[x])\n",
    "cytof_A = A_for_cytof_mixture_test.groupby(\"cytof_cell\").sum().T"
   ]
  },
  {
   "cell_type": "code",
   "execution_count": null,
   "metadata": {},
   "outputs": [],
   "source": [
    "sample_over_cytof_count = sample_over_cytof_count.rename(columns = {col:f\"{col.split('-')[1]}_v1\" for col in sample_over_cytof_count.columns})"
   ]
  },
  {
   "cell_type": "markdown",
   "metadata": {},
   "source": [
    "## computed mixture vs known mixture"
   ]
  },
  {
   "cell_type": "code",
   "execution_count": null,
   "metadata": {},
   "outputs": [],
   "source": [
    "computed_mixtures = cytof_A.dot(sample_over_cytof_count)"
   ]
  },
  {
   "cell_type": "code",
   "execution_count": null,
   "metadata": {},
   "outputs": [],
   "source": [
    "import matplotlib.colors as mcolors\n",
    "\n",
    "corresponding_real_mixture = labeld_B[computed_mixtures.columns].loc[computed_mixtures.index]\n",
    "\n",
    "pos_colors = list(mcolors.CSS4_COLORS.keys())\n",
    "cell_to_color_map = {cell: color for cell, color in zip(labeld_B.columns,pos_colors[::5] )}\n",
    "list_of_dfs = []\n",
    "for mixture in corresponding_real_mixture.columns:\n",
    "    df = pd.DataFrame(columns=[\"computed\",\"real\"])\n",
    "    df[\"computed\"] = computed_mixtures[mixture]\n",
    "    df[\"real\"] = corresponding_real_mixture[mixture]\n",
    "    list_of_dfs.append(df)\n",
    "\n",
    "final_df = pd.concat(list_of_dfs)\n",
    "\n",
    "final_df = final_df.merge(labeld_B.idxmax(axis=1).to_frame(),left_index=True,right_index=True)\n",
    "\n",
    "fig, axs = plt.subplots(11, 2, figsize=(20, 25))\n",
    "\n",
    "for mixture,ax in zip(final_df[0].unique(),axs.reshape(-1)):\n",
    "    data_for_mixture = final_df[final_df[0] == mixture]\n",
    "    ax.scatter(data_for_mixture[\"real\"]/10000,data_for_mixture[\"computed\"]/10000)\n",
    "    ax.set_xlabel(\"real mixture data\")\n",
    "    ax.set_ylabel(\"computed cytof data\")\n",
    "    \n",
    "    corr = data_for_mixture[\"real\"].corr(data_for_mixture[\"computed\"])\n",
    "    \n",
    "    ax.set_title(f\"mixture - {mixture} , corr - {round(corr,2)}\")\n",
    "\n",
    "plt.subplots_adjust(hspace = 1)"
   ]
  },
  {
   "cell_type": "markdown",
   "metadata": {},
   "source": [
    "## cytof  proportions vs computed "
   ]
  },
  {
   "cell_type": "code",
   "execution_count": null,
   "metadata": {},
   "outputs": [],
   "source": [
    "proportions_with_cytof =  CellProportions.fit_as_df(cytof_A,corresponding_real_mixture,normalize=True)\n",
    "# sample_over_cytof_count\n",
    "\n",
    "fig,axs = plt.subplots(4,2,figsize=(12,12))\n",
    "for cell,ax in  zip(sample_over_cytof_count.index,axs.reshape(-1)):\n",
    "    deconv_prop = proportions_with_cytof.loc[cell]\n",
    "    cytof_prop = sample_over_cytof_count.loc[cell]\n",
    "    \n",
    "    ax.scatter(cytof_prop,deconv_prop)\n",
    "    ax.set_ylabel(\"deconvolution proportion\")\n",
    "    ax.set_xlabel(\"cytof proportion\")\n",
    "    ax.set_title(cell)\n",
    "plt.subplots_adjust(hspace=0.5)\n",
    "plt.show()\n"
   ]
  },
  {
   "cell_type": "markdown",
   "metadata": {},
   "source": [
    "# known profile and Cytof"
   ]
  },
  {
   "cell_type": "markdown",
   "metadata": {},
   "source": [
    "## dendrogram"
   ]
  },
  {
   "cell_type": "code",
   "execution_count": null,
   "metadata": {
    "code_folding": []
   },
   "outputs": [],
   "source": [
    "_profilte_to_cytof_cell_map = {'NOT_BCellmemory_01': 'B cells ',\n",
    "                                  'NOT_BCellnaive_01': 'B cells ',\n",
    "                                  'NOT_BCellplasma_01': 'B cells ',\n",
    "                                  'NOT_CD4TCellmTregs_01': None,\n",
    "                                  'NOT_CD4TCellnaive_01': 'Na?ve CD4 Tcell',\n",
    "                                  'NOT_CD4TCellnTregs_01': None,\n",
    "                                  'NOT_CD4TCellTcm_01': 'CD4+central memory Tcells',\n",
    "                                  'NOT_CD4TCellTem_01': 'CD4+ effector memory T cells',\n",
    "                                  'NOT_CD4TCellTemra_01': None,\n",
    "                                  'NOT_CD4TCellTh1_01': None,\n",
    "                                  'NOT_CD4TCellTh17_01': None,\n",
    "                                  'NOT_CD4TCellTh2_01': None,\n",
    "                                  'NOT_CD8TCellnaive_01': 'Na?ve CD8 Tcell',\n",
    "                                  'NOT_CD8TCellTcm_01': None,\n",
    "                                  'NOT_CD8TCellTem_01': 'CD8+ effector memory T cells',\n",
    "                                  'NOT_CD8TCellTemra_01': None,\n",
    "                                  'NOT_DendriticCD1c_01': 'Plasmacytoid dendritic cells',\n",
    "                                  'NOT_DendriticCD304_01': 'Plasmacytoid dendritic cells',\n",
    "                                  'NOT_Erythrocytes_01': None,\n",
    "                                  'NOT_Monocytesclassical_01': 'Monocytes',\n",
    "                                  'NOT_Monocytesintermediate_01': 'Monocytes',\n",
    "                                  'NOT_Monocytesnonclassical_01': 'Monocytes',\n",
    "                                  'NOT_NKCellsCD56bright_01': None,\n",
    "                                  'NOT_NKCellsCD56dim_01': None,\n",
    "                                  'NOT_Thrombocytes_01': None}\n",
    "# cci.cytof_label_propagation(A)\n",
    "mass_cell_to_cytof_label = cci.cytof_label_propagation(A.T.copy(deep=True))\n",
    "import scipy.cluster.hierarchy as shc\n",
    "\n",
    "plt.figure(figsize=(10, 7))\n",
    "plt.title(\"cell profile Dendograms,green - with label,red -  without\")\n",
    "\n",
    "dend = shc.dendrogram(shc.linkage(A.T, method='ward'),labels=A.columns,orientation='right')\n",
    "\n",
    "labeld_cells = [cell for cell,cytof in _profilte_to_cytof_cell_map.items() if cytof is not None] \n",
    "label_colors = {**{cell:\"g\" for cell in A.columns if cell in labeld_cells},**{cell:\"r\" for cell in A.columns if cell not in labeld_cells}}\n",
    "\n",
    "ax = plt.gca()\n",
    "xlbls = ax.get_ymajorticklabels()\n",
    "for lbl in xlbls:\n",
    "    lbl.set_color(label_colors[lbl.get_text()])"
   ]
  },
  {
   "cell_type": "markdown",
   "metadata": {},
   "source": [
    "## pca"
   ]
  },
  {
   "cell_type": "code",
   "execution_count": null,
   "metadata": {
    "scrolled": true
   },
   "outputs": [],
   "source": [
    "from sklearn.decomposition import PCA\n",
    "from sklearn.manifold import TSNE\n",
    "from sklearn.manifold import MDS\n",
    "\n",
    "pca = PCA(n_components=2)\n",
    "principalComponents = pca.fit_transform(A.T)\n",
    "principalDf = pd.DataFrame(data = principalComponents\n",
    "             , columns = ['principal component 1', 'principal component 2'],index = A.T.index)\n",
    "# principalDf\n",
    "\n",
    "fig = plt.figure(figsize = (25,15))\n",
    "ax = fig.add_subplot(1,1,1) \n",
    "ax.set_xlabel('Principal Component 1', fontsize = 15)\n",
    "ax.set_ylabel('Principal Component 2', fontsize = 15)\n",
    "ax.set_title('green - with label,red -  without', fontsize = 20)\n",
    "\n",
    "ax.scatter(principalDf['principal component 1'], principalDf['principal component 2'],c=[label_colors[ce] for ce in principalDf.index.tolist()], s = 50)\n",
    "\n",
    "for i, txt in enumerate(principalDf.index):\n",
    "    ax.annotate(txt, (principalDf['principal component 1'].iloc[i], principalDf['principal component 2'].iloc[i]))\n",
    "\n",
    "\n",
    "ax.grid()"
   ]
  },
  {
   "cell_type": "markdown",
   "metadata": {},
   "source": [
    "## tsne"
   ]
  },
  {
   "cell_type": "code",
   "execution_count": null,
   "metadata": {},
   "outputs": [],
   "source": [
    "from sklearn.decomposition import PCA\n",
    "from sklearn.manifold import TSNE\n",
    "\n",
    "\n",
    "pca = TSNE(n_components=2,learning_rate = 20,method='exact')\n",
    "principalComponents = pca.fit_transform(A.T)\n",
    "principalDf = pd.DataFrame(data = principalComponents\n",
    "             , columns = ['principal component 1', 'principal component 2'],index = A.T.index)\n",
    "# principalDf\n",
    "\n",
    "fig = plt.figure(figsize = (25,15))\n",
    "ax = fig.add_subplot(1,1,1) \n",
    "ax.set_xlabel('Principal Component 1', fontsize = 15)\n",
    "ax.set_ylabel('Principal Component 2', fontsize = 15)\n",
    "ax.set_title('green - with label,red -  without', fontsize = 20)\n",
    "\n",
    "ax.scatter(principalDf['principal component 1'], principalDf['principal component 2'],c=[label_colors[ce] for ce in principalDf.index.tolist()], s = 50)\n",
    "\n",
    "for i, txt in enumerate(principalDf.index):\n",
    "    ax.annotate(txt, (principalDf['principal component 1'].iloc[i], principalDf['principal component 2'].iloc[i]))\n",
    "\n",
    "\n",
    "ax.grid()"
   ]
  },
  {
   "cell_type": "code",
   "execution_count": null,
   "metadata": {},
   "outputs": [],
   "source": [
    "?TSNE"
   ]
  }
 ],
 "metadata": {
  "hide_input": false,
  "kernelspec": {
   "display_name": "Python 3",
   "language": "python",
   "name": "python3"
  },
  "language_info": {
   "codemirror_mode": {
    "name": "ipython",
    "version": 3
   },
   "file_extension": ".py",
   "mimetype": "text/x-python",
   "name": "python",
   "nbconvert_exporter": "python",
   "pygments_lexer": "ipython3",
   "version": "3.6.5"
  },
  "toc": {
   "base_numbering": 1,
   "nav_menu": {},
   "number_sections": true,
   "sideBar": true,
   "skip_h1_title": false,
   "title_cell": "Table of Contents",
   "title_sidebar": "Contents",
   "toc_cell": false,
   "toc_position": {},
   "toc_section_display": true,
   "toc_window_display": false
  }
 },
 "nbformat": 4,
 "nbformat_minor": 2
}
