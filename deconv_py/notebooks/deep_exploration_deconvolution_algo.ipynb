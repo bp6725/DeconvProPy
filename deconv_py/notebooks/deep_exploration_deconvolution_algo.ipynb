{
 "cells": [
  {
   "cell_type": "markdown",
   "metadata": {},
   "source": [
    "# init"
   ]
  },
  {
   "cell_type": "code",
   "execution_count": 5,
   "metadata": {},
   "outputs": [],
   "source": [
    "import sys\n",
    "sys.path.append('../../')\n",
    "sys.path.append('../infras/cellMix/')\n",
    "sys.path.append('../infras/cytof_data/')\n",
    "sys.path.append('../infras/')\n",
    "sys.path.append('../infras/dashboards/')\n",
    "sys.path.append('../experiments/')\n",
    "sys.path.append('../experiments/pipeline/')\n",
    "sys.path.append('../preprocess/intra_variance/')\n",
    "sys.path.append('../models/cell_proportions/')\n",
    "sys.path.append('../measures/cell_proportions_measures/')\n",
    "sys.path.append('../preprocess/cell_specifics/')"
   ]
  },
  {
   "cell_type": "code",
   "execution_count": 6,
   "metadata": {},
   "outputs": [
    {
     "ename": "ModuleNotFoundError",
     "evalue": "No module named 'infras'",
     "output_type": "error",
     "traceback": [
      "\u001b[1;31m---------------------------------------------------------------------------\u001b[0m",
      "\u001b[1;31mModuleNotFoundError\u001b[0m                       Traceback (most recent call last)",
      "\u001b[1;32m<ipython-input-6-f1851ec82d2a>\u001b[0m in \u001b[0;36m<module>\u001b[1;34m()\u001b[0m\n\u001b[0;32m      4\u001b[0m \u001b[1;32mfrom\u001b[0m \u001b[0mcell_proportions_experiments\u001b[0m \u001b[1;32mimport\u001b[0m  \u001b[0mCellProportionsExperiments\u001b[0m\u001b[1;33m\u001b[0m\u001b[0m\n\u001b[0;32m      5\u001b[0m \u001b[1;32mimport\u001b[0m \u001b[0mexploration_cytof_plots\u001b[0m \u001b[1;32mas\u001b[0m \u001b[0mcytof_plots\u001b[0m\u001b[1;33m\u001b[0m\u001b[0m\n\u001b[1;32m----> 6\u001b[1;33m \u001b[1;32mfrom\u001b[0m \u001b[0mbasic\u001b[0m \u001b[1;32mimport\u001b[0m \u001b[0mBasicDeconv\u001b[0m\u001b[1;33m\u001b[0m\u001b[0m\n\u001b[0m\u001b[0;32m      7\u001b[0m \u001b[1;32mfrom\u001b[0m \u001b[0mpp_entropy_based\u001b[0m \u001b[1;32mimport\u001b[0m \u001b[0mPpEntropyBased\u001b[0m\u001b[1;33m\u001b[0m\u001b[0m\n\u001b[0;32m      8\u001b[0m \u001b[1;32mfrom\u001b[0m \u001b[0mpp_dep_de_based\u001b[0m \u001b[1;32mimport\u001b[0m  \u001b[0mPpDepDeBased\u001b[0m\u001b[1;33m\u001b[0m\u001b[0m\n",
      "\u001b[1;32mC:\\Repos\\deconv_py\\deconv_py\\models\\cell_proportions\\basic.py\u001b[0m in \u001b[0;36m<module>\u001b[1;34m()\u001b[0m\n\u001b[0;32m      3\u001b[0m \u001b[1;32mimport\u001b[0m \u001b[0mscipy\u001b[0m\u001b[1;33m\u001b[0m\u001b[0m\n\u001b[0;32m      4\u001b[0m \u001b[1;32mfrom\u001b[0m \u001b[0mdeconv_py\u001b[0m\u001b[1;33m.\u001b[0m\u001b[0minfras\u001b[0m\u001b[1;33m.\u001b[0m\u001b[0mcellMix\u001b[0m\u001b[1;33m.\u001b[0m\u001b[0mcellMix_coordinator\u001b[0m \u001b[1;32mimport\u001b[0m \u001b[0mCellMixCoordinator\u001b[0m\u001b[1;33m\u001b[0m\u001b[0m\n\u001b[1;32m----> 5\u001b[1;33m \u001b[1;32mfrom\u001b[0m \u001b[0minfras\u001b[0m\u001b[1;33m.\u001b[0m\u001b[0mctpnet\u001b[0m\u001b[1;33m.\u001b[0m\u001b[0mctpnet_coordinator\u001b[0m \u001b[1;32mimport\u001b[0m \u001b[0mCtpNetCoordinator\u001b[0m\u001b[1;33m\u001b[0m\u001b[0m\n\u001b[0m\u001b[0;32m      6\u001b[0m \u001b[1;32mimport\u001b[0m \u001b[0mnumpy\u001b[0m \u001b[1;32mas\u001b[0m \u001b[0mnp\u001b[0m\u001b[1;33m\u001b[0m\u001b[0m\n\u001b[0;32m      7\u001b[0m \u001b[1;32mfrom\u001b[0m \u001b[0mmodels\u001b[0m\u001b[1;33m.\u001b[0m\u001b[0mcell_proportions\u001b[0m\u001b[1;33m.\u001b[0m\u001b[0mdeconvolution_model\u001b[0m \u001b[1;32mimport\u001b[0m \u001b[0mDeconvolutionModel\u001b[0m\u001b[1;33m\u001b[0m\u001b[0m\n",
      "\u001b[1;31mModuleNotFoundError\u001b[0m: No module named 'infras'"
     ]
    }
   ],
   "source": [
    "from data_factory import DataFactory\n",
    "from global_utils import GlobalUtils\n",
    "from cytof_cell_count_infra import CytofCellCountInfra\n",
    "from cell_proportions_experiments import  CellProportionsExperiments\n",
    "import exploration_cytof_plots as cytof_plots\n",
    "from basic import BasicDeconv\n",
    "from pp_entropy_based import PpEntropyBased\n",
    "from pp_dep_de_based import  PpDepDeBased\n",
    "from cell_proportions_measure import CellProportionsMeasure\n",
    "from pp_clean_high_intra_var import PpCleanHighIntraVar\n",
    "from pp_clean_irrelevant_proteins import PpCleanIrrelevantProteins\n",
    "from pp_empty import PpEmpty\n",
    "from pp_entropy_based_only_largest import PpEntropyBasedOnlyLargest\n",
    "from aggregate_intra_variance import AggregateIntraVariance\n",
    "from pipeline_deconv import PipelineDeconv\n",
    "from deconv_py.preprocess.base import BasePreprocess as PP_base\n",
    "from deconv_py.preprocess.cell_specific import CellSpecific as PP_proteins\n",
    "\n",
    "from pp_keep_specific_cells  import  PpKeepSpecificCells\n",
    "from pp_agg_to_specific_cells import PpAggToSpecificCells\n",
    "\n",
    "# from deconv_py.infras.data_factory import DataFactory\n",
    "from deconv_py.infras.data_loader import DataLoader\n",
    "from deconv_py.models.base import Base as Models_base\n",
    "from deconv_py.models.cell_proportions_models import CellProportions\n",
    "from deconv_py.models.cell_specific_models import CellSpecificPerPermutation\n",
    "from deconv_py.experiments.cell_specific import CellSpecificMetricsPlot\n",
    "from cellMix_coordinator import CellMixCoordinator\n",
    "\n",
    "import pandas as pd\n",
    "import numpy as np\n",
    "from functools import partial\n",
    "import multiprocessing\n",
    "from sklearn import pipeline\n",
    "import itertools\n",
    "from scipy.optimize import least_squares\n",
    "from sklearn.metrics import mean_squared_error\n",
    "from sklearn.linear_model import ElasticNet\n",
    "\n",
    "from functools import partial\n",
    "from scipy.optimize import minimize\n",
    "import scipy.optimize\n",
    "from itertools import combinations\n",
    "import matplotlib.pyplot as plt\n",
    "import seaborn as sns\n",
    "import pprint\n",
    "import os\n",
    "import pickle as pkl \n",
    "from sklearn.decomposition import PCA\n",
    "from IPython.display import display, HTML\n",
    "\n",
    "\n",
    "%connect_info"
   ]
  },
  {
   "cell_type": "markdown",
   "metadata": {},
   "source": [
    "# read data"
   ]
  },
  {
   "cell_type": "code",
   "execution_count": null,
   "metadata": {},
   "outputs": [],
   "source": [
    "data_factory = DataFactory()\n",
    "A_all_vs,B_all_vs = data_factory.load_IBD_all_vs(\"Intensity\",index_func=lambda x:x.split(\";\")[0],log2_transformation=True)"
   ]
  },
  {
   "cell_type": "markdown",
   "metadata": {},
   "source": [
    "# basic signature"
   ]
  },
  {
   "cell_type": "code",
   "execution_count": null,
   "metadata": {
    "code_folding": []
   },
   "outputs": [],
   "source": [
    "agg_iv = AggregateIntraVariance()\n",
    "#we take from the proteins we target\n",
    "pre_picked_signature_df =pd.read_csv(\"../notebooks/targeted_proteins.csv\").set_index([\"protein\",\"gene\"])\n",
    "pre_picked_signature_df = pre_picked_signature_df[pre_picked_signature_df.source=='enrichment_based genes']\n",
    "proteins = pre_picked_signature_df.index.intersection(A_all_vs.index)\n",
    "A_sig,B_sig = agg_iv.transform([A_all_vs.loc[proteins],B_all_vs.loc[proteins]])\n",
    "\n",
    "B_sig = B_sig.dropna(axis=0)\n",
    "A_sig = A_sig.loc[B_sig.index]"
   ]
  },
  {
   "cell_type": "code",
   "execution_count": null,
   "metadata": {},
   "outputs": [],
   "source": []
  },
  {
   "cell_type": "markdown",
   "metadata": {},
   "source": [
    "# nnls"
   ]
  },
  {
   "cell_type": "code",
   "execution_count": null,
   "metadata": {},
   "outputs": [],
   "source": [
    "cell_specific,mass_spec = A_sig,B_sig\n",
    "\n",
    "cell_abundance_over_samples = []\n",
    "\n",
    "for sample in mass_spec:\n",
    "    cell_abundance = scipy.optimize.nnls(cell_specific, mass_spec[sample])[0]\n",
    "    cell_abundance_df = pd.DataFrame(data=cell_abundance, index=cell_specific.columns, columns=[sample])\n",
    "    cell_abundance_over_samples.append(cell_abundance_df)\n",
    "\n",
    "cell_abundance_over_samples_df = pd.concat(cell_abundance_over_samples, axis=1)\n",
    "\n",
    "cell_abundance_over_samples_df = cell_abundance_over_samples_df / cell_abundance_over_samples_df.sum(\n",
    "    axis=0)\n",
    "cell_abundance_over_samples_df = cell_abundance_over_samples_df.round(2)\n",
    "cell_abundance_over_samples_df"
   ]
  },
  {
   "cell_type": "markdown",
   "metadata": {},
   "source": [
    "# regression"
   ]
  },
  {
   "cell_type": "code",
   "execution_count": null,
   "metadata": {},
   "outputs": [],
   "source": [
    "cell_specific,mass_spec = A_sig.copy(deep=True),B_sig.copy(deep=True)\n",
    "\n",
    "cell_abundance_over_samples = []\n",
    "\n",
    "for sample in mass_spec: \n",
    "    regressor = ElasticNet(positive=True,tol=1,alpha=200,normalize=True)\n",
    "    regressor.fit(cell_specific, mass_spec[sample])\n",
    "    cell_abundance = regressor.coef_\n",
    "    cell_abundance_df = pd.DataFrame(data=cell_abundance, index=cell_specific.columns, columns=[sample])\n",
    "    cell_abundance_over_samples.append(cell_abundance_df)\n",
    "\n",
    "cell_abundance_over_samples_df = pd.concat(cell_abundance_over_samples, axis=1)\n",
    "\n",
    "cell_abundance_over_samples_df = cell_abundance_over_samples_df / cell_abundance_over_samples_df.sum(\n",
    "    axis=0)\n",
    "cell_abundance_over_samples_df = cell_abundance_over_samples_df.round(2)\n",
    "cell_abundance_over_samples_df"
   ]
  },
  {
   "cell_type": "code",
   "execution_count": null,
   "metadata": {},
   "outputs": [],
   "source": [
    "ccci = CytofCellCountInfra()\n",
    "cpm = CellProportionsMeasure()\n",
    "deconv_result,known_results = ccci.return_mass_and_cytof_not_none_cells_counts(cell_abundance_over_samples_df,filter_by_version=\"\")\n",
    "\n",
    "\n",
    "if not any([(col in known_results.index.tolist()) for col in deconv_result.index]) :\n",
    "    columns_mapping = GlobalUtils.get_corospanding_cell_map_from_lists(known_results.index.to_list(),\n",
    "                                                                           deconv_result.index.to_list())\n",
    "    known_results = known_results.rename(index=columns_mapping)\n",
    "    \n",
    "mixtures_map = GlobalUtils.get_corospanding_mixtures_map_from_lists(deconv_result.columns,known_results.columns)\n",
    "deconv_result = deconv_result.rename(columns=mixtures_map)\n",
    "\n",
    "\n",
    "measure_function = lambda x,y : x.corrwith(y,method=\"spearman\", axis=0)\n",
    "res = measure_function(deconv_result,known_results)\n",
    "\n",
    "res.mean()"
   ]
  },
  {
   "cell_type": "code",
   "execution_count": null,
   "metadata": {},
   "outputs": [],
   "source": [
    "res.hist()"
   ]
  },
  {
   "cell_type": "code",
   "execution_count": null,
   "metadata": {},
   "outputs": [],
   "source": []
  }
 ],
 "metadata": {
  "hide_input": false,
  "kernelspec": {
   "display_name": "Python 3",
   "language": "python",
   "name": "python3"
  },
  "language_info": {
   "codemirror_mode": {
    "name": "ipython",
    "version": 3
   },
   "file_extension": ".py",
   "mimetype": "text/x-python",
   "name": "python",
   "nbconvert_exporter": "python",
   "pygments_lexer": "ipython3",
   "version": "3.6.5"
  },
  "toc": {
   "base_numbering": 1,
   "nav_menu": {},
   "number_sections": true,
   "sideBar": true,
   "skip_h1_title": false,
   "title_cell": "Table of Contents",
   "title_sidebar": "Contents",
   "toc_cell": false,
   "toc_position": {},
   "toc_section_display": true,
   "toc_window_display": false
  }
 },
 "nbformat": 4,
 "nbformat_minor": 2
}
