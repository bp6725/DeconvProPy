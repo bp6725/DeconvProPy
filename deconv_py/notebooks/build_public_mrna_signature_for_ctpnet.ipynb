{
 "cells": [
  {
   "cell_type": "markdown",
   "metadata": {},
   "source": [
    "# INIT and read"
   ]
  },
  {
   "cell_type": "code",
   "execution_count": 55,
   "metadata": {},
   "outputs": [],
   "source": [
    "import pandas as pd\n",
    "import numpy as np\n",
    "import mygene\n"
   ]
  },
  {
   "cell_type": "code",
   "execution_count": 65,
   "metadata": {},
   "outputs": [],
   "source": [
    "mrna_data_path =r\"C:\\Repos\\deconv_py\\deconv_py\\infras\\ctpnet\\test_mrna_human_atlas.csv\"\n",
    "genes_list_path = r\"C:\\Repos\\deconv_py\\deconv_py\\infras\\ctpnet\\genes_list.txt\"\n",
    "\n",
    "raw_mrna_df = pd.read_csv(mrna_data_path)\n",
    "raw_mrna_df = raw_mrna_df.set_index(\"Gene name\")\n",
    "gene_list = []\n",
    "with open(genes_list_path,\"r\") as f :\n",
    "    for line in f.readlines() :\n",
    "        gene_list.append(line.split(\",\")[1].split('\"')[1])"
   ]
  },
  {
   "cell_type": "markdown",
   "metadata": {},
   "source": [
    "# corresponds"
   ]
  },
  {
   "cell_type": "markdown",
   "metadata": {},
   "source": [
    "## build lists"
   ]
  },
  {
   "cell_type": "code",
   "execution_count": 70,
   "metadata": {},
   "outputs": [],
   "source": [
    "profile_genes_list = []\n",
    "for _g in raw_mrna_df.index : \n",
    "    for _gg in _g.split(\";\") :\n",
    "        profile_genes_list.append(_gg)\n",
    "profile_genes =  pd.Index(profile_genes_list)\n",
    "required_genes = pd.Index(gene_list)"
   ]
  },
  {
   "cell_type": "markdown",
   "metadata": {},
   "source": [
    "## corresponds"
   ]
  },
  {
   "cell_type": "code",
   "execution_count": 71,
   "metadata": {},
   "outputs": [],
   "source": [
    "corosponds_genes = profile_genes.intersection(required_genes).copy()\n",
    "required_not_in_data = required_genes.difference(profile_genes)\n",
    "in_data_not_required = profile_genes.difference(required_genes).copy()"
   ]
  },
  {
   "cell_type": "markdown",
   "metadata": {
    "heading_collapsed": true
   },
   "source": [
    "# build matrix"
   ]
  },
  {
   "cell_type": "code",
   "execution_count": 79,
   "metadata": {
    "hidden": true
   },
   "outputs": [],
   "source": [
    "intersected_df = raw_mrna_df.reindex(required_genes)\n",
    "intersected_df = intersected_df.fillna(0)\n",
    "# intersected_df.to_csv(r\"C:\\Repos\\deconv_py\\deconv_py\\infras\\ctpnet\\human_atlas_for_ctpnet_prediction.csv\")"
   ]
  },
  {
   "cell_type": "markdown",
   "metadata": {
    "heading_collapsed": true
   },
   "source": [
    "# temp"
   ]
  },
  {
   "cell_type": "code",
   "execution_count": 51,
   "metadata": {
    "hidden": true
   },
   "outputs": [],
   "source": [
    "# #reindex from ensg_id to gene_name ang protein id : \n",
    "# mg = mygene.MyGeneInfo()\n",
    "# gene_name_to_entrezgene_mapping = {}\n",
    "\n",
    "# ens = required_not_in_data.to_list()\n",
    "# required_not_in_data_entr_id_list = [] \n",
    "# ginfo = mg.querymany(ens, scopes=\"symbol\",species='human')\n",
    "\n",
    "\n",
    "# for g in ginfo:\n",
    "#     if (\"entrezgene\" in g.keys()) and (\"symbol\" in g.keys()) : \n",
    "#         gene_name_to_entrezgene_mapping[g[\"symbol\"]] = g[\"entrezgene\"]\n",
    "#         required_not_in_data_entr_id_list.append(g[\"entrezgene\"])\n",
    "\n",
    "        \n",
    "# ens = in_data_not_required.to_list()\n",
    "# in_data_not_required_entr_id_list = [] \n",
    "# ginfo = mg.querymany(ens, scopes=\"symbol\",species='human')\n",
    "\n",
    "\n",
    "# for g in ginfo:\n",
    "#     if (\"entrezgene\" in g.keys()) and (\"symbol\" in g.keys()) : \n",
    "#         gene_name_to_entrezgene_mapping[g[\"symbol\"]] = g[\"entrezgene\"]\n",
    "#         in_data_not_required_entr_id_list.append(g[\"entrezgene\"])\n"
   ]
  },
  {
   "cell_type": "code",
   "execution_count": null,
   "metadata": {
    "hidden": true
   },
   "outputs": [],
   "source": []
  }
 ],
 "metadata": {
  "hide_input": false,
  "kernelspec": {
   "display_name": "Python 3",
   "language": "python",
   "name": "python3"
  },
  "language_info": {
   "codemirror_mode": {
    "name": "ipython",
    "version": 3
   },
   "file_extension": ".py",
   "mimetype": "text/x-python",
   "name": "python",
   "nbconvert_exporter": "python",
   "pygments_lexer": "ipython3",
   "version": "3.6.5"
  },
  "toc": {
   "base_numbering": 1,
   "nav_menu": {},
   "number_sections": true,
   "sideBar": true,
   "skip_h1_title": false,
   "title_cell": "Table of Contents",
   "title_sidebar": "Contents",
   "toc_cell": false,
   "toc_position": {},
   "toc_section_display": true,
   "toc_window_display": false
  }
 },
 "nbformat": 4,
 "nbformat_minor": 2
}
