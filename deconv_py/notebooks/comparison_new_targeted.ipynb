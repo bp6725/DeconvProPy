{
 "cells": [
  {
   "cell_type": "markdown",
   "metadata": {},
   "source": [
    "# init"
   ]
  },
  {
   "cell_type": "code",
   "execution_count": 1,
   "metadata": {},
   "outputs": [
    {
     "name": "stdout",
     "output_type": "stream",
     "text": [
      "Using matplotlib backend: Qt5Agg\n"
     ]
    }
   ],
   "source": [
    "import sys\n",
    "\n",
    "sys.path.append('../../')\n",
    "sys.path.append('../infras/cellMix/')\n",
    "sys.path.append('../infras/cytof_data/')\n",
    "sys.path.append('../infras/')\n",
    "sys.path.append('../infras/dashboards/')\n",
    "sys.path.append('../experiments/')\n",
    "sys.path.append('../experiments/pipeline/')\n",
    "sys.path.append('../preprocess/intra_variance/')\n",
    "sys.path.append('../models/cell_proportions/')\n",
    "sys.path.append('../measures/cell_proportions_measures/')\n",
    "sys.path.append('../preprocess/cell_specifics/')\n",
    "%matplotlib\n",
    "import warnings\n",
    "warnings.filterwarnings('ignore')"
   ]
  },
  {
   "cell_type": "code",
   "execution_count": 2,
   "metadata": {},
   "outputs": [
    {
     "name": "stdout",
     "output_type": "stream",
     "text": [
      "{\n",
      "  \"shell_port\": 53710,\n",
      "  \"iopub_port\": 53711,\n",
      "  \"stdin_port\": 53712,\n",
      "  \"control_port\": 53713,\n",
      "  \"hb_port\": 53714,\n",
      "  \"ip\": \"127.0.0.1\",\n",
      "  \"key\": \"b8424777-8571909b0fe69ac12df028fb\",\n",
      "  \"transport\": \"tcp\",\n",
      "  \"signature_scheme\": \"hmac-sha256\",\n",
      "  \"kernel_name\": \"\"\n",
      "}\n",
      "\n",
      "Paste the above JSON into a file, and connect with:\n",
      "    $> jupyter <app> --existing <file>\n",
      "or, if you are local, you can connect with just:\n",
      "    $> jupyter <app> --existing kernel-9d991327-7827-4ae5-bfe2-9053447b0f1d.json\n",
      "or even just:\n",
      "    $> jupyter <app> --existing\n",
      "if this is the most recent Jupyter kernel you have started.\n"
     ]
    }
   ],
   "source": [
    "from data_factory import DataFactory\n",
    "from global_utils import GlobalUtils\n",
    "from cytof_cell_count_infra import CytofCellCountInfra\n",
    "from cell_proportions_experiments import  CellProportionsExperiments\n",
    "import exploration_cytof_plots as cytof_plots\n",
    "from basic import BasicDeconv\n",
    "from pp_entropy_based import PpEntropyBased\n",
    "from pp_dep_de_based import  PpDepDeBased\n",
    "from cell_proportions_measure import CellProportionsMeasure\n",
    "from pp_clean_high_intra_var import PpCleanHighIntraVar\n",
    "from pp_clean_irrelevant_proteins import PpCleanIrrelevantProteins\n",
    "from pp_empty import PpEmpty\n",
    "from pp_entropy_based_only_largest import PpEntropyBasedOnlyLargest\n",
    "from aggregate_intra_variance import AggregateIntraVariance\n",
    "from pipeline_deconv import PipelineDeconv\n",
    "from deconv_py.preprocess.base import BasePreprocess as PP_base\n",
    "from deconv_py.preprocess.cell_specific import CellSpecific as PP_proteins\n",
    "\n",
    "from pp_keep_specific_cells  import  PpKeepSpecificCells\n",
    "from pp_agg_to_specific_cells import PpAggToSpecificCells\n",
    "\n",
    "# from deconv_py.infras.data_factory import DataFactory\n",
    "from deconv_py.infras.data_loader import DataLoader\n",
    "from deconv_py.models.base import Base as Models_base\n",
    "from deconv_py.models.cell_proportions_models import CellProportions\n",
    "from deconv_py.models.cell_specific_models import CellSpecificPerPermutation\n",
    "from deconv_py.experiments.cell_specific import CellSpecificMetricsPlot\n",
    "from cellMix_coordinator import CellMixCoordinator\n",
    "\n",
    "import pandas as pd\n",
    "import numpy as np\n",
    "from functools import partial\n",
    "import multiprocessing\n",
    "from sklearn import pipeline\n",
    "import itertools\n",
    "from scipy.optimize import least_squares\n",
    "from sklearn.metrics import mean_squared_error\n",
    "from functools import partial\n",
    "from scipy.optimize import minimize\n",
    "import scipy.optimize\n",
    "from itertools import combinations\n",
    "import matplotlib.pyplot as plt\n",
    "import seaborn as sns\n",
    "import pprint\n",
    "import os\n",
    "import pickle as pkl \n",
    "from sklearn.decomposition import PCA\n",
    "from IPython.display import display, HTML\n",
    "\n",
    "from itertools import chain\n",
    "from scipy.optimize import least_squares\n",
    "from sklearn.metrics import mean_squared_error\n",
    "from functools import partial\n",
    "from scipy.optimize import minimize\n",
    "import scipy.optimize\n",
    "from itertools import combinations\n",
    "import matplotlib.pyplot as plt\n",
    "import seaborn as sns\n",
    "from scipy.stats import gaussian_kde\n",
    "import math\n",
    "\n",
    "\n",
    "from scipy.stats import entropy\n",
    "from functools import reduce\n",
    "import matplotlib.patches as patches\n",
    "\n",
    "\n",
    "import os\n",
    "\n",
    "\n",
    "%connect_info"
   ]
  },
  {
   "cell_type": "markdown",
   "metadata": {},
   "source": [
    "#  read data"
   ]
  },
  {
   "cell_type": "code",
   "execution_count": 3,
   "metadata": {},
   "outputs": [],
   "source": [
    "#old data - imputed\n",
    "data_factory = DataFactory()\n",
    "A_org,B_org = data_factory.load_IBD_all_vs(\"Intensity\",index_func=lambda x:x.split(\";\")[0],log2_transformation=True)\n",
    "\n",
    "# #old data - not imputed\n",
    "data_factory = DataFactory()\n",
    "A_org_not_imp,B_org_not_imp = data_factory.load_no_imputation_IBD_all_vs(\"Intensity\",index_func=lambda x:x.split(\";\")[0],log2_transformation=False)\n",
    "B_org_not_imp = B_org_not_imp.replace('Filtered',0)\n",
    "B_org_not_imp=B_org_not_imp.astype(float)\n",
    "\n",
    "#new data - not targeted\n",
    "data_factory = DataFactory()\n",
    "A_new,B_new = data_factory.load_2020_IBD_all_vs(\"Intensity\",index_func=lambda x:x.split(\";\")[0],log2_transformation=False)\n",
    "B_new = B_new.replace('Filtered',0)\n",
    "\n",
    "#new data - targeted\n",
    "data_factory = DataFactory()\n",
    "A_targeted,B_targeted = data_factory.load_2020_targeted_IBD_all_vs(\"Intensity\",index_func=lambda x:x.split(\";\")[0],log2_transformation=False)\n",
    "B_targeted = B_targeted.replace('Filtered',0)"
   ]
  },
  {
   "cell_type": "code",
   "execution_count": 4,
   "metadata": {},
   "outputs": [
    {
     "ename": "RuntimeError",
     "evalue": "No active exception to reraise",
     "output_type": "error",
     "traceback": [
      "\u001b[1;31m---------------------------------------------------------------------------\u001b[0m",
      "\u001b[1;31mRuntimeError\u001b[0m                              Traceback (most recent call last)",
      "\u001b[1;32m<ipython-input-4-9c9a2cba73bf>\u001b[0m in \u001b[0;36m<module>\u001b[1;34m()\u001b[0m\n\u001b[1;32m----> 1\u001b[1;33m \u001b[1;32mraise\u001b[0m\u001b[1;33m\u001b[0m\u001b[0m\n\u001b[0m",
      "\u001b[1;31mRuntimeError\u001b[0m: No active exception to reraise"
     ]
    }
   ],
   "source": [
    "raise"
   ]
  },
  {
   "cell_type": "markdown",
   "metadata": {},
   "source": [
    "# code base"
   ]
  },
  {
   "cell_type": "code",
   "execution_count": null,
   "metadata": {
    "code_folding": [
     41,
     82,
     108
    ]
   },
   "outputs": [],
   "source": [
    "def plot_expcted_mixtures_vs_real_mixtures(expcted_mixtures,real_mixtures,xlabel,ylabel,lims=None,percantile_to_take = 1,as_log=True,correlation_type =  \"spearman\"):\n",
    "    mutual_mixtures = expcted_mixtures.columns.intersection(real_mixtures.columns)\n",
    "    n_figs = len(mutual_mixtures)\n",
    "    fig, axs = plt.subplots(math.ceil(n_figs/2),2,figsize=(10,10))\n",
    "\n",
    "    for mixture,ax in zip(mutual_mixtures,axs.reshape(-1)) :\n",
    "        \n",
    "        expcted_mixture_expression = expcted_mixtures[mixture]\n",
    "        real_mixture_expression = real_mixtures[mixture]\n",
    "        \n",
    "        exp_robust = expcted_mixtures[expcted_mixtures <= expcted_mixtures.quantile(percantile_to_take)].dropna().index\n",
    "        B_robust = real_mixtures[real_mixtures <= real_mixtures.quantile(percantile_to_take)].dropna().index\n",
    "        mutual_robust = exp_robust.intersection(B_robust)\n",
    "        \n",
    "        expcted_mixture_expression = expcted_mixture_expression.loc[mutual_robust]\n",
    "        real_mixture_expression = real_mixture_expression.loc[mutual_robust]\n",
    "        \n",
    "        if as_log : \n",
    "            x = np.log(1+expcted_mixture_expression)\n",
    "            y = np.log(1+real_mixture_expression)\n",
    "        else : \n",
    "            x = expcted_mixture_expression\n",
    "            y = real_mixture_expression\n",
    "\n",
    "        correlation_with_out_zeros = np.round(real_mixture_expression[x != 0].corr(expcted_mixture_expression[x != 0],method=correlation_type),3)\n",
    "        xy = np.vstack([x,y])\n",
    "        z = gaussian_kde(xy)(xy)\n",
    "        \n",
    "        \n",
    "       \n",
    "        ax.scatter(x.values, y.values, c=z,s=100)\n",
    "        ax.set_title(f\"{mixture}, {correlation_type} of non zeros(real not log) : {correlation_with_out_zeros}\")\n",
    "        ax.set_xlabel(f\"{xlabel} log(1+x)\")\n",
    "        ax.set_ylabel(f\"{ylabel} log(1+x)\")\n",
    "        \n",
    "        if lims is not None : \n",
    "            ax.set_xlim(lims[0])\n",
    "            ax.set_ylim(lims[1])\n",
    "\n",
    "    plt.subplots_adjust(hspace=1)  \n",
    "\n",
    "def plot_ranked_expcted_mixtures_vs_real_mixtures(expcted_mixtures,real_mixtures,xlabel,ylabel,lims=None,percantile_to_take = 1,as_log=True,correlation_type =  \"spearman\"):\n",
    "    mutual_mixtures = expcted_mixtures.columns.intersection(real_mixtures.columns)\n",
    "    n_figs = len(mutual_mixtures)\n",
    "    fig, axs = plt.subplots(math.ceil(n_figs/2),2,figsize=(10,10))\n",
    "\n",
    "    for mixture,ax in zip(mutual_mixtures,axs.reshape(-1)) :\n",
    "        \n",
    "        expcted_mixture_expression = expcted_mixtures[mixture].rank()\n",
    "        real_mixture_expression = real_mixtures[mixture].rank()\n",
    "        \n",
    "        exp_robust = expcted_mixtures[expcted_mixtures <= expcted_mixtures.quantile(percantile_to_take)].dropna().index\n",
    "        B_robust = real_mixtures[real_mixtures <= real_mixtures.quantile(percantile_to_take)].dropna().index\n",
    "        mutual_robust = exp_robust.intersection(B_robust)\n",
    "        \n",
    "        expcted_mixture_expression = expcted_mixture_expression.loc[mutual_robust]\n",
    "        real_mixture_expression = real_mixture_expression.loc[mutual_robust]\n",
    "        \n",
    "        if as_log : \n",
    "            x = np.log(1+expcted_mixture_expression)\n",
    "            y = np.log(1+real_mixture_expression)\n",
    "        else : \n",
    "            x = expcted_mixture_expression\n",
    "            y = real_mixture_expression\n",
    "\n",
    "        correlation_with_out_zeros = np.round(real_mixture_expression[x != 0].corr(expcted_mixture_expression[x != 0],method=correlation_type),3)\n",
    "        xy = np.vstack([x,y])\n",
    "        z = gaussian_kde(xy)(xy)\n",
    "        \n",
    "        \n",
    "       \n",
    "        ax.scatter(x.values, y.values, c=z,s=100)\n",
    "        ax.set_title(f\"{mixture}, {correlation_type} of non zeros(real not log) : {correlation_with_out_zeros}\")\n",
    "        ax.set_xlabel(f\"{xlabel} log(1+x)\")\n",
    "        ax.set_ylabel(f\"{ylabel} log(1+x)\")\n",
    "        \n",
    "        if lims is not None : \n",
    "            ax.set_xlim(lims[0])\n",
    "            ax.set_ylim(lims[1])\n",
    "\n",
    "    plt.subplots_adjust(hspace=1)  \n",
    "    \n",
    "def corr_expcted_vs_mixture(expcted_b,B,xlabel,ylabel,method  = \"pearson\",n_to_take = 10):\n",
    "    percs = np.linspace(0,100,21)\n",
    "    mutual_mixtures = B.columns.intersection(expcted_b.columns)\n",
    "    n_to_take = min(n_to_take,len(mutual_mixtures))\n",
    "    corr_per_mixture_df = pd.DataFrame(index= mutual_mixtures)\n",
    "\n",
    "    for i in np.linspace(0.45,0.95,10) :\n",
    "        trh = round(i,2)\n",
    "\n",
    "        for mixture_idx in mutual_mixtures:\n",
    "            mixture = B[mixture_idx]\n",
    "            mixture_trh = mixture.quantile(trh)\n",
    "\n",
    "            _expcted_b = expcted_b[mixture_idx]\n",
    "            _expcted_b_trh = _expcted_b.quantile(trh)\n",
    "            \n",
    "            relevant_proteins = mixture[mixture>mixture_trh].index.intersection(_expcted_b[_expcted_b>_expcted_b_trh].index)\n",
    "            \n",
    "            corr = _expcted_b.loc[relevant_proteins].corr(mixture.loc[relevant_proteins],method = method)\n",
    "            corr_per_mixture_df.ix[mixture_idx,trh] = corr\n",
    "            \n",
    "    ax = corr_per_mixture_df.T.sample(n=n_to_take,axis=1).plot(title=f\"{xlabel} vs {ylabel} - {method}\")\n",
    "    ax.set_xlabel(\"percantile\")\n",
    "    ax.set_ylabel(method)\n",
    "    plt.show()\n",
    "\n",
    "def plot_diff_expcted_mixtures_vs_real_mixtures(expcted_mixtures,real_mixtures,title = \"\"):\n",
    "    mutual_mixtures = expcted_mixtures.columns.intersection(real_mixtures.columns)\n",
    "\n",
    "    for mixture in mutual_mixtures :\n",
    "        expcted_mixture_expression = expcted_mixtures[mixture]\n",
    "        real_mixture_expression = real_mixtures[mixture]\n",
    "        mutual = expcted_mixture_expression.index.intersection(real_mixture_expression.index)\n",
    "\n",
    "        expcted_mixture_expression = expcted_mixture_expression.loc[mutual]\n",
    "        real_mixture_expression = real_mixture_expression.loc[mutual]\n",
    "\n",
    "        _mean = (expcted_mixture_expression + real_mixture_expression)/2\n",
    "        _diff = abs(expcted_mixture_expression - real_mixture_expression)\n",
    "        _diff = _diff.fillna(0)\n",
    "        \n",
    "        x=np.log(1+_mean)\n",
    "        y =np.log(1+ _diff)\n",
    "\n",
    "        xy = np.vstack([x,y])\n",
    "        z = gaussian_kde(xy)(xy)\n",
    "\n",
    "        fig,ax = plt.subplots()\n",
    "        ax.scatter(x.values, y.values, c=z,s=100)\n",
    "        ax.set_title(f\"{title} - {mixture}\")\n",
    "        ax.set_xlabel(f\"mean\")\n",
    "        ax.set_ylabel(f\"diff\")\n",
    "        plt.show()\n",
    "\n",
    "    plt.subplots_adjust(hspace=1) \n"
   ]
  },
  {
   "cell_type": "markdown",
   "metadata": {},
   "source": [
    "# comparison "
   ]
  },
  {
   "cell_type": "raw",
   "metadata": {},
   "source": [
    "We currently have 4 versions of the data : \n",
    "1. Original 72 samples with imputation  (aka “original”)\n",
    "2. Original 72 samples without imputation (aka “not_imputed”)\n",
    "3. New 4*4 samples  without imputation (aka “new”) \n",
    "4. New 12 samples of targeted MassSpec (aka “targeted”)"
   ]
  },
  {
   "cell_type": "markdown",
   "metadata": {},
   "source": [
    "## values heatmaps : log(1+x) vs log(1+y)"
   ]
  },
  {
   "cell_type": "markdown",
   "metadata": {},
   "source": [
    "### original vs new"
   ]
  },
  {
   "cell_type": "code",
   "execution_count": null,
   "metadata": {
    "scrolled": false
   },
   "outputs": [],
   "source": [
    "plot_expcted_mixtures_vs_real_mixtures(B_new,B_org,\"new\",\"original\")"
   ]
  },
  {
   "cell_type": "markdown",
   "metadata": {
    "heading_collapsed": true
   },
   "source": [
    "### not_imputed vs new"
   ]
  },
  {
   "cell_type": "code",
   "execution_count": null,
   "metadata": {
    "hidden": true,
    "scrolled": false
   },
   "outputs": [],
   "source": [
    "plot_expcted_mixtures_vs_real_mixtures(B_new,B_org_not_imp,\"new\",\"not_imputed\")"
   ]
  },
  {
   "cell_type": "markdown",
   "metadata": {
    "heading_collapsed": true
   },
   "source": [
    "### new vs targeted"
   ]
  },
  {
   "cell_type": "code",
   "execution_count": null,
   "metadata": {
    "hidden": true,
    "scrolled": false
   },
   "outputs": [],
   "source": [
    "plot_expcted_mixtures_vs_real_mixtures(B_targeted,B_new,\"targeted\",\"new\",lims=None)"
   ]
  },
  {
   "cell_type": "markdown",
   "metadata": {
    "heading_collapsed": true
   },
   "source": [
    "### original vs targeted"
   ]
  },
  {
   "cell_type": "code",
   "execution_count": null,
   "metadata": {
    "hidden": true,
    "scrolled": false
   },
   "outputs": [],
   "source": [
    "plot_expcted_mixtures_vs_real_mixtures(B_targeted,B_org,\"targeted\",\"original\")"
   ]
  },
  {
   "cell_type": "markdown",
   "metadata": {},
   "source": [
    "## ranking  heatmaps : rank(x) vs rank(y)"
   ]
  },
  {
   "cell_type": "markdown",
   "metadata": {},
   "source": [
    "### original vs new"
   ]
  },
  {
   "cell_type": "code",
   "execution_count": null,
   "metadata": {
    "scrolled": false
   },
   "outputs": [],
   "source": [
    "plot_ranked_expcted_mixtures_vs_real_mixtures(B_new,B_org,\"new\",\"original\",as_log=False)"
   ]
  },
  {
   "cell_type": "markdown",
   "metadata": {
    "heading_collapsed": true
   },
   "source": [
    "### not_imputed vs new"
   ]
  },
  {
   "cell_type": "code",
   "execution_count": null,
   "metadata": {
    "hidden": true
   },
   "outputs": [],
   "source": [
    "plot_ranked_expcted_mixtures_vs_real_mixtures(B_new,B_org_not_imp,\"new\",\"not_imputed\")"
   ]
  },
  {
   "cell_type": "markdown",
   "metadata": {
    "heading_collapsed": true
   },
   "source": [
    "### new vs targeted"
   ]
  },
  {
   "cell_type": "code",
   "execution_count": null,
   "metadata": {
    "hidden": true,
    "scrolled": false
   },
   "outputs": [],
   "source": [
    "plot_ranked_expcted_mixtures_vs_real_mixtures(B_targeted,B_new,\"targeted\",\"new\",lims=None,as_log=False)"
   ]
  },
  {
   "cell_type": "markdown",
   "metadata": {
    "heading_collapsed": true
   },
   "source": [
    "### original vs targeted"
   ]
  },
  {
   "cell_type": "code",
   "execution_count": null,
   "metadata": {
    "hidden": true,
    "scrolled": false
   },
   "outputs": [],
   "source": [
    "plot_ranked_expcted_mixtures_vs_real_mixtures(B_targeted,B_org,\"targeted\",\"original\",as_log=False)"
   ]
  },
  {
   "cell_type": "markdown",
   "metadata": {},
   "source": [
    "## corr per percentile"
   ]
  },
  {
   "cell_type": "markdown",
   "metadata": {
    "heading_collapsed": true
   },
   "source": [
    "### original vs new"
   ]
  },
  {
   "cell_type": "code",
   "execution_count": null,
   "metadata": {
    "hidden": true
   },
   "outputs": [],
   "source": [
    "corr_expcted_vs_mixture(B_org,B_new,\"original\",\"new\",method=\"spearman\")"
   ]
  },
  {
   "cell_type": "markdown",
   "metadata": {
    "heading_collapsed": true
   },
   "source": [
    "### not_imputed vs new"
   ]
  },
  {
   "cell_type": "code",
   "execution_count": null,
   "metadata": {
    "hidden": true
   },
   "outputs": [],
   "source": [
    "corr_expcted_vs_mixture(B_new,B_org_not_imp,\"new\",\"not_imputed\")"
   ]
  },
  {
   "cell_type": "markdown",
   "metadata": {
    "heading_collapsed": true
   },
   "source": [
    "### new vs targeted"
   ]
  },
  {
   "cell_type": "code",
   "execution_count": null,
   "metadata": {
    "hidden": true
   },
   "outputs": [],
   "source": [
    "corr_expcted_vs_mixture(B_targeted,B_new,\"targeted\",\"new\",method=\"spearman\")"
   ]
  },
  {
   "cell_type": "markdown",
   "metadata": {
    "heading_collapsed": true
   },
   "source": [
    "### original vs targeted"
   ]
  },
  {
   "cell_type": "code",
   "execution_count": null,
   "metadata": {
    "hidden": true,
    "scrolled": true
   },
   "outputs": [],
   "source": [
    "corr_expcted_vs_mixture(B_targeted,B_org,\"targeted\",\"original\",method=\"spearman\")"
   ]
  },
  {
   "cell_type": "markdown",
   "metadata": {},
   "source": [
    "## diff : log(1+abs(x-y)) vs log( 1+ mean(x,y))"
   ]
  },
  {
   "cell_type": "markdown",
   "metadata": {
    "heading_collapsed": true
   },
   "source": [
    "### original vs new"
   ]
  },
  {
   "cell_type": "code",
   "execution_count": null,
   "metadata": {
    "hidden": true,
    "scrolled": false
   },
   "outputs": [],
   "source": [
    "plot_diff_expcted_mixtures_vs_real_mixtures(B_org,B_new,\"original - new\")"
   ]
  },
  {
   "cell_type": "markdown",
   "metadata": {
    "heading_collapsed": true
   },
   "source": [
    "### not_imputed vs new"
   ]
  },
  {
   "cell_type": "code",
   "execution_count": null,
   "metadata": {
    "hidden": true,
    "scrolled": false
   },
   "outputs": [],
   "source": [
    "plot_diff_expcted_mixtures_vs_real_mixtures(B_new,B_org_not_imp,\"new-not_imputed\")"
   ]
  },
  {
   "cell_type": "markdown",
   "metadata": {
    "heading_collapsed": true
   },
   "source": [
    "### new vs targeted"
   ]
  },
  {
   "cell_type": "code",
   "execution_count": null,
   "metadata": {
    "hidden": true,
    "scrolled": false
   },
   "outputs": [],
   "source": [
    "plot_diff_expcted_mixtures_vs_real_mixtures(B_targeted,B_new,\"targeted - new\")"
   ]
  },
  {
   "cell_type": "markdown",
   "metadata": {
    "heading_collapsed": true
   },
   "source": [
    "### original vs targeted"
   ]
  },
  {
   "cell_type": "code",
   "execution_count": null,
   "metadata": {
    "hidden": true,
    "scrolled": false
   },
   "outputs": [],
   "source": [
    "plot_diff_expcted_mixtures_vs_real_mixtures(B_targeted,B_org,\"targeted-original\")"
   ]
  },
  {
   "cell_type": "markdown",
   "metadata": {},
   "source": [
    "# questions"
   ]
  },
  {
   "cell_type": "code",
   "execution_count": null,
   "metadata": {},
   "outputs": [],
   "source": []
  },
  {
   "cell_type": "raw",
   "metadata": {},
   "source": [
    "1.  how many proteins did we catch? (bennys side)\n",
    "2.  do we have a way to validate the targeted protein results? \n",
    "3.  how can we explain the \"error vs mean\" figure"
   ]
  },
  {
   "cell_type": "markdown",
   "metadata": {},
   "source": [
    "# moving forward "
   ]
  },
  {
   "cell_type": "raw",
   "metadata": {},
   "source": [
    "easy and fast : \n",
    "1. trying the new data sets\n",
    "2. using new (better) gating (we already did the gating)\n",
    "\n",
    "more time consuming : \n",
    "1. using the novel deconvolution method - currently we have IT problems\n",
    "2. learning the best parameters to the simulation model from Hela cells \n",
    "\n",
    "good to have : \n",
    "1. adding new SOTA deconvolution methods (besides what we already tried)"
   ]
  }
 ],
 "metadata": {
  "hide_input": false,
  "kernelspec": {
   "display_name": "Python 3",
   "language": "python",
   "name": "python3"
  },
  "language_info": {
   "codemirror_mode": {
    "name": "ipython",
    "version": 3
   },
   "file_extension": ".py",
   "mimetype": "text/x-python",
   "name": "python",
   "nbconvert_exporter": "python",
   "pygments_lexer": "ipython3",
   "version": "3.6.5"
  },
  "toc": {
   "base_numbering": 1,
   "nav_menu": {},
   "number_sections": true,
   "sideBar": true,
   "skip_h1_title": false,
   "title_cell": "Table of Contents",
   "title_sidebar": "Contents",
   "toc_cell": false,
   "toc_position": {},
   "toc_section_display": true,
   "toc_window_display": false
  }
 },
 "nbformat": 4,
 "nbformat_minor": 2
}
