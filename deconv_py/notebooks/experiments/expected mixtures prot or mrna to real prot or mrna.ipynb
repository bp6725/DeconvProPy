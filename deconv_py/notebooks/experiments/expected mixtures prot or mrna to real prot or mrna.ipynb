{
 "cells": [
  {
   "cell_type": "markdown",
   "metadata": {
    "heading_collapsed": true
   },
   "source": [
    "#  INIT"
   ]
  },
  {
   "cell_type": "code",
   "execution_count": 1,
   "metadata": {
    "hidden": true
   },
   "outputs": [],
   "source": [
    "import sys\n",
    "sys.path.append('../../')\n",
    "sys.path.append('../../infras/')\n",
    "sys.path.append('../../infras/cellMix/')\n",
    "sys.path.append('../../infras/dashboards/')\n",
    "sys.path.append('../../infras/cytof_data/')\n",
    "sys.path.append('../../preprocess/intra_variance/')\n",
    "\n",
    "\n",
    "\n",
    "from aggregate_intra_variance import AggregateIntraVariance\n",
    "from pp_clean_high_intra_var import PpCleanHighIntraVar\n",
    "from cellMix_coordinator import CellMixCoordinator\n",
    "from cytof_cell_count_infra import CytofCellCountInfra\n",
    "\n",
    "import exploration_plots\n",
    "import dashs\n",
    "\n",
    "%matplotlib inline"
   ]
  },
  {
   "cell_type": "code",
   "execution_count": 2,
   "metadata": {
    "hidden": true
   },
   "outputs": [],
   "source": [
    "cluster_info_path= r\"../../infras/cytof_data/raw_data/CyTOF.features.and.clusters.info.xlsx\"\n",
    "cytof_data_path=r\"../../infras/cytof_data/raw_data/filtered.esetALL.CyTOF.abundance.only.xlsx\"\n",
    "\n",
    "cci = CytofCellCountInfra(cluster_info_path,cytof_data_path)\n"
   ]
  },
  {
   "cell_type": "code",
   "execution_count": 3,
   "metadata": {
    "hidden": true
   },
   "outputs": [],
   "source": [
    "import pandas as pd\n",
    "import numpy as np\n",
    "from functools import partial\n",
    "import multiprocessing\n",
    "\n",
    "from itertools import chain\n",
    "from scipy.optimize import least_squares\n",
    "from sklearn.metrics import mean_squared_error\n",
    "from functools import partial\n",
    "from scipy.optimize import minimize\n",
    "import scipy.optimize\n",
    "from itertools import combinations\n",
    "import matplotlib.pyplot as plt\n",
    "import seaborn as sns\n",
    "from scipy.stats import gaussian_kde\n",
    "import math\n",
    "\n",
    "\n",
    "from scipy.stats import entropy\n",
    "from functools import reduce\n",
    "import matplotlib.patches as patches\n",
    "\n",
    "\n",
    "import os"
   ]
  },
  {
   "cell_type": "code",
   "execution_count": 4,
   "metadata": {
    "hidden": true
   },
   "outputs": [],
   "source": [
    "from deconv_py.preprocess.base import BasePreprocess as PP_base\n",
    "from deconv_py.preprocess.cell_specific import CellSpecific as PP_proteins\n",
    "\n",
    "from deconv_py.infras.data_factory import DataFactory\n",
    "from deconv_py.infras.data_loader import DataLoader\n",
    "\n",
    "from deconv_py.models.base import Base as Models_base\n",
    "from deconv_py.models.cell_proportions_models import CellProportions\n",
    "from deconv_py.models.cell_specific_models import CellSpecificPerPermutation\n",
    "\n",
    "from deconv_py.experiments.cell_specific import CellSpecificMetricsPlot\n",
    "\n",
    "# from deconv_py.infras.cellMix.cellMix_coordinator import CellMixCoordinator"
   ]
  },
  {
   "cell_type": "code",
   "execution_count": 5,
   "metadata": {
    "hidden": true
   },
   "outputs": [
    {
     "name": "stderr",
     "output_type": "stream",
     "text": [
      "C:\\ProgramData\\Anaconda3\\lib\\site-packages\\IPython\\core\\interactiveshell.py:2963: DtypeWarning: Columns (5,6,2764,2765,2773,2774,2775,2776) have mixed types. Specify dtype option on import or set low_memory=False.\n",
      "  exec(code_obj, self.user_global_ns, self.user_ns)\n"
     ]
    }
   ],
   "source": [
    "data_loader = DataLoader(mass_spec_path=os.path.abspath('../../data/20190801_filtered_imputed_data.csv'),\n",
    "                         protein_profile_path = os.path.abspath('../../data/20150718_Cerberus_proteinGroups.txt'),as_csv = True)\n",
    "data_factory = DataFactory(data_loader)\n",
    "ms = data_loader.get_mass_spec_data()"
   ]
  },
  {
   "cell_type": "code",
   "execution_count": 6,
   "metadata": {
    "hidden": true
   },
   "outputs": [],
   "source": [
    "from deconv_py.preprocess.cell_specifics.pp_clean_irrelevant_proteins import PpCleanIrrelevantProteins\n",
    "from deconv_py.preprocess.cell_specifics.pp_entropy_based import PpEntropyBased\n",
    "from deconv_py.models.cell_proportions.basic import BasicDeconv"
   ]
  },
  {
   "cell_type": "code",
   "execution_count": 7,
   "metadata": {
    "hidden": true
   },
   "outputs": [
    {
     "name": "stdout",
     "output_type": "stream",
     "text": [
      "{\n",
      "  \"shell_port\": 62982,\n",
      "  \"iopub_port\": 62983,\n",
      "  \"stdin_port\": 62984,\n",
      "  \"control_port\": 62985,\n",
      "  \"hb_port\": 62986,\n",
      "  \"ip\": \"127.0.0.1\",\n",
      "  \"key\": \"fc637022-7d96db18592c525038af01af\",\n",
      "  \"transport\": \"tcp\",\n",
      "  \"signature_scheme\": \"hmac-sha256\",\n",
      "  \"kernel_name\": \"\"\n",
      "}\n",
      "\n",
      "Paste the above JSON into a file, and connect with:\n",
      "    $> jupyter <app> --existing <file>\n",
      "or, if you are local, you can connect with just:\n",
      "    $> jupyter <app> --existing kernel-45c6755a-3886-409e-8acc-b636c8fc140f.json\n",
      "or even just:\n",
      "    $> jupyter <app> --existing\n",
      "if this is the most recent Jupyter kernel you have started.\n"
     ]
    }
   ],
   "source": [
    "%connect_info"
   ]
  },
  {
   "cell_type": "markdown",
   "metadata": {},
   "source": [
    "# read and build data sets - pick and filter intra var agg"
   ]
  },
  {
   "cell_type": "markdown",
   "metadata": {},
   "source": [
    "## read protein profile and mixtures "
   ]
  },
  {
   "cell_type": "markdown",
   "metadata": {},
   "source": [
    "**LFQ:** rel. quantification – for same protein across different samples\n",
    "\n",
    "**iBAQ:** orthogonal comparison – for different proteins in the same sample\n",
    "\n",
    "**Intensity:** supposed  to be both\n"
   ]
  },
  {
   "cell_type": "code",
   "execution_count": 8,
   "metadata": {},
   "outputs": [
    {
     "name": "stderr",
     "output_type": "stream",
     "text": [
      "C:\\ProgramData\\Anaconda3\\lib\\site-packages\\ipykernel_launcher.py:1: DtypeWarning: Columns (5,6,2764,2765,2773,2774,2775,2776) have mixed types. Specify dtype option on import or set low_memory=False.\n",
      "  \"\"\"Entry point for launching an IPython kernel.\n"
     ]
    }
   ],
   "source": [
    "A_intensity,B_intensity = data_factory.load_IBD_all_vs(\"Intensity\",index_func=lambda x:x.split(';')[0],log2_transformation=True,auto_filter_by = True)\n",
    "\n",
    "# #filter intraVar\n",
    "filt = PpCleanHighIntraVar(how=\"std\")\n",
    "A_intensity,B_intensity = filt.transform([A_intensity,B_intensity])\n",
    "\n",
    "#agg intravar\n",
    "agg_iv = AggregateIntraVariance(how=\"median\")\n",
    "A_intensity,_ = agg_iv.transform([A_intensity,None])\n",
    "\n"
   ]
  },
  {
   "cell_type": "markdown",
   "metadata": {},
   "source": [
    "## read GX of mixtures"
   ]
  },
  {
   "cell_type": "code",
   "execution_count": 9,
   "metadata": {},
   "outputs": [],
   "source": [
    "B_gx_ibd = pd.read_csv(\"../../data/gene_expression/IBD_mixtures_GX/IBD_GX_DATA.csv\")\n",
    "B_gx_ibd = B_gx_ibd.rename(columns={'Unnamed: 0':\"Gene names\"}).set_index(\"Gene names\")\n",
    "# mean of dulpicate genes : \n",
    "B_gx_ibd = 2**(B_gx_ibd)\n",
    "B_gx_ibd = B_gx_ibd.groupby(level=0).mean()"
   ]
  },
  {
   "cell_type": "markdown",
   "metadata": {},
   "source": [
    "## read gene expression data from human protein atlas "
   ]
  },
  {
   "cell_type": "markdown",
   "metadata": {},
   "source": [
    "**Transcript expression levels summarized per gene in 18 blood cell types and total PBMC** \n",
    "\n",
    "\n",
    "**protein-coding transcripts per million (\"pTPM\"):** \n",
    "fraction of transcripts per million of total transcripts from protein-coding genes - The pTPM values can be used to investigate the abundance of a particular gene, gene family, or gene class relative to all other transcripts in a particular cell, tissue, or organ. \n",
    "\n",
    "**normalized expression (\"NX\"):**\n",
    "The objective of using the NX value is to facilitate the\n",
    "analysis of differences in expression of genes\n",
    "between cells, tissues, and organs and to allow for a specificity classification based on the\n",
    "genome-wide expression of all genes across the\n",
    "human blood cells, tissues, and organs.\n",
    "\n",
    "***The data is based on The Human Protein Atlas version 19.1 and Ensembl version 92.38.\n"
   ]
  },
  {
   "cell_type": "code",
   "execution_count": 10,
   "metadata": {},
   "outputs": [],
   "source": [
    "rna_blood_cell_df = pd.read_csv(\"../../data/gene_expression/human atlas/rna_blood_cell.tsv\",sep=\"\\t\")\n",
    "rna_blood_cell_df =rna_blood_cell_df.loc[~rna_blood_cell_df[[\"Gene name\",\"Blood cell\"]].duplicated()]\n",
    "rna_blood_cell_df = rna_blood_cell_df.rename(columns = {\"Gene name\" : \"Gene names\"})\n",
    "\n",
    "tpm_rna_cell_df = rna_blood_cell_df.pivot(index = \"Gene names\",columns=\"Blood cell\",values=\"pTPM\")\n",
    "nx_rna_cell_df = rna_blood_cell_df.pivot(index = \"Gene names\",columns=\"Blood cell\",values=\"NX\")"
   ]
  },
  {
   "cell_type": "code",
   "execution_count": 11,
   "metadata": {},
   "outputs": [],
   "source": [
    "nx_rna_cell_df_tc = nx_rna_cell_df.copy(deep=True)\n",
    "tpm_rna_cell_df_tc = tpm_rna_cell_df.copy(deep=True)"
   ]
  },
  {
   "cell_type": "markdown",
   "metadata": {},
   "source": [
    "## build corresponding sets"
   ]
  },
  {
   "cell_type": "markdown",
   "metadata": {},
   "source": [
    "1) we start with indexing the genes  - we use only the genes as key  "
   ]
  },
  {
   "cell_type": "markdown",
   "metadata": {},
   "source": [
    "### keep only genes as index"
   ]
  },
  {
   "cell_type": "code",
   "execution_count": 12,
   "metadata": {},
   "outputs": [],
   "source": [
    "#keep only genes as levels\n",
    "B_intensity.index = B_intensity.index.droplevel(level=\"major_protein_id\")\n",
    "A_intensity.index = A_intensity.index.droplevel(level=\"major_protein_id\")"
   ]
  },
  {
   "cell_type": "markdown",
   "metadata": {},
   "source": [
    "### rename mixtures name"
   ]
  },
  {
   "cell_type": "code",
   "execution_count": 13,
   "metadata": {},
   "outputs": [],
   "source": [
    "def return_low_case(p,v) :\n",
    "    return f\"{p}_v{v}\"\n",
    "\n",
    "B_gx_ibd = B_gx_ibd.rename(columns = {col:return_low_case(col.split(\"-\")[1],col.split(\"-\")[2][1]) for col in B_gx_ibd.columns})\n",
    "B_intensity = B_intensity.rename(columns = {col:return_low_case(col.split(\"_\")[0],col.split(\"_\")[1][1]) for col in B_intensity.columns})"
   ]
  },
  {
   "cell_type": "markdown",
   "metadata": {},
   "source": [
    "### keep corresponding genes as index"
   ]
  },
  {
   "cell_type": "code",
   "execution_count": 14,
   "metadata": {
    "code_folding": [
     0
    ]
   },
   "outputs": [],
   "source": [
    "def return_corosponding(home_profile,out_profile,filter_by_mutual_mixtures = True) : \n",
    "    def get_home_cor_gene(out_gene,mut_genes_multiple,mut_genes):\n",
    "        if out_gene in mut_genes : \n",
    "            return out_gene\n",
    "        if out_gene in mut_genes_multiple.keys():\n",
    "            return mut_genes_multiple[out_gene]\n",
    "\n",
    "    out_genes = out_profile.index.dropna().drop_duplicates()\n",
    "    home_genes = home_profile.index.dropna().drop_duplicates()\n",
    "\n",
    "    home_genes_multiple = [genes for genes in home_genes if \";\" in genes] \n",
    "    mut_genes_multiple = {}\n",
    "    for out_gene in out_genes : \n",
    "        for home_gene in home_genes_multiple:\n",
    "            if out_gene in home_gene:\n",
    "                mut_genes_multiple[out_gene] = home_gene\n",
    "\n",
    "    mut_genes = out_genes.intersection(home_genes)\n",
    "    \n",
    "    filt_out_profile = out_profile.copy(deep=True).loc[mut_genes.union(pd.Index(mut_genes_multiple.keys()))]\n",
    "    filt_out_profile[\"home_cor_gene\"] = filt_out_profile.index.map(lambda out_gene:get_home_cor_gene(out_gene,mut_genes_multiple,mut_genes))\n",
    "    #mean the duplicates : \n",
    "    filt_out_profile = filt_out_profile.groupby(\"home_cor_gene\").mean()\n",
    "    filt_out_profile.index.names = [\"Gene names\"]\n",
    "    filt_home_profile = home_profile.loc[filt_out_profile.index].reset_index().groupby(\"Gene names\").mean()\n",
    "    \n",
    "    if filter_by_mutual_mixtures : \n",
    "        mutual_mixtures = pd.Index(filt_out_profile.columns).intersection(pd.Index(filt_home_profile.columns))\n",
    "        return  filt_home_profile[mutual_mixtures],filt_out_profile[mutual_mixtures]\n",
    "    return  filt_home_profile,filt_out_profile\n",
    "\n",
    "#keep mutual genes , consider multiple genes with ;,keep mutual mixtures\n",
    "B_intensity,B_gx_ibd = return_corosponding(B_intensity,B_gx_ibd)\n",
    "A_intensity,_ = return_corosponding(A_intensity,B_gx_ibd,False)\n",
    "_,nx_rna_cell_df=return_corosponding(A_intensity,nx_rna_cell_df,False)\n",
    "_,tpm_rna_cell_df=return_corosponding(A_intensity,tpm_rna_cell_df,False)\n",
    "\n",
    "mutual_indexs = B_intensity.index.intersection(B_gx_ibd.index.intersection(nx_rna_cell_df.index.intersection(nx_rna_cell_df.index))) \n",
    "\n",
    "B_intensity,B_gx_ibd,A_intensity,nx_rna_cell_df,tpm_rna_cell_df = B_intensity.loc[mutual_indexs],B_gx_ibd.loc[mutual_indexs],A_intensity.loc[mutual_indexs],nx_rna_cell_df.loc[mutual_indexs],tpm_rna_cell_df.loc[mutual_indexs]\n"
   ]
  },
  {
   "cell_type": "markdown",
   "metadata": {},
   "source": [
    "### rebuild human atlas profile as massSpec profile"
   ]
  },
  {
   "cell_type": "code",
   "execution_count": 15,
   "metadata": {
    "code_folding": [
     0
    ]
   },
   "outputs": [],
   "source": [
    "mass_cell_to_gene_cell_map = {'NOT_BCellmemory': 'memory B-cell',\n",
    "                                  'NOT_BCellnaive' : 'naive B-cell',\n",
    "                                  'NOT_BCellplasma' : None,\n",
    "                                  'NOT_CD4TCellmTregs' : 'T-reg',\n",
    "                                  'NOT_CD4TCellnaive':'naive CD4 T-cell',\n",
    "                                  'NOT_CD4TCellnTregs':'T-reg',\n",
    "                                  'NOT_CD4TCellTcm' : 'memory CD4 T-cell' ,\n",
    "                                  'NOT_CD4TCellTem' : None,\n",
    "                                  'NOT_CD4TCellTemra' :None,\n",
    "                                  'NOT_CD4TCellTh1':None,\n",
    "                                  'NOT_CD4TCellTh17':None,\n",
    "                                  'NOT_CD4TCellTh2':None,\n",
    "                                  'NOT_CD8TCellnaive':'naive CD8 T-cell',\n",
    "                                  'NOT_CD8TCellTcm' : 'memory CD8 T-cell',\n",
    "                                  'NOT_CD8TCellTem' : None ,\n",
    "                                  'NOT_CD8TCellTemra' : None,\n",
    "                                  'NOT_DendriticCD1c' : None,\n",
    "                                  'NOT_DendriticCD304' : None,\n",
    "                                  'NOT_Erythrocytes' : None,\n",
    "                                  'NOT_Monocytesclassical': 'classical monocyte' ,\n",
    "                                  'NOT_Monocytesintermediate' : 'intermediate monocyte',\n",
    "                                  'NOT_Monocytesnonclassical': 'non-classical monocyte',\n",
    "                                  'NOT_NKCellsCD56bright' : 'NK-cell',\n",
    "                                  'NOT_NKCellsCD56dim': 'NK-cell',\n",
    "                                  'NOT_Thrombocytes' : None,\n",
    "                                  'NOT_Granulocyteseosinophils' : \"eosinophil\",\n",
    "                                  'NOT_GranulocytesBasophil' : \"basophil\"}\n",
    "\n",
    "new_mass_cell_to_gene_cell_map = {}\n",
    "for cell_from_profile in A_intensity.columns :\n",
    "    corr_cell_in_map = [c for c in mass_cell_to_gene_cell_map if c in cell_from_profile ]\n",
    "    if len(corr_cell_in_map) == 0 :\n",
    "        new_mass_cell_to_gene_cell_map[cell_from_profile] = None\n",
    "    else :\n",
    "        new_mass_cell_to_gene_cell_map[cell_from_profile] = mass_cell_to_gene_cell_map[corr_cell_in_map[0]]\n",
    "\n",
    "mass_cell_to_gene_cell_map = new_mass_cell_to_gene_cell_map\n",
    "gene_cell_to_mass_cell_map = {v:k for k,v in mass_cell_to_gene_cell_map.items()}\n",
    "\n",
    "nx_rna_cell_df = nx_rna_cell_df.rename(columns=gene_cell_to_mass_cell_map)\n",
    "nx_rna_cell_df = nx_rna_cell_df.loc[:,nx_rna_cell_df.columns.isin(gene_cell_to_mass_cell_map.values())]\n",
    "\n",
    "tpm_rna_cell_df = tpm_rna_cell_df.rename(columns=gene_cell_to_mass_cell_map)\n",
    "tpm_rna_cell_df = tpm_rna_cell_df.loc[:,tpm_rna_cell_df.columns.isin(gene_cell_to_mass_cell_map.values())]"
   ]
  },
  {
   "cell_type": "code",
   "execution_count": 16,
   "metadata": {},
   "outputs": [],
   "source": [
    "# tpm_rna_cell_df\n"
   ]
  },
  {
   "cell_type": "markdown",
   "metadata": {},
   "source": [
    "## read Cytof data per profile matrix (because of label propagation )"
   ]
  },
  {
   "cell_type": "code",
   "execution_count": 17,
   "metadata": {},
   "outputs": [],
   "source": [
    "cytof_label_prop_A_ints = cci.cytof_label_propagation(A_intensity)\n",
    "A_intensity_Cytof_cell,cytof_count_of_A_intensity = cci.return_mass_and_cytof_not_none_cells_counts(A_intensity.T,cytof_label_prop_A_ints)\n",
    "A_intensity_Cytof_cell = A_intensity_Cytof_cell.T"
   ]
  },
  {
   "cell_type": "code",
   "execution_count": 28,
   "metadata": {},
   "outputs": [],
   "source": [
    "# cci.return_mass_and_cytof_not_none_cells_counts(A_intensity.T,filter_by_version='')[1].to_excel(\"Cytof data.xlsx\")"
   ]
  },
  {
   "cell_type": "code",
   "execution_count": 18,
   "metadata": {},
   "outputs": [
    {
     "ename": "RuntimeError",
     "evalue": "No active exception to reraise",
     "output_type": "error",
     "traceback": [
      "\u001b[1;31m---------------------------------------------------------------------------\u001b[0m",
      "\u001b[1;31mRuntimeError\u001b[0m                              Traceback (most recent call last)",
      "\u001b[1;32m<ipython-input-18-9c9a2cba73bf>\u001b[0m in \u001b[0;36m<module>\u001b[1;34m()\u001b[0m\n\u001b[1;32m----> 1\u001b[1;33m \u001b[1;32mraise\u001b[0m\u001b[1;33m\u001b[0m\u001b[0m\n\u001b[0m",
      "\u001b[1;31mRuntimeError\u001b[0m: No active exception to reraise"
     ]
    }
   ],
   "source": [
    "# raise"
   ]
  },
  {
   "cell_type": "code",
   "execution_count": null,
   "metadata": {},
   "outputs": [],
   "source": [
    "# cytof_count_of_A_intensity.to_excel(\"Cytof data\")"
   ]
  },
  {
   "cell_type": "code",
   "execution_count": null,
   "metadata": {},
   "outputs": [],
   "source": [
    "nx_rna_Cytof_cell,cytof_count_of_nx_rna = cci.return_mass_and_cytof_not_none_cells_counts(nx_rna_cell_df.T,filter_by_version=\"\",is_mean_agg=True)\n",
    "nx_rna_Cytof_cell = nx_rna_Cytof_cell.T\n",
    "\n",
    "tpm_rna_Cytof_cell,cytof_count_of_tpm_rna = cci.return_mass_and_cytof_not_none_cells_counts(tpm_rna_cell_df.T,filter_by_version=\"\",is_mean_agg=True)\n",
    "tpm_rna_Cytof_cell = tpm_rna_Cytof_cell.T"
   ]
  },
  {
   "cell_type": "code",
   "execution_count": null,
   "metadata": {},
   "outputs": [],
   "source": [
    "def read_granulocytes_proportions(path=r\"C:\\Repos\\deconv_py\\deconv_py\\infras\\cytof_data\\raw_data\\filtered.esetALL.CyTOF.abundance.only.xlsx\"):\n",
    "    # the cluster from the citros we took is all the granulocytes!!! so the proportion of the granulocytes in the mixture is all there is\n",
    "    all_data =  pd.read_excel(cytof_data_path).rename(columns = {'Unnamed: 0' : \"mixtures\"}).set_index(\"mixtures\")\n",
    "    return all_data[[\"GR.TOTAL\",\"PB.TOTAL\"]]\n",
    "gran_proportions = read_granulocytes_proportions()\n"
   ]
  },
  {
   "cell_type": "code",
   "execution_count": null,
   "metadata": {},
   "outputs": [],
   "source": [
    "cytof_count_of_A_intensity = cytof_count_of_A_intensity.rename(columns = {col:return_low_case(col.split(\"-\")[1],col.split(\"-\")[2][1]) for col in cytof_count_of_A_intensity.columns})\n",
    "cytof_count_of_nx_rna = cytof_count_of_nx_rna.rename(columns = {col:return_low_case(col.split(\"-\")[1],col.split(\"-\")[2][1]) for col in cytof_count_of_nx_rna.columns})\n",
    "cytof_count_of_tpm_rna = cytof_count_of_tpm_rna.rename(columns = {col:return_low_case(col.split(\"-\")[1],col.split(\"-\")[2][1]) for col in cytof_count_of_tpm_rna.columns})"
   ]
  },
  {
   "cell_type": "code",
   "execution_count": null,
   "metadata": {},
   "outputs": [],
   "source": [
    "gran_proportions = gran_proportions.rename(index = {col:return_low_case(col.split(\"-\")[1],col.split(\"-\")[2][1]) for col in gran_proportions.index})"
   ]
  },
  {
   "cell_type": "markdown",
   "metadata": {},
   "source": [
    "# code base"
   ]
  },
  {
   "cell_type": "code",
   "execution_count": null,
   "metadata": {
    "code_folding": []
   },
   "outputs": [],
   "source": [
    "def plot_expcted_mixtures_vs_real_mixtures(expcted_mixtures,real_mixtures,percantile_to_take = 1,lims = [[-1,30],[4,21]],as_log=True,correlation_type =  \"spearman\"):\n",
    "    fig, axs = plt.subplots(math.ceil(len(expcted_mixtures.columns)/2),2,figsize=(15,45))\n",
    "\n",
    "    for mixture,ax in zip(expcted_mixtures.columns,axs.reshape(-1)) :\n",
    "        if mixture not in real_mixtures : \n",
    "            continue\n",
    "        \n",
    "        expcted_mixture_expression = expcted_mixtures[mixture]\n",
    "        real_mixture_expression = real_mixtures[mixture]\n",
    "        \n",
    "        exp_robust = expcted_mixtures[expcted_mixtures <= expcted_mixtures.quantile(percantile_to_take)].dropna().index\n",
    "        B_robust = real_mixtures[real_mixtures <= real_mixtures.quantile(percantile_to_take)].dropna().index\n",
    "        mutual_robust = exp_robust.intersection(B_robust)\n",
    "        \n",
    "        expcted_mixture_expression = expcted_mixture_expression.loc[mutual_robust]\n",
    "        real_mixture_expression = real_mixture_expression.loc[mutual_robust]\n",
    "        \n",
    "        if as_log : \n",
    "            x = np.log(1+expcted_mixture_expression)\n",
    "            y = np.log(1+real_mixture_expression)\n",
    "        else : \n",
    "            x = expcted_mixture_expression\n",
    "            y = real_mixture_expression\n",
    "\n",
    "        correlation_with_out_zeros = np.round(real_mixture_expression[x != 0].corr(expcted_mixture_expression[x != 0],method=correlation_type),3)\n",
    "        xy = np.vstack([x,y])\n",
    "        z = gaussian_kde(xy)(xy)\n",
    "\n",
    "        ax.scatter(x, y, c=z,s=100)\n",
    "        ax.set_title(f\"{mixture}, {correlation_type} of non zeros(real not log) : {correlation_with_out_zeros}\")\n",
    "        ax.set_xlabel(\"log(1+expcted)\")\n",
    "        ax.set_ylabel(\"log(1+real)\")\n",
    "        \n",
    "        if lims is not None : \n",
    "            ax.set_xlim(lims[0])\n",
    "            ax.set_ylim(lims[1])\n",
    "    print(\"here\")\n",
    "    plt.show()\n",
    "    plt.subplots_adjust(hspace=0.5)  "
   ]
  },
  {
   "cell_type": "code",
   "execution_count": null,
   "metadata": {
    "code_folding": [],
    "scrolled": false
   },
   "outputs": [],
   "source": [
    "def plot_expcted_mixtures_vs_real_mixtures_with_intravar_filter(expcted_mixtures,real_mixtures,percantile_to_take = 1,lims = [[-1,30],[4,21]],as_log=True,correlation_type =  \"spearman\"):    \n",
    "    melted_expcted_mixtures = pd.melt(expcted_mixtures.reset_index(),id_vars=\"Gene names\").set_index([\"Gene names\",\"mixtures\"])[\"value\"]\n",
    "    melted_real_mixtures = pd.melt(real_mixtures.reset_index(),id_vars=\"Gene names\").rename(columns = {\"variable\":\"mixtures\"}).set_index([\"Gene names\",\"mixtures\"])[\"value\"]\n",
    "\n",
    "    exp_robust = melted_expcted_mixtures[melted_expcted_mixtures <= melted_expcted_mixtures.quantile(percantile_to_take)].dropna().index\n",
    "    B_robust = melted_real_mixtures[melted_real_mixtures <= melted_real_mixtures.quantile(percantile_to_take)].dropna().index\n",
    "    mutual_robust = exp_robust.intersection(B_robust)\n",
    "\n",
    "    melted_expcted_mixtures = melted_expcted_mixtures.loc[mutual_robust]\n",
    "    melted_real_mixtures = melted_real_mixtures.loc[mutual_robust]\n",
    "\n",
    "    \n",
    "    if as_log : \n",
    "        x = np.log(1+melted_expcted_mixtures)\n",
    "        y = np.log(1+melted_real_mixtures)\n",
    "    else : \n",
    "        x = melted_expcted_mixtures\n",
    "        y = melted_real_mixtures\n",
    "    \n",
    "    correlation_with_out_zeros = np.round(melted_real_mixtures[x != 0].corr(melted_expcted_mixtures[x != 0],method=correlation_type),3)\n",
    "    xy = np.vstack([x,y])\n",
    "    z = gaussian_kde(xy)(xy)\n",
    "    \n",
    "    fig, axs = plt.subplots(3,1)\n",
    "\n",
    "    axs[0].scatter(x, y, c=z,s=100)\n",
    "    axs[0].set_title(f\" {correlation_type} of non zeros(real not log) : {correlation_with_out_zeros}\")\n",
    "    axs[0].set_xlabel(\"log(1+expcted)\")\n",
    "    axs[0].set_ylabel(\"log(1+real)\")\n",
    "\n",
    "    if lims is not None : \n",
    "        axs[0].set_xlim(lims[0])\n",
    "        axs[0].set_ylim(lims[1])\n",
    "\n",
    "    plt.subplots_adjust(hspace=0.9)  "
   ]
  },
  {
   "cell_type": "code",
   "execution_count": null,
   "metadata": {
    "code_folding": []
   },
   "outputs": [],
   "source": [
    "def corr_expcted_vs_mixture(expcted_b,B,method  = \"pearson\",n_to_take = 10):\n",
    "    corr_per_mixture_df = pd.DataFrame(index= B.columns)\n",
    "\n",
    "    for i in np.linspace(0.45,0.95,10) :\n",
    "        trh = round(i,2)\n",
    "\n",
    "        for mixture_idx in B:\n",
    "            mixture =np.log2(B[mixture_idx])\n",
    "            mixture = B[mixture_idx]\n",
    "            mixture[B[mixture_idx] == 0] = 0\n",
    "            mixture_trh = mixture.quantile(trh)\n",
    "            relevant_proteins = mixture[mixture>mixture_trh].index\n",
    "\n",
    "            _expcted_b = np.log2(expcted_b[mixture_idx])\n",
    "            _expcted_b = expcted_b[mixture_idx]\n",
    "            _expcted_b[expcted_b[mixture_idx] ==0] = 0\n",
    "            corr = _expcted_b.loc[relevant_proteins].corr(mixture.loc[relevant_proteins],method = method)\n",
    "            corr_per_mixture_df.ix[mixture_idx,trh] = corr\n",
    "    corr_per_mixture_df.T.sample(n=n_to_take,axis=1).plot(title=f\"correlation mixture vs expcted_mixture - {method}\")"
   ]
  },
  {
   "cell_type": "markdown",
   "metadata": {},
   "source": [
    "# protein figures"
   ]
  },
  {
   "cell_type": "markdown",
   "metadata": {},
   "source": [
    "## build expected mixtures"
   ]
  },
  {
   "cell_type": "code",
   "execution_count": null,
   "metadata": {},
   "outputs": [],
   "source": [
    "expected_mixtures_intensity =  A_intensity_Cytof_cell.dot(cytof_count_of_A_intensity)"
   ]
  },
  {
   "cell_type": "markdown",
   "metadata": {},
   "source": [
    "## protein profile with  cytof to protein - no Total counts"
   ]
  },
  {
   "cell_type": "markdown",
   "metadata": {
    "heading_collapsed": true
   },
   "source": [
    "### expected_mixtures vs real_mixtures"
   ]
  },
  {
   "cell_type": "code",
   "execution_count": null,
   "metadata": {
    "hidden": true,
    "scrolled": false
   },
   "outputs": [],
   "source": [
    "plot_expcted_mixtures_vs_real_mixtures(expected_mixtures_intensity,B_intensity)\n",
    "# plt.savefig(\"save_me_to_the_end_of_time\")"
   ]
  },
  {
   "cell_type": "markdown",
   "metadata": {
    "heading_collapsed": true
   },
   "source": [
    "### expected_mixtures vs real_mixtures - top 90%"
   ]
  },
  {
   "cell_type": "code",
   "execution_count": null,
   "metadata": {
    "hidden": true,
    "scrolled": true
   },
   "outputs": [],
   "source": [
    "plot_expcted_mixtures_vs_real_mixtures(expected_mixtures_intensity,B_intensity,percantile_to_take=0.9)"
   ]
  },
  {
   "cell_type": "markdown",
   "metadata": {
    "heading_collapsed": true
   },
   "source": [
    "### correlation per percentile expected_mixtures vs real_mixtures"
   ]
  },
  {
   "cell_type": "code",
   "execution_count": null,
   "metadata": {
    "hidden": true
   },
   "outputs": [],
   "source": [
    "corr_expcted_vs_mixture(expected_mixtures_intensity,B_intensity[expected_mixtures_intensity.columns],n_to_take=6)"
   ]
  },
  {
   "cell_type": "markdown",
   "metadata": {},
   "source": [
    "## protein profile with  cytof to protein - with Total counts"
   ]
  },
  {
   "cell_type": "markdown",
   "metadata": {
    "heading_collapsed": true
   },
   "source": [
    "### rebuild profile with total counts"
   ]
  },
  {
   "cell_type": "code",
   "execution_count": null,
   "metadata": {
    "code_folding": [
     0
    ],
    "hidden": true,
    "scrolled": true
   },
   "outputs": [],
   "source": [
    "def return_tc(cell,total_counts_map) : \n",
    "    for c_type,count in total_counts_map.items() : \n",
    "        if c_type in cell :\n",
    "            return count\n",
    "    return 1\n",
    "\n",
    "_total_counts_map = {\"B\":94.01,\"4\":13.71,\n",
    "                    \"CD8\":19.39,\"Monocyt\":28.97}\n",
    "specific_cell_to_tc = {cell:return_tc(cell,_total_counts_map) for cell in A_intensity_Cytof_cell.columns}\n",
    "\n",
    "A_intensity_Cytof_cell_tc = A_intensity_Cytof_cell.copy(deep=True)\n",
    "\n",
    "for cell in A_intensity_Cytof_cell_tc.columns : \n",
    "    A_intensity_Cytof_cell_tc[cell] = A_intensity_Cytof_cell_tc[cell] * specific_cell_to_tc[cell]"
   ]
  },
  {
   "cell_type": "markdown",
   "metadata": {
    "heading_collapsed": true
   },
   "source": [
    "### build expected mixtures"
   ]
  },
  {
   "cell_type": "code",
   "execution_count": null,
   "metadata": {
    "hidden": true
   },
   "outputs": [],
   "source": [
    "expected_mixtures_intensity_tc =  A_intensity_Cytof_cell_tc.dot(cytof_count_of_A_intensity)"
   ]
  },
  {
   "cell_type": "markdown",
   "metadata": {},
   "source": [
    "### expected_mixtures vs real_mixtures"
   ]
  },
  {
   "cell_type": "code",
   "execution_count": null,
   "metadata": {
    "scrolled": false
   },
   "outputs": [],
   "source": [
    "plot_expcted_mixtures_vs_real_mixtures(expected_mixtures_intensity_tc,B_intensity,lims = None)"
   ]
  },
  {
   "cell_type": "markdown",
   "metadata": {
    "heading_collapsed": true
   },
   "source": [
    "### expected_mixtures vs real_mixtures - top 90%"
   ]
  },
  {
   "cell_type": "code",
   "execution_count": null,
   "metadata": {
    "hidden": true,
    "scrolled": true
   },
   "outputs": [],
   "source": [
    "plot_expcted_mixtures_vs_real_mixtures(expected_mixtures_intensity_tc,B_intensity,lims = None,percantile_to_take=0.9)"
   ]
  },
  {
   "cell_type": "markdown",
   "metadata": {},
   "source": [
    "### gene across paitents"
   ]
  },
  {
   "cell_type": "code",
   "execution_count": null,
   "metadata": {},
   "outputs": [],
   "source": [
    "melted_expcted_mixtures = pd.melt(expected_mixtures_intensity_tc.reset_index(),id_vars=\"Gene names\").set_index([\"Gene names\",\"mixtures\"])[\"value\"]\n",
    "melted_real_mixtures = pd.melt(B_intensity.reset_index(),id_vars=\"Gene names\").rename(columns = {\"variable\":\"mixtures\"}).set_index([\"Gene names\",\"mixtures\"])[\"value\"]\n"
   ]
  },
  {
   "cell_type": "code",
   "execution_count": null,
   "metadata": {},
   "outputs": [],
   "source": [
    "corr_list = [] \n",
    "corrd_list = []\n",
    "for gene in expected_mixtures_intensity_tc.index : \n",
    "    exp_gene = expected_mixtures_intensity_tc.loc[gene].sort_index()\n",
    "    real_gene = B_intensity.loc[gene].sort_index()\n",
    "    \n",
    "    mutual_mix = exp_gene.index.intersection(real_gene.index)\n",
    "    if mutual_mix.shape[0] < 20 : continue\n",
    "    \n",
    "    exp_gene =  exp_gene.loc[mutual_mix]\n",
    "    real_gene = real_gene.loc[mutual_mix]\n",
    "    \n",
    "#     exp_gene = exp_gene.map(lambda x : x > exp_gene.median()).astype(int)\n",
    "#     real_gene = real_gene.map(lambda x : x > real_gene.median()).astype(int)\n",
    "#     real_gene\n",
    "    \n",
    "    corr = np.log(1+ exp_gene).corr(np.log(1 + real_gene),method=\"spearman\")\n",
    "    corr_list.append(corr)\n",
    "#     corrd_list.append(list(zip(np.log(1+ exp_gene).values,np.log(1 + real_gene).values)))\n",
    "#     raise"
   ]
  },
  {
   "cell_type": "code",
   "execution_count": null,
   "metadata": {},
   "outputs": [],
   "source": []
  },
  {
   "cell_type": "code",
   "execution_count": null,
   "metadata": {
    "scrolled": true
   },
   "outputs": [],
   "source": [
    "# import itertools\n",
    "# all_corrds = list(itertools.chain(*corrd_list))\n",
    "# all_corrds_df = pd.DataFrame(all_corrds).head(50000)\n",
    "\n",
    "# x = all_corrds_df[0]\n",
    "# y = all_corrds_df[1]\n",
    "# xy = np.vstack([x,y])\n",
    "# z = gaussian_kde(xy)(xy)\n",
    "\n",
    "# fig, axs = plt.subplots(1,1)\n",
    "\n",
    "# axs.scatter(x, y, c=z,s=100)"
   ]
  },
  {
   "cell_type": "code",
   "execution_count": null,
   "metadata": {},
   "outputs": [],
   "source": [
    "plt.hist(corr_list)"
   ]
  },
  {
   "cell_type": "code",
   "execution_count": null,
   "metadata": {},
   "outputs": [],
   "source": [
    "high_low_limits_for_cytof = {\n",
    "    \"B cells \":[0.05,0.11],\n",
    "    \"CD4+ effector memory T cells\":[0.17,0.26],\n",
    "    \"CD8+ effector memory T cells\":[0.08,0.18],\n",
    "    \"Monocytes\":[0.15,0.33],\n",
    "    \"NK\":[0.07,0.13],\n",
    "    \"Na?ve CD4 Tcell\":[0.17,0.27],\n",
    "    \"Na?ve CD8 Tcell\":[0.055,0.150],\n",
    "    \"Plasmacytoid dendritic cells\":[0.01,0.02]\n",
    "}\n",
    "\n",
    "new_list = [] \n",
    "for cell,samples_values in cytof_count_of_A_intensity.iterrows():\n",
    "    low_trh,high_trh = high_low_limits_for_cytof[cell] \n",
    "    new_list.append(samples_values.map(lambda x: 0 if x < low_trh else ( 2 if x > high_trh else 1) ))\n",
    "quantified_cytof_count = pd.concat(new_list,axis=1).T\n"
   ]
  },
  {
   "cell_type": "code",
   "execution_count": null,
   "metadata": {},
   "outputs": [],
   "source": [
    "expected_mixtures_intensity_tc\n",
    "quantified_cytof_count\n",
    "for cell in quantified_cytof_count.index"
   ]
  },
  {
   "cell_type": "markdown",
   "metadata": {
    "heading_collapsed": true
   },
   "source": [
    "# mRNA figures"
   ]
  },
  {
   "cell_type": "markdown",
   "metadata": {
    "hidden": true
   },
   "source": [
    "## mrna profile with  cytof to mrna - no Total counts"
   ]
  },
  {
   "cell_type": "markdown",
   "metadata": {
    "hidden": true
   },
   "source": [
    "### build mixtures with the granulocytes proportions"
   ]
  },
  {
   "cell_type": "code",
   "execution_count": null,
   "metadata": {
    "hidden": true
   },
   "outputs": [],
   "source": [
    "nx_rna_granulocytes = nx_rna_cell_df_tc[['eosinophil','basophil','neutrophil']].mean(axis=1)\n",
    "tpm_rna_granulocytes = tpm_rna_cell_df_tc[['eosinophil','basophil','neutrophil']].mean(axis=1)"
   ]
  },
  {
   "cell_type": "markdown",
   "metadata": {
    "hidden": true
   },
   "source": [
    "###  build expected mixtures"
   ]
  },
  {
   "cell_type": "code",
   "execution_count": null,
   "metadata": {
    "hidden": true
   },
   "outputs": [],
   "source": [
    "granulocytes_part_nx=pd.DataFrame(data = nx_rna_granulocytes[:,np.newaxis].dot(gran_proportions[\"GR.TOTAL\"][:,np.newaxis].T),columns=gran_proportions.index,index=nx_rna_granulocytes.index)\n",
    "pb_part_nx = nx_rna_Cytof_cell.dot(cytof_count_of_nx_rna)*gran_proportions[\"PB.TOTAL\"]\n",
    "\n",
    "granulocytes_part_tpm=pd.DataFrame(data = tpm_rna_granulocytes[:,np.newaxis].dot(gran_proportions[\"GR.TOTAL\"][:,np.newaxis].T),columns=gran_proportions.index,index=tpm_rna_granulocytes.index)\n",
    "pb_part_tpm = tpm_rna_Cytof_cell.dot(cytof_count_of_tpm_rna)*gran_proportions[\"PB.TOTAL\"]\n",
    "\n",
    "mutual_genes = granulocytes_part_nx.index.intersection(granulocytes_part_nx.index)\n",
    "\n",
    "expected_mixtures_nx_rna = pb_part_nx.reindex(mutual_genes)  + granulocytes_part_nx.reindex(mutual_genes)\n",
    "expected_mixtures_tpm_rna = pb_part_tpm.reindex(mutual_genes)  + granulocytes_part_tpm.reindex(mutual_genes)"
   ]
  },
  {
   "cell_type": "code",
   "execution_count": null,
   "metadata": {
    "hidden": true
   },
   "outputs": [],
   "source": [
    "gran_proportions[\"GR.TOTAL\"] + cytof_count_of_nx_rna*gran_proportions[\"PB.TOTAL\"]"
   ]
  },
  {
   "cell_type": "markdown",
   "metadata": {
    "hidden": true
   },
   "source": [
    "### expected_mixtures vs real_mixtures"
   ]
  },
  {
   "cell_type": "code",
   "execution_count": null,
   "metadata": {
    "hidden": true,
    "scrolled": false
   },
   "outputs": [],
   "source": [
    "norm_method = \"nx\"\n",
    "\n",
    "_B_gx_ibd = B_gx_ibd.copy()[[col for col  in B_gx_ibd.columns if (\"v1\" in col)]]\n",
    "if norm_method == \"nx\" :\n",
    "    _expected_mixtures_nx_rna = expected_mixtures_nx_rna[_B_gx_ibd.columns]\n",
    "    plot_expcted_mixtures_vs_real_mixtures(_expected_mixtures_nx_rna,_B_gx_ibd,as_log=True,lims = [[-1,10],[-1,15]],correlation_type =  \"pearson\")\n",
    "\n",
    "if norm_method == \"tpm\" :\n",
    "    _expected_mixtures_tpm_rna = expected_mixtures_tpm_rna[_B_gx_ibd.columns]\n",
    "    plot_expcted_mixtures_vs_real_mixtures(_expected_mixtures_tpm_rna,_B_gx_ibd,as_log=True,correlation_type =  \"pearson\")"
   ]
  },
  {
   "cell_type": "markdown",
   "metadata": {
    "hidden": true
   },
   "source": [
    "## mrna profile with  cytof to mrna - with Total counts"
   ]
  },
  {
   "cell_type": "code",
   "execution_count": null,
   "metadata": {
    "hidden": true
   },
   "outputs": [],
   "source": []
  },
  {
   "cell_type": "markdown",
   "metadata": {},
   "source": [
    "# mixed "
   ]
  },
  {
   "cell_type": "markdown",
   "metadata": {},
   "source": [
    "## mrna profile with cytof to protein "
   ]
  },
  {
   "cell_type": "code",
   "execution_count": null,
   "metadata": {
    "scrolled": true
   },
   "outputs": [],
   "source": [
    "rel_col = [col for col in expected_mixtures_nx_rna.columns if \"v1\" in  col ]\n",
    "plot_expcted_mixtures_vs_real_mixtures(expected_mixtures_nx_rna[rel_col],B_intensity[rel_col],lims = [[-1,10],[-1,30]],correlation_type =  \"pearson\")"
   ]
  },
  {
   "cell_type": "markdown",
   "metadata": {},
   "source": [
    "## mrna profile with cytof to protein"
   ]
  },
  {
   "cell_type": "code",
   "execution_count": null,
   "metadata": {
    "scrolled": true
   },
   "outputs": [],
   "source": [
    "plot_expcted_mixtures_vs_real_mixtures(expected_mixtures_intensity,B_gx_ibd,lims=None)"
   ]
  },
  {
   "cell_type": "markdown",
   "metadata": {},
   "source": [
    "# test - comparing the two signatures"
   ]
  },
  {
   "cell_type": "code",
   "execution_count": null,
   "metadata": {},
   "outputs": [],
   "source": [
    "plt.plot(seq_data, chance_to_zero, 'k-')\n",
    "# plt.fill_between(x, y-error, y+error)\n",
    "plt.xlabel(\"protein counts\")\n",
    "plt.ylabel(\"chance to zero\")\n",
    "plt.show()"
   ]
  },
  {
   "cell_type": "code",
   "execution_count": null,
   "metadata": {},
   "outputs": [],
   "source": []
  }
 ],
 "metadata": {
  "hide_input": false,
  "kernelspec": {
   "display_name": "Python 3",
   "language": "python",
   "name": "python3"
  },
  "language_info": {
   "codemirror_mode": {
    "name": "ipython",
    "version": 3
   },
   "file_extension": ".py",
   "mimetype": "text/x-python",
   "name": "python",
   "nbconvert_exporter": "python",
   "pygments_lexer": "ipython3",
   "version": "3.6.5"
  },
  "toc": {
   "base_numbering": 1,
   "nav_menu": {},
   "number_sections": true,
   "sideBar": true,
   "skip_h1_title": false,
   "title_cell": "Table of Contents",
   "title_sidebar": "Contents",
   "toc_cell": false,
   "toc_position": {},
   "toc_section_display": true,
   "toc_window_display": false
  }
 },
 "nbformat": 4,
 "nbformat_minor": 2
}
