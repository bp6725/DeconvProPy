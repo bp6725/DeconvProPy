{
 "cells": [
  {
   "cell_type": "code",
   "execution_count": 1,
   "metadata": {},
   "outputs": [],
   "source": [
    "import os\n",
    "import sys\n",
    "import pandas as pd\n",
    "import numpy as np\n",
    "from functools import reduce\n",
    "import matplotlib.pyplot as plt"
   ]
  },
  {
   "cell_type": "code",
   "execution_count": 2,
   "metadata": {},
   "outputs": [],
   "source": [
    "import sys\n",
    "sys.path.append('../../../../')\n",
    "sys.path.append('../../../infras/cellMix/')\n",
    "sys.path.append('../../../infras/cytof_data/')\n",
    "sys.path.append('../../../infras/')\n",
    "sys.path.append('../../../infras/dashboards/')\n",
    "sys.path.append('../../../experiments/')\n",
    "sys.path.append('../../../experiments/pipeline/')\n",
    "sys.path.append('../../../preprocess/intra_variance/')\n",
    "sys.path.append('../../../models/cell_proportions/')\n",
    "sys.path.append('../../../measures/cell_proportions_measures/')\n",
    "sys.path.append('../../../preprocess/cell_specifics/')\n",
    "\n",
    "from data_factory import DataFactory\n",
    "from global_utils import GlobalUtils\n",
    "from aggregate_intra_variance import AggregateIntraVariance"
   ]
  },
  {
   "cell_type": "code",
   "execution_count": 3,
   "metadata": {},
   "outputs": [],
   "source": [
    "intensity_type = \"INTENSITY\""
   ]
  },
  {
   "cell_type": "code",
   "execution_count": 4,
   "metadata": {},
   "outputs": [
    {
     "name": "stderr",
     "output_type": "stream",
     "text": [
      "C:\\ProgramData\\Anaconda3\\lib\\site-packages\\IPython\\kernel\\__main__.py:2: DtypeWarning: Columns (5,6,2764,2765,2773,2774,2775,2776) have mixed types. Specify dtype option on import or set low_memory=False.\n",
      "  from ipykernel import kernelapp as app\n"
     ]
    }
   ],
   "source": [
    "data_factory = DataFactory()\n",
    "A_all_vs,B_all_vs = data_factory.load_IBD_all_vs(\"Intensity\",log2_transformation=True,with_granulocytes=True)\n",
    "\n",
    "pbmc_cels = ['BCellmemory', 'BCellnaive', 'BCellplasma', 'CD4TCellmTregs', 'CD4TCellnaive', 'CD4TCellnTregs', 'CD4TCellTcm', 'CD4TCellTem', 'CD4TCellTemra', 'CD4TCellTh1', 'CD4TCellTh17', 'CD4TCellTh2', 'CD8TCellnaive', 'CD8TCellTcm', 'CD8TCellTem', 'CD8TCellTemra', 'DendriticCD1c', 'DendriticCD304', 'Erythrocytes','Monocytesclassical', 'Monocytesintermediate', 'Monocytesnonclassical', 'NKCellsCD56bright', 'NKCellsCD56dim', 'Thrombocytes']\n",
    "gran_cells = [ 'GranulocytesBasophil', 'Granulocyteseosinophils', 'Granulocytesneutrophils']"
   ]
  },
  {
   "cell_type": "code",
   "execution_count": 5,
   "metadata": {},
   "outputs": [],
   "source": [
    "agg_iv = AggregateIntraVariance(how = \"max\")\n",
    "A,B = agg_iv.transform([A_all_vs,A_all_vs])\n",
    "mapping = GlobalUtils.get_corospanding_cell_map_from_lists(A.columns,pbmc_cels + gran_cells)\n",
    "\n",
    "A = A.rename(columns=mapping)"
   ]
  },
  {
   "cell_type": "code",
   "execution_count": 13,
   "metadata": {},
   "outputs": [],
   "source": [
    "rest = (A[pbmc_cels] ==0).all(axis=1)\n",
    "idx_per_gran = {} \n",
    "\n",
    "for g_cell in gran_cells : \n",
    "    relvent_to_cell =  (A[g_cell] > 0)\n",
    "    idx_per_gran[g_cell] = A.loc[relvent_to_cell & rest].index\n",
    "#     print(idx_per_gran[g_cell])\n"
   ]
  },
  {
   "cell_type": "code",
   "execution_count": 14,
   "metadata": {},
   "outputs": [
    {
     "name": "stderr",
     "output_type": "stream",
     "text": [
      "C:\\ProgramData\\Anaconda3\\lib\\site-packages\\IPython\\kernel\\__main__.py:3: FutureWarning: \n",
      "Passing list-likes to .loc or [] with any missing label will raise\n",
      "KeyError in the future, you can use .reindex() as an alternative.\n",
      "\n",
      "See the documentation here:\n",
      "https://pandas.pydata.org/pandas-docs/stable/user_guide/indexing.html#deprecate-loc-reindex-listlike\n",
      "  app.launch_new_instance()\n"
     ]
    }
   ],
   "source": [
    "gran_cells_in_mixtures = {}\n",
    "for gran_cell,idxs in idx_per_gran.items() : \n",
    "    gran_cells_in_mixtures[gran_cell] = B_all_vs.loc[idxs].dropna()"
   ]
  },
  {
   "cell_type": "code",
   "execution_count": 39,
   "metadata": {
    "scrolled": true
   },
   "outputs": [
    {
     "name": "stdout",
     "output_type": "stream",
     "text": [
      "mixture 24_v1, Granulocyteseosinophils , percantile of unique genes : [0.5543274634694643, 0.020606968902210566]\n",
      "mixture 24_v2, Granulocyteseosinophils , percantile of unique genes : [0.5138628699887599, 0.04496065942300487]\n",
      "mixture 24_v3, Granulocyteseosinophils , percantile of unique genes : [0.4409891345073061, 0.20288497564630947]\n",
      "mixture 26_v1, Granulocyteseosinophils , percantile of unique genes : [0.36155863619333084, 0.41307605844885725]\n",
      "mixture 26_v2, Granulocyteseosinophils , percantile of unique genes : [0.4484825777444736, 0.24597227426002247]\n",
      "mixture 26_v3, Granulocyteseosinophils , percantile of unique genes : [0.3345822405395279, 0.2860621955788685]\n",
      "mixture 27_v1, Granulocyteseosinophils , percantile of unique genes : [0.4945672536530536, 0.03484451105282878]\n",
      "mixture 27_v2, Granulocyteseosinophils , percantile of unique genes : [0.44642188085425255, 0.005432746346946422]\n",
      "mixture 27_v3, Granulocyteseosinophils , percantile of unique genes : [0.46740352191832146, 0.035406519295616334]\n",
      "mixture 28_v1, Granulocyteseosinophils , percantile of unique genes : [0.3132259273136006, 0.4042712626451855]\n",
      "mixture 28_v2, Granulocyteseosinophils , percantile of unique genes : [0.5417759460472087, 0.258523791682278]\n",
      "mixture 28_v3, Granulocyteseosinophils , percantile of unique genes : [0.4383664293742975, 0.2225552641438741]\n",
      "mixture 29_v1, Granulocyteseosinophils , percantile of unique genes : [0.4499812663919071, 0.07025103034844511]\n",
      "mixture 29_v2, Granulocyteseosinophils , percantile of unique genes : [0.2750093668040465, 0.08823529411764706]\n",
      "mixture 29_v3, Granulocyteseosinophils , percantile of unique genes : [0.31509928812289245, 0.11671037841888347]\n",
      "mixture 30_v1, Granulocyteseosinophils , percantile of unique genes : [0.4662795054327463, 0.20157362307980517]\n",
      "mixture 30_v2, Granulocyteseosinophils , percantile of unique genes : [0.48501311352566506, 0.34076433121019106]\n",
      "mixture 30_v3, Granulocyteseosinophils , percantile of unique genes : [0.5314724615961034, 0.0073061071562382915]\n",
      "mixture 31_v1, Granulocyteseosinophils , percantile of unique genes : [0.4554140127388535, 0.2356687898089172]\n",
      "mixture 31_v2, Granulocyteseosinophils , percantile of unique genes : [0.15005620082427876, 0.3006744098913451]\n",
      "mixture 31_v3, Granulocyteseosinophils , percantile of unique genes : [0.4136380666916448, 0.027538403896590482]\n",
      "mixture 32_v1, Granulocyteseosinophils , percantile of unique genes : [0.3544398651180217, 0.3894717122517797]\n",
      "mixture 32_v2, Granulocyteseosinophils , percantile of unique genes : [0.4042712626451855, 0.32259273136005995]\n",
      "mixture 32_v3, Granulocyteseosinophils , percantile of unique genes : [0.5814911952041963, 0.33982765080554517]\n",
      "mixture 44_v1, Granulocyteseosinophils , percantile of unique genes : [0.3107905582615212, 0.09385537654552267]\n",
      "mixture 44_v2, Granulocyteseosinophils , percantile of unique genes : [0.5414012738853503, 0.19782690146122142]\n",
      "mixture 44_v3, Granulocyteseosinophils , percantile of unique genes : [0.5177969276882728, 0.21056575496440613]\n",
      "mixture 46_v1, Granulocyteseosinophils , percantile of unique genes : [0.4953165979767703, 0.14743349569127015]\n",
      "mixture 46_v2_190716164330, Granulocyteseosinophils , percantile of unique genes : [0.4424878231547396, 0.12907455976020982]\n",
      "mixture 46_v3, Granulocyteseosinophils , percantile of unique genes : [0.5125515174222556, 0.1346946421880854]\n",
      "mixture 47_v1, Granulocyteseosinophils , percantile of unique genes : [0.3621206444361184, 0.005245410266017235]\n",
      "mixture 47_v2, Granulocyteseosinophils , percantile of unique genes : [0.5354065192956163, 0.018358935931060322]\n",
      "mixture 47_v3, Granulocyteseosinophils , percantile of unique genes : [0.5713750468340202, 0.04683402023229674]\n",
      "mixture 48_v1, Granulocyteseosinophils , percantile of unique genes : [0.4237542150618209, 0.266579243162233]\n",
      "mixture 48_v2, Granulocyteseosinophils , percantile of unique genes : [0.5393405769951293, 0.1337579617834395]\n",
      "mixture 48_v3, Granulocyteseosinophils , percantile of unique genes : [0.1622330460846759, 0.30666916448107906]\n",
      "mixture 20_v1, Granulocyteseosinophils , percantile of unique genes : [0.07980517047583364, 0.34600974147620833]\n",
      "mixture 20_v2, Granulocyteseosinophils , percantile of unique genes : [0.0215436493068565, 0.401835893593106]\n",
      "mixture 20_v3, Granulocyteseosinophils , percantile of unique genes : [0.4955039340576995, 0.11446234544773323]\n",
      "mixture 21_v1, Granulocyteseosinophils , percantile of unique genes : [0.4737729486699138, 0.04514799550393406]\n",
      "mixture 21_v2, Granulocyteseosinophils , percantile of unique genes : [0.5466466841513675, 0.006556762832521544]\n",
      "mixture 21_v3, Granulocyteseosinophils , percantile of unique genes : [0.49644061446234544, 0.017609591607343576]\n",
      "mixture 22_v1, Granulocyteseosinophils , percantile of unique genes : [0.4552266766579243, 0.024166354439865118]\n",
      "mixture 22_v2, Granulocyteseosinophils , percantile of unique genes : [0.4790183589359311, 0.1451854627201199]\n",
      "mixture 22_v3, Granulocyteseosinophils , percantile of unique genes : [0.5346571749718996, 0.13600599475458974]\n",
      "mixture 23_v1, Granulocyteseosinophils , percantile of unique genes : [0.19632821281378793, 0.11090295991007867]\n",
      "mixture 23_v2, Granulocyteseosinophils , percantile of unique genes : [0.4818284001498689, 0.011427500936680405]\n",
      "mixture 23_v3, Granulocyteseosinophils , percantile of unique genes : [0.44604720869239417, 0.03765455226676658]\n",
      "mixture 33_v1, Granulocyteseosinophils , percantile of unique genes : [0.46927688272761336, 0.032034469838890973]\n",
      "mixture 33_v2_190723014153, Granulocyteseosinophils , percantile of unique genes : [0.5505807418508805, 0.07343574372424129]\n",
      "mixture 33_v3, Granulocyteseosinophils , percantile of unique genes : [0.47508430123641815, 0.00805545147995504]\n",
      "mixture 35_v1, Granulocyteseosinophils , percantile of unique genes : [0.26564256275758713, 0.04514799550393406]\n",
      "mixture 35_v2, Granulocyteseosinophils , percantile of unique genes : [0.35387785687523415, 0.2984263769201948]\n",
      "mixture 35_v3, Granulocyteseosinophils , percantile of unique genes : [0.20325964780816785, 0.0803671787186212]\n",
      "mixture 36_v1, Granulocyteseosinophils , percantile of unique genes : [0.19614087673285874, 0.16991382540277258]\n",
      "mixture 36_v2, Granulocyteseosinophils , percantile of unique genes : [0.2639565380292244, 0.27313600599475457]\n",
      "mixture 36_v3, Granulocyteseosinophils , percantile of unique genes : [0.5254777070063694, 0.03465717497189959]\n",
      "mixture 37_v1, Granulocyteseosinophils , percantile of unique genes : [0.2559010865492694, 0.0073061071562382915]\n",
      "mixture 37_v2, Granulocyteseosinophils , percantile of unique genes : [0.21019108280254778, 0.06331959535406519]\n",
      "mixture 37_v3, Granulocyteseosinophils , percantile of unique genes : [0.45710003746721617, 0.023604346197077557]\n",
      "mixture 38_v1, Granulocyteseosinophils , percantile of unique genes : [0.45635069314349946, 0.22742600224803297]\n",
      "mixture 38_v2, Granulocyteseosinophils , percantile of unique genes : [0.021356313225927313, 0.040277257399775196]\n",
      "mixture 38_v3, Granulocyteseosinophils , percantile of unique genes : [0.4016485575121768, 0.18059198201573623]\n",
      "mixture 39_v1, Granulocyteseosinophils , percantile of unique genes : [0.5766204571000375, 0.15886099662795056]\n",
      "mixture 39_v2, Granulocyteseosinophils , percantile of unique genes : [0.5904833270887972, 0.10097414762083178]\n",
      "mixture 39_v3_190722234036, Granulocyteseosinophils , percantile of unique genes : [0.42918696140876733, 0.16148370176095916]\n",
      "mixture 40_v1, Granulocyteseosinophils , percantile of unique genes : [0.4151367553390783, 0.04383664293742975]\n",
      "mixture 40_v3, Granulocyteseosinophils , percantile of unique genes : [0.4855751217684526, 0.08711127763207194]\n",
      "mixture 42_v1, Granulocyteseosinophils , percantile of unique genes : [0.4928812289246909, 0.20438366429374297]\n",
      "mixture 42_v2, Granulocyteseosinophils , percantile of unique genes : [0.494005245410266, 0.24035219183214687]\n",
      "mixture 42_v3, Granulocyteseosinophils , percantile of unique genes : [0.5264143874110153, 0.3113525665043087]\n",
      "mixture 24_v1, Granulocytesneutrophils , percantile of unique genes : [0.26245784938179095, 0.020606968902210566]\n",
      "mixture 24_v2, Granulocytesneutrophils , percantile of unique genes : [0.3606219557886849, 0.04496065942300487]\n",
      "mixture 24_v3, Granulocytesneutrophils , percantile of unique genes : [0.398838516298239, 0.20288497564630947]\n",
      "mixture 26_v1, Granulocytesneutrophils , percantile of unique genes : [0.49082053203446985, 0.41307605844885725]\n",
      "mixture 26_v2, Granulocytesneutrophils , percantile of unique genes : [0.31266391907081303, 0.24597227426002247]\n",
      "mixture 26_v3, Granulocytesneutrophils , percantile of unique genes : [0.38572499063319593, 0.2860621955788685]\n",
      "mixture 27_v1, Granulocytesneutrophils , percantile of unique genes : [0.2620831772199326, 0.03484451105282878]\n",
      "mixture 27_v2, Granulocytesneutrophils , percantile of unique genes : [0.27613338328962156, 0.005432746346946422]\n",
      "mixture 27_v3, Granulocytesneutrophils , percantile of unique genes : [0.28831022855001875, 0.035406519295616334]\n",
      "mixture 28_v1, Granulocytesneutrophils , percantile of unique genes : [0.344698388909704, 0.4042712626451855]\n",
      "mixture 28_v2, Granulocytesneutrophils , percantile of unique genes : [0.31416260771824656, 0.258523791682278]\n",
      "mixture 28_v3, Granulocytesneutrophils , percantile of unique genes : [0.04795803671787186, 0.2225552641438741]\n",
      "mixture 29_v1, Granulocytesneutrophils , percantile of unique genes : [0.3158486324466092, 0.07025103034844511]\n",
      "mixture 29_v2, Granulocytesneutrophils , percantile of unique genes : [0.32783814162607716, 0.08823529411764706]\n",
      "mixture 29_v3, Granulocytesneutrophils , percantile of unique genes : [0.20232296740352193, 0.11671037841888347]\n",
      "mixture 30_v1, Granulocytesneutrophils , percantile of unique genes : [0.2096290745597602, 0.20157362307980517]\n",
      "mixture 30_v2, Granulocytesneutrophils , percantile of unique genes : [0.35387785687523415, 0.34076433121019106]\n",
      "mixture 30_v3, Granulocytesneutrophils , percantile of unique genes : [0.11539902585237917, 0.0073061071562382915]\n",
      "mixture 31_v1, Granulocytesneutrophils , percantile of unique genes : [0.4293742974896965, 0.2356687898089172]\n",
      "mixture 31_v2, Granulocytesneutrophils , percantile of unique genes : [0.41139003372049454, 0.3006744098913451]\n",
      "mixture 31_v3, Granulocytesneutrophils , percantile of unique genes : [0.4923192206819033, 0.027538403896590482]\n",
      "mixture 32_v1, Granulocytesneutrophils , percantile of unique genes : [0.5502060696890221, 0.3894717122517797]\n",
      "mixture 32_v2, Granulocytesneutrophils , percantile of unique genes : [0.19932559010865492, 0.32259273136005995]\n",
      "mixture 32_v3, Granulocytesneutrophils , percantile of unique genes : [0.1712251779692769, 0.33982765080554517]\n",
      "mixture 44_v1, Granulocytesneutrophils , percantile of unique genes : [0.39040839265642563, 0.09385537654552267]\n",
      "mixture 44_v2, Granulocytesneutrophils , percantile of unique genes : [0.10134881978269014, 0.19782690146122142]\n",
      "mixture 44_v3, Granulocytesneutrophils , percantile of unique genes : [0.3683027351067816, 0.21056575496440613]\n",
      "mixture 46_v1, Granulocytesneutrophils , percantile of unique genes : [0.3079805170475834, 0.14743349569127015]\n",
      "mixture 46_v2_190716164330, Granulocytesneutrophils , percantile of unique genes : [0.3289621581116523, 0.12907455976020982]\n",
      "mixture 46_v3, Granulocytesneutrophils , percantile of unique genes : [0.4050206069689022, 0.1346946421880854]\n",
      "mixture 47_v1, Granulocytesneutrophils , percantile of unique genes : [0.4381790932933683, 0.005245410266017235]\n",
      "mixture 47_v2, Granulocytesneutrophils , percantile of unique genes : [0.1464968152866242, 0.018358935931060322]\n",
      "mixture 47_v3, Granulocytesneutrophils , percantile of unique genes : [0.04383664293742975, 0.04683402023229674]\n",
      "mixture 48_v1, Granulocytesneutrophils , percantile of unique genes : [0.2386661671037842, 0.266579243162233]\n",
      "mixture 48_v2, Granulocytesneutrophils , percantile of unique genes : [0.23510678156612963, 0.1337579617834395]\n",
      "mixture 48_v3, Granulocytesneutrophils , percantile of unique genes : [0.45016860247283624, 0.30666916448107906]\n",
      "mixture 20_v1, Granulocytesneutrophils , percantile of unique genes : [0.6208317721993256, 0.34600974147620833]\n",
      "mixture 20_v2, Granulocytesneutrophils , percantile of unique genes : [0.6629823904083927, 0.401835893593106]\n",
      "mixture 20_v3, Granulocytesneutrophils , percantile of unique genes : [0.13300861745972276, 0.11446234544773323]\n",
      "mixture 21_v1, Granulocytesneutrophils , percantile of unique genes : [0.25814911952041963, 0.04514799550393406]\n",
      "mixture 21_v2, Granulocytesneutrophils , percantile of unique genes : [0.158298988385163, 0.006556762832521544]\n",
      "mixture 21_v3, Granulocytesneutrophils , percantile of unique genes : [0.2980517047583365, 0.017609591607343576]\n",
      "mixture 22_v1, Granulocytesneutrophils , percantile of unique genes : [0.21918321468714874, 0.024166354439865118]\n",
      "mixture 22_v2, Granulocytesneutrophils , percantile of unique genes : [0.1637317347321094, 0.1451854627201199]\n",
      "mixture 22_v3, Granulocytesneutrophils , percantile of unique genes : [0.21618583739228175, 0.13600599475458974]\n",
      "mixture 23_v1, Granulocytesneutrophils , percantile of unique genes : [0.27351067815661295, 0.11090295991007867]\n",
      "mixture 23_v2, Granulocytesneutrophils , percantile of unique genes : [0.32240539527913076, 0.011427500936680405]\n",
      "mixture 23_v3, Granulocytesneutrophils , percantile of unique genes : [0.31547396028475083, 0.03765455226676658]\n",
      "mixture 33_v1, Granulocytesneutrophils , percantile of unique genes : [0.22911202697639566, 0.032034469838890973]\n",
      "mixture 33_v2_190723014153, Granulocytesneutrophils , percantile of unique genes : [0.1684151367553391, 0.07343574372424129]\n",
      "mixture 33_v3, Granulocytesneutrophils , percantile of unique genes : [0.11446234544773323, 0.00805545147995504]\n",
      "mixture 35_v1, Granulocytesneutrophils , percantile of unique genes : [0.16279505432746347, 0.04514799550393406]\n",
      "mixture 35_v2, Granulocytesneutrophils , percantile of unique genes : [0.195391532409142, 0.2984263769201948]\n",
      "mixture 35_v3, Granulocytesneutrophils , percantile of unique genes : [0.573061071562383, 0.0803671787186212]\n",
      "mixture 36_v1, Granulocytesneutrophils , percantile of unique genes : [0.5754964406144624, 0.16991382540277258]\n",
      "mixture 36_v2, Granulocytesneutrophils , percantile of unique genes : [0.4424878231547396, 0.27313600599475457]\n",
      "mixture 36_v3, Granulocytesneutrophils , percantile of unique genes : [0.3553765455226677, 0.03465717497189959]\n",
      "mixture 37_v1, Granulocytesneutrophils , percantile of unique genes : [0.5949793930310978, 0.0073061071562382915]\n",
      "mixture 37_v2, Granulocytesneutrophils , percantile of unique genes : [0.2933683027351068, 0.06331959535406519]\n",
      "mixture 37_v3, Granulocytesneutrophils , percantile of unique genes : [0.09104533533158486, 0.023604346197077557]\n",
      "mixture 38_v1, Granulocytesneutrophils , percantile of unique genes : [0.09235668789808917, 0.22742600224803297]\n",
      "mixture 38_v2, Granulocytesneutrophils , percantile of unique genes : [0.146309479205695, 0.040277257399775196]\n",
      "mixture 38_v3, Granulocytesneutrophils , percantile of unique genes : [0.5213563132259273, 0.18059198201573623]\n",
      "mixture 39_v1, Granulocytesneutrophils , percantile of unique genes : [0.12476582989883851, 0.15886099662795056]\n",
      "mixture 39_v2, Granulocytesneutrophils , percantile of unique genes : [0.06987635818658673, 0.10097414762083178]\n",
      "mixture 39_v3_190722234036, Granulocytesneutrophils , percantile of unique genes : [0.09254402397901836, 0.16148370176095916]\n",
      "mixture 40_v1, Granulocytesneutrophils , percantile of unique genes : [0.19745222929936307, 0.04383664293742975]\n",
      "mixture 40_v3, Granulocytesneutrophils , percantile of unique genes : [0.24334956912701386, 0.08711127763207194]\n",
      "mixture 42_v1, Granulocytesneutrophils , percantile of unique genes : [0.13169726489321842, 0.20438366429374297]\n",
      "mixture 42_v2, Granulocytesneutrophils , percantile of unique genes : [0.14986886474334957, 0.24035219183214687]\n",
      "mixture 42_v3, Granulocytesneutrophils , percantile of unique genes : [0.2774447358561259, 0.3113525665043087]\n"
     ]
    }
   ],
   "source": [
    "def in_percentile(my_series, val): \n",
    "    myList=sorted(my_series.values.tolist())\n",
    "    l=len(myList)\n",
    "    return (val>myList).sum()/l\n",
    "\n",
    "cell_to_ranks = {}\n",
    "for gran_cell,mixture_of_genes in gran_cells_in_mixtures.items() : \n",
    "    if mixture_of_genes.empty : \n",
    "        continue\n",
    "    cell_to_ranks[gran_cell] = []\n",
    "    for mixture_name in B_all_vs.columns : \n",
    "        mixture = B_all_vs[mixture_name]\n",
    "        gran_in_mixture = mixture_of_genes[mixture_name]\n",
    "        percantile_of_unique_genes = [in_percentile(mixture,v) for v in gran_in_mixture.values]\n",
    "        cell_to_ranks[gran_cell] += percantile_of_unique_genes\n",
    "        print(f\"mixture {mixture_name}, {gran_cell} , percantile of unique genes : {percantile_of_unique_genes}\")\n",
    "        \n",
    "    \n",
    "#     plt.hist(np.log(mixture_of_genes.mean(axis=1)), 2, alpha=0.5, label=gran_cell,density=True,)\n",
    "#     plt.hist(np.log(B_all_vs.mean(axis=1)), 100, alpha=0.5, label='rest',density=True)\n",
    "#     plt.legend(loc='upper right')\n",
    "#     plt.show()"
   ]
  },
  {
   "cell_type": "code",
   "execution_count": 42,
   "metadata": {},
   "outputs": [
    {
     "data": {
      "image/png": "[encoded data removed]",
      "text/plain": [
       "<Figure size 432x288 with 1 Axes>"
      ]
     },
     "metadata": {},
     "output_type": "display_data"
    },
    {
     "data": {
      "image/png": "[encoded data removed]",
      "text/plain": [
       "<Figure size 432x288 with 1 Axes>"
      ]
     },
     "metadata": {},
     "output_type": "display_data"
    }
   ],
   "source": [
    "for cell,ranks in  cell_to_ranks.items() : \n",
    "    plt.hist(ranks)\n",
    "    plt.title(f\"cell : {cell}\")\n",
    "    plt.xlabel(\"percentile of unique gene in mixture\")\n",
    "    plt.show()"
   ]
  }
 ],
 "metadata": {
  "hide_input": false,
  "kernelspec": {
   "display_name": "Python 3",
   "language": "python",
   "name": "python3"
  },
  "language_info": {
   "codemirror_mode": {
    "name": "ipython",
    "version": 3
   },
   "file_extension": ".py",
   "mimetype": "text/x-python",
   "name": "python",
   "nbconvert_exporter": "python",
   "pygments_lexer": "ipython3",
   "version": "3.6.5"
  },
  "toc": {
   "base_numbering": 1,
   "nav_menu": {},
   "number_sections": true,
   "sideBar": true,
   "skip_h1_title": false,
   "title_cell": "Table of Contents",
   "title_sidebar": "Contents",
   "toc_cell": false,
   "toc_position": {},
   "toc_section_display": true,
   "toc_window_display": false
  }
 },
 "nbformat": 4,
 "nbformat_minor": 2
}
