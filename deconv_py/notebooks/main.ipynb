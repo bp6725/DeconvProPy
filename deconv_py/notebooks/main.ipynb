{
 "cells": [
  {
   "cell_type": "code",
   "execution_count": 1,
   "metadata": {},
   "outputs": [],
   "source": [
    "import sys\n",
    "sys.path.append('../../')\n",
    "sys.path.append('../infras/cellMix/')\n",
    "from cellMix_coordinator import CellMixCoordinator"
   ]
  },
  {
   "cell_type": "code",
   "execution_count": 2,
   "metadata": {},
   "outputs": [],
   "source": [
    "import pandas as pd\n",
    "import numpy as np\n",
    "from functools import partial\n",
    "import multiprocessing\n",
    "\n",
    "from scipy.optimize import least_squares\n",
    "from sklearn.metrics import mean_squared_error\n",
    "from functools import partial\n",
    "from scipy.optimize import minimize\n",
    "import scipy.optimize\n",
    "from itertools import combinations\n",
    "import matplotlib.pyplot as plt\n",
    "\n",
    "from IPython.display import display, HTML\n",
    "\n",
    "\n",
    "import os"
   ]
  },
  {
   "cell_type": "code",
   "execution_count": 3,
   "metadata": {},
   "outputs": [],
   "source": [
    "from deconv_py.preprocess.base import BasePreprocess as PP_base\n",
    "from deconv_py.preprocess.cell_specific import CellSpecific as PP_proteins\n",
    "\n",
    "from deconv_py.infras.data_factory import DataFactory\n",
    "from deconv_py.infras.data_loader import DataLoader\n",
    "\n",
    "from deconv_py.models.base import Base as Models_base\n",
    "from deconv_py.models.cell_proportions_models import CellProportions\n",
    "from deconv_py.models.cell_specific_models import CellSpecificPerPermutation\n",
    "\n",
    "from deconv_py.experiments.cell_specific import CellSpecificMetricsPlot\n",
    "\n",
    "# from deconv_py.infras.cellMix.cellMix_coordinator import CellMixCoordinator"
   ]
  },
  {
   "cell_type": "markdown",
   "metadata": {},
   "source": [
    "# Calc cell specific - LFQ"
   ]
  },
  {
   "cell_type": "markdown",
   "metadata": {},
   "source": [
    "## read data"
   ]
  },
  {
   "cell_type": "markdown",
   "metadata": {},
   "source": [
    "### mixture & cell specific data"
   ]
  },
  {
   "cell_type": "code",
   "execution_count": null,
   "metadata": {
    "code_folding": [
     2
    ]
   },
   "outputs": [],
   "source": [
    "data_loader = DataLoader(mass_spec_path=os.path.abspath('../data/20150208_mixture_proteinGroups.xls'),\n",
    "                         protein_profile_path = os.path.abspath('../data/20150718_Cerberus_proteinGroups.txt'))\n",
    "data_factory = DataFactory(data_loader)\n",
    "profile_data,profile_data_relvent_data = data_factory.build_cell_specific_profile()\n",
    "mixtures,mixtures_relvent_data = data_factory.build_mixture_data()"
   ]
  },
  {
   "cell_type": "markdown",
   "metadata": {},
   "source": [
    "### cell_proportions"
   ]
  },
  {
   "cell_type": "code",
   "execution_count": null,
   "metadata": {
    "code_folding": []
   },
   "outputs": [],
   "source": [
    "cell_proportions_df = pd.DataFrame(index = ['LFQ intensity NOT_CD4TCellTcm_01','LFQ intensity NOT_BCellmemory_01','LFQ intensity NOT_Monocytesnonclassical_01'],\n",
    "                                   columns = list(range(1,9)),\n",
    "                                   data =np.array(((100,0,0),(0,100,0),(0,0,100),(33,33,33),(25,25,50),(25,50,25),(50,25,25),(47.5,47.5,5.0))).T)"
   ]
  },
  {
   "cell_type": "markdown",
   "metadata": {},
   "source": [
    "## build A ,X and B "
   ]
  },
  {
   "cell_type": "markdown",
   "metadata": {},
   "source": [
    "### set unique index"
   ]
  },
  {
   "cell_type": "code",
   "execution_count": null,
   "metadata": {},
   "outputs": [],
   "source": [
    "# index_func = lambda x:x.split(';')[0]\n",
    "index_func = lambda x:x\n",
    "_profile_data,_mixtures = PP_base.return_mutual_proteins_by_index(profile_data,mixtures,index_func=index_func)\n",
    "A = _profile_data[profile_data_relvent_data]\n",
    "B = _mixtures[mixtures_relvent_data]\n",
    "\n",
    "X = cell_proportions_df"
   ]
  },
  {
   "cell_type": "code",
   "execution_count": null,
   "metadata": {},
   "outputs": [],
   "source": [
    "B=B.rename({f:f.split('LFQ intensity ')[1] for f in B.columns},axis=1)\n",
    "\n",
    "X = X.rename({f:f.split('LFQ intensity ')[1] for f in X.index},axis=0)\n",
    "X = X.rename({f:'mixture'+str(f) for f in X.columns},axis=1)\n",
    "\n",
    "A = A.rename({f:f.split('LFQ intensity ')[1] for f in A.columns},axis=1)"
   ]
  },
  {
   "cell_type": "code",
   "execution_count": null,
   "metadata": {},
   "outputs": [],
   "source": [
    "B.shape"
   ]
  },
  {
   "cell_type": "markdown",
   "metadata": {},
   "source": [
    "## models"
   ]
  },
  {
   "cell_type": "code",
   "execution_count": null,
   "metadata": {},
   "outputs": [],
   "source": [
    "cmc = CellMixCoordinator()\n",
    "def _calc_and_display_with_cellmix(_a,_b,X,with_cellMix = False,as_heatmap = False) : \n",
    "    if _a.empty :\n",
    "        raise Exception(\"A is empty\")\n",
    "    if _b.empty :\n",
    "        raise Exception(\"B is empty\")\n",
    "    \n",
    "    cell_abundance_over_samples = CellProportions.fit_as_df(_a,_b)\n",
    "    \n",
    "    if with_cellMix : \n",
    "        cellMax_cell_abundance_over_samples = cmc.cell_prop_with_bash(_b,_a).rename({\"Unnamed: 0\":\"cells\"},axis=1).set_index(\"cells\")\n",
    "        if as_heatmap : \n",
    "            sns.heatmap(cellMax_cell_abundance_over_samples)\n",
    "            plt.show()\n",
    "        else :\n",
    "            display(HTML(' <span style=\"color:blue\"><h1>cellMix : </h1> </span>  '))\n",
    "            display(cellMax_cell_abundance_over_samples)\n",
    "    \n",
    "    if as_heatmap : \n",
    "        sns.heatmap(cell_abundance_over_samples)\n",
    "    else : \n",
    "        display(HTML(' <span style=\"color:blue\"><h1>model : </h1> </span>  '))\n",
    "        display(cell_abundance_over_samples)\n",
    "        display(HTML(' <span style=\"color:blue\"><h1>known cell proportion : </h1> </span>  '))\n",
    "        display(X)"
   ]
  },
  {
   "cell_type": "markdown",
   "metadata": {
    "heading_collapsed": true
   },
   "source": [
    "### naive"
   ]
  },
  {
   "cell_type": "code",
   "execution_count": null,
   "metadata": {
    "hidden": true
   },
   "outputs": [],
   "source": [
    "A.shape"
   ]
  },
  {
   "cell_type": "code",
   "execution_count": null,
   "metadata": {
    "hidden": true
   },
   "outputs": [],
   "source": [
    "_calc_and_display_with_cellmix(A,B,X,True)"
   ]
  },
  {
   "cell_type": "markdown",
   "metadata": {
    "heading_collapsed": true
   },
   "source": [
    "### with preprocess"
   ]
  },
  {
   "cell_type": "markdown",
   "metadata": {
    "heading_collapsed": true,
    "hidden": true
   },
   "source": [
    "#### naive discriminative"
   ]
  },
  {
   "cell_type": "code",
   "execution_count": null,
   "metadata": {
    "hidden": true,
    "scrolled": false
   },
   "outputs": [],
   "source": [
    "_A,_B = PP_proteins.pp_clean_irrelevant_proteins(A,B)\n",
    "_A,_B = PP_proteins.pp_naive_discriminative_proteins(_A,_B)\n",
    "\n",
    "_calc_and_display_with_cellmix(_A,_B,X)"
   ]
  },
  {
   "cell_type": "markdown",
   "metadata": {
    "hidden": true
   },
   "source": [
    "#### binary occurrence"
   ]
  },
  {
   "cell_type": "code",
   "execution_count": null,
   "metadata": {
    "hidden": true
   },
   "outputs": [],
   "source": [
    "_A,_B = PP_proteins.pp_clean_irrelevant_proteins(A,B)\n",
    "_A,_B = PP_proteins.pp_binary_occurrence(_A,_B)\n",
    "\n",
    "_calc_and_display_with_cellmix(_A,_B,X)"
   ]
  },
  {
   "cell_type": "markdown",
   "metadata": {
    "heading_collapsed": true,
    "hidden": true
   },
   "source": [
    "#### TopMergin"
   ]
  },
  {
   "cell_type": "code",
   "execution_count": null,
   "metadata": {
    "hidden": true
   },
   "outputs": [],
   "source": [
    "_A,_B = PP_proteins.pp_clean_irrelevant_proteins(A,B)\n",
    "_A,_B = PP_proteins.pp_margin_quantile(_A,_B)\n",
    "\n",
    "_calc_and_display_with_cellmix(_A,_B,X)"
   ]
  },
  {
   "cell_type": "markdown",
   "metadata": {
    "heading_collapsed": true,
    "hidden": true
   },
   "source": [
    "#### under quantile "
   ]
  },
  {
   "cell_type": "code",
   "execution_count": null,
   "metadata": {
    "hidden": true,
    "scrolled": false
   },
   "outputs": [],
   "source": [
    "_A,_B = PP_proteins.pp_clean_irrelevant_proteins(A,B)\n",
    "_A,_B = PP_proteins.pp_under_quantile(_A,_B)\n",
    "\n",
    "_calc_and_display_with_cellmix(_A,_B,X)"
   ]
  },
  {
   "cell_type": "markdown",
   "metadata": {},
   "source": [
    "# calc cell proportions - iBAQ"
   ]
  },
  {
   "cell_type": "markdown",
   "metadata": {
    "heading_collapsed": true
   },
   "source": [
    "## read data - iBAQ"
   ]
  },
  {
   "cell_type": "markdown",
   "metadata": {
    "hidden": true
   },
   "source": [
    "### mixture & cell specific data"
   ]
  },
  {
   "cell_type": "code",
   "execution_count": null,
   "metadata": {
    "hidden": true
   },
   "outputs": [],
   "source": [
    "data_factory = DataFactory(data_loader)\n",
    "profile_data,profile_data_relvent_data = data_factory.build_cell_specific_profile(intensity_type='iBAQ')\n",
    "mixtures,mixtures_relvent_data = data_factory.build_mixture_data(intensity_type='iBAQ')"
   ]
  },
  {
   "cell_type": "markdown",
   "metadata": {
    "hidden": true
   },
   "source": [
    "### cell proportions"
   ]
  },
  {
   "cell_type": "code",
   "execution_count": null,
   "metadata": {
    "hidden": true
   },
   "outputs": [],
   "source": [
    "cell_proportions_df = pd.DataFrame(index = ['iBAQ NOT_CD4TCellTcm_01','iBAQ NOT_BCellmemory_01','iBAQ NOT_Monocytesnonclassical_01'],\n",
    "                                   columns = list(range(1,9)),\n",
    "                                   data =np.array(((100,0,0),(0,100,0),(0,0,100),(33,33,33),(25,25,50),(25,50,25),(50,25,25),(47.5,47.5,5.0))).T)"
   ]
  },
  {
   "cell_type": "markdown",
   "metadata": {},
   "source": [
    "## build A ,X and B "
   ]
  },
  {
   "cell_type": "markdown",
   "metadata": {},
   "source": [
    "### set unique index"
   ]
  },
  {
   "cell_type": "code",
   "execution_count": null,
   "metadata": {},
   "outputs": [],
   "source": [
    "# index_func = lambda x:x.split(';')[0]\n",
    "index_func = lambda x:x\n",
    "_profile_data,_mixtures = PP_base.return_mutual_proteins_by_index(profile_data,mixtures,index_func=index_func)\n",
    "A = _profile_data[profile_data_relvent_data]\n",
    "B = _mixtures[mixtures_relvent_data]\n",
    "\n",
    "X = cell_proportions_df"
   ]
  },
  {
   "cell_type": "code",
   "execution_count": null,
   "metadata": {},
   "outputs": [],
   "source": [
    "B=B.rename({f:f.split('iBAQ ')[1] for f in B.columns},axis=1)\n",
    "\n",
    "X = X.rename({f:f.split('iBAQ ')[1] for f in X.index},axis=0)\n",
    "X = X.rename({f:'mixture'+str(f) for f in X.columns},axis=1)\n",
    "\n",
    "A = A.rename({f:f.split('iBAQ ')[1] for f in A.columns},axis=1)"
   ]
  },
  {
   "cell_type": "markdown",
   "metadata": {},
   "source": [
    "## models"
   ]
  },
  {
   "cell_type": "markdown",
   "metadata": {
    "heading_collapsed": true
   },
   "source": [
    "### naive"
   ]
  },
  {
   "cell_type": "code",
   "execution_count": null,
   "metadata": {
    "hidden": true
   },
   "outputs": [],
   "source": [
    "_calc_and_display_with_cellmix(A,B,X)"
   ]
  },
  {
   "cell_type": "markdown",
   "metadata": {},
   "source": [
    "### with preprocess"
   ]
  },
  {
   "cell_type": "markdown",
   "metadata": {},
   "source": [
    "#### naive discriminative"
   ]
  },
  {
   "cell_type": "code",
   "execution_count": null,
   "metadata": {
    "scrolled": false
   },
   "outputs": [],
   "source": [
    "_A,_B = PP_proteins.pp_clean_irrelevant_proteins(A,B)\n",
    "_A,_B = PP_proteins.pp_naive_discriminative_proteins(_A,_B)\n",
    "\n",
    "_calc_and_display_with_cellmix(_A,_B,X)"
   ]
  },
  {
   "cell_type": "markdown",
   "metadata": {},
   "source": [
    "#### binary occurrence"
   ]
  },
  {
   "cell_type": "code",
   "execution_count": null,
   "metadata": {},
   "outputs": [],
   "source": [
    "_A,_B = PP_proteins.pp_clean_irrelevant_proteins(A,B)\n",
    "_A,_B = PP_proteins.pp_binary_occurrence(_A,_B)\n",
    "\n",
    "_calc_and_display_with_cellmix(_A,_B,X)"
   ]
  },
  {
   "cell_type": "markdown",
   "metadata": {
    "heading_collapsed": true
   },
   "source": [
    "#### TopMergin"
   ]
  },
  {
   "cell_type": "code",
   "execution_count": null,
   "metadata": {
    "hidden": true
   },
   "outputs": [],
   "source": [
    "_A,_B = PP_proteins.pp_clean_irrelevant_proteins(A,B)\n",
    "_A,_B = PP_proteins.pp_margin_quantile(_A,_B)\n",
    "\n",
    "_calc_and_display_with_cellmix(_A,_B,X)"
   ]
  },
  {
   "cell_type": "markdown",
   "metadata": {
    "heading_collapsed": true
   },
   "source": [
    "#### under quantile "
   ]
  },
  {
   "cell_type": "code",
   "execution_count": null,
   "metadata": {
    "hidden": true,
    "scrolled": true
   },
   "outputs": [],
   "source": [
    "_A,_B = PP_proteins.pp_clean_irrelevant_proteins(A,B)\n",
    "_A,_B = PP_proteins.pp_under_quantile(_A,_B)\n",
    "\n",
    "_calc_and_display_with_cellmix(_A,_B,X)"
   ]
  },
  {
   "cell_type": "markdown",
   "metadata": {},
   "source": [
    "# calc cell proportions - intensities"
   ]
  },
  {
   "cell_type": "markdown",
   "metadata": {
    "heading_collapsed": true
   },
   "source": [
    "## read data - intensities"
   ]
  },
  {
   "cell_type": "markdown",
   "metadata": {
    "hidden": true
   },
   "source": [
    "### mixture & cell specific data"
   ]
  },
  {
   "cell_type": "code",
   "execution_count": null,
   "metadata": {
    "hidden": true
   },
   "outputs": [],
   "source": [
    "data_factory = DataFactory(data_loader)\n",
    "profile_data,profile_data_relvent_data = data_factory.build_cell_specific_profile(intensity_type='Intensity')\n",
    "mixtures,mixtures_relvent_data = data_factory.build_mixture_data(intensity_type='Intensity')"
   ]
  },
  {
   "cell_type": "markdown",
   "metadata": {
    "hidden": true
   },
   "source": [
    "### cell proportions"
   ]
  },
  {
   "cell_type": "code",
   "execution_count": null,
   "metadata": {
    "hidden": true
   },
   "outputs": [],
   "source": [
    "cell_proportions_df = pd.DataFrame(index = ['Intensity NOT_CD4TCellTcm_01','Intensity NOT_BCellmemory_01','Intensity NOT_Monocytesnonclassical_01'],\n",
    "                                   columns = list(range(1,9)),\n",
    "                                   data =np.array(((100,0,0),(0,100,0),(0,0,100),(33,33,33),(25,25,50),(25,50,25),(50,25,25),(47.5,47.5,5.0))).T)"
   ]
  },
  {
   "cell_type": "markdown",
   "metadata": {
    "heading_collapsed": true
   },
   "source": [
    "## build A ,X and B "
   ]
  },
  {
   "cell_type": "markdown",
   "metadata": {
    "hidden": true
   },
   "source": [
    "### set unique index"
   ]
  },
  {
   "cell_type": "code",
   "execution_count": null,
   "metadata": {
    "hidden": true
   },
   "outputs": [],
   "source": [
    "# index_func = lambda x:x.split(';')[0]\n",
    "index_func = lambda x:x\n",
    "_profile_data,_mixtures = PP_base.return_mutual_proteins_by_index(profile_data,mixtures,index_func=index_func)\n",
    "A = _profile_data[profile_data_relvent_data]\n",
    "B = _mixtures[mixtures_relvent_data]\n",
    "\n",
    "X = cell_proportions_df"
   ]
  },
  {
   "cell_type": "code",
   "execution_count": null,
   "metadata": {
    "hidden": true
   },
   "outputs": [],
   "source": [
    "B=B.rename({f:f.split('Intensity ')[1] for f in B.columns},axis=1)\n",
    "\n",
    "X = X.rename({f:f.split('Intensity ')[1] for f in X.index},axis=0)\n",
    "X = X.rename({f:'mixture'+str(f) for f in X.columns},axis=1)\n",
    "\n",
    "A = A.rename({f:f.split('Intensity ')[1] for f in A.columns},axis=1)"
   ]
  },
  {
   "cell_type": "markdown",
   "metadata": {},
   "source": [
    "## models"
   ]
  },
  {
   "cell_type": "markdown",
   "metadata": {
    "heading_collapsed": true
   },
   "source": [
    "### naive"
   ]
  },
  {
   "cell_type": "code",
   "execution_count": null,
   "metadata": {
    "hidden": true
   },
   "outputs": [],
   "source": [
    "_calc_and_display_with_cellmix(A,B,X,True)"
   ]
  },
  {
   "cell_type": "markdown",
   "metadata": {},
   "source": [
    "### with preprocess"
   ]
  },
  {
   "cell_type": "markdown",
   "metadata": {},
   "source": [
    "#### naive discriminative"
   ]
  },
  {
   "cell_type": "code",
   "execution_count": null,
   "metadata": {
    "scrolled": false
   },
   "outputs": [],
   "source": [
    "_A,_B = PP_proteins.pp_clean_irrelevant_proteins(A,B)\n",
    "_A,_B = PP_proteins.pp_naive_discriminative_proteins(_A,_B)\n",
    "\n",
    "_calc_and_display_with_cellmix(_A,_B,X)"
   ]
  },
  {
   "cell_type": "markdown",
   "metadata": {},
   "source": [
    "#### binary occurrence"
   ]
  },
  {
   "cell_type": "code",
   "execution_count": null,
   "metadata": {},
   "outputs": [],
   "source": [
    "_A,_B = PP_proteins.pp_clean_irrelevant_proteins(A,B)\n",
    "_A,_B = PP_proteins.pp_binary_occurrence(_A,_B)\n",
    "\n",
    "_calc_and_display_with_cellmix(_A,_B,X)"
   ]
  },
  {
   "cell_type": "markdown",
   "metadata": {},
   "source": [
    "#### TopMergin"
   ]
  },
  {
   "cell_type": "code",
   "execution_count": null,
   "metadata": {},
   "outputs": [],
   "source": [
    "_A,_B = PP_proteins.pp_clean_irrelevant_proteins(A,B)\n",
    "_A,_B = PP_proteins.pp_margin_quantile(_A,_B)\n",
    "\n",
    "_calc_and_display_with_cellmix(_A,_B,X)"
   ]
  },
  {
   "cell_type": "markdown",
   "metadata": {},
   "source": [
    "#### under quantile "
   ]
  },
  {
   "cell_type": "code",
   "execution_count": null,
   "metadata": {
    "scrolled": false
   },
   "outputs": [],
   "source": [
    "_A,_B = PP_proteins.pp_clean_irrelevant_proteins(A,B)\n",
    "_A,_B = PP_proteins.pp_under_quantile(_A,_B)\n",
    "\n",
    "_calc_and_display_with_cellmix(_A,_B,X)"
   ]
  },
  {
   "cell_type": "markdown",
   "metadata": {},
   "source": [
    "# most important proteins from genes "
   ]
  },
  {
   "cell_type": "markdown",
   "metadata": {},
   "source": [
    "### read gene data"
   ]
  },
  {
   "cell_type": "code",
   "execution_count": null,
   "metadata": {
    "scrolled": true
   },
   "outputs": [],
   "source": [
    "# raw_gene_abundance = pd.read_excel('../../../data/ni.3693-S7.xlsx')\n",
    "# raw_gene_abundance.set_index('Gene name',inplace=True)\n",
    "# gene_abundance_over_cells = raw_gene_abundance[['Bmemory_not_2', 'MOclassical_not_3', 'T4cm_not_5']]\n",
    "\n",
    "# wrong_indexs = pd.Index([g for g in gene_abundance_over_cells.index if type(g) != str])\n",
    "# clean_indexs = gene_abundance_over_cells.index.difference(wrong_indexs)\n",
    "# gene_abundance_over_cells = gene_abundance_over_cells.loc[clean_indexs]\n",
    "# gene_abundance_over_cells = gene_abundance_over_cells.dropna()"
   ]
  },
  {
   "cell_type": "markdown",
   "metadata": {},
   "source": [
    "#### take high std and binary differentiate genes "
   ]
  },
  {
   "cell_type": "code",
   "execution_count": null,
   "metadata": {},
   "outputs": [],
   "source": [
    "# high_std_gene_abundance_idx = gene_abundance_over_cells[gene_abundance_over_cells.std(axis=1) > gene_abundance_over_cells.std(axis=1).quantile(0.99)].index\n",
    "# gene_binary_filtering_idx = gene_abundance_over_cells[abs(gene_abundance_over_cells)<abs(gene_abundance_over_cells).quantile(0.01)].dropna(how='all').index\n",
    "\n",
    "# genes_to_take = high_std_gene_abundance_idx.union(gene_binary_filtering_idx)\n",
    "# gene_to_major_protein_dict = mixtures[['major_protein_id','Gene names']].set_index('Gene names').to_dict()['major_protein_id']\n",
    "# proteins_to_take = [gene_to_major_protein_dict[gene] for gene in genes_to_take if gene in gene_to_major_protein_dict.keys()]"
   ]
  },
  {
   "cell_type": "code",
   "execution_count": null,
   "metadata": {},
   "outputs": [],
   "source": [
    "# _A,_B = (A.loc[proteins_to_take],B.loc[proteins_to_take])\n",
    "# _A,_B = PP_proteins.pp_under_quantile(_A,_B)\n",
    "\n",
    "# _calc_and_display_with_cellmix(_A,_B,X)"
   ]
  },
  {
   "cell_type": "code",
   "execution_count": null,
   "metadata": {},
   "outputs": [],
   "source": [
    "# from sklearn.decomposition.pca  import PCA "
   ]
  },
  {
   "cell_type": "code",
   "execution_count": null,
   "metadata": {},
   "outputs": [],
   "source": [
    "# from mpl_toolkits.mplot3d import Axes3D\n",
    "# plt.figure(figsize=(240, 240))\n",
    "\n",
    "\n",
    "# # Run The PCA\n",
    "# pca = PCA(n_components=3)\n",
    "# pca.fit(B.T)\n",
    " \n",
    "# # Store results of PCA in a data frame\n",
    "# result=pd.DataFrame(pca.transform(B.T), columns=['PCA%i' % i for i in range(3)], index=range(8))\n",
    " \n",
    "# # Plot initialisation\n",
    "# fig = plt.figure()\n",
    "# ax = fig.add_subplot(111, projection='3d')\n",
    "# ax.scatter(result['PCA0'], result['PCA1'], result['PCA2'], cmap=\"Set2_r\", s=60)\n",
    " \n",
    "# # make simple, bare axis lines through space:\n",
    "# xAxisLine = ((min(result['PCA0']), max(result['PCA0'])), (0, 0), (0,0))\n",
    "# ax.plot(xAxisLine[0], xAxisLine[1], xAxisLine[2], 'r')\n",
    "# yAxisLine = ((0, 0), (min(result['PCA1']), max(result['PCA1'])), (0,0))\n",
    "# ax.plot(yAxisLine[0], yAxisLine[1], yAxisLine[2], 'r')\n",
    "# zAxisLine = ((0, 0), (0,0), (min(result['PCA2']), max(result['PCA2'])))\n",
    "# ax.plot(zAxisLine[0], zAxisLine[1], zAxisLine[2], 'r')\n",
    " \n",
    "# # label the axes\n",
    "# ax.set_xlabel(\"PC1\")\n",
    "# ax.set_ylabel(\"PC2\")\n",
    "# ax.set_zlabel(\"PC3\")\n",
    "# plt.show()"
   ]
  }
 ],
 "metadata": {
  "hide_input": false,
  "kernelspec": {
   "display_name": "Python 3",
   "language": "python",
   "name": "python3"
  },
  "language_info": {
   "codemirror_mode": {
    "name": "ipython",
    "version": 3
   },
   "file_extension": ".py",
   "mimetype": "text/x-python",
   "name": "python",
   "nbconvert_exporter": "python",
   "pygments_lexer": "ipython3",
   "version": "3.6.5"
  },
  "toc": {
   "base_numbering": 1,
   "nav_menu": {},
   "number_sections": true,
   "sideBar": true,
   "skip_h1_title": false,
   "title_cell": "Table of Contents",
   "title_sidebar": "Contents",
   "toc_cell": false,
   "toc_position": {},
   "toc_section_display": true,
   "toc_window_display": false
  }
 },
 "nbformat": 4,
 "nbformat_minor": 2
}
