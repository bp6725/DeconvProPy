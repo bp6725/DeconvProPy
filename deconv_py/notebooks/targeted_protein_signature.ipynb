{
 "cells": [
  {
   "cell_type": "markdown",
   "metadata": {},
   "source": [
    "# Init"
   ]
  },
  {
   "cell_type": "code",
   "execution_count": 4,
   "metadata": {},
   "outputs": [],
   "source": [
    "import sys\n",
    "sys.path.append('../../')\n",
    "sys.path.append('../infras/cellMix/')\n",
    "sys.path.append('../infras/cytof_data/')\n",
    "sys.path.append('../infras/')\n",
    "sys.path.append('../infras/dashboards/')\n",
    "sys.path.append('../experiments/')\n",
    "sys.path.append('../experiments/pipeline/')\n",
    "sys.path.append('../preprocess/intra_variance/')\n",
    "sys.path.append('../models/cell_proportions/')\n",
    "sys.path.append('../measures/cell_proportions_measures/')\n",
    "sys.path.append('../preprocess/cell_specifics/')\n"
   ]
  },
  {
   "cell_type": "code",
   "execution_count": 5,
   "metadata": {},
   "outputs": [
    {
     "name": "stdout",
     "output_type": "stream",
     "text": [
      "{\n",
      "  \"shell_port\": 54420,\n",
      "  \"iopub_port\": 54421,\n",
      "  \"stdin_port\": 54422,\n",
      "  \"control_port\": 54423,\n",
      "  \"hb_port\": 54424,\n",
      "  \"ip\": \"127.0.0.1\",\n",
      "  \"key\": \"993b782b-273d776df28973536c27df05\",\n",
      "  \"transport\": \"tcp\",\n",
      "  \"signature_scheme\": \"hmac-sha256\",\n",
      "  \"kernel_name\": \"\"\n",
      "}\n",
      "\n",
      "Paste the above JSON into a file, and connect with:\n",
      "    $> jupyter <app> --existing <file>\n",
      "or, if you are local, you can connect with just:\n",
      "    $> jupyter <app> --existing kernel-d5086f59-ff06-4b4a-b6ff-b2260f05e7ee.json\n",
      "or even just:\n",
      "    $> jupyter <app> --existing\n",
      "if this is the most recent Jupyter kernel you have started.\n"
     ]
    }
   ],
   "source": [
    "from data_factory import DataFactory\n",
    "from global_utils import GlobalUtils\n",
    "from cytof_cell_count_infra import CytofCellCountInfra\n",
    "from cell_proportions_experiments import  CellProportionsExperiments\n",
    "import exploration_cytof_plots as cytof_plots\n",
    "from basic import BasicDeconv\n",
    "from pp_entropy_based import PpEntropyBased\n",
    "from pp_dep_de_based import  PpDepDeBased\n",
    "from cell_proportions_measure import CellProportionsMeasure\n",
    "from pp_clean_high_intra_var import PpCleanHighIntraVar\n",
    "from pp_clean_irrelevant_proteins import PpCleanIrrelevantProteins\n",
    "from pp_empty import PpEmpty\n",
    "from pp_entropy_based_only_largest import PpEntropyBasedOnlyLargest\n",
    "from aggregate_intra_variance import AggregateIntraVariance\n",
    "from pipeline_deconv import PipelineDeconv\n",
    "from deconv_py.preprocess.base import BasePreprocess as PP_base\n",
    "from deconv_py.preprocess.cell_specific import CellSpecific as PP_proteins\n",
    "from deconv_py.preprocess.cell_specifics.pp_svm_signature import PpSvmSignature\n",
    "from deconv_py.preprocess.cell_specifics.pp_entropy_based_totel_sum import PpEntropyBasedTotelSum\n",
    "from deconv_py.preprocess.cell_specifics.pp_floor_under_quantile import PpFloorUnderQuantile\n",
    "\n",
    "\n",
    "\n",
    "from pp_keep_specific_cells  import  PpKeepSpecificCells\n",
    "from pp_agg_to_specific_cells import PpAggToSpecificCells\n",
    "\n",
    "# from deconv_py.infras.data_factory import DataFactory\n",
    "from deconv_py.infras.data_loader import DataLoader\n",
    "from deconv_py.models.base import Base as Models_base\n",
    "from deconv_py.models.cell_proportions_models import CellProportions\n",
    "from deconv_py.models.cell_specific_models import CellSpecificPerPermutation\n",
    "from deconv_py.experiments.cell_specific import CellSpecificMetricsPlot\n",
    "from cellMix_coordinator import CellMixCoordinator\n",
    "\n",
    "import pandas as pd\n",
    "import numpy as np\n",
    "from functools import partial\n",
    "import multiprocessing\n",
    "from sklearn import pipeline\n",
    "import itertools\n",
    "from scipy.optimize import least_squares\n",
    "from sklearn.metrics import mean_squared_error\n",
    "from functools import partial\n",
    "import mygene\n",
    "from scipy.optimize import minimize\n",
    "import scipy.optimize\n",
    "from itertools import combinations\n",
    "import matplotlib.pyplot as plt\n",
    "import seaborn as sns\n",
    "import pprint\n",
    "import os\n",
    "import pickle as pkl \n",
    "from sklearn.decomposition import PCA\n",
    "from IPython.display import display, HTML\n",
    "\n",
    "\n",
    "\n",
    "%connect_info"
   ]
  },
  {
   "cell_type": "markdown",
   "metadata": {},
   "source": [
    "# signatures"
   ]
  },
  {
   "cell_type": "code",
   "execution_count": 3,
   "metadata": {},
   "outputs": [],
   "source": [
    "full_proteins_traget = pd.DataFrame(columns=[\"protein\",\"gene\",\"source\"])"
   ]
  },
  {
   "cell_type": "markdown",
   "metadata": {},
   "source": [
    "## enrichment based"
   ]
  },
  {
   "cell_type": "markdown",
   "metadata": {},
   "source": [
    "### proteins"
   ]
  },
  {
   "cell_type": "code",
   "execution_count": 4,
   "metadata": {},
   "outputs": [
    {
     "name": "stderr",
     "output_type": "stream",
     "text": [
      "C:\\ProgramData\\Anaconda3\\lib\\site-packages\\IPython\\kernel\\__main__.py:2: DtypeWarning: Columns (5,6,2764,2765,2773,2774,2775,2776) have mixed types. Specify dtype option on import or set low_memory=False.\n",
      "  from ipykernel import kernelapp as app\n"
     ]
    }
   ],
   "source": [
    "data_factory = DataFactory()\n",
    "A_all_vs,B_all_vs = data_factory.load_IBD_all_vs(\"Intensity\",index_func=lambda x:x.split(\";\")[0],log2_transformation=True)"
   ]
  },
  {
   "cell_type": "code",
   "execution_count": 5,
   "metadata": {},
   "outputs": [],
   "source": [
    "all_proteins_ind = pd.Index([])"
   ]
  },
  {
   "cell_type": "code",
   "execution_count": 6,
   "metadata": {},
   "outputs": [],
   "source": [
    "spec_cells,agg_spec_cells = PpKeepSpecificCells(),PpAggToSpecificCells()\n",
    "agg_iv,pp_irl_prot  = AggregateIntraVariance(),PpCleanIrrelevantProteins()\n",
    "pp_chiv = PpCleanHighIntraVar()\n",
    "pp_entropy_only_largest, pp_entropy, pp_empty,pp_dep = PpEntropyBasedOnlyLargest(), PpEntropyBased(), PpEmpty(),PpDepDeBased()\n",
    "pp_svm_signature,pp_totel_sum = PpSvmSignature(),PpEntropyBasedTotelSum()\n",
    "pp_floor_quantile = PpFloorUnderQuantile()\n",
    "\n",
    "steps_few_cells = [(\"kepp_specific_cells\",spec_cells),(\"cleanHighIntraVariance\",pp_chiv),\n",
    "                  (\"AggregateIntraVariance\",agg_iv),(\"cleen_irrelevant_proteins\",pp_irl_prot),(\"PpDepDeBased\",pp_dep)]\n",
    "steps_all_cells = [(\"PpEmpty_cells_filt\",pp_empty),(\"cleanHighIntraVariance\",pp_chiv),\n",
    "                  (\"AggregateIntraVariance\",agg_iv),(\"cleen_irrelevant_proteins\",pp_irl_prot),(\"PpDepDeBased\",pp_dep)]\n",
    "\n",
    "\n",
    "_params = {\"cleanHighIntraVariance__how\":\"std\",\"cleanHighIntraVariance__std_trh\":1,\n",
    "                   \"AggregateIntraVariance__how\":\"median\",\"PpDepDeBased__n_of_genes\":80,\"PpDepDeBased__is_agg_cells\":False}"
   ]
  },
  {
   "cell_type": "code",
   "execution_count": 7,
   "metadata": {},
   "outputs": [
    {
     "name": "stderr",
     "output_type": "stream",
     "text": [
      "C:\\Users\\Shenorr\\AppData\\Roaming\\Python\\Python36\\site-packages\\sklearn\\base.py:197: FutureWarning: From version 0.24, get_params will raise an AttributeError if a parameter cannot be retrieved as an instance attribute. Previously it would return None.\n",
      "  FutureWarning)\n",
      "../preprocess/cell_specifics\\pp_dep_de_based.py:103: FutureWarning: \n",
      "Passing list-likes to .loc or [] with any missing label will raise\n",
      "KeyError in the future, you can use .reindex() as an alternative.\n",
      "\n",
      "See the documentation here:\n",
      "https://pandas.pydata.org/pandas-docs/stable/user_guide/indexing.html#deprecate-loc-reindex-listlike\n",
      "  de_df_per_cell = de_df_per_cell.loc[high_ranked_genes]\n"
     ]
    }
   ],
   "source": [
    "#we dont want to remove all zeros genes in the mixtures - because thos is the problem we want to solve - so i replced B with A \n",
    "pip_all_cells = pipeline.Pipeline(steps=steps_all_cells)\n",
    "pip_all_cells.set_params(**_params)\n",
    "sig_all_cells = pip_all_cells.transform([A_all_vs,A_all_vs])\n",
    "all_proteins_ind = all_proteins_ind.union(sig_all_cells[0].index)"
   ]
  },
  {
   "cell_type": "code",
   "execution_count": 8,
   "metadata": {},
   "outputs": [
    {
     "name": "stderr",
     "output_type": "stream",
     "text": [
      "../preprocess/cell_specifics\\pp_dep_de_based.py:103: FutureWarning: \n",
      "Passing list-likes to .loc or [] with any missing label will raise\n",
      "KeyError in the future, you can use .reindex() as an alternative.\n",
      "\n",
      "See the documentation here:\n",
      "https://pandas.pydata.org/pandas-docs/stable/user_guide/indexing.html#deprecate-loc-reindex-listlike\n",
      "  de_df_per_cell = de_df_per_cell.loc[high_ranked_genes]\n"
     ]
    }
   ],
   "source": [
    "#we dont want to remove all zeros genes in the mixtures - because thos is the problem we want to solve - so i replced B with A \n",
    "pip_few_cells = pipeline.Pipeline(steps=steps_few_cells)\n",
    "pip_few_cells.set_params(**_params)\n",
    "sig_few_cells = pip_few_cells.transform([A_all_vs,A_all_vs])\n",
    "all_proteins_ind = all_proteins_ind.union(sig_few_cells[0].index)"
   ]
  },
  {
   "cell_type": "code",
   "execution_count": 9,
   "metadata": {},
   "outputs": [],
   "source": [
    "all_proteins_ind = all_proteins_ind.drop_duplicates()"
   ]
  },
  {
   "cell_type": "code",
   "execution_count": 10,
   "metadata": {},
   "outputs": [],
   "source": [
    "full_proteins_traget[\"protein\"] = all_proteins_ind.map(lambda x:x[0])\n",
    "full_proteins_traget[\"gene\"] = all_proteins_ind.map(lambda x:x[1])\n",
    "full_proteins_traget[\"source\"] = \"enrichment_based proteins\""
   ]
  },
  {
   "cell_type": "markdown",
   "metadata": {},
   "source": [
    "### transcriptomics"
   ]
  },
  {
   "cell_type": "raw",
   "metadata": {},
   "source": [
    "we are using the data from \"A genome-wide transcriptomic analysis of protein-coding genes in human blood cells\" \n",
    "which is based on the human protein atlas.\n",
    "they took every gene and calc cell-group enrch and single cell enrch.\n",
    "for them enrch is : being 4 fold bigger then any other cell / group"
   ]
  },
  {
   "cell_type": "raw",
   "metadata": {},
   "source": [
    "how we pick : \n",
    "    1.keep only genes that are enrch for specific cell/group\n",
    "    2.keep genes that not exist in no more then a few cells \n",
    "    3.remove gran\n",
    "then we split to cell enrch ang group enrch : \n",
    "for group enrch - we take the top x% (enrch score)\n",
    "for cell enrch -  we take the top N (enrch score) per cell type"
   ]
  },
  {
   "cell_type": "code",
   "execution_count": 11,
   "metadata": {},
   "outputs": [
    {
     "name": "stdout",
     "output_type": "stream",
     "text": [
      "querying 1-1000...done.\n",
      "querying 1001-1361...done.\n",
      "Finished.\n",
      "6 input query terms found no hit:\n",
      "\t['ENSG00000186354', 'ENSG00000183729', 'ENSG00000267697', 'ENSG00000214215', 'ENSG00000284755', 'ENS\n",
      "Pass \"returnall=True\" to return complete lists of duplicate or missing query terms.\n"
     ]
    }
   ],
   "source": [
    "gene_enrch_df = pd.read_excel(\"../data/gene_expression/gene_enrch_score_per_cell.xlsx\")\n",
    "\n",
    "#reindex from ensg_id to gene_name ang protein id : \n",
    "mg = mygene.MyGeneInfo()\n",
    "ens = gene_enrch_df.ensg_id.tolist()\n",
    "ginfo = mg.querymany(ens, scopes='ensembl.gene')\n",
    "\n",
    "ensg_id_to_gene_name_mapping = {}\n",
    "for g in ginfo:\n",
    "    if (\"query\" in g.keys()) and (\"symbol\" in g.keys()) : \n",
    "        ensg_id_to_gene_name_mapping[g[\"query\"]] = g[\"symbol\"]\n",
    "\n",
    "gene_enrch_df[\"ensg_id\"] = gene_enrch_df[\"ensg_id\"].map(ensg_id_to_gene_name_mapping)\n",
    "gene_enrch_df = gene_enrch_df.rename(columns={\"ensg_id\":\"Gene names\"})\n",
    "gene_enrch_df = gene_enrch_df.drop_duplicates(subset=[\"Gene names\"])\n",
    "\n",
    "gene_to_prot_mapping = {gn:mp.split(\";\")[0]  for gn,mp in data_factory._data_loader.get_protein_profile()[[\"Gene names\",\"Majority protein IDs\"]].values}\n",
    "\n",
    "#keep only with known gene names\n",
    "gene_enrch_df = gene_enrch_df[gene_enrch_df[\"Gene names\"].isin(gene_to_prot_mapping.keys())]\n",
    "gene_enrch_df[\"Majority protein IDs\"] = gene_enrch_df[\"Gene names\"].map(lambda x : gene_to_prot_mapping[x])"
   ]
  },
  {
   "cell_type": "code",
   "execution_count": 12,
   "metadata": {},
   "outputs": [],
   "source": [
    "group_enrch_df = gene_enrch_df.loc[gene_enrch_df[\"specificity_category\"] == \"Group enriched\"]\n",
    "group_enrch_df_top = group_enrch_df.nlargest(100,columns=[\"enhanced_score\"])\n",
    "\n",
    "cell_enrch_df = gene_enrch_df.loc[gene_enrch_df[\"specificity_category\"] == \"Tissue enriched\"]\n",
    "cell_enrch_df_top = cell_enrch_df.loc[cell_enrch_df.groupby(by=[\"enhanced_tissues\"])[\"enhanced_score\"].nlargest(10).index.get_level_values(1)]\n",
    "\n",
    "allenrch_df_top = pd.concat([cell_enrch_df_top,group_enrch_df_top]).drop_duplicates(subset=[\"Majority protein IDs\"])"
   ]
  },
  {
   "cell_type": "code",
   "execution_count": 13,
   "metadata": {},
   "outputs": [],
   "source": [
    "_full_proteins_traget = pd.DataFrame()\n",
    "_full_proteins_traget[\"protein\"] = allenrch_df_top[\"Majority protein IDs\"]\n",
    "_full_proteins_traget[\"gene\"] = allenrch_df_top[\"Gene names\"]\n",
    "_full_proteins_traget[\"source\"] = \"enrichment_based genes\"\n",
    "\n",
    "full_proteins_traget = full_proteins_traget.append(_full_proteins_traget)"
   ]
  },
  {
   "cell_type": "markdown",
   "metadata": {},
   "source": [
    "## imputation paper - all proteins ids"
   ]
  },
  {
   "cell_type": "code",
   "execution_count": 14,
   "metadata": {
    "code_folding": [
     0
    ]
   },
   "outputs": [],
   "source": [
    "def update_imputation_paper_summary_results(curr_df,relevent_idx,new_column) : \n",
    "    new_idx = relevent_idx.difference(curr_df.index)\n",
    "    df_section_to_add = pd.DataFrame(index = new_idx,columns=curr_df.columns,data=0)\n",
    "    new_df = pd.concat([curr_df,df_section_to_add])\n",
    "    \n",
    "    new_df[new_column] = 0\n",
    "    new_df[new_column].loc[relevent_idx] = 1\n",
    "    return new_df\n",
    "imputation_paper_summary_results = pd.DataFrame([])"
   ]
  },
  {
   "cell_type": "code",
   "execution_count": 15,
   "metadata": {},
   "outputs": [
    {
     "name": "stderr",
     "output_type": "stream",
     "text": [
      "C:\\ProgramData\\Anaconda3\\lib\\site-packages\\IPython\\kernel\\__main__.py:2: DtypeWarning: Columns (5,6,2764,2765,2773,2774,2775,2776) have mixed types. Specify dtype option on import or set low_memory=False.\n",
      "  from ipykernel import kernelapp as app\n"
     ]
    }
   ],
   "source": [
    "data_factory = DataFactory()\n",
    "A_all_vs,B_all_vs = data_factory.load_IBD_all_vs(\"Intensity\",index_func=lambda x:x.split(\";\")[0],log2_transformation=True)"
   ]
  },
  {
   "cell_type": "code",
   "execution_count": 16,
   "metadata": {},
   "outputs": [],
   "source": [
    "relvent_data = data_factory._build_relvent_data(DataFactory.IBD_A_RELVENT_DATA_all_vs, \"Intensity\")\n",
    "\n",
    "profile_data, profile_data_relvent_data= data_factory.build_cell_specific_profile(\n",
    "            auto_filter_by=True, relvent_data=relvent_data,\n",
    "            relvent_columns=[\"Majority protein IDs\", \"Gene names\"])\n",
    "\n",
    "\n",
    "mixtures, mixtures_relvent_data = data_factory.build_mixture_data(relvent_data=DataFactory.IBD_B_SIMPLE_DATA,\n",
    "                                                                  intensity_type = \"Intensity\",\n",
    "                                                                  relvent_columns=[\"Majority protein IDs\",\"Gene.names\"],\n",
    "                                                                  auto_filter_by=True,\n",
    "                                                                  log2_transformation=True)\n",
    "\n",
    "profile_data[\"Majority protein IDs\"] = profile_data[\"Majority protein IDs\"] .map(lambda x:x.split(\";\")[0])\n",
    "mixtures[\"Majority protein IDs\"] = mixtures[\"Majority protein IDs\"] .map(lambda x:x.split(\";\")[0])\n",
    "\n",
    "profile_data = profile_data.set_index(['Majority protein IDs', 'Gene names'])\n",
    "mixtures = mixtures.set_index(['Majority protein IDs', 'Gene.names'])"
   ]
  },
  {
   "cell_type": "markdown",
   "metadata": {},
   "source": [
    "### from paper"
   ]
  },
  {
   "cell_type": "code",
   "execution_count": 17,
   "metadata": {
    "scrolled": true
   },
   "outputs": [
    {
     "data": {
      "text/html": [
       "<div>\n",
       "<style scoped>\n",
       "    .dataframe tbody tr th:only-of-type {\n",
       "        vertical-align: middle;\n",
       "    }\n",
       "\n",
       "    .dataframe tbody tr th {\n",
       "        vertical-align: top;\n",
       "    }\n",
       "\n",
       "    .dataframe thead th {\n",
       "        text-align: right;\n",
       "    }\n",
       "</style>\n",
       "<table border=\"1\" class=\"dataframe\">\n",
       "  <thead>\n",
       "    <tr style=\"text-align: right;\">\n",
       "      <th></th>\n",
       "      <th>protein names</th>\n",
       "      <th>genes</th>\n",
       "      <th>uniprots</th>\n",
       "    </tr>\n",
       "  </thead>\n",
       "  <tbody>\n",
       "    <tr>\n",
       "      <td>0</td>\n",
       "      <td>CD123</td>\n",
       "      <td>IL3RA</td>\n",
       "      <td>P26951</td>\n",
       "    </tr>\n",
       "    <tr>\n",
       "      <td>1</td>\n",
       "      <td>CD14</td>\n",
       "      <td>CD14</td>\n",
       "      <td>P08571</td>\n",
       "    </tr>\n",
       "    <tr>\n",
       "      <td>2</td>\n",
       "      <td>CD11c</td>\n",
       "      <td>ITGAX</td>\n",
       "      <td>P20702</td>\n",
       "    </tr>\n",
       "    <tr>\n",
       "      <td>3</td>\n",
       "      <td>CD11a</td>\n",
       "      <td>ITGAL</td>\n",
       "      <td>P20701</td>\n",
       "    </tr>\n",
       "    <tr>\n",
       "      <td>4</td>\n",
       "      <td>CD57</td>\n",
       "      <td>KLRG1</td>\n",
       "      <td>Q96E93</td>\n",
       "    </tr>\n",
       "    <tr>\n",
       "      <td>5</td>\n",
       "      <td>CD69</td>\n",
       "      <td>CD69</td>\n",
       "      <td>Q07108</td>\n",
       "    </tr>\n",
       "    <tr>\n",
       "      <td>6</td>\n",
       "      <td>CD45ro</td>\n",
       "      <td>PTPRC</td>\n",
       "      <td>P08575</td>\n",
       "    </tr>\n",
       "    <tr>\n",
       "      <td>7</td>\n",
       "      <td>CD45ra</td>\n",
       "      <td>PTPRC</td>\n",
       "      <td>P08575</td>\n",
       "    </tr>\n",
       "    <tr>\n",
       "      <td>8</td>\n",
       "      <td>CD8</td>\n",
       "      <td>CD8B</td>\n",
       "      <td>P10966</td>\n",
       "    </tr>\n",
       "    <tr>\n",
       "      <td>9</td>\n",
       "      <td>CD4</td>\n",
       "      <td>CD4</td>\n",
       "      <td>P01730</td>\n",
       "    </tr>\n",
       "    <tr>\n",
       "      <td>10</td>\n",
       "      <td>CD3</td>\n",
       "      <td>CD3E</td>\n",
       "      <td>P07766</td>\n",
       "    </tr>\n",
       "    <tr>\n",
       "      <td>11</td>\n",
       "      <td>CD2</td>\n",
       "      <td>CD2BP2</td>\n",
       "      <td>O95400</td>\n",
       "    </tr>\n",
       "    <tr>\n",
       "      <td>12</td>\n",
       "      <td>CD56</td>\n",
       "      <td>NCAM1</td>\n",
       "      <td>P13591</td>\n",
       "    </tr>\n",
       "    <tr>\n",
       "      <td>13</td>\n",
       "      <td>CD16</td>\n",
       "      <td>FCGR3A</td>\n",
       "      <td>P08637</td>\n",
       "    </tr>\n",
       "    <tr>\n",
       "      <td>14</td>\n",
       "      <td>CD19</td>\n",
       "      <td>CD19</td>\n",
       "      <td>P15391</td>\n",
       "    </tr>\n",
       "    <tr>\n",
       "      <td>15</td>\n",
       "      <td>CD27</td>\n",
       "      <td>CD27</td>\n",
       "      <td>P26842</td>\n",
       "    </tr>\n",
       "    <tr>\n",
       "      <td>16</td>\n",
       "      <td>CD34</td>\n",
       "      <td>CD34</td>\n",
       "      <td>P28906</td>\n",
       "    </tr>\n",
       "    <tr>\n",
       "      <td>17</td>\n",
       "      <td>CD38</td>\n",
       "      <td>CD38</td>\n",
       "      <td>P28907</td>\n",
       "    </tr>\n",
       "    <tr>\n",
       "      <td>18</td>\n",
       "      <td>CD127</td>\n",
       "      <td>IL7R</td>\n",
       "      <td>P16871</td>\n",
       "    </tr>\n",
       "    <tr>\n",
       "      <td>19</td>\n",
       "      <td>CD79b</td>\n",
       "      <td>CD79B</td>\n",
       "      <td>P40259</td>\n",
       "    </tr>\n",
       "    <tr>\n",
       "      <td>20</td>\n",
       "      <td>CD28</td>\n",
       "      <td>CD28</td>\n",
       "      <td>P10747</td>\n",
       "    </tr>\n",
       "    <tr>\n",
       "      <td>21</td>\n",
       "      <td>CD161</td>\n",
       "      <td>KLRB1</td>\n",
       "      <td>Q12918</td>\n",
       "    </tr>\n",
       "    <tr>\n",
       "      <td>22</td>\n",
       "      <td>CD278</td>\n",
       "      <td>ICOS</td>\n",
       "      <td>Q9Y6W8</td>\n",
       "    </tr>\n",
       "    <tr>\n",
       "      <td>23</td>\n",
       "      <td>HLA.DR</td>\n",
       "      <td>CD74</td>\n",
       "      <td>P04233</td>\n",
       "    </tr>\n",
       "  </tbody>\n",
       "</table>\n",
       "</div>"
      ],
      "text/plain": [
       "   protein names   genes uniprots\n",
       "0          CD123   IL3RA   P26951\n",
       "1           CD14    CD14   P08571\n",
       "2          CD11c   ITGAX   P20702\n",
       "3          CD11a   ITGAL   P20701\n",
       "4           CD57   KLRG1   Q96E93\n",
       "5           CD69    CD69   Q07108\n",
       "6         CD45ro   PTPRC   P08575\n",
       "7         CD45ra   PTPRC   P08575\n",
       "8            CD8    CD8B   P10966\n",
       "9            CD4     CD4   P01730\n",
       "10           CD3    CD3E   P07766\n",
       "11           CD2  CD2BP2   O95400\n",
       "12          CD56   NCAM1   P13591\n",
       "13          CD16  FCGR3A   P08637\n",
       "14          CD19    CD19   P15391\n",
       "15          CD27    CD27   P26842\n",
       "16          CD34    CD34   P28906\n",
       "17          CD38    CD38   P28907\n",
       "18         CD127    IL7R   P16871\n",
       "19         CD79b   CD79B   P40259\n",
       "20          CD28    CD28   P10747\n",
       "21         CD161   KLRB1   Q12918\n",
       "22         CD278    ICOS   Q9Y6W8\n",
       "23        HLA.DR    CD74   P04233"
      ]
     },
     "execution_count": 17,
     "metadata": {},
     "output_type": "execute_result"
    }
   ],
   "source": [
    "imputed_proteins_names = [\"CD123\" ,\"CD14\"  ,\"CD11c\" ,\"CD11a\" ,\"CD57\"  ,\"CD69\"  ,\"CD45ro\",\"CD45ra\",\"CD8\"   ,\"CD4\"   ,\"CD3\"   ,\"CD2\"   ,\"CD56\"  ,\"CD16\"  ,\"CD19\"  ,\"CD27\"  ,\"CD34\"  ,\"CD38\"  ,\"CD127\" ,\"CD79b\" ,\"CD28\"  ,\"CD161\" ,\"CD278\" ,\"HLA.DR\"]\n",
    "imputed_proteins_genes = [\"IL3RA\" ,\"CD14\"  ,\"ITGAX\" ,\"ITGAL\" ,\"KLRG1\" ,\"CD69\"  ,\"PTPRC\" ,\"PTPRC\" ,\"CD8B\"  ,\"CD4\"   ,\"CD3E\"  ,\"CD2BP2\",\"NCAM1\" ,\"FCGR3A\",\"CD19\"  ,\"CD27\"  ,\"CD34\"  ,\"CD38\"  ,\"IL7R\"  ,\"CD79B\" ,\"CD28\"  ,\"KLRB1\" ,\"ICOS\"  ,\"CD74\"]\n",
    "imputed_proteins_umprs = [\"P26951\",\"P08571\",\"P20702\",\"P20701\",\"Q96E93\",\"Q07108\",\"P08575\",\"P08575\",\"P10966\",\"P01730\",\"P07766\",\"O95400\",\"P13591\",\"P08637\",\"P15391\",\"P26842\",\"P28906\",\"P28907\",\"P16871\",\"P40259\",\"P10747\",\"Q12918\",\"Q9Y6W8\",\"P04233\"]\n",
    "\n",
    "pd.DataFrame(list(zip(imputed_proteins_names,imputed_proteins_genes,imputed_proteins_umprs)),columns=[\"protein names\",\"genes\",\"uniprots\"])"
   ]
  },
  {
   "cell_type": "code",
   "execution_count": 18,
   "metadata": {},
   "outputs": [],
   "source": [
    "all_proteins_ind = all_proteins_ind.union(pd.MultiIndex.from_tuples(list(zip(imputed_proteins_umprs,imputed_proteins_genes))))"
   ]
  },
  {
   "cell_type": "code",
   "execution_count": 19,
   "metadata": {},
   "outputs": [],
   "source": [
    "_full_proteins_traget = pd.DataFrame()\n",
    "_full_proteins_traget[\"protein\"] = imputed_proteins_umprs\n",
    "_full_proteins_traget[\"gene\"] = imputed_proteins_genes\n",
    "_full_proteins_traget[\"source\"] = \"surface proteins\""
   ]
  },
  {
   "cell_type": "code",
   "execution_count": 20,
   "metadata": {},
   "outputs": [],
   "source": [
    "full_proteins_traget = full_proteins_traget.append(_full_proteins_traget)"
   ]
  },
  {
   "cell_type": "markdown",
   "metadata": {
    "heading_collapsed": true
   },
   "source": [
    "### mutual"
   ]
  },
  {
   "cell_type": "code",
   "execution_count": 21,
   "metadata": {
    "hidden": true
   },
   "outputs": [],
   "source": [
    "spaciel_proteins_ind = pd.Index([])\n",
    "\n",
    "# spaciel_proteins_ind = spaciel_proteins_ind.union(A_all_vs.index[A_all_vs.index.map(lambda x: len([ip for ip in imputed_proteins_names if ip in str(x[0])])>0 )])\n",
    "# spaciel_proteins_ind = spaciel_proteins_ind.union(A_all_vs.index[A_all_vs.index.map(lambda x: len([ip for ip in imputed_proteins_names if ip in str(x[1])])>0 )])\n",
    "# spaciel_proteins_ind = spaciel_proteins_ind.union(A_all_vs.index[A_all_vs.index.map(lambda x: len([ip for ip in imputed_proteins_genes if ip in str(x[0])])>0 )])\n",
    "# spaciel_proteins_ind = spaciel_proteins_ind.union(A_all_vs.index[A_all_vs.index.map(lambda x: len([ip for ip in imputed_proteins_genes if ip in str(x[1])])>0 )])\n",
    "spaciel_proteins_ind = spaciel_proteins_ind.union(A_all_vs.index[A_all_vs.index.map(lambda x: len([ip for ip in imputed_proteins_umprs if ip in str(x[0])])>0 )])\n",
    "# spaciel_proteins_ind = spaciel_proteins_ind.union(A_all_vs.index[A_all_vs.index.map(lambda x: len([ip for ip in imputed_proteins_umprs if ip in str(x[1])])>0 )])\n",
    "spaciel_proteins_ind = spaciel_proteins_ind.drop_duplicates()\n",
    "spaciel_proteins_ind\n",
    "\n",
    "imputation_paper_summary_results = update_imputation_paper_summary_results(imputation_paper_summary_results,spaciel_proteins_ind,\"mutual\")"
   ]
  },
  {
   "cell_type": "markdown",
   "metadata": {
    "heading_collapsed": true
   },
   "source": [
    "### A"
   ]
  },
  {
   "cell_type": "code",
   "execution_count": 22,
   "metadata": {
    "hidden": true
   },
   "outputs": [],
   "source": [
    "spaciel_proteins_ind_A = pd.Index([])\n",
    "# spaciel_proteins_ind_A = spaciel_proteins_ind_A.union(profile_data.index[profile_data.index.map(lambda x: len([ip for ip in imputed_proteins_names if ip in str(x[0])])>0 )])\n",
    "# spaciel_proteins_ind_A = spaciel_proteins_ind_A.union(profile_data.index[profile_data.index.map(lambda x: len([ip for ip in imputed_proteins_names if ip in str(x[1])])>0 )])\n",
    "# spaciel_proteins_ind_A = spaciel_proteins_ind_A.union(profile_data.index[profile_data.index.map(lambda x: len([ip for ip in imputed_proteins_genes if ip in str(x[0])])>0 )])\n",
    "# spaciel_proteins_ind_A = spaciel_proteins_ind_A.union(profile_data.index[profile_data.index.map(lambda x: len([ip for ip in imputed_proteins_genes if ip in str(x[1])])>0 )])\n",
    "spaciel_proteins_ind_A = spaciel_proteins_ind_A.union(profile_data.index[profile_data.index.map(lambda x: len([ip for ip in imputed_proteins_umprs if ip in str(x[0])])>0 )])\n",
    "# spaciel_proteins_ind_A = spaciel_proteins_ind_A.union(profile_data.index[profile_data.index.map(lambda x: len([ip for ip in imputed_proteins_umprs if ip in str(x[1])])>0 )])\n",
    "spaciel_proteins_ind_A = spaciel_proteins_ind_A.drop_duplicates()\n",
    "spaciel_proteins_ind_A\n",
    "imputation_paper_summary_results = update_imputation_paper_summary_results(imputation_paper_summary_results,spaciel_proteins_ind_A,\"A\")"
   ]
  },
  {
   "cell_type": "markdown",
   "metadata": {
    "heading_collapsed": true
   },
   "source": [
    "### B"
   ]
  },
  {
   "cell_type": "code",
   "execution_count": 23,
   "metadata": {
    "hidden": true
   },
   "outputs": [],
   "source": [
    "spaciel_proteins_ind_B = pd.Index([])\n",
    "# spaciel_proteins_ind_B = spaciel_proteins_ind_B.union(mixtures.index[mixtures.index.map(lambda x: len([ip for ip in imputed_proteins_names if ip in str(x[0])])>0 )])\n",
    "# spaciel_proteins_ind_B = spaciel_proteins_ind_B.union(mixtures.index[mixtures.index.map(lambda x: len([ip for ip in imputed_proteins_names if ip in str(x[1])])>0 )])\n",
    "# spaciel_proteins_ind_B = spaciel_proteins_ind_B.union(mixtures.index[mixtures.index.map(lambda x: len([ip for ip in imputed_proteins_genes if ip in str(x[0])])>0 )])\n",
    "# spaciel_proteins_ind_B = spaciel_proteins_ind_B.union(mixtures.index[mixtures.index.map(lambda x: len([ip for ip in imputed_proteins_genes if ip in str(x[1])])>0 )])\n",
    "spaciel_proteins_ind_B = spaciel_proteins_ind_B.union(mixtures.index[mixtures.index.map(lambda x: len([ip for ip in imputed_proteins_umprs if ip in str(x[0])])>0 )])\n",
    "# spaciel_proteins_ind_B = spaciel_proteins_ind_B.union(mixtures.index[mixtures.index.map(lambda x: len([ip for ip in imputed_proteins_umprs if ip in str(x[1])])>0 )])\n",
    "spaciel_proteins_ind_B = spaciel_proteins_ind_B.drop_duplicates()\n",
    "spaciel_proteins_ind_B\n",
    "imputation_paper_summary_results = update_imputation_paper_summary_results(imputation_paper_summary_results,spaciel_proteins_ind_B,\"B\")"
   ]
  },
  {
   "cell_type": "code",
   "execution_count": 24,
   "metadata": {
    "hidden": true
   },
   "outputs": [
    {
     "name": "stdout",
     "output_type": "stream",
     "text": [
      "P10966\n",
      "P28906\n"
     ]
    }
   ],
   "source": [
    "\n",
    "for ip in imputed_proteins_umprs : \n",
    "    if len([x for x in imputation_paper_summary_results.index if (ip in x) ]) == 0 : \n",
    "        print(ip)"
   ]
  },
  {
   "cell_type": "code",
   "execution_count": 25,
   "metadata": {
    "hidden": true
   },
   "outputs": [],
   "source": [
    "all_ind_from_paper = imputation_paper_summary_results.copy(deep=True)\n",
    "all_ind_from_paper.loc[('(P28906,CD34)'),all_ind_from_paper.columns] = ([0,0,0])\n",
    "all_ind_from_paper = all_ind_from_paper.rename(columns={\"mutual\":\"both\",\"A\" : \"profile\",\"B\":\"mixtures\"})"
   ]
  },
  {
   "cell_type": "markdown",
   "metadata": {
    "heading_collapsed": true
   },
   "source": [
    "## entropy based"
   ]
  },
  {
   "cell_type": "markdown",
   "metadata": {
    "hidden": true
   },
   "source": [
    "### proteins"
   ]
  },
  {
   "cell_type": "code",
   "execution_count": 26,
   "metadata": {
    "hidden": true
   },
   "outputs": [
    {
     "name": "stderr",
     "output_type": "stream",
     "text": [
      "C:\\ProgramData\\Anaconda3\\lib\\site-packages\\IPython\\kernel\\__main__.py:2: DtypeWarning: Columns (5,6,2764,2765,2773,2774,2775,2776) have mixed types. Specify dtype option on import or set low_memory=False.\n",
      "  from ipykernel import kernelapp as app\n"
     ]
    }
   ],
   "source": [
    "data_factory = DataFactory()\n",
    "A_all_vs,B_all_vs = data_factory.load_IBD_all_vs(\"Intensity\",index_func=lambda x:x.split(\";\")[0],log2_transformation=True)"
   ]
  },
  {
   "cell_type": "code",
   "execution_count": 27,
   "metadata": {
    "hidden": true
   },
   "outputs": [
    {
     "name": "stderr",
     "output_type": "stream",
     "text": [
      "C:\\Users\\Shenorr\\AppData\\Roaming\\Python\\Python36\\site-packages\\sklearn\\base.py:197: FutureWarning: From version 0.24, get_params will raise an AttributeError if a parameter cannot be retrieved as an instance attribute. Previously it would return None.\n",
      "  FutureWarning)\n"
     ]
    }
   ],
   "source": [
    "spec_cells,agg_spec_cells = PpKeepSpecificCells(),PpAggToSpecificCells()\n",
    "agg_iv,pp_irl_prot  = AggregateIntraVariance(),PpCleanIrrelevantProteins()\n",
    "pp_chiv = PpCleanHighIntraVar()\n",
    "pp_entropy_only_largest, pp_entropy, pp_empty,pp_dep = PpEntropyBasedOnlyLargest(), PpEntropyBased(), PpEmpty(),PpDepDeBased()\n",
    "pp_svm_signature,pp_totel_sum = PpSvmSignature(),PpEntropyBasedTotelSum()\n",
    "pp_floor_quantile = PpFloorUnderQuantile()\n",
    "\n",
    "steps_few_cells = [(\"kepp_specific_cells\",spec_cells),(\"cleanHighIntraVariance\",pp_chiv),\n",
    "                  (\"AggregateIntraVariance\",agg_iv),(\"cleen_irrelevant_proteins\",pp_irl_prot),(\"PpEntropy\",pp_entropy)]\n",
    "steps_all_cells = [(\"PpEmpty_cells_filt\",pp_empty),(\"cleanHighIntraVariance\",pp_chiv),\n",
    "                  (\"AggregateIntraVariance\",agg_iv),(\"cleen_irrelevant_proteins\",pp_irl_prot),(\"PpEntropy\",pp_entropy)]\n",
    "\n",
    "\n",
    "_params = {\"cleanHighIntraVariance__how\":\"std\",\"cleanHighIntraVariance__std_trh\":1,\n",
    "                   \"AggregateIntraVariance__how\":\"median\",\"PpEntropy__n_genes_per_cell\":10,\"PpEntropy__number_of_bins\":20,\"PpEntropy__gene_entropy_trh\":2}\n",
    "\n",
    "#we dont want to remove all zeros genes in the mixtures - because thos is the problem we want to solve - so i replced B with A \n",
    "pip_all_cells = pipeline.Pipeline(steps=steps_all_cells)\n",
    "pip_all_cells.set_params(**_params)\n",
    "sig_all_cells = pip_all_cells.transform([A_all_vs,A_all_vs])\n",
    "all_proteins_ind = all_proteins_ind.union(sig_all_cells[0].index)\n",
    "\n",
    "#we dont want to remove all zeros genes in the mixtures - because thos is the problem we want to solve - so i replced B with A \n",
    "pip_few_cells = pipeline.Pipeline(steps=steps_few_cells)\n",
    "pip_few_cells.set_params(**_params)\n",
    "sig_few_cells = pip_few_cells.transform([A_all_vs,A_all_vs])\n",
    "all_proteins_ind = all_proteins_ind.union(sig_few_cells[0].index)\n",
    "\n",
    "all_proteins_ind = all_proteins_ind.drop_duplicates()\n"
   ]
  },
  {
   "cell_type": "code",
   "execution_count": 28,
   "metadata": {
    "hidden": true
   },
   "outputs": [],
   "source": [
    "_full_proteins_traget = pd.DataFrame()\n",
    "_full_proteins_traget[\"protein\"] = sig_few_cells[0].index.map(lambda x:x[0])\n",
    "_full_proteins_traget[\"gene\"] = sig_few_cells[0].index.map(lambda x:x[1])\n",
    "_full_proteins_traget[\"source\"] = \"entropy_based proteins\"\n"
   ]
  },
  {
   "cell_type": "code",
   "execution_count": 29,
   "metadata": {
    "hidden": true
   },
   "outputs": [],
   "source": [
    "full_proteins_traget = full_proteins_traget.append(_full_proteins_traget)"
   ]
  },
  {
   "cell_type": "code",
   "execution_count": 30,
   "metadata": {
    "hidden": true
   },
   "outputs": [],
   "source": [
    "full_proteins_traget = full_proteins_traget.drop_duplicates(subset=[\"protein\",'gene'])"
   ]
  },
  {
   "cell_type": "markdown",
   "metadata": {
    "hidden": true
   },
   "source": [
    "### transcriptomics"
   ]
  },
  {
   "cell_type": "code",
   "execution_count": 31,
   "metadata": {
    "hidden": true
   },
   "outputs": [],
   "source": [
    "nx_mrna_signatures_human_atlas = pd.read_csv(\"../notebooks/DE_gene_exprs/nx_mrna_signatures_human_atlas.csv\")"
   ]
  },
  {
   "cell_type": "code",
   "execution_count": 33,
   "metadata": {
    "hidden": true
   },
   "outputs": [],
   "source": [
    "nx_mrna_signatures_human_atlas['major_protein_id'] = nx_mrna_signatures_human_atlas[\"Gene names\"].map(lambda x:gene_to_prot_mapping[x])\n",
    "nx_mrna_signatures_human_atlas = nx_mrna_signatures_human_atlas.set_index([\"major_protein_id\",\"Gene names\"])"
   ]
  },
  {
   "cell_type": "code",
   "execution_count": 34,
   "metadata": {
    "hidden": true
   },
   "outputs": [
    {
     "name": "stderr",
     "output_type": "stream",
     "text": [
      "C:\\Users\\Shenorr\\AppData\\Roaming\\Python\\Python36\\site-packages\\sklearn\\base.py:197: FutureWarning: From version 0.24, get_params will raise an AttributeError if a parameter cannot be retrieved as an instance attribute. Previously it would return None.\n",
      "  FutureWarning)\n"
     ]
    }
   ],
   "source": [
    "spec_cells,agg_spec_cells = PpKeepSpecificCells(),PpAggToSpecificCells()\n",
    "agg_iv,pp_irl_prot  = AggregateIntraVariance(),PpCleanIrrelevantProteins()\n",
    "pp_chiv = PpCleanHighIntraVar()\n",
    "pp_entropy_only_largest, pp_entropy, pp_empty,pp_dep = PpEntropyBasedOnlyLargest(), PpEntropyBased(), PpEmpty(),PpDepDeBased()\n",
    "pp_svm_signature,pp_totel_sum = PpSvmSignature(),PpEntropyBasedTotelSum()\n",
    "pp_floor_quantile = PpFloorUnderQuantile()\n",
    "\n",
    "steps_few_cells = [(\"cleen_irrelevant_proteins\",pp_irl_prot),(\"PpEntropy\",pp_entropy)]\n",
    "steps_all_cells = [(\"cleen_irrelevant_proteins\",pp_irl_prot),(\"PpEntropy\",pp_entropy)]\n",
    "\n",
    "\n",
    "_params = {\"PpEntropy__n_genes_per_cell\":10,\"PpEntropy__number_of_bins\":0,\"PpEntropy__gene_entropy_trh\":2}\n",
    "\n",
    "#we dont want to remove all zeros genes in the mixtures - because thos is the problem we want to solve - so i replced B with A \n",
    "pip_all_cells = pipeline.Pipeline(steps=steps_all_cells)\n",
    "pip_all_cells.set_params(**_params)\n",
    "sig_all_cells = pip_all_cells.transform([nx_mrna_signatures_human_atlas,nx_mrna_signatures_human_atlas])\n",
    "all_proteins_ind = all_proteins_ind.union(sig_all_cells[0].index)\n",
    "\n",
    "all_proteins_ind = all_proteins_ind.drop_duplicates()\n"
   ]
  },
  {
   "cell_type": "code",
   "execution_count": 35,
   "metadata": {
    "hidden": true
   },
   "outputs": [],
   "source": [
    "_full_proteins_traget = pd.DataFrame()\n",
    "_full_proteins_traget[\"protein\"] = sig_all_cells[0].index.map(lambda x:x[0])\n",
    "_full_proteins_traget[\"gene\"] = sig_all_cells[0].index.map(lambda x:x[1])\n",
    "_full_proteins_traget[\"source\"] = \"entropy_based_mrna\"\n",
    "\n",
    "full_proteins_traget = full_proteins_traget.append(_full_proteins_traget)\n",
    "\n",
    "full_proteins_traget = full_proteins_traget.drop_duplicates(subset=[\"protein\",'gene'])"
   ]
  },
  {
   "cell_type": "markdown",
   "metadata": {},
   "source": [
    "# save results "
   ]
  },
  {
   "cell_type": "code",
   "execution_count": 39,
   "metadata": {},
   "outputs": [
    {
     "data": {
      "text/html": [
       "<div>\n",
       "<style scoped>\n",
       "    .dataframe tbody tr th:only-of-type {\n",
       "        vertical-align: middle;\n",
       "    }\n",
       "\n",
       "    .dataframe tbody tr th {\n",
       "        vertical-align: top;\n",
       "    }\n",
       "\n",
       "    .dataframe thead th {\n",
       "        text-align: right;\n",
       "    }\n",
       "</style>\n",
       "<table border=\"1\" class=\"dataframe\">\n",
       "  <thead>\n",
       "    <tr style=\"text-align: right;\">\n",
       "      <th></th>\n",
       "      <th>protein</th>\n",
       "      <th>gene</th>\n",
       "      <th>source</th>\n",
       "    </tr>\n",
       "  </thead>\n",
       "  <tbody>\n",
       "    <tr>\n",
       "      <td>0</td>\n",
       "      <td>A4D1P6</td>\n",
       "      <td>WDR91</td>\n",
       "      <td>enrichment_based proteins</td>\n",
       "    </tr>\n",
       "    <tr>\n",
       "      <td>1</td>\n",
       "      <td>A7E2V4</td>\n",
       "      <td>ZSWIM8</td>\n",
       "      <td>enrichment_based proteins</td>\n",
       "    </tr>\n",
       "    <tr>\n",
       "      <td>2</td>\n",
       "      <td>B1ALD9</td>\n",
       "      <td>POSTN</td>\n",
       "      <td>enrichment_based proteins</td>\n",
       "    </tr>\n",
       "    <tr>\n",
       "      <td>3</td>\n",
       "      <td>E7ES19</td>\n",
       "      <td>THBS4</td>\n",
       "      <td>enrichment_based proteins</td>\n",
       "    </tr>\n",
       "    <tr>\n",
       "      <td>4</td>\n",
       "      <td>F5H7N8</td>\n",
       "      <td>OLR1</td>\n",
       "      <td>enrichment_based proteins</td>\n",
       "    </tr>\n",
       "    <tr>\n",
       "      <td>...</td>\n",
       "      <td>...</td>\n",
       "      <td>...</td>\n",
       "      <td>...</td>\n",
       "    </tr>\n",
       "    <tr>\n",
       "      <td>69</td>\n",
       "      <td>Q96DT0</td>\n",
       "      <td>LGALS12</td>\n",
       "      <td>entropy_based_mrna</td>\n",
       "    </tr>\n",
       "    <tr>\n",
       "      <td>71</td>\n",
       "      <td>Q9HCN6-3</td>\n",
       "      <td>GP6</td>\n",
       "      <td>entropy_based_mrna</td>\n",
       "    </tr>\n",
       "    <tr>\n",
       "      <td>72</td>\n",
       "      <td>Q9NRG1</td>\n",
       "      <td>PRTFDC1</td>\n",
       "      <td>entropy_based_mrna</td>\n",
       "    </tr>\n",
       "    <tr>\n",
       "      <td>73</td>\n",
       "      <td>Q9UPY6</td>\n",
       "      <td>WASF3</td>\n",
       "      <td>entropy_based_mrna</td>\n",
       "    </tr>\n",
       "    <tr>\n",
       "      <td>74</td>\n",
       "      <td>Q9Y4G6</td>\n",
       "      <td>TLN2</td>\n",
       "      <td>entropy_based_mrna</td>\n",
       "    </tr>\n",
       "  </tbody>\n",
       "</table>\n",
       "<p>628 rows × 3 columns</p>\n",
       "</div>"
      ],
      "text/plain": [
       "     protein     gene                     source\n",
       "0     A4D1P6    WDR91  enrichment_based proteins\n",
       "1     A7E2V4   ZSWIM8  enrichment_based proteins\n",
       "2     B1ALD9    POSTN  enrichment_based proteins\n",
       "3     E7ES19    THBS4  enrichment_based proteins\n",
       "4     F5H7N8     OLR1  enrichment_based proteins\n",
       "..       ...      ...                        ...\n",
       "69    Q96DT0  LGALS12         entropy_based_mrna\n",
       "71  Q9HCN6-3      GP6         entropy_based_mrna\n",
       "72    Q9NRG1  PRTFDC1         entropy_based_mrna\n",
       "73    Q9UPY6    WASF3         entropy_based_mrna\n",
       "74    Q9Y4G6     TLN2         entropy_based_mrna\n",
       "\n",
       "[628 rows x 3 columns]"
      ]
     },
     "execution_count": 39,
     "metadata": {},
     "output_type": "execute_result"
    }
   ],
   "source": [
    "full_proteins_traget"
   ]
  },
  {
   "cell_type": "code",
   "execution_count": 41,
   "metadata": {},
   "outputs": [],
   "source": [
    "full_proteins_traget.to_csv(\"targeted_proteins.csv\")\n"
   ]
  },
  {
   "cell_type": "markdown",
   "metadata": {},
   "source": [
    "# proteins to cells mapping"
   ]
  },
  {
   "cell_type": "markdown",
   "metadata": {},
   "source": [
    "## we are using zscore to find the most relevant cell to each protein"
   ]
  },
  {
   "cell_type": "code",
   "execution_count": 42,
   "metadata": {},
   "outputs": [
    {
     "name": "stderr",
     "output_type": "stream",
     "text": [
      "C:\\ProgramData\\Anaconda3\\lib\\site-packages\\scipy\\stats\\stats.py:2419: RuntimeWarning: invalid value encountered in true_divide\n",
      "  return (a - mns) / sstd\n"
     ]
    }
   ],
   "source": [
    "from scipy.stats import zscore\n",
    "signature_zscore_of_targets_df = agg_iv.transform([A_all_vs.loc[full_proteins_traget.protein],None])[0].copy(deep=True)\n",
    "signature_zscore_of_targets_df = signature_zscore_of_targets_df.T.apply(zscore).T\n",
    "\n",
    "signature_zscore_of_targets_df_1 = signature_zscore_of_targets_df[signature_zscore_of_targets_df>1.35]\n",
    "signature_zscore_of_targets_df_2 = signature_zscore_of_targets_df[signature_zscore_of_targets_df>2]\n",
    "\n"
   ]
  },
  {
   "cell_type": "code",
   "execution_count": 43,
   "metadata": {},
   "outputs": [],
   "source": [
    "_signature_zscore_of_targets_df_2 = signature_zscore_of_targets_df_2.dropna(how = \"all\")\n",
    "filterd_sig_zscore = pd.concat([_signature_zscore_of_targets_df_2,signature_zscore_of_targets_df_1.loc[signature_zscore_of_targets_df_1.index.difference(_signature_zscore_of_targets_df_2.index)]]).fillna(0)"
   ]
  },
  {
   "cell_type": "code",
   "execution_count": 44,
   "metadata": {},
   "outputs": [
    {
     "name": "stderr",
     "output_type": "stream",
     "text": [
      "C:\\ProgramData\\Anaconda3\\lib\\site-packages\\IPython\\kernel\\__main__.py:24: ClusterWarning: scipy.cluster: The symmetric non-negative hollow observation matrix looks suspiciously like an uncondensed distance matrix\n"
     ]
    },
    {
     "data": {
      "image/png": "[encoded data removed]",
      "text/plain": [
       "<Figure size 432x288 with 1 Axes>"
      ]
     },
     "metadata": {},
     "output_type": "display_data"
    }
   ],
   "source": [
    "df_part = filterd_sig_zscore.copy(deep = True)\n",
    "# D = pd.DataFrame(columns = df_part.index,index=df_part.index,data=0)\n",
    "# for i,j in itertools.product(D.index,D.index) : \n",
    "#     distance = 0\n",
    "#     for pn in df_part.columns : \n",
    "#         if (np.sign(df_part.loc[i][pn]) == 1) & (np.sign(df_part.loc[j][pn]) == 1) : \n",
    "#             distance += 0\n",
    "\n",
    "#         if (np.sign(df_part.loc[i][pn]) == 0) & (np.sign(df_part.loc[j][pn]) == 0) : \n",
    "#             distance += 0\n",
    "\n",
    "#         if (np.sign(df_part.loc[i][pn]) != np.sign(df_part.loc[j][pn])) : \n",
    "#             distance += 1\n",
    "\n",
    "#     D.loc[i,j] = distance\n",
    "\n",
    "from scipy.spatial.distance import pdist, squareform\n",
    "import scipy.cluster.hierarchy as sch\n",
    "\n",
    "\n",
    "distances = pdist(df_part, metric=\"hamming\")\n",
    "D = squareform(distances)\n",
    "\n",
    "Y = sch.linkage(D, method='single')\n",
    "Z = sch.dendrogram(Y, orientation='right')\n",
    "order = Z['leaves']\n",
    "plt.show()\n",
    "\n",
    "df_part.iloc[order].to_csv(\"targets proteins to cell.csv\")"
   ]
  },
  {
   "cell_type": "code",
   "execution_count": 45,
   "metadata": {},
   "outputs": [
    {
     "data": {
      "text/plain": [
       "<AxesSubplot:xlabel='cell', ylabel='major_protein_id-Gene names'>"
      ]
     },
     "execution_count": 45,
     "metadata": {},
     "output_type": "execute_result"
    },
    {
     "data": {
      "image/png": "[encoded data removed]",
      "text/plain": [
       "<Figure size 432x288 with 2 Axes>"
      ]
     },
     "metadata": {},
     "output_type": "display_data"
    }
   ],
   "source": [
    "sns.heatmap(df_part)\n"
   ]
  },
  {
   "cell_type": "code",
   "execution_count": 46,
   "metadata": {},
   "outputs": [
    {
     "data": {
      "text/html": [
       "<div>\n",
       "<style scoped>\n",
       "    .dataframe tbody tr th:only-of-type {\n",
       "        vertical-align: middle;\n",
       "    }\n",
       "\n",
       "    .dataframe tbody tr th {\n",
       "        vertical-align: top;\n",
       "    }\n",
       "\n",
       "    .dataframe thead th {\n",
       "        text-align: right;\n",
       "    }\n",
       "</style>\n",
       "<table border=\"1\" class=\"dataframe\">\n",
       "  <thead>\n",
       "    <tr style=\"text-align: right;\">\n",
       "      <th></th>\n",
       "      <th>cell</th>\n",
       "      <th>Intensity NOT_BCellmemory</th>\n",
       "      <th>Intensity NOT_BCellnaive</th>\n",
       "      <th>Intensity NOT_BCellplasma</th>\n",
       "      <th>Intensity NOT_CD4TCellTcm</th>\n",
       "      <th>Intensity NOT_CD4TCellTem</th>\n",
       "      <th>Intensity NOT_CD4TCellTemra</th>\n",
       "      <th>Intensity NOT_CD4TCellTh1</th>\n",
       "      <th>Intensity NOT_CD4TCellTh17</th>\n",
       "      <th>Intensity NOT_CD4TCellTh2</th>\n",
       "      <th>Intensity NOT_CD4TCellmTregs</th>\n",
       "      <th>...</th>\n",
       "      <th>Intensity NOT_CD8TCellTem</th>\n",
       "      <th>Intensity NOT_CD8TCellTemra</th>\n",
       "      <th>Intensity NOT_CD8TCellnaive</th>\n",
       "      <th>Intensity NOT_DendriticCD1c</th>\n",
       "      <th>Intensity NOT_DendriticCD304</th>\n",
       "      <th>Intensity NOT_Monocytesclassical</th>\n",
       "      <th>Intensity NOT_Monocytesintermediate</th>\n",
       "      <th>Intensity NOT_Monocytesnonclassical</th>\n",
       "      <th>Intensity NOT_NKCellsCD56bright</th>\n",
       "      <th>Intensity NOT_NKCellsCD56dim</th>\n",
       "    </tr>\n",
       "    <tr>\n",
       "      <th>major_protein_id</th>\n",
       "      <th>Gene names</th>\n",
       "      <th></th>\n",
       "      <th></th>\n",
       "      <th></th>\n",
       "      <th></th>\n",
       "      <th></th>\n",
       "      <th></th>\n",
       "      <th></th>\n",
       "      <th></th>\n",
       "      <th></th>\n",
       "      <th></th>\n",
       "      <th></th>\n",
       "      <th></th>\n",
       "      <th></th>\n",
       "      <th></th>\n",
       "      <th></th>\n",
       "      <th></th>\n",
       "      <th></th>\n",
       "      <th></th>\n",
       "      <th></th>\n",
       "      <th></th>\n",
       "      <th></th>\n",
       "    </tr>\n",
       "  </thead>\n",
       "  <tbody>\n",
       "    <tr>\n",
       "      <td>A0A087WVK0</td>\n",
       "      <td>NaN</td>\n",
       "      <td>0.000000</td>\n",
       "      <td>0.000000</td>\n",
       "      <td>0.0</td>\n",
       "      <td>0.000000</td>\n",
       "      <td>0.000000</td>\n",
       "      <td>0.0</td>\n",
       "      <td>0.0</td>\n",
       "      <td>0.000000</td>\n",
       "      <td>0.000000</td>\n",
       "      <td>0.0</td>\n",
       "      <td>...</td>\n",
       "      <td>0.000000</td>\n",
       "      <td>0.0</td>\n",
       "      <td>0.0</td>\n",
       "      <td>0.0</td>\n",
       "      <td>0.000000</td>\n",
       "      <td>4.480235</td>\n",
       "      <td>0.000000</td>\n",
       "      <td>0.0</td>\n",
       "      <td>0.000000</td>\n",
       "      <td>0.000000</td>\n",
       "    </tr>\n",
       "    <tr>\n",
       "      <td>A0A087WVM2</td>\n",
       "      <td>CD177</td>\n",
       "      <td>0.000000</td>\n",
       "      <td>0.000000</td>\n",
       "      <td>0.0</td>\n",
       "      <td>0.000000</td>\n",
       "      <td>0.000000</td>\n",
       "      <td>0.0</td>\n",
       "      <td>0.0</td>\n",
       "      <td>3.102131</td>\n",
       "      <td>0.000000</td>\n",
       "      <td>0.0</td>\n",
       "      <td>...</td>\n",
       "      <td>0.000000</td>\n",
       "      <td>0.0</td>\n",
       "      <td>0.0</td>\n",
       "      <td>0.0</td>\n",
       "      <td>0.000000</td>\n",
       "      <td>0.000000</td>\n",
       "      <td>3.214676</td>\n",
       "      <td>0.0</td>\n",
       "      <td>0.000000</td>\n",
       "      <td>0.000000</td>\n",
       "    </tr>\n",
       "    <tr>\n",
       "      <td>A0A087WZR4</td>\n",
       "      <td>FCGR3B</td>\n",
       "      <td>0.000000</td>\n",
       "      <td>0.000000</td>\n",
       "      <td>0.0</td>\n",
       "      <td>0.000000</td>\n",
       "      <td>0.000000</td>\n",
       "      <td>0.0</td>\n",
       "      <td>0.0</td>\n",
       "      <td>0.000000</td>\n",
       "      <td>0.000000</td>\n",
       "      <td>0.0</td>\n",
       "      <td>...</td>\n",
       "      <td>0.000000</td>\n",
       "      <td>0.0</td>\n",
       "      <td>0.0</td>\n",
       "      <td>0.0</td>\n",
       "      <td>0.000000</td>\n",
       "      <td>0.000000</td>\n",
       "      <td>0.000000</td>\n",
       "      <td>0.0</td>\n",
       "      <td>0.000000</td>\n",
       "      <td>3.993062</td>\n",
       "    </tr>\n",
       "    <tr>\n",
       "      <td>A0A0A0MS09</td>\n",
       "      <td>IGHD</td>\n",
       "      <td>3.558081</td>\n",
       "      <td>2.832814</td>\n",
       "      <td>0.0</td>\n",
       "      <td>0.000000</td>\n",
       "      <td>0.000000</td>\n",
       "      <td>0.0</td>\n",
       "      <td>0.0</td>\n",
       "      <td>0.000000</td>\n",
       "      <td>0.000000</td>\n",
       "      <td>0.0</td>\n",
       "      <td>...</td>\n",
       "      <td>0.000000</td>\n",
       "      <td>0.0</td>\n",
       "      <td>0.0</td>\n",
       "      <td>0.0</td>\n",
       "      <td>0.000000</td>\n",
       "      <td>0.000000</td>\n",
       "      <td>0.000000</td>\n",
       "      <td>0.0</td>\n",
       "      <td>0.000000</td>\n",
       "      <td>0.000000</td>\n",
       "    </tr>\n",
       "    <tr>\n",
       "      <td>A4D1P6</td>\n",
       "      <td>WDR91</td>\n",
       "      <td>0.000000</td>\n",
       "      <td>0.000000</td>\n",
       "      <td>0.0</td>\n",
       "      <td>0.000000</td>\n",
       "      <td>0.000000</td>\n",
       "      <td>0.0</td>\n",
       "      <td>0.0</td>\n",
       "      <td>0.000000</td>\n",
       "      <td>0.000000</td>\n",
       "      <td>0.0</td>\n",
       "      <td>...</td>\n",
       "      <td>0.000000</td>\n",
       "      <td>0.0</td>\n",
       "      <td>0.0</td>\n",
       "      <td>0.0</td>\n",
       "      <td>2.086114</td>\n",
       "      <td>0.000000</td>\n",
       "      <td>0.000000</td>\n",
       "      <td>0.0</td>\n",
       "      <td>0.000000</td>\n",
       "      <td>0.000000</td>\n",
       "    </tr>\n",
       "    <tr>\n",
       "      <td>...</td>\n",
       "      <td>...</td>\n",
       "      <td>...</td>\n",
       "      <td>...</td>\n",
       "      <td>...</td>\n",
       "      <td>...</td>\n",
       "      <td>...</td>\n",
       "      <td>...</td>\n",
       "      <td>...</td>\n",
       "      <td>...</td>\n",
       "      <td>...</td>\n",
       "      <td>...</td>\n",
       "      <td>...</td>\n",
       "      <td>...</td>\n",
       "      <td>...</td>\n",
       "      <td>...</td>\n",
       "      <td>...</td>\n",
       "      <td>...</td>\n",
       "      <td>...</td>\n",
       "      <td>...</td>\n",
       "      <td>...</td>\n",
       "      <td>...</td>\n",
       "      <td>...</td>\n",
       "    </tr>\n",
       "    <tr>\n",
       "      <td>Q13825</td>\n",
       "      <td>AUH</td>\n",
       "      <td>0.000000</td>\n",
       "      <td>0.000000</td>\n",
       "      <td>0.0</td>\n",
       "      <td>0.000000</td>\n",
       "      <td>0.000000</td>\n",
       "      <td>0.0</td>\n",
       "      <td>0.0</td>\n",
       "      <td>0.000000</td>\n",
       "      <td>0.000000</td>\n",
       "      <td>0.0</td>\n",
       "      <td>...</td>\n",
       "      <td>1.460506</td>\n",
       "      <td>0.0</td>\n",
       "      <td>0.0</td>\n",
       "      <td>0.0</td>\n",
       "      <td>0.000000</td>\n",
       "      <td>0.000000</td>\n",
       "      <td>0.000000</td>\n",
       "      <td>0.0</td>\n",
       "      <td>0.000000</td>\n",
       "      <td>0.000000</td>\n",
       "    </tr>\n",
       "    <tr>\n",
       "      <td>Q8IZ07</td>\n",
       "      <td>ANKRD13A</td>\n",
       "      <td>0.000000</td>\n",
       "      <td>0.000000</td>\n",
       "      <td>0.0</td>\n",
       "      <td>1.592002</td>\n",
       "      <td>1.410864</td>\n",
       "      <td>0.0</td>\n",
       "      <td>0.0</td>\n",
       "      <td>0.000000</td>\n",
       "      <td>1.468917</td>\n",
       "      <td>0.0</td>\n",
       "      <td>...</td>\n",
       "      <td>0.000000</td>\n",
       "      <td>0.0</td>\n",
       "      <td>0.0</td>\n",
       "      <td>0.0</td>\n",
       "      <td>0.000000</td>\n",
       "      <td>0.000000</td>\n",
       "      <td>0.000000</td>\n",
       "      <td>0.0</td>\n",
       "      <td>0.000000</td>\n",
       "      <td>0.000000</td>\n",
       "    </tr>\n",
       "    <tr>\n",
       "      <td>Q99633</td>\n",
       "      <td>PRPF18;LOC101928524</td>\n",
       "      <td>0.000000</td>\n",
       "      <td>0.000000</td>\n",
       "      <td>0.0</td>\n",
       "      <td>0.000000</td>\n",
       "      <td>0.000000</td>\n",
       "      <td>0.0</td>\n",
       "      <td>0.0</td>\n",
       "      <td>1.668380</td>\n",
       "      <td>0.000000</td>\n",
       "      <td>0.0</td>\n",
       "      <td>...</td>\n",
       "      <td>0.000000</td>\n",
       "      <td>0.0</td>\n",
       "      <td>0.0</td>\n",
       "      <td>0.0</td>\n",
       "      <td>1.971101</td>\n",
       "      <td>0.000000</td>\n",
       "      <td>0.000000</td>\n",
       "      <td>0.0</td>\n",
       "      <td>1.427938</td>\n",
       "      <td>0.000000</td>\n",
       "    </tr>\n",
       "    <tr>\n",
       "      <td>Q9C0K0</td>\n",
       "      <td>BCL11B</td>\n",
       "      <td>0.000000</td>\n",
       "      <td>0.000000</td>\n",
       "      <td>0.0</td>\n",
       "      <td>1.482989</td>\n",
       "      <td>0.000000</td>\n",
       "      <td>0.0</td>\n",
       "      <td>0.0</td>\n",
       "      <td>0.000000</td>\n",
       "      <td>0.000000</td>\n",
       "      <td>0.0</td>\n",
       "      <td>...</td>\n",
       "      <td>0.000000</td>\n",
       "      <td>0.0</td>\n",
       "      <td>0.0</td>\n",
       "      <td>0.0</td>\n",
       "      <td>0.000000</td>\n",
       "      <td>0.000000</td>\n",
       "      <td>0.000000</td>\n",
       "      <td>0.0</td>\n",
       "      <td>0.000000</td>\n",
       "      <td>0.000000</td>\n",
       "    </tr>\n",
       "    <tr>\n",
       "      <td>Q9UPY6</td>\n",
       "      <td>WASF3</td>\n",
       "      <td>0.000000</td>\n",
       "      <td>0.000000</td>\n",
       "      <td>0.0</td>\n",
       "      <td>0.000000</td>\n",
       "      <td>0.000000</td>\n",
       "      <td>0.0</td>\n",
       "      <td>0.0</td>\n",
       "      <td>0.000000</td>\n",
       "      <td>0.000000</td>\n",
       "      <td>0.0</td>\n",
       "      <td>...</td>\n",
       "      <td>0.000000</td>\n",
       "      <td>0.0</td>\n",
       "      <td>0.0</td>\n",
       "      <td>0.0</td>\n",
       "      <td>0.000000</td>\n",
       "      <td>0.000000</td>\n",
       "      <td>0.000000</td>\n",
       "      <td>0.0</td>\n",
       "      <td>0.000000</td>\n",
       "      <td>0.000000</td>\n",
       "    </tr>\n",
       "  </tbody>\n",
       "</table>\n",
       "<p>391 rows × 23 columns</p>\n",
       "</div>"
      ],
      "text/plain": [
       "cell                                  Intensity NOT_BCellmemory  \\\n",
       "major_protein_id Gene names                                       \n",
       "A0A087WVK0       NaN                                   0.000000   \n",
       "A0A087WVM2       CD177                                 0.000000   \n",
       "A0A087WZR4       FCGR3B                                0.000000   \n",
       "A0A0A0MS09       IGHD                                  3.558081   \n",
       "A4D1P6           WDR91                                 0.000000   \n",
       "...                                                         ...   \n",
       "Q13825           AUH                                   0.000000   \n",
       "Q8IZ07           ANKRD13A                              0.000000   \n",
       "Q99633           PRPF18;LOC101928524                   0.000000   \n",
       "Q9C0K0           BCL11B                                0.000000   \n",
       "Q9UPY6           WASF3                                 0.000000   \n",
       "\n",
       "cell                                  Intensity NOT_BCellnaive  \\\n",
       "major_protein_id Gene names                                      \n",
       "A0A087WVK0       NaN                                  0.000000   \n",
       "A0A087WVM2       CD177                                0.000000   \n",
       "A0A087WZR4       FCGR3B                               0.000000   \n",
       "A0A0A0MS09       IGHD                                 2.832814   \n",
       "A4D1P6           WDR91                                0.000000   \n",
       "...                                                        ...   \n",
       "Q13825           AUH                                  0.000000   \n",
       "Q8IZ07           ANKRD13A                             0.000000   \n",
       "Q99633           PRPF18;LOC101928524                  0.000000   \n",
       "Q9C0K0           BCL11B                               0.000000   \n",
       "Q9UPY6           WASF3                                0.000000   \n",
       "\n",
       "cell                                  Intensity NOT_BCellplasma  \\\n",
       "major_protein_id Gene names                                       \n",
       "A0A087WVK0       NaN                                        0.0   \n",
       "A0A087WVM2       CD177                                      0.0   \n",
       "A0A087WZR4       FCGR3B                                     0.0   \n",
       "A0A0A0MS09       IGHD                                       0.0   \n",
       "A4D1P6           WDR91                                      0.0   \n",
       "...                                                         ...   \n",
       "Q13825           AUH                                        0.0   \n",
       "Q8IZ07           ANKRD13A                                   0.0   \n",
       "Q99633           PRPF18;LOC101928524                        0.0   \n",
       "Q9C0K0           BCL11B                                     0.0   \n",
       "Q9UPY6           WASF3                                      0.0   \n",
       "\n",
       "cell                                  Intensity NOT_CD4TCellTcm  \\\n",
       "major_protein_id Gene names                                       \n",
       "A0A087WVK0       NaN                                   0.000000   \n",
       "A0A087WVM2       CD177                                 0.000000   \n",
       "A0A087WZR4       FCGR3B                                0.000000   \n",
       "A0A0A0MS09       IGHD                                  0.000000   \n",
       "A4D1P6           WDR91                                 0.000000   \n",
       "...                                                         ...   \n",
       "Q13825           AUH                                   0.000000   \n",
       "Q8IZ07           ANKRD13A                              1.592002   \n",
       "Q99633           PRPF18;LOC101928524                   0.000000   \n",
       "Q9C0K0           BCL11B                                1.482989   \n",
       "Q9UPY6           WASF3                                 0.000000   \n",
       "\n",
       "cell                                  Intensity NOT_CD4TCellTem  \\\n",
       "major_protein_id Gene names                                       \n",
       "A0A087WVK0       NaN                                   0.000000   \n",
       "A0A087WVM2       CD177                                 0.000000   \n",
       "A0A087WZR4       FCGR3B                                0.000000   \n",
       "A0A0A0MS09       IGHD                                  0.000000   \n",
       "A4D1P6           WDR91                                 0.000000   \n",
       "...                                                         ...   \n",
       "Q13825           AUH                                   0.000000   \n",
       "Q8IZ07           ANKRD13A                              1.410864   \n",
       "Q99633           PRPF18;LOC101928524                   0.000000   \n",
       "Q9C0K0           BCL11B                                0.000000   \n",
       "Q9UPY6           WASF3                                 0.000000   \n",
       "\n",
       "cell                                  Intensity NOT_CD4TCellTemra  \\\n",
       "major_protein_id Gene names                                         \n",
       "A0A087WVK0       NaN                                          0.0   \n",
       "A0A087WVM2       CD177                                        0.0   \n",
       "A0A087WZR4       FCGR3B                                       0.0   \n",
       "A0A0A0MS09       IGHD                                         0.0   \n",
       "A4D1P6           WDR91                                        0.0   \n",
       "...                                                           ...   \n",
       "Q13825           AUH                                          0.0   \n",
       "Q8IZ07           ANKRD13A                                     0.0   \n",
       "Q99633           PRPF18;LOC101928524                          0.0   \n",
       "Q9C0K0           BCL11B                                       0.0   \n",
       "Q9UPY6           WASF3                                        0.0   \n",
       "\n",
       "cell                                  Intensity NOT_CD4TCellTh1  \\\n",
       "major_protein_id Gene names                                       \n",
       "A0A087WVK0       NaN                                        0.0   \n",
       "A0A087WVM2       CD177                                      0.0   \n",
       "A0A087WZR4       FCGR3B                                     0.0   \n",
       "A0A0A0MS09       IGHD                                       0.0   \n",
       "A4D1P6           WDR91                                      0.0   \n",
       "...                                                         ...   \n",
       "Q13825           AUH                                        0.0   \n",
       "Q8IZ07           ANKRD13A                                   0.0   \n",
       "Q99633           PRPF18;LOC101928524                        0.0   \n",
       "Q9C0K0           BCL11B                                     0.0   \n",
       "Q9UPY6           WASF3                                      0.0   \n",
       "\n",
       "cell                                  Intensity NOT_CD4TCellTh17  \\\n",
       "major_protein_id Gene names                                        \n",
       "A0A087WVK0       NaN                                    0.000000   \n",
       "A0A087WVM2       CD177                                  3.102131   \n",
       "A0A087WZR4       FCGR3B                                 0.000000   \n",
       "A0A0A0MS09       IGHD                                   0.000000   \n",
       "A4D1P6           WDR91                                  0.000000   \n",
       "...                                                          ...   \n",
       "Q13825           AUH                                    0.000000   \n",
       "Q8IZ07           ANKRD13A                               0.000000   \n",
       "Q99633           PRPF18;LOC101928524                    1.668380   \n",
       "Q9C0K0           BCL11B                                 0.000000   \n",
       "Q9UPY6           WASF3                                  0.000000   \n",
       "\n",
       "cell                                  Intensity NOT_CD4TCellTh2  \\\n",
       "major_protein_id Gene names                                       \n",
       "A0A087WVK0       NaN                                   0.000000   \n",
       "A0A087WVM2       CD177                                 0.000000   \n",
       "A0A087WZR4       FCGR3B                                0.000000   \n",
       "A0A0A0MS09       IGHD                                  0.000000   \n",
       "A4D1P6           WDR91                                 0.000000   \n",
       "...                                                         ...   \n",
       "Q13825           AUH                                   0.000000   \n",
       "Q8IZ07           ANKRD13A                              1.468917   \n",
       "Q99633           PRPF18;LOC101928524                   0.000000   \n",
       "Q9C0K0           BCL11B                                0.000000   \n",
       "Q9UPY6           WASF3                                 0.000000   \n",
       "\n",
       "cell                                  Intensity NOT_CD4TCellmTregs  ...  \\\n",
       "major_protein_id Gene names                                         ...   \n",
       "A0A087WVK0       NaN                                           0.0  ...   \n",
       "A0A087WVM2       CD177                                         0.0  ...   \n",
       "A0A087WZR4       FCGR3B                                        0.0  ...   \n",
       "A0A0A0MS09       IGHD                                          0.0  ...   \n",
       "A4D1P6           WDR91                                         0.0  ...   \n",
       "...                                                            ...  ...   \n",
       "Q13825           AUH                                           0.0  ...   \n",
       "Q8IZ07           ANKRD13A                                      0.0  ...   \n",
       "Q99633           PRPF18;LOC101928524                           0.0  ...   \n",
       "Q9C0K0           BCL11B                                        0.0  ...   \n",
       "Q9UPY6           WASF3                                         0.0  ...   \n",
       "\n",
       "cell                                  Intensity NOT_CD8TCellTem  \\\n",
       "major_protein_id Gene names                                       \n",
       "A0A087WVK0       NaN                                   0.000000   \n",
       "A0A087WVM2       CD177                                 0.000000   \n",
       "A0A087WZR4       FCGR3B                                0.000000   \n",
       "A0A0A0MS09       IGHD                                  0.000000   \n",
       "A4D1P6           WDR91                                 0.000000   \n",
       "...                                                         ...   \n",
       "Q13825           AUH                                   1.460506   \n",
       "Q8IZ07           ANKRD13A                              0.000000   \n",
       "Q99633           PRPF18;LOC101928524                   0.000000   \n",
       "Q9C0K0           BCL11B                                0.000000   \n",
       "Q9UPY6           WASF3                                 0.000000   \n",
       "\n",
       "cell                                  Intensity NOT_CD8TCellTemra  \\\n",
       "major_protein_id Gene names                                         \n",
       "A0A087WVK0       NaN                                          0.0   \n",
       "A0A087WVM2       CD177                                        0.0   \n",
       "A0A087WZR4       FCGR3B                                       0.0   \n",
       "A0A0A0MS09       IGHD                                         0.0   \n",
       "A4D1P6           WDR91                                        0.0   \n",
       "...                                                           ...   \n",
       "Q13825           AUH                                          0.0   \n",
       "Q8IZ07           ANKRD13A                                     0.0   \n",
       "Q99633           PRPF18;LOC101928524                          0.0   \n",
       "Q9C0K0           BCL11B                                       0.0   \n",
       "Q9UPY6           WASF3                                        0.0   \n",
       "\n",
       "cell                                  Intensity NOT_CD8TCellnaive  \\\n",
       "major_protein_id Gene names                                         \n",
       "A0A087WVK0       NaN                                          0.0   \n",
       "A0A087WVM2       CD177                                        0.0   \n",
       "A0A087WZR4       FCGR3B                                       0.0   \n",
       "A0A0A0MS09       IGHD                                         0.0   \n",
       "A4D1P6           WDR91                                        0.0   \n",
       "...                                                           ...   \n",
       "Q13825           AUH                                          0.0   \n",
       "Q8IZ07           ANKRD13A                                     0.0   \n",
       "Q99633           PRPF18;LOC101928524                          0.0   \n",
       "Q9C0K0           BCL11B                                       0.0   \n",
       "Q9UPY6           WASF3                                        0.0   \n",
       "\n",
       "cell                                  Intensity NOT_DendriticCD1c  \\\n",
       "major_protein_id Gene names                                         \n",
       "A0A087WVK0       NaN                                          0.0   \n",
       "A0A087WVM2       CD177                                        0.0   \n",
       "A0A087WZR4       FCGR3B                                       0.0   \n",
       "A0A0A0MS09       IGHD                                         0.0   \n",
       "A4D1P6           WDR91                                        0.0   \n",
       "...                                                           ...   \n",
       "Q13825           AUH                                          0.0   \n",
       "Q8IZ07           ANKRD13A                                     0.0   \n",
       "Q99633           PRPF18;LOC101928524                          0.0   \n",
       "Q9C0K0           BCL11B                                       0.0   \n",
       "Q9UPY6           WASF3                                        0.0   \n",
       "\n",
       "cell                                  Intensity NOT_DendriticCD304  \\\n",
       "major_protein_id Gene names                                          \n",
       "A0A087WVK0       NaN                                      0.000000   \n",
       "A0A087WVM2       CD177                                    0.000000   \n",
       "A0A087WZR4       FCGR3B                                   0.000000   \n",
       "A0A0A0MS09       IGHD                                     0.000000   \n",
       "A4D1P6           WDR91                                    2.086114   \n",
       "...                                                            ...   \n",
       "Q13825           AUH                                      0.000000   \n",
       "Q8IZ07           ANKRD13A                                 0.000000   \n",
       "Q99633           PRPF18;LOC101928524                      1.971101   \n",
       "Q9C0K0           BCL11B                                   0.000000   \n",
       "Q9UPY6           WASF3                                    0.000000   \n",
       "\n",
       "cell                                  Intensity NOT_Monocytesclassical  \\\n",
       "major_protein_id Gene names                                              \n",
       "A0A087WVK0       NaN                                          4.480235   \n",
       "A0A087WVM2       CD177                                        0.000000   \n",
       "A0A087WZR4       FCGR3B                                       0.000000   \n",
       "A0A0A0MS09       IGHD                                         0.000000   \n",
       "A4D1P6           WDR91                                        0.000000   \n",
       "...                                                                ...   \n",
       "Q13825           AUH                                          0.000000   \n",
       "Q8IZ07           ANKRD13A                                     0.000000   \n",
       "Q99633           PRPF18;LOC101928524                          0.000000   \n",
       "Q9C0K0           BCL11B                                       0.000000   \n",
       "Q9UPY6           WASF3                                        0.000000   \n",
       "\n",
       "cell                                  Intensity NOT_Monocytesintermediate  \\\n",
       "major_protein_id Gene names                                                 \n",
       "A0A087WVK0       NaN                                             0.000000   \n",
       "A0A087WVM2       CD177                                           3.214676   \n",
       "A0A087WZR4       FCGR3B                                          0.000000   \n",
       "A0A0A0MS09       IGHD                                            0.000000   \n",
       "A4D1P6           WDR91                                           0.000000   \n",
       "...                                                                   ...   \n",
       "Q13825           AUH                                             0.000000   \n",
       "Q8IZ07           ANKRD13A                                        0.000000   \n",
       "Q99633           PRPF18;LOC101928524                             0.000000   \n",
       "Q9C0K0           BCL11B                                          0.000000   \n",
       "Q9UPY6           WASF3                                           0.000000   \n",
       "\n",
       "cell                                  Intensity NOT_Monocytesnonclassical  \\\n",
       "major_protein_id Gene names                                                 \n",
       "A0A087WVK0       NaN                                                  0.0   \n",
       "A0A087WVM2       CD177                                                0.0   \n",
       "A0A087WZR4       FCGR3B                                               0.0   \n",
       "A0A0A0MS09       IGHD                                                 0.0   \n",
       "A4D1P6           WDR91                                                0.0   \n",
       "...                                                                   ...   \n",
       "Q13825           AUH                                                  0.0   \n",
       "Q8IZ07           ANKRD13A                                             0.0   \n",
       "Q99633           PRPF18;LOC101928524                                  0.0   \n",
       "Q9C0K0           BCL11B                                               0.0   \n",
       "Q9UPY6           WASF3                                                0.0   \n",
       "\n",
       "cell                                  Intensity NOT_NKCellsCD56bright  \\\n",
       "major_protein_id Gene names                                             \n",
       "A0A087WVK0       NaN                                         0.000000   \n",
       "A0A087WVM2       CD177                                       0.000000   \n",
       "A0A087WZR4       FCGR3B                                      0.000000   \n",
       "A0A0A0MS09       IGHD                                        0.000000   \n",
       "A4D1P6           WDR91                                       0.000000   \n",
       "...                                                               ...   \n",
       "Q13825           AUH                                         0.000000   \n",
       "Q8IZ07           ANKRD13A                                    0.000000   \n",
       "Q99633           PRPF18;LOC101928524                         1.427938   \n",
       "Q9C0K0           BCL11B                                      0.000000   \n",
       "Q9UPY6           WASF3                                       0.000000   \n",
       "\n",
       "cell                                  Intensity NOT_NKCellsCD56dim  \n",
       "major_protein_id Gene names                                         \n",
       "A0A087WVK0       NaN                                      0.000000  \n",
       "A0A087WVM2       CD177                                    0.000000  \n",
       "A0A087WZR4       FCGR3B                                   3.993062  \n",
       "A0A0A0MS09       IGHD                                     0.000000  \n",
       "A4D1P6           WDR91                                    0.000000  \n",
       "...                                                            ...  \n",
       "Q13825           AUH                                      0.000000  \n",
       "Q8IZ07           ANKRD13A                                 0.000000  \n",
       "Q99633           PRPF18;LOC101928524                      0.000000  \n",
       "Q9C0K0           BCL11B                                   0.000000  \n",
       "Q9UPY6           WASF3                                    0.000000  \n",
       "\n",
       "[391 rows x 23 columns]"
      ]
     },
     "execution_count": 46,
     "metadata": {},
     "output_type": "execute_result"
    }
   ],
   "source": [
    "df_part"
   ]
  },
  {
   "cell_type": "markdown",
   "metadata": {},
   "source": [
    "# test"
   ]
  },
  {
   "cell_type": "code",
   "execution_count": null,
   "metadata": {},
   "outputs": [],
   "source": [
    "# data_factory = DataFactory()\n",
    "# A_all_vs,B_all_vs = data_factory.load_IBD_all_vs(\"Intensity\",index_func=lambda x:x.split(\";\")[0],log2_transformation=True)\n",
    "\n",
    "# B = B_all_vs.copy(deep=True)"
   ]
  },
  {
   "cell_type": "code",
   "execution_count": null,
   "metadata": {},
   "outputs": [],
   "source": [
    "# B.index = B.index.droplevel(0)"
   ]
  },
  {
   "cell_type": "code",
   "execution_count": null,
   "metadata": {},
   "outputs": [],
   "source": [
    "# A_tmp = pd.DataFrame(columns=A.columns,index=A.index[1:100],data=A.iloc[1:100])\n",
    "# A_tmp.index = A_tmp.index.map(lambda x:f\"{x}_tmp\")\n",
    "\n",
    "# B_tmp = pd.DataFrame(columns=B.columns,index=B.index[1:100],data=B.iloc[1:100])\n",
    "# B_tmp.index = B_tmp.index.map(lambda x:f\"{x}_tmp\")"
   ]
  },
  {
   "cell_type": "code",
   "execution_count": null,
   "metadata": {},
   "outputs": [],
   "source": [
    "# A = pd.concat([A,A_tmp])\n",
    "# B = pd.concat([B,B_tmp])"
   ]
  },
  {
   "cell_type": "code",
   "execution_count": null,
   "metadata": {},
   "outputs": [],
   "source": [
    "# B = B.loc[~B.index.duplicated(keep='first')]"
   ]
  },
  {
   "cell_type": "code",
   "execution_count": null,
   "metadata": {},
   "outputs": [],
   "source": [
    "# B.shape"
   ]
  },
  {
   "cell_type": "code",
   "execution_count": null,
   "metadata": {},
   "outputs": [],
   "source": [
    "# B.to_csv(r\"C:\\Repos\\deconv_py\\deconv_py\\infras\\xCell\\B.csv\")"
   ]
  },
  {
   "cell_type": "code",
   "execution_count": null,
   "metadata": {},
   "outputs": [],
   "source": []
  }
 ],
 "metadata": {
  "hide_input": false,
  "kernelspec": {
   "display_name": "Python 3",
   "language": "python",
   "name": "python3"
  },
  "language_info": {
   "codemirror_mode": {
    "name": "ipython",
    "version": 3
   },
   "file_extension": ".py",
   "mimetype": "text/x-python",
   "name": "python",
   "nbconvert_exporter": "python",
   "pygments_lexer": "ipython3",
   "version": "3.6.5"
  },
  "toc": {
   "base_numbering": 1,
   "nav_menu": {},
   "number_sections": true,
   "sideBar": true,
   "skip_h1_title": false,
   "title_cell": "Table of Contents",
   "title_sidebar": "Contents",
   "toc_cell": false,
   "toc_position": {},
   "toc_section_display": true,
   "toc_window_display": false
  }
 },
 "nbformat": 4,
 "nbformat_minor": 2
}
