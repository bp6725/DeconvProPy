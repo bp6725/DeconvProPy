{
 "cells": [
  {
   "cell_type": "markdown",
   "metadata": {
    "heading_collapsed": true
   },
   "source": [
    "#  INIT"
   ]
  },
  {
   "cell_type": "code",
   "execution_count": 1,
   "metadata": {
    "hidden": true
   },
   "outputs": [],
   "source": [
    "import sys\n",
    "sys.path.append('../../')\n",
    "sys.path.append('../infras/cellMix/')\n",
    "sys.path.append('../infras/cytof_data/')\n",
    "sys.path.append('../infras/')\n",
    "sys.path.append('../infras/dashboards/')\n",
    "sys.path.append('../experiments/')\n",
    "sys.path.append('../experiments/pipeline/')\n",
    "sys.path.append('../preprocess/cell_specifics/')\n",
    "sys.path.append('../preprocess/intra_variance/')\n",
    "sys.path.append('../models/cell_proportions/')\n",
    "sys.path.append('../measures/cell_proportions_measures/')"
   ]
  },
  {
   "cell_type": "code",
   "execution_count": 2,
   "metadata": {
    "hidden": true
   },
   "outputs": [],
   "source": [
    "from data_factory import DataFactory\n",
    "\n",
    "from global_utils import GlobalUtils\n",
    "\n",
    "from cytof_cell_count_infra import CytofCellCountInfra\n",
    "from cell_proportions_experiments import  CellProportionsExperiments\n",
    "import exploration_cytof_plots as cytof_plots\n",
    "\n",
    "from basic import BasicDeconv\n",
    "from pp_entropy_based import PpEntropyBased\n",
    "from cell_proportions_measure import CellProportionsMeasure\n",
    "from pp_clean_high_intra_var import PpCleanHighIntraVar\n",
    "from pp_clean_irrelevant_proteins import PpCleanIrrelevantProteins\n",
    "from pp_empty import PpEmpty\n",
    "from pp_entropy_based_only_largest import PpEntropyBasedOnlyLargest\n",
    "from aggregate_intra_variance import AggregateIntraVariance\n",
    "from pipeline_deconv import PipelineDeconv"
   ]
  },
  {
   "cell_type": "code",
   "execution_count": 1,
   "metadata": {
    "hidden": true
   },
   "outputs": [],
   "source": [
    "import pandas as pd\n",
    "import numpy as np\n",
    "from functools import partial\n",
    "import multiprocessing\n",
    "from sklearn import pipeline\n",
    "import itertools\n",
    "\n",
    "from scipy.optimize import least_squares\n",
    "from sklearn.metrics import mean_squared_error\n",
    "from functools import partial\n",
    "from scipy.optimize import minimize\n",
    "import scipy.optimize\n",
    "from itertools import combinations\n",
    "import matplotlib.pyplot as plt\n",
    "import seaborn as sns\n",
    "import pprint\n",
    "\n",
    "import os\n",
    "import pickle as pkl "
   ]
  },
  {
   "cell_type": "code",
   "execution_count": 4,
   "metadata": {
    "hidden": true
   },
   "outputs": [],
   "source": [
    "from deconv_py.preprocess.base import BasePreprocess as PP_base\n",
    "from deconv_py.preprocess.cell_specific import CellSpecific as PP_proteins\n",
    "\n",
    "# from deconv_py.infras.data_factory import DataFactory\n",
    "from deconv_py.infras.data_loader import DataLoader\n",
    "\n",
    "from deconv_py.models.base import Base as Models_base\n",
    "from deconv_py.models.cell_proportions_models import CellProportions\n",
    "from deconv_py.models.cell_specific_models import CellSpecificPerPermutation\n",
    "\n",
    "from deconv_py.experiments.cell_specific import CellSpecificMetricsPlot\n",
    "\n",
    "from cellMix_coordinator import CellMixCoordinator"
   ]
  },
  {
   "cell_type": "code",
   "execution_count": 5,
   "metadata": {
    "hidden": true,
    "scrolled": true
   },
   "outputs": [
    {
     "name": "stdout",
     "output_type": "stream",
     "text": [
      "{\n",
      "  \"shell_port\": 64709,\n",
      "  \"iopub_port\": 64710,\n",
      "  \"stdin_port\": 64711,\n",
      "  \"control_port\": 64712,\n",
      "  \"hb_port\": 64713,\n",
      "  \"ip\": \"127.0.0.1\",\n",
      "  \"key\": \"ffaf0e5a-d962065f3a939675729e707d\",\n",
      "  \"transport\": \"tcp\",\n",
      "  \"signature_scheme\": \"hmac-sha256\",\n",
      "  \"kernel_name\": \"\"\n",
      "}\n",
      "\n",
      "Paste the above JSON into a file, and connect with:\n",
      "    $> jupyter <app> --existing <file>\n",
      "or, if you are local, you can connect with just:\n",
      "    $> jupyter <app> --existing kernel-5ce991a8-a139-4f9c-a111-63ad45690213.json\n",
      "or even just:\n",
      "    $> jupyter <app> --existing\n",
      "if this is the most recent Jupyter kernel you have started.\n"
     ]
    }
   ],
   "source": [
    "%connect_info"
   ]
  },
  {
   "cell_type": "markdown",
   "metadata": {
    "heading_collapsed": true
   },
   "source": [
    "# read and build any data"
   ]
  },
  {
   "cell_type": "markdown",
   "metadata": {
    "hidden": true
   },
   "source": [
    "## simple artificial "
   ]
  },
  {
   "cell_type": "code",
   "execution_count": 6,
   "metadata": {
    "hidden": true
   },
   "outputs": [],
   "source": [
    "data_factory = DataFactory()\n",
    "# A_all_ar,B_ar,X_ar = data_factory.load_simple_artificial_profile(\"Intensity\",index_func=lambda x:x,sample_to_pick=\"all\")"
   ]
  },
  {
   "cell_type": "markdown",
   "metadata": {
    "hidden": true
   },
   "source": [
    "## simple IBD"
   ]
  },
  {
   "cell_type": "code",
   "execution_count": 7,
   "metadata": {
    "hidden": true
   },
   "outputs": [],
   "source": [
    "# A,B = data_factory.load_simple_IBD_profile(\"Intensity\",index_func=lambda x:x,log2_transformation=True)"
   ]
  },
  {
   "cell_type": "markdown",
   "metadata": {
    "heading_collapsed": true,
    "hidden": true
   },
   "source": [
    "## IBD with A/B_all_vs"
   ]
  },
  {
   "cell_type": "code",
   "execution_count": 8,
   "metadata": {
    "hidden": true
   },
   "outputs": [],
   "source": [
    "# A_all_vs,_ = data_factory.load_IBD_all_vs(\"Intensity\",index_func=lambda x:x,log2_transformation=True)\n",
    "# A_all_vs,B_all_vs = data_factory.load_IBD_all_vs(\"Intensity\",index_func=lambda x:x,log2_transformation=True)"
   ]
  },
  {
   "cell_type": "markdown",
   "metadata": {
    "heading_collapsed": true,
    "hidden": true
   },
   "source": [
    "## IBD with A/B_all_vs with A_Intensity"
   ]
  },
  {
   "cell_type": "code",
   "execution_count": 9,
   "metadata": {
    "hidden": true
   },
   "outputs": [],
   "source": [
    "# A_all_vs, B_all_vs ,A_intensity, B_intensity = data_factory.load_IBD_vs_A_and_B_intensity(\"Intensity\",index_func=lambda x:x,log2_transformation=True)"
   ]
  },
  {
   "cell_type": "markdown",
   "metadata": {
    "heading_collapsed": true,
    "hidden": true
   },
   "source": [
    "## simulated_data"
   ]
  },
  {
   "cell_type": "code",
   "execution_count": 10,
   "metadata": {
    "hidden": true
   },
   "outputs": [],
   "source": [
    "# A,X,B = data_factory.build_simulated_data()\n",
    "# _,X,B = data_factory.build_simulated_data()\n",
    "\n",
    "# with open(\"../cache/simulated_X_cache\",'rb') as f : \n",
    "#     X = pkl.load(f)\n",
    "# with open(\"../cache/simulated_B_cache\",\"rb\") as f : \n",
    "#     B = pkl.load(f)\n",
    "# with open(\"../cache/simulated_A_cache\",\"rb\") as f : \n",
    "#     A = pkl.load(f)"
   ]
  },
  {
   "cell_type": "code",
   "execution_count": null,
   "metadata": {
    "hidden": true
   },
   "outputs": [],
   "source": []
  },
  {
   "cell_type": "markdown",
   "metadata": {
    "heading_collapsed": true,
    "hidden": true
   },
   "source": [
    "## cytof data"
   ]
  },
  {
   "cell_type": "code",
   "execution_count": 11,
   "metadata": {
    "hidden": true
   },
   "outputs": [],
   "source": [
    "# cytof_label_prop_A_ints = cci.cytof_label_propagation(A_intensity)\n",
    "# A_intensity_Cytof_cell,cytof_count_of_A_intensity = cci.return_mass_and_cytof_not_none_cells_counts(A_intensity.T,cytof_label_prop_A_ints)\n",
    "# A_intensity_Cytof_cell = A_intensity_Cytof_cell.T"
   ]
  },
  {
   "cell_type": "markdown",
   "metadata": {
    "heading_collapsed": true
   },
   "source": [
    "# visualize data"
   ]
  },
  {
   "cell_type": "code",
   "execution_count": null,
   "metadata": {
    "hidden": true
   },
   "outputs": [],
   "source": []
  },
  {
   "cell_type": "markdown",
   "metadata": {
    "heading_collapsed": true
   },
   "source": [
    "# preprocess with model result - no cytof"
   ]
  },
  {
   "cell_type": "code",
   "execution_count": 12,
   "metadata": {
    "hidden": true
   },
   "outputs": [],
   "source": [
    "# pp_eb = PpEntropyBased()\n",
    "# bd=BasicDeconv()\n",
    "# cpm = CellProportionsMeasure()\n",
    "\n",
    "# steps = [(\"deconv_py\",pp_eb),(\"BasicDeconv\",bd)]\n",
    "# ppline = pipeline.Pipeline(steps)\n",
    "# result = ppline.predict([A,B])\n",
    "# corr = cpm.correlation_measure(result,X)"
   ]
  },
  {
   "cell_type": "code",
   "execution_count": 13,
   "metadata": {
    "hidden": true
   },
   "outputs": [],
   "source": [
    "# raise"
   ]
  },
  {
   "cell_type": "markdown",
   "metadata": {
    "heading_collapsed": true
   },
   "source": [
    "# preprocess with model results - with cytof"
   ]
  },
  {
   "cell_type": "code",
   "execution_count": null,
   "metadata": {
    "hidden": true
   },
   "outputs": [],
   "source": []
  },
  {
   "cell_type": "markdown",
   "metadata": {
    "heading_collapsed": true
   },
   "source": [
    "# preprocess with model results - with intra variance "
   ]
  },
  {
   "cell_type": "code",
   "execution_count": 14,
   "metadata": {
    "hidden": true
   },
   "outputs": [],
   "source": [
    "# pp_eb = PpEntropyBased()\n",
    "# bd=BasicDeconv()\n",
    "# cpm = CellProportionsMeasure()\n",
    "# chiv = PpCleanHighIntraVar()\n",
    "\n",
    "# steps = [(\"high_intra_var\",chiv),(\"entropy_base\",pp_eb),(\"BasicDeconv\",bd)]\n",
    "# ppline = pipeline.Pipeline(steps)\n",
    "# result = ppline.predict([A,B])\n",
    "# corr = cpm.correlation_measure(result,X)"
   ]
  },
  {
   "cell_type": "markdown",
   "metadata": {
    "heading_collapsed": true
   },
   "source": [
    "# run model - with and without cell mix"
   ]
  },
  {
   "cell_type": "code",
   "execution_count": 15,
   "metadata": {
    "hidden": true,
    "scrolled": true
   },
   "outputs": [],
   "source": [
    "# bd = BasicDeconv(cellMix=True)\n",
    "# bd.predict([A,B])\n"
   ]
  },
  {
   "cell_type": "markdown",
   "metadata": {
    "heading_collapsed": true
   },
   "source": [
    "# build the meta pipeline - cytof"
   ]
  },
  {
   "cell_type": "code",
   "execution_count": 16,
   "metadata": {
    "code_folding": [
     44
    ],
    "hidden": true
   },
   "outputs": [],
   "source": [
    "agg_iv,pp_irl_prot  = AggregateIntraVariance(),PpCleanIrrelevantProteins()\n",
    "pp_chiv = PpCleanHighIntraVar()\n",
    "pp_entropy_only_largest,pp_entropy,pp_empty = PpEntropyBasedOnlyLargest(),PpEntropyBased(),PpEmpty()\n",
    "bd = BasicDeconv()\n",
    "cpm = CellProportionsMeasure(how=\"groups\")\n",
    "\n",
    "hyper_configuration = [\n",
    "    # {\"step_name\": \"cleanHighIntraVariance\",\n",
    "    #                     \"steps\": [\n",
    "    #                         {\"function_name\": \"PpCleanHighIntraVar\", \"function\": pp_chiv,\n",
    "    #                          \"params\": {\"how\": [\"range\"],\"range_trh\":[1,2,5]}}]},\n",
    "                        # -------------------------------\n",
    "                        {\"step_name\": \"AggregateIntraVariance\",\n",
    "                        \"steps\": [\n",
    "                            {\"function_name\": \"AggregateIntraVariance\", \"function\": agg_iv,\n",
    "                             \"params\": {\"how\": [\"mean\"]}}]},\n",
    "                       # --------------------------------\n",
    "                       {\"step_name\": \"cleen_irrelevant_proteins\",\n",
    "                        \"steps\": [\n",
    "                            {\"function_name\": \"CleanIrrelevantProteins\", \"function\": pp_irl_prot,\n",
    "                             \"params\": {}}]},\n",
    "                       # --------------------------------\n",
    "                       {\"step_name\": \"Cytof_X_Building\",\n",
    "                        \"steps\": [\n",
    "                            {\"function_name\": \"Cytof_X_Building\", \"function\": pp_empty,\n",
    "                             \"params\": {\"keep_labels\":[True],\"with_label_prop\":[False]}}]},\n",
    "                       # --------------------------------\n",
    "                       {\"step_name\": \"preprocess\",\n",
    "                        \"steps\": [\n",
    "#                             {\"function_name\": \"PpEntropyBased\", \"function\": pp_entropy,\n",
    "#                              \"params\": {\"n_genes_per_cell\": [5,20], \"gene_entropy_trh\": [0.0001],\n",
    "#                                         \"with_norm\": [False, True]}},\n",
    "#                             {\"function_name\": \"PpEntropyBasedOnlyLargest\", \"function\": pp_entropy_only_largest,\n",
    "#                              \"params\": {\"n_genes_per_cell\": [5, 15], \"gene_entropy_trh\": [0.0001],\n",
    "#                                         \"with_norm\": [True, False]}},\n",
    "                            {\"function_name\": \"PpEmpty\", \"function\": pp_empty,\n",
    "                             \"params\": {}}\n",
    "                        ]},\n",
    "                       # --------------------------------\n",
    "                       {\"step_name\": \"deconv\",\n",
    "                        \"steps\": [\n",
    "                            {\"function_name\": \"BasicDeconv\", \"function\": bd,\n",
    "                             \"params\": {\"normalize\": [True], \"cellMix\": [ False]}}]}]\n",
    "\n",
    "hyper_measure_configuration = [\n",
    "    {\"step_name\": \"measure\",\n",
    "     \"steps\": [\n",
    "         {\"function_name\": \"CellProportionsMeasure\", \"function\": cpm,\n",
    "          \"params\": {\"how\": [\"correlation\"]}}]}]\n",
    "\n",
    "_pipe = PipelineDeconv(hyper_configuration=hyper_configuration,\n",
    "                                 hyper_measure_configuration=hyper_measure_configuration)"
   ]
  },
  {
   "cell_type": "code",
   "execution_count": 17,
   "metadata": {
    "hidden": true
   },
   "outputs": [
    {
     "name": "stderr",
     "output_type": "stream",
     "text": [
      "C:\\ProgramData\\Anaconda3\\lib\\site-packages\\IPython\\kernel\\__main__.py:2: DtypeWarning: Columns (5,6,2764,2765,2773,2774,2775,2776) have mixed types. Specify dtype option on import or set low_memory=False.\n",
      "  from ipykernel import kernelapp as app\n",
      "100%|████████████████████████████████████████████████████████████████████████████████████| 1/1 [00:00<00:00,  1.39it/s]\n"
     ]
    }
   ],
   "source": [
    "data_factory = DataFactory()\n",
    "A_all_vs, B_all_vs = data_factory.load_IBD_all_vs(\"Intensity\", index_func=lambda x: x, log2_transformation=True)\n",
    "\n",
    "results = _pipe.run_cytof_pipeline(A_all_vs, B_all_vs)"
   ]
  },
  {
   "cell_type": "code",
   "execution_count": 22,
   "metadata": {
    "hidden": true,
    "scrolled": true
   },
   "outputs": [
    {
     "data": {
      "text/plain": [
       "{'known': mixtures                      HR-38-V1  HR-42-V1  HR-42-V2  HR-42-V3  \\\n",
       " B cells                       0.082833  0.056656  0.098014  0.122381   \n",
       " CD4+ effector memory T cells  0.329556  0.283301  0.335832  0.272587   \n",
       " CD4+central memory Tcells     0.014510  0.042336  0.020397  0.022774   \n",
       " CD8+ effector memory T cells  0.108394  0.140357  0.166971  0.137069   \n",
       " Monocytes                     0.335328  0.163906  0.136869  0.195038   \n",
       " Na?ve CD4 Tcell               0.039623  0.121897  0.068686  0.076494   \n",
       " Na?ve CD8 Tcell               0.071450  0.170145  0.156127  0.157034   \n",
       " Plasmacytoid dendritic cells  0.018307  0.021401  0.017105  0.016623   \n",
       " \n",
       " mixtures                      HR-44-V1  HR-44-V2  HR-44-V3  HR-46-V1  \\\n",
       " B cells                       0.109494  0.211939  0.234753  0.046421   \n",
       " CD4+ effector memory T cells  0.197428  0.273552  0.249900  0.233422   \n",
       " CD4+central memory Tcells     0.009813  0.002487  0.003579  0.043033   \n",
       " CD8+ effector memory T cells  0.091585  0.131624  0.146873  0.066814   \n",
       " Monocytes                     0.517723  0.321799  0.301102  0.320863   \n",
       " Na?ve CD4 Tcell               0.029135  0.019767  0.021651  0.122939   \n",
       " Na?ve CD8 Tcell               0.005882  0.021297  0.025548  0.141223   \n",
       " Plasmacytoid dendritic cells  0.038941  0.017534  0.016594  0.025285   \n",
       " \n",
       " mixtures                      HR-46-V2  HR-46-V3  ...  HR-26-V3  HR-27-V1  \\\n",
       " B cells                       0.064761  0.068246  ...  0.152325  0.128088   \n",
       " CD4+ effector memory T cells  0.225676  0.261968  ...  0.380532  0.191791   \n",
       " CD4+central memory Tcells     0.051270  0.050380  ...  0.012204  0.055172   \n",
       " CD8+ effector memory T cells  0.090158  0.082014  ...  0.160716  0.048165   \n",
       " Monocytes                     0.307331  0.265083  ...  0.170242  0.303987   \n",
       " Na?ve CD4 Tcell               0.118819  0.118271  ...  0.040317  0.138325   \n",
       " Na?ve CD8 Tcell               0.113377  0.124265  ...  0.051507  0.115459   \n",
       " Plasmacytoid dendritic cells  0.028608  0.029773  ...  0.032157  0.019013   \n",
       " \n",
       " mixtures                      HR-27-V2  HR-27-V3  HR-40-V1  HR-28-V1  \\\n",
       " B cells                       0.131813  0.155936  0.126182  0.071292   \n",
       " CD4+ effector memory T cells  0.170654  0.212384  0.223860  0.214401   \n",
       " CD4+central memory Tcells     0.037243  0.030235  0.026696  0.041098   \n",
       " CD8+ effector memory T cells  0.040656  0.042545  0.147117  0.156974   \n",
       " Monocytes                     0.415616  0.380137  0.154150  0.103751   \n",
       " Na?ve CD4 Tcell               0.098763  0.083667  0.089423  0.121643   \n",
       " Na?ve CD8 Tcell               0.089912  0.076633  0.215401  0.271586   \n",
       " Plasmacytoid dendritic cells  0.015343  0.018463  0.017172  0.019254   \n",
       " \n",
       " mixtures                      HR-28-V2  HR-28-V3  HR-40-V2  HR-40-V3  \n",
       " B cells                       0.072094  0.068771  0.122038  0.127594  \n",
       " CD4+ effector memory T cells  0.231889  0.233585  0.288311  0.318273  \n",
       " CD4+central memory Tcells     0.040556  0.025954  0.012780  0.014555  \n",
       " CD8+ effector memory T cells  0.164172  0.203300  0.216056  0.188835  \n",
       " Monocytes                     0.116628  0.152977  0.101717  0.153798  \n",
       " Na?ve CD4 Tcell               0.118458  0.081433  0.058673  0.053296  \n",
       " Na?ve CD8 Tcell               0.235493  0.206509  0.180943  0.123335  \n",
       " Plasmacytoid dendritic cells  0.020709  0.027470  0.019480  0.020315  \n",
       " \n",
       " [8 rows x 72 columns],\n",
       " 'result':                               24_v1  24_v2  24_v3  26_v1  26_v2  26_v3  27_v1  \\\n",
       " B cells                        0.33   0.65   0.71    0.0   0.66   0.51   0.71   \n",
       " CD4+ effector memory T cells   0.00   0.00   0.00    0.0   0.00   0.00   0.00   \n",
       " CD4+central memory Tcells      0.00   0.00   0.00    0.0   0.00   0.00   0.00   \n",
       " CD8+ effector memory T cells   0.00   0.00   0.00    0.0   0.00   0.00   0.00   \n",
       " Monocytes                      0.67   0.35   0.25    1.0   0.20   0.26   0.17   \n",
       " Na?ve CD4 Tcell                0.00   0.00   0.00    0.0   0.00   0.00   0.00   \n",
       " Na?ve CD8 Tcell                0.00   0.00   0.00    0.0   0.00   0.00   0.00   \n",
       " Plasmacytoid dendritic cells   0.00   0.00   0.00    0.0   0.00   0.00   0.00   \n",
       " \n",
       "                               27_v2  27_v3  28_v1  ...  38_v2  38_v3  39_v1  \\\n",
       " B cells                        0.65   0.68   0.00  ...   0.72   0.69    0.0   \n",
       " CD4+ effector memory T cells   0.00   0.00   0.00  ...   0.00   0.00    0.0   \n",
       " CD4+central memory Tcells      0.00   0.00   0.00  ...   0.00   0.00    0.0   \n",
       " CD8+ effector memory T cells   0.00   0.00   0.00  ...   0.00   0.00    0.0   \n",
       " Monocytes                      0.27   0.29   0.17  ...   0.23   0.25    1.0   \n",
       " Na?ve CD4 Tcell                0.00   0.00   0.00  ...   0.00   0.00    0.0   \n",
       " Na?ve CD8 Tcell                0.00   0.00   0.27  ...   0.00   0.00    0.0   \n",
       " Plasmacytoid dendritic cells   0.00   0.00   0.00  ...   0.00   0.00    0.0   \n",
       " \n",
       "                               39_v2  39_v3_190722234036  40_v1  40_v3  42_v1  \\\n",
       " B cells                        0.53                0.60   0.65   0.67   0.57   \n",
       " CD4+ effector memory T cells   0.00                0.00   0.00   0.00   0.00   \n",
       " CD4+central memory Tcells      0.00                0.00   0.00   0.00   0.00   \n",
       " CD8+ effector memory T cells   0.00                0.00   0.00   0.00   0.00   \n",
       " Monocytes                      0.47                0.13   0.23   0.07   0.43   \n",
       " Na?ve CD4 Tcell                0.00                0.00   0.00   0.00   0.00   \n",
       " Na?ve CD8 Tcell                0.00                0.00   0.00   0.00   0.00   \n",
       " Plasmacytoid dendritic cells   0.00                0.00   0.00   0.00   0.00   \n",
       " \n",
       "                               42_v2  42_v3  \n",
       " B cells                        0.70   0.67  \n",
       " CD4+ effector memory T cells   0.00   0.00  \n",
       " CD4+central memory Tcells      0.00   0.00  \n",
       " CD8+ effector memory T cells   0.00   0.00  \n",
       " Monocytes                      0.27   0.28  \n",
       " Na?ve CD4 Tcell                0.00   0.00  \n",
       " Na?ve CD8 Tcell                0.00   0.00  \n",
       " Plasmacytoid dendritic cells   0.00   0.00  \n",
       " \n",
       " [8 rows x 71 columns]}"
      ]
     },
     "execution_count": 22,
     "metadata": {},
     "output_type": "execute_result"
    }
   ],
   "source": [
    "_pipe.load_results_from_archive(\"2814562996\")"
   ]
  },
  {
   "cell_type": "code",
   "execution_count": 21,
   "metadata": {
    "hidden": true
   },
   "outputs": [
    {
     "data": {
      "text/plain": [
       "0    2814562996\n",
       "Name: uuid, dtype: int64"
      ]
     },
     "execution_count": 21,
     "metadata": {},
     "output_type": "execute_result"
    }
   ],
   "source": [
    "results[\"uuid\"]"
   ]
  },
  {
   "cell_type": "code",
   "execution_count": 19,
   "metadata": {
    "hidden": true
   },
   "outputs": [
    {
     "ename": "NameError",
     "evalue": "name 'best_results_and_known' is not defined",
     "output_type": "error",
     "traceback": [
      "\u001b[1;31m---------------------------------------------------------------------------\u001b[0m",
      "\u001b[1;31mNameError\u001b[0m                                 Traceback (most recent call last)",
      "\u001b[1;32m<ipython-input-19-4e4f0a6f7ca3>\u001b[0m in \u001b[0;36m<module>\u001b[1;34m()\u001b[0m\n\u001b[1;32m----> 1\u001b[1;33m \u001b[0mbest_results\u001b[0m\u001b[1;33m=\u001b[0m\u001b[0mbest_results_and_known\u001b[0m\u001b[1;33m[\u001b[0m\u001b[1;34m\"result\"\u001b[0m\u001b[1;33m]\u001b[0m\u001b[1;33m\u001b[0m\u001b[0m\n\u001b[0m\u001b[0;32m      2\u001b[0m \u001b[0mbest_known\u001b[0m\u001b[1;33m=\u001b[0m\u001b[0mbest_results_and_known\u001b[0m\u001b[1;33m[\u001b[0m\u001b[1;34m\"known\"\u001b[0m\u001b[1;33m]\u001b[0m\u001b[1;33m.\u001b[0m\u001b[0mrename\u001b[0m\u001b[1;33m(\u001b[0m\u001b[0mcolumns\u001b[0m\u001b[1;33m=\u001b[0m\u001b[0mGlobalUtils\u001b[0m\u001b[1;33m.\u001b[0m\u001b[0mget_corospanding_columns_map\u001b[0m\u001b[1;33m(\u001b[0m\u001b[0mbest_known\u001b[0m\u001b[1;33m,\u001b[0m\u001b[0mbest_results\u001b[0m\u001b[1;33m)\u001b[0m\u001b[1;33m)\u001b[0m\u001b[1;33m\u001b[0m\u001b[0m\n",
      "\u001b[1;31mNameError\u001b[0m: name 'best_results_and_known' is not defined"
     ]
    }
   ],
   "source": [
    "best_results=best_results_and_known[\"result\"]\n",
    "best_known=best_results_and_known[\"known\"].rename(columns=GlobalUtils.get_corospanding_columns_map(best_known,best_results))"
   ]
  },
  {
   "cell_type": "code",
   "execution_count": 23,
   "metadata": {
    "hidden": true
   },
   "outputs": [],
   "source": [
    "best_results_and_known = _pipe.load_results_from_archive(results.iloc[0][\"uuid\"])"
   ]
  },
  {
   "cell_type": "code",
   "execution_count": 28,
   "metadata": {
    "hidden": true
   },
   "outputs": [],
   "source": [
    "best_results=best_results_and_known[\"result\"]\n",
    "best_known = best_results_and_known[\"known\"] \n",
    "best_known=best_known.rename(columns=GlobalUtils.get_corospanding_columns_map(best_known,best_results))"
   ]
  },
  {
   "cell_type": "markdown",
   "metadata": {},
   "source": [
    "# examine best results "
   ]
  },
  {
   "cell_type": "markdown",
   "metadata": {
    "heading_collapsed": true
   },
   "source": [
    "# plot experiment params summary "
   ]
  },
  {
   "cell_type": "code",
   "execution_count": 25,
   "metadata": {
    "code_folding": [
     0
    ],
    "hidden": true
   },
   "outputs": [],
   "source": [
    "def display_result(cell_abundance, res_as_cytof, as_heatmap, added_title=\"\"):\n",
    "    if cell_abundance is None:\n",
    "        return None\n",
    "    if res_as_cytof is not None:\n",
    "        fig, axs = plt.subplots(1, 2, figsize=(12, 6))\n",
    "        sns.heatmap(res_as_cytof.sort_index(), ax=axs[1])\n",
    "        axs[1].set_title(\"mass as cytof results\" + added_title)\n",
    "\n",
    "    if as_heatmap:\n",
    "        if res_as_cytof is None:\n",
    "            fig, axs = plt.subplots(1, 1)\n",
    "        sns.heatmap(cell_abundance, ax=axs[0])\n",
    "        axs[0].set_title(\"cell abundance\" + added_title)\n",
    "        plt.subplots_adjust(wspace=1)\n",
    "        plt.show()\n",
    "    else:\n",
    "        print(cell_abundance.style.set_caption(\"cell abundance\" + added_title))"
   ]
  },
  {
   "cell_type": "code",
   "execution_count": 30,
   "metadata": {
    "hidden": true
   },
   "outputs": [
    {
     "data": {
      "image/png": "[encoded data removed]",
      "text/plain": [
       "<Figure size 864x432 with 4 Axes>"
      ]
     },
     "metadata": {},
     "output_type": "display_data"
    }
   ],
   "source": [
    "display_result(best_known,best_results,True)"
   ]
  },
  {
   "cell_type": "code",
   "execution_count": 35,
   "metadata": {
    "hidden": true
   },
   "outputs": [],
   "source": [
    "best_known = best_known.drop(columns=['46_v2', '33_v2', '40_v2', '39_v3'])"
   ]
  },
  {
   "cell_type": "code",
   "execution_count": 36,
   "metadata": {
    "hidden": true
   },
   "outputs": [
    {
     "data": {
      "image/png": "[encoded data removed]",
      "text/plain": [
       "<Figure size 1440x720 with 2 Axes>"
      ]
     },
     "metadata": {},
     "output_type": "display_data"
    }
   ],
   "source": [
    "cytof_plots.plot_mass_to_cytof_scatter_all_on_one(best_results,best_known,best_results)"
   ]
  },
  {
   "cell_type": "markdown",
   "metadata": {},
   "source": [
    "# test"
   ]
  },
  {
   "cell_type": "code",
   "execution_count": 43,
   "metadata": {},
   "outputs": [],
   "source": [
    "A = pd.DataFrame([[1,10,11,12],[2,20,22,24],[3,30,33,36],[4,40,44,48]])/10\n",
    "B = pd.DataFrame([[1,3,5],[2,6,10],[4,9,15],[8,12,30]])\n"
   ]
  },
  {
   "cell_type": "code",
   "execution_count": 44,
   "metadata": {},
   "outputs": [
    {
     "data": {
      "text/html": [
       "<div>\n",
       "<style scoped>\n",
       "    .dataframe tbody tr th:only-of-type {\n",
       "        vertical-align: middle;\n",
       "    }\n",
       "\n",
       "    .dataframe tbody tr th {\n",
       "        vertical-align: top;\n",
       "    }\n",
       "\n",
       "    .dataframe thead th {\n",
       "        text-align: right;\n",
       "    }\n",
       "</style>\n",
       "<table border=\"1\" class=\"dataframe\">\n",
       "  <thead>\n",
       "    <tr style=\"text-align: right;\">\n",
       "      <th></th>\n",
       "      <th>0</th>\n",
       "      <th>1</th>\n",
       "      <th>2</th>\n",
       "      <th>3</th>\n",
       "    </tr>\n",
       "  </thead>\n",
       "  <tbody>\n",
       "    <tr>\n",
       "      <td>0</td>\n",
       "      <td>0.1</td>\n",
       "      <td>1.0</td>\n",
       "      <td>1.1</td>\n",
       "      <td>1.2</td>\n",
       "    </tr>\n",
       "    <tr>\n",
       "      <td>1</td>\n",
       "      <td>0.2</td>\n",
       "      <td>2.0</td>\n",
       "      <td>2.2</td>\n",
       "      <td>2.4</td>\n",
       "    </tr>\n",
       "    <tr>\n",
       "      <td>2</td>\n",
       "      <td>0.3</td>\n",
       "      <td>3.0</td>\n",
       "      <td>3.3</td>\n",
       "      <td>3.6</td>\n",
       "    </tr>\n",
       "    <tr>\n",
       "      <td>3</td>\n",
       "      <td>0.4</td>\n",
       "      <td>4.0</td>\n",
       "      <td>4.4</td>\n",
       "      <td>4.8</td>\n",
       "    </tr>\n",
       "  </tbody>\n",
       "</table>\n",
       "</div>"
      ],
      "text/plain": [
       "     0    1    2    3\n",
       "0  0.1  1.0  1.1  1.2\n",
       "1  0.2  2.0  2.2  2.4\n",
       "2  0.3  3.0  3.3  3.6\n",
       "3  0.4  4.0  4.4  4.8"
      ]
     },
     "execution_count": 44,
     "metadata": {},
     "output_type": "execute_result"
    }
   ],
   "source": [
    "A"
   ]
  },
  {
   "cell_type": "code",
   "execution_count": 45,
   "metadata": {},
   "outputs": [
    {
     "data": {
      "text/html": [
       "<div>\n",
       "<style scoped>\n",
       "    .dataframe tbody tr th:only-of-type {\n",
       "        vertical-align: middle;\n",
       "    }\n",
       "\n",
       "    .dataframe tbody tr th {\n",
       "        vertical-align: top;\n",
       "    }\n",
       "\n",
       "    .dataframe thead th {\n",
       "        text-align: right;\n",
       "    }\n",
       "</style>\n",
       "<table border=\"1\" class=\"dataframe\">\n",
       "  <thead>\n",
       "    <tr style=\"text-align: right;\">\n",
       "      <th></th>\n",
       "      <th>0</th>\n",
       "      <th>1</th>\n",
       "      <th>2</th>\n",
       "    </tr>\n",
       "  </thead>\n",
       "  <tbody>\n",
       "    <tr>\n",
       "      <td>0</td>\n",
       "      <td>1</td>\n",
       "      <td>3</td>\n",
       "      <td>5</td>\n",
       "    </tr>\n",
       "    <tr>\n",
       "      <td>1</td>\n",
       "      <td>2</td>\n",
       "      <td>6</td>\n",
       "      <td>10</td>\n",
       "    </tr>\n",
       "    <tr>\n",
       "      <td>2</td>\n",
       "      <td>4</td>\n",
       "      <td>9</td>\n",
       "      <td>15</td>\n",
       "    </tr>\n",
       "    <tr>\n",
       "      <td>3</td>\n",
       "      <td>8</td>\n",
       "      <td>12</td>\n",
       "      <td>30</td>\n",
       "    </tr>\n",
       "  </tbody>\n",
       "</table>\n",
       "</div>"
      ],
      "text/plain": [
       "   0   1   2\n",
       "0  1   3   5\n",
       "1  2   6  10\n",
       "2  4   9  15\n",
       "3  8  12  30"
      ]
     },
     "execution_count": 45,
     "metadata": {},
     "output_type": "execute_result"
    }
   ],
   "source": [
    "B"
   ]
  },
  {
   "cell_type": "code",
   "execution_count": 70,
   "metadata": {},
   "outputs": [
    {
     "data": {
      "text/plain": [
       "4.8"
      ]
     },
     "execution_count": 70,
     "metadata": {},
     "output_type": "execute_result"
    }
   ],
   "source": [
    "A.max().max()"
   ]
  },
  {
   "cell_type": "code",
   "execution_count": 71,
   "metadata": {},
   "outputs": [
    {
     "data": {
      "text/plain": [
       "0    1.0\n",
       "1    1.0\n",
       "2    1.0\n",
       "dtype: float64"
      ]
     },
     "execution_count": 71,
     "metadata": {},
     "output_type": "execute_result"
    }
   ],
   "source": []
  },
  {
   "cell_type": "code",
   "execution_count": 61,
   "metadata": {},
   "outputs": [
    {
     "data": {
      "text/plain": [
       "0     8\n",
       "1    12\n",
       "2    30\n",
       "dtype: int64"
      ]
     },
     "execution_count": 61,
     "metadata": {},
     "output_type": "execute_result"
    }
   ],
   "source": [
    "B.max(axis=0)"
   ]
  },
  {
   "cell_type": "code",
   "execution_count": 47,
   "metadata": {},
   "outputs": [
    {
     "data": {
      "text/plain": [
       "0    0.24\n",
       "1    0.24\n",
       "2    0.24\n",
       "3    0.16\n",
       "dtype: float64"
      ]
     },
     "execution_count": 47,
     "metadata": {},
     "output_type": "execute_result"
    }
   ],
   "source": []
  },
  {
   "cell_type": "code",
   "execution_count": 62,
   "metadata": {},
   "outputs": [
    {
     "data": {
      "text/plain": [
       "0.15"
      ]
     },
     "execution_count": 62,
     "metadata": {},
     "output_type": "execute_result"
    }
   ],
   "source": [
    "1.2/8"
   ]
  }
 ],
 "metadata": {
  "hide_input": false,
  "kernelspec": {
   "display_name": "Python 3",
   "language": "python",
   "name": "python3"
  },
  "language_info": {
   "codemirror_mode": {
    "name": "ipython",
    "version": 3
   },
   "file_extension": ".py",
   "mimetype": "text/x-python",
   "name": "python",
   "nbconvert_exporter": "python",
   "pygments_lexer": "ipython3",
   "version": "3.6.5"
  },
  "toc": {
   "base_numbering": 1,
   "nav_menu": {},
   "number_sections": true,
   "sideBar": true,
   "skip_h1_title": false,
   "title_cell": "Table of Contents",
   "title_sidebar": "Contents",
   "toc_cell": false,
   "toc_position": {},
   "toc_section_display": true,
   "toc_window_display": false
  }
 },
 "nbformat": 4,
 "nbformat_minor": 2
}
